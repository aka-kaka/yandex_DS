{
 "cells": [
  {
   "cell_type": "markdown",
   "id": "e983a2b4",
   "metadata": {
    "deletable": false,
    "editable": false,
    "id": "c81daeeb"
   },
   "source": [
    "# Исследование надежности заемщиков\n"
   ]
  },
  {
   "cell_type": "markdown",
   "id": "5d87f934-8dff-44f8-beab-eea713045a80",
   "metadata": {},
   "source": [
    "<h2>  Описание проекта:  </h2> \n",
    "    <p>\n",
    "<b>Заказчик</b> — кредитный отдел банка. <p> Нужно разобраться, влияет ли семейное положение и количество детей клиента на факт погашения кредита в срок.<p>\n",
    "     проверяемые гипотезы:\n",
    "<ol type=\"1\">\n",
    "<li>Есть ли зависимость между количеством детей и возвратом кредита в срок?</li>\n",
    "<li>Есть ли зависимость между уровнем дохода и возвратом кредита в срок? </li>\n",
    "<li>Как разные цели кредита влияют на его возврат в срок? </li>\n",
    "</ol> \n",
    "\n",
    "<b>Входные данные:</b> — статистика о платёжеспособности клиентов.\n",
    "Результаты исследования будут учтены при построении модели кредитного скоринга.\n",
    "    \n",
    "<h2>Описание данных:</h2>\n",
    "<p>\n",
    "<ol>\n",
    "<li>children — количество детей в семье</li>\n",
    "<li>days_employed — общий трудовой стаж в днях</li>\n",
    "<li>dob_years — возраст клиента в годах</li>\n",
    "<li>education — уровень образования клиента</li>\n",
    "<li>education_id — идентификатор уровня образования</li>\n",
    "<li>family_status — семейное положение</li>\n",
    "<li>family_status_id — идентификатор семейного положения</li>\n",
    "<li>gender — пол клиента</li>\n",
    "<li>income_type — тип занятости</li>\n",
    "<li>debt — имел ли задолженность по возврату кредитов</li>\n",
    "<li>total_income — ежемесячный доход</li>\n",
    "<li>purpose — цель получения кредита  </li>"
   ]
  },
  {
   "cell_type": "markdown",
   "id": "3bdb6e96",
   "metadata": {
    "deletable": false,
    "editable": false,
    "id": "827c20bf"
   },
   "source": [
    "Во второй части проекта вы выполните шаги 3 и 4. Их вручную проверит ревьюер.\n",
    "Чтобы вам не пришлось писать код заново для шагов 1 и 2, мы добавили авторские решения в ячейки с кодом. \n",
    "\n"
   ]
  },
  {
   "cell_type": "markdown",
   "id": "6f3e3105",
   "metadata": {},
   "source": [
    "<div class=\"alert alert-info\">\n",
    "<b>Комментарий ревьера:</b> Проверка начинается с <a href=#link>шага 3</a></div>   "
   ]
  },
  {
   "cell_type": "markdown",
   "id": "fc6331f4",
   "metadata": {
    "deletable": false,
    "editable": false,
    "id": "744d7639"
   },
   "source": [
    "## Откройте таблицу и изучите общую информацию о данных"
   ]
  },
  {
   "cell_type": "markdown",
   "id": "01a6828d",
   "metadata": {
    "deletable": false,
    "editable": false,
    "id": "e7a14c31"
   },
   "source": [
    "**Задание 1. Импортируйте библиотеку pandas. Считайте данные из csv-файла в датафрейм и сохраните в переменную `data`. Путь к файлу:**\n",
    "\n",
    "`/datasets/data.csv`"
   ]
  },
  {
   "cell_type": "code",
   "execution_count": 1,
   "id": "ed68495c",
   "metadata": {
    "deletable": false,
    "id": "7bcf75c9"
   },
   "outputs": [],
   "source": [
    "import pandas as pd\n",
    "\n",
    "try:\n",
    "    data = pd.read_csv('/datasets/data.csv')\n",
    "except:\n",
    "    data = pd.read_csv('https://code.s3.yandex.net/datasets/data.csv')"
   ]
  },
  {
   "cell_type": "markdown",
   "id": "b6f2b0de",
   "metadata": {
    "deletable": false,
    "editable": false,
    "id": "b8038fe3"
   },
   "source": [
    "**Задание 2. Выведите первые 20 строчек датафрейма `data` на экран.**"
   ]
  },
  {
   "cell_type": "code",
   "execution_count": 2,
   "id": "1357d45e",
   "metadata": {
    "deletable": false,
    "id": "2a7cab99",
    "outputId": "1a8f3ef2-d323-4ec2-ddf7-89670b5944c4"
   },
   "outputs": [
    {
     "data": {
      "text/html": [
       "<div>\n",
       "<style scoped>\n",
       "    .dataframe tbody tr th:only-of-type {\n",
       "        vertical-align: middle;\n",
       "    }\n",
       "\n",
       "    .dataframe tbody tr th {\n",
       "        vertical-align: top;\n",
       "    }\n",
       "\n",
       "    .dataframe thead th {\n",
       "        text-align: right;\n",
       "    }\n",
       "</style>\n",
       "<table border=\"1\" class=\"dataframe\">\n",
       "  <thead>\n",
       "    <tr style=\"text-align: right;\">\n",
       "      <th></th>\n",
       "      <th>children</th>\n",
       "      <th>days_employed</th>\n",
       "      <th>dob_years</th>\n",
       "      <th>education</th>\n",
       "      <th>education_id</th>\n",
       "      <th>family_status</th>\n",
       "      <th>family_status_id</th>\n",
       "      <th>gender</th>\n",
       "      <th>income_type</th>\n",
       "      <th>debt</th>\n",
       "      <th>total_income</th>\n",
       "      <th>purpose</th>\n",
       "    </tr>\n",
       "  </thead>\n",
       "  <tbody>\n",
       "    <tr>\n",
       "      <th>0</th>\n",
       "      <td>1</td>\n",
       "      <td>-8437.673028</td>\n",
       "      <td>42</td>\n",
       "      <td>высшее</td>\n",
       "      <td>0</td>\n",
       "      <td>женат / замужем</td>\n",
       "      <td>0</td>\n",
       "      <td>F</td>\n",
       "      <td>сотрудник</td>\n",
       "      <td>0</td>\n",
       "      <td>253875.639453</td>\n",
       "      <td>покупка жилья</td>\n",
       "    </tr>\n",
       "    <tr>\n",
       "      <th>1</th>\n",
       "      <td>1</td>\n",
       "      <td>-4024.803754</td>\n",
       "      <td>36</td>\n",
       "      <td>среднее</td>\n",
       "      <td>1</td>\n",
       "      <td>женат / замужем</td>\n",
       "      <td>0</td>\n",
       "      <td>F</td>\n",
       "      <td>сотрудник</td>\n",
       "      <td>0</td>\n",
       "      <td>112080.014102</td>\n",
       "      <td>приобретение автомобиля</td>\n",
       "    </tr>\n",
       "    <tr>\n",
       "      <th>2</th>\n",
       "      <td>0</td>\n",
       "      <td>-5623.422610</td>\n",
       "      <td>33</td>\n",
       "      <td>Среднее</td>\n",
       "      <td>1</td>\n",
       "      <td>женат / замужем</td>\n",
       "      <td>0</td>\n",
       "      <td>M</td>\n",
       "      <td>сотрудник</td>\n",
       "      <td>0</td>\n",
       "      <td>145885.952297</td>\n",
       "      <td>покупка жилья</td>\n",
       "    </tr>\n",
       "    <tr>\n",
       "      <th>3</th>\n",
       "      <td>3</td>\n",
       "      <td>-4124.747207</td>\n",
       "      <td>32</td>\n",
       "      <td>среднее</td>\n",
       "      <td>1</td>\n",
       "      <td>женат / замужем</td>\n",
       "      <td>0</td>\n",
       "      <td>M</td>\n",
       "      <td>сотрудник</td>\n",
       "      <td>0</td>\n",
       "      <td>267628.550329</td>\n",
       "      <td>дополнительное образование</td>\n",
       "    </tr>\n",
       "    <tr>\n",
       "      <th>4</th>\n",
       "      <td>0</td>\n",
       "      <td>340266.072047</td>\n",
       "      <td>53</td>\n",
       "      <td>среднее</td>\n",
       "      <td>1</td>\n",
       "      <td>гражданский брак</td>\n",
       "      <td>1</td>\n",
       "      <td>F</td>\n",
       "      <td>пенсионер</td>\n",
       "      <td>0</td>\n",
       "      <td>158616.077870</td>\n",
       "      <td>сыграть свадьбу</td>\n",
       "    </tr>\n",
       "    <tr>\n",
       "      <th>5</th>\n",
       "      <td>0</td>\n",
       "      <td>-926.185831</td>\n",
       "      <td>27</td>\n",
       "      <td>высшее</td>\n",
       "      <td>0</td>\n",
       "      <td>гражданский брак</td>\n",
       "      <td>1</td>\n",
       "      <td>M</td>\n",
       "      <td>компаньон</td>\n",
       "      <td>0</td>\n",
       "      <td>255763.565419</td>\n",
       "      <td>покупка жилья</td>\n",
       "    </tr>\n",
       "    <tr>\n",
       "      <th>6</th>\n",
       "      <td>0</td>\n",
       "      <td>-2879.202052</td>\n",
       "      <td>43</td>\n",
       "      <td>высшее</td>\n",
       "      <td>0</td>\n",
       "      <td>женат / замужем</td>\n",
       "      <td>0</td>\n",
       "      <td>F</td>\n",
       "      <td>компаньон</td>\n",
       "      <td>0</td>\n",
       "      <td>240525.971920</td>\n",
       "      <td>операции с жильем</td>\n",
       "    </tr>\n",
       "    <tr>\n",
       "      <th>7</th>\n",
       "      <td>0</td>\n",
       "      <td>-152.779569</td>\n",
       "      <td>50</td>\n",
       "      <td>СРЕДНЕЕ</td>\n",
       "      <td>1</td>\n",
       "      <td>женат / замужем</td>\n",
       "      <td>0</td>\n",
       "      <td>M</td>\n",
       "      <td>сотрудник</td>\n",
       "      <td>0</td>\n",
       "      <td>135823.934197</td>\n",
       "      <td>образование</td>\n",
       "    </tr>\n",
       "    <tr>\n",
       "      <th>8</th>\n",
       "      <td>2</td>\n",
       "      <td>-6929.865299</td>\n",
       "      <td>35</td>\n",
       "      <td>ВЫСШЕЕ</td>\n",
       "      <td>0</td>\n",
       "      <td>гражданский брак</td>\n",
       "      <td>1</td>\n",
       "      <td>F</td>\n",
       "      <td>сотрудник</td>\n",
       "      <td>0</td>\n",
       "      <td>95856.832424</td>\n",
       "      <td>на проведение свадьбы</td>\n",
       "    </tr>\n",
       "    <tr>\n",
       "      <th>9</th>\n",
       "      <td>0</td>\n",
       "      <td>-2188.756445</td>\n",
       "      <td>41</td>\n",
       "      <td>среднее</td>\n",
       "      <td>1</td>\n",
       "      <td>женат / замужем</td>\n",
       "      <td>0</td>\n",
       "      <td>M</td>\n",
       "      <td>сотрудник</td>\n",
       "      <td>0</td>\n",
       "      <td>144425.938277</td>\n",
       "      <td>покупка жилья для семьи</td>\n",
       "    </tr>\n",
       "    <tr>\n",
       "      <th>10</th>\n",
       "      <td>2</td>\n",
       "      <td>-4171.483647</td>\n",
       "      <td>36</td>\n",
       "      <td>высшее</td>\n",
       "      <td>0</td>\n",
       "      <td>женат / замужем</td>\n",
       "      <td>0</td>\n",
       "      <td>M</td>\n",
       "      <td>компаньон</td>\n",
       "      <td>0</td>\n",
       "      <td>113943.491460</td>\n",
       "      <td>покупка недвижимости</td>\n",
       "    </tr>\n",
       "    <tr>\n",
       "      <th>11</th>\n",
       "      <td>0</td>\n",
       "      <td>-792.701887</td>\n",
       "      <td>40</td>\n",
       "      <td>среднее</td>\n",
       "      <td>1</td>\n",
       "      <td>женат / замужем</td>\n",
       "      <td>0</td>\n",
       "      <td>F</td>\n",
       "      <td>сотрудник</td>\n",
       "      <td>0</td>\n",
       "      <td>77069.234271</td>\n",
       "      <td>покупка коммерческой недвижимости</td>\n",
       "    </tr>\n",
       "    <tr>\n",
       "      <th>12</th>\n",
       "      <td>0</td>\n",
       "      <td>NaN</td>\n",
       "      <td>65</td>\n",
       "      <td>среднее</td>\n",
       "      <td>1</td>\n",
       "      <td>гражданский брак</td>\n",
       "      <td>1</td>\n",
       "      <td>M</td>\n",
       "      <td>пенсионер</td>\n",
       "      <td>0</td>\n",
       "      <td>NaN</td>\n",
       "      <td>сыграть свадьбу</td>\n",
       "    </tr>\n",
       "    <tr>\n",
       "      <th>13</th>\n",
       "      <td>0</td>\n",
       "      <td>-1846.641941</td>\n",
       "      <td>54</td>\n",
       "      <td>неоконченное высшее</td>\n",
       "      <td>2</td>\n",
       "      <td>женат / замужем</td>\n",
       "      <td>0</td>\n",
       "      <td>F</td>\n",
       "      <td>сотрудник</td>\n",
       "      <td>0</td>\n",
       "      <td>130458.228857</td>\n",
       "      <td>приобретение автомобиля</td>\n",
       "    </tr>\n",
       "    <tr>\n",
       "      <th>14</th>\n",
       "      <td>0</td>\n",
       "      <td>-1844.956182</td>\n",
       "      <td>56</td>\n",
       "      <td>высшее</td>\n",
       "      <td>0</td>\n",
       "      <td>гражданский брак</td>\n",
       "      <td>1</td>\n",
       "      <td>F</td>\n",
       "      <td>компаньон</td>\n",
       "      <td>1</td>\n",
       "      <td>165127.911772</td>\n",
       "      <td>покупка жилой недвижимости</td>\n",
       "    </tr>\n",
       "    <tr>\n",
       "      <th>15</th>\n",
       "      <td>1</td>\n",
       "      <td>-972.364419</td>\n",
       "      <td>26</td>\n",
       "      <td>среднее</td>\n",
       "      <td>1</td>\n",
       "      <td>женат / замужем</td>\n",
       "      <td>0</td>\n",
       "      <td>F</td>\n",
       "      <td>сотрудник</td>\n",
       "      <td>0</td>\n",
       "      <td>116820.904450</td>\n",
       "      <td>строительство собственной недвижимости</td>\n",
       "    </tr>\n",
       "    <tr>\n",
       "      <th>16</th>\n",
       "      <td>0</td>\n",
       "      <td>-1719.934226</td>\n",
       "      <td>35</td>\n",
       "      <td>среднее</td>\n",
       "      <td>1</td>\n",
       "      <td>женат / замужем</td>\n",
       "      <td>0</td>\n",
       "      <td>F</td>\n",
       "      <td>сотрудник</td>\n",
       "      <td>0</td>\n",
       "      <td>289202.704229</td>\n",
       "      <td>недвижимость</td>\n",
       "    </tr>\n",
       "    <tr>\n",
       "      <th>17</th>\n",
       "      <td>0</td>\n",
       "      <td>-2369.999720</td>\n",
       "      <td>33</td>\n",
       "      <td>высшее</td>\n",
       "      <td>0</td>\n",
       "      <td>гражданский брак</td>\n",
       "      <td>1</td>\n",
       "      <td>M</td>\n",
       "      <td>сотрудник</td>\n",
       "      <td>0</td>\n",
       "      <td>90410.586745</td>\n",
       "      <td>строительство недвижимости</td>\n",
       "    </tr>\n",
       "    <tr>\n",
       "      <th>18</th>\n",
       "      <td>0</td>\n",
       "      <td>400281.136913</td>\n",
       "      <td>53</td>\n",
       "      <td>среднее</td>\n",
       "      <td>1</td>\n",
       "      <td>вдовец / вдова</td>\n",
       "      <td>2</td>\n",
       "      <td>F</td>\n",
       "      <td>пенсионер</td>\n",
       "      <td>0</td>\n",
       "      <td>56823.777243</td>\n",
       "      <td>на покупку подержанного автомобиля</td>\n",
       "    </tr>\n",
       "    <tr>\n",
       "      <th>19</th>\n",
       "      <td>0</td>\n",
       "      <td>-10038.818549</td>\n",
       "      <td>48</td>\n",
       "      <td>СРЕДНЕЕ</td>\n",
       "      <td>1</td>\n",
       "      <td>в разводе</td>\n",
       "      <td>3</td>\n",
       "      <td>F</td>\n",
       "      <td>сотрудник</td>\n",
       "      <td>0</td>\n",
       "      <td>242831.107982</td>\n",
       "      <td>на покупку своего автомобиля</td>\n",
       "    </tr>\n",
       "  </tbody>\n",
       "</table>\n",
       "</div>"
      ],
      "text/plain": [
       "    children  days_employed  dob_years            education  education_id  \\\n",
       "0          1   -8437.673028         42               высшее             0   \n",
       "1          1   -4024.803754         36              среднее             1   \n",
       "2          0   -5623.422610         33              Среднее             1   \n",
       "3          3   -4124.747207         32              среднее             1   \n",
       "4          0  340266.072047         53              среднее             1   \n",
       "5          0    -926.185831         27               высшее             0   \n",
       "6          0   -2879.202052         43               высшее             0   \n",
       "7          0    -152.779569         50              СРЕДНЕЕ             1   \n",
       "8          2   -6929.865299         35               ВЫСШЕЕ             0   \n",
       "9          0   -2188.756445         41              среднее             1   \n",
       "10         2   -4171.483647         36               высшее             0   \n",
       "11         0    -792.701887         40              среднее             1   \n",
       "12         0            NaN         65              среднее             1   \n",
       "13         0   -1846.641941         54  неоконченное высшее             2   \n",
       "14         0   -1844.956182         56               высшее             0   \n",
       "15         1    -972.364419         26              среднее             1   \n",
       "16         0   -1719.934226         35              среднее             1   \n",
       "17         0   -2369.999720         33               высшее             0   \n",
       "18         0  400281.136913         53              среднее             1   \n",
       "19         0  -10038.818549         48              СРЕДНЕЕ             1   \n",
       "\n",
       "       family_status  family_status_id gender income_type  debt  \\\n",
       "0    женат / замужем                 0      F   сотрудник     0   \n",
       "1    женат / замужем                 0      F   сотрудник     0   \n",
       "2    женат / замужем                 0      M   сотрудник     0   \n",
       "3    женат / замужем                 0      M   сотрудник     0   \n",
       "4   гражданский брак                 1      F   пенсионер     0   \n",
       "5   гражданский брак                 1      M   компаньон     0   \n",
       "6    женат / замужем                 0      F   компаньон     0   \n",
       "7    женат / замужем                 0      M   сотрудник     0   \n",
       "8   гражданский брак                 1      F   сотрудник     0   \n",
       "9    женат / замужем                 0      M   сотрудник     0   \n",
       "10   женат / замужем                 0      M   компаньон     0   \n",
       "11   женат / замужем                 0      F   сотрудник     0   \n",
       "12  гражданский брак                 1      M   пенсионер     0   \n",
       "13   женат / замужем                 0      F   сотрудник     0   \n",
       "14  гражданский брак                 1      F   компаньон     1   \n",
       "15   женат / замужем                 0      F   сотрудник     0   \n",
       "16   женат / замужем                 0      F   сотрудник     0   \n",
       "17  гражданский брак                 1      M   сотрудник     0   \n",
       "18    вдовец / вдова                 2      F   пенсионер     0   \n",
       "19         в разводе                 3      F   сотрудник     0   \n",
       "\n",
       "     total_income                                 purpose  \n",
       "0   253875.639453                           покупка жилья  \n",
       "1   112080.014102                 приобретение автомобиля  \n",
       "2   145885.952297                           покупка жилья  \n",
       "3   267628.550329              дополнительное образование  \n",
       "4   158616.077870                         сыграть свадьбу  \n",
       "5   255763.565419                           покупка жилья  \n",
       "6   240525.971920                       операции с жильем  \n",
       "7   135823.934197                             образование  \n",
       "8    95856.832424                   на проведение свадьбы  \n",
       "9   144425.938277                 покупка жилья для семьи  \n",
       "10  113943.491460                    покупка недвижимости  \n",
       "11   77069.234271       покупка коммерческой недвижимости  \n",
       "12            NaN                         сыграть свадьбу  \n",
       "13  130458.228857                 приобретение автомобиля  \n",
       "14  165127.911772              покупка жилой недвижимости  \n",
       "15  116820.904450  строительство собственной недвижимости  \n",
       "16  289202.704229                            недвижимость  \n",
       "17   90410.586745              строительство недвижимости  \n",
       "18   56823.777243      на покупку подержанного автомобиля  \n",
       "19  242831.107982            на покупку своего автомобиля  "
      ]
     },
     "execution_count": 2,
     "metadata": {},
     "output_type": "execute_result"
    }
   ],
   "source": [
    "data.head(20)"
   ]
  },
  {
   "cell_type": "markdown",
   "id": "c25d51e9",
   "metadata": {
    "deletable": false,
    "editable": false,
    "id": "1c12e233"
   },
   "source": [
    "**Задание 3. Выведите основную информацию о датафрейме с помощью метода `info()`.**"
   ]
  },
  {
   "cell_type": "code",
   "execution_count": 3,
   "id": "13b887f2",
   "metadata": {
    "deletable": false,
    "id": "2b757bca",
    "outputId": "15376089-8dad-46c9-b520-c05248d43158"
   },
   "outputs": [
    {
     "name": "stdout",
     "output_type": "stream",
     "text": [
      "<class 'pandas.core.frame.DataFrame'>\n",
      "RangeIndex: 21525 entries, 0 to 21524\n",
      "Data columns (total 12 columns):\n",
      " #   Column            Non-Null Count  Dtype  \n",
      "---  ------            --------------  -----  \n",
      " 0   children          21525 non-null  int64  \n",
      " 1   days_employed     19351 non-null  float64\n",
      " 2   dob_years         21525 non-null  int64  \n",
      " 3   education         21525 non-null  object \n",
      " 4   education_id      21525 non-null  int64  \n",
      " 5   family_status     21525 non-null  object \n",
      " 6   family_status_id  21525 non-null  int64  \n",
      " 7   gender            21525 non-null  object \n",
      " 8   income_type       21525 non-null  object \n",
      " 9   debt              21525 non-null  int64  \n",
      " 10  total_income      19351 non-null  float64\n",
      " 11  purpose           21525 non-null  object \n",
      "dtypes: float64(2), int64(5), object(5)\n",
      "memory usage: 2.0+ MB\n"
     ]
    }
   ],
   "source": [
    "data.info()"
   ]
  },
  {
   "cell_type": "markdown",
   "id": "2b101bfe",
   "metadata": {
    "deletable": false,
    "editable": false,
    "id": "333ec665"
   },
   "source": [
    "## Предобработка данных"
   ]
  },
  {
   "cell_type": "markdown",
   "id": "77565580",
   "metadata": {
    "deletable": false,
    "editable": false,
    "id": "02d92d53"
   },
   "source": [
    "### Удаление пропусков"
   ]
  },
  {
   "cell_type": "markdown",
   "id": "33cd65ef",
   "metadata": {
    "deletable": false,
    "editable": false,
    "id": "cd84967c"
   },
   "source": [
    "**Задание 4. Выведите количество пропущенных значений для каждого столбца. Используйте комбинацию двух методов.**"
   ]
  },
  {
   "cell_type": "code",
   "execution_count": 4,
   "id": "2f7b1c45",
   "metadata": {
    "deletable": false,
    "id": "7f9b2309",
    "outputId": "81f4d817-781c-465c-ed15-91ce4446810d"
   },
   "outputs": [
    {
     "data": {
      "text/plain": [
       "children               0\n",
       "days_employed       2174\n",
       "dob_years              0\n",
       "education              0\n",
       "education_id           0\n",
       "family_status          0\n",
       "family_status_id       0\n",
       "gender                 0\n",
       "income_type            0\n",
       "debt                   0\n",
       "total_income        2174\n",
       "purpose                0\n",
       "dtype: int64"
      ]
     },
     "execution_count": 4,
     "metadata": {},
     "output_type": "execute_result"
    }
   ],
   "source": [
    "data.isna().sum()"
   ]
  },
  {
   "cell_type": "markdown",
   "id": "751061cd",
   "metadata": {
    "deletable": false,
    "editable": false,
    "id": "db86e27b"
   },
   "source": [
    "**Задание 5. В двух столбцах есть пропущенные значения. Один из них — `days_employed`. Пропуски в этом столбце вы обработаете на следующем этапе. Другой столбец с пропущенными значениями — `total_income` — хранит данные о доходах. На сумму дохода сильнее всего влияет тип занятости, поэтому заполнить пропуски в этом столбце нужно медианным значением по каждому типу из столбца `income_type`. Например, у человека с типом занятости `сотрудник` пропуск в столбце `total_income` должен быть заполнен медианным доходом среди всех записей с тем же типом.**"
   ]
  },
  {
   "cell_type": "code",
   "execution_count": 5,
   "id": "cfd8f428",
   "metadata": {
    "deletable": false,
    "id": "42006a93"
   },
   "outputs": [],
   "source": [
    "for item in data['income_type'].unique():\n",
    "    data.loc[(data['income_type'] == item) & (data['total_income'].isna()), 'total_income'] = \\\n",
    "    data.loc[(data['income_type'] == item), 'total_income'].median()"
   ]
  },
  {
   "cell_type": "markdown",
   "id": "216d3cfc",
   "metadata": {
    "deletable": false,
    "editable": false,
    "id": "89da5ece"
   },
   "source": [
    "### Обработка аномальных значений"
   ]
  },
  {
   "cell_type": "markdown",
   "id": "8e0a1439",
   "metadata": {
    "deletable": false,
    "editable": false,
    "id": "57964554"
   },
   "source": [
    "**Задание 6. В данных могут встречаться артефакты (аномалии) — значения, которые не отражают действительность и появились по какой-то ошибке. таким артефактом будет отрицательное количество дней трудового стажа в столбце `days_employed`. Для реальных данных это нормально. Обработайте значения в этом столбце: замените все отрицательные значения положительными с помощью метода `abs()`.**"
   ]
  },
  {
   "cell_type": "code",
   "execution_count": 6,
   "id": "d46cd9c9",
   "metadata": {
    "deletable": false,
    "id": "f6f055bf"
   },
   "outputs": [],
   "source": [
    "data['days_employed'] = data['days_employed'].abs()"
   ]
  },
  {
   "cell_type": "markdown",
   "id": "455593ed",
   "metadata": {
    "deletable": false,
    "editable": false,
    "id": "6107dd2f"
   },
   "source": [
    "**Задание 7. Для каждого типа занятости выведите медианное значение трудового стажа `days_employed` в днях.**"
   ]
  },
  {
   "cell_type": "code",
   "execution_count": 7,
   "id": "023f0bd1",
   "metadata": {
    "deletable": false,
    "id": "85a5faf6",
    "outputId": "801ef80e-522b-4668-f34e-565af7432bcf"
   },
   "outputs": [
    {
     "data": {
      "text/plain": [
       "income_type\n",
       "безработный        366413.652744\n",
       "в декрете            3296.759962\n",
       "госслужащий          2689.368353\n",
       "компаньон            1547.382223\n",
       "пенсионер          365213.306266\n",
       "предприниматель       520.848083\n",
       "сотрудник            1574.202821\n",
       "студент               578.751554\n",
       "Name: days_employed, dtype: float64"
      ]
     },
     "execution_count": 7,
     "metadata": {},
     "output_type": "execute_result"
    }
   ],
   "source": [
    "data.groupby('income_type')['days_employed'].agg('median')"
   ]
  },
  {
   "cell_type": "markdown",
   "id": "582bd532",
   "metadata": {
    "deletable": false,
    "editable": false,
    "id": "38d1a030"
   },
   "source": [
    "У двух типов (безработные и пенсионеры) получатся аномально большие значения. Исправить такие значения сложно, поэтому оставьте их как есть. Тем более этот столбец не понадобится вам для исследования."
   ]
  },
  {
   "cell_type": "markdown",
   "id": "4d15735a",
   "metadata": {
    "deletable": false,
    "editable": false,
    "id": "d8a9f147"
   },
   "source": [
    "**Задание 8. Выведите перечень уникальных значений столбца `children`.**"
   ]
  },
  {
   "cell_type": "code",
   "execution_count": 8,
   "id": "0789be04",
   "metadata": {
    "deletable": false,
    "id": "ef5056eb",
    "outputId": "6975b15c-7f95-4697-d16d-a0c79b657b03"
   },
   "outputs": [
    {
     "data": {
      "text/plain": [
       "array([ 1,  0,  3,  2, -1,  4, 20,  5])"
      ]
     },
     "execution_count": 8,
     "metadata": {},
     "output_type": "execute_result"
    }
   ],
   "source": [
    "data['children'].unique()"
   ]
  },
  {
   "cell_type": "markdown",
   "id": "f9f4fe4c",
   "metadata": {
    "deletable": false,
    "editable": false,
    "id": "40b9ebf2"
   },
   "source": [
    "**Задание 9. В столбце `children` есть два аномальных значения. Удалите строки, в которых встречаются такие аномальные значения из датафрейма `data`.**"
   ]
  },
  {
   "cell_type": "code",
   "execution_count": 9,
   "id": "0732eae7",
   "metadata": {
    "deletable": false,
    "id": "3ff9801d"
   },
   "outputs": [],
   "source": [
    "data = data[(data['children'] != -1) & (data['children'] != 20)]"
   ]
  },
  {
   "cell_type": "markdown",
   "id": "dac1646d",
   "metadata": {
    "deletable": false,
    "editable": false,
    "id": "bbc4d0ce"
   },
   "source": [
    "**Задание 10. Ещё раз выведите перечень уникальных значений столбца `children`, чтобы убедиться, что артефакты удалены.**"
   ]
  },
  {
   "cell_type": "code",
   "execution_count": 10,
   "id": "74611234",
   "metadata": {
    "deletable": false,
    "id": "ad4fa8b7",
    "outputId": "b2097101-d49d-44d9-901b-32a65c9463d1"
   },
   "outputs": [
    {
     "data": {
      "text/plain": [
       "array([1, 0, 3, 2, 4, 5])"
      ]
     },
     "execution_count": 10,
     "metadata": {},
     "output_type": "execute_result"
    }
   ],
   "source": [
    "data['children'].unique()"
   ]
  },
  {
   "cell_type": "markdown",
   "id": "df65f758",
   "metadata": {
    "deletable": false,
    "editable": false,
    "id": "75440b63"
   },
   "source": [
    "### Удаление пропусков (продолжение)"
   ]
  },
  {
   "cell_type": "markdown",
   "id": "95f1d5ba",
   "metadata": {
    "deletable": false,
    "editable": false,
    "id": "f4ea573f"
   },
   "source": [
    "**Задание 11. Заполните пропуски в столбце `days_employed` медианными значениями по каждого типа занятости `income_type`.**"
   ]
  },
  {
   "cell_type": "code",
   "execution_count": 11,
   "id": "99551edb",
   "metadata": {
    "deletable": false,
    "id": "af6b1a7e"
   },
   "outputs": [],
   "source": [
    "for inc_type in data['income_type'].unique():\n",
    "    data.loc[(data['income_type'] == inc_type) & (data['days_employed'].isna()), 'days_employed'] = \\\n",
    "    data.loc[(data['income_type'] == inc_type), 'days_employed'].median()"
   ]
  },
  {
   "cell_type": "markdown",
   "id": "718bfa04",
   "metadata": {
    "deletable": false,
    "editable": false,
    "id": "2753f40d"
   },
   "source": [
    "**Задание 12. Убедитесь, что все пропуски заполнены. Проверьте себя и ещё раз выведите количество пропущенных значений для каждого столбца с помощью двух методов.**"
   ]
  },
  {
   "cell_type": "code",
   "execution_count": 12,
   "id": "55fce6bf",
   "metadata": {
    "deletable": false,
    "id": "55f78bc2",
    "outputId": "8da1e4e1-358e-4e87-98c9-f261bce0a7b2"
   },
   "outputs": [
    {
     "data": {
      "text/plain": [
       "children            0\n",
       "days_employed       0\n",
       "dob_years           0\n",
       "education           0\n",
       "education_id        0\n",
       "family_status       0\n",
       "family_status_id    0\n",
       "gender              0\n",
       "income_type         0\n",
       "debt                0\n",
       "total_income        0\n",
       "purpose             0\n",
       "dtype: int64"
      ]
     },
     "execution_count": 12,
     "metadata": {},
     "output_type": "execute_result"
    }
   ],
   "source": [
    "data.isna().sum()"
   ]
  },
  {
   "cell_type": "markdown",
   "id": "b5c6d346",
   "metadata": {
    "deletable": false,
    "editable": false,
    "id": "ddc81e43"
   },
   "source": [
    "### Изменение типов данных"
   ]
  },
  {
   "cell_type": "markdown",
   "id": "e9393f57",
   "metadata": {
    "deletable": false,
    "editable": false,
    "id": "42d19d24"
   },
   "source": [
    "**Задание 13. Замените вещественный тип данных в столбце `total_income` на целочисленный с помощью метода `astype()`.**"
   ]
  },
  {
   "cell_type": "code",
   "execution_count": 13,
   "id": "8c3f55b9",
   "metadata": {
    "deletable": false,
    "id": "920b65ad"
   },
   "outputs": [],
   "source": [
    "data['total_income'] = data['total_income'].astype(int)"
   ]
  },
  {
   "cell_type": "markdown",
   "id": "c09d98af",
   "metadata": {
    "deletable": false,
    "editable": false,
    "id": "80c420ba"
   },
   "source": [
    "### Обработка дубликатов"
   ]
  },
  {
   "cell_type": "markdown",
   "id": "20524f48",
   "metadata": {
    "deletable": false,
    "editable": false
   },
   "source": [
    "**Задание 14. Обработайте неявные дубликаты в столбце `education`. В этом столбце есть одни и те же значения, но записанные по-разному: с использованием заглавных и строчных букв. Приведите их к нижнему регистру. Проверьте остальные столбцы.**"
   ]
  },
  {
   "cell_type": "code",
   "execution_count": 14,
   "id": "9120e4cc",
   "metadata": {
    "deletable": false
   },
   "outputs": [],
   "source": [
    "data['education'] = data['education'].str.lower()"
   ]
  },
  {
   "cell_type": "markdown",
   "id": "54d0df79",
   "metadata": {
    "deletable": false,
    "editable": false,
    "id": "dc587695"
   },
   "source": [
    "**Задание 15. Выведите на экран количество строк-дубликатов в данных. Если такие строки присутствуют, удалите их.**"
   ]
  },
  {
   "cell_type": "code",
   "execution_count": 15,
   "id": "23ae586d",
   "metadata": {
    "deletable": false,
    "id": "3ee445e4",
    "outputId": "9684deba-1934-42d1-99e1-cda61740f822"
   },
   "outputs": [
    {
     "data": {
      "text/plain": [
       "71"
      ]
     },
     "execution_count": 15,
     "metadata": {},
     "output_type": "execute_result"
    }
   ],
   "source": [
    "data.duplicated().sum()"
   ]
  },
  {
   "cell_type": "code",
   "execution_count": 16,
   "id": "940c71d8",
   "metadata": {
    "deletable": false,
    "id": "8575fe05"
   },
   "outputs": [],
   "source": [
    "data = data.drop_duplicates()"
   ]
  },
  {
   "cell_type": "markdown",
   "id": "299770cc",
   "metadata": {
    "deletable": false,
    "editable": false,
    "id": "9904cf55"
   },
   "source": [
    "### Категоризация данных"
   ]
  },
  {
   "cell_type": "markdown",
   "id": "5fc7400d",
   "metadata": {
    "deletable": false,
    "editable": false,
    "id": "72fcc8a2"
   },
   "source": [
    "**Задание 16. На основании диапазонов, указанных ниже, создайте в датафрейме `data` столбец `total_income_category` с категориями:**\n",
    "\n",
    "- 0–30000 — `'E'`;\n",
    "- 30001–50000 — `'D'`;\n",
    "- 50001–200000 — `'C'`;\n",
    "- 200001–1000000 — `'B'`;\n",
    "- 1000001 и выше — `'A'`.\n",
    "\n",
    "\n",
    "**Например, кредитополучателю с доходом 25000 нужно назначить категорию `'E'`, а клиенту, получающему 235000, — `'B'`. Используйте собственную функцию с именем `categorize_income()` и метод `apply()`.**"
   ]
  },
  {
   "cell_type": "code",
   "execution_count": 17,
   "id": "f5767e68",
   "metadata": {
    "deletable": false,
    "id": "e1771346"
   },
   "outputs": [],
   "source": [
    "def categorize_income(income):\n",
    "    try:\n",
    "        if 0 <= income <= 30000:\n",
    "            return 'E'\n",
    "        elif 30001 <= income <= 50000:\n",
    "            return 'D'\n",
    "        elif 50001 <= income <= 200000:\n",
    "            return 'C'\n",
    "        elif 200001 <= income <= 1000000:\n",
    "            return 'B'\n",
    "        elif income >= 1000001:\n",
    "            return 'A'\n",
    "    except:\n",
    "        pass"
   ]
  },
  {
   "cell_type": "code",
   "execution_count": 18,
   "id": "646e946a",
   "metadata": {
    "deletable": false,
    "id": "d5f3586d"
   },
   "outputs": [],
   "source": [
    "data['total_income_category'] = data['total_income'].apply(categorize_income)"
   ]
  },
  {
   "cell_type": "markdown",
   "id": "5e22d436",
   "metadata": {
    "deletable": false,
    "editable": false,
    "id": "dde49b5c"
   },
   "source": [
    "**Задание 17. Выведите на экран перечень уникальных целей взятия кредита из столбца `purpose`.**"
   ]
  },
  {
   "cell_type": "code",
   "execution_count": 19,
   "id": "0c92ea04",
   "metadata": {
    "deletable": false,
    "id": "f67ce9b3",
    "outputId": "673c12d9-7d7e-4ae0-9812-c622c89dd244"
   },
   "outputs": [
    {
     "data": {
      "text/plain": [
       "array(['покупка жилья', 'приобретение автомобиля',\n",
       "       'дополнительное образование', 'сыграть свадьбу',\n",
       "       'операции с жильем', 'образование', 'на проведение свадьбы',\n",
       "       'покупка жилья для семьи', 'покупка недвижимости',\n",
       "       'покупка коммерческой недвижимости', 'покупка жилой недвижимости',\n",
       "       'строительство собственной недвижимости', 'недвижимость',\n",
       "       'строительство недвижимости', 'на покупку подержанного автомобиля',\n",
       "       'на покупку своего автомобиля',\n",
       "       'операции с коммерческой недвижимостью',\n",
       "       'строительство жилой недвижимости', 'жилье',\n",
       "       'операции со своей недвижимостью', 'автомобили',\n",
       "       'заняться образованием', 'сделка с подержанным автомобилем',\n",
       "       'получение образования', 'автомобиль', 'свадьба',\n",
       "       'получение дополнительного образования', 'покупка своего жилья',\n",
       "       'операции с недвижимостью', 'получение высшего образования',\n",
       "       'свой автомобиль', 'сделка с автомобилем',\n",
       "       'профильное образование', 'высшее образование',\n",
       "       'покупка жилья для сдачи', 'на покупку автомобиля', 'ремонт жилью',\n",
       "       'заняться высшим образованием'], dtype=object)"
      ]
     },
     "execution_count": 19,
     "metadata": {},
     "output_type": "execute_result"
    }
   ],
   "source": [
    "data['purpose'].unique()"
   ]
  },
  {
   "cell_type": "markdown",
   "id": "5b2f01b4",
   "metadata": {
    "deletable": false,
    "editable": false,
    "id": "85d0aef0"
   },
   "source": [
    "**Задание 18. Создайте функцию, которая на основании данных из столбца `purpose` сформирует новый столбец `purpose_category`, в который войдут следующие категории:**\n",
    "\n",
    "- `'операции с автомобилем'`,\n",
    "- `'операции с недвижимостью'`,\n",
    "- `'проведение свадьбы'`,\n",
    "- `'получение образования'`.\n",
    "\n",
    "**Например, если в столбце `purpose` находится подстрока `'на покупку автомобиля'`, то в столбце `purpose_category` должна появиться строка `'операции с автомобилем'`.**\n",
    "\n",
    "**Используйте собственную функцию с именем `categorize_purpose()` и метод `apply()`. Изучите данные в столбце `purpose` и определите, какие подстроки помогут вам правильно определить категорию.**"
   ]
  },
  {
   "cell_type": "code",
   "execution_count": 20,
   "id": "88458cca",
   "metadata": {
    "deletable": false,
    "id": "e149fab4"
   },
   "outputs": [],
   "source": [
    "def categorize_purpose(row):\n",
    "    try:\n",
    "        if 'автом' in row:\n",
    "            return 'операции с автомобилем'\n",
    "        elif 'жил' in row or 'недвиж' in row:\n",
    "            return 'операции с недвижимостью'\n",
    "        elif 'свад' in row:\n",
    "            return 'проведение свадьбы'\n",
    "        elif 'образов' in row:\n",
    "            return 'получение образования'\n",
    "    except:\n",
    "        return 'нет категории'"
   ]
  },
  {
   "cell_type": "code",
   "execution_count": 21,
   "id": "c28d2d54",
   "metadata": {
    "deletable": false,
    "id": "bf36e69b"
   },
   "outputs": [],
   "source": [
    "data['purpose_category'] = data['purpose'].apply(categorize_purpose)"
   ]
  },
  {
   "cell_type": "markdown",
   "id": "09368fcb",
   "metadata": {},
   "source": [
    "<div id='link'></div> "
   ]
  },
  {
   "cell_type": "markdown",
   "id": "f8ba0854-4b0b-4197-9f88-f954ad51d5e9",
   "metadata": {},
   "source": [
    "Представленный набор данных содержит <b>21524</b> записи статистики платежеспособности клиентов банка. <p>\n",
    "В наборе присутствовали <b>2174</b> пропущенных  значения в столбцах  <b>days_employed (общий трудовой стаж в днях) и total_income (ежемесячный доход)</b> которые были заполнены медианными значениями в соответствии с категориями, к которым они относятся. <p>\n",
    "    <ol>\n",
    "<li> В столбце с информацией о числе детей клиентов (children) обнаружены и удалены строки с аномальными значениями.</li>\n",
    "<li>Для простоты обработки и последующей категоризации данные о ежемесячном доходе были приведены к целочисленному типу (отброшена дробная часть).</li>\n",
    "<li>Обработана и удалена 71 строка содержащая дубликаты данных.</li>\n",
    "Проведена категоризация по:\n",
    "<ol>\n",
    "    <li>ежемесячному уровню дохода, добавлены категории A, B, C, D, E которые соответствуют доходу от 1000000 и выше, от 200000 до  1000000, от 50000 до  200000, от 30000 до 50000 и до 30000 соответственно</li>\n",
    "   <li> целям на которые брался кредит (обобщены категории)</li> </ol></ol>"
   ]
  },
  {
   "cell_type": "markdown",
   "id": "bba3becb",
   "metadata": {
    "deletable": false,
    "editable": false,
    "id": "09b242bf"
   },
   "source": [
    "### Шаг 3. Исследуйте данные и ответьте на вопросы"
   ]
  },
  {
   "cell_type": "markdown",
   "id": "f5e7f479",
   "metadata": {
    "deletable": false,
    "editable": false,
    "id": "c5d66278"
   },
   "source": [
    "#### 3.1 Есть ли зависимость между количеством детей и возвратом кредита в срок?"
   ]
  },
  {
   "cell_type": "markdown",
   "id": "f524e54d",
   "metadata": {},
   "source": [
    "Описание данных\n",
    "\n",
    "- `'children'` — количество детей в семье\n",
    "- `'days_employed'` — общий трудовой стаж в днях\n",
    "- `'dob_years'` — возраст клиента в годах\n",
    "- `'education'` — уровень образования клиента\n",
    "- `'education_id'` — идентификатор уровня образования\n",
    "- `'family_status'` — семейное положение\n",
    "- `'family_status_id'` — идентификатор семейного положения\n",
    "- `'gender'` — пол клиента\n",
    "- `'income_type'` — тип занятости\n",
    "- `'debt'` — имел ли задолженность по возврату кредитов\n",
    "- `'total_income'` — ежемесячный доход\n",
    "- `'purpose'` — цель получения кредита\n",
    "- `total_income_category` — категории дохода\n",
    "- `purpose_category` — категории целей кредита \n",
    "- `debt_category` — категории задолженностей \n",
    "- `gender_category` — категории пола \n",
    "- `family_status_category` — категории семейного положения\n",
    "- `children_category` — категории по числу детей"
   ]
  },
  {
   "cell_type": "code",
   "execution_count": 22,
   "id": "a7f27593",
   "metadata": {},
   "outputs": [
    {
     "data": {
      "text/plain": [
       "array(['F', 'M', 'XNA'], dtype=object)"
      ]
     },
     "execution_count": 22,
     "metadata": {},
     "output_type": "execute_result"
    }
   ],
   "source": [
    "data['gender'].unique()"
   ]
  },
  {
   "cell_type": "code",
   "execution_count": 23,
   "id": "6549753c",
   "metadata": {},
   "outputs": [],
   "source": [
    "def categorize_children(count:int)->str:\n",
    "    if count == 0:\n",
    "        return 'нет детей'\n",
    "    elif count == 1:\n",
    "        return 'один ребенок'\n",
    "    elif count == 2:\n",
    "        return 'двое детей'\n",
    "    elif count == 3:\n",
    "        return 'трое детей'\n",
    "    elif count == 4:\n",
    "        return 'четверо детей'\n",
    "    else:\n",
    "        return 'пятеро детей'"
   ]
  },
  {
   "cell_type": "markdown",
   "id": "b1542d6b",
   "metadata": {},
   "source": [
    "функция для создания категорий"
   ]
  },
  {
   "cell_type": "code",
   "execution_count": 24,
   "id": "aaed7b73",
   "metadata": {},
   "outputs": [],
   "source": [
    "data['children_category'] = data['children'].apply(categorize_children)"
   ]
  },
  {
   "cell_type": "markdown",
   "id": "eb523871",
   "metadata": {
    "deletable": false,
    "id": "2cacfc4a"
   },
   "source": [
    "добавляю читаемые данные о детях"
   ]
  },
  {
   "cell_type": "code",
   "execution_count": 25,
   "id": "55d0a4ea",
   "metadata": {},
   "outputs": [],
   "source": [
    "data['debt_category'] = data['debt'].apply(lambda x: 'Имел задолженность' if x == 1 else 'Не имел задолженность')"
   ]
  },
  {
   "cell_type": "markdown",
   "id": "0c1124fc",
   "metadata": {},
   "source": [
    "добавляю категории по задолженностям"
   ]
  },
  {
   "cell_type": "markdown",
   "id": "7e2c6e64",
   "metadata": {},
   "source": [
    "проверяю данные в наборе по половой принадлежности клиента, есть значение, которое нельзя сопоставить с полом человека. нужно проверить сколько записей соответствуют этому значению."
   ]
  },
  {
   "cell_type": "code",
   "execution_count": 26,
   "id": "34c00a93",
   "metadata": {},
   "outputs": [
    {
     "data": {
      "text/plain": [
       "1"
      ]
     },
     "execution_count": 26,
     "metadata": {},
     "output_type": "execute_result"
    }
   ],
   "source": [
    "len(data.loc[data['gender'] == 'XNA'])"
   ]
  },
  {
   "cell_type": "code",
   "execution_count": 27,
   "id": "a7fdbf94",
   "metadata": {},
   "outputs": [],
   "source": [
    "data = data.loc[(data['gender'] != 'XNA')]"
   ]
  },
  {
   "cell_type": "markdown",
   "id": "6ea9aec3",
   "metadata": {},
   "source": [
    "данные можно удалить, так как это одна запись и существенного вклада в расчеты она внести не сможет"
   ]
  },
  {
   "cell_type": "code",
   "execution_count": 28,
   "id": "b11c97ac",
   "metadata": {},
   "outputs": [],
   "source": [
    "data['gender_category'] = data['gender'].apply(lambda x: 'Мужчина' if x =='M' else 'Женщина')"
   ]
  },
  {
   "cell_type": "markdown",
   "id": "f15afa7f",
   "metadata": {},
   "source": [
    "добавляю категории по половой принадлежности клиента"
   ]
  },
  {
   "cell_type": "code",
   "execution_count": 29,
   "id": "79da3fcc",
   "metadata": {
    "scrolled": true
   },
   "outputs": [
    {
     "data": {
      "text/plain": [
       "{'Не женат / не замужем',\n",
       " 'в разводе',\n",
       " 'вдовец / вдова',\n",
       " 'гражданский брак',\n",
       " 'женат / замужем'}"
      ]
     },
     "execution_count": 29,
     "metadata": {},
     "output_type": "execute_result"
    }
   ],
   "source": [
    "set(data.family_status)"
   ]
  },
  {
   "cell_type": "markdown",
   "id": "d0e49899",
   "metadata": {},
   "source": [
    "добавим категории для семейного положния"
   ]
  },
  {
   "cell_type": "code",
   "execution_count": 30,
   "id": "0cade6fb",
   "metadata": {},
   "outputs": [],
   "source": [
    "data['family_status_category'] = \\\n",
    "data['family_status'].apply(lambda x: 'В браке' if x =='женат / замужем' else 'Не в браке')"
   ]
  },
  {
   "cell_type": "code",
   "execution_count": 31,
   "id": "96269692",
   "metadata": {},
   "outputs": [],
   "source": [
    "def get_pivot_table(get_index:list, get_func:list=['sum', 'count', 'mean'], data_frame=data)->pd.DataFrame:\n",
    "\n",
    "    data_pivot_table = data.pivot_table(\n",
    "        index=get_index,\n",
    "        values=['debt'],\n",
    "        aggfunc=get_func)\n",
    "    data_pivot_table = data_pivot_table.droplevel(1, axis=1)\n",
    "    if 'mean' in data_pivot_table.columns:\n",
    "        data_pivot_table.rename({'mean':'correlation'}, axis=1, inplace=True)\n",
    "    return data_pivot_table"
   ]
  },
  {
   "cell_type": "markdown",
   "id": "b7497741",
   "metadata": {},
   "source": [
    "функция для создания сводной таблицы, по задолжнностям и с расчетом отношения общего числа задолженностей к общему числу записей для категории"
   ]
  },
  {
   "cell_type": "code",
   "execution_count": 32,
   "id": "dd15c481",
   "metadata": {},
   "outputs": [],
   "source": [
    "my_pivot_table = get_pivot_table(['children','children_category'])"
   ]
  },
  {
   "cell_type": "code",
   "execution_count": 33,
   "id": "caba6b10",
   "metadata": {},
   "outputs": [
    {
     "data": {
      "text/html": [
       "<div>\n",
       "<style scoped>\n",
       "    .dataframe tbody tr th:only-of-type {\n",
       "        vertical-align: middle;\n",
       "    }\n",
       "\n",
       "    .dataframe tbody tr th {\n",
       "        vertical-align: top;\n",
       "    }\n",
       "\n",
       "    .dataframe thead th {\n",
       "        text-align: right;\n",
       "    }\n",
       "</style>\n",
       "<table border=\"1\" class=\"dataframe\">\n",
       "  <thead>\n",
       "    <tr style=\"text-align: right;\">\n",
       "      <th></th>\n",
       "      <th></th>\n",
       "      <th>sum</th>\n",
       "      <th>count</th>\n",
       "      <th>correlation</th>\n",
       "    </tr>\n",
       "    <tr>\n",
       "      <th>children</th>\n",
       "      <th>children_category</th>\n",
       "      <th></th>\n",
       "      <th></th>\n",
       "      <th></th>\n",
       "    </tr>\n",
       "  </thead>\n",
       "  <tbody>\n",
       "    <tr>\n",
       "      <th>0</th>\n",
       "      <th>нет детей</th>\n",
       "      <td>1063</td>\n",
       "      <td>14090</td>\n",
       "      <td>0.075444</td>\n",
       "    </tr>\n",
       "    <tr>\n",
       "      <th>1</th>\n",
       "      <th>один ребенок</th>\n",
       "      <td>444</td>\n",
       "      <td>4808</td>\n",
       "      <td>0.092346</td>\n",
       "    </tr>\n",
       "    <tr>\n",
       "      <th>2</th>\n",
       "      <th>двое детей</th>\n",
       "      <td>194</td>\n",
       "      <td>2052</td>\n",
       "      <td>0.094542</td>\n",
       "    </tr>\n",
       "    <tr>\n",
       "      <th>3</th>\n",
       "      <th>трое детей</th>\n",
       "      <td>27</td>\n",
       "      <td>330</td>\n",
       "      <td>0.081818</td>\n",
       "    </tr>\n",
       "    <tr>\n",
       "      <th>4</th>\n",
       "      <th>четверо детей</th>\n",
       "      <td>4</td>\n",
       "      <td>41</td>\n",
       "      <td>0.097561</td>\n",
       "    </tr>\n",
       "    <tr>\n",
       "      <th>5</th>\n",
       "      <th>пятеро детей</th>\n",
       "      <td>0</td>\n",
       "      <td>9</td>\n",
       "      <td>0.000000</td>\n",
       "    </tr>\n",
       "  </tbody>\n",
       "</table>\n",
       "</div>"
      ],
      "text/plain": [
       "                             sum  count  correlation\n",
       "children children_category                          \n",
       "0        нет детей          1063  14090     0.075444\n",
       "1        один ребенок        444   4808     0.092346\n",
       "2        двое детей          194   2052     0.094542\n",
       "3        трое детей           27    330     0.081818\n",
       "4        четверо детей         4     41     0.097561\n",
       "5        пятеро детей          0      9     0.000000"
      ]
     },
     "execution_count": 33,
     "metadata": {},
     "output_type": "execute_result"
    }
   ],
   "source": [
    "my_pivot_table"
   ]
  },
  {
   "cell_type": "markdown",
   "id": "959bb98a",
   "metadata": {},
   "source": [
    "данных для анализа клиентов, имеющих пятерых детей, недостаточно. \n",
    "целесообразно исключить эту категорию из анализа текущей гипотезы."
   ]
  },
  {
   "cell_type": "code",
   "execution_count": 34,
   "id": "59034c8f",
   "metadata": {
    "scrolled": true
   },
   "outputs": [
    {
     "data": {
      "text/html": [
       "<div>\n",
       "<style scoped>\n",
       "    .dataframe tbody tr th:only-of-type {\n",
       "        vertical-align: middle;\n",
       "    }\n",
       "\n",
       "    .dataframe tbody tr th {\n",
       "        vertical-align: top;\n",
       "    }\n",
       "\n",
       "    .dataframe thead th {\n",
       "        text-align: right;\n",
       "    }\n",
       "</style>\n",
       "<table border=\"1\" class=\"dataframe\">\n",
       "  <thead>\n",
       "    <tr style=\"text-align: right;\">\n",
       "      <th></th>\n",
       "      <th>children_category</th>\n",
       "      <th>sum</th>\n",
       "      <th>count</th>\n",
       "      <th>correlation</th>\n",
       "    </tr>\n",
       "  </thead>\n",
       "  <tbody>\n",
       "    <tr>\n",
       "      <th>0</th>\n",
       "      <td>нет детей</td>\n",
       "      <td>1063</td>\n",
       "      <td>14090</td>\n",
       "      <td>0.075444</td>\n",
       "    </tr>\n",
       "    <tr>\n",
       "      <th>3</th>\n",
       "      <td>трое детей</td>\n",
       "      <td>27</td>\n",
       "      <td>330</td>\n",
       "      <td>0.081818</td>\n",
       "    </tr>\n",
       "    <tr>\n",
       "      <th>1</th>\n",
       "      <td>один ребенок</td>\n",
       "      <td>444</td>\n",
       "      <td>4808</td>\n",
       "      <td>0.092346</td>\n",
       "    </tr>\n",
       "    <tr>\n",
       "      <th>2</th>\n",
       "      <td>двое детей</td>\n",
       "      <td>194</td>\n",
       "      <td>2052</td>\n",
       "      <td>0.094542</td>\n",
       "    </tr>\n",
       "    <tr>\n",
       "      <th>4</th>\n",
       "      <td>четверо детей</td>\n",
       "      <td>4</td>\n",
       "      <td>41</td>\n",
       "      <td>0.097561</td>\n",
       "    </tr>\n",
       "  </tbody>\n",
       "</table>\n",
       "</div>"
      ],
      "text/plain": [
       "  children_category   sum  count  correlation\n",
       "0         нет детей  1063  14090     0.075444\n",
       "3        трое детей    27    330     0.081818\n",
       "1      один ребенок   444   4808     0.092346\n",
       "2        двое детей   194   2052     0.094542\n",
       "4     четверо детей     4     41     0.097561"
      ]
     },
     "execution_count": 34,
     "metadata": {},
     "output_type": "execute_result"
    }
   ],
   "source": [
    "my_pivot_table = my_pivot_table.reset_index().loc[\n",
    "    my_pivot_table.reset_index()['children'] < 5]\n",
    "\n",
    "my_pivot_table.sort_values(by=('correlation'))[\n",
    "    ['children_category', 'sum', 'count', 'correlation']]"
   ]
  },
  {
   "cell_type": "markdown",
   "id": "d0809a5d",
   "metadata": {},
   "source": [
    "зависимость в подученных данных прослеживается, так число просроченных кредитов у клиентов, которые не имеют детей меньше, чем у клиентов, которые имеют от одного ребенка и больше.\n",
    "дополнительно нужно проверить лучшую группу для выяснения наиболее выгодного клиента и сопоставить данные выявленных клиентов на данных без учета детей"
   ]
  },
  {
   "cell_type": "code",
   "execution_count": 35,
   "id": "519d231b-3cbb-458d-bace-cfd2a1e81ed1",
   "metadata": {},
   "outputs": [],
   "source": [
    "data['children_bool'] = data.loc[data['children'] < 5, 'children'].apply(lambda x: 'нет детей' if x == 0 else 'есть дети')"
   ]
  },
  {
   "cell_type": "code",
   "execution_count": 36,
   "id": "9e8ca109-5b10-407c-bc90-e29c4f22e4c9",
   "metadata": {},
   "outputs": [],
   "source": [
    "my_pivot_table = get_pivot_table(get_index=['children_bool'],\n",
    "                                data_frame=data.loc[data['children_bool'] != None])"
   ]
  },
  {
   "cell_type": "code",
   "execution_count": 37,
   "id": "d67a846f-dc4e-41fa-8b13-3202613943ee",
   "metadata": {
    "tags": []
   },
   "outputs": [
    {
     "data": {
      "text/html": [
       "<div>\n",
       "<style scoped>\n",
       "    .dataframe tbody tr th:only-of-type {\n",
       "        vertical-align: middle;\n",
       "    }\n",
       "\n",
       "    .dataframe tbody tr th {\n",
       "        vertical-align: top;\n",
       "    }\n",
       "\n",
       "    .dataframe thead th {\n",
       "        text-align: right;\n",
       "    }\n",
       "</style>\n",
       "<table border=\"1\" class=\"dataframe\">\n",
       "  <thead>\n",
       "    <tr style=\"text-align: right;\">\n",
       "      <th></th>\n",
       "      <th>sum</th>\n",
       "      <th>count</th>\n",
       "      <th>correlation</th>\n",
       "    </tr>\n",
       "    <tr>\n",
       "      <th>children_bool</th>\n",
       "      <th></th>\n",
       "      <th></th>\n",
       "      <th></th>\n",
       "    </tr>\n",
       "  </thead>\n",
       "  <tbody>\n",
       "    <tr>\n",
       "      <th>нет детей</th>\n",
       "      <td>1063</td>\n",
       "      <td>14090</td>\n",
       "      <td>0.075444</td>\n",
       "    </tr>\n",
       "    <tr>\n",
       "      <th>есть дети</th>\n",
       "      <td>669</td>\n",
       "      <td>7231</td>\n",
       "      <td>0.092518</td>\n",
       "    </tr>\n",
       "  </tbody>\n",
       "</table>\n",
       "</div>"
      ],
      "text/plain": [
       "                sum  count  correlation\n",
       "children_bool                          \n",
       "нет детей      1063  14090     0.075444\n",
       "есть дети       669   7231     0.092518"
      ]
     },
     "execution_count": 37,
     "metadata": {},
     "output_type": "execute_result"
    }
   ],
   "source": [
    "my_pivot_table.sort_values(by=('correlation'))"
   ]
  },
  {
   "cell_type": "code",
   "execution_count": 38,
   "id": "9f69637e-bd20-4fe2-a0d7-ea2c69430487",
   "metadata": {},
   "outputs": [
    {
     "name": "stdout",
     "output_type": "stream",
     "text": [
      "кредиты клиентов у которых есть дети составляют 33.91% от общего числа обращений и процент допущенных задолженностей по категории равен 9.25%\n",
      "кредиты клиентов у которых нет детей составляют 66.09% от общего числа обращений и процент допущенных задолженностей по категории равен 7.54%\n"
     ]
    }
   ],
   "source": [
    "len_data = len(data.loc[data['children'] < 5, 'children'])\n",
    "for i in range(len(my_pivot_table)):\n",
    "    print(f'кредиты клиентов у которых {my_pivot_table.index[i]} составляют {my_pivot_table[\"count\"][i] / len_data:.2%} от общего числа обращений',\n",
    "         f'и процент допущенных задолженностей по категории равен {my_pivot_table[\"correlation\"][i]:.2%}')"
   ]
  },
  {
   "cell_type": "markdown",
   "id": "9936a3b0-b95d-493a-9b6c-8a80c2466f67",
   "metadata": {
    "tags": []
   },
   "source": [
    "данные подтверждяют промежуточные выводы, зависимость между количеством детей и возвратом кредита в срок - прослеживается. <p>\n",
    "Кредиты клиентов у которых нет детей составляют `66.09%` от общего числа обращений и процент допущенных задолженностей по категории равен `7.54%` <p>\n",
    "Кредиты клиентов у которых есть дети составляют `33.91%` от общего числа обращений и процент допущенных задолженностей по категории равен `9.25%` <p>"
   ]
  },
  {
   "cell_type": "markdown",
   "id": "3d095075-da6e-45a2-afd8-358ba5261b1b",
   "metadata": {
    "tags": []
   },
   "source": [
    "проверим лучшую группу "
   ]
  },
  {
   "cell_type": "code",
   "execution_count": 39,
   "id": "d6de61df",
   "metadata": {
    "tags": []
   },
   "outputs": [],
   "source": [
    "my_pivot_table = get_pivot_table(['children', 'children_category', 'gender_category'])"
   ]
  },
  {
   "cell_type": "code",
   "execution_count": 40,
   "id": "a7fc047d",
   "metadata": {},
   "outputs": [
    {
     "data": {
      "text/html": [
       "<div>\n",
       "<style scoped>\n",
       "    .dataframe tbody tr th:only-of-type {\n",
       "        vertical-align: middle;\n",
       "    }\n",
       "\n",
       "    .dataframe tbody tr th {\n",
       "        vertical-align: top;\n",
       "    }\n",
       "\n",
       "    .dataframe thead th {\n",
       "        text-align: right;\n",
       "    }\n",
       "</style>\n",
       "<table border=\"1\" class=\"dataframe\">\n",
       "  <thead>\n",
       "    <tr style=\"text-align: right;\">\n",
       "      <th></th>\n",
       "      <th>children</th>\n",
       "      <th>children_category</th>\n",
       "      <th>gender_category</th>\n",
       "      <th>sum</th>\n",
       "      <th>count</th>\n",
       "      <th>correlation</th>\n",
       "    </tr>\n",
       "  </thead>\n",
       "  <tbody>\n",
       "    <tr>\n",
       "      <th>0</th>\n",
       "      <td>0</td>\n",
       "      <td>нет детей</td>\n",
       "      <td>Женщина</td>\n",
       "      <td>592</td>\n",
       "      <td>9520</td>\n",
       "      <td>0.062185</td>\n",
       "    </tr>\n",
       "    <tr>\n",
       "      <th>1</th>\n",
       "      <td>0</td>\n",
       "      <td>нет детей</td>\n",
       "      <td>Мужчина</td>\n",
       "      <td>471</td>\n",
       "      <td>4570</td>\n",
       "      <td>0.103063</td>\n",
       "    </tr>\n",
       "  </tbody>\n",
       "</table>\n",
       "</div>"
      ],
      "text/plain": [
       "   children children_category gender_category  sum  count  correlation\n",
       "0         0         нет детей         Женщина  592   9520     0.062185\n",
       "1         0         нет детей         Мужчина  471   4570     0.103063"
      ]
     },
     "execution_count": 40,
     "metadata": {},
     "output_type": "execute_result"
    }
   ],
   "source": [
    "my_pivot_table.reset_index()[\n",
    "    my_pivot_table.reset_index()['children'] == 0].sort_values(by='correlation')"
   ]
  },
  {
   "cell_type": "markdown",
   "id": "3474a0fd",
   "metadata": {},
   "source": [
    "женшина без детей - лучший заемщик. \n",
    "прооверим зависимость возвратов кредитов этой группы от семейного положения"
   ]
  },
  {
   "cell_type": "code",
   "execution_count": 41,
   "id": "01af854a",
   "metadata": {},
   "outputs": [],
   "source": [
    "my_pivot_table = get_pivot_table(['children', 'gender_category', 'family_status_category'])"
   ]
  },
  {
   "cell_type": "code",
   "execution_count": 42,
   "id": "fe650831",
   "metadata": {},
   "outputs": [
    {
     "data": {
      "text/html": [
       "<div>\n",
       "<style scoped>\n",
       "    .dataframe tbody tr th:only-of-type {\n",
       "        vertical-align: middle;\n",
       "    }\n",
       "\n",
       "    .dataframe tbody tr th {\n",
       "        vertical-align: top;\n",
       "    }\n",
       "\n",
       "    .dataframe thead th {\n",
       "        text-align: right;\n",
       "    }\n",
       "</style>\n",
       "<table border=\"1\" class=\"dataframe\">\n",
       "  <thead>\n",
       "    <tr style=\"text-align: right;\">\n",
       "      <th></th>\n",
       "      <th>children</th>\n",
       "      <th>gender_category</th>\n",
       "      <th>family_status_category</th>\n",
       "      <th>sum</th>\n",
       "      <th>count</th>\n",
       "      <th>correlation</th>\n",
       "    </tr>\n",
       "  </thead>\n",
       "  <tbody>\n",
       "    <tr>\n",
       "      <th>0</th>\n",
       "      <td>0</td>\n",
       "      <td>Женщина</td>\n",
       "      <td>В браке</td>\n",
       "      <td>291</td>\n",
       "      <td>4885</td>\n",
       "      <td>0.059570</td>\n",
       "    </tr>\n",
       "    <tr>\n",
       "      <th>1</th>\n",
       "      <td>0</td>\n",
       "      <td>Женщина</td>\n",
       "      <td>Не в браке</td>\n",
       "      <td>301</td>\n",
       "      <td>4635</td>\n",
       "      <td>0.064941</td>\n",
       "    </tr>\n",
       "  </tbody>\n",
       "</table>\n",
       "</div>"
      ],
      "text/plain": [
       "   children gender_category family_status_category  sum  count  correlation\n",
       "0         0         Женщина                В браке  291   4885     0.059570\n",
       "1         0         Женщина             Не в браке  301   4635     0.064941"
      ]
     },
     "execution_count": 42,
     "metadata": {},
     "output_type": "execute_result"
    }
   ],
   "source": [
    "my_pivot_table.reset_index()[\n",
    "    (my_pivot_table.reset_index()['children'] == 0) &\n",
    "    (my_pivot_table.reset_index()['gender_category'] == 'Женщина')\n",
    "].sort_values(by='correlation')"
   ]
  },
  {
   "cell_type": "code",
   "execution_count": 43,
   "id": "c73b7aeb",
   "metadata": {},
   "outputs": [
    {
     "data": {
      "text/html": [
       "<div>\n",
       "<style scoped>\n",
       "    .dataframe tbody tr th:only-of-type {\n",
       "        vertical-align: middle;\n",
       "    }\n",
       "\n",
       "    .dataframe tbody tr th {\n",
       "        vertical-align: top;\n",
       "    }\n",
       "\n",
       "    .dataframe thead th {\n",
       "        text-align: right;\n",
       "    }\n",
       "</style>\n",
       "<table border=\"1\" class=\"dataframe\">\n",
       "  <thead>\n",
       "    <tr style=\"text-align: right;\">\n",
       "      <th></th>\n",
       "      <th>children</th>\n",
       "      <th>gender_category</th>\n",
       "      <th>family_status_category</th>\n",
       "      <th>sum</th>\n",
       "      <th>count</th>\n",
       "      <th>correlation</th>\n",
       "    </tr>\n",
       "  </thead>\n",
       "  <tbody>\n",
       "    <tr>\n",
       "      <th>2</th>\n",
       "      <td>0</td>\n",
       "      <td>Мужчина</td>\n",
       "      <td>В браке</td>\n",
       "      <td>225</td>\n",
       "      <td>2583</td>\n",
       "      <td>0.087108</td>\n",
       "    </tr>\n",
       "    <tr>\n",
       "      <th>3</th>\n",
       "      <td>0</td>\n",
       "      <td>Мужчина</td>\n",
       "      <td>Не в браке</td>\n",
       "      <td>246</td>\n",
       "      <td>1987</td>\n",
       "      <td>0.123805</td>\n",
       "    </tr>\n",
       "  </tbody>\n",
       "</table>\n",
       "</div>"
      ],
      "text/plain": [
       "   children gender_category family_status_category  sum  count  correlation\n",
       "2         0         Мужчина                В браке  225   2583     0.087108\n",
       "3         0         Мужчина             Не в браке  246   1987     0.123805"
      ]
     },
     "execution_count": 43,
     "metadata": {},
     "output_type": "execute_result"
    }
   ],
   "source": [
    "my_pivot_table.reset_index()[\n",
    "    (my_pivot_table.reset_index()['children'] == 0) &\n",
    "    (my_pivot_table.reset_index()['gender_category'] == 'Мужчина')\n",
    "].sort_values(by='correlation')"
   ]
  },
  {
   "cell_type": "markdown",
   "id": "044c8fa7",
   "metadata": {},
   "source": [
    "гипотеза о зависимости числа детей на возврат кредита подтвердилась, а также выяснилось, что лучшими заемщиками, допускающих наименьшее число задолженностей, стали женщины в браке.\n",
    "нужно проверить эту гипотезу на полном наборе данных, для всех клиентов"
   ]
  },
  {
   "cell_type": "code",
   "execution_count": 44,
   "id": "3808f4b2",
   "metadata": {},
   "outputs": [
    {
     "data": {
      "text/html": [
       "<div>\n",
       "<style scoped>\n",
       "    .dataframe tbody tr th:only-of-type {\n",
       "        vertical-align: middle;\n",
       "    }\n",
       "\n",
       "    .dataframe tbody tr th {\n",
       "        vertical-align: top;\n",
       "    }\n",
       "\n",
       "    .dataframe thead th {\n",
       "        text-align: right;\n",
       "    }\n",
       "</style>\n",
       "<table border=\"1\" class=\"dataframe\">\n",
       "  <thead>\n",
       "    <tr style=\"text-align: right;\">\n",
       "      <th></th>\n",
       "      <th></th>\n",
       "      <th>sum</th>\n",
       "      <th>count</th>\n",
       "      <th>correlation</th>\n",
       "    </tr>\n",
       "    <tr>\n",
       "      <th>gender_category</th>\n",
       "      <th>family_status_category</th>\n",
       "      <th></th>\n",
       "      <th></th>\n",
       "      <th></th>\n",
       "    </tr>\n",
       "  </thead>\n",
       "  <tbody>\n",
       "    <tr>\n",
       "      <th rowspan=\"2\" valign=\"top\">Женщина</th>\n",
       "      <th>В браке</th>\n",
       "      <td>526</td>\n",
       "      <td>7710</td>\n",
       "      <td>0.068223</td>\n",
       "    </tr>\n",
       "    <tr>\n",
       "      <th>Не в браке</th>\n",
       "      <td>463</td>\n",
       "      <td>6382</td>\n",
       "      <td>0.072548</td>\n",
       "    </tr>\n",
       "    <tr>\n",
       "      <th rowspan=\"2\" valign=\"top\">Мужчина</th>\n",
       "      <th>В браке</th>\n",
       "      <td>401</td>\n",
       "      <td>4551</td>\n",
       "      <td>0.088113</td>\n",
       "    </tr>\n",
       "    <tr>\n",
       "      <th>Не в браке</th>\n",
       "      <td>342</td>\n",
       "      <td>2687</td>\n",
       "      <td>0.127279</td>\n",
       "    </tr>\n",
       "  </tbody>\n",
       "</table>\n",
       "</div>"
      ],
      "text/plain": [
       "                                        sum  count  correlation\n",
       "gender_category family_status_category                         \n",
       "Женщина         В браке                 526   7710     0.068223\n",
       "                Не в браке              463   6382     0.072548\n",
       "Мужчина         В браке                 401   4551     0.088113\n",
       "                Не в браке              342   2687     0.127279"
      ]
     },
     "execution_count": 44,
     "metadata": {},
     "output_type": "execute_result"
    }
   ],
   "source": [
    "get_pivot_table(['gender_category', 'family_status_category']).sort_values(by='correlation')"
   ]
  },
  {
   "cell_type": "markdown",
   "id": "75238b17",
   "metadata": {},
   "source": [
    "по общим данным видно, что женщины чаще берут кредиты и допускают меньше задолженностей по их возврату."
   ]
  },
  {
   "cell_type": "code",
   "execution_count": 45,
   "id": "c24c5597",
   "metadata": {
    "scrolled": true
   },
   "outputs": [
    {
     "data": {
      "text/html": [
       "<div>\n",
       "<style scoped>\n",
       "    .dataframe tbody tr th:only-of-type {\n",
       "        vertical-align: middle;\n",
       "    }\n",
       "\n",
       "    .dataframe tbody tr th {\n",
       "        vertical-align: top;\n",
       "    }\n",
       "\n",
       "    .dataframe thead th {\n",
       "        text-align: right;\n",
       "    }\n",
       "</style>\n",
       "<table border=\"1\" class=\"dataframe\">\n",
       "  <thead>\n",
       "    <tr style=\"text-align: right;\">\n",
       "      <th></th>\n",
       "      <th></th>\n",
       "      <th>count</th>\n",
       "    </tr>\n",
       "    <tr>\n",
       "      <th>gender_category</th>\n",
       "      <th>debt_category</th>\n",
       "      <th></th>\n",
       "    </tr>\n",
       "  </thead>\n",
       "  <tbody>\n",
       "    <tr>\n",
       "      <th rowspan=\"2\" valign=\"top\">Женщина</th>\n",
       "      <th>Имел задолженность</th>\n",
       "      <td>989</td>\n",
       "    </tr>\n",
       "    <tr>\n",
       "      <th>Не имел задолженность</th>\n",
       "      <td>13103</td>\n",
       "    </tr>\n",
       "    <tr>\n",
       "      <th rowspan=\"2\" valign=\"top\">Мужчина</th>\n",
       "      <th>Имел задолженность</th>\n",
       "      <td>743</td>\n",
       "    </tr>\n",
       "    <tr>\n",
       "      <th>Не имел задолженность</th>\n",
       "      <td>6495</td>\n",
       "    </tr>\n",
       "  </tbody>\n",
       "</table>\n",
       "</div>"
      ],
      "text/plain": [
       "                                       count\n",
       "gender_category debt_category               \n",
       "Женщина         Имел задолженность       989\n",
       "                Не имел задолженность  13103\n",
       "Мужчина         Имел задолженность       743\n",
       "                Не имел задолженность   6495"
      ]
     },
     "execution_count": 45,
     "metadata": {},
     "output_type": "execute_result"
    }
   ],
   "source": [
    "my_pivot_table = get_pivot_table(['gender_category', 'debt_category'], ['count'])\n",
    "my_pivot_table"
   ]
  },
  {
   "cell_type": "code",
   "execution_count": 46,
   "id": "f830b75a",
   "metadata": {
    "scrolled": true
   },
   "outputs": [
    {
     "name": "stdout",
     "output_type": "stream",
     "text": [
      "7.55% женщин допустило задолженность по кредиту\n",
      "11.44% мужчин допустило задолженность по кредиту\n"
     ]
    }
   ],
   "source": [
    "list_pivot_table = list(my_pivot_table['count'])\n",
    "print(f'{list_pivot_table[0] / list_pivot_table[1]:.2%} женщин допустило задолженность по кредиту')\n",
    "print(f'{list_pivot_table[2] / list_pivot_table[3]:.2%} мужчин допустило задолженность по кредиту')"
   ]
  },
  {
   "cell_type": "markdown",
   "id": "73ad78bf",
   "metadata": {},
   "source": [
    "**Гипотеза:** Есть ли зависимость между количеством детей и возвратом кредита в срок?"
   ]
  },
  {
   "cell_type": "markdown",
   "id": "31f7ab00",
   "metadata": {
    "deletable": false,
    "id": "3a6b99ec"
   },
   "source": [
    "<div class=\"alert alert-info\">\n",
    "<p>\n",
    "<b>Вывод:</b>  <p>Зависимость между количеством детей и возвратом кредита в срок - <b>прослеживается</b>.<p>\n",
    "\n",
    "Кредиты клиентов у которых нет детей составляют 66.09% от общего числа обращений и процент допущенных задолженностей по категории равен 7.54%<p>\n",
    "\n",
    "Кредиты клиентов у которых есть дети составляют 33.91% от общего числа обращений и процент допущенных задолженностей по категории равен 9.25%\n",
    "</div>  "
   ]
  },
  {
   "cell_type": "markdown",
   "id": "c0d34de0",
   "metadata": {
    "deletable": false,
    "editable": false,
    "id": "97be82ca"
   },
   "source": [
    "#### 3.2 Есть ли зависимость между семейным положением и возвратом кредита в срок?"
   ]
  },
  {
   "cell_type": "code",
   "execution_count": 47,
   "id": "afb99e70",
   "metadata": {
    "deletable": false,
    "id": "dc3f7ee8",
    "scrolled": true,
    "tags": []
   },
   "outputs": [
    {
     "data": {
      "text/html": [
       "<div>\n",
       "<style scoped>\n",
       "    .dataframe tbody tr th:only-of-type {\n",
       "        vertical-align: middle;\n",
       "    }\n",
       "\n",
       "    .dataframe tbody tr th {\n",
       "        vertical-align: top;\n",
       "    }\n",
       "\n",
       "    .dataframe thead th {\n",
       "        text-align: right;\n",
       "    }\n",
       "</style>\n",
       "<table border=\"1\" class=\"dataframe\">\n",
       "  <thead>\n",
       "    <tr style=\"text-align: right;\">\n",
       "      <th></th>\n",
       "      <th>sum</th>\n",
       "      <th>count</th>\n",
       "      <th>correlation</th>\n",
       "    </tr>\n",
       "    <tr>\n",
       "      <th>family_status_category</th>\n",
       "      <th></th>\n",
       "      <th></th>\n",
       "      <th></th>\n",
       "    </tr>\n",
       "  </thead>\n",
       "  <tbody>\n",
       "    <tr>\n",
       "      <th>В браке</th>\n",
       "      <td>927</td>\n",
       "      <td>12261</td>\n",
       "      <td>0.075606</td>\n",
       "    </tr>\n",
       "    <tr>\n",
       "      <th>Не в браке</th>\n",
       "      <td>805</td>\n",
       "      <td>9069</td>\n",
       "      <td>0.088764</td>\n",
       "    </tr>\n",
       "  </tbody>\n",
       "</table>\n",
       "</div>"
      ],
      "text/plain": [
       "                        sum  count  correlation\n",
       "family_status_category                         \n",
       "В браке                 927  12261     0.075606\n",
       "Не в браке              805   9069     0.088764"
      ]
     },
     "execution_count": 47,
     "metadata": {},
     "output_type": "execute_result"
    }
   ],
   "source": [
    "my_pivot_table = get_pivot_table(['family_status_category']).sort_values(by='correlation')\n",
    "my_pivot_table"
   ]
  },
  {
   "cell_type": "markdown",
   "id": "e6ca5552-9bed-402e-b44e-49e901d6333f",
   "metadata": {},
   "source": [
    "проверим данную гипотезу на более широкой категории"
   ]
  },
  {
   "cell_type": "code",
   "execution_count": 48,
   "id": "6d668a09-889f-47a8-891c-f8d69fe33858",
   "metadata": {
    "tags": []
   },
   "outputs": [
    {
     "name": "stdout",
     "output_type": "stream",
     "text": [
      "кредиты клиентов В браке составляют 57.48% от общего числа обращений и процент допущенных задолженностей по категории равен 7.56%\n",
      "кредиты клиентов Не в браке составляют 42.52% от общего числа обращений и процент допущенных задолженностей по категории равен 8.88%\n"
     ]
    }
   ],
   "source": [
    "len_data = my_pivot_table['count'].sum()\n",
    "for i in range(len(my_pivot_table)):\n",
    "    print(f'кредиты клиентов {my_pivot_table.index[i]} составляют {my_pivot_table[\"count\"][i] / len_data:.2%} от общего числа обращений',\n",
    "         f'и процент допущенных задолженностей по категории равен {my_pivot_table[\"correlation\"][i]:.2%}')"
   ]
  },
  {
   "cell_type": "code",
   "execution_count": 49,
   "id": "c8031d38-b1dd-44c1-9104-c20cb0d4a346",
   "metadata": {
    "tags": []
   },
   "outputs": [],
   "source": [
    "my_pivot_table = get_pivot_table(['family_status']).sort_values(by='correlation')"
   ]
  },
  {
   "cell_type": "code",
   "execution_count": 50,
   "id": "4472a511-3a88-42c0-9e1d-1e0bbe031a30",
   "metadata": {},
   "outputs": [
    {
     "data": {
      "text/html": [
       "<div>\n",
       "<style scoped>\n",
       "    .dataframe tbody tr th:only-of-type {\n",
       "        vertical-align: middle;\n",
       "    }\n",
       "\n",
       "    .dataframe tbody tr th {\n",
       "        vertical-align: top;\n",
       "    }\n",
       "\n",
       "    .dataframe thead th {\n",
       "        text-align: right;\n",
       "    }\n",
       "</style>\n",
       "<table border=\"1\" class=\"dataframe\">\n",
       "  <thead>\n",
       "    <tr style=\"text-align: right;\">\n",
       "      <th></th>\n",
       "      <th>sum</th>\n",
       "      <th>count</th>\n",
       "      <th>correlation</th>\n",
       "    </tr>\n",
       "    <tr>\n",
       "      <th>family_status</th>\n",
       "      <th></th>\n",
       "      <th></th>\n",
       "      <th></th>\n",
       "    </tr>\n",
       "  </thead>\n",
       "  <tbody>\n",
       "    <tr>\n",
       "      <th>вдовец / вдова</th>\n",
       "      <td>63</td>\n",
       "      <td>951</td>\n",
       "      <td>0.066246</td>\n",
       "    </tr>\n",
       "    <tr>\n",
       "      <th>в разводе</th>\n",
       "      <td>84</td>\n",
       "      <td>1189</td>\n",
       "      <td>0.070648</td>\n",
       "    </tr>\n",
       "    <tr>\n",
       "      <th>женат / замужем</th>\n",
       "      <td>927</td>\n",
       "      <td>12261</td>\n",
       "      <td>0.075606</td>\n",
       "    </tr>\n",
       "    <tr>\n",
       "      <th>гражданский брак</th>\n",
       "      <td>385</td>\n",
       "      <td>4133</td>\n",
       "      <td>0.093153</td>\n",
       "    </tr>\n",
       "    <tr>\n",
       "      <th>Не женат / не замужем</th>\n",
       "      <td>273</td>\n",
       "      <td>2796</td>\n",
       "      <td>0.097639</td>\n",
       "    </tr>\n",
       "  </tbody>\n",
       "</table>\n",
       "</div>"
      ],
      "text/plain": [
       "                       sum  count  correlation\n",
       "family_status                                 \n",
       "вдовец / вдова          63    951     0.066246\n",
       "в разводе               84   1189     0.070648\n",
       "женат / замужем        927  12261     0.075606\n",
       "гражданский брак       385   4133     0.093153\n",
       "Не женат / не замужем  273   2796     0.097639"
      ]
     },
     "execution_count": 50,
     "metadata": {},
     "output_type": "execute_result"
    }
   ],
   "source": [
    "my_pivot_table"
   ]
  },
  {
   "cell_type": "code",
   "execution_count": 51,
   "id": "a8f6b476-2a9c-49b0-8cca-4f148d77af44",
   "metadata": {},
   "outputs": [
    {
     "name": "stdout",
     "output_type": "stream",
     "text": [
      "доля клиентов с симейным положением вдовец / вдова составляет 4.46% от общего числа обращений и процент допущенных задолженностей по категории равен 6.62%\n",
      "доля клиентов с симейным положением в разводе составляет 5.57% от общего числа обращений и процент допущенных задолженностей по категории равен 7.06%\n",
      "доля клиентов с симейным положением женат / замужем составляет 57.48% от общего числа обращений и процент допущенных задолженностей по категории равен 7.56%\n",
      "доля клиентов с симейным положением гражданский брак составляет 19.38% от общего числа обращений и процент допущенных задолженностей по категории равен 9.32%\n",
      "доля клиентов с симейным положением Не женат / не замужем составляет 13.11% от общего числа обращений и процент допущенных задолженностей по категории равен 9.76%\n"
     ]
    }
   ],
   "source": [
    "len_data = len(data)\n",
    "for item in range(len(my_pivot_table)):\n",
    "    print(f'доля клиентов с симейным положением {my_pivot_table.index[item]}',\n",
    "          f'составляет {my_pivot_table[\"count\"][item] / len_data:.2%} от общего числа обращений',\n",
    "          f'и процент допущенных задолженностей по категории равен {my_pivot_table[\"correlation\"][item]:.2%}')"
   ]
  },
  {
   "cell_type": "markdown",
   "id": "be29f24e",
   "metadata": {},
   "source": [
    "**Гипотеза:**  Есть ли зависимость между семейным положением и возвратом кредита в срок?"
   ]
  },
  {
   "cell_type": "markdown",
   "id": "39753926",
   "metadata": {
    "deletable": false,
    "id": "1cef7837",
    "tags": []
   },
   "source": [
    "<div class=\"alert alert-info\">\n",
    "<p>\n",
    "<b>Вывод:</b>  <p>Зависимость между семейным положением и возвратом кредита в срок - прослеживается.<p>\n",
    "<p>\n",
    "клиенты котрые состоят в браке или когда-либо состоявшие в браке допускают меньшее число задолженностей так<p>\n",
    "доля клиентов с симейным положением вдовец / вдова составляет 4.46% от общего числа обращений и процент допущенных задолженностей по категории равен 6.62%<p>\n",
    "доля клиентов с симейным положением в разводе составляет 5.57% от общего числа обращений и процент допущенных задолженностей по категории равен 7.06%<p>\n",
    "доля клиентов с симейным положением женат / замужем составляет 57.48% от общего числа обращений и процент допущенных задолженностей по категории равен 7.56%<p>\n",
    "доля клиентов с симейным положением гражданский брак составляет 19.38% от общего числа обращений и процент допущенных задолженностей по категории равен 9.32%<p>\n",
    "доля клиентов с симейным положением Не женат / не замужем составляет 13.11% от общего числа обращений и процент допущенных задолженностей по категории равен 9.76%<p>\n",
    "кредиты клиентов не состоящих в браке составляют 42.52% от общего числа обращений и процент допущенных задолженностей по категории равен 8.88%\n",
    "</div>  "
   ]
  },
  {
   "cell_type": "markdown",
   "id": "f5b830d0",
   "metadata": {
    "deletable": false,
    "editable": false,
    "id": "1e8b2fca"
   },
   "source": [
    "#### 3.3 Есть ли зависимость между уровнем дохода и возвратом кредита в срок?"
   ]
  },
  {
   "cell_type": "code",
   "execution_count": 52,
   "id": "319ee6f5",
   "metadata": {
    "deletable": false,
    "id": "cd7e3720"
   },
   "outputs": [
    {
     "data": {
      "text/html": [
       "<div>\n",
       "<style scoped>\n",
       "    .dataframe tbody tr th:only-of-type {\n",
       "        vertical-align: middle;\n",
       "    }\n",
       "\n",
       "    .dataframe tbody tr th {\n",
       "        vertical-align: top;\n",
       "    }\n",
       "\n",
       "    .dataframe thead th {\n",
       "        text-align: right;\n",
       "    }\n",
       "</style>\n",
       "<table border=\"1\" class=\"dataframe\">\n",
       "  <thead>\n",
       "    <tr style=\"text-align: right;\">\n",
       "      <th></th>\n",
       "      <th>sum</th>\n",
       "      <th>count</th>\n",
       "      <th>correlation</th>\n",
       "    </tr>\n",
       "    <tr>\n",
       "      <th>total_income_category</th>\n",
       "      <th></th>\n",
       "      <th></th>\n",
       "      <th></th>\n",
       "    </tr>\n",
       "  </thead>\n",
       "  <tbody>\n",
       "    <tr>\n",
       "      <th>D</th>\n",
       "      <td>21</td>\n",
       "      <td>349</td>\n",
       "      <td>0.060172</td>\n",
       "    </tr>\n",
       "    <tr>\n",
       "      <th>B</th>\n",
       "      <td>354</td>\n",
       "      <td>5013</td>\n",
       "      <td>0.070616</td>\n",
       "    </tr>\n",
       "    <tr>\n",
       "      <th>A</th>\n",
       "      <td>2</td>\n",
       "      <td>25</td>\n",
       "      <td>0.080000</td>\n",
       "    </tr>\n",
       "    <tr>\n",
       "      <th>C</th>\n",
       "      <td>1353</td>\n",
       "      <td>15921</td>\n",
       "      <td>0.084982</td>\n",
       "    </tr>\n",
       "    <tr>\n",
       "      <th>E</th>\n",
       "      <td>2</td>\n",
       "      <td>22</td>\n",
       "      <td>0.090909</td>\n",
       "    </tr>\n",
       "  </tbody>\n",
       "</table>\n",
       "</div>"
      ],
      "text/plain": [
       "                        sum  count  correlation\n",
       "total_income_category                          \n",
       "D                        21    349     0.060172\n",
       "B                       354   5013     0.070616\n",
       "A                         2     25     0.080000\n",
       "C                      1353  15921     0.084982\n",
       "E                         2     22     0.090909"
      ]
     },
     "execution_count": 52,
     "metadata": {},
     "output_type": "execute_result"
    }
   ],
   "source": [
    "my_pivot_table = get_pivot_table(['total_income_category']).sort_values(by='correlation')\n",
    "my_pivot_table"
   ]
  },
  {
   "cell_type": "code",
   "execution_count": 53,
   "id": "61f529c9-1145-4e1f-aca1-cd5e38555b3d",
   "metadata": {},
   "outputs": [
    {
     "name": "stdout",
     "output_type": "stream",
     "text": [
      "доля клиентов с уровнем дохода D составляет 1.64% от общего числа обращений\n",
      "доля клиентов с уровнем дохода B составляет 23.50% от общего числа обращений\n",
      "доля клиентов с уровнем дохода A составляет 0.12% от общего числа обращений\n",
      "доля клиентов с уровнем дохода C составляет 74.64% от общего числа обращений\n",
      "доля клиентов с уровнем дохода E составляет 0.10% от общего числа обращений\n"
     ]
    }
   ],
   "source": [
    "len_data = len(data)\n",
    "for item in range(len(my_pivot_table)):\n",
    "    print(f'доля клиентов с уровнем дохода {my_pivot_table.index[item]}',\n",
    "          f'составляет {my_pivot_table[\"count\"][item] / len_data:.2%} от общего числа обращений')"
   ]
  },
  {
   "cell_type": "markdown",
   "id": "eb9ecbd9-969c-47ce-8601-4b0fab44c661",
   "metadata": {},
   "source": [
    "учитывая большую разницу в численности групп клиентов, распределенных по уровню дохода, расчетами для групп A, D, и E можно пренебречь "
   ]
  },
  {
   "cell_type": "code",
   "execution_count": 54,
   "id": "bd2cd346-00d5-4e22-b4a7-6eea636fca5a",
   "metadata": {
    "tags": []
   },
   "outputs": [
    {
     "data": {
      "text/html": [
       "<div>\n",
       "<style scoped>\n",
       "    .dataframe tbody tr th:only-of-type {\n",
       "        vertical-align: middle;\n",
       "    }\n",
       "\n",
       "    .dataframe tbody tr th {\n",
       "        vertical-align: top;\n",
       "    }\n",
       "\n",
       "    .dataframe thead th {\n",
       "        text-align: right;\n",
       "    }\n",
       "</style>\n",
       "<table border=\"1\" class=\"dataframe\">\n",
       "  <thead>\n",
       "    <tr style=\"text-align: right;\">\n",
       "      <th></th>\n",
       "      <th>total_income_category</th>\n",
       "      <th>sum</th>\n",
       "      <th>count</th>\n",
       "      <th>correlation</th>\n",
       "    </tr>\n",
       "  </thead>\n",
       "  <tbody>\n",
       "    <tr>\n",
       "      <th>1</th>\n",
       "      <td>B</td>\n",
       "      <td>354</td>\n",
       "      <td>5013</td>\n",
       "      <td>0.070616</td>\n",
       "    </tr>\n",
       "    <tr>\n",
       "      <th>3</th>\n",
       "      <td>C</td>\n",
       "      <td>1353</td>\n",
       "      <td>15921</td>\n",
       "      <td>0.084982</td>\n",
       "    </tr>\n",
       "  </tbody>\n",
       "</table>\n",
       "</div>"
      ],
      "text/plain": [
       "  total_income_category   sum  count  correlation\n",
       "1                     B   354   5013     0.070616\n",
       "3                     C  1353  15921     0.084982"
      ]
     },
     "execution_count": 54,
     "metadata": {},
     "output_type": "execute_result"
    }
   ],
   "source": [
    "my_pivot_table = my_pivot_table.reset_index()[\n",
    "    (my_pivot_table.reset_index()['total_income_category'] == 'B') |\n",
    "    (my_pivot_table.reset_index()['total_income_category'] == 'C')\n",
    "].sort_values(by='correlation')\n",
    "my_pivot_table"
   ]
  },
  {
   "cell_type": "code",
   "execution_count": 55,
   "id": "8d77a37a-f35f-4126-88a0-95ee6fbd2557",
   "metadata": {},
   "outputs": [
    {
     "name": "stdout",
     "output_type": "stream",
     "text": [
      "доля клиентов с уровнем дохода B составляет 23.95% от общего числа обращенийи процент допущенных задолженностей по категории равен 7.06%\n",
      "доля клиентов с уровнем дохода C составляет 76.05% от общего числа обращенийи процент допущенных задолженностей по категории равен 8.50%\n"
     ]
    }
   ],
   "source": [
    "len_data = my_pivot_table['count'].sum()\n",
    "#len_data = len(data)\n",
    "for item in my_pivot_table.index:\n",
    "    print(f'доля клиентов с уровнем дохода {my_pivot_table[\"total_income_category\"][item]}',\n",
    "          f'составляет {my_pivot_table[\"count\"][item] / len_data:.2%} от общего числа обращений'\n",
    "          f'и процент допущенных задолженностей по категории равен {my_pivot_table[\"correlation\"][item]:.2%}')"
   ]
  },
  {
   "cell_type": "markdown",
   "id": "bbc917d9",
   "metadata": {},
   "source": [
    "**Гипотеза:** Есть ли зависимость между уровнем дохода и возвратом кредита в срок? "
   ]
  },
  {
   "cell_type": "markdown",
   "id": "3dfa1c8d",
   "metadata": {
    "deletable": false,
    "id": "e8593def",
    "tags": []
   },
   "source": [
    " Вывод:\n",
    "\n",
    "Прослеживается прямая зависимость между уровнем дохода и возвратом кредита в срок.\n",
    "\n",
    "Так доля клиентов с уровнем дохода B составляет 23.95% от общего числа обращенийи процент допущенных задолженностей по категории равен 7.06%.\n",
    "\n",
    "А доля клиентов с уровнем дохода C составляет 76.05% от общего числа обращенийи процент допущенных задолженностей по категории равен 8.50%."
   ]
  },
  {
   "cell_type": "markdown",
   "id": "a7ac6570",
   "metadata": {
    "deletable": false,
    "editable": false,
    "id": "99ecbd1f"
   },
   "source": [
    "#### 3.4 Как разные цели кредита влияют на его возврат в срок?"
   ]
  },
  {
   "cell_type": "code",
   "execution_count": 56,
   "id": "b01de269",
   "metadata": {
    "deletable": false,
    "id": "2b687290"
   },
   "outputs": [],
   "source": [
    "my_pivot_table = get_pivot_table(['purpose_category'])"
   ]
  },
  {
   "cell_type": "code",
   "execution_count": 57,
   "id": "e6665dfa",
   "metadata": {
    "scrolled": true,
    "tags": []
   },
   "outputs": [],
   "source": [
    "my_pivot_table.sort_values(by='correlation', inplace=True)"
   ]
  },
  {
   "cell_type": "code",
   "execution_count": 58,
   "id": "e72299f1-682e-426b-9dc6-808777d7b27d",
   "metadata": {},
   "outputs": [
    {
     "data": {
      "text/html": [
       "<div>\n",
       "<style scoped>\n",
       "    .dataframe tbody tr th:only-of-type {\n",
       "        vertical-align: middle;\n",
       "    }\n",
       "\n",
       "    .dataframe tbody tr th {\n",
       "        vertical-align: top;\n",
       "    }\n",
       "\n",
       "    .dataframe thead th {\n",
       "        text-align: right;\n",
       "    }\n",
       "</style>\n",
       "<table border=\"1\" class=\"dataframe\">\n",
       "  <thead>\n",
       "    <tr style=\"text-align: right;\">\n",
       "      <th></th>\n",
       "      <th>sum</th>\n",
       "      <th>count</th>\n",
       "      <th>correlation</th>\n",
       "    </tr>\n",
       "    <tr>\n",
       "      <th>purpose_category</th>\n",
       "      <th></th>\n",
       "      <th></th>\n",
       "      <th></th>\n",
       "    </tr>\n",
       "  </thead>\n",
       "  <tbody>\n",
       "    <tr>\n",
       "      <th>операции с недвижимостью</th>\n",
       "      <td>780</td>\n",
       "      <td>10750</td>\n",
       "      <td>0.072558</td>\n",
       "    </tr>\n",
       "    <tr>\n",
       "      <th>проведение свадьбы</th>\n",
       "      <td>183</td>\n",
       "      <td>2313</td>\n",
       "      <td>0.079118</td>\n",
       "    </tr>\n",
       "    <tr>\n",
       "      <th>получение образования</th>\n",
       "      <td>369</td>\n",
       "      <td>3988</td>\n",
       "      <td>0.092528</td>\n",
       "    </tr>\n",
       "    <tr>\n",
       "      <th>операции с автомобилем</th>\n",
       "      <td>400</td>\n",
       "      <td>4279</td>\n",
       "      <td>0.093480</td>\n",
       "    </tr>\n",
       "  </tbody>\n",
       "</table>\n",
       "</div>"
      ],
      "text/plain": [
       "                          sum  count  correlation\n",
       "purpose_category                                 \n",
       "операции с недвижимостью  780  10750     0.072558\n",
       "проведение свадьбы        183   2313     0.079118\n",
       "получение образования     369   3988     0.092528\n",
       "операции с автомобилем    400   4279     0.093480"
      ]
     },
     "execution_count": 58,
     "metadata": {},
     "output_type": "execute_result"
    }
   ],
   "source": [
    "my_pivot_table"
   ]
  },
  {
   "cell_type": "code",
   "execution_count": 59,
   "id": "becb04c3-9d25-4be1-8476-0f49dc985ad8",
   "metadata": {},
   "outputs": [
    {
     "name": "stdout",
     "output_type": "stream",
     "text": [
      "кредиты на операции с недвижимостью составляют 50.40% от общего числа обращений и процент допущенных задолженностей по категории равен 7.26%\n",
      "кредиты на проведение свадьбы составляют 10.84% от общего числа обращений и процент допущенных задолженностей по категории равен 7.91%\n",
      "кредиты на получение образования составляют 18.70% от общего числа обращений и процент допущенных задолженностей по категории равен 9.25%\n",
      "кредиты на операции с автомобилем составляют 20.06% от общего числа обращений и процент допущенных задолженностей по категории равен 9.35%\n"
     ]
    }
   ],
   "source": [
    "for i in range(len(my_pivot_table)):\n",
    "    print(f'кредиты на {my_pivot_table.index[i]} составляют {my_pivot_table[\"count\"][i] / len(data):.2%} от общего числа обращений',\n",
    "         f'и процент допущенных задолженностей по категории равен {my_pivot_table[\"correlation\"][i]:.2%}')"
   ]
  },
  {
   "cell_type": "markdown",
   "id": "ba0a8185-ae53-4059-835a-a7c540ab4e92",
   "metadata": {
    "tags": []
   },
   "source": [
    "**Гипотеза:** Как разные цели кредита влияют на его возврат в срок?"
   ]
  },
  {
   "cell_type": "markdown",
   "id": "27549e05",
   "metadata": {
    "deletable": false,
    "id": "b4bb2ce6"
   },
   "source": [
    "**Вывод:** \n",
    "- выдача кредитов на `операций с недвижимостью` составляют `50,40%` от общего числа всех займов, при этом имеют самый `низкий` процент (`7.26%`)  допущенных задолженностей.\n",
    "- выдача кредитов на `проведение свадьбы` составляют `10.84%` от общего числа всех займов и имеют `средний` процент (`7.91%`) допущенных задолженностей .\n",
    "- выдача кредитов на `операции с автомобилем` и `получение образования` составляют `20.06%` и `18.70%` соответственно, от общего числа всех займов, при этом имеют самый `худшие` показатели допущенных задолженностей `9.35%` и`9.25%` соответственно."
   ]
  },
  {
   "cell_type": "markdown",
   "id": "dde3b93d",
   "metadata": {
    "deletable": false,
    "editable": false,
    "id": "09c3ac4c"
   },
   "source": [
    "#### 3.5 Приведите возможные причины появления пропусков в исходных данных."
   ]
  },
  {
   "cell_type": "markdown",
   "id": "f065a1ca",
   "metadata": {
    "deletable": false,
    "id": "9da2ceda"
   },
   "source": [
    "*Ответ:* \n",
    "\n",
    "**Пропуски могут появлятся:**\n",
    "- из-за ошибок программного обеспечения при выгрузке или вводе данных;\n",
    "- изменения структуры БД, при которой данные по категории ранее не собирались;\n",
    "- некорректного ввода данных пользователем или сотрудником."
   ]
  },
  {
   "cell_type": "markdown",
   "id": "ecc746cf-b8f4-430b-8078-b329951fec03",
   "metadata": {},
   "source": [
    "<div class=\"alert alert-info\">\n",
    "    если говорить касательно данного набора данных, можно предположить, что:\n",
    "    <ol><li>пропуски данных в полях days_employed и total_income обусловлены отказом клиента предоставить данные для обработки, также возможно данные поля не обозначены как \"обязательные к заполнению\" и возможен вариант с более позднем добавлением столбцов в БД, но при этом поля с отсутствующими значениями находились бы в начале набора, однако возможна была произведена их сортировка по столбцам не попавшим в датасет.</li>\n",
    "    <li>некорректных значений в полях children, отрицательных значений в полях total_income и некорректном значении поле gender это скорее всего ошибки оператора при вводе данных.</li>\n",
    "    <li> выбросы days_employed для групп пенсионер и безработный вероятнее всего вызваны заполнением данных некорректными значениями при работе ПО (установка значения по умолчанию, для данных категорий) </li>\n",
    "    <li> появление дубликатов это скорее всего погрешности вывода данных из базы</li></ol>\n",
    "    </div>"
   ]
  },
  {
   "cell_type": "markdown",
   "id": "c275b030",
   "metadata": {
    "deletable": false,
    "editable": false,
    "id": "7b0487d6"
   },
   "source": [
    "#### 3.6 Объясните, почему заполнить пропуски медианным значением — лучшее решение для количественных переменных."
   ]
  },
  {
   "cell_type": "markdown",
   "id": "d74c42e7",
   "metadata": {
    "deletable": false,
    "id": "7ecf2b8e"
   },
   "source": [
    "*Ответ:* Заполнение пропусков медианным значением не окажет, или почти не окажет влияние на конечный расчет по данным  "
   ]
  },
  {
   "cell_type": "markdown",
   "id": "672f4c36",
   "metadata": {
    "deletable": false,
    "editable": false,
    "id": "6db5255a"
   },
   "source": [
    "### Шаг 4: общий вывод."
   ]
  },
  {
   "cell_type": "markdown",
   "id": "ea94ce14",
   "metadata": {
    "deletable": false,
    "id": "bad65432"
   },
   "source": [
    "<ol>\n",
    "    <li>Проверка гипотезы о зависимости между количеством детей и возвратом кредита в срок показала, следующее: </li>\n",
    "    <ol>\n",
    "        Кредиты клиентов у которых нет детей составляют <b>66.09%</b> от общего числа обращений и процент допущенных задолженностей по категории равен <b>7.54%</b> \n",
    "        Кредиты клиентов у которых есть дети составляют <b>33.91%</b> от общего числа обращений и процент допущенных задолженностей по категории равен <b>9.25%</b> </ol>\n",
    "Из полученных результатов можно сделать вывод, что клиенты без детей, задолженности по кредитам допускают гораздо реже и чаще обращаются за заемными средствами.\n",
    "    <li>Проверка гипотезы о зависимости между семейным положением и возвратом кредита в срок, дала следующее результаты:</li>\n",
    "    <ol> Наилучший процент возврата кредита у вдовцов, число задолженностей у данной группы составляет <b>6.62%</b> численность группы - <b>4.46%</b> от общего числа обращений, у разведенных процент задолженностей немного выше и равен <b>7.06%</b> численность данной группы также немного выше - <b>5.57%</b>, клиенты состоящие в браке заняли третью позицию по числу плохих кредитов с процентом задолженностей <b>7.56%</b> при этом это самая многочисленная группа <b>57.48%</b> от общего числа клиентов. Аутсайдерами в данной группе стали клиенты состоящие в гражданском браке и не обремененные семьей, проценты по задолженностям составляют <b>9.32%, и 9.76%</b> при численности <b>19.38% и 13.11%</b> соответственно. \n",
    "При объединении клиентов не состоящих в браке в одну категорию ее размер составил <b>42.52%</b> и процент допущенных задолженностей получился в размере <b>8.88%</b>\n",
    "    </ol>\n",
    "После обработки результатов прослеживается тенденция к тому, что клиенты банка, официально оформившие свои отношения, более ответственно относятся к взятым на себя обязательствам в том числе и по отношению к заемным средствам.\n",
    "\n",
    "<li>При анализе данных были получены результаты обратной зависимости уровня дохода от задолженностей по займам. </li>\n",
    "    <ol>\n",
    "        <li>Так доля клиентов с уровнем дохода <b>от 200000 до 1000000</b> составляет <b>23.95%</b> от общего числа обращений и процентом допущенных задолженностей по категории - <b>7.06%</b>.</li>\n",
    "        <li>А доля клиентов с уровнем дохода <b>от 50000 до 200000</b> составляет <b>76.05%</b> от общего числа обращений и  процент допущенных задолженностей для данной группы - <b>8.50%</b>.</li>\n",
    "    </ol>\n",
    "То есть при уменьшении уровня дохода клиента вероятность возникновения у него задолженности увеличивается.\n",
    "    \n",
    "<li>Анализ целей кредитов и их влияния на возникновение задолженности:</li>\n",
    "    <ol>\n",
    "        <li>Выдача кредитов на операций с недвижимостью составляют <b>50,40%</b> от общего числа всех займов, при этом имеют самый низкий процент <b>(7.26%)</b> допущенных задолженностей.</li>\n",
    "        <li>Выдача кредитов на проведение свадьбы составляют <b>10.84%</b> от общего числа всех займов и имеют средний процент <b>(7.91%)</b> допущенных задолженностей.</li>\n",
    "        <li>Выдача кредитов на операции с автомобилем и получение образования составляют <b> 20.06% и 18.70% </b> соответственно, от общего числа всех займов, при этом имеют самый худшие показатели допущенных задолженностей <b>9.35% и 9.25% </b> соответственно.</li>\n",
    "    </ol>\n",
    "\n",
    "<li>Также при проверке первой гипотезы было обнаружено, что женщины не зависимо от их семейного положения реже мужчин допускают факты задолженности по взятым кредитам <b>7.55%</b> и <b>11.44%</b> соответственно.</li> \n",
    "    <ol>если рассмотреть данные и по семейному положению, то картина распределения будет выглядеть следующим образом:\n",
    "        <li>Женщины, состоящие в браке обращались за заемными средствами <b>7710</b> раз, допустив <b>526</b> случаев задолженности, что соответствует <b>6,82%</b></li>\n",
    "       <li>Женщины, не состоящие в браке обращались за заемными средствами <b>6382</b> раза, допустив <b>463</b> случаев задолженности, что соответствует <b>7,25%</b></li>\n",
    "       <li>Мужчина, состоящие в браке обращались за заемными средствами <b>4551</b> раз, допустили <b>401</b> случаев задолженности, что соответствует <b>8,81%</b></li>\n",
    "       <li>Мужчина, не состоящие в браке обращались за заемными средствами <b>2687</b> раз, допустили <b>342</b> случаев задолженности, что соответствует <b>12,72%</b></li>  </ol>\n",
    "<li>рекомендации по работе с данными:</li>\n",
    " <ol>\n",
    "    <li>обратить внимание на заполняемость данных в частности поля соответствующие days_employed и total_income для категорий \"пенсионеры\" и \"безработные\".</li>\n",
    "    <li>также проверить возможность ввода в поле gender только двух категорий характеризующих пол клиента</li>\n",
    "    <li>провести работу с операторским составом для корректного ввода данных</li></ol></ol>"
   ]
  }
 ],
 "metadata": {
  "ExecuteTimeLog": [
   {
    "duration": 49,
    "start_time": "2023-02-02T18:16:47.720Z"
   },
   {
    "duration": 549,
    "start_time": "2023-02-02T18:17:02.239Z"
   },
   {
    "duration": 24,
    "start_time": "2023-02-02T18:17:02.789Z"
   },
   {
    "duration": 15,
    "start_time": "2023-02-02T18:17:02.814Z"
   },
   {
    "duration": 9,
    "start_time": "2023-02-02T18:17:02.831Z"
   },
   {
    "duration": 56,
    "start_time": "2023-02-02T18:17:02.841Z"
   },
   {
    "duration": 4,
    "start_time": "2023-02-02T18:17:02.898Z"
   },
   {
    "duration": 14,
    "start_time": "2023-02-02T18:17:02.903Z"
   },
   {
    "duration": 10,
    "start_time": "2023-02-02T18:17:02.919Z"
   },
   {
    "duration": 8,
    "start_time": "2023-02-02T18:17:02.930Z"
   },
   {
    "duration": 4,
    "start_time": "2023-02-02T18:17:02.941Z"
   },
   {
    "duration": 48,
    "start_time": "2023-02-02T18:17:02.946Z"
   },
   {
    "duration": 9,
    "start_time": "2023-02-02T18:17:02.996Z"
   },
   {
    "duration": 5,
    "start_time": "2023-02-02T18:17:03.006Z"
   },
   {
    "duration": 13,
    "start_time": "2023-02-02T18:17:03.012Z"
   },
   {
    "duration": 20,
    "start_time": "2023-02-02T18:17:03.026Z"
   },
   {
    "duration": 45,
    "start_time": "2023-02-02T18:17:03.047Z"
   },
   {
    "duration": 5,
    "start_time": "2023-02-02T18:17:03.094Z"
   },
   {
    "duration": 20,
    "start_time": "2023-02-02T18:17:03.101Z"
   },
   {
    "duration": 16,
    "start_time": "2023-02-02T18:17:03.123Z"
   },
   {
    "duration": 11,
    "start_time": "2023-02-02T18:17:03.141Z"
   },
   {
    "duration": 18,
    "start_time": "2023-02-02T18:17:03.153Z"
   },
   {
    "duration": 4,
    "start_time": "2023-02-02T18:17:03.173Z"
   },
   {
    "duration": 7,
    "start_time": "2023-02-02T18:17:03.179Z"
   },
   {
    "duration": 7,
    "start_time": "2023-02-02T18:17:03.188Z"
   },
   {
    "duration": 4,
    "start_time": "2023-02-02T18:17:40.911Z"
   },
   {
    "duration": 28,
    "start_time": "2023-02-02T18:17:48.487Z"
   },
   {
    "duration": 14,
    "start_time": "2023-02-02T18:18:10.862Z"
   },
   {
    "duration": 7,
    "start_time": "2023-02-02T18:19:51.917Z"
   },
   {
    "duration": 1174,
    "start_time": "2023-02-02T18:23:26.083Z"
   },
   {
    "duration": 116,
    "start_time": "2023-02-02T18:23:34.018Z"
   },
   {
    "duration": 22,
    "start_time": "2023-02-02T18:24:08.929Z"
   },
   {
    "duration": 19,
    "start_time": "2023-02-02T18:24:29.561Z"
   },
   {
    "duration": 21,
    "start_time": "2023-02-02T18:25:26.273Z"
   },
   {
    "duration": 22,
    "start_time": "2023-02-02T18:25:41.625Z"
   },
   {
    "duration": 126,
    "start_time": "2023-02-02T18:26:32.856Z"
   },
   {
    "duration": 127,
    "start_time": "2023-02-02T18:27:03.301Z"
   },
   {
    "duration": 129,
    "start_time": "2023-02-02T18:27:30.794Z"
   },
   {
    "duration": 18,
    "start_time": "2023-02-02T18:28:25.519Z"
   },
   {
    "duration": 131,
    "start_time": "2023-02-02T18:28:34.471Z"
   },
   {
    "duration": 18,
    "start_time": "2023-02-02T18:28:55.334Z"
   },
   {
    "duration": 14,
    "start_time": "2023-02-02T18:29:25.409Z"
   },
   {
    "duration": 125,
    "start_time": "2023-02-02T18:30:06.189Z"
   },
   {
    "duration": 134,
    "start_time": "2023-02-02T18:31:10.644Z"
   },
   {
    "duration": 141,
    "start_time": "2023-02-02T18:31:47.656Z"
   },
   {
    "duration": 133,
    "start_time": "2023-02-02T18:32:03.740Z"
   },
   {
    "duration": 11,
    "start_time": "2023-02-02T18:34:04.830Z"
   },
   {
    "duration": 129,
    "start_time": "2023-02-02T18:34:38.347Z"
   },
   {
    "duration": 110,
    "start_time": "2023-02-02T18:47:21.790Z"
   },
   {
    "duration": 13,
    "start_time": "2023-02-02T18:52:02.672Z"
   },
   {
    "duration": 10,
    "start_time": "2023-02-02T18:53:08.392Z"
   },
   {
    "duration": 159,
    "start_time": "2023-02-02T18:53:24.017Z"
   },
   {
    "duration": 124,
    "start_time": "2023-02-02T18:53:58.704Z"
   },
   {
    "duration": 6,
    "start_time": "2023-02-02T19:16:08.857Z"
   },
   {
    "duration": 18,
    "start_time": "2023-02-02T19:16:28.023Z"
   },
   {
    "duration": 14,
    "start_time": "2023-02-02T19:16:59.095Z"
   },
   {
    "duration": 15,
    "start_time": "2023-02-02T19:17:50.336Z"
   },
   {
    "duration": 19,
    "start_time": "2023-02-02T19:18:35.181Z"
   },
   {
    "duration": 118,
    "start_time": "2023-02-02T19:21:37.859Z"
   },
   {
    "duration": 15,
    "start_time": "2023-02-02T19:21:50.794Z"
   },
   {
    "duration": 19,
    "start_time": "2023-02-02T19:23:11.858Z"
   },
   {
    "duration": 18,
    "start_time": "2023-02-02T19:24:03.588Z"
   },
   {
    "duration": 87,
    "start_time": "2023-02-02T19:24:44.705Z"
   },
   {
    "duration": 19,
    "start_time": "2023-02-02T19:24:51.224Z"
   },
   {
    "duration": 17,
    "start_time": "2023-02-02T19:25:13.752Z"
   },
   {
    "duration": 18,
    "start_time": "2023-02-02T19:26:01.448Z"
   },
   {
    "duration": 32,
    "start_time": "2023-02-02T19:27:03.254Z"
   },
   {
    "duration": 17,
    "start_time": "2023-02-02T19:28:32.999Z"
   },
   {
    "duration": 70,
    "start_time": "2023-02-02T19:28:45.749Z"
   },
   {
    "duration": 19,
    "start_time": "2023-02-02T19:28:50.598Z"
   },
   {
    "duration": 20,
    "start_time": "2023-02-02T19:31:03.525Z"
   },
   {
    "duration": 109,
    "start_time": "2023-02-02T19:32:04.410Z"
   },
   {
    "duration": 14,
    "start_time": "2023-02-02T20:16:01.550Z"
   },
   {
    "duration": 16,
    "start_time": "2023-02-02T20:16:18.988Z"
   },
   {
    "duration": 107,
    "start_time": "2023-02-02T20:16:36.757Z"
   },
   {
    "duration": 113,
    "start_time": "2023-02-02T20:16:39.044Z"
   },
   {
    "duration": 129,
    "start_time": "2023-02-02T20:22:09.960Z"
   },
   {
    "duration": 12,
    "start_time": "2023-02-02T20:23:31.658Z"
   },
   {
    "duration": 24,
    "start_time": "2023-02-02T20:24:26.367Z"
   },
   {
    "duration": 31,
    "start_time": "2023-02-02T20:25:03.311Z"
   },
   {
    "duration": 21,
    "start_time": "2023-02-02T20:27:30.309Z"
   },
   {
    "duration": 15,
    "start_time": "2023-02-02T20:28:10.333Z"
   },
   {
    "duration": 11,
    "start_time": "2023-02-02T20:29:46.563Z"
   },
   {
    "duration": 5,
    "start_time": "2023-02-02T20:30:32.892Z"
   },
   {
    "duration": 7,
    "start_time": "2023-02-02T20:30:51.859Z"
   },
   {
    "duration": 5,
    "start_time": "2023-02-02T20:31:32.667Z"
   },
   {
    "duration": 16,
    "start_time": "2023-02-02T20:31:42.491Z"
   },
   {
    "duration": 113,
    "start_time": "2023-02-02T20:37:55.728Z"
   },
   {
    "duration": 115,
    "start_time": "2023-02-02T20:38:06.560Z"
   },
   {
    "duration": 116,
    "start_time": "2023-02-02T20:38:18.151Z"
   },
   {
    "duration": 4,
    "start_time": "2023-02-02T20:38:34.014Z"
   },
   {
    "duration": 115,
    "start_time": "2023-02-02T20:38:39.422Z"
   },
   {
    "duration": 115,
    "start_time": "2023-02-02T20:44:15.879Z"
   },
   {
    "duration": 115,
    "start_time": "2023-02-02T20:44:31.022Z"
   },
   {
    "duration": 107,
    "start_time": "2023-02-02T20:44:40.858Z"
   },
   {
    "duration": 111,
    "start_time": "2023-02-02T20:46:03.161Z"
   },
   {
    "duration": 115,
    "start_time": "2023-02-02T20:46:09.498Z"
   },
   {
    "duration": 17,
    "start_time": "2023-02-02T20:48:08.554Z"
   },
   {
    "duration": 10,
    "start_time": "2023-02-02T20:48:34.508Z"
   },
   {
    "duration": 53,
    "start_time": "2023-02-03T06:18:15.216Z"
   },
   {
    "duration": 69,
    "start_time": "2023-02-03T06:18:31.061Z"
   },
   {
    "duration": 4,
    "start_time": "2023-02-03T06:18:34.975Z"
   },
   {
    "duration": 50,
    "start_time": "2023-02-03T06:19:41.239Z"
   },
   {
    "duration": 651,
    "start_time": "2023-02-03T06:20:03.065Z"
   },
   {
    "duration": 24,
    "start_time": "2023-02-03T06:20:03.718Z"
   },
   {
    "duration": 17,
    "start_time": "2023-02-03T06:20:03.743Z"
   },
   {
    "duration": 22,
    "start_time": "2023-02-03T06:20:03.762Z"
   },
   {
    "duration": 46,
    "start_time": "2023-02-03T06:20:03.786Z"
   },
   {
    "duration": 3,
    "start_time": "2023-02-03T06:20:03.834Z"
   },
   {
    "duration": 13,
    "start_time": "2023-02-03T06:20:03.839Z"
   },
   {
    "duration": 5,
    "start_time": "2023-02-03T06:20:03.854Z"
   },
   {
    "duration": 30,
    "start_time": "2023-02-03T06:20:03.860Z"
   },
   {
    "duration": 6,
    "start_time": "2023-02-03T06:20:03.893Z"
   },
   {
    "duration": 43,
    "start_time": "2023-02-03T06:20:03.901Z"
   },
   {
    "duration": 11,
    "start_time": "2023-02-03T06:20:03.946Z"
   },
   {
    "duration": 26,
    "start_time": "2023-02-03T06:20:03.958Z"
   },
   {
    "duration": 29,
    "start_time": "2023-02-03T06:20:03.986Z"
   },
   {
    "duration": 23,
    "start_time": "2023-02-03T06:20:04.017Z"
   },
   {
    "duration": 18,
    "start_time": "2023-02-03T06:20:04.041Z"
   },
   {
    "duration": 4,
    "start_time": "2023-02-03T06:20:04.061Z"
   },
   {
    "duration": 20,
    "start_time": "2023-02-03T06:20:04.066Z"
   },
   {
    "duration": 25,
    "start_time": "2023-02-03T06:20:04.088Z"
   },
   {
    "duration": 4,
    "start_time": "2023-02-03T06:20:04.115Z"
   },
   {
    "duration": 12,
    "start_time": "2023-02-03T06:20:04.121Z"
   },
   {
    "duration": 1024,
    "start_time": "2023-02-03T06:20:04.136Z"
   },
   {
    "duration": 4,
    "start_time": "2023-02-03T06:20:10.222Z"
   },
   {
    "duration": 6,
    "start_time": "2023-02-03T06:20:28.052Z"
   },
   {
    "duration": 4379,
    "start_time": "2023-02-03T06:21:30.499Z"
   },
   {
    "duration": 8,
    "start_time": "2023-02-03T06:21:52.877Z"
   },
   {
    "duration": 84,
    "start_time": "2023-02-03T06:21:59.885Z"
   },
   {
    "duration": 5,
    "start_time": "2023-02-03T06:22:08.338Z"
   },
   {
    "duration": 207,
    "start_time": "2023-02-03T06:24:14.280Z"
   },
   {
    "duration": 6,
    "start_time": "2023-02-03T06:24:16.917Z"
   },
   {
    "duration": 46,
    "start_time": "2023-02-03T06:24:56.405Z"
   },
   {
    "duration": 48,
    "start_time": "2023-02-03T06:25:13.436Z"
   },
   {
    "duration": 6,
    "start_time": "2023-02-03T06:25:18.066Z"
   },
   {
    "duration": 6,
    "start_time": "2023-02-03T06:25:21.485Z"
   },
   {
    "duration": 11,
    "start_time": "2023-02-03T06:26:07.793Z"
   },
   {
    "duration": 10,
    "start_time": "2023-02-03T06:26:26.997Z"
   },
   {
    "duration": 4,
    "start_time": "2023-02-03T06:28:24.071Z"
   },
   {
    "duration": 11,
    "start_time": "2023-02-03T06:28:47.590Z"
   },
   {
    "duration": 83,
    "start_time": "2023-02-03T06:30:01.304Z"
   },
   {
    "duration": 27,
    "start_time": "2023-02-03T06:30:01.391Z"
   },
   {
    "duration": 69,
    "start_time": "2023-02-03T06:30:01.420Z"
   },
   {
    "duration": 45,
    "start_time": "2023-02-03T06:30:01.492Z"
   },
   {
    "duration": 121,
    "start_time": "2023-02-03T06:30:01.539Z"
   },
   {
    "duration": 11,
    "start_time": "2023-02-03T06:30:01.662Z"
   },
   {
    "duration": 51,
    "start_time": "2023-02-03T06:30:01.676Z"
   },
   {
    "duration": 34,
    "start_time": "2023-02-03T06:30:01.729Z"
   },
   {
    "duration": 22,
    "start_time": "2023-02-03T06:30:01.765Z"
   },
   {
    "duration": 23,
    "start_time": "2023-02-03T06:30:01.790Z"
   },
   {
    "duration": 73,
    "start_time": "2023-02-03T06:30:01.815Z"
   },
   {
    "duration": 16,
    "start_time": "2023-02-03T06:30:01.891Z"
   },
   {
    "duration": 35,
    "start_time": "2023-02-03T06:30:01.909Z"
   },
   {
    "duration": 35,
    "start_time": "2023-02-03T06:30:01.946Z"
   },
   {
    "duration": 142,
    "start_time": "2023-02-03T06:30:01.983Z"
   },
   {
    "duration": 68,
    "start_time": "2023-02-03T06:30:02.127Z"
   },
   {
    "duration": 25,
    "start_time": "2023-02-03T06:30:02.197Z"
   },
   {
    "duration": 56,
    "start_time": "2023-02-03T06:30:02.224Z"
   },
   {
    "duration": 65,
    "start_time": "2023-02-03T06:30:02.282Z"
   },
   {
    "duration": 52,
    "start_time": "2023-02-03T06:30:02.349Z"
   },
   {
    "duration": 155,
    "start_time": "2023-02-03T06:30:02.403Z"
   },
   {
    "duration": 18,
    "start_time": "2023-02-03T06:30:02.560Z"
   },
   {
    "duration": 6,
    "start_time": "2023-02-03T06:30:02.580Z"
   },
   {
    "duration": 8,
    "start_time": "2023-02-03T06:30:05.786Z"
   },
   {
    "duration": 6,
    "start_time": "2023-02-03T06:30:15.917Z"
   },
   {
    "duration": 32,
    "start_time": "2023-02-03T06:33:06.174Z"
   },
   {
    "duration": 21,
    "start_time": "2023-02-03T06:33:14.059Z"
   },
   {
    "duration": 18,
    "start_time": "2023-02-03T06:33:30.820Z"
   },
   {
    "duration": 10,
    "start_time": "2023-02-03T06:34:14.383Z"
   },
   {
    "duration": 12,
    "start_time": "2023-02-03T06:34:38.711Z"
   },
   {
    "duration": 9,
    "start_time": "2023-02-03T06:34:43.830Z"
   },
   {
    "duration": 10,
    "start_time": "2023-02-03T06:35:48.580Z"
   },
   {
    "duration": 4,
    "start_time": "2023-02-03T06:58:10.219Z"
   },
   {
    "duration": 742,
    "start_time": "2023-02-03T06:59:13.083Z"
   },
   {
    "duration": 3,
    "start_time": "2023-02-03T07:00:03.090Z"
   },
   {
    "duration": 12,
    "start_time": "2023-02-03T07:00:07.458Z"
   },
   {
    "duration": 3,
    "start_time": "2023-02-03T07:01:07.299Z"
   },
   {
    "duration": 13,
    "start_time": "2023-02-03T07:01:08.721Z"
   },
   {
    "duration": 12,
    "start_time": "2023-02-03T07:01:20.146Z"
   },
   {
    "duration": 9,
    "start_time": "2023-02-03T07:01:25.906Z"
   },
   {
    "duration": 44,
    "start_time": "2023-02-03T07:02:05.162Z"
   },
   {
    "duration": 23,
    "start_time": "2023-02-03T07:03:31.258Z"
   },
   {
    "duration": 56,
    "start_time": "2023-02-03T07:04:01.188Z"
   },
   {
    "duration": 67,
    "start_time": "2023-02-03T07:10:19.472Z"
   },
   {
    "duration": 56,
    "start_time": "2023-02-03T07:10:26.192Z"
   },
   {
    "duration": 54,
    "start_time": "2023-02-03T07:12:36.505Z"
   },
   {
    "duration": 53,
    "start_time": "2023-02-03T07:14:12.186Z"
   },
   {
    "duration": 61,
    "start_time": "2023-02-03T07:14:32.473Z"
   },
   {
    "duration": 180,
    "start_time": "2023-02-03T07:15:02.530Z"
   },
   {
    "duration": 61,
    "start_time": "2023-02-03T07:15:08.061Z"
   },
   {
    "duration": 21,
    "start_time": "2023-02-03T07:18:09.273Z"
   },
   {
    "duration": 50,
    "start_time": "2023-02-03T07:18:14.995Z"
   },
   {
    "duration": 47,
    "start_time": "2023-02-03T07:19:33.694Z"
   },
   {
    "duration": 54,
    "start_time": "2023-02-03T07:19:43.947Z"
   },
   {
    "duration": 57,
    "start_time": "2023-02-03T07:20:37.507Z"
   },
   {
    "duration": 66,
    "start_time": "2023-02-03T07:20:43.875Z"
   },
   {
    "duration": 57,
    "start_time": "2023-02-03T07:20:53.205Z"
   },
   {
    "duration": 68,
    "start_time": "2023-02-03T07:22:16.681Z"
   },
   {
    "duration": 72,
    "start_time": "2023-02-03T07:22:39.775Z"
   },
   {
    "duration": 20,
    "start_time": "2023-02-03T07:23:14.246Z"
   },
   {
    "duration": 22,
    "start_time": "2023-02-03T07:24:12.615Z"
   },
   {
    "duration": 22,
    "start_time": "2023-02-03T07:31:02.774Z"
   },
   {
    "duration": 18,
    "start_time": "2023-02-03T07:32:32.684Z"
   },
   {
    "duration": 37,
    "start_time": "2023-02-03T07:32:37.550Z"
   },
   {
    "duration": 2,
    "start_time": "2023-02-03T07:33:20.512Z"
   },
   {
    "duration": 11,
    "start_time": "2023-02-03T07:33:31.338Z"
   },
   {
    "duration": 35,
    "start_time": "2023-02-03T07:34:03.937Z"
   },
   {
    "duration": 33,
    "start_time": "2023-02-03T07:35:01.881Z"
   },
   {
    "duration": 36,
    "start_time": "2023-02-03T07:35:26.834Z"
   },
   {
    "duration": 774,
    "start_time": "2023-02-03T07:37:00.041Z"
   },
   {
    "duration": 42,
    "start_time": "2023-02-03T07:37:25.328Z"
   },
   {
    "duration": 29,
    "start_time": "2023-02-03T07:37:29.751Z"
   },
   {
    "duration": 15,
    "start_time": "2023-02-03T07:37:40.866Z"
   },
   {
    "duration": 22,
    "start_time": "2023-02-03T07:37:55.025Z"
   },
   {
    "duration": 22,
    "start_time": "2023-02-03T07:38:14.852Z"
   },
   {
    "duration": 53,
    "start_time": "2023-02-03T07:38:21.648Z"
   },
   {
    "duration": 22,
    "start_time": "2023-02-03T07:38:28.239Z"
   },
   {
    "duration": 29,
    "start_time": "2023-02-03T07:38:40.843Z"
   },
   {
    "duration": 709,
    "start_time": "2023-02-03T07:38:48.558Z"
   },
   {
    "duration": 4721,
    "start_time": "2023-02-03T07:40:03.990Z"
   },
   {
    "duration": 19,
    "start_time": "2023-02-03T07:40:53.185Z"
   },
   {
    "duration": 24,
    "start_time": "2023-02-03T07:46:44.887Z"
   },
   {
    "duration": 14,
    "start_time": "2023-02-03T07:48:01.795Z"
   },
   {
    "duration": 13,
    "start_time": "2023-02-03T07:48:23.987Z"
   },
   {
    "duration": 753,
    "start_time": "2023-02-03T07:51:24.728Z"
   },
   {
    "duration": 48,
    "start_time": "2023-02-03T07:52:03.496Z"
   },
   {
    "duration": 734,
    "start_time": "2023-02-03T07:52:07.750Z"
   },
   {
    "duration": 39,
    "start_time": "2023-02-03T07:52:36.965Z"
   },
   {
    "duration": 175,
    "start_time": "2023-02-03T07:53:56.731Z"
   },
   {
    "duration": 162,
    "start_time": "2023-02-03T07:54:24.912Z"
   },
   {
    "duration": 158,
    "start_time": "2023-02-03T07:54:33.296Z"
   },
   {
    "duration": 46,
    "start_time": "2023-02-03T07:55:00.924Z"
   },
   {
    "duration": 41,
    "start_time": "2023-02-03T07:55:24.721Z"
   },
   {
    "duration": 32,
    "start_time": "2023-02-03T07:55:35.392Z"
   },
   {
    "duration": 45,
    "start_time": "2023-02-03T07:56:24.782Z"
   },
   {
    "duration": 183,
    "start_time": "2023-02-03T07:56:35.653Z"
   },
   {
    "duration": 34,
    "start_time": "2023-02-03T07:57:58.554Z"
   },
   {
    "duration": 149,
    "start_time": "2023-02-03T07:59:07.223Z"
   },
   {
    "duration": 39,
    "start_time": "2023-02-03T07:59:25.480Z"
   },
   {
    "duration": 166,
    "start_time": "2023-02-03T08:00:08.006Z"
   },
   {
    "duration": 38,
    "start_time": "2023-02-03T08:01:30.242Z"
   },
   {
    "duration": 29,
    "start_time": "2023-02-03T08:04:26.384Z"
   },
   {
    "duration": 13,
    "start_time": "2023-02-03T08:04:55.182Z"
   },
   {
    "duration": 6,
    "start_time": "2023-02-03T08:05:01.833Z"
   },
   {
    "duration": 10,
    "start_time": "2023-02-03T08:05:06.522Z"
   },
   {
    "duration": 10,
    "start_time": "2023-02-03T08:05:07.668Z"
   },
   {
    "duration": 11,
    "start_time": "2023-02-03T08:06:48.042Z"
   },
   {
    "duration": 11,
    "start_time": "2023-02-03T08:07:09.802Z"
   },
   {
    "duration": 9,
    "start_time": "2023-02-03T08:07:11.923Z"
   },
   {
    "duration": 9,
    "start_time": "2023-02-03T08:08:24.110Z"
   },
   {
    "duration": 769,
    "start_time": "2023-02-03T08:08:54.055Z"
   },
   {
    "duration": 796,
    "start_time": "2023-02-03T08:09:26.654Z"
   },
   {
    "duration": 13,
    "start_time": "2023-02-03T08:13:22.305Z"
   },
   {
    "duration": 21,
    "start_time": "2023-02-03T08:14:14.034Z"
   },
   {
    "duration": 43,
    "start_time": "2023-02-03T08:19:14.922Z"
   },
   {
    "duration": 17,
    "start_time": "2023-02-03T08:19:22.718Z"
   },
   {
    "duration": 35,
    "start_time": "2023-02-03T08:19:32.104Z"
   },
   {
    "duration": 8,
    "start_time": "2023-02-03T08:19:34.451Z"
   },
   {
    "duration": 8,
    "start_time": "2023-02-03T08:19:35.208Z"
   },
   {
    "duration": 30,
    "start_time": "2023-02-03T08:19:36.882Z"
   },
   {
    "duration": 22,
    "start_time": "2023-02-03T08:19:58.941Z"
   },
   {
    "duration": 21,
    "start_time": "2023-02-03T08:20:46.422Z"
   },
   {
    "duration": 22,
    "start_time": "2023-02-03T08:21:07.048Z"
   },
   {
    "duration": 45,
    "start_time": "2023-02-03T08:42:33.930Z"
   },
   {
    "duration": 6,
    "start_time": "2023-02-03T08:42:34.858Z"
   },
   {
    "duration": 8,
    "start_time": "2023-02-03T08:42:35.360Z"
   },
   {
    "duration": 37,
    "start_time": "2023-02-03T08:42:53.574Z"
   },
   {
    "duration": 34,
    "start_time": "2023-02-03T08:47:37.274Z"
   },
   {
    "duration": 6,
    "start_time": "2023-02-03T08:47:37.814Z"
   },
   {
    "duration": 7,
    "start_time": "2023-02-03T08:47:38.313Z"
   },
   {
    "duration": 24,
    "start_time": "2023-02-03T08:47:42.921Z"
   },
   {
    "duration": 718,
    "start_time": "2023-02-03T09:03:24.852Z"
   },
   {
    "duration": 836,
    "start_time": "2023-02-03T09:03:49.163Z"
   },
   {
    "duration": 745,
    "start_time": "2023-02-03T09:04:06.501Z"
   },
   {
    "duration": 709,
    "start_time": "2023-02-03T09:04:48.917Z"
   },
   {
    "duration": 712,
    "start_time": "2023-02-03T09:05:48.530Z"
   },
   {
    "duration": 687,
    "start_time": "2023-02-03T09:06:13.332Z"
   },
   {
    "duration": 702,
    "start_time": "2023-02-03T09:06:25.658Z"
   },
   {
    "duration": 14,
    "start_time": "2023-02-03T09:06:32.387Z"
   },
   {
    "duration": 673,
    "start_time": "2023-02-03T09:06:53.419Z"
   },
   {
    "duration": 714,
    "start_time": "2023-02-03T09:10:01.018Z"
   },
   {
    "duration": 24,
    "start_time": "2023-02-03T09:10:37.899Z"
   },
   {
    "duration": 21,
    "start_time": "2023-02-03T09:10:46.665Z"
   },
   {
    "duration": 15,
    "start_time": "2023-02-03T09:11:19.492Z"
   },
   {
    "duration": 393,
    "start_time": "2023-02-03T09:11:40.556Z"
   },
   {
    "duration": 22,
    "start_time": "2023-02-03T09:11:50.602Z"
   },
   {
    "duration": 24,
    "start_time": "2023-02-03T09:12:08.133Z"
   },
   {
    "duration": 1468,
    "start_time": "2023-02-03T09:12:20.780Z"
   },
   {
    "duration": 775,
    "start_time": "2023-02-03T09:12:31.212Z"
   },
   {
    "duration": 14,
    "start_time": "2023-02-03T09:12:53.979Z"
   },
   {
    "duration": 17,
    "start_time": "2023-02-03T09:13:10.828Z"
   },
   {
    "duration": 23,
    "start_time": "2023-02-03T09:13:28.756Z"
   },
   {
    "duration": 6,
    "start_time": "2023-02-03T09:13:51.748Z"
   },
   {
    "duration": 30,
    "start_time": "2023-02-03T09:14:21.270Z"
   },
   {
    "duration": 35,
    "start_time": "2023-02-03T09:14:30.646Z"
   },
   {
    "duration": 24,
    "start_time": "2023-02-03T09:16:41.902Z"
   },
   {
    "duration": 37,
    "start_time": "2023-02-03T09:17:43.309Z"
   },
   {
    "duration": 42,
    "start_time": "2023-02-03T09:18:36.160Z"
   },
   {
    "duration": 36,
    "start_time": "2023-02-03T09:26:40.901Z"
   },
   {
    "duration": 36,
    "start_time": "2023-02-03T09:27:08.864Z"
   },
   {
    "duration": 37,
    "start_time": "2023-02-03T09:27:51.241Z"
   },
   {
    "duration": 31,
    "start_time": "2023-02-03T09:28:23.831Z"
   },
   {
    "duration": 43,
    "start_time": "2023-02-03T09:29:16.895Z"
   },
   {
    "duration": 35,
    "start_time": "2023-02-03T09:29:55.044Z"
   },
   {
    "duration": 4,
    "start_time": "2023-02-03T09:38:07.526Z"
   },
   {
    "duration": 3,
    "start_time": "2023-02-03T09:38:31.699Z"
   },
   {
    "duration": 4,
    "start_time": "2023-02-03T09:38:55.162Z"
   },
   {
    "duration": 52,
    "start_time": "2023-02-03T09:39:20.397Z"
   },
   {
    "duration": 9,
    "start_time": "2023-02-03T09:39:32.055Z"
   },
   {
    "duration": 7,
    "start_time": "2023-02-03T09:39:55.019Z"
   },
   {
    "duration": 15,
    "start_time": "2023-02-03T09:40:02.067Z"
   },
   {
    "duration": 29,
    "start_time": "2023-02-03T09:41:15.108Z"
   },
   {
    "duration": 28,
    "start_time": "2023-02-03T09:42:33.930Z"
   },
   {
    "duration": 9,
    "start_time": "2023-02-03T10:09:53.250Z"
   },
   {
    "duration": 8,
    "start_time": "2023-02-03T10:10:10.938Z"
   },
   {
    "duration": 13,
    "start_time": "2023-02-03T10:10:35.811Z"
   },
   {
    "duration": 39,
    "start_time": "2023-02-03T10:20:29.781Z"
   },
   {
    "duration": 233,
    "start_time": "2023-02-03T10:22:23.111Z"
   },
   {
    "duration": 12,
    "start_time": "2023-02-03T10:23:04.691Z"
   },
   {
    "duration": 7,
    "start_time": "2023-02-03T10:23:07.472Z"
   },
   {
    "duration": 484,
    "start_time": "2023-02-03T10:23:55.542Z"
   },
   {
    "duration": 23,
    "start_time": "2023-02-03T10:23:56.028Z"
   },
   {
    "duration": 40,
    "start_time": "2023-02-03T10:23:56.053Z"
   },
   {
    "duration": 13,
    "start_time": "2023-02-03T10:23:56.095Z"
   },
   {
    "duration": 35,
    "start_time": "2023-02-03T10:23:56.110Z"
   },
   {
    "duration": 4,
    "start_time": "2023-02-03T10:23:56.146Z"
   },
   {
    "duration": 18,
    "start_time": "2023-02-03T10:23:56.152Z"
   },
   {
    "duration": 10,
    "start_time": "2023-02-03T10:23:56.171Z"
   },
   {
    "duration": 23,
    "start_time": "2023-02-03T10:23:56.184Z"
   },
   {
    "duration": 13,
    "start_time": "2023-02-03T10:23:56.211Z"
   },
   {
    "duration": 40,
    "start_time": "2023-02-03T10:23:56.225Z"
   },
   {
    "duration": 10,
    "start_time": "2023-02-03T10:23:56.267Z"
   },
   {
    "duration": 19,
    "start_time": "2023-02-03T10:23:56.278Z"
   },
   {
    "duration": 21,
    "start_time": "2023-02-03T10:23:56.299Z"
   },
   {
    "duration": 23,
    "start_time": "2023-02-03T10:23:56.322Z"
   },
   {
    "duration": 18,
    "start_time": "2023-02-03T10:23:56.346Z"
   },
   {
    "duration": 3,
    "start_time": "2023-02-03T10:23:56.366Z"
   },
   {
    "duration": 24,
    "start_time": "2023-02-03T10:23:56.371Z"
   },
   {
    "duration": 8,
    "start_time": "2023-02-03T10:23:56.397Z"
   },
   {
    "duration": 4,
    "start_time": "2023-02-03T10:23:56.407Z"
   },
   {
    "duration": 14,
    "start_time": "2023-02-03T10:23:56.413Z"
   },
   {
    "duration": 8,
    "start_time": "2023-02-03T10:23:56.429Z"
   },
   {
    "duration": 16,
    "start_time": "2023-02-03T10:23:56.439Z"
   },
   {
    "duration": 9,
    "start_time": "2023-02-03T10:23:56.457Z"
   },
   {
    "duration": 18,
    "start_time": "2023-02-03T10:23:56.468Z"
   },
   {
    "duration": 22,
    "start_time": "2023-02-03T10:23:56.497Z"
   },
   {
    "duration": 8,
    "start_time": "2023-02-03T10:23:56.521Z"
   },
   {
    "duration": 30,
    "start_time": "2023-02-03T10:23:56.531Z"
   },
   {
    "duration": 5,
    "start_time": "2023-02-03T10:23:56.563Z"
   },
   {
    "duration": 9,
    "start_time": "2023-02-03T10:23:56.570Z"
   },
   {
    "duration": 28,
    "start_time": "2023-02-03T10:23:56.584Z"
   },
   {
    "duration": 30,
    "start_time": "2023-02-03T10:24:07.927Z"
   },
   {
    "duration": 6,
    "start_time": "2023-02-03T10:24:57.372Z"
   },
   {
    "duration": 8,
    "start_time": "2023-02-03T10:35:00.598Z"
   },
   {
    "duration": 75,
    "start_time": "2023-02-03T10:36:44.384Z"
   },
   {
    "duration": 48,
    "start_time": "2023-02-03T10:39:36.795Z"
   },
   {
    "duration": 48,
    "start_time": "2023-02-03T10:44:50.824Z"
   },
   {
    "duration": 47,
    "start_time": "2023-02-03T10:45:37.868Z"
   },
   {
    "duration": 40,
    "start_time": "2023-02-03T10:46:05.663Z"
   },
   {
    "duration": 30,
    "start_time": "2023-02-03T10:47:18.016Z"
   },
   {
    "duration": 27,
    "start_time": "2023-02-03T10:47:42.809Z"
   },
   {
    "duration": 6,
    "start_time": "2023-02-03T10:48:59.610Z"
   },
   {
    "duration": 27,
    "start_time": "2023-02-03T10:50:09.531Z"
   },
   {
    "duration": 32,
    "start_time": "2023-02-03T10:50:17.665Z"
   },
   {
    "duration": 30,
    "start_time": "2023-02-03T10:50:29.377Z"
   },
   {
    "duration": 37,
    "start_time": "2023-02-03T10:50:35.790Z"
   },
   {
    "duration": 27,
    "start_time": "2023-02-03T10:50:48.626Z"
   },
   {
    "duration": 34,
    "start_time": "2023-02-03T10:50:58.503Z"
   },
   {
    "duration": 32,
    "start_time": "2023-02-03T10:51:07.907Z"
   },
   {
    "duration": 30,
    "start_time": "2023-02-03T10:51:16.068Z"
   },
   {
    "duration": 29,
    "start_time": "2023-02-03T10:51:21.026Z"
   },
   {
    "duration": 43,
    "start_time": "2023-02-03T10:53:42.909Z"
   },
   {
    "duration": 29,
    "start_time": "2023-02-03T10:53:53.327Z"
   },
   {
    "duration": 41,
    "start_time": "2023-02-03T11:18:43.092Z"
   },
   {
    "duration": 29,
    "start_time": "2023-02-03T11:19:47.261Z"
   },
   {
    "duration": 58,
    "start_time": "2023-02-03T11:23:39.586Z"
   },
   {
    "duration": 28,
    "start_time": "2023-02-03T11:29:33.939Z"
   },
   {
    "duration": 48,
    "start_time": "2023-02-03T11:30:35.974Z"
   },
   {
    "duration": 11,
    "start_time": "2023-02-03T11:30:47.254Z"
   },
   {
    "duration": 38,
    "start_time": "2023-02-03T11:30:54.214Z"
   },
   {
    "duration": 6,
    "start_time": "2023-02-03T11:34:53.975Z"
   },
   {
    "duration": 7,
    "start_time": "2023-02-03T11:35:51.855Z"
   },
   {
    "duration": 10,
    "start_time": "2023-02-03T11:40:53.993Z"
   },
   {
    "duration": 29,
    "start_time": "2023-02-03T11:41:09.099Z"
   },
   {
    "duration": 552,
    "start_time": "2023-02-03T16:02:29.771Z"
   },
   {
    "duration": 26,
    "start_time": "2023-02-03T16:02:30.330Z"
   },
   {
    "duration": 86,
    "start_time": "2023-02-03T16:02:30.359Z"
   },
   {
    "duration": 38,
    "start_time": "2023-02-03T16:02:30.448Z"
   },
   {
    "duration": 74,
    "start_time": "2023-02-03T16:02:30.488Z"
   },
   {
    "duration": 5,
    "start_time": "2023-02-03T16:02:30.564Z"
   },
   {
    "duration": 52,
    "start_time": "2023-02-03T16:02:30.571Z"
   },
   {
    "duration": 51,
    "start_time": "2023-02-03T16:02:30.625Z"
   },
   {
    "duration": 53,
    "start_time": "2023-02-03T16:02:30.677Z"
   },
   {
    "duration": 34,
    "start_time": "2023-02-03T16:02:30.734Z"
   },
   {
    "duration": 67,
    "start_time": "2023-02-03T16:02:30.770Z"
   },
   {
    "duration": 21,
    "start_time": "2023-02-03T16:02:30.839Z"
   },
   {
    "duration": 29,
    "start_time": "2023-02-03T16:02:30.862Z"
   },
   {
    "duration": 47,
    "start_time": "2023-02-03T16:02:30.893Z"
   },
   {
    "duration": 49,
    "start_time": "2023-02-03T16:02:30.942Z"
   },
   {
    "duration": 35,
    "start_time": "2023-02-03T16:02:30.993Z"
   },
   {
    "duration": 30,
    "start_time": "2023-02-03T16:02:31.030Z"
   },
   {
    "duration": 42,
    "start_time": "2023-02-03T16:02:31.061Z"
   },
   {
    "duration": 47,
    "start_time": "2023-02-03T16:02:31.105Z"
   },
   {
    "duration": 24,
    "start_time": "2023-02-03T16:02:31.154Z"
   },
   {
    "duration": 62,
    "start_time": "2023-02-03T16:02:31.180Z"
   },
   {
    "duration": 27,
    "start_time": "2023-02-03T16:02:31.243Z"
   },
   {
    "duration": 43,
    "start_time": "2023-02-03T16:02:31.271Z"
   },
   {
    "duration": 74,
    "start_time": "2023-02-03T16:03:10.744Z"
   },
   {
    "duration": 24,
    "start_time": "2023-02-03T16:03:10.821Z"
   },
   {
    "duration": 17,
    "start_time": "2023-02-03T16:03:10.847Z"
   },
   {
    "duration": 13,
    "start_time": "2023-02-03T16:03:10.867Z"
   },
   {
    "duration": 57,
    "start_time": "2023-02-03T16:03:10.882Z"
   },
   {
    "duration": 3,
    "start_time": "2023-02-03T16:03:10.941Z"
   },
   {
    "duration": 14,
    "start_time": "2023-02-03T16:03:10.946Z"
   },
   {
    "duration": 9,
    "start_time": "2023-02-03T16:03:10.962Z"
   },
   {
    "duration": 24,
    "start_time": "2023-02-03T16:03:10.972Z"
   },
   {
    "duration": 22,
    "start_time": "2023-02-03T16:03:10.999Z"
   },
   {
    "duration": 37,
    "start_time": "2023-02-03T16:03:11.022Z"
   },
   {
    "duration": 10,
    "start_time": "2023-02-03T16:03:11.061Z"
   },
   {
    "duration": 6,
    "start_time": "2023-02-03T16:03:11.072Z"
   },
   {
    "duration": 31,
    "start_time": "2023-02-03T16:03:11.080Z"
   },
   {
    "duration": 30,
    "start_time": "2023-02-03T16:03:11.117Z"
   },
   {
    "duration": 24,
    "start_time": "2023-02-03T16:03:11.149Z"
   },
   {
    "duration": 5,
    "start_time": "2023-02-03T16:03:11.176Z"
   },
   {
    "duration": 30,
    "start_time": "2023-02-03T16:03:11.184Z"
   },
   {
    "duration": 8,
    "start_time": "2023-02-03T16:03:11.217Z"
   },
   {
    "duration": 5,
    "start_time": "2023-02-03T16:03:11.227Z"
   },
   {
    "duration": 18,
    "start_time": "2023-02-03T16:03:11.234Z"
   },
   {
    "duration": 9,
    "start_time": "2023-02-03T16:03:11.254Z"
   },
   {
    "duration": 12,
    "start_time": "2023-02-03T16:03:11.265Z"
   },
   {
    "duration": 6,
    "start_time": "2023-02-03T16:03:11.278Z"
   },
   {
    "duration": 18,
    "start_time": "2023-02-03T16:03:11.286Z"
   },
   {
    "duration": 24,
    "start_time": "2023-02-03T16:03:11.305Z"
   },
   {
    "duration": 11,
    "start_time": "2023-02-03T16:03:11.331Z"
   },
   {
    "duration": 64,
    "start_time": "2023-02-03T16:03:11.346Z"
   },
   {
    "duration": 0,
    "start_time": "2023-02-03T16:03:11.415Z"
   },
   {
    "duration": 0,
    "start_time": "2023-02-03T16:03:11.420Z"
   },
   {
    "duration": 0,
    "start_time": "2023-02-03T16:03:11.421Z"
   },
   {
    "duration": 0,
    "start_time": "2023-02-03T16:03:11.422Z"
   },
   {
    "duration": 0,
    "start_time": "2023-02-03T16:03:11.423Z"
   },
   {
    "duration": 0,
    "start_time": "2023-02-03T16:03:11.424Z"
   },
   {
    "duration": 0,
    "start_time": "2023-02-03T16:03:11.425Z"
   },
   {
    "duration": 3,
    "start_time": "2023-02-03T16:06:48.397Z"
   },
   {
    "duration": 3,
    "start_time": "2023-02-03T16:40:48.639Z"
   },
   {
    "duration": 37,
    "start_time": "2023-02-03T16:40:50.033Z"
   },
   {
    "duration": 4,
    "start_time": "2023-02-03T16:44:27.672Z"
   },
   {
    "duration": 28,
    "start_time": "2023-02-03T16:44:29.210Z"
   },
   {
    "duration": 9,
    "start_time": "2023-02-03T16:46:27.219Z"
   },
   {
    "duration": 4,
    "start_time": "2023-02-03T16:46:53.285Z"
   },
   {
    "duration": 67,
    "start_time": "2023-02-03T16:47:00.804Z"
   },
   {
    "duration": 6,
    "start_time": "2023-02-03T16:48:40.644Z"
   },
   {
    "duration": 10,
    "start_time": "2023-02-03T16:49:02.791Z"
   },
   {
    "duration": 4,
    "start_time": "2023-02-03T17:01:16.616Z"
   },
   {
    "duration": 26,
    "start_time": "2023-02-03T17:01:18.818Z"
   },
   {
    "duration": 57,
    "start_time": "2023-02-03T17:03:35.183Z"
   },
   {
    "duration": 28,
    "start_time": "2023-02-03T17:03:50.861Z"
   },
   {
    "duration": 14,
    "start_time": "2023-02-03T17:04:15.736Z"
   },
   {
    "duration": 26,
    "start_time": "2023-02-03T17:05:22.428Z"
   },
   {
    "duration": 18,
    "start_time": "2023-02-03T17:06:37.199Z"
   },
   {
    "duration": 4,
    "start_time": "2023-02-03T17:08:39.708Z"
   },
   {
    "duration": 15,
    "start_time": "2023-02-03T17:08:43.275Z"
   },
   {
    "duration": 4,
    "start_time": "2023-02-03T17:09:03.447Z"
   },
   {
    "duration": 14,
    "start_time": "2023-02-03T17:09:06.980Z"
   },
   {
    "duration": 9,
    "start_time": "2023-02-03T17:15:03.653Z"
   },
   {
    "duration": 41,
    "start_time": "2023-02-03T17:15:19.821Z"
   },
   {
    "duration": 4,
    "start_time": "2023-02-03T17:15:26.199Z"
   },
   {
    "duration": 6,
    "start_time": "2023-02-03T17:15:46.126Z"
   },
   {
    "duration": 9,
    "start_time": "2023-02-03T17:15:49.468Z"
   },
   {
    "duration": 495,
    "start_time": "2023-02-03T17:16:15.173Z"
   },
   {
    "duration": 23,
    "start_time": "2023-02-03T17:16:15.670Z"
   },
   {
    "duration": 17,
    "start_time": "2023-02-03T17:16:15.694Z"
   },
   {
    "duration": 11,
    "start_time": "2023-02-03T17:16:15.714Z"
   },
   {
    "duration": 34,
    "start_time": "2023-02-03T17:16:15.728Z"
   },
   {
    "duration": 4,
    "start_time": "2023-02-03T17:16:15.764Z"
   },
   {
    "duration": 37,
    "start_time": "2023-02-03T17:16:15.770Z"
   },
   {
    "duration": 6,
    "start_time": "2023-02-03T17:16:15.809Z"
   },
   {
    "duration": 25,
    "start_time": "2023-02-03T17:16:15.817Z"
   },
   {
    "duration": 4,
    "start_time": "2023-02-03T17:16:15.844Z"
   },
   {
    "duration": 35,
    "start_time": "2023-02-03T17:16:15.850Z"
   },
   {
    "duration": 18,
    "start_time": "2023-02-03T17:16:15.887Z"
   },
   {
    "duration": 5,
    "start_time": "2023-02-03T17:16:15.907Z"
   },
   {
    "duration": 31,
    "start_time": "2023-02-03T17:16:15.913Z"
   },
   {
    "duration": 20,
    "start_time": "2023-02-03T17:16:15.946Z"
   },
   {
    "duration": 18,
    "start_time": "2023-02-03T17:16:15.967Z"
   },
   {
    "duration": 19,
    "start_time": "2023-02-03T17:16:15.986Z"
   },
   {
    "duration": 14,
    "start_time": "2023-02-03T17:16:16.007Z"
   },
   {
    "duration": 16,
    "start_time": "2023-02-03T17:16:16.023Z"
   },
   {
    "duration": 4,
    "start_time": "2023-02-03T17:16:16.041Z"
   },
   {
    "duration": 10,
    "start_time": "2023-02-03T17:16:16.046Z"
   },
   {
    "duration": 4,
    "start_time": "2023-02-03T17:16:16.058Z"
   },
   {
    "duration": 10,
    "start_time": "2023-02-03T17:16:16.063Z"
   },
   {
    "duration": 35,
    "start_time": "2023-02-03T17:16:16.075Z"
   },
   {
    "duration": 20,
    "start_time": "2023-02-03T17:16:16.112Z"
   },
   {
    "duration": 7,
    "start_time": "2023-02-03T17:16:16.134Z"
   },
   {
    "duration": 5,
    "start_time": "2023-02-03T17:16:16.143Z"
   },
   {
    "duration": 91,
    "start_time": "2023-02-03T17:16:16.152Z"
   },
   {
    "duration": 0,
    "start_time": "2023-02-03T17:16:16.244Z"
   },
   {
    "duration": 0,
    "start_time": "2023-02-03T17:16:16.246Z"
   },
   {
    "duration": 0,
    "start_time": "2023-02-03T17:16:16.248Z"
   },
   {
    "duration": 0,
    "start_time": "2023-02-03T17:16:16.249Z"
   },
   {
    "duration": 0,
    "start_time": "2023-02-03T17:16:16.250Z"
   },
   {
    "duration": 0,
    "start_time": "2023-02-03T17:16:16.252Z"
   },
   {
    "duration": 0,
    "start_time": "2023-02-03T17:16:16.253Z"
   },
   {
    "duration": 5,
    "start_time": "2023-02-03T17:16:39.408Z"
   },
   {
    "duration": 9,
    "start_time": "2023-02-03T17:16:40.859Z"
   },
   {
    "duration": 4,
    "start_time": "2023-02-03T17:18:13.941Z"
   },
   {
    "duration": 14,
    "start_time": "2023-02-03T17:18:15.397Z"
   },
   {
    "duration": 4,
    "start_time": "2023-02-03T17:19:16.137Z"
   },
   {
    "duration": 40,
    "start_time": "2023-02-03T17:19:17.801Z"
   },
   {
    "duration": 11,
    "start_time": "2023-02-03T17:19:43.619Z"
   },
   {
    "duration": 23,
    "start_time": "2023-02-03T17:20:02.866Z"
   },
   {
    "duration": 21,
    "start_time": "2023-02-03T17:20:05.893Z"
   },
   {
    "duration": 24,
    "start_time": "2023-02-03T17:20:34.319Z"
   },
   {
    "duration": 22,
    "start_time": "2023-02-03T17:21:59.364Z"
   },
   {
    "duration": 9,
    "start_time": "2023-02-03T17:22:17.878Z"
   },
   {
    "duration": 3,
    "start_time": "2023-02-03T17:22:40.378Z"
   },
   {
    "duration": 18,
    "start_time": "2023-02-03T17:22:46.673Z"
   },
   {
    "duration": 3,
    "start_time": "2023-02-03T17:23:28.767Z"
   },
   {
    "duration": 34,
    "start_time": "2023-02-03T17:25:33.393Z"
   },
   {
    "duration": 29,
    "start_time": "2023-02-03T17:25:43.716Z"
   },
   {
    "duration": 24,
    "start_time": "2023-02-03T17:25:56.163Z"
   },
   {
    "duration": 6,
    "start_time": "2023-02-03T17:33:54.289Z"
   },
   {
    "duration": 32,
    "start_time": "2023-02-03T17:39:15.341Z"
   },
   {
    "duration": 477,
    "start_time": "2023-02-03T18:03:27.223Z"
   },
   {
    "duration": 23,
    "start_time": "2023-02-03T18:03:27.702Z"
   },
   {
    "duration": 16,
    "start_time": "2023-02-03T18:03:27.727Z"
   },
   {
    "duration": 9,
    "start_time": "2023-02-03T18:03:27.745Z"
   },
   {
    "duration": 58,
    "start_time": "2023-02-03T18:03:27.755Z"
   },
   {
    "duration": 3,
    "start_time": "2023-02-03T18:03:27.815Z"
   },
   {
    "duration": 12,
    "start_time": "2023-02-03T18:03:27.820Z"
   },
   {
    "duration": 5,
    "start_time": "2023-02-03T18:03:27.833Z"
   },
   {
    "duration": 12,
    "start_time": "2023-02-03T18:03:27.839Z"
   },
   {
    "duration": 4,
    "start_time": "2023-02-03T18:03:27.855Z"
   },
   {
    "duration": 58,
    "start_time": "2023-02-03T18:03:27.861Z"
   },
   {
    "duration": 9,
    "start_time": "2023-02-03T18:03:27.921Z"
   },
   {
    "duration": 7,
    "start_time": "2023-02-03T18:03:27.932Z"
   },
   {
    "duration": 21,
    "start_time": "2023-02-03T18:03:27.941Z"
   },
   {
    "duration": 35,
    "start_time": "2023-02-03T18:03:27.964Z"
   },
   {
    "duration": 18,
    "start_time": "2023-02-03T18:03:28.001Z"
   },
   {
    "duration": 3,
    "start_time": "2023-02-03T18:03:28.021Z"
   },
   {
    "duration": 16,
    "start_time": "2023-02-03T18:03:28.026Z"
   },
   {
    "duration": 6,
    "start_time": "2023-02-03T18:03:28.044Z"
   },
   {
    "duration": 7,
    "start_time": "2023-02-03T18:03:28.051Z"
   },
   {
    "duration": 10,
    "start_time": "2023-02-03T18:03:28.060Z"
   },
   {
    "duration": 8,
    "start_time": "2023-02-03T18:03:28.072Z"
   },
   {
    "duration": 29,
    "start_time": "2023-02-03T18:03:28.082Z"
   },
   {
    "duration": 11,
    "start_time": "2023-02-03T18:03:28.112Z"
   },
   {
    "duration": 8,
    "start_time": "2023-02-03T18:03:28.124Z"
   },
   {
    "duration": 19,
    "start_time": "2023-02-03T18:03:28.134Z"
   },
   {
    "duration": 25,
    "start_time": "2023-02-03T18:03:28.154Z"
   },
   {
    "duration": 6,
    "start_time": "2023-02-03T18:03:28.181Z"
   },
   {
    "duration": 69,
    "start_time": "2023-02-03T18:03:28.188Z"
   },
   {
    "duration": 0,
    "start_time": "2023-02-03T18:03:28.258Z"
   },
   {
    "duration": 0,
    "start_time": "2023-02-03T18:03:28.259Z"
   },
   {
    "duration": 0,
    "start_time": "2023-02-03T18:03:28.261Z"
   },
   {
    "duration": 0,
    "start_time": "2023-02-03T18:03:28.262Z"
   },
   {
    "duration": 0,
    "start_time": "2023-02-03T18:03:28.263Z"
   },
   {
    "duration": 0,
    "start_time": "2023-02-03T18:03:28.264Z"
   },
   {
    "duration": 3,
    "start_time": "2023-02-03T18:04:42.252Z"
   },
   {
    "duration": 27,
    "start_time": "2023-02-03T18:05:09.725Z"
   },
   {
    "duration": 10,
    "start_time": "2023-02-03T18:05:32.231Z"
   },
   {
    "duration": 19,
    "start_time": "2023-02-03T18:05:57.500Z"
   },
   {
    "duration": 14,
    "start_time": "2023-02-03T18:06:28.316Z"
   },
   {
    "duration": 18,
    "start_time": "2023-02-03T18:06:47.989Z"
   },
   {
    "duration": 48,
    "start_time": "2023-02-03T18:30:51.969Z"
   },
   {
    "duration": 19,
    "start_time": "2023-02-03T18:30:55.986Z"
   },
   {
    "duration": 34,
    "start_time": "2023-02-03T18:34:01.028Z"
   },
   {
    "duration": 13,
    "start_time": "2023-02-03T18:36:20.369Z"
   },
   {
    "duration": 14,
    "start_time": "2023-02-03T18:36:42.973Z"
   },
   {
    "duration": 7,
    "start_time": "2023-02-03T18:36:53.675Z"
   },
   {
    "duration": 24,
    "start_time": "2023-02-03T18:37:21.875Z"
   },
   {
    "duration": 10,
    "start_time": "2023-02-03T18:37:28.393Z"
   },
   {
    "duration": 20,
    "start_time": "2023-02-03T18:38:47.380Z"
   },
   {
    "duration": 15,
    "start_time": "2023-02-03T18:48:23.628Z"
   },
   {
    "duration": 16,
    "start_time": "2023-02-03T18:48:40.677Z"
   },
   {
    "duration": 23,
    "start_time": "2023-02-03T18:48:44.330Z"
   },
   {
    "duration": 12,
    "start_time": "2023-02-03T18:48:46.978Z"
   },
   {
    "duration": 694,
    "start_time": "2023-02-03T18:49:16.854Z"
   },
   {
    "duration": 22,
    "start_time": "2023-02-03T18:49:25.536Z"
   },
   {
    "duration": 19,
    "start_time": "2023-02-03T18:49:27.679Z"
   },
   {
    "duration": 37,
    "start_time": "2023-02-03T18:50:19.796Z"
   },
   {
    "duration": 47,
    "start_time": "2023-02-03T18:51:14.525Z"
   },
   {
    "duration": 8,
    "start_time": "2023-02-03T19:04:48.676Z"
   },
   {
    "duration": 11,
    "start_time": "2023-02-03T19:06:12.898Z"
   },
   {
    "duration": 51,
    "start_time": "2023-02-03T19:09:07.123Z"
   },
   {
    "duration": 47,
    "start_time": "2023-02-03T19:11:59.874Z"
   },
   {
    "duration": 60,
    "start_time": "2023-02-03T19:12:06.890Z"
   },
   {
    "duration": 485,
    "start_time": "2023-02-03T19:12:25.599Z"
   },
   {
    "duration": 26,
    "start_time": "2023-02-03T19:12:26.086Z"
   },
   {
    "duration": 16,
    "start_time": "2023-02-03T19:12:26.114Z"
   },
   {
    "duration": 14,
    "start_time": "2023-02-03T19:12:26.134Z"
   },
   {
    "duration": 63,
    "start_time": "2023-02-03T19:12:26.150Z"
   },
   {
    "duration": 4,
    "start_time": "2023-02-03T19:12:26.215Z"
   },
   {
    "duration": 23,
    "start_time": "2023-02-03T19:12:26.221Z"
   },
   {
    "duration": 5,
    "start_time": "2023-02-03T19:12:26.246Z"
   },
   {
    "duration": 47,
    "start_time": "2023-02-03T19:12:26.253Z"
   },
   {
    "duration": 5,
    "start_time": "2023-02-03T19:12:26.306Z"
   },
   {
    "duration": 52,
    "start_time": "2023-02-03T19:12:26.313Z"
   },
   {
    "duration": 15,
    "start_time": "2023-02-03T19:12:26.367Z"
   },
   {
    "duration": 22,
    "start_time": "2023-02-03T19:12:26.384Z"
   },
   {
    "duration": 13,
    "start_time": "2023-02-03T19:12:26.409Z"
   },
   {
    "duration": 34,
    "start_time": "2023-02-03T19:12:26.424Z"
   },
   {
    "duration": 49,
    "start_time": "2023-02-03T19:12:26.461Z"
   },
   {
    "duration": 5,
    "start_time": "2023-02-03T19:12:26.512Z"
   },
   {
    "duration": 15,
    "start_time": "2023-02-03T19:12:26.519Z"
   },
   {
    "duration": 11,
    "start_time": "2023-02-03T19:12:26.536Z"
   },
   {
    "duration": 5,
    "start_time": "2023-02-03T19:12:26.549Z"
   },
   {
    "duration": 15,
    "start_time": "2023-02-03T19:12:26.556Z"
   },
   {
    "duration": 5,
    "start_time": "2023-02-03T19:12:26.602Z"
   },
   {
    "duration": 15,
    "start_time": "2023-02-03T19:12:26.609Z"
   },
   {
    "duration": 10,
    "start_time": "2023-02-03T19:12:26.626Z"
   },
   {
    "duration": 10,
    "start_time": "2023-02-03T19:12:26.637Z"
   },
   {
    "duration": 18,
    "start_time": "2023-02-03T19:12:26.648Z"
   },
   {
    "duration": 35,
    "start_time": "2023-02-03T19:12:26.668Z"
   },
   {
    "duration": 9,
    "start_time": "2023-02-03T19:12:26.708Z"
   },
   {
    "duration": 14,
    "start_time": "2023-02-03T19:12:26.718Z"
   },
   {
    "duration": 10,
    "start_time": "2023-02-03T19:12:26.734Z"
   },
   {
    "duration": 6,
    "start_time": "2023-02-03T19:12:26.746Z"
   },
   {
    "duration": 60,
    "start_time": "2023-02-03T19:12:26.754Z"
   },
   {
    "duration": 11,
    "start_time": "2023-02-03T19:12:26.816Z"
   },
   {
    "duration": 38,
    "start_time": "2023-02-03T19:12:26.829Z"
   },
   {
    "duration": 157,
    "start_time": "2023-02-03T19:12:26.869Z"
   },
   {
    "duration": 0,
    "start_time": "2023-02-03T19:12:27.027Z"
   },
   {
    "duration": 0,
    "start_time": "2023-02-03T19:12:27.029Z"
   },
   {
    "duration": 0,
    "start_time": "2023-02-03T19:12:27.030Z"
   },
   {
    "duration": 0,
    "start_time": "2023-02-03T19:12:27.030Z"
   },
   {
    "duration": 26,
    "start_time": "2023-02-03T19:13:56.161Z"
   },
   {
    "duration": 5,
    "start_time": "2023-02-03T19:14:18.776Z"
   },
   {
    "duration": 5,
    "start_time": "2023-02-03T19:14:24.374Z"
   },
   {
    "duration": 22,
    "start_time": "2023-02-03T19:15:04.897Z"
   },
   {
    "duration": 42,
    "start_time": "2023-02-03T19:15:19.681Z"
   },
   {
    "duration": 456,
    "start_time": "2023-02-03T19:15:52.045Z"
   },
   {
    "duration": 31,
    "start_time": "2023-02-03T19:15:52.503Z"
   },
   {
    "duration": 19,
    "start_time": "2023-02-03T19:15:52.537Z"
   },
   {
    "duration": 15,
    "start_time": "2023-02-03T19:15:52.559Z"
   },
   {
    "duration": 76,
    "start_time": "2023-02-03T19:15:52.576Z"
   },
   {
    "duration": 5,
    "start_time": "2023-02-03T19:15:52.654Z"
   },
   {
    "duration": 15,
    "start_time": "2023-02-03T19:15:52.661Z"
   },
   {
    "duration": 5,
    "start_time": "2023-02-03T19:15:52.678Z"
   },
   {
    "duration": 12,
    "start_time": "2023-02-03T19:15:52.704Z"
   },
   {
    "duration": 6,
    "start_time": "2023-02-03T19:15:52.722Z"
   },
   {
    "duration": 37,
    "start_time": "2023-02-03T19:15:52.730Z"
   },
   {
    "duration": 35,
    "start_time": "2023-02-03T19:15:52.769Z"
   },
   {
    "duration": 9,
    "start_time": "2023-02-03T19:15:52.807Z"
   },
   {
    "duration": 20,
    "start_time": "2023-02-03T19:15:52.818Z"
   },
   {
    "duration": 30,
    "start_time": "2023-02-03T19:15:52.840Z"
   },
   {
    "duration": 36,
    "start_time": "2023-02-03T19:15:52.872Z"
   },
   {
    "duration": 4,
    "start_time": "2023-02-03T19:15:52.909Z"
   },
   {
    "duration": 20,
    "start_time": "2023-02-03T19:15:52.917Z"
   },
   {
    "duration": 12,
    "start_time": "2023-02-03T19:15:52.939Z"
   },
   {
    "duration": 5,
    "start_time": "2023-02-03T19:15:52.953Z"
   },
   {
    "duration": 28,
    "start_time": "2023-02-03T19:15:52.960Z"
   },
   {
    "duration": 15,
    "start_time": "2023-02-03T19:15:52.991Z"
   },
   {
    "duration": 20,
    "start_time": "2023-02-03T19:15:53.008Z"
   },
   {
    "duration": 17,
    "start_time": "2023-02-03T19:15:53.030Z"
   },
   {
    "duration": 12,
    "start_time": "2023-02-03T19:15:53.050Z"
   },
   {
    "duration": 19,
    "start_time": "2023-02-03T19:15:53.064Z"
   },
   {
    "duration": 13,
    "start_time": "2023-02-03T19:15:53.085Z"
   },
   {
    "duration": 10,
    "start_time": "2023-02-03T19:15:53.106Z"
   },
   {
    "duration": 13,
    "start_time": "2023-02-03T19:15:53.118Z"
   },
   {
    "duration": 7,
    "start_time": "2023-02-03T19:15:53.133Z"
   },
   {
    "duration": 13,
    "start_time": "2023-02-03T19:15:53.142Z"
   },
   {
    "duration": 60,
    "start_time": "2023-02-03T19:15:53.157Z"
   },
   {
    "duration": 14,
    "start_time": "2023-02-03T19:15:53.218Z"
   },
   {
    "duration": 36,
    "start_time": "2023-02-03T19:15:53.234Z"
   },
   {
    "duration": 135,
    "start_time": "2023-02-03T19:15:53.272Z"
   },
   {
    "duration": 0,
    "start_time": "2023-02-03T19:15:53.409Z"
   },
   {
    "duration": 0,
    "start_time": "2023-02-03T19:15:53.410Z"
   },
   {
    "duration": 0,
    "start_time": "2023-02-03T19:15:53.411Z"
   },
   {
    "duration": 0,
    "start_time": "2023-02-03T19:15:53.412Z"
   },
   {
    "duration": 26,
    "start_time": "2023-02-03T19:16:36.432Z"
   },
   {
    "duration": 26,
    "start_time": "2023-02-03T19:16:57.742Z"
   },
   {
    "duration": 29,
    "start_time": "2023-02-03T19:16:58.964Z"
   },
   {
    "duration": 50,
    "start_time": "2023-02-03T19:20:16.836Z"
   },
   {
    "duration": 47,
    "start_time": "2023-02-03T19:20:48.945Z"
   },
   {
    "duration": 59,
    "start_time": "2023-02-03T19:21:47.263Z"
   },
   {
    "duration": 24,
    "start_time": "2023-02-03T19:22:39.099Z"
   },
   {
    "duration": 40,
    "start_time": "2023-02-03T19:22:59.859Z"
   },
   {
    "duration": 34,
    "start_time": "2023-02-03T19:23:02.683Z"
   },
   {
    "duration": 29,
    "start_time": "2023-02-03T19:53:53.351Z"
   },
   {
    "duration": 32,
    "start_time": "2023-02-03T19:55:08.450Z"
   },
   {
    "duration": 18,
    "start_time": "2023-02-03T20:02:10.789Z"
   },
   {
    "duration": 9,
    "start_time": "2023-02-03T20:02:11.965Z"
   },
   {
    "duration": 17,
    "start_time": "2023-02-03T20:08:58.300Z"
   },
   {
    "duration": 8,
    "start_time": "2023-02-03T20:09:24.391Z"
   },
   {
    "duration": 8,
    "start_time": "2023-02-03T20:09:47.293Z"
   },
   {
    "duration": 724,
    "start_time": "2023-02-04T13:10:07.641Z"
   },
   {
    "duration": 22,
    "start_time": "2023-02-04T13:10:08.367Z"
   },
   {
    "duration": 24,
    "start_time": "2023-02-04T13:10:08.391Z"
   },
   {
    "duration": 13,
    "start_time": "2023-02-04T13:10:08.425Z"
   },
   {
    "duration": 36,
    "start_time": "2023-02-04T13:10:08.439Z"
   },
   {
    "duration": 3,
    "start_time": "2023-02-04T13:10:08.477Z"
   },
   {
    "duration": 10,
    "start_time": "2023-02-04T13:10:08.481Z"
   },
   {
    "duration": 4,
    "start_time": "2023-02-04T13:10:08.492Z"
   },
   {
    "duration": 9,
    "start_time": "2023-02-04T13:10:08.504Z"
   },
   {
    "duration": 19,
    "start_time": "2023-02-04T13:10:08.517Z"
   },
   {
    "duration": 37,
    "start_time": "2023-02-04T13:10:08.537Z"
   },
   {
    "duration": 9,
    "start_time": "2023-02-04T13:10:08.576Z"
   },
   {
    "duration": 8,
    "start_time": "2023-02-04T13:10:08.586Z"
   },
   {
    "duration": 27,
    "start_time": "2023-02-04T13:10:08.596Z"
   },
   {
    "duration": 22,
    "start_time": "2023-02-04T13:10:08.627Z"
   },
   {
    "duration": 16,
    "start_time": "2023-02-04T13:10:08.651Z"
   },
   {
    "duration": 4,
    "start_time": "2023-02-04T13:10:08.669Z"
   },
   {
    "duration": 10,
    "start_time": "2023-02-04T13:10:08.675Z"
   },
   {
    "duration": 24,
    "start_time": "2023-02-04T13:10:08.686Z"
   },
   {
    "duration": 24,
    "start_time": "2023-02-04T13:10:08.712Z"
   },
   {
    "duration": 14,
    "start_time": "2023-02-04T13:10:08.738Z"
   },
   {
    "duration": 4,
    "start_time": "2023-02-04T13:10:08.754Z"
   },
   {
    "duration": 9,
    "start_time": "2023-02-04T13:10:08.759Z"
   },
   {
    "duration": 7,
    "start_time": "2023-02-04T13:10:08.769Z"
   },
   {
    "duration": 7,
    "start_time": "2023-02-04T13:10:08.777Z"
   },
   {
    "duration": 28,
    "start_time": "2023-02-04T13:10:08.785Z"
   },
   {
    "duration": 22,
    "start_time": "2023-02-04T13:10:08.814Z"
   },
   {
    "duration": 7,
    "start_time": "2023-02-04T13:10:08.839Z"
   },
   {
    "duration": 12,
    "start_time": "2023-02-04T13:10:08.847Z"
   },
   {
    "duration": 7,
    "start_time": "2023-02-04T13:10:08.860Z"
   },
   {
    "duration": 3,
    "start_time": "2023-02-04T13:10:08.869Z"
   },
   {
    "duration": 33,
    "start_time": "2023-02-04T13:10:08.873Z"
   },
   {
    "duration": 12,
    "start_time": "2023-02-04T13:10:08.908Z"
   },
   {
    "duration": 26,
    "start_time": "2023-02-04T13:10:08.927Z"
   },
   {
    "duration": 22,
    "start_time": "2023-02-04T13:10:08.954Z"
   },
   {
    "duration": 35,
    "start_time": "2023-02-04T13:10:08.978Z"
   },
   {
    "duration": 29,
    "start_time": "2023-02-04T13:10:09.015Z"
   },
   {
    "duration": 23,
    "start_time": "2023-02-04T13:10:09.045Z"
   },
   {
    "duration": 33,
    "start_time": "2023-02-04T13:10:12.487Z"
   },
   {
    "duration": 23,
    "start_time": "2023-02-04T13:10:34.329Z"
   },
   {
    "duration": 17,
    "start_time": "2023-02-04T13:32:23.256Z"
   },
   {
    "duration": 20,
    "start_time": "2023-02-04T13:43:44.643Z"
   },
   {
    "duration": 18,
    "start_time": "2023-02-04T13:43:53.515Z"
   },
   {
    "duration": 8,
    "start_time": "2023-02-04T13:43:54.335Z"
   },
   {
    "duration": 9,
    "start_time": "2023-02-04T13:44:22.312Z"
   },
   {
    "duration": 19,
    "start_time": "2023-02-04T13:44:40.291Z"
   },
   {
    "duration": 8,
    "start_time": "2023-02-04T13:44:44.232Z"
   },
   {
    "duration": 1425,
    "start_time": "2023-02-04T14:28:24.323Z"
   },
   {
    "duration": 550,
    "start_time": "2023-02-04T14:28:43.995Z"
   },
   {
    "duration": 21,
    "start_time": "2023-02-04T14:28:44.547Z"
   },
   {
    "duration": 15,
    "start_time": "2023-02-04T14:28:44.569Z"
   },
   {
    "duration": 9,
    "start_time": "2023-02-04T14:28:44.587Z"
   },
   {
    "duration": 39,
    "start_time": "2023-02-04T14:28:44.603Z"
   },
   {
    "duration": 3,
    "start_time": "2023-02-04T14:28:44.644Z"
   },
   {
    "duration": 11,
    "start_time": "2023-02-04T14:28:44.649Z"
   },
   {
    "duration": 4,
    "start_time": "2023-02-04T14:28:44.661Z"
   },
   {
    "duration": 7,
    "start_time": "2023-02-04T14:28:44.667Z"
   },
   {
    "duration": 11,
    "start_time": "2023-02-04T14:28:44.706Z"
   },
   {
    "duration": 35,
    "start_time": "2023-02-04T14:28:44.719Z"
   },
   {
    "duration": 9,
    "start_time": "2023-02-04T14:28:44.756Z"
   },
   {
    "duration": 3,
    "start_time": "2023-02-04T14:28:44.766Z"
   },
   {
    "duration": 11,
    "start_time": "2023-02-04T14:28:44.771Z"
   },
   {
    "duration": 39,
    "start_time": "2023-02-04T14:28:44.783Z"
   },
   {
    "duration": 16,
    "start_time": "2023-02-04T14:28:44.823Z"
   },
   {
    "duration": 3,
    "start_time": "2023-02-04T14:28:44.841Z"
   },
   {
    "duration": 12,
    "start_time": "2023-02-04T14:28:44.845Z"
   },
   {
    "duration": 5,
    "start_time": "2023-02-04T14:28:44.859Z"
   },
   {
    "duration": 4,
    "start_time": "2023-02-04T14:28:44.866Z"
   },
   {
    "duration": 39,
    "start_time": "2023-02-04T14:28:44.871Z"
   },
   {
    "duration": 9,
    "start_time": "2023-02-04T14:28:44.911Z"
   },
   {
    "duration": 15,
    "start_time": "2023-02-04T14:28:44.922Z"
   },
   {
    "duration": 7,
    "start_time": "2023-02-04T14:28:44.938Z"
   },
   {
    "duration": 7,
    "start_time": "2023-02-04T14:28:44.946Z"
   },
   {
    "duration": 13,
    "start_time": "2023-02-04T14:28:44.954Z"
   },
   {
    "duration": 9,
    "start_time": "2023-02-04T14:28:44.969Z"
   },
   {
    "duration": 25,
    "start_time": "2023-02-04T14:28:44.981Z"
   },
   {
    "duration": 24,
    "start_time": "2023-02-04T14:28:45.008Z"
   },
   {
    "duration": 7,
    "start_time": "2023-02-04T14:28:45.034Z"
   },
   {
    "duration": 5,
    "start_time": "2023-02-04T14:28:45.043Z"
   },
   {
    "duration": 32,
    "start_time": "2023-02-04T14:28:45.050Z"
   },
   {
    "duration": 6,
    "start_time": "2023-02-04T14:28:45.083Z"
   },
   {
    "duration": 40,
    "start_time": "2023-02-04T14:28:45.090Z"
   },
   {
    "duration": 29,
    "start_time": "2023-02-04T14:28:45.131Z"
   },
   {
    "duration": 18,
    "start_time": "2023-02-04T14:28:45.162Z"
   },
   {
    "duration": 37,
    "start_time": "2023-02-04T14:28:45.182Z"
   },
   {
    "duration": 24,
    "start_time": "2023-02-04T14:28:45.221Z"
   },
   {
    "duration": 25,
    "start_time": "2023-02-04T14:28:45.246Z"
   },
   {
    "duration": 57,
    "start_time": "2023-02-04T14:28:45.272Z"
   },
   {
    "duration": 18,
    "start_time": "2023-02-04T14:28:45.331Z"
   },
   {
    "duration": 8,
    "start_time": "2023-02-04T14:28:45.350Z"
   },
   {
    "duration": 19,
    "start_time": "2023-02-04T14:28:45.360Z"
   },
   {
    "duration": 26,
    "start_time": "2023-02-04T14:28:45.381Z"
   },
   {
    "duration": 21,
    "start_time": "2023-02-04T14:28:45.409Z"
   },
   {
    "duration": 8,
    "start_time": "2023-02-04T14:28:45.431Z"
   },
   {
    "duration": 10,
    "start_time": "2023-02-04T14:29:09.443Z"
   },
   {
    "duration": 25,
    "start_time": "2023-02-04T14:29:17.818Z"
   },
   {
    "duration": 10,
    "start_time": "2023-02-04T14:29:18.738Z"
   },
   {
    "duration": 31,
    "start_time": "2023-02-04T14:34:43.546Z"
   },
   {
    "duration": 8,
    "start_time": "2023-02-04T14:34:44.443Z"
   },
   {
    "duration": 22,
    "start_time": "2023-02-04T14:36:51.747Z"
   },
   {
    "duration": 8,
    "start_time": "2023-02-04T14:36:53.342Z"
   },
   {
    "duration": 18,
    "start_time": "2023-02-04T14:46:40.479Z"
   },
   {
    "duration": 15,
    "start_time": "2023-02-04T14:46:41.301Z"
   },
   {
    "duration": 22,
    "start_time": "2023-02-04T14:51:36.777Z"
   },
   {
    "duration": 10,
    "start_time": "2023-02-04T14:51:45.085Z"
   },
   {
    "duration": 18,
    "start_time": "2023-02-04T14:51:52.144Z"
   },
   {
    "duration": 8,
    "start_time": "2023-02-04T14:51:53.478Z"
   },
   {
    "duration": 25,
    "start_time": "2023-02-04T14:53:02.934Z"
   },
   {
    "duration": 9,
    "start_time": "2023-02-04T14:53:03.652Z"
   },
   {
    "duration": 27,
    "start_time": "2023-02-04T14:55:35.544Z"
   },
   {
    "duration": 18,
    "start_time": "2023-02-04T14:55:43.930Z"
   },
   {
    "duration": 26,
    "start_time": "2023-02-04T14:58:42.533Z"
   },
   {
    "duration": 23,
    "start_time": "2023-02-04T14:59:11.676Z"
   },
   {
    "duration": 32,
    "start_time": "2023-02-04T14:59:39.953Z"
   },
   {
    "duration": 31,
    "start_time": "2023-02-04T15:00:35.376Z"
   },
   {
    "duration": 11,
    "start_time": "2023-02-04T15:09:21.831Z"
   },
   {
    "duration": 13,
    "start_time": "2023-02-04T15:09:57.132Z"
   },
   {
    "duration": 8,
    "start_time": "2023-02-04T15:19:45.698Z"
   },
   {
    "duration": 504,
    "start_time": "2023-02-04T15:32:05.472Z"
   },
   {
    "duration": 22,
    "start_time": "2023-02-04T15:32:05.977Z"
   },
   {
    "duration": 26,
    "start_time": "2023-02-04T15:32:06.000Z"
   },
   {
    "duration": 17,
    "start_time": "2023-02-04T15:32:06.029Z"
   },
   {
    "duration": 32,
    "start_time": "2023-02-04T15:32:06.047Z"
   },
   {
    "duration": 3,
    "start_time": "2023-02-04T15:32:06.081Z"
   },
   {
    "duration": 34,
    "start_time": "2023-02-04T15:32:06.085Z"
   },
   {
    "duration": 6,
    "start_time": "2023-02-04T15:32:06.123Z"
   },
   {
    "duration": 13,
    "start_time": "2023-02-04T15:32:06.130Z"
   },
   {
    "duration": 5,
    "start_time": "2023-02-04T15:32:06.147Z"
   },
   {
    "duration": 34,
    "start_time": "2023-02-04T15:32:06.153Z"
   },
   {
    "duration": 27,
    "start_time": "2023-02-04T15:32:06.188Z"
   },
   {
    "duration": 21,
    "start_time": "2023-02-04T15:32:06.217Z"
   },
   {
    "duration": 12,
    "start_time": "2023-02-04T15:32:06.239Z"
   },
   {
    "duration": 19,
    "start_time": "2023-02-04T15:32:06.252Z"
   },
   {
    "duration": 15,
    "start_time": "2023-02-04T15:32:06.273Z"
   },
   {
    "duration": 4,
    "start_time": "2023-02-04T15:32:06.289Z"
   },
   {
    "duration": 24,
    "start_time": "2023-02-04T15:32:06.294Z"
   },
   {
    "duration": 21,
    "start_time": "2023-02-04T15:32:06.320Z"
   },
   {
    "duration": 3,
    "start_time": "2023-02-04T15:32:06.343Z"
   },
   {
    "duration": 10,
    "start_time": "2023-02-04T15:32:06.347Z"
   },
   {
    "duration": 3,
    "start_time": "2023-02-04T15:32:06.359Z"
   },
   {
    "duration": 7,
    "start_time": "2023-02-04T15:32:06.364Z"
   },
   {
    "duration": 6,
    "start_time": "2023-02-04T15:32:06.372Z"
   },
   {
    "duration": 7,
    "start_time": "2023-02-04T15:32:06.379Z"
   },
   {
    "duration": 54,
    "start_time": "2023-02-04T15:32:06.387Z"
   },
   {
    "duration": 10,
    "start_time": "2023-02-04T15:32:06.443Z"
   },
   {
    "duration": 6,
    "start_time": "2023-02-04T15:32:06.456Z"
   },
   {
    "duration": 6,
    "start_time": "2023-02-04T15:32:06.464Z"
   },
   {
    "duration": 12,
    "start_time": "2023-02-04T15:32:06.472Z"
   },
   {
    "duration": 4,
    "start_time": "2023-02-04T15:32:06.485Z"
   },
   {
    "duration": 41,
    "start_time": "2023-02-04T15:32:06.490Z"
   },
   {
    "duration": 14,
    "start_time": "2023-02-04T15:32:06.533Z"
   },
   {
    "duration": 20,
    "start_time": "2023-02-04T15:32:06.549Z"
   },
   {
    "duration": 26,
    "start_time": "2023-02-04T15:32:06.571Z"
   },
   {
    "duration": 30,
    "start_time": "2023-02-04T15:32:06.609Z"
   },
   {
    "duration": 32,
    "start_time": "2023-02-04T15:32:06.641Z"
   },
   {
    "duration": 37,
    "start_time": "2023-02-04T15:32:06.675Z"
   },
   {
    "duration": 32,
    "start_time": "2023-02-04T15:32:06.714Z"
   },
   {
    "duration": 32,
    "start_time": "2023-02-04T15:32:06.748Z"
   },
   {
    "duration": 47,
    "start_time": "2023-02-04T15:32:06.782Z"
   },
   {
    "duration": 37,
    "start_time": "2023-02-04T15:32:06.831Z"
   },
   {
    "duration": 23,
    "start_time": "2023-02-04T15:32:06.870Z"
   },
   {
    "duration": 37,
    "start_time": "2023-02-04T15:32:06.904Z"
   },
   {
    "duration": 10,
    "start_time": "2023-02-04T15:32:06.943Z"
   },
   {
    "duration": 22,
    "start_time": "2023-02-04T16:02:07.919Z"
   },
   {
    "duration": 6,
    "start_time": "2023-02-04T16:02:08.630Z"
   },
   {
    "duration": 21,
    "start_time": "2023-02-04T16:02:11.784Z"
   },
   {
    "duration": 23,
    "start_time": "2023-02-04T16:02:22.441Z"
   },
   {
    "duration": 20,
    "start_time": "2023-02-04T16:02:22.939Z"
   },
   {
    "duration": 23,
    "start_time": "2023-02-04T16:02:36.541Z"
   },
   {
    "duration": 25,
    "start_time": "2023-02-04T16:03:19.118Z"
   },
   {
    "duration": 24,
    "start_time": "2023-02-04T16:03:51.838Z"
   },
   {
    "duration": 27,
    "start_time": "2023-02-04T16:03:53.093Z"
   },
   {
    "duration": 23,
    "start_time": "2023-02-04T16:03:54.256Z"
   },
   {
    "duration": 17,
    "start_time": "2023-02-04T16:07:53.939Z"
   },
   {
    "duration": 486,
    "start_time": "2023-02-04T16:09:55.891Z"
   },
   {
    "duration": 31,
    "start_time": "2023-02-04T16:09:56.379Z"
   },
   {
    "duration": 16,
    "start_time": "2023-02-04T16:09:56.412Z"
   },
   {
    "duration": 9,
    "start_time": "2023-02-04T16:09:56.430Z"
   },
   {
    "duration": 35,
    "start_time": "2023-02-04T16:09:56.441Z"
   },
   {
    "duration": 4,
    "start_time": "2023-02-04T16:09:56.477Z"
   },
   {
    "duration": 28,
    "start_time": "2023-02-04T16:09:56.482Z"
   },
   {
    "duration": 4,
    "start_time": "2023-02-04T16:09:56.512Z"
   },
   {
    "duration": 9,
    "start_time": "2023-02-04T16:09:56.517Z"
   },
   {
    "duration": 4,
    "start_time": "2023-02-04T16:09:56.529Z"
   },
   {
    "duration": 35,
    "start_time": "2023-02-04T16:09:56.535Z"
   },
   {
    "duration": 33,
    "start_time": "2023-02-04T16:09:56.572Z"
   },
   {
    "duration": 5,
    "start_time": "2023-02-04T16:09:56.607Z"
   },
   {
    "duration": 19,
    "start_time": "2023-02-04T16:09:56.613Z"
   },
   {
    "duration": 40,
    "start_time": "2023-02-04T16:09:56.634Z"
   },
   {
    "duration": 30,
    "start_time": "2023-02-04T16:09:56.676Z"
   },
   {
    "duration": 6,
    "start_time": "2023-02-04T16:09:56.708Z"
   },
   {
    "duration": 18,
    "start_time": "2023-02-04T16:09:56.716Z"
   },
   {
    "duration": 15,
    "start_time": "2023-02-04T16:09:56.736Z"
   },
   {
    "duration": 7,
    "start_time": "2023-02-04T16:09:56.753Z"
   },
   {
    "duration": 20,
    "start_time": "2023-02-04T16:09:56.762Z"
   },
   {
    "duration": 4,
    "start_time": "2023-02-04T16:09:56.784Z"
   },
   {
    "duration": 39,
    "start_time": "2023-02-04T16:09:56.790Z"
   },
   {
    "duration": 11,
    "start_time": "2023-02-04T16:09:56.831Z"
   },
   {
    "duration": 13,
    "start_time": "2023-02-04T16:09:56.843Z"
   },
   {
    "duration": 21,
    "start_time": "2023-02-04T16:09:56.857Z"
   },
   {
    "duration": 9,
    "start_time": "2023-02-04T16:09:56.880Z"
   },
   {
    "duration": 6,
    "start_time": "2023-02-04T16:09:56.892Z"
   },
   {
    "duration": 12,
    "start_time": "2023-02-04T16:09:56.900Z"
   },
   {
    "duration": 7,
    "start_time": "2023-02-04T16:09:56.914Z"
   },
   {
    "duration": 4,
    "start_time": "2023-02-04T16:09:56.923Z"
   },
   {
    "duration": 74,
    "start_time": "2023-02-04T16:09:56.929Z"
   },
   {
    "duration": 0,
    "start_time": "2023-02-04T16:09:57.005Z"
   },
   {
    "duration": 0,
    "start_time": "2023-02-04T16:09:57.006Z"
   },
   {
    "duration": 0,
    "start_time": "2023-02-04T16:09:57.007Z"
   },
   {
    "duration": 0,
    "start_time": "2023-02-04T16:09:57.008Z"
   },
   {
    "duration": 0,
    "start_time": "2023-02-04T16:09:57.009Z"
   },
   {
    "duration": 0,
    "start_time": "2023-02-04T16:09:57.010Z"
   },
   {
    "duration": 0,
    "start_time": "2023-02-04T16:09:57.011Z"
   },
   {
    "duration": 0,
    "start_time": "2023-02-04T16:09:57.011Z"
   },
   {
    "duration": 0,
    "start_time": "2023-02-04T16:09:57.012Z"
   },
   {
    "duration": 0,
    "start_time": "2023-02-04T16:09:57.013Z"
   },
   {
    "duration": 0,
    "start_time": "2023-02-04T16:09:57.014Z"
   },
   {
    "duration": 0,
    "start_time": "2023-02-04T16:09:57.015Z"
   },
   {
    "duration": 0,
    "start_time": "2023-02-04T16:09:57.017Z"
   },
   {
    "duration": 3,
    "start_time": "2023-02-04T16:10:42.786Z"
   },
   {
    "duration": 36,
    "start_time": "2023-02-04T16:10:45.040Z"
   },
   {
    "duration": 3,
    "start_time": "2023-02-04T16:10:59.856Z"
   },
   {
    "duration": 43,
    "start_time": "2023-02-04T16:11:00.918Z"
   },
   {
    "duration": 3,
    "start_time": "2023-02-04T16:11:09.331Z"
   },
   {
    "duration": 23,
    "start_time": "2023-02-04T16:11:10.632Z"
   },
   {
    "duration": 5,
    "start_time": "2023-02-04T16:11:12.378Z"
   },
   {
    "duration": 18,
    "start_time": "2023-02-04T16:11:23.223Z"
   },
   {
    "duration": 490,
    "start_time": "2023-02-04T16:11:31.966Z"
   },
   {
    "duration": 25,
    "start_time": "2023-02-04T16:11:32.458Z"
   },
   {
    "duration": 27,
    "start_time": "2023-02-04T16:11:32.485Z"
   },
   {
    "duration": 11,
    "start_time": "2023-02-04T16:11:32.514Z"
   },
   {
    "duration": 32,
    "start_time": "2023-02-04T16:11:32.527Z"
   },
   {
    "duration": 4,
    "start_time": "2023-02-04T16:11:32.560Z"
   },
   {
    "duration": 12,
    "start_time": "2023-02-04T16:11:32.565Z"
   },
   {
    "duration": 3,
    "start_time": "2023-02-04T16:11:32.579Z"
   },
   {
    "duration": 9,
    "start_time": "2023-02-04T16:11:32.604Z"
   },
   {
    "duration": 5,
    "start_time": "2023-02-04T16:11:32.614Z"
   },
   {
    "duration": 36,
    "start_time": "2023-02-04T16:11:32.620Z"
   },
   {
    "duration": 10,
    "start_time": "2023-02-04T16:11:32.658Z"
   },
   {
    "duration": 13,
    "start_time": "2023-02-04T16:11:32.670Z"
   },
   {
    "duration": 25,
    "start_time": "2023-02-04T16:11:32.685Z"
   },
   {
    "duration": 20,
    "start_time": "2023-02-04T16:11:32.712Z"
   },
   {
    "duration": 16,
    "start_time": "2023-02-04T16:11:32.733Z"
   },
   {
    "duration": 4,
    "start_time": "2023-02-04T16:11:32.750Z"
   },
   {
    "duration": 19,
    "start_time": "2023-02-04T16:11:32.755Z"
   },
   {
    "duration": 5,
    "start_time": "2023-02-04T16:11:32.776Z"
   },
   {
    "duration": 22,
    "start_time": "2023-02-04T16:11:32.782Z"
   },
   {
    "duration": 15,
    "start_time": "2023-02-04T16:11:32.806Z"
   },
   {
    "duration": 4,
    "start_time": "2023-02-04T16:11:32.822Z"
   },
   {
    "duration": 9,
    "start_time": "2023-02-04T16:11:32.828Z"
   },
   {
    "duration": 6,
    "start_time": "2023-02-04T16:11:32.839Z"
   },
   {
    "duration": 6,
    "start_time": "2023-02-04T16:11:32.846Z"
   },
   {
    "duration": 14,
    "start_time": "2023-02-04T16:11:32.854Z"
   },
   {
    "duration": 7,
    "start_time": "2023-02-04T16:11:32.870Z"
   },
   {
    "duration": 7,
    "start_time": "2023-02-04T16:11:32.903Z"
   },
   {
    "duration": 11,
    "start_time": "2023-02-04T16:11:32.911Z"
   },
   {
    "duration": 7,
    "start_time": "2023-02-04T16:11:32.924Z"
   },
   {
    "duration": 9,
    "start_time": "2023-02-04T16:11:32.933Z"
   },
   {
    "duration": 31,
    "start_time": "2023-02-04T16:11:32.944Z"
   },
   {
    "duration": 5,
    "start_time": "2023-02-04T16:11:32.976Z"
   },
   {
    "duration": 32,
    "start_time": "2023-02-04T16:11:32.983Z"
   },
   {
    "duration": 24,
    "start_time": "2023-02-04T16:11:33.017Z"
   },
   {
    "duration": 21,
    "start_time": "2023-02-04T16:11:33.043Z"
   },
   {
    "duration": 59,
    "start_time": "2023-02-04T16:11:33.066Z"
   },
   {
    "duration": 25,
    "start_time": "2023-02-04T16:11:33.127Z"
   },
   {
    "duration": 22,
    "start_time": "2023-02-04T16:11:33.154Z"
   },
   {
    "duration": 45,
    "start_time": "2023-02-04T16:11:33.177Z"
   },
   {
    "duration": 17,
    "start_time": "2023-02-04T16:11:33.225Z"
   },
   {
    "duration": 19,
    "start_time": "2023-02-04T16:11:33.243Z"
   },
   {
    "duration": 18,
    "start_time": "2023-02-04T16:11:33.264Z"
   },
   {
    "duration": 23,
    "start_time": "2023-02-04T16:11:33.304Z"
   },
   {
    "duration": 8,
    "start_time": "2023-02-04T16:11:33.329Z"
   },
   {
    "duration": 1096,
    "start_time": "2023-02-04T16:13:07.470Z"
   },
   {
    "duration": 471,
    "start_time": "2023-02-04T16:13:17.668Z"
   },
   {
    "duration": 22,
    "start_time": "2023-02-04T16:13:18.141Z"
   },
   {
    "duration": 17,
    "start_time": "2023-02-04T16:13:18.164Z"
   },
   {
    "duration": 34,
    "start_time": "2023-02-04T16:13:18.183Z"
   },
   {
    "duration": 65,
    "start_time": "2023-02-04T16:13:18.219Z"
   },
   {
    "duration": 19,
    "start_time": "2023-02-04T16:13:18.285Z"
   },
   {
    "duration": 40,
    "start_time": "2023-02-04T16:13:18.306Z"
   },
   {
    "duration": 19,
    "start_time": "2023-02-04T16:13:18.347Z"
   },
   {
    "duration": 28,
    "start_time": "2023-02-04T16:13:18.368Z"
   },
   {
    "duration": 27,
    "start_time": "2023-02-04T16:13:18.400Z"
   },
   {
    "duration": 57,
    "start_time": "2023-02-04T16:13:18.428Z"
   },
   {
    "duration": 10,
    "start_time": "2023-02-04T16:13:18.486Z"
   },
   {
    "duration": 21,
    "start_time": "2023-02-04T16:13:18.497Z"
   },
   {
    "duration": 47,
    "start_time": "2023-02-04T16:13:18.520Z"
   },
   {
    "duration": 33,
    "start_time": "2023-02-04T16:13:18.569Z"
   },
   {
    "duration": 18,
    "start_time": "2023-02-04T16:13:18.603Z"
   },
   {
    "duration": 10,
    "start_time": "2023-02-04T16:13:18.623Z"
   },
   {
    "duration": 20,
    "start_time": "2023-02-04T16:13:18.635Z"
   },
   {
    "duration": 14,
    "start_time": "2023-02-04T16:13:18.657Z"
   },
   {
    "duration": 9,
    "start_time": "2023-02-04T16:13:18.672Z"
   },
   {
    "duration": 32,
    "start_time": "2023-02-04T16:13:18.682Z"
   },
   {
    "duration": 11,
    "start_time": "2023-02-04T16:13:18.715Z"
   },
   {
    "duration": 32,
    "start_time": "2023-02-04T16:13:18.728Z"
   },
   {
    "duration": 20,
    "start_time": "2023-02-04T16:13:18.762Z"
   },
   {
    "duration": 6,
    "start_time": "2023-02-04T16:13:18.784Z"
   },
   {
    "duration": 24,
    "start_time": "2023-02-04T16:13:18.791Z"
   },
   {
    "duration": 17,
    "start_time": "2023-02-04T16:13:18.816Z"
   },
   {
    "duration": 23,
    "start_time": "2023-02-04T16:13:18.836Z"
   },
   {
    "duration": 22,
    "start_time": "2023-02-04T16:13:18.860Z"
   },
   {
    "duration": 7,
    "start_time": "2023-02-04T16:13:18.883Z"
   },
   {
    "duration": 4,
    "start_time": "2023-02-04T16:13:18.891Z"
   },
   {
    "duration": 34,
    "start_time": "2023-02-04T16:13:18.896Z"
   },
   {
    "duration": 5,
    "start_time": "2023-02-04T16:13:18.931Z"
   },
   {
    "duration": 20,
    "start_time": "2023-02-04T16:13:18.938Z"
   },
   {
    "duration": 23,
    "start_time": "2023-02-04T16:13:18.960Z"
   },
   {
    "duration": 28,
    "start_time": "2023-02-04T16:13:18.984Z"
   },
   {
    "duration": 24,
    "start_time": "2023-02-04T16:13:19.014Z"
   },
   {
    "duration": 20,
    "start_time": "2023-02-04T16:13:19.039Z"
   },
   {
    "duration": 19,
    "start_time": "2023-02-04T16:13:19.060Z"
   },
   {
    "duration": 31,
    "start_time": "2023-02-04T16:13:19.103Z"
   },
   {
    "duration": 16,
    "start_time": "2023-02-04T16:13:19.136Z"
   },
   {
    "duration": 23,
    "start_time": "2023-02-04T16:13:19.154Z"
   },
   {
    "duration": 46,
    "start_time": "2023-02-04T16:13:19.178Z"
   },
   {
    "duration": 23,
    "start_time": "2023-02-04T16:13:19.226Z"
   },
   {
    "duration": 8,
    "start_time": "2023-02-04T16:13:19.251Z"
   },
   {
    "duration": 13,
    "start_time": "2023-02-04T16:16:20.927Z"
   },
   {
    "duration": 15,
    "start_time": "2023-02-04T16:16:45.930Z"
   },
   {
    "duration": 1555,
    "start_time": "2023-02-04T16:17:19.722Z"
   },
   {
    "duration": 1386,
    "start_time": "2023-02-04T16:17:22.934Z"
   },
   {
    "duration": 14,
    "start_time": "2023-02-04T16:17:33.030Z"
   },
   {
    "duration": 13,
    "start_time": "2023-02-04T16:17:36.727Z"
   },
   {
    "duration": 13,
    "start_time": "2023-02-04T16:22:58.584Z"
   },
   {
    "duration": 15,
    "start_time": "2023-02-04T16:24:32.087Z"
   },
   {
    "duration": 6,
    "start_time": "2023-02-04T16:29:35.863Z"
   },
   {
    "duration": 5,
    "start_time": "2023-02-04T16:30:18.985Z"
   },
   {
    "duration": 19,
    "start_time": "2023-02-04T16:32:29.169Z"
   },
   {
    "duration": 8,
    "start_time": "2023-02-04T16:32:30.554Z"
   },
   {
    "duration": 22,
    "start_time": "2023-02-04T16:46:51.915Z"
   },
   {
    "duration": 20,
    "start_time": "2023-02-04T16:50:35.981Z"
   },
   {
    "duration": 15,
    "start_time": "2023-02-04T16:52:34.260Z"
   },
   {
    "duration": 4,
    "start_time": "2023-02-04T16:52:39.630Z"
   },
   {
    "duration": 5,
    "start_time": "2023-02-04T17:00:24.411Z"
   },
   {
    "duration": 71,
    "start_time": "2023-02-04T17:25:34.088Z"
   },
   {
    "duration": 14,
    "start_time": "2023-02-04T17:25:39.630Z"
   },
   {
    "duration": 4,
    "start_time": "2023-02-04T17:26:00.560Z"
   },
   {
    "duration": 4,
    "start_time": "2023-02-04T17:27:21.074Z"
   },
   {
    "duration": 82,
    "start_time": "2023-02-04T17:29:12.360Z"
   },
   {
    "duration": 3,
    "start_time": "2023-02-04T17:29:18.826Z"
   },
   {
    "duration": 4,
    "start_time": "2023-02-04T17:52:28.718Z"
   },
   {
    "duration": 4,
    "start_time": "2023-02-04T17:58:36.042Z"
   },
   {
    "duration": 4,
    "start_time": "2023-02-04T17:58:44.366Z"
   },
   {
    "duration": 4,
    "start_time": "2023-02-04T17:58:48.972Z"
   },
   {
    "duration": 4,
    "start_time": "2023-02-04T17:59:04.182Z"
   },
   {
    "duration": 18,
    "start_time": "2023-02-04T18:10:27.728Z"
   },
   {
    "duration": 34,
    "start_time": "2023-02-04T18:10:49.391Z"
   },
   {
    "duration": 12,
    "start_time": "2023-02-04T18:10:52.689Z"
   },
   {
    "duration": 25,
    "start_time": "2023-02-04T18:13:25.489Z"
   },
   {
    "duration": 10,
    "start_time": "2023-02-04T18:13:30.653Z"
   },
   {
    "duration": 10,
    "start_time": "2023-02-04T18:14:51.553Z"
   },
   {
    "duration": 7,
    "start_time": "2023-02-04T18:15:55.463Z"
   },
   {
    "duration": 11,
    "start_time": "2023-02-04T18:16:16.852Z"
   },
   {
    "duration": 10,
    "start_time": "2023-02-04T18:16:31.062Z"
   },
   {
    "duration": 19,
    "start_time": "2023-02-04T18:17:34.092Z"
   },
   {
    "duration": 9,
    "start_time": "2023-02-04T18:18:15.874Z"
   },
   {
    "duration": 17,
    "start_time": "2023-02-04T18:18:28.409Z"
   },
   {
    "duration": 15,
    "start_time": "2023-02-04T18:19:01.752Z"
   },
   {
    "duration": 7,
    "start_time": "2023-02-04T18:20:33.586Z"
   },
   {
    "duration": 14,
    "start_time": "2023-02-04T18:20:44.351Z"
   },
   {
    "duration": 23,
    "start_time": "2023-02-04T18:20:59.196Z"
   },
   {
    "duration": 13,
    "start_time": "2023-02-04T18:21:00.205Z"
   },
   {
    "duration": 460,
    "start_time": "2023-02-04T18:25:50.264Z"
   },
   {
    "duration": 20,
    "start_time": "2023-02-04T18:25:50.726Z"
   },
   {
    "duration": 14,
    "start_time": "2023-02-04T18:25:50.748Z"
   },
   {
    "duration": 9,
    "start_time": "2023-02-04T18:25:50.764Z"
   },
   {
    "duration": 67,
    "start_time": "2023-02-04T18:25:50.774Z"
   },
   {
    "duration": 3,
    "start_time": "2023-02-04T18:25:50.843Z"
   },
   {
    "duration": 13,
    "start_time": "2023-02-04T18:25:50.848Z"
   },
   {
    "duration": 4,
    "start_time": "2023-02-04T18:25:50.862Z"
   },
   {
    "duration": 7,
    "start_time": "2023-02-04T18:25:50.867Z"
   },
   {
    "duration": 3,
    "start_time": "2023-02-04T18:25:50.878Z"
   },
   {
    "duration": 50,
    "start_time": "2023-02-04T18:25:50.904Z"
   },
   {
    "duration": 10,
    "start_time": "2023-02-04T18:25:50.955Z"
   },
   {
    "duration": 6,
    "start_time": "2023-02-04T18:25:50.967Z"
   },
   {
    "duration": 16,
    "start_time": "2023-02-04T18:25:50.974Z"
   },
   {
    "duration": 35,
    "start_time": "2023-02-04T18:25:50.992Z"
   },
   {
    "duration": 16,
    "start_time": "2023-02-04T18:25:51.028Z"
   },
   {
    "duration": 3,
    "start_time": "2023-02-04T18:25:51.046Z"
   },
   {
    "duration": 16,
    "start_time": "2023-02-04T18:25:51.051Z"
   },
   {
    "duration": 5,
    "start_time": "2023-02-04T18:25:51.068Z"
   },
   {
    "duration": 8,
    "start_time": "2023-02-04T18:25:51.075Z"
   },
   {
    "duration": 22,
    "start_time": "2023-02-04T18:25:51.084Z"
   },
   {
    "duration": 24,
    "start_time": "2023-02-04T18:25:51.109Z"
   },
   {
    "duration": 9,
    "start_time": "2023-02-04T18:25:51.134Z"
   },
   {
    "duration": 6,
    "start_time": "2023-02-04T18:25:51.145Z"
   },
   {
    "duration": 7,
    "start_time": "2023-02-04T18:25:51.152Z"
   },
   {
    "duration": 17,
    "start_time": "2023-02-04T18:25:51.160Z"
   },
   {
    "duration": 9,
    "start_time": "2023-02-04T18:25:51.178Z"
   },
   {
    "duration": 10,
    "start_time": "2023-02-04T18:25:51.204Z"
   },
   {
    "duration": 12,
    "start_time": "2023-02-04T18:25:51.217Z"
   },
   {
    "duration": 7,
    "start_time": "2023-02-04T18:25:51.230Z"
   },
   {
    "duration": 3,
    "start_time": "2023-02-04T18:25:51.239Z"
   },
   {
    "duration": 30,
    "start_time": "2023-02-04T18:25:51.243Z"
   },
   {
    "duration": 5,
    "start_time": "2023-02-04T18:25:51.275Z"
   },
   {
    "duration": 17,
    "start_time": "2023-02-04T18:25:51.305Z"
   },
   {
    "duration": 26,
    "start_time": "2023-02-04T18:25:51.324Z"
   },
   {
    "duration": 17,
    "start_time": "2023-02-04T18:25:51.351Z"
   },
   {
    "duration": 59,
    "start_time": "2023-02-04T18:25:51.370Z"
   },
   {
    "duration": 19,
    "start_time": "2023-02-04T18:25:51.430Z"
   },
   {
    "duration": 18,
    "start_time": "2023-02-04T18:25:51.450Z"
   },
   {
    "duration": 51,
    "start_time": "2023-02-04T18:25:51.470Z"
   },
   {
    "duration": 13,
    "start_time": "2023-02-04T18:25:51.523Z"
   },
   {
    "duration": 4,
    "start_time": "2023-02-04T18:25:51.538Z"
   },
   {
    "duration": 25,
    "start_time": "2023-02-04T18:25:51.543Z"
   },
   {
    "duration": 47,
    "start_time": "2023-02-04T18:25:51.570Z"
   },
   {
    "duration": 20,
    "start_time": "2023-02-04T18:25:51.619Z"
   },
   {
    "duration": 7,
    "start_time": "2023-02-04T18:25:51.640Z"
   },
   {
    "duration": 9,
    "start_time": "2023-02-04T18:25:51.648Z"
   },
   {
    "duration": 4,
    "start_time": "2023-02-04T18:29:09.990Z"
   },
   {
    "duration": 3,
    "start_time": "2023-02-04T18:48:38.190Z"
   },
   {
    "duration": 3,
    "start_time": "2023-02-04T18:56:56.942Z"
   },
   {
    "duration": 496,
    "start_time": "2023-02-04T19:01:47.592Z"
   },
   {
    "duration": 21,
    "start_time": "2023-02-04T19:01:48.090Z"
   },
   {
    "duration": 14,
    "start_time": "2023-02-04T19:01:48.112Z"
   },
   {
    "duration": 9,
    "start_time": "2023-02-04T19:01:48.128Z"
   },
   {
    "duration": 33,
    "start_time": "2023-02-04T19:01:48.138Z"
   },
   {
    "duration": 3,
    "start_time": "2023-02-04T19:01:48.172Z"
   },
   {
    "duration": 33,
    "start_time": "2023-02-04T19:01:48.177Z"
   },
   {
    "duration": 4,
    "start_time": "2023-02-04T19:01:48.212Z"
   },
   {
    "duration": 7,
    "start_time": "2023-02-04T19:01:48.218Z"
   },
   {
    "duration": 4,
    "start_time": "2023-02-04T19:01:48.229Z"
   },
   {
    "duration": 32,
    "start_time": "2023-02-04T19:01:48.235Z"
   },
   {
    "duration": 40,
    "start_time": "2023-02-04T19:01:48.268Z"
   },
   {
    "duration": 4,
    "start_time": "2023-02-04T19:01:48.309Z"
   },
   {
    "duration": 13,
    "start_time": "2023-02-04T19:01:48.314Z"
   },
   {
    "duration": 21,
    "start_time": "2023-02-04T19:01:48.328Z"
   },
   {
    "duration": 16,
    "start_time": "2023-02-04T19:01:48.351Z"
   },
   {
    "duration": 3,
    "start_time": "2023-02-04T19:01:48.369Z"
   },
   {
    "duration": 33,
    "start_time": "2023-02-04T19:01:48.374Z"
   },
   {
    "duration": 8,
    "start_time": "2023-02-04T19:01:48.409Z"
   },
   {
    "duration": 4,
    "start_time": "2023-02-04T19:01:48.419Z"
   },
   {
    "duration": 12,
    "start_time": "2023-02-04T19:01:48.424Z"
   },
   {
    "duration": 3,
    "start_time": "2023-02-04T19:01:48.437Z"
   },
   {
    "duration": 9,
    "start_time": "2023-02-04T19:01:48.441Z"
   },
   {
    "duration": 9,
    "start_time": "2023-02-04T19:01:48.451Z"
   },
   {
    "duration": 4,
    "start_time": "2023-02-04T19:01:48.461Z"
   },
   {
    "duration": 47,
    "start_time": "2023-02-04T19:01:48.467Z"
   },
   {
    "duration": 8,
    "start_time": "2023-02-04T19:01:48.516Z"
   },
   {
    "duration": 6,
    "start_time": "2023-02-04T19:01:48.527Z"
   },
   {
    "duration": 7,
    "start_time": "2023-02-04T19:01:48.534Z"
   },
   {
    "duration": 9,
    "start_time": "2023-02-04T19:01:48.543Z"
   },
   {
    "duration": 4,
    "start_time": "2023-02-04T19:01:48.553Z"
   },
   {
    "duration": 48,
    "start_time": "2023-02-04T19:01:48.559Z"
   },
   {
    "duration": 5,
    "start_time": "2023-02-04T19:01:48.608Z"
   },
   {
    "duration": 15,
    "start_time": "2023-02-04T19:01:48.614Z"
   },
   {
    "duration": 23,
    "start_time": "2023-02-04T19:01:48.630Z"
   },
   {
    "duration": 14,
    "start_time": "2023-02-04T19:01:48.655Z"
   },
   {
    "duration": 49,
    "start_time": "2023-02-04T19:01:48.670Z"
   },
   {
    "duration": 21,
    "start_time": "2023-02-04T19:01:48.720Z"
   },
   {
    "duration": 21,
    "start_time": "2023-02-04T19:01:48.743Z"
   },
   {
    "duration": 51,
    "start_time": "2023-02-04T19:01:48.765Z"
   },
   {
    "duration": 14,
    "start_time": "2023-02-04T19:01:48.818Z"
   },
   {
    "duration": 5,
    "start_time": "2023-02-04T19:01:48.833Z"
   },
   {
    "duration": 26,
    "start_time": "2023-02-04T19:01:48.839Z"
   },
   {
    "duration": 46,
    "start_time": "2023-02-04T19:01:48.867Z"
   },
   {
    "duration": 18,
    "start_time": "2023-02-04T19:01:48.915Z"
   },
   {
    "duration": 8,
    "start_time": "2023-02-04T19:01:48.934Z"
   },
   {
    "duration": 6,
    "start_time": "2023-02-04T19:01:48.944Z"
   },
   {
    "duration": 434,
    "start_time": "2023-02-05T14:45:17.082Z"
   },
   {
    "duration": 22,
    "start_time": "2023-02-05T14:45:17.518Z"
   },
   {
    "duration": 38,
    "start_time": "2023-02-05T14:45:17.542Z"
   },
   {
    "duration": 16,
    "start_time": "2023-02-05T14:45:17.582Z"
   },
   {
    "duration": 79,
    "start_time": "2023-02-05T14:45:17.600Z"
   },
   {
    "duration": 35,
    "start_time": "2023-02-05T14:45:17.681Z"
   },
   {
    "duration": 37,
    "start_time": "2023-02-05T14:45:17.718Z"
   },
   {
    "duration": 32,
    "start_time": "2023-02-05T14:45:17.757Z"
   },
   {
    "duration": 37,
    "start_time": "2023-02-05T14:45:17.791Z"
   },
   {
    "duration": 25,
    "start_time": "2023-02-05T14:45:17.830Z"
   },
   {
    "duration": 88,
    "start_time": "2023-02-05T14:45:17.856Z"
   },
   {
    "duration": 18,
    "start_time": "2023-02-05T14:45:17.946Z"
   },
   {
    "duration": 27,
    "start_time": "2023-02-05T14:45:17.965Z"
   },
   {
    "duration": 34,
    "start_time": "2023-02-05T14:45:17.995Z"
   },
   {
    "duration": 25,
    "start_time": "2023-02-05T14:45:18.031Z"
   },
   {
    "duration": 30,
    "start_time": "2023-02-05T14:45:18.057Z"
   },
   {
    "duration": 7,
    "start_time": "2023-02-05T14:45:18.089Z"
   },
   {
    "duration": 20,
    "start_time": "2023-02-05T14:45:18.098Z"
   },
   {
    "duration": 40,
    "start_time": "2023-02-05T14:45:18.120Z"
   },
   {
    "duration": 4,
    "start_time": "2023-02-05T14:45:18.162Z"
   },
   {
    "duration": 15,
    "start_time": "2023-02-05T14:45:18.167Z"
   },
   {
    "duration": 10,
    "start_time": "2023-02-05T14:45:18.184Z"
   },
   {
    "duration": 11,
    "start_time": "2023-02-05T14:45:18.195Z"
   },
   {
    "duration": 9,
    "start_time": "2023-02-05T14:45:18.207Z"
   },
   {
    "duration": 11,
    "start_time": "2023-02-05T14:45:18.217Z"
   },
   {
    "duration": 18,
    "start_time": "2023-02-05T14:45:18.230Z"
   },
   {
    "duration": 11,
    "start_time": "2023-02-05T14:45:18.250Z"
   },
   {
    "duration": 12,
    "start_time": "2023-02-05T14:45:18.263Z"
   },
   {
    "duration": 9,
    "start_time": "2023-02-05T14:45:18.277Z"
   },
   {
    "duration": 7,
    "start_time": "2023-02-05T14:45:18.288Z"
   },
   {
    "duration": 36,
    "start_time": "2023-02-05T14:45:18.297Z"
   },
   {
    "duration": 39,
    "start_time": "2023-02-05T14:45:18.335Z"
   },
   {
    "duration": 6,
    "start_time": "2023-02-05T14:45:18.376Z"
   },
   {
    "duration": 16,
    "start_time": "2023-02-05T14:45:18.384Z"
   },
   {
    "duration": 36,
    "start_time": "2023-02-05T14:45:18.402Z"
   },
   {
    "duration": 21,
    "start_time": "2023-02-05T14:45:18.440Z"
   },
   {
    "duration": 56,
    "start_time": "2023-02-05T14:45:18.463Z"
   },
   {
    "duration": 24,
    "start_time": "2023-02-05T14:45:18.521Z"
   },
   {
    "duration": 54,
    "start_time": "2023-02-05T14:45:18.547Z"
   },
   {
    "duration": 59,
    "start_time": "2023-02-05T14:45:18.603Z"
   },
   {
    "duration": 15,
    "start_time": "2023-02-05T14:45:18.666Z"
   },
   {
    "duration": 29,
    "start_time": "2023-02-05T14:45:18.683Z"
   },
   {
    "duration": 74,
    "start_time": "2023-02-05T14:45:18.714Z"
   },
   {
    "duration": 26,
    "start_time": "2023-02-05T14:45:18.791Z"
   },
   {
    "duration": 38,
    "start_time": "2023-02-05T14:45:18.819Z"
   },
   {
    "duration": 16,
    "start_time": "2023-02-05T14:45:18.859Z"
   },
   {
    "duration": 22,
    "start_time": "2023-02-05T14:45:18.877Z"
   },
   {
    "duration": 539,
    "start_time": "2023-02-07T13:52:38.079Z"
   },
   {
    "duration": 23,
    "start_time": "2023-02-07T13:52:38.620Z"
   },
   {
    "duration": 16,
    "start_time": "2023-02-07T13:52:38.646Z"
   },
   {
    "duration": 16,
    "start_time": "2023-02-07T13:52:38.664Z"
   },
   {
    "duration": 35,
    "start_time": "2023-02-07T13:52:38.682Z"
   },
   {
    "duration": 4,
    "start_time": "2023-02-07T13:52:38.719Z"
   },
   {
    "duration": 35,
    "start_time": "2023-02-07T13:52:38.725Z"
   },
   {
    "duration": 4,
    "start_time": "2023-02-07T13:52:38.762Z"
   },
   {
    "duration": 15,
    "start_time": "2023-02-07T13:52:38.768Z"
   },
   {
    "duration": 5,
    "start_time": "2023-02-07T13:52:38.786Z"
   },
   {
    "duration": 36,
    "start_time": "2023-02-07T13:52:38.793Z"
   },
   {
    "duration": 27,
    "start_time": "2023-02-07T13:52:38.830Z"
   },
   {
    "duration": 6,
    "start_time": "2023-02-07T13:52:38.859Z"
   },
   {
    "duration": 21,
    "start_time": "2023-02-07T13:52:38.867Z"
   },
   {
    "duration": 27,
    "start_time": "2023-02-07T13:52:38.890Z"
   },
   {
    "duration": 34,
    "start_time": "2023-02-07T13:52:38.919Z"
   },
   {
    "duration": 4,
    "start_time": "2023-02-07T13:52:38.955Z"
   },
   {
    "duration": 12,
    "start_time": "2023-02-07T13:52:38.961Z"
   },
   {
    "duration": 8,
    "start_time": "2023-02-07T13:52:38.975Z"
   },
   {
    "duration": 4,
    "start_time": "2023-02-07T13:52:38.985Z"
   },
   {
    "duration": 22,
    "start_time": "2023-02-07T13:52:38.991Z"
   },
   {
    "duration": 8,
    "start_time": "2023-02-07T13:52:39.016Z"
   },
   {
    "duration": 30,
    "start_time": "2023-02-07T13:52:39.026Z"
   },
   {
    "duration": 12,
    "start_time": "2023-02-07T13:52:39.058Z"
   },
   {
    "duration": 10,
    "start_time": "2023-02-07T13:52:39.072Z"
   },
   {
    "duration": 19,
    "start_time": "2023-02-07T13:52:39.084Z"
   },
   {
    "duration": 14,
    "start_time": "2023-02-07T13:52:39.104Z"
   },
   {
    "duration": 31,
    "start_time": "2023-02-07T13:52:39.123Z"
   },
   {
    "duration": 5,
    "start_time": "2023-02-07T13:52:39.156Z"
   },
   {
    "duration": 10,
    "start_time": "2023-02-07T13:52:39.163Z"
   },
   {
    "duration": 10,
    "start_time": "2023-02-07T13:52:39.175Z"
   },
   {
    "duration": 44,
    "start_time": "2023-02-07T13:52:39.186Z"
   },
   {
    "duration": 8,
    "start_time": "2023-02-07T13:52:39.232Z"
   },
   {
    "duration": 13,
    "start_time": "2023-02-07T13:52:39.252Z"
   },
   {
    "duration": 14,
    "start_time": "2023-02-07T13:52:39.267Z"
   },
   {
    "duration": 33,
    "start_time": "2023-02-07T13:52:39.283Z"
   },
   {
    "duration": 36,
    "start_time": "2023-02-07T13:52:39.318Z"
   },
   {
    "duration": 6,
    "start_time": "2023-02-07T13:52:39.356Z"
   },
   {
    "duration": 40,
    "start_time": "2023-02-07T13:52:39.364Z"
   },
   {
    "duration": 15,
    "start_time": "2023-02-07T13:52:39.406Z"
   },
   {
    "duration": 72,
    "start_time": "2023-02-07T13:52:39.423Z"
   },
   {
    "duration": 19,
    "start_time": "2023-02-07T13:52:39.497Z"
   },
   {
    "duration": 35,
    "start_time": "2023-02-07T13:52:39.518Z"
   },
   {
    "duration": 43,
    "start_time": "2023-02-07T13:52:39.556Z"
   },
   {
    "duration": 22,
    "start_time": "2023-02-07T13:52:39.601Z"
   },
   {
    "duration": 5,
    "start_time": "2023-02-07T13:52:39.625Z"
   },
   {
    "duration": 56,
    "start_time": "2023-02-07T13:52:39.631Z"
   },
   {
    "duration": 5,
    "start_time": "2023-02-07T13:52:39.688Z"
   },
   {
    "duration": 33,
    "start_time": "2023-02-07T13:52:39.695Z"
   },
   {
    "duration": 8,
    "start_time": "2023-02-07T13:52:39.730Z"
   },
   {
    "duration": 10,
    "start_time": "2023-02-07T13:52:39.754Z"
   },
   {
    "duration": 43,
    "start_time": "2023-02-07T13:52:39.766Z"
   },
   {
    "duration": 5,
    "start_time": "2023-02-07T13:52:39.811Z"
   },
   {
    "duration": 37,
    "start_time": "2023-02-07T13:52:39.818Z"
   },
   {
    "duration": 6,
    "start_time": "2023-02-07T13:52:39.857Z"
   },
   {
    "duration": 30,
    "start_time": "2023-02-07T13:52:39.865Z"
   },
   {
    "duration": 3,
    "start_time": "2023-02-07T13:52:39.897Z"
   },
   {
    "duration": 12,
    "start_time": "2023-02-07T13:52:39.902Z"
   },
   {
    "duration": 17,
    "start_time": "2023-02-07T13:52:39.916Z"
   },
   {
    "duration": 570,
    "start_time": "2023-02-07T17:42:00.957Z"
   },
   {
    "duration": 27,
    "start_time": "2023-02-07T17:42:01.529Z"
   },
   {
    "duration": 29,
    "start_time": "2023-02-07T17:42:01.558Z"
   },
   {
    "duration": 22,
    "start_time": "2023-02-07T17:42:01.590Z"
   },
   {
    "duration": 50,
    "start_time": "2023-02-07T17:42:01.614Z"
   },
   {
    "duration": 3,
    "start_time": "2023-02-07T17:42:01.666Z"
   },
   {
    "duration": 31,
    "start_time": "2023-02-07T17:42:01.671Z"
   },
   {
    "duration": 28,
    "start_time": "2023-02-07T17:42:01.704Z"
   },
   {
    "duration": 30,
    "start_time": "2023-02-07T17:42:01.733Z"
   },
   {
    "duration": 21,
    "start_time": "2023-02-07T17:42:01.767Z"
   },
   {
    "duration": 39,
    "start_time": "2023-02-07T17:42:01.790Z"
   },
   {
    "duration": 10,
    "start_time": "2023-02-07T17:42:01.831Z"
   },
   {
    "duration": 14,
    "start_time": "2023-02-07T17:42:01.843Z"
   },
   {
    "duration": 21,
    "start_time": "2023-02-07T17:42:01.859Z"
   },
   {
    "duration": 29,
    "start_time": "2023-02-07T17:42:01.882Z"
   },
   {
    "duration": 35,
    "start_time": "2023-02-07T17:42:01.914Z"
   },
   {
    "duration": 5,
    "start_time": "2023-02-07T17:42:01.952Z"
   },
   {
    "duration": 28,
    "start_time": "2023-02-07T17:42:01.959Z"
   },
   {
    "duration": 25,
    "start_time": "2023-02-07T17:42:01.989Z"
   },
   {
    "duration": 24,
    "start_time": "2023-02-07T17:42:02.016Z"
   },
   {
    "duration": 55,
    "start_time": "2023-02-07T17:42:02.042Z"
   },
   {
    "duration": 13,
    "start_time": "2023-02-07T17:42:02.099Z"
   },
   {
    "duration": 18,
    "start_time": "2023-02-07T17:42:02.114Z"
   },
   {
    "duration": 42,
    "start_time": "2023-02-07T17:42:02.134Z"
   },
   {
    "duration": 60,
    "start_time": "2023-02-07T17:42:02.178Z"
   },
   {
    "duration": 33,
    "start_time": "2023-02-07T17:42:02.240Z"
   },
   {
    "duration": 20,
    "start_time": "2023-02-07T17:42:02.275Z"
   },
   {
    "duration": 10,
    "start_time": "2023-02-07T17:42:02.299Z"
   },
   {
    "duration": 33,
    "start_time": "2023-02-07T17:42:02.310Z"
   },
   {
    "duration": 30,
    "start_time": "2023-02-07T17:42:02.345Z"
   },
   {
    "duration": 18,
    "start_time": "2023-02-07T17:42:02.377Z"
   },
   {
    "duration": 57,
    "start_time": "2023-02-07T17:42:02.397Z"
   },
   {
    "duration": 9,
    "start_time": "2023-02-07T17:42:02.456Z"
   },
   {
    "duration": 28,
    "start_time": "2023-02-07T17:42:02.467Z"
   },
   {
    "duration": 25,
    "start_time": "2023-02-07T17:42:02.497Z"
   },
   {
    "duration": 45,
    "start_time": "2023-02-07T17:42:02.523Z"
   },
   {
    "duration": 8,
    "start_time": "2023-02-07T17:42:02.570Z"
   },
   {
    "duration": 19,
    "start_time": "2023-02-07T17:42:02.580Z"
   },
   {
    "duration": 47,
    "start_time": "2023-02-07T17:42:02.601Z"
   },
   {
    "duration": 14,
    "start_time": "2023-02-07T17:42:02.650Z"
   },
   {
    "duration": 37,
    "start_time": "2023-02-07T17:42:02.665Z"
   },
   {
    "duration": 36,
    "start_time": "2023-02-07T17:42:02.705Z"
   },
   {
    "duration": 16,
    "start_time": "2023-02-07T17:42:02.743Z"
   },
   {
    "duration": 48,
    "start_time": "2023-02-07T17:42:02.761Z"
   },
   {
    "duration": 39,
    "start_time": "2023-02-07T17:42:02.811Z"
   },
   {
    "duration": 4,
    "start_time": "2023-02-07T17:42:02.853Z"
   },
   {
    "duration": 52,
    "start_time": "2023-02-07T17:42:02.858Z"
   },
   {
    "duration": 5,
    "start_time": "2023-02-07T17:42:02.911Z"
   },
   {
    "duration": 36,
    "start_time": "2023-02-07T17:42:02.917Z"
   },
   {
    "duration": 7,
    "start_time": "2023-02-07T17:42:02.955Z"
   },
   {
    "duration": 16,
    "start_time": "2023-02-07T17:42:02.964Z"
   },
   {
    "duration": 34,
    "start_time": "2023-02-07T17:42:02.982Z"
   },
   {
    "duration": 25,
    "start_time": "2023-02-07T17:42:03.017Z"
   },
   {
    "duration": 28,
    "start_time": "2023-02-07T17:42:03.044Z"
   },
   {
    "duration": 21,
    "start_time": "2023-02-07T17:42:03.074Z"
   },
   {
    "duration": 58,
    "start_time": "2023-02-07T17:42:03.097Z"
   },
   {
    "duration": 5,
    "start_time": "2023-02-07T17:42:03.157Z"
   },
   {
    "duration": 10,
    "start_time": "2023-02-07T17:42:03.164Z"
   },
   {
    "duration": 7,
    "start_time": "2023-02-07T17:42:03.176Z"
   }
  ],
  "colab": {
   "name": "dpp_template_part2.ipynb",
   "provenance": []
  },
  "kernelspec": {
   "display_name": "Python 3 (ipykernel)",
   "language": "python",
   "name": "python3"
  },
  "language_info": {
   "codemirror_mode": {
    "name": "ipython",
    "version": 3
   },
   "file_extension": ".py",
   "mimetype": "text/x-python",
   "name": "python",
   "nbconvert_exporter": "python",
   "pygments_lexer": "ipython3",
   "version": "3.10.12"
  },
  "toc": {
   "base_numbering": 1,
   "nav_menu": {},
   "number_sections": true,
   "sideBar": true,
   "skip_h1_title": true,
   "title_cell": "Table of Contents",
   "title_sidebar": "Contents",
   "toc_cell": false,
   "toc_position": {
    "height": "calc(100% - 180px)",
    "left": "10px",
    "top": "150px",
    "width": "288px"
   },
   "toc_section_display": true,
   "toc_window_display": true
  }
 },
 "nbformat": 4,
 "nbformat_minor": 5
}
