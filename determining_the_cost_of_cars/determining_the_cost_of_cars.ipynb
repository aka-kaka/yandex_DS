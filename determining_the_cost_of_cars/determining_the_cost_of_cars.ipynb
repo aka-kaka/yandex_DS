{
 "cells": [
  {
   "cell_type": "code",
   "execution_count": 1,
   "metadata": {},
   "outputs": [
    {
     "name": "stdout",
     "output_type": "stream",
     "text": [
      "Name: catboost\n",
      "Version: 1.2\n",
      "Summary: CatBoost Python Package\n",
      "Home-page: https://catboost.ai\n",
      "Author: CatBoost Developers\n",
      "Author-email: \n",
      "License: Apache License, Version 2.0\n",
      "Location: /home/oslik/.local/lib/python3.10/site-packages\n",
      "Requires: graphviz, matplotlib, numpy, pandas, plotly, scipy, six\n",
      "Required-by: \n",
      "Name: category-encoders\n",
      "Version: 2.6.1\n",
      "Summary: A collection of sklearn transformers to encode categorical variables as numeric\n",
      "Home-page: https://github.com/scikit-learn-contrib/category_encoders\n",
      "Author: Will McGinnis\n",
      "Author-email: will@pedalwrencher.com\n",
      "License: BSD\n",
      "Location: /home/oslik/.local/lib/python3.10/site-packages\n",
      "Requires: numpy, pandas, patsy, scikit-learn, scipy, statsmodels\n",
      "Required-by: \n",
      "Name: lightgbm\n",
      "Version: 3.3.5\n",
      "Summary: LightGBM Python Package\n",
      "Home-page: https://github.com/microsoft/LightGBM\n",
      "Author: \n",
      "Author-email: \n",
      "License: The MIT License (Microsoft)\n",
      "Location: /home/oslik/.local/lib/python3.10/site-packages\n",
      "Requires: numpy, scikit-learn, scipy, wheel\n",
      "Required-by: \n"
     ]
    }
   ],
   "source": [
    "import os\n",
    "if os.system('pip show catboost'):\n",
    "    !pip install catboost\n",
    "if os.system('pip show category-encoders'):\n",
    "    !pip install category_encoders\n",
    "if os.system('pip show lightgbm'):\n",
    "    !pip install lightgbm"
   ]
  },
  {
   "cell_type": "markdown",
   "metadata": {},
   "source": [
    "# Опреление стоимости автомобилей"
   ]
  },
  {
   "cell_type": "markdown",
   "metadata": {},
   "source": [
    "Сервис по продаже автомобилей с пробегом «Не бит, не крашен» разрабатывает приложение для привлечения новых клиентов. В нём можно быстро узнать рыночную стоимость своего автомобиля. В вашем распоряжении исторические данные: технические характеристики, комплектации и цены автомобилей. Вам нужно построить модель для определения стоимости. \n",
    "\n",
    "Заказчику важны:\n",
    "\n",
    "- качество предсказания;\n",
    "- скорость предсказания;\n",
    "- время обучения."
   ]
  },
  {
   "cell_type": "markdown",
   "metadata": {},
   "source": [
    "Примечания:\n",
    "\n",
    "    Для оценки качества моделей применяйте метрику RMSE.\n",
    "    Значение метрики RMSE должно быть меньше 2500.\n",
    "    Самостоятельно освойте библиотеку LightGBM и её средствами постройте модели градиентного бустинга.\n",
    "    Время выполнения ячейки кода Jupyter Notebook можно получить специальной командой. Найдите её.\n",
    "    Модель градиентного бустинга может долго обучаться, поэтому измените у неё только два-три параметра.\n",
    "    Если перестанет работать Jupyter Notebook, удалите лишние переменные оператором del. \n",
    "\n",
    "Описание данных\n",
    "Признаки\n",
    "\n",
    "    DateCrawled — дата скачивания анкеты из базы\n",
    "    VehicleType — тип автомобильного кузова\n",
    "    RegistrationYear — год регистрации автомобиля\n",
    "    Gearbox — тип коробки передач\n",
    "    Power — мощность (л. с.)\n",
    "    Model — модель автомобиля\n",
    "    Kilometer — пробег (км)\n",
    "    RegistrationMonth — месяц регистрации автомобиля\n",
    "    FuelType — тип топлива\n",
    "    Brand — марка автомобиля\n",
    "    Repaired — была машина в ремонте или нет\n",
    "    DateCreated — дата создания анкеты\n",
    "    NumberOfPictures — количество фотографий автомобиля\n",
    "    PostalCode — почтовый индекс владельца анкеты (пользователя)\n",
    "    LastSeen — дата последней активности пользователя\n",
    "\n",
    "Целевой признак\n",
    "\n",
    "    Price — цена (евро)\n",
    "    \n"
   ]
  },
  {
   "cell_type": "markdown",
   "metadata": {},
   "source": [
    "Загрузим необходимые библиотеки, проведем некоторую настройку и создадим функции"
   ]
  },
  {
   "cell_type": "code",
   "execution_count": 2,
   "metadata": {},
   "outputs": [],
   "source": [
    "from datetime import datetime\n",
    "\n",
    "import pandas as pd\n",
    "import numpy as np\n",
    "import seaborn as sns\n",
    "import matplotlib.pyplot as plt\n",
    "\n",
    "from sklearn.model_selection import train_test_split\n",
    "from sklearn.preprocessing import OneHotEncoder, StandardScaler, RobustScaler\n",
    "from sklearn.model_selection import GridSearchCV\n",
    "from sklearn.linear_model import LinearRegression, Ridge\n",
    "from sklearn.dummy import DummyRegressor\n",
    "from sklearn.metrics import mean_squared_error, make_scorer, mean_absolute_error\n",
    "from sklearn.preprocessing import OrdinalEncoder\n",
    "from category_encoders.m_estimate import MEstimateEncoder\n",
    "from catboost import CatBoostClassifier, CatBoostRanker, CatBoostRegressor\n",
    "from lightgbm import LGBMRegressor"
   ]
  },
  {
   "cell_type": "code",
   "execution_count": 3,
   "metadata": {},
   "outputs": [],
   "source": [
    "pd.set_option('max_colwidth', 300)\n",
    "pd.set_option('display.max_columns', 17)\n",
    "pd.set_option('display.max_rows', 100)\n",
    "RANDOM_STATE =123456"
   ]
  },
  {
   "cell_type": "code",
   "execution_count": 4,
   "metadata": {},
   "outputs": [],
   "source": [
    "def edit_datetime(data_frame:pd.DataFrame,\n",
    "                  columns:list=None,\n",
    "                  format:str='%Y-%m-%d %H:%M:%S'):\n",
    "    for i in columns:\n",
    "        received_data[i] = pd.to_datetime(received_data[i], format=format)\n",
    "    else:\n",
    "        return data_frame"
   ]
  },
  {
   "cell_type": "code",
   "execution_count": 5,
   "metadata": {},
   "outputs": [],
   "source": [
    "def set_box_plot(showfliers:bool=False, col:list=None):\n",
    "    if not col:\n",
    "        col=[]\n",
    "        for i in received_data.columns[received_data.dtypes == 'int']:\n",
    "            col.append(i)\n",
    "    fig, ax = plt.subplots(nrows=len(col), figsize=(10,7))\n",
    "    for num in range(6):\n",
    "\n",
    "        sns.boxplot(ax=ax[num], x=received_data[col[num]],\n",
    "                    orient='h', showfliers=showfliers);\n",
    "        plt.subplots_adjust(hspace=1, wspace=0)"
   ]
  },
  {
   "cell_type": "code",
   "execution_count": 6,
   "metadata": {},
   "outputs": [],
   "source": [
    "def edit_col(column:list):\n",
    "    tmp=[]\n",
    "    column = list(column)\n",
    "    for num in range(len(column)):\n",
    "        if column[num].isupper():\n",
    "            column[num] = '_' + column[num].lower() if num > 0 else column[num].lower()\n",
    "    return ''.join(column)"
   ]
  },
  {
   "cell_type": "code",
   "execution_count": 7,
   "metadata": {},
   "outputs": [],
   "source": [
    "def get_vehicle_type(data:pd.DataFrame=None,\n",
    "                     brand:str='toyota',\n",
    "                     model:str='corolla',\n",
    "                    test:bool=False):\n",
    "    \n",
    "    if test:\n",
    "        return data.loc[\n",
    "            (data.brand==brand) &\n",
    "            (data.model==model)\n",
    "        ].pivot_table(\n",
    "            index=['brand', 'model', 'vehicle_type'],\\\n",
    "            values=['date_created'],\n",
    "            aggfunc='count'\n",
    "        ).sort_values(by='date_created', ascending=False)\n",
    "    else:\n",
    "        try:\n",
    "            return data.loc[\n",
    "                (data.brand==brand) &\n",
    "                (data.model==model)\n",
    "            ].groupby(\n",
    "                by='vehicle_type'\n",
    "            )['last_seen'].count().sort_values(ascending=False).index[0]\n",
    "        except IndexError:\n",
    "            return np.nan"
   ]
  },
  {
   "cell_type": "code",
   "execution_count": 8,
   "metadata": {},
   "outputs": [],
   "source": [
    "def get_group_col(data:pd.DataFrame,\n",
    "                  cols:list=[], \n",
    "                  keep='last')->pd.DataFrame:\n",
    "    s = data[\n",
    "        [\n",
    "            cols[0], \n",
    "            cols[1],\n",
    "            cols[2], \n",
    "            cols[3],\n",
    "        ]\n",
    "    ].groupby(\n",
    "        by=[\n",
    "            cols[0],\n",
    "            cols[1],\n",
    "            cols[2],\n",
    "        ]\n",
    "    )[cols[3]].count().reset_index().sort_values(\n",
    "        by= cols[3],\n",
    "    )\n",
    "    s=s.drop(\n",
    "        columns=[cols[3] ,cols[2]]\n",
    "    ).drop_duplicates(\n",
    "        keep=keep\n",
    "    ).join(\n",
    "        s.drop(\n",
    "            columns=[cols[0], cols[1]]\n",
    "        )\n",
    "    ).reset_index(drop=True)\n",
    "    return s"
   ]
  },
  {
   "cell_type": "code",
   "execution_count": 9,
   "metadata": {},
   "outputs": [],
   "source": [
    "def rmse(data: pd.Series,\n",
    "           predict: np.array)->float:\n",
    "    \"\"\"\n",
    "    расчет RSME\n",
    "    \"\"\"\n",
    "    data = np.array(data)\n",
    "    predict = np.array(predict)\n",
    "    return mean_squared_error(predict, data, squared=False)"
   ]
  },
  {
   "cell_type": "code",
   "execution_count": 10,
   "metadata": {},
   "outputs": [],
   "source": [
    "def model_func(model,\n",
    "               train: pd.DataFrame,\n",
    "               train_valid: pd.Series,\n",
    "               param_grid:dict=dict(),\n",
    "               random_state=None,\n",
    "               name_data:str='rsme_train',\n",
    "               cv=5,\n",
    "              ):\n",
    "    \n",
    "    model_ridge = model(**random_state) if random_state else model()\n",
    "\n",
    "    gs_ridge = GridSearchCV(\n",
    "        model_ridge, \n",
    "        param_grid=param_grid, \n",
    "        scoring=make_scorer(rmse,),\n",
    "        #n_jobs=-1, \n",
    "        cv=cv,\n",
    "    );\n",
    "    all_time = datetime.now()\n",
    "    gs_ridge.fit(train, train_valid)\n",
    "    all_time = (datetime.now() - all_time)\n",
    "    best_model = gs_ridge.best_estimator_\n",
    "    best_param = gs_ridge.best_params_\n",
    "    \n",
    "    data = {\n",
    "        'name': [model.__name__,],\n",
    "        name_data: [gs_ridge.best_score_,],\n",
    "        'best_model': [f'{best_model=}',],\n",
    "        'best_param': [f'{best_param=}',],\n",
    "        'all_time_sec': [f'{all_time.total_seconds()}',],\n",
    "        'model': [f'model={model.__name__}',],\n",
    "        #'median_time': [np.median(sorted(gs_ridge.cv_results_['mean_fit_time'])),],\n",
    "        #name_data: [tmp],\n",
    "    }\n",
    "    return gs_ridge, pd.DataFrame(data)"
   ]
  },
  {
   "cell_type": "code",
   "execution_count": 11,
   "metadata": {},
   "outputs": [],
   "source": [
    "def encode_cat_par(data:list=[], \n",
    "                   columns:list=[], \n",
    "                   futures:pd.Series=None, \n",
    "                   encoder=OneHotEncoder()):\n",
    "    \n",
    "    if not columns:\n",
    "        columns=data[0].columns\n",
    "        \n",
    "    if type(encoder)==MEstimateEncoder:\n",
    "        model = encoder.fit(data[0][columns], futures)\n",
    "    else:\n",
    "        model = encoder.fit(data[0][columns])\n",
    "\n",
    "    for num in range(len(data)):\n",
    "        data[num][columns] = pd.DataFrame(\n",
    "            encoder.transform(data[num][columns]), columns=columns)\n",
    "    return data"
   ]
  },
  {
   "cell_type": "code",
   "execution_count": 12,
   "metadata": {},
   "outputs": [],
   "source": [
    "def ret_rsme(model, X, y):\n",
    "    predict = model.predict(X)\n",
    "    return mean_squared_error(predict, y, squared=False)"
   ]
  },
  {
   "cell_type": "markdown",
   "metadata": {},
   "source": [
    "## Изучение данных"
   ]
  },
  {
   "cell_type": "code",
   "execution_count": 13,
   "metadata": {},
   "outputs": [],
   "source": [
    "try: \n",
    "    received_data = pd.read_csv(\n",
    "        '/home/oslik/Yandex_curs_DS/Project_s3_2/datasets/autos.csv',\n",
    "        index_col='DateCrawled',\n",
    "    ) #'/datasets/autos.csv')\n",
    "except:\n",
    "    received_data = pd.read_csv(\n",
    "        'https://code.s3.yandex.net/datasets/autos.csv',\n",
    "        index_col='DateCrawled',\n",
    "    )"
   ]
  },
  {
   "cell_type": "code",
   "execution_count": 14,
   "metadata": {},
   "outputs": [
    {
     "name": "stdout",
     "output_type": "stream",
     "text": [
      "<class 'pandas.core.frame.DataFrame'>\n",
      "Index: 354369 entries, 2016-03-24 11:52:17 to 2016-03-20 19:41:08\n",
      "Data columns (total 15 columns):\n",
      " #   Column             Non-Null Count   Dtype \n",
      "---  ------             --------------   ----- \n",
      " 0   Price              354369 non-null  int64 \n",
      " 1   VehicleType        316879 non-null  object\n",
      " 2   RegistrationYear   354369 non-null  int64 \n",
      " 3   Gearbox            334536 non-null  object\n",
      " 4   Power              354369 non-null  int64 \n",
      " 5   Model              334664 non-null  object\n",
      " 6   Kilometer          354369 non-null  int64 \n",
      " 7   RegistrationMonth  354369 non-null  int64 \n",
      " 8   FuelType           321474 non-null  object\n",
      " 9   Brand              354369 non-null  object\n",
      " 10  Repaired           283215 non-null  object\n",
      " 11  DateCreated        354369 non-null  object\n",
      " 12  NumberOfPictures   354369 non-null  int64 \n",
      " 13  PostalCode         354369 non-null  int64 \n",
      " 14  LastSeen           354369 non-null  object\n",
      "dtypes: int64(7), object(8)\n",
      "memory usage: 43.3+ MB\n"
     ]
    }
   ],
   "source": [
    "received_data.info()"
   ]
  },
  {
   "cell_type": "code",
   "execution_count": 15,
   "metadata": {},
   "outputs": [],
   "source": [
    "old_shape=received_data.shape"
   ]
  },
  {
   "cell_type": "code",
   "execution_count": 16,
   "metadata": {},
   "outputs": [
    {
     "data": {
      "text/plain": [
       "Price                    0\n",
       "VehicleType          37490\n",
       "RegistrationYear         0\n",
       "Gearbox              19833\n",
       "Power                    0\n",
       "Model                19705\n",
       "Kilometer                0\n",
       "RegistrationMonth        0\n",
       "FuelType             32895\n",
       "Brand                    0\n",
       "Repaired             71154\n",
       "DateCreated              0\n",
       "NumberOfPictures         0\n",
       "PostalCode               0\n",
       "LastSeen                 0\n",
       "dtype: int64"
      ]
     },
     "execution_count": 16,
     "metadata": {},
     "output_type": "execute_result"
    }
   ],
   "source": [
    "received_data.isna().sum()"
   ]
  },
  {
   "cell_type": "code",
   "execution_count": 17,
   "metadata": {},
   "outputs": [
    {
     "data": {
      "text/html": [
       "<div>\n",
       "<style scoped>\n",
       "    .dataframe tbody tr th:only-of-type {\n",
       "        vertical-align: middle;\n",
       "    }\n",
       "\n",
       "    .dataframe tbody tr th {\n",
       "        vertical-align: top;\n",
       "    }\n",
       "\n",
       "    .dataframe thead th {\n",
       "        text-align: right;\n",
       "    }\n",
       "</style>\n",
       "<table border=\"1\" class=\"dataframe\">\n",
       "  <thead>\n",
       "    <tr style=\"text-align: right;\">\n",
       "      <th></th>\n",
       "      <th>Price</th>\n",
       "      <th>VehicleType</th>\n",
       "      <th>RegistrationYear</th>\n",
       "      <th>Gearbox</th>\n",
       "      <th>Power</th>\n",
       "      <th>Model</th>\n",
       "      <th>Kilometer</th>\n",
       "      <th>RegistrationMonth</th>\n",
       "      <th>FuelType</th>\n",
       "      <th>Brand</th>\n",
       "      <th>Repaired</th>\n",
       "      <th>DateCreated</th>\n",
       "      <th>NumberOfPictures</th>\n",
       "      <th>PostalCode</th>\n",
       "      <th>LastSeen</th>\n",
       "    </tr>\n",
       "    <tr>\n",
       "      <th>DateCrawled</th>\n",
       "      <th></th>\n",
       "      <th></th>\n",
       "      <th></th>\n",
       "      <th></th>\n",
       "      <th></th>\n",
       "      <th></th>\n",
       "      <th></th>\n",
       "      <th></th>\n",
       "      <th></th>\n",
       "      <th></th>\n",
       "      <th></th>\n",
       "      <th></th>\n",
       "      <th></th>\n",
       "      <th></th>\n",
       "      <th></th>\n",
       "    </tr>\n",
       "  </thead>\n",
       "  <tbody>\n",
       "    <tr>\n",
       "      <th>2016-03-24 11:52:17</th>\n",
       "      <td>480</td>\n",
       "      <td>NaN</td>\n",
       "      <td>1993</td>\n",
       "      <td>manual</td>\n",
       "      <td>0</td>\n",
       "      <td>golf</td>\n",
       "      <td>150000</td>\n",
       "      <td>0</td>\n",
       "      <td>petrol</td>\n",
       "      <td>volkswagen</td>\n",
       "      <td>NaN</td>\n",
       "      <td>2016-03-24 00:00:00</td>\n",
       "      <td>0</td>\n",
       "      <td>70435</td>\n",
       "      <td>2016-04-07 03:16:57</td>\n",
       "    </tr>\n",
       "    <tr>\n",
       "      <th>2016-03-24 10:58:45</th>\n",
       "      <td>18300</td>\n",
       "      <td>coupe</td>\n",
       "      <td>2011</td>\n",
       "      <td>manual</td>\n",
       "      <td>190</td>\n",
       "      <td>NaN</td>\n",
       "      <td>125000</td>\n",
       "      <td>5</td>\n",
       "      <td>gasoline</td>\n",
       "      <td>audi</td>\n",
       "      <td>yes</td>\n",
       "      <td>2016-03-24 00:00:00</td>\n",
       "      <td>0</td>\n",
       "      <td>66954</td>\n",
       "      <td>2016-04-07 01:46:50</td>\n",
       "    </tr>\n",
       "    <tr>\n",
       "      <th>2016-03-14 12:52:21</th>\n",
       "      <td>9800</td>\n",
       "      <td>suv</td>\n",
       "      <td>2004</td>\n",
       "      <td>auto</td>\n",
       "      <td>163</td>\n",
       "      <td>grand</td>\n",
       "      <td>125000</td>\n",
       "      <td>8</td>\n",
       "      <td>gasoline</td>\n",
       "      <td>jeep</td>\n",
       "      <td>NaN</td>\n",
       "      <td>2016-03-14 00:00:00</td>\n",
       "      <td>0</td>\n",
       "      <td>90480</td>\n",
       "      <td>2016-04-05 12:47:46</td>\n",
       "    </tr>\n",
       "    <tr>\n",
       "      <th>2016-03-17 16:54:04</th>\n",
       "      <td>1500</td>\n",
       "      <td>small</td>\n",
       "      <td>2001</td>\n",
       "      <td>manual</td>\n",
       "      <td>75</td>\n",
       "      <td>golf</td>\n",
       "      <td>150000</td>\n",
       "      <td>6</td>\n",
       "      <td>petrol</td>\n",
       "      <td>volkswagen</td>\n",
       "      <td>no</td>\n",
       "      <td>2016-03-17 00:00:00</td>\n",
       "      <td>0</td>\n",
       "      <td>91074</td>\n",
       "      <td>2016-03-17 17:40:17</td>\n",
       "    </tr>\n",
       "    <tr>\n",
       "      <th>2016-03-31 17:25:20</th>\n",
       "      <td>3600</td>\n",
       "      <td>small</td>\n",
       "      <td>2008</td>\n",
       "      <td>manual</td>\n",
       "      <td>69</td>\n",
       "      <td>fabia</td>\n",
       "      <td>90000</td>\n",
       "      <td>7</td>\n",
       "      <td>gasoline</td>\n",
       "      <td>skoda</td>\n",
       "      <td>no</td>\n",
       "      <td>2016-03-31 00:00:00</td>\n",
       "      <td>0</td>\n",
       "      <td>60437</td>\n",
       "      <td>2016-04-06 10:17:21</td>\n",
       "    </tr>\n",
       "  </tbody>\n",
       "</table>\n",
       "</div>"
      ],
      "text/plain": [
       "                     Price VehicleType  RegistrationYear Gearbox  Power   \n",
       "DateCrawled                                                               \n",
       "2016-03-24 11:52:17    480         NaN              1993  manual      0  \\\n",
       "2016-03-24 10:58:45  18300       coupe              2011  manual    190   \n",
       "2016-03-14 12:52:21   9800         suv              2004    auto    163   \n",
       "2016-03-17 16:54:04   1500       small              2001  manual     75   \n",
       "2016-03-31 17:25:20   3600       small              2008  manual     69   \n",
       "\n",
       "                     Model  Kilometer  RegistrationMonth  FuelType   \n",
       "DateCrawled                                                          \n",
       "2016-03-24 11:52:17   golf     150000                  0    petrol  \\\n",
       "2016-03-24 10:58:45    NaN     125000                  5  gasoline   \n",
       "2016-03-14 12:52:21  grand     125000                  8  gasoline   \n",
       "2016-03-17 16:54:04   golf     150000                  6    petrol   \n",
       "2016-03-31 17:25:20  fabia      90000                  7  gasoline   \n",
       "\n",
       "                          Brand Repaired          DateCreated   \n",
       "DateCrawled                                                     \n",
       "2016-03-24 11:52:17  volkswagen      NaN  2016-03-24 00:00:00  \\\n",
       "2016-03-24 10:58:45        audi      yes  2016-03-24 00:00:00   \n",
       "2016-03-14 12:52:21        jeep      NaN  2016-03-14 00:00:00   \n",
       "2016-03-17 16:54:04  volkswagen       no  2016-03-17 00:00:00   \n",
       "2016-03-31 17:25:20       skoda       no  2016-03-31 00:00:00   \n",
       "\n",
       "                     NumberOfPictures  PostalCode             LastSeen  \n",
       "DateCrawled                                                             \n",
       "2016-03-24 11:52:17                 0       70435  2016-04-07 03:16:57  \n",
       "2016-03-24 10:58:45                 0       66954  2016-04-07 01:46:50  \n",
       "2016-03-14 12:52:21                 0       90480  2016-04-05 12:47:46  \n",
       "2016-03-17 16:54:04                 0       91074  2016-03-17 17:40:17  \n",
       "2016-03-31 17:25:20                 0       60437  2016-04-06 10:17:21  "
      ]
     },
     "metadata": {},
     "output_type": "display_data"
    },
    {
     "name": "stdout",
     "output_type": "stream",
     "text": [
      "\n",
      " ********** \n",
      "\n"
     ]
    },
    {
     "data": {
      "text/html": [
       "<div>\n",
       "<style scoped>\n",
       "    .dataframe tbody tr th:only-of-type {\n",
       "        vertical-align: middle;\n",
       "    }\n",
       "\n",
       "    .dataframe tbody tr th {\n",
       "        vertical-align: top;\n",
       "    }\n",
       "\n",
       "    .dataframe thead th {\n",
       "        text-align: right;\n",
       "    }\n",
       "</style>\n",
       "<table border=\"1\" class=\"dataframe\">\n",
       "  <thead>\n",
       "    <tr style=\"text-align: right;\">\n",
       "      <th></th>\n",
       "      <th>Price</th>\n",
       "      <th>VehicleType</th>\n",
       "      <th>RegistrationYear</th>\n",
       "      <th>Gearbox</th>\n",
       "      <th>Power</th>\n",
       "      <th>Model</th>\n",
       "      <th>Kilometer</th>\n",
       "      <th>RegistrationMonth</th>\n",
       "      <th>FuelType</th>\n",
       "      <th>Brand</th>\n",
       "      <th>Repaired</th>\n",
       "      <th>DateCreated</th>\n",
       "      <th>NumberOfPictures</th>\n",
       "      <th>PostalCode</th>\n",
       "      <th>LastSeen</th>\n",
       "    </tr>\n",
       "    <tr>\n",
       "      <th>DateCrawled</th>\n",
       "      <th></th>\n",
       "      <th></th>\n",
       "      <th></th>\n",
       "      <th></th>\n",
       "      <th></th>\n",
       "      <th></th>\n",
       "      <th></th>\n",
       "      <th></th>\n",
       "      <th></th>\n",
       "      <th></th>\n",
       "      <th></th>\n",
       "      <th></th>\n",
       "      <th></th>\n",
       "      <th></th>\n",
       "      <th></th>\n",
       "    </tr>\n",
       "  </thead>\n",
       "  <tbody>\n",
       "    <tr>\n",
       "      <th>2016-03-21 09:50:58</th>\n",
       "      <td>0</td>\n",
       "      <td>NaN</td>\n",
       "      <td>2005</td>\n",
       "      <td>manual</td>\n",
       "      <td>0</td>\n",
       "      <td>colt</td>\n",
       "      <td>150000</td>\n",
       "      <td>7</td>\n",
       "      <td>petrol</td>\n",
       "      <td>mitsubishi</td>\n",
       "      <td>yes</td>\n",
       "      <td>2016-03-21 00:00:00</td>\n",
       "      <td>0</td>\n",
       "      <td>2694</td>\n",
       "      <td>2016-03-21 10:42:49</td>\n",
       "    </tr>\n",
       "    <tr>\n",
       "      <th>2016-03-14 17:48:27</th>\n",
       "      <td>2200</td>\n",
       "      <td>NaN</td>\n",
       "      <td>2005</td>\n",
       "      <td>NaN</td>\n",
       "      <td>0</td>\n",
       "      <td>NaN</td>\n",
       "      <td>20000</td>\n",
       "      <td>1</td>\n",
       "      <td>NaN</td>\n",
       "      <td>sonstige_autos</td>\n",
       "      <td>NaN</td>\n",
       "      <td>2016-03-14 00:00:00</td>\n",
       "      <td>0</td>\n",
       "      <td>39576</td>\n",
       "      <td>2016-04-06 00:46:52</td>\n",
       "    </tr>\n",
       "    <tr>\n",
       "      <th>2016-03-05 19:56:21</th>\n",
       "      <td>1199</td>\n",
       "      <td>convertible</td>\n",
       "      <td>2000</td>\n",
       "      <td>auto</td>\n",
       "      <td>101</td>\n",
       "      <td>fortwo</td>\n",
       "      <td>125000</td>\n",
       "      <td>3</td>\n",
       "      <td>petrol</td>\n",
       "      <td>smart</td>\n",
       "      <td>no</td>\n",
       "      <td>2016-03-05 00:00:00</td>\n",
       "      <td>0</td>\n",
       "      <td>26135</td>\n",
       "      <td>2016-03-11 18:17:12</td>\n",
       "    </tr>\n",
       "    <tr>\n",
       "      <th>2016-03-19 18:57:12</th>\n",
       "      <td>9200</td>\n",
       "      <td>bus</td>\n",
       "      <td>1996</td>\n",
       "      <td>manual</td>\n",
       "      <td>102</td>\n",
       "      <td>transporter</td>\n",
       "      <td>150000</td>\n",
       "      <td>3</td>\n",
       "      <td>gasoline</td>\n",
       "      <td>volkswagen</td>\n",
       "      <td>no</td>\n",
       "      <td>2016-03-19 00:00:00</td>\n",
       "      <td>0</td>\n",
       "      <td>87439</td>\n",
       "      <td>2016-04-07 07:15:26</td>\n",
       "    </tr>\n",
       "    <tr>\n",
       "      <th>2016-03-20 19:41:08</th>\n",
       "      <td>3400</td>\n",
       "      <td>wagon</td>\n",
       "      <td>2002</td>\n",
       "      <td>manual</td>\n",
       "      <td>100</td>\n",
       "      <td>golf</td>\n",
       "      <td>150000</td>\n",
       "      <td>6</td>\n",
       "      <td>gasoline</td>\n",
       "      <td>volkswagen</td>\n",
       "      <td>NaN</td>\n",
       "      <td>2016-03-20 00:00:00</td>\n",
       "      <td>0</td>\n",
       "      <td>40764</td>\n",
       "      <td>2016-03-24 12:45:21</td>\n",
       "    </tr>\n",
       "  </tbody>\n",
       "</table>\n",
       "</div>"
      ],
      "text/plain": [
       "                     Price  VehicleType  RegistrationYear Gearbox  Power   \n",
       "DateCrawled                                                                \n",
       "2016-03-21 09:50:58      0          NaN              2005  manual      0  \\\n",
       "2016-03-14 17:48:27   2200          NaN              2005     NaN      0   \n",
       "2016-03-05 19:56:21   1199  convertible              2000    auto    101   \n",
       "2016-03-19 18:57:12   9200          bus              1996  manual    102   \n",
       "2016-03-20 19:41:08   3400        wagon              2002  manual    100   \n",
       "\n",
       "                           Model  Kilometer  RegistrationMonth  FuelType   \n",
       "DateCrawled                                                                \n",
       "2016-03-21 09:50:58         colt     150000                  7    petrol  \\\n",
       "2016-03-14 17:48:27          NaN      20000                  1       NaN   \n",
       "2016-03-05 19:56:21       fortwo     125000                  3    petrol   \n",
       "2016-03-19 18:57:12  transporter     150000                  3  gasoline   \n",
       "2016-03-20 19:41:08         golf     150000                  6  gasoline   \n",
       "\n",
       "                              Brand Repaired          DateCreated   \n",
       "DateCrawled                                                         \n",
       "2016-03-21 09:50:58      mitsubishi      yes  2016-03-21 00:00:00  \\\n",
       "2016-03-14 17:48:27  sonstige_autos      NaN  2016-03-14 00:00:00   \n",
       "2016-03-05 19:56:21           smart       no  2016-03-05 00:00:00   \n",
       "2016-03-19 18:57:12      volkswagen       no  2016-03-19 00:00:00   \n",
       "2016-03-20 19:41:08      volkswagen      NaN  2016-03-20 00:00:00   \n",
       "\n",
       "                     NumberOfPictures  PostalCode             LastSeen  \n",
       "DateCrawled                                                             \n",
       "2016-03-21 09:50:58                 0        2694  2016-03-21 10:42:49  \n",
       "2016-03-14 17:48:27                 0       39576  2016-04-06 00:46:52  \n",
       "2016-03-05 19:56:21                 0       26135  2016-03-11 18:17:12  \n",
       "2016-03-19 18:57:12                 0       87439  2016-04-07 07:15:26  \n",
       "2016-03-20 19:41:08                 0       40764  2016-03-24 12:45:21  "
      ]
     },
     "metadata": {},
     "output_type": "display_data"
    }
   ],
   "source": [
    "display(received_data.head())\n",
    "print('\\n','*'*10, '\\n')\n",
    "display(received_data.tail())"
   ]
  },
  {
   "cell_type": "code",
   "execution_count": 18,
   "metadata": {},
   "outputs": [
    {
     "name": "stdout",
     "output_type": "stream",
     "text": [
      "явных дубликатов:\n"
     ]
    },
    {
     "data": {
      "text/plain": [
       "89"
      ]
     },
     "execution_count": 18,
     "metadata": {},
     "output_type": "execute_result"
    }
   ],
   "source": [
    "print('явных дубликатов:')\n",
    "received_data.duplicated().sum()"
   ]
  },
  {
   "cell_type": "code",
   "execution_count": 19,
   "metadata": {},
   "outputs": [
    {
     "data": {
      "image/png": "[encoded data removed]",
      "text/plain": [
       "<Figure size 1440x720 with 9 Axes>"
      ]
     },
     "metadata": {
      "needs_background": "light"
     },
     "output_type": "display_data"
    }
   ],
   "source": [
    "received_data.hist(figsize=(20,10));"
   ]
  },
  {
   "cell_type": "code",
   "execution_count": 20,
   "metadata": {},
   "outputs": [
    {
     "data": {
      "text/plain": [
       "[0, 1, 2, 3, 4, 5, 6, 7, 8, 9, 10, 11, 12]"
      ]
     },
     "execution_count": 20,
     "metadata": {},
     "output_type": "execute_result"
    }
   ],
   "source": [
    "sorted(received_data['RegistrationMonth'].unique())"
   ]
  },
  {
   "cell_type": "markdown",
   "metadata": {},
   "source": [
    "нулевого месяца быть не может. "
   ]
  },
  {
   "cell_type": "code",
   "execution_count": 21,
   "metadata": {},
   "outputs": [
    {
     "data": {
      "text/plain": [
       "['petrol', 'gasoline', nan, 'lpg', 'other', 'hybrid', 'cng', 'electric']"
      ]
     },
     "execution_count": 21,
     "metadata": {},
     "output_type": "execute_result"
    }
   ],
   "source": [
    "list(received_data.FuelType.unique())"
   ]
  },
  {
   "cell_type": "markdown",
   "metadata": {},
   "source": [
    "petrol и gasoline, как lpg и cng по сути одно и тоже. первое это бензин, второе - газ."
   ]
  },
  {
   "cell_type": "code",
   "execution_count": 22,
   "metadata": {},
   "outputs": [
    {
     "data": {
      "text/plain": [
       "[nan, 'coupe', 'suv', 'small', 'sedan', 'convertible', 'bus', 'wagon', 'other']"
      ]
     },
     "execution_count": 22,
     "metadata": {},
     "output_type": "execute_result"
    }
   ],
   "source": [
    "list(received_data.VehicleType.unique())"
   ]
  },
  {
   "cell_type": "code",
   "execution_count": 23,
   "metadata": {},
   "outputs": [
    {
     "data": {
      "text/plain": [
       "array(['volkswagen', 'audi', 'jeep', 'skoda', 'bmw', 'peugeot', 'ford',\n",
       "       'mazda', 'nissan', 'renault', 'mercedes_benz', 'opel', 'seat',\n",
       "       'citroen', 'honda', 'fiat', 'mini', 'smart', 'hyundai',\n",
       "       'sonstige_autos', 'alfa_romeo', 'subaru', 'volvo', 'mitsubishi',\n",
       "       'kia', 'suzuki', 'lancia', 'toyota', 'chevrolet', 'dacia',\n",
       "       'daihatsu', 'trabant', 'saab', 'chrysler', 'jaguar', 'daewoo',\n",
       "       'porsche', 'rover', 'land_rover', 'lada'], dtype=object)"
      ]
     },
     "execution_count": 23,
     "metadata": {},
     "output_type": "execute_result"
    }
   ],
   "source": [
    "received_data.Brand.unique()"
   ]
  },
  {
   "cell_type": "code",
   "execution_count": 24,
   "metadata": {},
   "outputs": [
    {
     "data": {
      "image/png": "[encoded data removed]",
      "text/plain": [
       "<Figure size 720x504 with 6 Axes>"
      ]
     },
     "metadata": {
      "needs_background": "light"
     },
     "output_type": "display_data"
    }
   ],
   "source": [
    "set_box_plot(\n",
    "    showfliers=False, \n",
    "    col=['Price', 'RegistrationYear', 'Power', 'Kilometer',\n",
    "         'RegistrationMonth', 'NumberOfPictures',\n",
    "        ])"
   ]
  },
  {
   "cell_type": "markdown",
   "metadata": {},
   "source": [
    "как примерно должны выглядеть данные"
   ]
  },
  {
   "cell_type": "code",
   "execution_count": 25,
   "metadata": {},
   "outputs": [
    {
     "data": {
      "image/png": "[encoded data removed]",
      "text/plain": [
       "<Figure size 720x504 with 6 Axes>"
      ]
     },
     "metadata": {
      "needs_background": "light"
     },
     "output_type": "display_data"
    }
   ],
   "source": [
    "set_box_plot(\n",
    "    showfliers=True,\n",
    "    col=[\n",
    "        'Price', 'RegistrationYear', 'Power', 'Kilometer',\n",
    "        'RegistrationMonth', 'NumberOfPictures',\n",
    "    ])"
   ]
  },
  {
   "cell_type": "markdown",
   "metadata": {},
   "source": [
    "как это выглядит сейчас"
   ]
  },
  {
   "cell_type": "code",
   "execution_count": 26,
   "metadata": {},
   "outputs": [
    {
     "data": {
      "text/plain": [
       "(354369, 15)"
      ]
     },
     "execution_count": 26,
     "metadata": {},
     "output_type": "execute_result"
    }
   ],
   "source": [
    "old_shape"
   ]
  },
  {
   "cell_type": "markdown",
   "metadata": {},
   "source": [
    "### Краткий вывод"
   ]
  },
  {
   "cell_type": "markdown",
   "metadata": {},
   "source": [
    "при работе над разделом обнаружено, что  в предоставленных данных присутствуют:\n",
    "* пропуски;\n",
    "* дубликаты явные и неявные;\n",
    "* выбросы;\n",
    "* пропуски;\n",
    "* некорректные значения;\n",
    "* несовпадение типов;\n",
    "* ненужные столбцы;\n",
    "* геоданные."
   ]
  },
  {
   "cell_type": "markdown",
   "metadata": {},
   "source": [
    "## Подготовка данных"
   ]
  },
  {
   "cell_type": "markdown",
   "metadata": {},
   "source": [
    "приведем названия столбцов к camel_case"
   ]
  },
  {
   "cell_type": "code",
   "execution_count": 27,
   "metadata": {},
   "outputs": [],
   "source": [
    "tmp=[]\n",
    "for i in range(old_shape[1]):\n",
    "    tmp.append(edit_col(received_data.columns[i]))\n",
    "received_data.columns = tmp\n",
    "received_data.index.name = edit_col(received_data.index.name)"
   ]
  },
  {
   "cell_type": "markdown",
   "metadata": {},
   "source": [
    "заменим тип данных для полей с датой"
   ]
  },
  {
   "cell_type": "code",
   "execution_count": 28,
   "metadata": {},
   "outputs": [],
   "source": [
    "received_data = edit_datetime(\n",
    "    received_data,\n",
    "    columns=['date_created'],\n",
    "    format='%Y-%m-%d %H:%M:%S',\n",
    ")\n",
    "received_data = edit_datetime(\n",
    "    received_data,\n",
    "    columns=['last_seen'],\n",
    "    format='%Y-%m-%d %H:%M:%S',\n",
    ")\n",
    "received_data.index = pd.to_datetime(received_data.index, format='%Y-%m-%d %H:%M:%S')\n",
    "received_data.sort_index(inplace=True)"
   ]
  },
  {
   "cell_type": "markdown",
   "metadata": {},
   "source": [
    "начнем с простого..\n",
    "удалим дубликаты и лишний, неинформативный столбец."
   ]
  },
  {
   "cell_type": "code",
   "execution_count": 29,
   "metadata": {},
   "outputs": [],
   "source": [
    "received_data.drop_duplicates(inplace=True)\n",
    "received_data.drop(columns='number_of_pictures', inplace=True)"
   ]
  },
  {
   "cell_type": "markdown",
   "metadata": {},
   "source": [
    "посмотрим на разброс цен в 90% данных. "
   ]
  },
  {
   "cell_type": "code",
   "execution_count": 30,
   "metadata": {},
   "outputs": [
    {
     "data": {
      "text/plain": [
       "[100.0, 13900.0]"
      ]
     },
     "execution_count": 30,
     "metadata": {},
     "output_type": "execute_result"
    }
   ],
   "source": [
    "tmp = [received_data.price.quantile(0.04), received_data.price.quantile(0.94)]\n",
    "tmp"
   ]
  },
  {
   "cell_type": "markdown",
   "metadata": {},
   "source": [
    "0 это очень низкаяцена для машины, в качестве нижнего порога поставим цену в 100. и обрежем по этим значениям"
   ]
  },
  {
   "cell_type": "code",
   "execution_count": 31,
   "metadata": {},
   "outputs": [],
   "source": [
    "received_data = received_data.loc[(received_data.price >= tmp[0]) &\n",
    "                                  (received_data.price <= tmp[1])]"
   ]
  },
  {
   "cell_type": "markdown",
   "metadata": {},
   "source": [
    "посмотрим, что с мощностью.."
   ]
  },
  {
   "cell_type": "markdown",
   "metadata": {},
   "source": [
    "массовый сегмент автомобилей в зависимость от мощности двигателя находится примерно в промежутке от 50 до 250 лс\n",
    "\n",
    "обрежем выбросы по этим значениям"
   ]
  },
  {
   "cell_type": "code",
   "execution_count": 32,
   "metadata": {},
   "outputs": [],
   "source": [
    "received_data = received_data.loc[(received_data.power >= 50) &\n",
    "                                  (received_data.power <= 250)]"
   ]
  },
  {
   "cell_type": "markdown",
   "metadata": {},
   "source": [
    "посмотрим на год регистрации автомобиля"
   ]
  },
  {
   "cell_type": "code",
   "execution_count": 33,
   "metadata": {},
   "outputs": [
    {
     "name": "stdout",
     "output_type": "stream",
     "text": [
      "от 1000 до 9999\n"
     ]
    }
   ],
   "source": [
    "print('от', received_data.registration_year.min(),\n",
    "      'до', received_data.registration_year.max())"
   ]
  },
  {
   "cell_type": "markdown",
   "metadata": {},
   "source": [
    "год регистрациии не может превышать дату последнего просмотра. значит крайний год 2016. удалим все, что больше него "
   ]
  },
  {
   "cell_type": "markdown",
   "metadata": {},
   "source": [
    "первый автомобиль появился в 1855 году, но это частный случай. первый массовый автомобиль появился в 1908 году  модель «Т», от компании Форд"
   ]
  },
  {
   "cell_type": "markdown",
   "metadata": {},
   "source": [
    "обрежем данные по этому нижнему пределу"
   ]
  },
  {
   "cell_type": "code",
   "execution_count": 34,
   "metadata": {},
   "outputs": [],
   "source": [
    "received_data = received_data.loc[\n",
    "    (received_data.registration_year >= 1908) &\n",
    "    (received_data.registration_year <= received_data.index.max().year)]"
   ]
  },
  {
   "cell_type": "markdown",
   "metadata": {},
   "source": [
    "Если будут несовпадения в месяцах удалим их позже"
   ]
  },
  {
   "cell_type": "markdown",
   "metadata": {},
   "source": [
    "разберемся с почтовыми кодами..\n",
    "\n",
    "по почтовым кодам можно установить район, в районе можно выделить популярные модели у пределенных брендов и по этим данным заполнить пропуски в моделях.  "
   ]
  },
  {
   "cell_type": "markdown",
   "metadata": {},
   "source": [
    "регион был определен в ручную, по данным с сайта https://worldpostalcode.com, путем проверки нескольких индексов."
   ]
  },
  {
   "cell_type": "markdown",
   "metadata": {},
   "source": [
    "данные по почтовым кодам и их отношению к федеральной земле получены с сайта <a href='https://www.suche-postleitzahl.org/'>Postleitzahlen Deutschland</a>\n",
    "\n"
   ]
  },
  {
   "cell_type": "code",
   "execution_count": 35,
   "metadata": {},
   "outputs": [],
   "source": [
    "received_data = received_data.join(\n",
    "    pd.read_csv(\n",
    "        'https://downloads.suche-postleitzahl.org/v2/public/zuordnung_plz_ort.csv',\n",
    "        #index_col='plz'\n",
    "    )\n",
    "    [['bundesland', 'plz']].drop_duplicates().set_index('plz').sort_index(),\n",
    "    on='postal_code')"
   ]
  },
  {
   "cell_type": "code",
   "execution_count": 36,
   "metadata": {},
   "outputs": [
    {
     "data": {
      "text/plain": [
       "0"
      ]
     },
     "execution_count": 36,
     "metadata": {},
     "output_type": "execute_result"
    }
   ],
   "source": [
    "received_data.duplicated().sum()"
   ]
  },
  {
   "cell_type": "markdown",
   "metadata": {
    "tags": []
   },
   "source": [
    "востановим данные по моделям..\n",
    "исходя из бренда и региона отберем самые популярные модели и запишем их в пропуски"
   ]
  },
  {
   "cell_type": "code",
   "execution_count": 37,
   "metadata": {
    "tags": []
   },
   "outputs": [],
   "source": [
    "tmp = get_group_col(\n",
    "    data=received_data, cols=[\n",
    "        'brand',\n",
    "        'bundesland',\n",
    "        'model', \n",
    "        'date_created'\n",
    "    ])"
   ]
  },
  {
   "cell_type": "code",
   "execution_count": 38,
   "metadata": {},
   "outputs": [],
   "source": [
    "for i in range(0, tmp.shape[0]):\n",
    "    received_data.loc[\n",
    "        (received_data.brand == tmp.iloc[i].brand) &\n",
    "        (received_data.bundesland == tmp.iloc[i].bundesland) &\n",
    "        (received_data.model.isna()),\n",
    "        ['model',]] = tmp.iloc[i].model"
   ]
  },
  {
   "cell_type": "markdown",
   "metadata": {},
   "source": [
    "посмотрим на оставшиеся пропуски.."
   ]
  },
  {
   "cell_type": "code",
   "execution_count": 39,
   "metadata": {},
   "outputs": [
    {
     "data": {
      "text/html": [
       "<div>\n",
       "<style scoped>\n",
       "    .dataframe tbody tr th:only-of-type {\n",
       "        vertical-align: middle;\n",
       "    }\n",
       "\n",
       "    .dataframe tbody tr th {\n",
       "        vertical-align: top;\n",
       "    }\n",
       "\n",
       "    .dataframe thead th {\n",
       "        text-align: right;\n",
       "    }\n",
       "</style>\n",
       "<table border=\"1\" class=\"dataframe\">\n",
       "  <thead>\n",
       "    <tr style=\"text-align: right;\">\n",
       "      <th></th>\n",
       "      <th>price</th>\n",
       "      <th>vehicle_type</th>\n",
       "      <th>registration_year</th>\n",
       "      <th>gearbox</th>\n",
       "      <th>power</th>\n",
       "      <th>model</th>\n",
       "      <th>kilometer</th>\n",
       "      <th>registration_month</th>\n",
       "      <th>fuel_type</th>\n",
       "      <th>brand</th>\n",
       "      <th>repaired</th>\n",
       "      <th>date_created</th>\n",
       "      <th>postal_code</th>\n",
       "      <th>last_seen</th>\n",
       "      <th>bundesland</th>\n",
       "    </tr>\n",
       "    <tr>\n",
       "      <th>date_crawled</th>\n",
       "      <th></th>\n",
       "      <th></th>\n",
       "      <th></th>\n",
       "      <th></th>\n",
       "      <th></th>\n",
       "      <th></th>\n",
       "      <th></th>\n",
       "      <th></th>\n",
       "      <th></th>\n",
       "      <th></th>\n",
       "      <th></th>\n",
       "      <th></th>\n",
       "      <th></th>\n",
       "      <th></th>\n",
       "      <th></th>\n",
       "    </tr>\n",
       "  </thead>\n",
       "  <tbody>\n",
       "    <tr>\n",
       "      <th>2016-03-05 14:06:24</th>\n",
       "      <td>10900</td>\n",
       "      <td>suv</td>\n",
       "      <td>2003</td>\n",
       "      <td>auto</td>\n",
       "      <td>245</td>\n",
       "      <td>NaN</td>\n",
       "      <td>150000</td>\n",
       "      <td>11</td>\n",
       "      <td>petrol</td>\n",
       "      <td>sonstige_autos</td>\n",
       "      <td>no</td>\n",
       "      <td>2016-03-05</td>\n",
       "      <td>56072</td>\n",
       "      <td>2016-04-06 22:15:33</td>\n",
       "      <td>Rheinland-Pfalz</td>\n",
       "    </tr>\n",
       "    <tr>\n",
       "      <th>2016-03-05 14:14:14</th>\n",
       "      <td>4850</td>\n",
       "      <td>suv</td>\n",
       "      <td>2001</td>\n",
       "      <td>auto</td>\n",
       "      <td>238</td>\n",
       "      <td>NaN</td>\n",
       "      <td>150000</td>\n",
       "      <td>5</td>\n",
       "      <td>lpg</td>\n",
       "      <td>sonstige_autos</td>\n",
       "      <td>no</td>\n",
       "      <td>2016-03-03</td>\n",
       "      <td>65232</td>\n",
       "      <td>2016-03-08 16:52:08</td>\n",
       "      <td>Hessen</td>\n",
       "    </tr>\n",
       "    <tr>\n",
       "      <th>2016-03-05 14:17:09</th>\n",
       "      <td>11200</td>\n",
       "      <td>convertible</td>\n",
       "      <td>1979</td>\n",
       "      <td>manual</td>\n",
       "      <td>69</td>\n",
       "      <td>NaN</td>\n",
       "      <td>80000</td>\n",
       "      <td>7</td>\n",
       "      <td>petrol</td>\n",
       "      <td>sonstige_autos</td>\n",
       "      <td>no</td>\n",
       "      <td>2016-03-04</td>\n",
       "      <td>35756</td>\n",
       "      <td>2016-04-05 11:50:08</td>\n",
       "      <td>Hessen</td>\n",
       "    </tr>\n",
       "    <tr>\n",
       "      <th>2016-03-05 14:18:08</th>\n",
       "      <td>3000</td>\n",
       "      <td>coupe</td>\n",
       "      <td>1994</td>\n",
       "      <td>auto</td>\n",
       "      <td>148</td>\n",
       "      <td>NaN</td>\n",
       "      <td>5000</td>\n",
       "      <td>6</td>\n",
       "      <td>petrol</td>\n",
       "      <td>sonstige_autos</td>\n",
       "      <td>NaN</td>\n",
       "      <td>2016-03-04</td>\n",
       "      <td>65614</td>\n",
       "      <td>2016-03-06 04:16:08</td>\n",
       "      <td>Hessen</td>\n",
       "    </tr>\n",
       "    <tr>\n",
       "      <th>2016-03-05 14:18:55</th>\n",
       "      <td>8500</td>\n",
       "      <td>bus</td>\n",
       "      <td>2007</td>\n",
       "      <td>manual</td>\n",
       "      <td>136</td>\n",
       "      <td>NaN</td>\n",
       "      <td>150000</td>\n",
       "      <td>5</td>\n",
       "      <td>gasoline</td>\n",
       "      <td>sonstige_autos</td>\n",
       "      <td>no</td>\n",
       "      <td>2016-03-04</td>\n",
       "      <td>60389</td>\n",
       "      <td>2016-04-07 09:15:59</td>\n",
       "      <td>Hessen</td>\n",
       "    </tr>\n",
       "  </tbody>\n",
       "</table>\n",
       "</div>"
      ],
      "text/plain": [
       "                     price vehicle_type  registration_year gearbox  power   \n",
       "date_crawled                                                                \n",
       "2016-03-05 14:06:24  10900          suv               2003    auto    245  \\\n",
       "2016-03-05 14:14:14   4850          suv               2001    auto    238   \n",
       "2016-03-05 14:17:09  11200  convertible               1979  manual     69   \n",
       "2016-03-05 14:18:08   3000        coupe               1994    auto    148   \n",
       "2016-03-05 14:18:55   8500          bus               2007  manual    136   \n",
       "\n",
       "                    model  kilometer  registration_month fuel_type   \n",
       "date_crawled                                                         \n",
       "2016-03-05 14:06:24   NaN     150000                  11    petrol  \\\n",
       "2016-03-05 14:14:14   NaN     150000                   5       lpg   \n",
       "2016-03-05 14:17:09   NaN      80000                   7    petrol   \n",
       "2016-03-05 14:18:08   NaN       5000                   6    petrol   \n",
       "2016-03-05 14:18:55   NaN     150000                   5  gasoline   \n",
       "\n",
       "                              brand repaired date_created  postal_code   \n",
       "date_crawled                                                             \n",
       "2016-03-05 14:06:24  sonstige_autos       no   2016-03-05        56072  \\\n",
       "2016-03-05 14:14:14  sonstige_autos       no   2016-03-03        65232   \n",
       "2016-03-05 14:17:09  sonstige_autos       no   2016-03-04        35756   \n",
       "2016-03-05 14:18:08  sonstige_autos      NaN   2016-03-04        65614   \n",
       "2016-03-05 14:18:55  sonstige_autos       no   2016-03-04        60389   \n",
       "\n",
       "                              last_seen       bundesland  \n",
       "date_crawled                                              \n",
       "2016-03-05 14:06:24 2016-04-06 22:15:33  Rheinland-Pfalz  \n",
       "2016-03-05 14:14:14 2016-03-08 16:52:08           Hessen  \n",
       "2016-03-05 14:17:09 2016-04-05 11:50:08           Hessen  \n",
       "2016-03-05 14:18:08 2016-03-06 04:16:08           Hessen  \n",
       "2016-03-05 14:18:55 2016-04-07 09:15:59           Hessen  "
      ]
     },
     "execution_count": 39,
     "metadata": {},
     "output_type": "execute_result"
    }
   ],
   "source": [
    "received_data[received_data.model.isna()].head()"
   ]
  },
  {
   "cell_type": "markdown",
   "metadata": {},
   "source": [
    "оставшиеся пропуски принадлежат бренду \"другие автомобили\", что ни как не поможет заказчику. удалим"
   ]
  },
  {
   "cell_type": "code",
   "execution_count": 40,
   "metadata": {},
   "outputs": [],
   "source": [
    "received_data=received_data[~received_data.model.isna()]"
   ]
  },
  {
   "cell_type": "markdown",
   "metadata": {},
   "source": [
    " "
   ]
  },
  {
   "cell_type": "markdown",
   "metadata": {},
   "source": [
    "посмотрим на тип транспортного средства.\n",
    "\n",
    "и как пользователи заполняют это поле, на примере toyota corolla"
   ]
  },
  {
   "cell_type": "code",
   "execution_count": 41,
   "metadata": {},
   "outputs": [
    {
     "data": {
      "text/html": [
       "<div>\n",
       "<style scoped>\n",
       "    .dataframe tbody tr th:only-of-type {\n",
       "        vertical-align: middle;\n",
       "    }\n",
       "\n",
       "    .dataframe tbody tr th {\n",
       "        vertical-align: top;\n",
       "    }\n",
       "\n",
       "    .dataframe thead th {\n",
       "        text-align: right;\n",
       "    }\n",
       "</style>\n",
       "<table border=\"1\" class=\"dataframe\">\n",
       "  <thead>\n",
       "    <tr style=\"text-align: right;\">\n",
       "      <th></th>\n",
       "      <th></th>\n",
       "      <th></th>\n",
       "      <th>date_created</th>\n",
       "    </tr>\n",
       "    <tr>\n",
       "      <th>brand</th>\n",
       "      <th>model</th>\n",
       "      <th>vehicle_type</th>\n",
       "      <th></th>\n",
       "    </tr>\n",
       "  </thead>\n",
       "  <tbody>\n",
       "    <tr>\n",
       "      <th rowspan=\"6\" valign=\"top\">toyota</th>\n",
       "      <th rowspan=\"6\" valign=\"top\">corolla</th>\n",
       "      <th>sedan</th>\n",
       "      <td>347</td>\n",
       "    </tr>\n",
       "    <tr>\n",
       "      <th>wagon</th>\n",
       "      <td>101</td>\n",
       "    </tr>\n",
       "    <tr>\n",
       "      <th>small</th>\n",
       "      <td>63</td>\n",
       "    </tr>\n",
       "    <tr>\n",
       "      <th>bus</th>\n",
       "      <td>32</td>\n",
       "    </tr>\n",
       "    <tr>\n",
       "      <th>coupe</th>\n",
       "      <td>7</td>\n",
       "    </tr>\n",
       "    <tr>\n",
       "      <th>other</th>\n",
       "      <td>2</td>\n",
       "    </tr>\n",
       "  </tbody>\n",
       "</table>\n",
       "</div>"
      ],
      "text/plain": [
       "                             date_created\n",
       "brand  model   vehicle_type              \n",
       "toyota corolla sedan                  347\n",
       "               wagon                  101\n",
       "               small                   63\n",
       "               bus                     32\n",
       "               coupe                    7\n",
       "               other                    2"
      ]
     },
     "execution_count": 41,
     "metadata": {},
     "output_type": "execute_result"
    }
   ],
   "source": [
    "get_vehicle_type(received_data, test=True)"
   ]
  },
  {
   "cell_type": "markdown",
   "metadata": {},
   "source": [
    "разные пользователи задают значение этого поля по разному, хотя речь идет о одном автомобиле. \n",
    "для уменьшения количества пропусков пройдемся по данным и востановим значения из имеющихся в таблице."
   ]
  },
  {
   "cell_type": "markdown",
   "metadata": {},
   "source": [
    "есть даже микроавтобус)\n",
    "но самый популярный - седан. пойдем по этому пути и для пропущенных значений выберем самое популярное значение на основе марки и модели"
   ]
  },
  {
   "cell_type": "code",
   "execution_count": 42,
   "metadata": {},
   "outputs": [],
   "source": [
    "tmp = get_group_col(\n",
    "    data=received_data, cols=[\n",
    "        'brand',\n",
    "        'model',\n",
    "        'vehicle_type', \n",
    "        'date_created'\n",
    "    ])"
   ]
  },
  {
   "cell_type": "code",
   "execution_count": 43,
   "metadata": {},
   "outputs": [
    {
     "name": "stdout",
     "output_type": "stream",
     "text": [
      "CPU times: user 9.68 s, sys: 0 ns, total: 9.68 s\n",
      "Wall time: 9.68 s\n"
     ]
    }
   ],
   "source": [
    "%%time\n",
    "for i in range(1, tmp.shape[0]):\n",
    "    received_data.loc[\n",
    "        (received_data.brand == tmp.iloc[i].brand) &\n",
    "        (received_data.model == tmp.iloc[i].model) &\n",
    "        (received_data.vehicle_type.isna()),\n",
    "        ['vehicle_type']] = tmp.iloc[i].vehicle_type"
   ]
  },
  {
   "cell_type": "markdown",
   "metadata": {},
   "source": [
    " "
   ]
  },
  {
   "cell_type": "markdown",
   "metadata": {},
   "source": [
    "посмотрим на данные по типу топлива. "
   ]
  },
  {
   "cell_type": "markdown",
   "metadata": {},
   "source": [
    " "
   ]
  },
  {
   "cell_type": "code",
   "execution_count": 44,
   "metadata": {},
   "outputs": [
    {
     "data": {
      "text/plain": [
       "brand       model     vehicle_type  bundesland              fuel_type\n",
       "alfa_romeo  145       coupe         Bayern                  petrol        1\n",
       "                      other         Saarland                petrol        1\n",
       "                      sedan         Baden-Württemberg       petrol        3\n",
       "                                    Bayern                  petrol        3\n",
       "                                    Hamburg                 petrol        1\n",
       "                                                                         ..\n",
       "volvo       xc_reihe  wagon         Mecklenburg-Vorpommern  gasoline      2\n",
       "                                    Nordrhein-Westfalen     gasoline     12\n",
       "                                    Rheinland-Pfalz         gasoline      1\n",
       "                                    Sachsen                 gasoline      1\n",
       "                                    Schleswig-Holstein      gasoline      1\n",
       "Name: price, Length: 16244, dtype: int64"
      ]
     },
     "execution_count": 44,
     "metadata": {},
     "output_type": "execute_result"
    }
   ],
   "source": [
    "received_data.groupby([\n",
    "    'brand',\n",
    "    'model',\n",
    "    'vehicle_type',\n",
    "    'bundesland',\n",
    "    'fuel_type'\n",
    "    ])['price'].count()"
   ]
  },
  {
   "cell_type": "code",
   "execution_count": 45,
   "metadata": {},
   "outputs": [
    {
     "data": {
      "image/png": "[encoded data removed]",
      "text/plain": [
       "<Figure size 432x288 with 1 Axes>"
      ]
     },
     "metadata": {
      "needs_background": "light"
     },
     "output_type": "display_data"
    }
   ],
   "source": [
    "received_data['fuel_type'].hist(bins=14);"
   ]
  },
  {
   "cell_type": "markdown",
   "metadata": {},
   "source": [
    "в подавляющем большинстве тип топлива petrol и gasoline, что по сути одно и тоже."
   ]
  },
  {
   "cell_type": "markdown",
   "metadata": {},
   "source": [
    "заполним пропуски по моде.)"
   ]
  },
  {
   "cell_type": "code",
   "execution_count": 46,
   "metadata": {},
   "outputs": [],
   "source": [
    "received_data.fuel_type.fillna(value=received_data.fuel_type.mode()[0], inplace=True)"
   ]
  },
  {
   "cell_type": "markdown",
   "metadata": {},
   "source": [
    "Пришла пора коробки передач"
   ]
  },
  {
   "cell_type": "code",
   "execution_count": 47,
   "metadata": {},
   "outputs": [
    {
     "data": {
      "image/png": "[encoded data removed]",
      "text/plain": [
       "<Figure size 432x288 with 1 Axes>"
      ]
     },
     "metadata": {
      "needs_background": "light"
     },
     "output_type": "display_data"
    }
   ],
   "source": [
    "received_data['gearbox'].hist(bins=4);"
   ]
  },
  {
   "cell_type": "code",
   "execution_count": 48,
   "metadata": {},
   "outputs": [],
   "source": [
    "received_data.gearbox.fillna(\n",
    "    value=received_data.gearbox.mode()[0],\n",
    "    inplace=True)"
   ]
  },
  {
   "cell_type": "markdown",
   "metadata": {},
   "source": [
    " "
   ]
  },
  {
   "cell_type": "markdown",
   "metadata": {
    "tags": []
   },
   "source": [
    "рассмотрим пропуски в repaired "
   ]
  },
  {
   "cell_type": "code",
   "execution_count": 49,
   "metadata": {},
   "outputs": [
    {
     "data": {
      "image/png": "[encoded data removed]",
      "text/plain": [
       "<Figure size 432x288 with 1 Axes>"
      ]
     },
     "metadata": {
      "needs_background": "light"
     },
     "output_type": "display_data"
    }
   ],
   "source": [
    "received_data['repaired'].hist(bins=4);"
   ]
  },
  {
   "cell_type": "markdown",
   "metadata": {},
   "source": [
    "подавляющее большинство указанно как 'не ремонтировалось', но этот параметр может существенно влиять на стоимость. \n",
    "во этому заполним пропуски заглушками"
   ]
  },
  {
   "cell_type": "code",
   "execution_count": 50,
   "metadata": {},
   "outputs": [],
   "source": [
    "received_data.repaired.fillna(value='no_info',  inplace=True)"
   ]
  },
  {
   "cell_type": "code",
   "execution_count": 51,
   "metadata": {},
   "outputs": [
    {
     "data": {
      "text/plain": [
       "price                   0\n",
       "vehicle_type            0\n",
       "registration_year       0\n",
       "gearbox                 0\n",
       "power                   0\n",
       "model                   0\n",
       "kilometer               0\n",
       "registration_month      0\n",
       "fuel_type               0\n",
       "brand                   0\n",
       "repaired                0\n",
       "date_created            0\n",
       "postal_code             0\n",
       "last_seen               0\n",
       "bundesland            257\n",
       "dtype: int64"
      ]
     },
     "execution_count": 51,
     "metadata": {},
     "output_type": "execute_result"
    }
   ],
   "source": [
    "received_data.isna().sum()"
   ]
  },
  {
   "cell_type": "markdown",
   "metadata": {},
   "source": [
    " \n",
    " "
   ]
  },
  {
   "cell_type": "markdown",
   "metadata": {},
   "source": [
    "остались пропуски в ошибочно указанных почтовых кодах, к которым не нашлось информации о регионе. удалим их"
   ]
  },
  {
   "cell_type": "code",
   "execution_count": 52,
   "metadata": {},
   "outputs": [],
   "source": [
    "received_data.dropna(inplace=True)"
   ]
  },
  {
   "cell_type": "markdown",
   "metadata": {},
   "source": [
    "Посмотрим, что осталось в данных"
   ]
  },
  {
   "cell_type": "markdown",
   "metadata": {},
   "source": [
    " "
   ]
  },
  {
   "cell_type": "code",
   "execution_count": 53,
   "metadata": {},
   "outputs": [
    {
     "data": {
      "text/plain": [
       "'осталось 74.68% данных'"
      ]
     },
     "execution_count": 53,
     "metadata": {},
     "output_type": "execute_result"
    }
   ],
   "source": [
    "f'осталось {received_data.shape[0]/old_shape[0]:.2%} данных'"
   ]
  },
  {
   "cell_type": "code",
   "execution_count": 54,
   "metadata": {},
   "outputs": [
    {
     "data": {
      "text/html": [
       "<div>\n",
       "<style scoped>\n",
       "    .dataframe tbody tr th:only-of-type {\n",
       "        vertical-align: middle;\n",
       "    }\n",
       "\n",
       "    .dataframe tbody tr th {\n",
       "        vertical-align: top;\n",
       "    }\n",
       "\n",
       "    .dataframe thead th {\n",
       "        text-align: right;\n",
       "    }\n",
       "</style>\n",
       "<table border=\"1\" class=\"dataframe\">\n",
       "  <thead>\n",
       "    <tr style=\"text-align: right;\">\n",
       "      <th></th>\n",
       "      <th>price</th>\n",
       "      <th>vehicle_type</th>\n",
       "      <th>registration_year</th>\n",
       "      <th>gearbox</th>\n",
       "      <th>power</th>\n",
       "      <th>model</th>\n",
       "      <th>kilometer</th>\n",
       "      <th>registration_month</th>\n",
       "      <th>fuel_type</th>\n",
       "      <th>brand</th>\n",
       "      <th>repaired</th>\n",
       "      <th>date_created</th>\n",
       "      <th>postal_code</th>\n",
       "      <th>last_seen</th>\n",
       "      <th>bundesland</th>\n",
       "    </tr>\n",
       "    <tr>\n",
       "      <th>date_crawled</th>\n",
       "      <th></th>\n",
       "      <th></th>\n",
       "      <th></th>\n",
       "      <th></th>\n",
       "      <th></th>\n",
       "      <th></th>\n",
       "      <th></th>\n",
       "      <th></th>\n",
       "      <th></th>\n",
       "      <th></th>\n",
       "      <th></th>\n",
       "      <th></th>\n",
       "      <th></th>\n",
       "      <th></th>\n",
       "      <th></th>\n",
       "    </tr>\n",
       "  </thead>\n",
       "  <tbody>\n",
       "    <tr>\n",
       "      <th>2016-03-05 14:06:22</th>\n",
       "      <td>150</td>\n",
       "      <td>small</td>\n",
       "      <td>1997</td>\n",
       "      <td>manual</td>\n",
       "      <td>75</td>\n",
       "      <td>polo</td>\n",
       "      <td>150000</td>\n",
       "      <td>4</td>\n",
       "      <td>petrol</td>\n",
       "      <td>volkswagen</td>\n",
       "      <td>no</td>\n",
       "      <td>2016-03-05</td>\n",
       "      <td>35789</td>\n",
       "      <td>2016-03-27 17:16:15</td>\n",
       "      <td>Hessen</td>\n",
       "    </tr>\n",
       "    <tr>\n",
       "      <th>2016-03-05 14:06:23</th>\n",
       "      <td>3999</td>\n",
       "      <td>wagon</td>\n",
       "      <td>2003</td>\n",
       "      <td>manual</td>\n",
       "      <td>220</td>\n",
       "      <td>a6</td>\n",
       "      <td>150000</td>\n",
       "      <td>7</td>\n",
       "      <td>petrol</td>\n",
       "      <td>audi</td>\n",
       "      <td>no</td>\n",
       "      <td>2016-03-05</td>\n",
       "      <td>57080</td>\n",
       "      <td>2016-03-06 18:29:35</td>\n",
       "      <td>Nordrhein-Westfalen</td>\n",
       "    </tr>\n",
       "    <tr>\n",
       "      <th>2016-03-05 14:06:24</th>\n",
       "      <td>6200</td>\n",
       "      <td>convertible</td>\n",
       "      <td>2006</td>\n",
       "      <td>manual</td>\n",
       "      <td>135</td>\n",
       "      <td>megane</td>\n",
       "      <td>90000</td>\n",
       "      <td>9</td>\n",
       "      <td>petrol</td>\n",
       "      <td>renault</td>\n",
       "      <td>no</td>\n",
       "      <td>2016-03-05</td>\n",
       "      <td>35764</td>\n",
       "      <td>2016-03-24 09:16:44</td>\n",
       "      <td>Hessen</td>\n",
       "    </tr>\n",
       "    <tr>\n",
       "      <th>2016-03-05 14:06:24</th>\n",
       "      <td>799</td>\n",
       "      <td>small</td>\n",
       "      <td>1997</td>\n",
       "      <td>manual</td>\n",
       "      <td>60</td>\n",
       "      <td>polo</td>\n",
       "      <td>150000</td>\n",
       "      <td>11</td>\n",
       "      <td>petrol</td>\n",
       "      <td>volkswagen</td>\n",
       "      <td>no</td>\n",
       "      <td>2016-03-05</td>\n",
       "      <td>35708</td>\n",
       "      <td>2016-03-09 15:19:01</td>\n",
       "      <td>Hessen</td>\n",
       "    </tr>\n",
       "    <tr>\n",
       "      <th>2016-03-05 14:06:25</th>\n",
       "      <td>3700</td>\n",
       "      <td>small</td>\n",
       "      <td>2007</td>\n",
       "      <td>manual</td>\n",
       "      <td>75</td>\n",
       "      <td>twingo</td>\n",
       "      <td>60000</td>\n",
       "      <td>9</td>\n",
       "      <td>petrol</td>\n",
       "      <td>renault</td>\n",
       "      <td>no</td>\n",
       "      <td>2016-03-05</td>\n",
       "      <td>55437</td>\n",
       "      <td>2016-04-06 22:15:40</td>\n",
       "      <td>Rheinland-Pfalz</td>\n",
       "    </tr>\n",
       "  </tbody>\n",
       "</table>\n",
       "</div>"
      ],
      "text/plain": [
       "                     price vehicle_type  registration_year gearbox  power   \n",
       "date_crawled                                                                \n",
       "2016-03-05 14:06:22    150        small               1997  manual     75  \\\n",
       "2016-03-05 14:06:23   3999        wagon               2003  manual    220   \n",
       "2016-03-05 14:06:24   6200  convertible               2006  manual    135   \n",
       "2016-03-05 14:06:24    799        small               1997  manual     60   \n",
       "2016-03-05 14:06:25   3700        small               2007  manual     75   \n",
       "\n",
       "                      model  kilometer  registration_month fuel_type   \n",
       "date_crawled                                                           \n",
       "2016-03-05 14:06:22    polo     150000                   4    petrol  \\\n",
       "2016-03-05 14:06:23      a6     150000                   7    petrol   \n",
       "2016-03-05 14:06:24  megane      90000                   9    petrol   \n",
       "2016-03-05 14:06:24    polo     150000                  11    petrol   \n",
       "2016-03-05 14:06:25  twingo      60000                   9    petrol   \n",
       "\n",
       "                          brand repaired date_created  postal_code   \n",
       "date_crawled                                                         \n",
       "2016-03-05 14:06:22  volkswagen       no   2016-03-05        35789  \\\n",
       "2016-03-05 14:06:23        audi       no   2016-03-05        57080   \n",
       "2016-03-05 14:06:24     renault       no   2016-03-05        35764   \n",
       "2016-03-05 14:06:24  volkswagen       no   2016-03-05        35708   \n",
       "2016-03-05 14:06:25     renault       no   2016-03-05        55437   \n",
       "\n",
       "                              last_seen           bundesland  \n",
       "date_crawled                                                  \n",
       "2016-03-05 14:06:22 2016-03-27 17:16:15               Hessen  \n",
       "2016-03-05 14:06:23 2016-03-06 18:29:35  Nordrhein-Westfalen  \n",
       "2016-03-05 14:06:24 2016-03-24 09:16:44               Hessen  \n",
       "2016-03-05 14:06:24 2016-03-09 15:19:01               Hessen  \n",
       "2016-03-05 14:06:25 2016-04-06 22:15:40      Rheinland-Pfalz  "
      ]
     },
     "execution_count": 54,
     "metadata": {},
     "output_type": "execute_result"
    }
   ],
   "source": [
    "received_data.head()"
   ]
  },
  {
   "cell_type": "markdown",
   "metadata": {},
   "source": [
    "в даннных остались абсолютные даты, надо их перевести в относительные, а именно из месяца и года реристрации и даты создания обьявления вычислить время владения автомобилем.\n",
    "это даст данные о сроке владения на дату создания обьявления.\n",
    "если расчитывать дату относиельно даты последнего просмотра, то ее придется постоянно пересчитывать, от чего рекомендации по стоимости будут меняться."
   ]
  },
  {
   "cell_type": "code",
   "execution_count": 55,
   "metadata": {},
   "outputs": [
    {
     "name": "stdout",
     "output_type": "stream",
     "text": [
      "CPU times: user 11 s, sys: 199 ms, total: 11.2 s\n",
      "Wall time: 11.2 s\n"
     ]
    }
   ],
   "source": [
    "%%time\n",
    "received_data['age_year'] = received_data.agg(\n",
    "    lambda x: (\n",
    "        x.date_created.year - x.registration_year ), axis=1)\n",
    "\n",
    "received_data['age_month'] = received_data.agg(\n",
    "    lambda x: (\n",
    "        x.date_created.month - x.registration_month), axis=1)\n"
   ]
  },
  {
   "cell_type": "markdown",
   "metadata": {},
   "source": [
    "избавимся от отрицательных месяцев"
   ]
  },
  {
   "cell_type": "code",
   "execution_count": 56,
   "metadata": {},
   "outputs": [],
   "source": [
    "received_data.loc[\n",
    "    received_data.age_month<=0,\n",
    "    ['age_year',]] = received_data.loc[\n",
    "    received_data.age_month<=0,\n",
    "    ['age_year',]\n",
    "] - 1\n",
    "\n",
    "received_data.loc[\n",
    "    received_data.age_month<=0, \n",
    "    ['age_month',]\n",
    "] = received_data.loc[\n",
    "    received_data.age_month<=0, \n",
    "    ['age_month',]] + 12"
   ]
  },
  {
   "cell_type": "markdown",
   "metadata": {},
   "source": [
    "если получился отрицательный год, значит дата регистрации была моложе, чем дата создания обьявления. если данные былибы из социальной сети, тогда такое было бы возможно, для обьявлений о продаже такого не может быть. удалим обьявления с отрицательным годом"
   ]
  },
  {
   "cell_type": "code",
   "execution_count": 57,
   "metadata": {},
   "outputs": [],
   "source": [
    "received_data = received_data.loc[received_data['age_year'] > -1]"
   ]
  },
  {
   "cell_type": "code",
   "execution_count": 58,
   "metadata": {},
   "outputs": [
    {
     "name": "stdout",
     "output_type": "stream",
     "text": [
      "[1, 2, 3, 4, 5, 6, 7, 8, 9, 10, 11, 12]\n"
     ]
    }
   ],
   "source": [
    "print(sorted(received_data['age_month'].unique()))"
   ]
  },
  {
   "cell_type": "code",
   "execution_count": 59,
   "metadata": {},
   "outputs": [
    {
     "name": "stdout",
     "output_type": "stream",
     "text": [
      "[0, 1, 2, 3, 4, 5, 6, 7, 8, 9, 10, 11, 12, 13, 14, 15, 16, 17, 18, 19, 20, 21, 22, 23, 24, 25, 26, 27, 28, 29, 30, 31, 32, 33, 34, 35, 36, 37, 38, 39, 40, 41, 42, 43, 44, 45, 46, 47, 48, 49, 50, 51, 52, 53, 54, 55, 56, 57, 58, 59, 60, 61, 62, 63, 64, 65, 66, 74, 78, 105, 106]\n"
     ]
    }
   ],
   "source": [
    "print(sorted(received_data['age_year'].unique()))"
   ]
  },
  {
   "cell_type": "markdown",
   "metadata": {},
   "source": [
    "в нашем случае можно будет обновлять возраст раз в месяц, для всех автомобилей и в связи с этим корректироват рекомендации по ценам."
   ]
  },
  {
   "cell_type": "code",
   "execution_count": 60,
   "metadata": {},
   "outputs": [
    {
     "data": {
      "text/plain": [
       "'по итогу осталось 73.56% данных'"
      ]
     },
     "execution_count": 60,
     "metadata": {},
     "output_type": "execute_result"
    }
   ],
   "source": [
    "f'по итогу осталось {received_data.shape[0]/old_shape[0]:.2%} данных'"
   ]
  },
  {
   "cell_type": "markdown",
   "metadata": {},
   "source": [
    "удалили 26,44%.. это много, но зато очистили данные от выбросов, откровенных манипуляций с датами и оставили данные с ценами, востановили марки и модели в некоторых обьявлениях "
   ]
  },
  {
   "cell_type": "markdown",
   "metadata": {},
   "source": [
    "удалим абсолютные даты и почтовый код "
   ]
  },
  {
   "cell_type": "code",
   "execution_count": 61,
   "metadata": {},
   "outputs": [],
   "source": [
    "data_to_model = received_data.drop(\n",
    "    columns=[\n",
    "        'registration_month', 'registration_year',\n",
    "        'date_created', 'last_seen', 'postal_code'\n",
    "    ]\n",
    ")"
   ]
  },
  {
   "cell_type": "code",
   "execution_count": 62,
   "metadata": {},
   "outputs": [
    {
     "data": {
      "text/html": [
       "<div>\n",
       "<style scoped>\n",
       "    .dataframe tbody tr th:only-of-type {\n",
       "        vertical-align: middle;\n",
       "    }\n",
       "\n",
       "    .dataframe tbody tr th {\n",
       "        vertical-align: top;\n",
       "    }\n",
       "\n",
       "    .dataframe thead th {\n",
       "        text-align: right;\n",
       "    }\n",
       "</style>\n",
       "<table border=\"1\" class=\"dataframe\">\n",
       "  <thead>\n",
       "    <tr style=\"text-align: right;\">\n",
       "      <th></th>\n",
       "      <th>price</th>\n",
       "      <th>vehicle_type</th>\n",
       "      <th>gearbox</th>\n",
       "      <th>power</th>\n",
       "      <th>model</th>\n",
       "      <th>kilometer</th>\n",
       "      <th>fuel_type</th>\n",
       "      <th>brand</th>\n",
       "      <th>repaired</th>\n",
       "      <th>bundesland</th>\n",
       "      <th>age_year</th>\n",
       "      <th>age_month</th>\n",
       "    </tr>\n",
       "    <tr>\n",
       "      <th>date_crawled</th>\n",
       "      <th></th>\n",
       "      <th></th>\n",
       "      <th></th>\n",
       "      <th></th>\n",
       "      <th></th>\n",
       "      <th></th>\n",
       "      <th></th>\n",
       "      <th></th>\n",
       "      <th></th>\n",
       "      <th></th>\n",
       "      <th></th>\n",
       "      <th></th>\n",
       "    </tr>\n",
       "  </thead>\n",
       "  <tbody>\n",
       "    <tr>\n",
       "      <th>2016-03-05 14:06:22</th>\n",
       "      <td>150</td>\n",
       "      <td>small</td>\n",
       "      <td>manual</td>\n",
       "      <td>75</td>\n",
       "      <td>polo</td>\n",
       "      <td>150000</td>\n",
       "      <td>petrol</td>\n",
       "      <td>volkswagen</td>\n",
       "      <td>no</td>\n",
       "      <td>Hessen</td>\n",
       "      <td>18</td>\n",
       "      <td>11</td>\n",
       "    </tr>\n",
       "    <tr>\n",
       "      <th>2016-03-05 14:06:23</th>\n",
       "      <td>3999</td>\n",
       "      <td>wagon</td>\n",
       "      <td>manual</td>\n",
       "      <td>220</td>\n",
       "      <td>a6</td>\n",
       "      <td>150000</td>\n",
       "      <td>petrol</td>\n",
       "      <td>audi</td>\n",
       "      <td>no</td>\n",
       "      <td>Nordrhein-Westfalen</td>\n",
       "      <td>12</td>\n",
       "      <td>8</td>\n",
       "    </tr>\n",
       "    <tr>\n",
       "      <th>2016-03-05 14:06:24</th>\n",
       "      <td>6200</td>\n",
       "      <td>convertible</td>\n",
       "      <td>manual</td>\n",
       "      <td>135</td>\n",
       "      <td>megane</td>\n",
       "      <td>90000</td>\n",
       "      <td>petrol</td>\n",
       "      <td>renault</td>\n",
       "      <td>no</td>\n",
       "      <td>Hessen</td>\n",
       "      <td>9</td>\n",
       "      <td>6</td>\n",
       "    </tr>\n",
       "    <tr>\n",
       "      <th>2016-03-05 14:06:24</th>\n",
       "      <td>799</td>\n",
       "      <td>small</td>\n",
       "      <td>manual</td>\n",
       "      <td>60</td>\n",
       "      <td>polo</td>\n",
       "      <td>150000</td>\n",
       "      <td>petrol</td>\n",
       "      <td>volkswagen</td>\n",
       "      <td>no</td>\n",
       "      <td>Hessen</td>\n",
       "      <td>18</td>\n",
       "      <td>4</td>\n",
       "    </tr>\n",
       "    <tr>\n",
       "      <th>2016-03-05 14:06:25</th>\n",
       "      <td>3700</td>\n",
       "      <td>small</td>\n",
       "      <td>manual</td>\n",
       "      <td>75</td>\n",
       "      <td>twingo</td>\n",
       "      <td>60000</td>\n",
       "      <td>petrol</td>\n",
       "      <td>renault</td>\n",
       "      <td>no</td>\n",
       "      <td>Rheinland-Pfalz</td>\n",
       "      <td>8</td>\n",
       "      <td>6</td>\n",
       "    </tr>\n",
       "  </tbody>\n",
       "</table>\n",
       "</div>"
      ],
      "text/plain": [
       "                     price vehicle_type gearbox  power   model  kilometer   \n",
       "date_crawled                                                                \n",
       "2016-03-05 14:06:22    150        small  manual     75    polo     150000  \\\n",
       "2016-03-05 14:06:23   3999        wagon  manual    220      a6     150000   \n",
       "2016-03-05 14:06:24   6200  convertible  manual    135  megane      90000   \n",
       "2016-03-05 14:06:24    799        small  manual     60    polo     150000   \n",
       "2016-03-05 14:06:25   3700        small  manual     75  twingo      60000   \n",
       "\n",
       "                    fuel_type       brand repaired           bundesland   \n",
       "date_crawled                                                              \n",
       "2016-03-05 14:06:22    petrol  volkswagen       no               Hessen  \\\n",
       "2016-03-05 14:06:23    petrol        audi       no  Nordrhein-Westfalen   \n",
       "2016-03-05 14:06:24    petrol     renault       no               Hessen   \n",
       "2016-03-05 14:06:24    petrol  volkswagen       no               Hessen   \n",
       "2016-03-05 14:06:25    petrol     renault       no      Rheinland-Pfalz   \n",
       "\n",
       "                     age_year  age_month  \n",
       "date_crawled                              \n",
       "2016-03-05 14:06:22        18         11  \n",
       "2016-03-05 14:06:23        12          8  \n",
       "2016-03-05 14:06:24         9          6  \n",
       "2016-03-05 14:06:24        18          4  \n",
       "2016-03-05 14:06:25         8          6  "
      ]
     },
     "execution_count": 62,
     "metadata": {},
     "output_type": "execute_result"
    }
   ],
   "source": [
    "data_to_model.head(5)"
   ]
  },
  {
   "cell_type": "markdown",
   "metadata": {},
   "source": [
    "### Краткий вывод:"
   ]
  },
  {
   "cell_type": "markdown",
   "metadata": {},
   "source": [
    "при работе над разделом произведено:\n",
    "* удалены пропуски во всех столбцах, ноекторорые востановлены из аналогичных;\n",
    "* обогащены геоданные данные, установлен регион происходления данных;\n",
    "* удалены выбросы, где это было возможно;\n",
    "* удалены и востановлены некорректны значения в данных;\n",
    "* созданы новые столбцы с данными подходящими для обучения;\n",
    "* удалены все ненужные столбцы;\n",
    "* по геоданным востановлены некоторые значения;\n",
    "* неявные дубликаты было решено оставить, для сохранения совместимомти с новыми данными."
   ]
  },
  {
   "cell_type": "markdown",
   "metadata": {},
   "source": [
    "## Обучение моделей"
   ]
  },
  {
   "cell_type": "markdown",
   "metadata": {},
   "source": [
    "разделим данные на выборки"
   ]
  },
  {
   "cell_type": "code",
   "execution_count": 63,
   "metadata": {},
   "outputs": [],
   "source": [
    "train_data, test_data = train_test_split(\n",
    "    data_to_model,\n",
    "    shuffle=False,\n",
    "    test_size=.25\n",
    ")"
   ]
  },
  {
   "cell_type": "markdown",
   "metadata": {},
   "source": [
    "тк данные были отсортированы по индексу (дате) перемешаем их"
   ]
  },
  {
   "cell_type": "code",
   "execution_count": 64,
   "metadata": {},
   "outputs": [],
   "source": [
    "train_data = train_data.sample(frac=1, random_state=RANDOM_STATE)\n",
    "test_data = test_data.sample(frac=1, random_state=RANDOM_STATE)"
   ]
  },
  {
   "cell_type": "code",
   "execution_count": 65,
   "metadata": {},
   "outputs": [
    {
     "name": "stdout",
     "output_type": "stream",
     "text": [
      "доля train_data = 75.0%\n",
      "доля test_data = 25.0%\n"
     ]
    }
   ],
   "source": [
    "print(f'доля train_data = {train_data.shape[0]/received_data.shape[0]:.1%}')\n",
    "print(f'доля test_data = {test_data.shape[0]/received_data.shape[0]:.1%}')"
   ]
  },
  {
   "cell_type": "markdown",
   "metadata": {},
   "source": [
    "отделим таргет от выборок"
   ]
  },
  {
   "cell_type": "code",
   "execution_count": 66,
   "metadata": {},
   "outputs": [],
   "source": [
    "tmp = []\n",
    "for sample in [test_data, train_data]:\n",
    "    tmp.append(sample.price.reset_index(drop=True))\n",
    "    sample.drop(columns='price', inplace=True)\n",
    "    sample.reset_index(drop=True, inplace=True)\n",
    "test_target, train_target = tmp"
   ]
  },
  {
   "cell_type": "code",
   "execution_count": 67,
   "metadata": {},
   "outputs": [
    {
     "name": "stdout",
     "output_type": "stream",
     "text": [
      "выборки равны с целевым полем\n"
     ]
    }
   ],
   "source": [
    "if (test_data.shape[0] == test_data.shape[0] and \n",
    "    train_data.shape[0] == train_target.shape[0]):\n",
    "    print('выборки равны с целевым полем')\n",
    "else: print('не равны')"
   ]
  },
  {
   "cell_type": "code",
   "execution_count": 68,
   "metadata": {},
   "outputs": [
    {
     "data": {
      "text/plain": [
       "vehicle_type    0\n",
       "gearbox         0\n",
       "power           0\n",
       "model           0\n",
       "kilometer       0\n",
       "fuel_type       0\n",
       "brand           0\n",
       "repaired        0\n",
       "bundesland      0\n",
       "age_year        0\n",
       "age_month       0\n",
       "dtype: int64"
      ]
     },
     "execution_count": 68,
     "metadata": {},
     "output_type": "execute_result"
    }
   ],
   "source": [
    "train_data.isna().sum()"
   ]
  },
  {
   "cell_type": "code",
   "execution_count": 69,
   "metadata": {},
   "outputs": [
    {
     "data": {
      "text/html": [
       "<div>\n",
       "<style scoped>\n",
       "    .dataframe tbody tr th:only-of-type {\n",
       "        vertical-align: middle;\n",
       "    }\n",
       "\n",
       "    .dataframe tbody tr th {\n",
       "        vertical-align: top;\n",
       "    }\n",
       "\n",
       "    .dataframe thead th {\n",
       "        text-align: right;\n",
       "    }\n",
       "</style>\n",
       "<table border=\"1\" class=\"dataframe\">\n",
       "  <thead>\n",
       "    <tr style=\"text-align: right;\">\n",
       "      <th></th>\n",
       "      <th>price</th>\n",
       "      <th>vehicle_type</th>\n",
       "      <th>gearbox</th>\n",
       "      <th>power</th>\n",
       "      <th>model</th>\n",
       "      <th>kilometer</th>\n",
       "      <th>fuel_type</th>\n",
       "      <th>brand</th>\n",
       "      <th>repaired</th>\n",
       "      <th>bundesland</th>\n",
       "      <th>age_year</th>\n",
       "      <th>age_month</th>\n",
       "    </tr>\n",
       "    <tr>\n",
       "      <th>date_crawled</th>\n",
       "      <th></th>\n",
       "      <th></th>\n",
       "      <th></th>\n",
       "      <th></th>\n",
       "      <th></th>\n",
       "      <th></th>\n",
       "      <th></th>\n",
       "      <th></th>\n",
       "      <th></th>\n",
       "      <th></th>\n",
       "      <th></th>\n",
       "      <th></th>\n",
       "    </tr>\n",
       "  </thead>\n",
       "  <tbody>\n",
       "    <tr>\n",
       "      <th>2016-03-18 01:57:30</th>\n",
       "      <td>1050</td>\n",
       "      <td>small</td>\n",
       "      <td>manual</td>\n",
       "      <td>103</td>\n",
       "      <td>rangerover</td>\n",
       "      <td>150000</td>\n",
       "      <td>petrol</td>\n",
       "      <td>rover</td>\n",
       "      <td>no_info</td>\n",
       "      <td>Niedersachsen</td>\n",
       "      <td>17</td>\n",
       "      <td>5</td>\n",
       "    </tr>\n",
       "  </tbody>\n",
       "</table>\n",
       "</div>"
      ],
      "text/plain": [
       "                     price vehicle_type gearbox  power       model  kilometer   \n",
       "date_crawled                                                                    \n",
       "2016-03-18 01:57:30   1050        small  manual    103  rangerover     150000  \\\n",
       "\n",
       "                    fuel_type  brand repaired     bundesland  age_year   \n",
       "date_crawled                                                             \n",
       "2016-03-18 01:57:30    petrol  rover  no_info  Niedersachsen        17  \\\n",
       "\n",
       "                     age_month  \n",
       "date_crawled                    \n",
       "2016-03-18 01:57:30          5  "
      ]
     },
     "execution_count": 69,
     "metadata": {},
     "output_type": "execute_result"
    }
   ],
   "source": [
    "data_to_model[data_to_model.model=='rangerover']"
   ]
  },
  {
   "cell_type": "markdown",
   "metadata": {},
   "source": [
    "применим к текстовым полям порядковое кодирование, но тк у нас есть некоторые поля в единственном экземпляре OrdinalEncoder использовать не получится или придется еще уменьшать набор. "
   ]
  },
  {
   "cell_type": "code",
   "execution_count": 70,
   "metadata": {},
   "outputs": [
    {
     "data": {
      "text/html": [
       "<div>\n",
       "<style scoped>\n",
       "    .dataframe tbody tr th:only-of-type {\n",
       "        vertical-align: middle;\n",
       "    }\n",
       "\n",
       "    .dataframe tbody tr th {\n",
       "        vertical-align: top;\n",
       "    }\n",
       "\n",
       "    .dataframe thead th {\n",
       "        text-align: right;\n",
       "    }\n",
       "</style>\n",
       "<table border=\"1\" class=\"dataframe\">\n",
       "  <thead>\n",
       "    <tr style=\"text-align: right;\">\n",
       "      <th></th>\n",
       "      <th>vehicle_type</th>\n",
       "      <th>gearbox</th>\n",
       "      <th>power</th>\n",
       "      <th>model</th>\n",
       "      <th>kilometer</th>\n",
       "      <th>fuel_type</th>\n",
       "      <th>brand</th>\n",
       "      <th>repaired</th>\n",
       "      <th>bundesland</th>\n",
       "      <th>age_year</th>\n",
       "      <th>age_month</th>\n",
       "    </tr>\n",
       "  </thead>\n",
       "  <tbody>\n",
       "    <tr>\n",
       "      <th>0</th>\n",
       "      <td>wagon</td>\n",
       "      <td>manual</td>\n",
       "      <td>75</td>\n",
       "      <td>astra</td>\n",
       "      <td>150000</td>\n",
       "      <td>petrol</td>\n",
       "      <td>opel</td>\n",
       "      <td>no_info</td>\n",
       "      <td>Bayern</td>\n",
       "      <td>18</td>\n",
       "      <td>12</td>\n",
       "    </tr>\n",
       "    <tr>\n",
       "      <th>1</th>\n",
       "      <td>convertible</td>\n",
       "      <td>manual</td>\n",
       "      <td>116</td>\n",
       "      <td>z_reihe</td>\n",
       "      <td>150000</td>\n",
       "      <td>petrol</td>\n",
       "      <td>bmw</td>\n",
       "      <td>no</td>\n",
       "      <td>Nordrhein-Westfalen</td>\n",
       "      <td>17</td>\n",
       "      <td>10</td>\n",
       "    </tr>\n",
       "  </tbody>\n",
       "</table>\n",
       "</div>"
      ],
      "text/plain": [
       "  vehicle_type gearbox  power    model  kilometer fuel_type brand repaired   \n",
       "0        wagon  manual     75    astra     150000    petrol  opel  no_info  \\\n",
       "1  convertible  manual    116  z_reihe     150000    petrol   bmw       no   \n",
       "\n",
       "            bundesland  age_year  age_month  \n",
       "0               Bayern        18         12  \n",
       "1  Nordrhein-Westfalen        17         10  "
      ]
     },
     "execution_count": 70,
     "metadata": {},
     "output_type": "execute_result"
    }
   ],
   "source": [
    "test_data.head(2)"
   ]
  },
  {
   "cell_type": "code",
   "execution_count": 71,
   "metadata": {
    "tags": []
   },
   "outputs": [],
   "source": [
    "train_data, _ = encode_cat_par(\n",
    "    data=[train_data, test_data],\n",
    "    futures=train_target,\n",
    "    columns=[\n",
    "        'repaired','brand',\n",
    "        'fuel_type', 'vehicle_type',\n",
    "        'gearbox', 'model', 'bundesland',\n",
    "        ], encoder=MEstimateEncoder())"
   ]
  },
  {
   "cell_type": "markdown",
   "metadata": {},
   "source": [
    "и стандартизируем"
   ]
  },
  {
   "cell_type": "code",
   "execution_count": 72,
   "metadata": {},
   "outputs": [],
   "source": [
    "train_data, _ = encode_cat_par(data=[train_data, test_data],\n",
    "               encoder=RobustScaler())"
   ]
  },
  {
   "cell_type": "code",
   "execution_count": 73,
   "metadata": {},
   "outputs": [
    {
     "data": {
      "text/html": [
       "<div>\n",
       "<style scoped>\n",
       "    .dataframe tbody tr th:only-of-type {\n",
       "        vertical-align: middle;\n",
       "    }\n",
       "\n",
       "    .dataframe tbody tr th {\n",
       "        vertical-align: top;\n",
       "    }\n",
       "\n",
       "    .dataframe thead th {\n",
       "        text-align: right;\n",
       "    }\n",
       "</style>\n",
       "<table border=\"1\" class=\"dataframe\">\n",
       "  <thead>\n",
       "    <tr style=\"text-align: right;\">\n",
       "      <th></th>\n",
       "      <th>vehicle_type</th>\n",
       "      <th>gearbox</th>\n",
       "      <th>power</th>\n",
       "      <th>model</th>\n",
       "      <th>kilometer</th>\n",
       "      <th>fuel_type</th>\n",
       "      <th>brand</th>\n",
       "      <th>repaired</th>\n",
       "      <th>bundesland</th>\n",
       "      <th>age_year</th>\n",
       "      <th>age_month</th>\n",
       "    </tr>\n",
       "  </thead>\n",
       "  <tbody>\n",
       "    <tr>\n",
       "      <th>0</th>\n",
       "      <td>0.200163</td>\n",
       "      <td>1716.912099</td>\n",
       "      <td>1.848485</td>\n",
       "      <td>0.810269</td>\n",
       "      <td>0.0</td>\n",
       "      <td>0.0</td>\n",
       "      <td>0.619050</td>\n",
       "      <td>0.0</td>\n",
       "      <td>0.295149</td>\n",
       "      <td>0.142857</td>\n",
       "      <td>0.142857</td>\n",
       "    </tr>\n",
       "    <tr>\n",
       "      <th>1</th>\n",
       "      <td>0.200163</td>\n",
       "      <td>1716.912099</td>\n",
       "      <td>1.227273</td>\n",
       "      <td>0.629816</td>\n",
       "      <td>0.0</td>\n",
       "      <td>1.0</td>\n",
       "      <td>0.582027</td>\n",
       "      <td>0.0</td>\n",
       "      <td>1.084040</td>\n",
       "      <td>-0.857143</td>\n",
       "      <td>-0.857143</td>\n",
       "    </tr>\n",
       "  </tbody>\n",
       "</table>\n",
       "</div>"
      ],
      "text/plain": [
       "   vehicle_type      gearbox     power     model  kilometer  fuel_type   \n",
       "0      0.200163  1716.912099  1.848485  0.810269        0.0        0.0  \\\n",
       "1      0.200163  1716.912099  1.227273  0.629816        0.0        1.0   \n",
       "\n",
       "      brand  repaired  bundesland  age_year  age_month  \n",
       "0  0.619050       0.0    0.295149  0.142857   0.142857  \n",
       "1  0.582027       0.0    1.084040 -0.857143  -0.857143  "
      ]
     },
     "execution_count": 73,
     "metadata": {},
     "output_type": "execute_result"
    }
   ],
   "source": [
    "train_data.head(2)"
   ]
  },
  {
   "cell_type": "markdown",
   "metadata": {},
   "source": [
    "создадим таблицы для сохранения результата"
   ]
  },
  {
   "cell_type": "code",
   "execution_count": 74,
   "metadata": {},
   "outputs": [],
   "source": [
    "data_rouger = pd.DataFrame()"
   ]
  },
  {
   "cell_type": "markdown",
   "metadata": {},
   "source": [
    "обучим модели"
   ]
  },
  {
   "cell_type": "code",
   "execution_count": 75,
   "metadata": {},
   "outputs": [],
   "source": [
    "model, tmp = model_func(\n",
    "    model=Ridge,\n",
    "    random_state={'random_state':RANDOM_STATE,},      \n",
    "    param_grid={\n",
    "        'alpha': np.arange(0.0, 1, 0.01),\n",
    "        'solver':['auto', 'lsqr']\n",
    "    },\n",
    "    train=train_data,\n",
    "    train_valid=train_target, \n",
    ")\n",
    "data_rouger = pd.concat([data_rouger, tmp], axis=0, ignore_index=False)"
   ]
  },
  {
   "cell_type": "code",
   "execution_count": 76,
   "metadata": {},
   "outputs": [],
   "source": [
    "model, tmp = model_func(\n",
    "    model=LinearRegression,\n",
    "    train=train_data,\n",
    "    train_valid=train_target,\n",
    ")\n",
    "data_rouger = pd.concat([data_rouger, tmp], axis=0, ignore_index=False)"
   ]
  },
  {
   "cell_type": "code",
   "execution_count": 77,
   "metadata": {},
   "outputs": [],
   "source": [
    "model, tmp = model_func(\n",
    "    model=CatBoostRegressor,\n",
    "    random_state={'verbose':False},\n",
    "    train=train_data,\n",
    "    train_valid=train_target,\n",
    ")\n",
    "data_rouger = pd.concat([data_rouger, tmp], axis=0, ignore_index=False)"
   ]
  },
  {
   "cell_type": "code",
   "execution_count": 78,
   "metadata": {},
   "outputs": [],
   "source": [
    "model, tmp = model_func(\n",
    "    model=DummyRegressor,\n",
    "    param_grid={'strategy': ['mean']},\n",
    "    train=train_data,\n",
    "    train_valid=train_target,\n",
    ")\n",
    "data_rouger = pd.concat([data_rouger, tmp], axis=0, ignore_index=False)"
   ]
  },
  {
   "cell_type": "code",
   "execution_count": 79,
   "metadata": {},
   "outputs": [],
   "source": [
    "model, tmp = model_func(\n",
    "    model=LGBMRegressor,\n",
    "    param_grid={\n",
    "        'n_estimators' : np.array([50, 100, 500]),\n",
    "        'max_depth': np.arange(1, 20),\n",
    "        'device_type':['cpu'], \n",
    "    },\n",
    "    train=train_data,\n",
    "    train_valid=train_target,\n",
    ")\n",
    "data_rouger = pd.concat([data_rouger, tmp], axis=0, ignore_index=False)"
   ]
  },
  {
   "cell_type": "code",
   "execution_count": 80,
   "metadata": {},
   "outputs": [],
   "source": [
    "model, tmp = model_func(\n",
    "    model=LGBMRegressor,\n",
    "    train=train_data,\n",
    "    train_valid=train_target,\n",
    ")\n",
    "data_rouger = pd.concat([data_rouger, tmp], axis=0, ignore_index=False)"
   ]
  },
  {
   "cell_type": "markdown",
   "metadata": {},
   "source": [
    "поменяем расположение колонок"
   ]
  },
  {
   "cell_type": "code",
   "execution_count": 81,
   "metadata": {},
   "outputs": [],
   "source": [
    "data_rouger=data_rouger[['name', 'rsme_train', 'all_time_sec',\n",
    "                     'model', 'best_model', 'best_param',]]"
   ]
  },
  {
   "cell_type": "code",
   "execution_count": 82,
   "metadata": {},
   "outputs": [
    {
     "data": {
      "text/html": [
       "<div>\n",
       "<style scoped>\n",
       "    .dataframe tbody tr th:only-of-type {\n",
       "        vertical-align: middle;\n",
       "    }\n",
       "\n",
       "    .dataframe tbody tr th {\n",
       "        vertical-align: top;\n",
       "    }\n",
       "\n",
       "    .dataframe thead th {\n",
       "        text-align: right;\n",
       "    }\n",
       "</style>\n",
       "<table border=\"1\" class=\"dataframe\">\n",
       "  <thead>\n",
       "    <tr style=\"text-align: right;\">\n",
       "      <th></th>\n",
       "      <th>name</th>\n",
       "      <th>rsme_train</th>\n",
       "      <th>all_time_sec</th>\n",
       "    </tr>\n",
       "  </thead>\n",
       "  <tbody>\n",
       "    <tr>\n",
       "      <th>0</th>\n",
       "      <td>CatBoostRegressor</td>\n",
       "      <td>1237.151223</td>\n",
       "      <td>60.907889</td>\n",
       "    </tr>\n",
       "    <tr>\n",
       "      <th>0</th>\n",
       "      <td>LGBMRegressor</td>\n",
       "      <td>1295.189907</td>\n",
       "      <td>3.49491</td>\n",
       "    </tr>\n",
       "    <tr>\n",
       "      <th>0</th>\n",
       "      <td>LGBMRegressor</td>\n",
       "      <td>1971.549893</td>\n",
       "      <td>254.342731</td>\n",
       "    </tr>\n",
       "  </tbody>\n",
       "</table>\n",
       "</div>"
      ],
      "text/plain": [
       "                name   rsme_train all_time_sec\n",
       "0  CatBoostRegressor  1237.151223    60.907889\n",
       "0      LGBMRegressor  1295.189907      3.49491\n",
       "0      LGBMRegressor  1971.549893   254.342731"
      ]
     },
     "execution_count": 82,
     "metadata": {},
     "output_type": "execute_result"
    }
   ],
   "source": [
    "data_rouger.sort_values(by='rsme_train')[0:3].drop(\n",
    "    columns=['model', 'best_model', 'best_param'])"
   ]
  },
  {
   "cell_type": "code",
   "execution_count": 83,
   "metadata": {},
   "outputs": [
    {
     "data": {
      "text/html": [
       "<div>\n",
       "<style scoped>\n",
       "    .dataframe tbody tr th:only-of-type {\n",
       "        vertical-align: middle;\n",
       "    }\n",
       "\n",
       "    .dataframe tbody tr th {\n",
       "        vertical-align: top;\n",
       "    }\n",
       "\n",
       "    .dataframe thead th {\n",
       "        text-align: right;\n",
       "    }\n",
       "</style>\n",
       "<table border=\"1\" class=\"dataframe\">\n",
       "  <thead>\n",
       "    <tr style=\"text-align: right;\">\n",
       "      <th></th>\n",
       "      <th>name</th>\n",
       "      <th>rsme_train</th>\n",
       "      <th>all_time_sec</th>\n",
       "    </tr>\n",
       "  </thead>\n",
       "  <tbody>\n",
       "    <tr>\n",
       "      <th>0</th>\n",
       "      <td>DummyRegressor</td>\n",
       "      <td>3395.061552</td>\n",
       "      <td>0.06593</td>\n",
       "    </tr>\n",
       "    <tr>\n",
       "      <th>0</th>\n",
       "      <td>LinearRegression</td>\n",
       "      <td>2074.854281</td>\n",
       "      <td>0.563539</td>\n",
       "    </tr>\n",
       "    <tr>\n",
       "      <th>0</th>\n",
       "      <td>LGBMRegressor</td>\n",
       "      <td>1971.549893</td>\n",
       "      <td>254.342731</td>\n",
       "    </tr>\n",
       "  </tbody>\n",
       "</table>\n",
       "</div>"
      ],
      "text/plain": [
       "               name   rsme_train all_time_sec\n",
       "0    DummyRegressor  3395.061552      0.06593\n",
       "0  LinearRegression  2074.854281     0.563539\n",
       "0     LGBMRegressor  1971.549893   254.342731"
      ]
     },
     "execution_count": 83,
     "metadata": {},
     "output_type": "execute_result"
    }
   ],
   "source": [
    "data_rouger.sort_values(by='all_time_sec')[0:3].drop(\n",
    "    columns=['model', 'best_model', 'best_param'])"
   ]
  },
  {
   "cell_type": "markdown",
   "metadata": {},
   "source": [
    "### Краткий вывод"
   ]
  },
  {
   "cell_type": "markdown",
   "metadata": {},
   "source": [
    "в ходе работы над разделом:\n",
    "* разделили набор данных на учебный и проверочный\n",
    "* обучили две линейтые модели (Ridge и LinearRegression), две модели с бустингом (CatBoostRegressor и LGBMRegressor) и DummyRegressor для стравнения\n",
    "* посчитали метрику RSME для каждой модели (для тренировочных и проверочных данных)\n",
    "* посчитали время работы кадой модели (для тренировочных и проверочных данных)\n",
    "* записали все данные в сводную таблицу\n",
    "\n"
   ]
  },
  {
   "cell_type": "markdown",
   "metadata": {
    "tags": []
   },
   "source": [
    "## Анализ моделей"
   ]
  },
  {
   "cell_type": "markdown",
   "metadata": {},
   "source": [
    "в ходе работы над предидущим разделом были обучены 5 моделей, две из которых линейные, две с бустингом и одна Dummy"
   ]
  },
  {
   "cell_type": "markdown",
   "metadata": {},
   "source": [
    "модели показали следующие результаты"
   ]
  },
  {
   "cell_type": "code",
   "execution_count": 84,
   "metadata": {},
   "outputs": [
    {
     "data": {
      "text/html": [
       "<div>\n",
       "<style scoped>\n",
       "    .dataframe tbody tr th:only-of-type {\n",
       "        vertical-align: middle;\n",
       "    }\n",
       "\n",
       "    .dataframe tbody tr th {\n",
       "        vertical-align: top;\n",
       "    }\n",
       "\n",
       "    .dataframe thead th {\n",
       "        text-align: right;\n",
       "    }\n",
       "</style>\n",
       "<table border=\"1\" class=\"dataframe\">\n",
       "  <thead>\n",
       "    <tr style=\"text-align: right;\">\n",
       "      <th></th>\n",
       "      <th>name</th>\n",
       "      <th>rsme_train</th>\n",
       "      <th>all_time_sec</th>\n",
       "      <th>best_param</th>\n",
       "    </tr>\n",
       "  </thead>\n",
       "  <tbody>\n",
       "    <tr>\n",
       "      <th>0</th>\n",
       "      <td>DummyRegressor</td>\n",
       "      <td>3395.061552</td>\n",
       "      <td>0.06593</td>\n",
       "      <td>best_param={'strategy': 'mean'}</td>\n",
       "    </tr>\n",
       "    <tr>\n",
       "      <th>0</th>\n",
       "      <td>LinearRegression</td>\n",
       "      <td>2074.854281</td>\n",
       "      <td>0.563539</td>\n",
       "      <td>best_param={}</td>\n",
       "    </tr>\n",
       "    <tr>\n",
       "      <th>0</th>\n",
       "      <td>LGBMRegressor</td>\n",
       "      <td>1971.549893</td>\n",
       "      <td>254.342731</td>\n",
       "      <td>best_param={'device_type': 'cpu', 'max_depth': 1, 'n_estimators': 50}</td>\n",
       "    </tr>\n",
       "    <tr>\n",
       "      <th>0</th>\n",
       "      <td>LGBMRegressor</td>\n",
       "      <td>1295.189907</td>\n",
       "      <td>3.49491</td>\n",
       "      <td>best_param={}</td>\n",
       "    </tr>\n",
       "    <tr>\n",
       "      <th>0</th>\n",
       "      <td>Ridge</td>\n",
       "      <td>2092.621226</td>\n",
       "      <td>48.495947</td>\n",
       "      <td>best_param={'alpha': 0.99, 'solver': 'lsqr'}</td>\n",
       "    </tr>\n",
       "    <tr>\n",
       "      <th>0</th>\n",
       "      <td>CatBoostRegressor</td>\n",
       "      <td>1237.151223</td>\n",
       "      <td>60.907889</td>\n",
       "      <td>best_param={}</td>\n",
       "    </tr>\n",
       "  </tbody>\n",
       "</table>\n",
       "</div>"
      ],
      "text/plain": [
       "                name   rsme_train all_time_sec   \n",
       "0     DummyRegressor  3395.061552      0.06593  \\\n",
       "0   LinearRegression  2074.854281     0.563539   \n",
       "0      LGBMRegressor  1971.549893   254.342731   \n",
       "0      LGBMRegressor  1295.189907      3.49491   \n",
       "0              Ridge  2092.621226    48.495947   \n",
       "0  CatBoostRegressor  1237.151223    60.907889   \n",
       "\n",
       "                                                              best_param  \n",
       "0                                        best_param={'strategy': 'mean'}  \n",
       "0                                                          best_param={}  \n",
       "0  best_param={'device_type': 'cpu', 'max_depth': 1, 'n_estimators': 50}  \n",
       "0                                                          best_param={}  \n",
       "0                           best_param={'alpha': 0.99, 'solver': 'lsqr'}  \n",
       "0                                                          best_param={}  "
      ]
     },
     "execution_count": 84,
     "metadata": {},
     "output_type": "execute_result"
    }
   ],
   "source": [
    "data_rouger.sort_values(by='all_time_sec').drop(\n",
    "    columns=['model', 'best_model',])"
   ]
  },
  {
   "cell_type": "markdown",
   "metadata": {},
   "source": [
    "\n",
    "    исходя из полученных результатов и потребностей заказчика (высыокая скорость обучения, качество предсказания и скорость предсказания)можно сказать следующее:\n",
    "* показателям высокой скорости отвечает модель DummyRegressor, но качество предсказания у этой модели никакое, тк она делает \"предсказание\" исхдя из часто встречающегося значения, от чего иногда попадает в цель.\n",
    "* следующими, по скорости идут модели LinearRegression и Ridge, качество этих модели вполне вписывается в потребности заказчика, как по скорости, так и по метрике\n",
    "* обучение модели LGBMRegressor, без подбора параметров, занимает около 2 секунд (почти в 10 раз больше времени, чем у LinearRegression), при этом качество предсказания возрастает пости в 2 раза. \n",
    "* самое продолжительное время обучения занимает у CatBoostRegressor и  LGBMRegressor (с подбором параметров) занимает много времени около 22 и 103 секунд соответсятвенно, при качество предсказания LGBMRegressor(с подбором параметров) падает почти в 2 раза, а у CatBoostRegressor, качество понижается незначительно, а скорость работы возрастает почти в 100 раз.\n",
    "\n",
    "исходя из описанного выше и учитывая, что заказчик на первое место поставил - качество предсказания, потом - скорость предсказания и последним параметром идет - время обучения, можно рекомендовать использовать CatBoostRegressor или LGBMRegressor, с значениями по умолчанию, ТК эти модели имеют лучшее качество предсказания за приемлемое время, при этом CatBoostRegressor имеет низкую скорость обучения (этот параметр не сильно важен заказчику), а LGBMRegressor немного худшее предсказание(критичный параметр). \n",
    "\n",
    "предпочтительным выглядит вариант использования CatBoostRegressor, без параметров.\n"
   ]
  },
  {
   "cell_type": "markdown",
   "metadata": {},
   "source": [
    "## Тестирование лучшей модели"
   ]
  },
  {
   "cell_type": "code",
   "execution_count": 85,
   "metadata": {},
   "outputs": [
    {
     "name": "stdout",
     "output_type": "stream",
     "text": [
      "время на fit 9.60805\n",
      "время на predict 0.020582\n",
      "RMSE 1282.8224210372177\n",
      "время на test 0.021254\n",
      "RMSE 1261.7462452742004\n"
     ]
    }
   ],
   "source": [
    "train_data, valid_data = train_test_split(\n",
    "    data_to_model, shuffle=False, test_size=.4\n",
    ")\n",
    "    \n",
    "valid_data, test_data = train_test_split(\n",
    "    valid_data, shuffle=False, test_size=.5\n",
    ")\n",
    "\n",
    "tmp = []\n",
    "for sample in [test_data, train_data, valid_data]:\n",
    "    tmp.append(sample.price.reset_index(drop=True))\n",
    "    sample.drop(columns='price', inplace=True)\n",
    "    sample.reset_index(drop=True, inplace=True)\n",
    "test_target, train_target, valid_target = tmp\n",
    "\n",
    "train_data, valid_data, test_data = encode_cat_par(\n",
    "    data=[train_data, valid_data, test_data],\n",
    "    futures=train_target,\n",
    "    columns=[\n",
    "        'repaired','brand',\n",
    "        'fuel_type', 'vehicle_type',\n",
    "        'gearbox', 'model', 'bundesland',\n",
    "        ], encoder=MEstimateEncoder())\n",
    "\n",
    "train_data, valid_data, test_data= encode_cat_par(data=[train_data, valid_data, test_data],\n",
    "               encoder=RobustScaler())\n",
    "\n",
    "\n",
    "\n",
    "model = CatBoostRegressor(verbose=False)\n",
    "times = datetime.now()\n",
    "model.fit(train_data, train_target)\n",
    "print('время на fit', (datetime.now() - times).total_seconds())\n",
    "\n",
    "times=datetime.now()\n",
    "predict = model.predict(valid_data)\n",
    "print('время на predict', (datetime.now() - times).total_seconds())\n",
    "print('RMSE', mean_squared_error(predict, valid_target, squared=False))\n",
    "\n",
    "times=datetime.now()\n",
    "predict = model.predict(test_data)\n",
    "print('время на test', (datetime.now() - times).total_seconds())\n",
    "print('RMSE', mean_squared_error(predict, test_target, squared=False))"
   ]
  },
  {
   "cell_type": "markdown",
   "metadata": {},
   "source": [
    "<div class=\"alert alert-block alert-info\">\n",
    "<b>Комментарий студента:</b> \n",
    "    рассмотрим, что происходит в разделе <b>\"обучение модели\"</b>, на примере модели <b>Ridge</b>...\n",
    "    \n",
    "в поле <b>\"Ввод [74]\" ноутбука </b> есть код:\n",
    "     model, tmp = model_func(\n",
    "        model=Ridge,\n",
    "        random_state={'random_state':RANDOM_STATE,},      \n",
    "        param_grid={\n",
    "            'alpha': np.arange(0.0, 1, 0.01),\n",
    "            'solver':['auto', 'lsqr']\n",
    "        },\n",
    "        train=train_data,\n",
    "        train_valid=train_target, \n",
    "    )\n",
    "\n",
    "что тут происходит..\n",
    "    вызывается функция model_func, на вход которой передаются параметры:\n",
    "    \n",
    "    model - класс модели,\n",
    "    random_state = параметры для вызова класса модели,\n",
    "    param_grid - параметры для кроссвалидации,\n",
    "    train - данные для обучения,\n",
    "    train_valid - целевой параметр для обучающей выборки\n",
    "    \n",
    "функция (model_func) возвращает 2 параметра:\n",
    "    \n",
    "    gs_ridge - лучшие параметры модели, после кросс-валидации\n",
    "    tmp - словарь с значениями\n",
    "    \n",
    "    ссылка на возвраты от функции помещается в переменные model, tmp.\n",
    "    из tmp создается сводная таблица, с данными получеными на кросс-валидации.\n",
    "    \n",
    "следующим этапом вызываются строки:\n",
    "    \n",
    "    start = datetime.now()\n",
    "    dick['rsme_test'].append(ret_rsme(model))\n",
    "    dick['valid_sec'].append((datetime.now() - start).total_seconds())\n",
    "    \n",
    "первую и последнюю опустим..\n",
    "    \n",
    "    в строке dick['rsme_test'].append(ret_rsme(model)) происходит следующее:\n",
    "    \n",
    "    вызывается функция ret_rsme, которой на вход подаются данные лучшей модели, где считается новый RSME уже на тестовых данных и возвращается в словарь.\n",
    "    \n",
    "согласен, неявный вызов это не удобно. переделал на явный, изменил имена преременных, поменял слова валидационную выборку на тестовая. в тексте.\n",
    "    \n",
    "    те на этапе \"обучение модели\" проходит кросс-валидация по обучающей выборке и получение предсказания по тестовой выборке. в тексте она у меня переодически называется валидационной\n",
    "    \n",
    "    в связи с издложенным выше - считаю, что дополнительное проведение тестирования будет избыточным!\n",
    "</div>"
   ]
  },
  {
   "cell_type": "markdown",
   "metadata": {},
   "source": [
    "## Вывод"
   ]
  },
  {
   "cell_type": "markdown",
   "metadata": {},
   "source": [
    "в ходе работы над проектом были выполены следующие этапы: \n",
    "* Изучение данных, в ходе которого были обнаружены погрешности в данных, а именно:\n",
    "\n",
    "        дубликаты явные и неявные;\n",
    "        выбросы;\n",
    "        пропуски;\n",
    "        некорректные значения;\n",
    "        несовпадение типов;\n",
    "        ненужные столбцы.\n",
    "* Подготовка данных. На этом этапе: \n",
    "\n",
    "        удалены пропуски во всех столбцах, востановлены значения столбцов с параметрами модели, марки, типа кузова тс из аналогичных данных по набору;\n",
    "        обогащены геоданные. по почтовому коду востановлен регион нахождения тс;\n",
    "        удалены выбросы, где это было возможно;\n",
    "        удалены и востановлены некорректны значения в данных (данные из будущего, 0 месяц);\n",
    "        созданы новые столбцы, на остнове данных о регистрации абсолютные даты заменены на относительные (возраст автомобиля);\n",
    "        удалены все ненужные столбцы, которые могли помешать обучению;\n",
    "        неявные дубликаты было решено оставить, для сохранения совместимомти с новыми данными.\n",
    "* Обучение моделей\n",
    "\n",
    "        набор данных был разделен на учебный и проверочный к учебному набору применены методы порядкового кодирования, для избавления от текстовых полей и стандартизации, для уменьшения масштаба\n",
    "        обучено две линейтые модели (Ridge и LinearRegression), две модели с бустингом (CatBoostRegressor и LGBMRegressor) и DummyRegressor для стравнения\n",
    "        посчтана метрика RSME для каждой модели (для тренировочных и проверочных данных)\n",
    "        посчитали время работы кадой модели (для тренировочных и проверочных данных)\n",
    "        записали все данные в сводную таблицу\n",
    "\n",
    "* Анализ моделей\n",
    "\n",
    "        показателям высокой скорости отвечает модель DummyRegressor, но качество предсказания у этой модели никакое, тк она делает \"предсказание\" исхдя из часто встречающегося значения, от чего иногда попадает в цель.\n",
    "        следующими, по скорости идут модели LinearRegression и Ridge, качество этих модели вполне вписывается в потребности заказчика, как по скорости, так и по метрике\n",
    "        обучение модели LGBMRegressor, без подбора параметров, занимает около 2 секунд (почти в 10 раз больше времени, чем у LinearRegression), при этом качество предсказания возрастает пости в 2 раза.\n",
    "        самое продолжительное время обучения занимает у CatBoostRegressor и LGBMRegressor (с подбором параметров) занимает много времени около 22 и 103 секунд соответсятвенно, при качество предсказания LGBMRegressor(с подбором параметров) падает почти в 2 раза, а у CatBoostRegressor, качество понижается незначительно, а скорость работы возрастает почти в 100 раз.\n",
    "    \n",
    "       исходя из описанного выше и учитывая, что заказчик на первое место поставил - качество предсказания, потом - скорость предсказания и последним параметром идет - время обучения, можно рекомендовать использовать CatBoostRegressor или LGBMRegressor, с значениями по умолчанию, ТК эти модели имеют лучшее качество предсказания за приемлемое время, при этом CatBoostRegressor имеет низкую скорость обучения (этот параметр не сильно важен заказчику), а LGBMRegressor немного худшее предсказание(критичный параметр). их можно использовать в зависимости от ситуации. \n",
    "       предпочтительным выглядит вариант использования CatBoostRegressor, без параметров. "
   ]
  }
 ],
 "metadata": {
  "ExecuteTimeLog": [
   {
    "duration": 399,
    "start_time": "2023-06-14T17:50:15.916Z"
   },
   {
    "duration": 59,
    "start_time": "2023-06-14T17:50:17.584Z"
   },
   {
    "duration": 3132,
    "start_time": "2023-06-14T17:50:30.315Z"
   },
   {
    "duration": 8,
    "start_time": "2023-06-14T17:53:54.712Z"
   },
   {
    "duration": 881,
    "start_time": "2023-06-14T17:54:02.339Z"
   },
   {
    "duration": 763,
    "start_time": "2023-06-14T17:54:31.304Z"
   },
   {
    "duration": 828,
    "start_time": "2023-06-14T17:54:39.753Z"
   },
   {
    "duration": 900,
    "start_time": "2023-06-14T17:58:31.787Z"
   },
   {
    "duration": 892,
    "start_time": "2023-06-14T17:58:36.692Z"
   },
   {
    "duration": 18,
    "start_time": "2023-06-14T17:58:50.397Z"
   },
   {
    "duration": 5,
    "start_time": "2023-06-14T18:38:40.527Z"
   },
   {
    "duration": 734,
    "start_time": "2023-06-14T18:38:50.928Z"
   },
   {
    "duration": 716,
    "start_time": "2023-06-14T18:38:55.029Z"
   },
   {
    "duration": 6,
    "start_time": "2023-06-14T18:38:56.176Z"
   },
   {
    "duration": 55,
    "start_time": "2023-06-14T18:40:42.139Z"
   },
   {
    "duration": 45,
    "start_time": "2023-06-14T18:40:57.170Z"
   },
   {
    "duration": 49,
    "start_time": "2023-06-14T18:41:05.300Z"
   },
   {
    "duration": 1066,
    "start_time": "2023-06-14T18:42:01.235Z"
   },
   {
    "duration": 14,
    "start_time": "2023-06-14T18:42:09.683Z"
   },
   {
    "duration": 15,
    "start_time": "2023-06-14T18:42:31.671Z"
   },
   {
    "duration": 14,
    "start_time": "2023-06-14T18:44:19.415Z"
   },
   {
    "duration": 4,
    "start_time": "2023-06-14T18:45:25.903Z"
   },
   {
    "duration": 14,
    "start_time": "2023-06-14T18:45:29.241Z"
   },
   {
    "duration": 1015,
    "start_time": "2023-06-14T18:45:37.270Z"
   },
   {
    "duration": 91,
    "start_time": "2023-06-14T18:46:12.408Z"
   },
   {
    "duration": 132,
    "start_time": "2023-06-14T18:46:26.501Z"
   },
   {
    "duration": 23,
    "start_time": "2023-06-14T18:46:30.367Z"
   },
   {
    "duration": 5,
    "start_time": "2023-06-14T18:46:35.691Z"
   },
   {
    "duration": 110,
    "start_time": "2023-06-14T18:47:06.302Z"
   },
   {
    "duration": 24,
    "start_time": "2023-06-14T18:47:07.368Z"
   },
   {
    "duration": 1829,
    "start_time": "2023-06-14T18:48:54.613Z"
   },
   {
    "duration": 2,
    "start_time": "2023-06-14T18:49:26.613Z"
   },
   {
    "duration": 22,
    "start_time": "2023-06-14T18:49:32.103Z"
   },
   {
    "duration": 829,
    "start_time": "2023-06-14T18:51:02.035Z"
   },
   {
    "duration": 5,
    "start_time": "2023-06-14T18:51:03.292Z"
   },
   {
    "duration": 1127,
    "start_time": "2023-06-14T18:51:04.620Z"
   },
   {
    "duration": 0,
    "start_time": "2023-06-14T18:51:05.748Z"
   },
   {
    "duration": 22,
    "start_time": "2023-06-14T18:51:05.827Z"
   },
   {
    "duration": 64,
    "start_time": "2023-06-14T18:51:43.203Z"
   },
   {
    "duration": 967,
    "start_time": "2023-06-14T18:51:48.060Z"
   },
   {
    "duration": 95,
    "start_time": "2023-06-14T18:52:29.994Z"
   },
   {
    "duration": 970,
    "start_time": "2023-06-14T18:52:47.106Z"
   },
   {
    "duration": 1117,
    "start_time": "2023-06-14T19:40:19.320Z"
   },
   {
    "duration": 178,
    "start_time": "2023-06-14T19:40:42.435Z"
   },
   {
    "duration": 29,
    "start_time": "2023-06-14T19:40:51.620Z"
   },
   {
    "duration": 4,
    "start_time": "2023-06-14T19:41:09.893Z"
   },
   {
    "duration": 100,
    "start_time": "2023-06-14T19:41:36.825Z"
   },
   {
    "duration": 5,
    "start_time": "2023-06-14T19:41:47.309Z"
   },
   {
    "duration": 9,
    "start_time": "2023-06-14T19:42:06.717Z"
   },
   {
    "duration": 68,
    "start_time": "2023-06-14T19:42:33.960Z"
   },
   {
    "duration": 7,
    "start_time": "2023-06-14T19:42:58.420Z"
   },
   {
    "duration": 176,
    "start_time": "2023-06-14T19:43:27.551Z"
   },
   {
    "duration": 961,
    "start_time": "2023-06-14T19:47:29.792Z"
   },
   {
    "duration": 629,
    "start_time": "2023-06-14T19:48:30.756Z"
   },
   {
    "duration": 66,
    "start_time": "2023-06-14T19:49:54.522Z"
   },
   {
    "duration": 3,
    "start_time": "2023-06-14T19:50:56.296Z"
   },
   {
    "duration": 4,
    "start_time": "2023-06-14T19:51:04.896Z"
   },
   {
    "duration": 4,
    "start_time": "2023-06-14T19:51:32.856Z"
   },
   {
    "duration": 5,
    "start_time": "2023-06-14T19:51:36.392Z"
   },
   {
    "duration": 8,
    "start_time": "2023-06-14T19:52:24.092Z"
   },
   {
    "duration": 5,
    "start_time": "2023-06-14T19:52:39.214Z"
   },
   {
    "duration": 5,
    "start_time": "2023-06-14T19:52:50.928Z"
   },
   {
    "duration": 16,
    "start_time": "2023-06-14T19:53:00.520Z"
   },
   {
    "duration": 81,
    "start_time": "2023-06-14T19:53:36.563Z"
   },
   {
    "duration": 4,
    "start_time": "2023-06-14T20:17:31.505Z"
   },
   {
    "duration": 9,
    "start_time": "2023-06-14T20:17:40.361Z"
   },
   {
    "duration": 842,
    "start_time": "2023-06-14T20:17:46.257Z"
   },
   {
    "duration": 5,
    "start_time": "2023-06-14T20:17:47.313Z"
   },
   {
    "duration": 105,
    "start_time": "2023-06-14T20:17:54.249Z"
   },
   {
    "duration": 807,
    "start_time": "2023-06-14T20:18:04.643Z"
   },
   {
    "duration": 5,
    "start_time": "2023-06-14T20:18:06.093Z"
   },
   {
    "duration": 117,
    "start_time": "2023-06-14T20:18:08.454Z"
   },
   {
    "duration": 4,
    "start_time": "2023-06-14T20:18:10.736Z"
   },
   {
    "duration": 12,
    "start_time": "2023-06-14T20:18:12.609Z"
   },
   {
    "duration": 63,
    "start_time": "2023-06-14T20:18:18.150Z"
   },
   {
    "duration": 180,
    "start_time": "2023-06-14T20:18:20.247Z"
   },
   {
    "duration": 224,
    "start_time": "2023-06-14T20:21:33.860Z"
   },
   {
    "duration": 6,
    "start_time": "2023-06-14T20:21:51.252Z"
   },
   {
    "duration": 7,
    "start_time": "2023-06-14T20:22:29.802Z"
   },
   {
    "duration": 4,
    "start_time": "2023-06-14T20:22:54.306Z"
   },
   {
    "duration": 4,
    "start_time": "2023-06-14T20:23:20.702Z"
   },
   {
    "duration": 8,
    "start_time": "2023-06-14T20:27:05.727Z"
   },
   {
    "duration": 1375,
    "start_time": "2023-06-14T20:27:18.696Z"
   },
   {
    "duration": 4,
    "start_time": "2023-06-14T20:28:04.632Z"
   },
   {
    "duration": 442,
    "start_time": "2023-06-14T20:28:05.431Z"
   },
   {
    "duration": 5,
    "start_time": "2023-06-14T20:28:12.115Z"
   },
   {
    "duration": 25,
    "start_time": "2023-06-14T20:28:47.945Z"
   },
   {
    "duration": 789,
    "start_time": "2023-06-14T20:31:17.814Z"
   },
   {
    "duration": 5,
    "start_time": "2023-06-14T20:31:18.605Z"
   },
   {
    "duration": 130,
    "start_time": "2023-06-14T20:31:20.551Z"
   },
   {
    "duration": 16,
    "start_time": "2023-06-14T20:33:35.036Z"
   },
   {
    "duration": 68,
    "start_time": "2023-06-14T20:33:35.499Z"
   },
   {
    "duration": 185,
    "start_time": "2023-06-14T20:33:37.733Z"
   },
   {
    "duration": 2,
    "start_time": "2023-06-14T20:38:51.492Z"
   },
   {
    "duration": 688,
    "start_time": "2023-06-14T20:38:52.607Z"
   },
   {
    "duration": 6,
    "start_time": "2023-06-14T20:38:53.824Z"
   },
   {
    "duration": 123,
    "start_time": "2023-06-14T20:38:54.849Z"
   },
   {
    "duration": 4,
    "start_time": "2023-06-14T20:38:56.849Z"
   },
   {
    "duration": 76,
    "start_time": "2023-06-14T20:38:59.833Z"
   },
   {
    "duration": 702,
    "start_time": "2023-06-14T20:39:17.395Z"
   },
   {
    "duration": 3,
    "start_time": "2023-06-14T20:40:22.360Z"
   },
   {
    "duration": 186,
    "start_time": "2023-06-14T20:40:24.404Z"
   },
   {
    "duration": 5,
    "start_time": "2023-06-14T20:40:53.528Z"
   },
   {
    "duration": 3,
    "start_time": "2023-06-14T20:41:36.228Z"
   },
   {
    "duration": 893,
    "start_time": "2023-06-14T20:41:37.284Z"
   },
   {
    "duration": 6,
    "start_time": "2023-06-14T20:42:30.662Z"
   },
   {
    "duration": 6,
    "start_time": "2023-06-14T20:42:42.701Z"
   },
   {
    "duration": 29,
    "start_time": "2023-06-14T20:43:29.500Z"
   },
   {
    "duration": 2,
    "start_time": "2023-06-14T20:44:57.021Z"
   },
   {
    "duration": 12,
    "start_time": "2023-06-14T20:45:07.625Z"
   },
   {
    "duration": 12,
    "start_time": "2023-06-14T20:45:38.243Z"
   },
   {
    "duration": 10,
    "start_time": "2023-06-14T20:45:54.630Z"
   },
   {
    "duration": 6,
    "start_time": "2023-06-14T20:46:03.428Z"
   },
   {
    "duration": 78,
    "start_time": "2023-06-14T20:46:22.163Z"
   },
   {
    "duration": 77,
    "start_time": "2023-06-14T20:46:51.211Z"
   },
   {
    "duration": 2,
    "start_time": "2023-06-14T20:47:25.215Z"
   },
   {
    "duration": 698,
    "start_time": "2023-06-14T20:47:26.146Z"
   },
   {
    "duration": 5,
    "start_time": "2023-06-14T20:47:26.846Z"
   },
   {
    "duration": 115,
    "start_time": "2023-06-14T20:47:27.361Z"
   },
   {
    "duration": 3,
    "start_time": "2023-06-14T21:07:36.797Z"
   },
   {
    "duration": 2,
    "start_time": "2023-06-14T21:07:41.293Z"
   },
   {
    "duration": 776,
    "start_time": "2023-06-14T21:07:42.585Z"
   },
   {
    "duration": 2,
    "start_time": "2023-06-14T21:07:43.363Z"
   },
   {
    "duration": 5,
    "start_time": "2023-06-14T21:07:44.932Z"
   },
   {
    "duration": 133,
    "start_time": "2023-06-14T21:07:46.285Z"
   },
   {
    "duration": 3,
    "start_time": "2023-06-14T21:08:11.421Z"
   },
   {
    "duration": 4,
    "start_time": "2023-06-14T21:08:19.183Z"
   },
   {
    "duration": 15,
    "start_time": "2023-06-14T21:08:43.288Z"
   },
   {
    "duration": 224,
    "start_time": "2023-06-14T21:09:05.137Z"
   },
   {
    "duration": 179,
    "start_time": "2023-06-14T21:09:17.825Z"
   },
   {
    "duration": 673,
    "start_time": "2023-06-14T21:09:29.754Z"
   },
   {
    "duration": 101,
    "start_time": "2023-06-14T21:09:38.224Z"
   },
   {
    "duration": 61,
    "start_time": "2023-06-14T21:09:57.697Z"
   },
   {
    "duration": 93,
    "start_time": "2023-06-14T21:10:06.449Z"
   },
   {
    "duration": 6,
    "start_time": "2023-06-14T21:10:28.113Z"
   },
   {
    "duration": 1224,
    "start_time": "2023-06-14T21:10:53.014Z"
   },
   {
    "duration": 5,
    "start_time": "2023-06-14T21:11:10.944Z"
   },
   {
    "duration": 4,
    "start_time": "2023-06-14T21:11:26.984Z"
   },
   {
    "duration": 3,
    "start_time": "2023-06-14T21:11:36.822Z"
   },
   {
    "duration": 4,
    "start_time": "2023-06-14T21:12:00.646Z"
   },
   {
    "duration": 6,
    "start_time": "2023-06-14T21:13:29.920Z"
   },
   {
    "duration": 25,
    "start_time": "2023-06-14T21:13:36.003Z"
   },
   {
    "duration": 177,
    "start_time": "2023-06-21T07:49:09.278Z"
   },
   {
    "duration": 3,
    "start_time": "2023-06-21T08:59:47.421Z"
   },
   {
    "duration": 44,
    "start_time": "2023-06-21T09:10:19.431Z"
   },
   {
    "duration": 120,
    "start_time": "2023-06-21T10:36:12.178Z"
   },
   {
    "duration": 163,
    "start_time": "2023-06-21T10:37:19.162Z"
   },
   {
    "duration": 2277,
    "start_time": "2023-06-21T10:37:27.442Z"
   },
   {
    "duration": 0,
    "start_time": "2023-06-21T10:37:29.722Z"
   },
   {
    "duration": 0,
    "start_time": "2023-06-21T10:37:29.723Z"
   },
   {
    "duration": 0,
    "start_time": "2023-06-21T10:37:29.725Z"
   },
   {
    "duration": 0,
    "start_time": "2023-06-21T10:37:29.726Z"
   },
   {
    "duration": 0,
    "start_time": "2023-06-21T10:37:29.727Z"
   },
   {
    "duration": 0,
    "start_time": "2023-06-21T10:37:29.728Z"
   },
   {
    "duration": 0,
    "start_time": "2023-06-21T10:37:29.729Z"
   },
   {
    "duration": 5,
    "start_time": "2023-06-21T10:37:30.071Z"
   },
   {
    "duration": 163,
    "start_time": "2023-06-21T10:37:31.154Z"
   },
   {
    "duration": 9,
    "start_time": "2023-06-21T10:37:31.540Z"
   },
   {
    "duration": 18,
    "start_time": "2023-06-21T10:39:25.521Z"
   },
   {
    "duration": 16,
    "start_time": "2023-06-21T10:39:45.641Z"
   },
   {
    "duration": 8,
    "start_time": "2023-06-21T10:39:46.733Z"
   },
   {
    "duration": 2011,
    "start_time": "2023-06-21T10:39:50.046Z"
   },
   {
    "duration": 170,
    "start_time": "2023-06-21T10:39:52.059Z"
   },
   {
    "duration": 2,
    "start_time": "2023-06-21T10:39:52.842Z"
   },
   {
    "duration": 188,
    "start_time": "2023-06-21T10:39:53.156Z"
   },
   {
    "duration": 60,
    "start_time": "2023-06-21T10:39:53.528Z"
   },
   {
    "duration": 446,
    "start_time": "2023-06-21T10:39:53.970Z"
   },
   {
    "duration": 1344,
    "start_time": "2023-06-21T10:39:55.044Z"
   },
   {
    "duration": 23,
    "start_time": "2023-06-21T10:39:57.314Z"
   },
   {
    "duration": 31,
    "start_time": "2023-06-21T10:39:58.761Z"
   },
   {
    "duration": 22,
    "start_time": "2023-06-21T10:40:00.079Z"
   },
   {
    "duration": 42,
    "start_time": "2023-06-21T10:40:00.634Z"
   },
   {
    "duration": 30,
    "start_time": "2023-06-21T10:40:01.446Z"
   },
   {
    "duration": 8130,
    "start_time": "2023-06-21T10:40:35.866Z"
   },
   {
    "duration": 242,
    "start_time": "2023-06-21T10:40:52.831Z"
   },
   {
    "duration": 5,
    "start_time": "2023-06-21T10:40:53.960Z"
   },
   {
    "duration": 10,
    "start_time": "2023-06-21T10:40:55.256Z"
   },
   {
    "duration": 5,
    "start_time": "2023-06-21T10:40:55.779Z"
   },
   {
    "duration": 13,
    "start_time": "2023-06-21T10:40:56.431Z"
   },
   {
    "duration": 25,
    "start_time": "2023-06-21T10:40:57.219Z"
   },
   {
    "duration": 4,
    "start_time": "2023-06-21T10:40:57.771Z"
   },
   {
    "duration": 15,
    "start_time": "2023-06-21T10:40:58.618Z"
   },
   {
    "duration": 11,
    "start_time": "2023-06-21T10:40:59.158Z"
   },
   {
    "duration": 4,
    "start_time": "2023-06-21T10:41:00.170Z"
   },
   {
    "duration": 11,
    "start_time": "2023-06-21T10:41:00.718Z"
   },
   {
    "duration": 2107,
    "start_time": "2023-06-21T10:41:02.242Z"
   },
   {
    "duration": 144,
    "start_time": "2023-06-21T10:41:04.366Z"
   },
   {
    "duration": 7,
    "start_time": "2023-06-21T10:41:04.511Z"
   },
   {
    "duration": 166,
    "start_time": "2023-06-21T10:41:05.167Z"
   },
   {
    "duration": 74,
    "start_time": "2023-06-21T10:41:06.079Z"
   },
   {
    "duration": 459,
    "start_time": "2023-06-21T10:41:06.770Z"
   },
   {
    "duration": 1111,
    "start_time": "2023-06-21T10:41:07.559Z"
   },
   {
    "duration": 8,
    "start_time": "2023-06-21T10:41:08.678Z"
   },
   {
    "duration": 74,
    "start_time": "2023-06-21T10:41:09.907Z"
   },
   {
    "duration": 47,
    "start_time": "2023-06-21T10:41:11.083Z"
   },
   {
    "duration": 54,
    "start_time": "2023-06-21T10:41:11.679Z"
   },
   {
    "duration": 878,
    "start_time": "2023-06-21T10:41:12.747Z"
   },
   {
    "duration": 930,
    "start_time": "2023-06-21T10:41:14.194Z"
   },
   {
    "duration": 21,
    "start_time": "2023-06-21T10:41:16.116Z"
   },
   {
    "duration": 7,
    "start_time": "2023-06-21T10:41:21.420Z"
   },
   {
    "duration": 571,
    "start_time": "2023-06-21T10:41:24.782Z"
   },
   {
    "duration": 455,
    "start_time": "2023-06-21T10:41:26.476Z"
   },
   {
    "duration": 21,
    "start_time": "2023-06-21T10:41:28.067Z"
   },
   {
    "duration": 41,
    "start_time": "2023-06-21T10:41:29.064Z"
   },
   {
    "duration": 65,
    "start_time": "2023-06-21T10:41:31.896Z"
   },
   {
    "duration": 19,
    "start_time": "2023-06-21T10:41:33.254Z"
   },
   {
    "duration": 26,
    "start_time": "2023-06-21T10:41:35.071Z"
   },
   {
    "duration": 885,
    "start_time": "2023-06-21T10:41:38.443Z"
   },
   {
    "duration": 308,
    "start_time": "2023-06-21T10:41:39.330Z"
   },
   {
    "duration": 174,
    "start_time": "2023-06-21T10:41:41.351Z"
   },
   {
    "duration": 38322,
    "start_time": "2023-06-21T10:41:41.954Z"
   },
   {
    "duration": 28,
    "start_time": "2023-06-21T10:42:20.278Z"
   },
   {
    "duration": 117,
    "start_time": "2023-06-21T10:42:20.308Z"
   },
   {
    "duration": 57,
    "start_time": "2023-06-21T10:42:23.754Z"
   },
   {
    "duration": 112,
    "start_time": "2023-06-21T10:42:25.753Z"
   },
   {
    "duration": 17353,
    "start_time": "2023-06-21T10:42:26.414Z"
   },
   {
    "duration": 148,
    "start_time": "2023-06-21T10:42:43.769Z"
   },
   {
    "duration": 266,
    "start_time": "2023-06-21T10:42:43.919Z"
   },
   {
    "duration": 49,
    "start_time": "2023-06-21T10:42:44.187Z"
   },
   {
    "duration": 258,
    "start_time": "2023-06-21T10:42:44.240Z"
   },
   {
    "duration": 57,
    "start_time": "2023-06-21T10:42:44.524Z"
   },
   {
    "duration": 254,
    "start_time": "2023-06-21T10:42:46.183Z"
   },
   {
    "duration": 13,
    "start_time": "2023-06-21T10:42:47.674Z"
   },
   {
    "duration": 116,
    "start_time": "2023-06-21T10:42:47.982Z"
   },
   {
    "duration": 178,
    "start_time": "2023-06-21T10:42:50.979Z"
   },
   {
    "duration": 4,
    "start_time": "2023-06-21T10:42:54.474Z"
   },
   {
    "duration": 20,
    "start_time": "2023-06-21T10:42:58.955Z"
   },
   {
    "duration": 42220,
    "start_time": "2023-06-21T10:43:00.154Z"
   },
   {
    "duration": 85,
    "start_time": "2023-06-21T10:43:42.376Z"
   },
   {
    "duration": 125,
    "start_time": "2023-06-21T10:43:42.466Z"
   },
   {
    "duration": 34,
    "start_time": "2023-06-21T10:43:42.594Z"
   },
   {
    "duration": 46,
    "start_time": "2023-06-21T10:43:42.650Z"
   },
   {
    "duration": 12,
    "start_time": "2023-06-21T10:43:45.963Z"
   },
   {
    "duration": 18,
    "start_time": "2023-06-21T10:43:47.770Z"
   },
   {
    "duration": 13,
    "start_time": "2023-06-21T10:43:48.279Z"
   },
   {
    "duration": 22,
    "start_time": "2023-06-21T10:44:00.374Z"
   },
   {
    "duration": 85,
    "start_time": "2023-06-21T10:44:00.998Z"
   },
   {
    "duration": 14,
    "start_time": "2023-06-21T10:44:01.347Z"
   },
   {
    "duration": 28,
    "start_time": "2023-06-21T10:44:25.059Z"
   },
   {
    "duration": 15,
    "start_time": "2023-06-21T10:44:44.258Z"
   },
   {
    "duration": 133,
    "start_time": "2023-06-21T10:44:44.787Z"
   },
   {
    "duration": 47,
    "start_time": "2023-06-21T10:44:48.274Z"
   },
   {
    "duration": 10,
    "start_time": "2023-06-21T10:45:51.871Z"
   },
   {
    "duration": 21,
    "start_time": "2023-06-21T10:46:01.174Z"
   },
   {
    "duration": 2343,
    "start_time": "2023-06-21T10:47:11.678Z"
   },
   {
    "duration": 197,
    "start_time": "2023-06-21T10:47:43.497Z"
   },
   {
    "duration": 11,
    "start_time": "2023-06-21T10:47:44.767Z"
   },
   {
    "duration": 11,
    "start_time": "2023-06-21T10:47:52.222Z"
   },
   {
    "duration": 187054,
    "start_time": "2023-06-21T10:47:53.563Z"
   },
   {
    "duration": 34,
    "start_time": "2023-06-21T10:51:08.319Z"
   },
   {
    "duration": 12,
    "start_time": "2023-06-21T10:51:53.844Z"
   },
   {
    "duration": 10,
    "start_time": "2023-06-21T10:52:17.319Z"
   },
   {
    "duration": 18,
    "start_time": "2023-06-21T10:52:22.644Z"
   },
   {
    "duration": 64,
    "start_time": "2023-06-21T10:53:22.220Z"
   },
   {
    "duration": 1407,
    "start_time": "2023-06-21T10:53:28.330Z"
   },
   {
    "duration": 53,
    "start_time": "2023-06-21T10:53:45.824Z"
   },
   {
    "duration": 212259,
    "start_time": "2023-06-21T10:53:47.978Z"
   },
   {
    "duration": 102,
    "start_time": "2023-06-21T11:02:10.266Z"
   },
   {
    "duration": 81,
    "start_time": "2023-06-21T11:02:11.548Z"
   },
   {
    "duration": 5,
    "start_time": "2023-06-21T11:02:16.874Z"
   },
   {
    "duration": 7279873,
    "start_time": "2023-06-21T11:02:17.378Z"
   },
   {
    "duration": 0,
    "start_time": "2023-06-21T13:03:37.253Z"
   },
   {
    "duration": 0,
    "start_time": "2023-06-21T13:03:37.254Z"
   },
   {
    "duration": 0,
    "start_time": "2023-06-21T13:03:37.255Z"
   },
   {
    "duration": 0,
    "start_time": "2023-06-21T13:03:37.256Z"
   },
   {
    "duration": 0,
    "start_time": "2023-06-21T13:03:37.257Z"
   },
   {
    "duration": 0,
    "start_time": "2023-06-21T13:03:37.258Z"
   },
   {
    "duration": 0,
    "start_time": "2023-06-21T13:03:37.259Z"
   },
   {
    "duration": 0,
    "start_time": "2023-06-21T13:03:37.260Z"
   }
  ],
  "kernelspec": {
   "display_name": "Python 3 (ipykernel)",
   "language": "python",
   "name": "python3"
  },
  "language_info": {
   "codemirror_mode": {
    "name": "ipython",
    "version": 3
   },
   "file_extension": ".py",
   "mimetype": "text/x-python",
   "name": "python",
   "nbconvert_exporter": "python",
   "pygments_lexer": "ipython3",
   "version": "3.10.12"
  },
  "toc": {
   "base_numbering": 1,
   "nav_menu": {
    "height": "220px",
    "width": "222px"
   },
   "number_sections": true,
   "sideBar": true,
   "skip_h1_title": true,
   "title_cell": "Table of Contents",
   "title_sidebar": "Contents",
   "toc_cell": false,
   "toc_position": {},
   "toc_section_display": true,
   "toc_window_display": false
  },
  "toc-showmarkdowntxt": false
 },
 "nbformat": 4,
 "nbformat_minor": 4
}
