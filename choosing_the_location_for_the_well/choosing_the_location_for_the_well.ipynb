{
 "cells": [
  {
   "cell_type": "markdown",
   "metadata": {},
   "source": [
    "# Выбор локации для скважины"
   ]
  },
  {
   "cell_type": "markdown",
   "metadata": {},
   "source": [
    "заказчик «ГлавРосГосНефть».  \n",
    "\n",
    "Задача: \n",
    "\n",
    "Построить модель машинного обучения, которая поможет определить регион, где добыча принесёт наибольшую прибыль\n",
    "\n",
    "Описание данных:\n",
    "Данные геологоразведки трёх регионов находятся в файлах, в каждом 10 000 месторождений, где измерили качество нефти и объём её запасов: \n",
    "\n",
    "    /datasets/geo_data_0.csv.\n",
    "    /datasets/geo_data_1.csv.\n",
    "    /datasets/geo_data_2.csv.\n",
    "    id — уникальный идентификатор скважины;\n",
    "    f0, f1, f2 — три признака точек;\n",
    "    product — объём запасов в скважине (тыс. баррелей).\n",
    "    \n",
    "Шаги для выбора локации:\n",
    "\n",
    "- В избранном регионе ищут месторождения, для каждого определяют значения признаков;\n",
    "- Строят модель и оценивают объём запасов;\n",
    "- Выбирают месторождения с самым высокими оценками значений. Количество месторождений зависит от бюджета компании и стоимости разработки одной скважины;\n",
    "- Прибыль равна суммарной прибыли отобранных месторождений.\n",
    "\n",
    "Дополнительные данные:\n",
    "\n",
    "    При разведке региона исследуют 500 точек, из которых с помощью машинного обучения выбирают 200 лучших для разработки.\n",
    "    Бюджет на разработку скважин в регионе — 10 млрд рублей.\n",
    "    При нынешних ценах один баррель сырья приносит 450 рублей дохода. Доход с каждой единицы продукта составляет 450 тыс. рублей, поскольку объём указан в тысячах баррелей.\n",
    "    После оценки рисков нужно оставить лишь те регионы, в которых вероятность убытков меньше 2.5%. Среди них выбирают регион с наибольшей средней прибылью.\n",
    "\n"
   ]
  },
  {
   "cell_type": "markdown",
   "metadata": {},
   "source": [
    "## Загрузка и подготовка данных"
   ]
  },
  {
   "cell_type": "code",
   "execution_count": 1,
   "metadata": {},
   "outputs": [],
   "source": [
    "from IPython.core.display import display, HTML\n",
    "import pandas as pd\n",
    "import matplotlib.pyplot as plt\n",
    "from sklearn.model_selection import train_test_split\n",
    "from sklearn.preprocessing import RobustScaler\n",
    "from sklearn.linear_model import LinearRegression\n",
    "from sklearn.metrics import mean_absolute_error, mean_squared_error\n",
    "from numpy.random import RandomState\n",
    "import seaborn as sns"
   ]
  },
  {
   "cell_type": "code",
   "execution_count": 2,
   "metadata": {},
   "outputs": [
    {
     "data": {
      "text/html": [
       "<style>.container { width:90% !important; }</style>"
      ],
      "text/plain": [
       "<IPython.core.display.HTML object>"
      ]
     },
     "metadata": {},
     "output_type": "display_data"
    }
   ],
   "source": [
    "display(HTML(\"<style>.container { width:90% !important; }</style>\"))"
   ]
  },
  {
   "cell_type": "code",
   "execution_count": 3,
   "metadata": {},
   "outputs": [
    {
     "name": "stdout",
     "output_type": "stream",
     "text": [
      "upload 3 files completed\n"
     ]
    }
   ],
   "source": [
    "dick_data = dict()\n",
    "for i in range(3):\n",
    "    try:\n",
    "        dick_data[f'region_{i + 1}'] = pd.read_csv(f'/datasets/geo_data_{i}.csv')\n",
    "    except:\n",
    "        dick_data[f'region_{i + 1}'] = pd.read_csv(f'https://code.s3.yandex.net/datasets/geo_data_{i}.csv')\n",
    "else:\n",
    "    print(f'upload {len(dick_data)} files completed')"
   ]
  },
  {
   "cell_type": "markdown",
   "metadata": {},
   "source": [
    "<div class=\"alert alert-success\">\n",
    "<h2> Комментарий ревьюера ✔️ <a class=\"tocSkip\"> </h2>\n",
    "\n",
    "Здорово, что ты используешь конструкцию `try-except`, это повышает отказоустойчивость кода\n",
    "\n",
    "</div>\n"
   ]
  },
  {
   "cell_type": "code",
   "execution_count": 4,
   "metadata": {},
   "outputs": [
    {
     "name": "stdout",
     "output_type": "stream",
     "text": [
      "region_1\n"
     ]
    },
    {
     "data": {
      "text/plain": [
       "'head region_1'"
      ]
     },
     "metadata": {},
     "output_type": "display_data"
    },
    {
     "data": {
      "text/html": [
       "<div>\n",
       "<style scoped>\n",
       "    .dataframe tbody tr th:only-of-type {\n",
       "        vertical-align: middle;\n",
       "    }\n",
       "\n",
       "    .dataframe tbody tr th {\n",
       "        vertical-align: top;\n",
       "    }\n",
       "\n",
       "    .dataframe thead th {\n",
       "        text-align: right;\n",
       "    }\n",
       "</style>\n",
       "<table border=\"1\" class=\"dataframe\">\n",
       "  <thead>\n",
       "    <tr style=\"text-align: right;\">\n",
       "      <th></th>\n",
       "      <th>id</th>\n",
       "      <th>f0</th>\n",
       "      <th>f1</th>\n",
       "      <th>f2</th>\n",
       "      <th>product</th>\n",
       "    </tr>\n",
       "  </thead>\n",
       "  <tbody>\n",
       "    <tr>\n",
       "      <th>0</th>\n",
       "      <td>txEyH</td>\n",
       "      <td>0.705745</td>\n",
       "      <td>-0.497823</td>\n",
       "      <td>1.221170</td>\n",
       "      <td>105.280062</td>\n",
       "    </tr>\n",
       "    <tr>\n",
       "      <th>1</th>\n",
       "      <td>2acmU</td>\n",
       "      <td>1.334711</td>\n",
       "      <td>-0.340164</td>\n",
       "      <td>4.365080</td>\n",
       "      <td>73.037750</td>\n",
       "    </tr>\n",
       "    <tr>\n",
       "      <th>2</th>\n",
       "      <td>409Wp</td>\n",
       "      <td>1.022732</td>\n",
       "      <td>0.151990</td>\n",
       "      <td>1.419926</td>\n",
       "      <td>85.265647</td>\n",
       "    </tr>\n",
       "    <tr>\n",
       "      <th>3</th>\n",
       "      <td>iJLyR</td>\n",
       "      <td>-0.032172</td>\n",
       "      <td>0.139033</td>\n",
       "      <td>2.978566</td>\n",
       "      <td>168.620776</td>\n",
       "    </tr>\n",
       "    <tr>\n",
       "      <th>4</th>\n",
       "      <td>Xdl7t</td>\n",
       "      <td>1.988431</td>\n",
       "      <td>0.155413</td>\n",
       "      <td>4.751769</td>\n",
       "      <td>154.036647</td>\n",
       "    </tr>\n",
       "  </tbody>\n",
       "</table>\n",
       "</div>"
      ],
      "text/plain": [
       "      id        f0        f1        f2     product\n",
       "0  txEyH  0.705745 -0.497823  1.221170  105.280062\n",
       "1  2acmU  1.334711 -0.340164  4.365080   73.037750\n",
       "2  409Wp  1.022732  0.151990  1.419926   85.265647\n",
       "3  iJLyR -0.032172  0.139033  2.978566  168.620776\n",
       "4  Xdl7t  1.988431  0.155413  4.751769  154.036647"
      ]
     },
     "metadata": {},
     "output_type": "display_data"
    },
    {
     "data": {
      "text/plain": [
       "'dtypes region_1'"
      ]
     },
     "metadata": {},
     "output_type": "display_data"
    },
    {
     "data": {
      "text/plain": [
       "id          object\n",
       "f0         float64\n",
       "f1         float64\n",
       "f2         float64\n",
       "product    float64\n",
       "dtype: object"
      ]
     },
     "metadata": {},
     "output_type": "display_data"
    },
    {
     "data": {
      "text/plain": [
       "'isna region_1'"
      ]
     },
     "metadata": {},
     "output_type": "display_data"
    },
    {
     "data": {
      "text/plain": [
       "id         0\n",
       "f0         0\n",
       "f1         0\n",
       "f2         0\n",
       "product    0\n",
       "dtype: int64"
      ]
     },
     "metadata": {},
     "output_type": "display_data"
    },
    {
     "data": {
      "text/plain": [
       "'duplicated region_1'"
      ]
     },
     "metadata": {},
     "output_type": "display_data"
    },
    {
     "data": {
      "text/plain": [
       "0"
      ]
     },
     "metadata": {},
     "output_type": "display_data"
    },
    {
     "data": {
      "text/plain": [
       "'describe region_1'"
      ]
     },
     "metadata": {},
     "output_type": "display_data"
    },
    {
     "data": {
      "text/html": [
       "<div>\n",
       "<style scoped>\n",
       "    .dataframe tbody tr th:only-of-type {\n",
       "        vertical-align: middle;\n",
       "    }\n",
       "\n",
       "    .dataframe tbody tr th {\n",
       "        vertical-align: top;\n",
       "    }\n",
       "\n",
       "    .dataframe thead th {\n",
       "        text-align: right;\n",
       "    }\n",
       "</style>\n",
       "<table border=\"1\" class=\"dataframe\">\n",
       "  <thead>\n",
       "    <tr style=\"text-align: right;\">\n",
       "      <th></th>\n",
       "      <th>f0</th>\n",
       "      <th>f1</th>\n",
       "      <th>f2</th>\n",
       "      <th>product</th>\n",
       "    </tr>\n",
       "  </thead>\n",
       "  <tbody>\n",
       "    <tr>\n",
       "      <th>count</th>\n",
       "      <td>100000.000000</td>\n",
       "      <td>100000.000000</td>\n",
       "      <td>100000.000000</td>\n",
       "      <td>100000.000000</td>\n",
       "    </tr>\n",
       "    <tr>\n",
       "      <th>mean</th>\n",
       "      <td>0.500419</td>\n",
       "      <td>0.250143</td>\n",
       "      <td>2.502647</td>\n",
       "      <td>92.500000</td>\n",
       "    </tr>\n",
       "    <tr>\n",
       "      <th>std</th>\n",
       "      <td>0.871832</td>\n",
       "      <td>0.504433</td>\n",
       "      <td>3.248248</td>\n",
       "      <td>44.288691</td>\n",
       "    </tr>\n",
       "    <tr>\n",
       "      <th>min</th>\n",
       "      <td>-1.408605</td>\n",
       "      <td>-0.848218</td>\n",
       "      <td>-12.088328</td>\n",
       "      <td>0.000000</td>\n",
       "    </tr>\n",
       "    <tr>\n",
       "      <th>25%</th>\n",
       "      <td>-0.072580</td>\n",
       "      <td>-0.200881</td>\n",
       "      <td>0.287748</td>\n",
       "      <td>56.497507</td>\n",
       "    </tr>\n",
       "    <tr>\n",
       "      <th>50%</th>\n",
       "      <td>0.502360</td>\n",
       "      <td>0.250252</td>\n",
       "      <td>2.515969</td>\n",
       "      <td>91.849972</td>\n",
       "    </tr>\n",
       "    <tr>\n",
       "      <th>75%</th>\n",
       "      <td>1.073581</td>\n",
       "      <td>0.700646</td>\n",
       "      <td>4.715088</td>\n",
       "      <td>128.564089</td>\n",
       "    </tr>\n",
       "    <tr>\n",
       "      <th>max</th>\n",
       "      <td>2.362331</td>\n",
       "      <td>1.343769</td>\n",
       "      <td>16.003790</td>\n",
       "      <td>185.364347</td>\n",
       "    </tr>\n",
       "  </tbody>\n",
       "</table>\n",
       "</div>"
      ],
      "text/plain": [
       "                  f0             f1             f2        product\n",
       "count  100000.000000  100000.000000  100000.000000  100000.000000\n",
       "mean        0.500419       0.250143       2.502647      92.500000\n",
       "std         0.871832       0.504433       3.248248      44.288691\n",
       "min        -1.408605      -0.848218     -12.088328       0.000000\n",
       "25%        -0.072580      -0.200881       0.287748      56.497507\n",
       "50%         0.502360       0.250252       2.515969      91.849972\n",
       "75%         1.073581       0.700646       4.715088     128.564089\n",
       "max         2.362331       1.343769      16.003790     185.364347"
      ]
     },
     "metadata": {},
     "output_type": "display_data"
    },
    {
     "data": {
      "text/plain": [
       "'corr region_1'"
      ]
     },
     "metadata": {},
     "output_type": "display_data"
    },
    {
     "data": {
      "text/html": [
       "<div>\n",
       "<style scoped>\n",
       "    .dataframe tbody tr th:only-of-type {\n",
       "        vertical-align: middle;\n",
       "    }\n",
       "\n",
       "    .dataframe tbody tr th {\n",
       "        vertical-align: top;\n",
       "    }\n",
       "\n",
       "    .dataframe thead th {\n",
       "        text-align: right;\n",
       "    }\n",
       "</style>\n",
       "<table border=\"1\" class=\"dataframe\">\n",
       "  <thead>\n",
       "    <tr style=\"text-align: right;\">\n",
       "      <th></th>\n",
       "      <th>f0</th>\n",
       "      <th>f1</th>\n",
       "      <th>f2</th>\n",
       "      <th>product</th>\n",
       "    </tr>\n",
       "  </thead>\n",
       "  <tbody>\n",
       "    <tr>\n",
       "      <th>f0</th>\n",
       "      <td>1.000000</td>\n",
       "      <td>-0.440723</td>\n",
       "      <td>-0.003153</td>\n",
       "      <td>0.143536</td>\n",
       "    </tr>\n",
       "    <tr>\n",
       "      <th>f1</th>\n",
       "      <td>-0.440723</td>\n",
       "      <td>1.000000</td>\n",
       "      <td>0.001724</td>\n",
       "      <td>-0.192356</td>\n",
       "    </tr>\n",
       "    <tr>\n",
       "      <th>f2</th>\n",
       "      <td>-0.003153</td>\n",
       "      <td>0.001724</td>\n",
       "      <td>1.000000</td>\n",
       "      <td>0.483663</td>\n",
       "    </tr>\n",
       "    <tr>\n",
       "      <th>product</th>\n",
       "      <td>0.143536</td>\n",
       "      <td>-0.192356</td>\n",
       "      <td>0.483663</td>\n",
       "      <td>1.000000</td>\n",
       "    </tr>\n",
       "  </tbody>\n",
       "</table>\n",
       "</div>"
      ],
      "text/plain": [
       "               f0        f1        f2   product\n",
       "f0       1.000000 -0.440723 -0.003153  0.143536\n",
       "f1      -0.440723  1.000000  0.001724 -0.192356\n",
       "f2      -0.003153  0.001724  1.000000  0.483663\n",
       "product  0.143536 -0.192356  0.483663  1.000000"
      ]
     },
     "metadata": {},
     "output_type": "display_data"
    },
    {
     "data": {
      "text/plain": [
       "'nunique region_1'"
      ]
     },
     "metadata": {},
     "output_type": "display_data"
    },
    {
     "data": {
      "text/plain": [
       "id          99990\n",
       "f0         100000\n",
       "f1         100000\n",
       "f2         100000\n",
       "product    100000\n",
       "dtype: int64"
      ]
     },
     "metadata": {},
     "output_type": "display_data"
    },
    {
     "name": "stdout",
     "output_type": "stream",
     "text": [
      "enf of region_1\n",
      "**************************************************\n",
      "\n",
      "\n",
      "region_2\n"
     ]
    },
    {
     "data": {
      "text/plain": [
       "'head region_2'"
      ]
     },
     "metadata": {},
     "output_type": "display_data"
    },
    {
     "data": {
      "text/html": [
       "<div>\n",
       "<style scoped>\n",
       "    .dataframe tbody tr th:only-of-type {\n",
       "        vertical-align: middle;\n",
       "    }\n",
       "\n",
       "    .dataframe tbody tr th {\n",
       "        vertical-align: top;\n",
       "    }\n",
       "\n",
       "    .dataframe thead th {\n",
       "        text-align: right;\n",
       "    }\n",
       "</style>\n",
       "<table border=\"1\" class=\"dataframe\">\n",
       "  <thead>\n",
       "    <tr style=\"text-align: right;\">\n",
       "      <th></th>\n",
       "      <th>id</th>\n",
       "      <th>f0</th>\n",
       "      <th>f1</th>\n",
       "      <th>f2</th>\n",
       "      <th>product</th>\n",
       "    </tr>\n",
       "  </thead>\n",
       "  <tbody>\n",
       "    <tr>\n",
       "      <th>0</th>\n",
       "      <td>kBEdx</td>\n",
       "      <td>-15.001348</td>\n",
       "      <td>-8.276000</td>\n",
       "      <td>-0.005876</td>\n",
       "      <td>3.179103</td>\n",
       "    </tr>\n",
       "    <tr>\n",
       "      <th>1</th>\n",
       "      <td>62mP7</td>\n",
       "      <td>14.272088</td>\n",
       "      <td>-3.475083</td>\n",
       "      <td>0.999183</td>\n",
       "      <td>26.953261</td>\n",
       "    </tr>\n",
       "    <tr>\n",
       "      <th>2</th>\n",
       "      <td>vyE1P</td>\n",
       "      <td>6.263187</td>\n",
       "      <td>-5.948386</td>\n",
       "      <td>5.001160</td>\n",
       "      <td>134.766305</td>\n",
       "    </tr>\n",
       "    <tr>\n",
       "      <th>3</th>\n",
       "      <td>KcrkZ</td>\n",
       "      <td>-13.081196</td>\n",
       "      <td>-11.506057</td>\n",
       "      <td>4.999415</td>\n",
       "      <td>137.945408</td>\n",
       "    </tr>\n",
       "    <tr>\n",
       "      <th>4</th>\n",
       "      <td>AHL4O</td>\n",
       "      <td>12.702195</td>\n",
       "      <td>-8.147433</td>\n",
       "      <td>5.004363</td>\n",
       "      <td>134.766305</td>\n",
       "    </tr>\n",
       "  </tbody>\n",
       "</table>\n",
       "</div>"
      ],
      "text/plain": [
       "      id         f0         f1        f2     product\n",
       "0  kBEdx -15.001348  -8.276000 -0.005876    3.179103\n",
       "1  62mP7  14.272088  -3.475083  0.999183   26.953261\n",
       "2  vyE1P   6.263187  -5.948386  5.001160  134.766305\n",
       "3  KcrkZ -13.081196 -11.506057  4.999415  137.945408\n",
       "4  AHL4O  12.702195  -8.147433  5.004363  134.766305"
      ]
     },
     "metadata": {},
     "output_type": "display_data"
    },
    {
     "data": {
      "text/plain": [
       "'dtypes region_2'"
      ]
     },
     "metadata": {},
     "output_type": "display_data"
    },
    {
     "data": {
      "text/plain": [
       "id          object\n",
       "f0         float64\n",
       "f1         float64\n",
       "f2         float64\n",
       "product    float64\n",
       "dtype: object"
      ]
     },
     "metadata": {},
     "output_type": "display_data"
    },
    {
     "data": {
      "text/plain": [
       "'isna region_2'"
      ]
     },
     "metadata": {},
     "output_type": "display_data"
    },
    {
     "data": {
      "text/plain": [
       "id         0\n",
       "f0         0\n",
       "f1         0\n",
       "f2         0\n",
       "product    0\n",
       "dtype: int64"
      ]
     },
     "metadata": {},
     "output_type": "display_data"
    },
    {
     "data": {
      "text/plain": [
       "'duplicated region_2'"
      ]
     },
     "metadata": {},
     "output_type": "display_data"
    },
    {
     "data": {
      "text/plain": [
       "0"
      ]
     },
     "metadata": {},
     "output_type": "display_data"
    },
    {
     "data": {
      "text/plain": [
       "'describe region_2'"
      ]
     },
     "metadata": {},
     "output_type": "display_data"
    },
    {
     "data": {
      "text/html": [
       "<div>\n",
       "<style scoped>\n",
       "    .dataframe tbody tr th:only-of-type {\n",
       "        vertical-align: middle;\n",
       "    }\n",
       "\n",
       "    .dataframe tbody tr th {\n",
       "        vertical-align: top;\n",
       "    }\n",
       "\n",
       "    .dataframe thead th {\n",
       "        text-align: right;\n",
       "    }\n",
       "</style>\n",
       "<table border=\"1\" class=\"dataframe\">\n",
       "  <thead>\n",
       "    <tr style=\"text-align: right;\">\n",
       "      <th></th>\n",
       "      <th>f0</th>\n",
       "      <th>f1</th>\n",
       "      <th>f2</th>\n",
       "      <th>product</th>\n",
       "    </tr>\n",
       "  </thead>\n",
       "  <tbody>\n",
       "    <tr>\n",
       "      <th>count</th>\n",
       "      <td>100000.000000</td>\n",
       "      <td>100000.000000</td>\n",
       "      <td>100000.000000</td>\n",
       "      <td>100000.000000</td>\n",
       "    </tr>\n",
       "    <tr>\n",
       "      <th>mean</th>\n",
       "      <td>1.141296</td>\n",
       "      <td>-4.796579</td>\n",
       "      <td>2.494541</td>\n",
       "      <td>68.825000</td>\n",
       "    </tr>\n",
       "    <tr>\n",
       "      <th>std</th>\n",
       "      <td>8.965932</td>\n",
       "      <td>5.119872</td>\n",
       "      <td>1.703572</td>\n",
       "      <td>45.944423</td>\n",
       "    </tr>\n",
       "    <tr>\n",
       "      <th>min</th>\n",
       "      <td>-31.609576</td>\n",
       "      <td>-26.358598</td>\n",
       "      <td>-0.018144</td>\n",
       "      <td>0.000000</td>\n",
       "    </tr>\n",
       "    <tr>\n",
       "      <th>25%</th>\n",
       "      <td>-6.298551</td>\n",
       "      <td>-8.267985</td>\n",
       "      <td>1.000021</td>\n",
       "      <td>26.953261</td>\n",
       "    </tr>\n",
       "    <tr>\n",
       "      <th>50%</th>\n",
       "      <td>1.153055</td>\n",
       "      <td>-4.813172</td>\n",
       "      <td>2.011479</td>\n",
       "      <td>57.085625</td>\n",
       "    </tr>\n",
       "    <tr>\n",
       "      <th>75%</th>\n",
       "      <td>8.621015</td>\n",
       "      <td>-1.332816</td>\n",
       "      <td>3.999904</td>\n",
       "      <td>107.813044</td>\n",
       "    </tr>\n",
       "    <tr>\n",
       "      <th>max</th>\n",
       "      <td>29.421755</td>\n",
       "      <td>18.734063</td>\n",
       "      <td>5.019721</td>\n",
       "      <td>137.945408</td>\n",
       "    </tr>\n",
       "  </tbody>\n",
       "</table>\n",
       "</div>"
      ],
      "text/plain": [
       "                  f0             f1             f2        product\n",
       "count  100000.000000  100000.000000  100000.000000  100000.000000\n",
       "mean        1.141296      -4.796579       2.494541      68.825000\n",
       "std         8.965932       5.119872       1.703572      45.944423\n",
       "min       -31.609576     -26.358598      -0.018144       0.000000\n",
       "25%        -6.298551      -8.267985       1.000021      26.953261\n",
       "50%         1.153055      -4.813172       2.011479      57.085625\n",
       "75%         8.621015      -1.332816       3.999904     107.813044\n",
       "max        29.421755      18.734063       5.019721     137.945408"
      ]
     },
     "metadata": {},
     "output_type": "display_data"
    },
    {
     "data": {
      "text/plain": [
       "'corr region_2'"
      ]
     },
     "metadata": {},
     "output_type": "display_data"
    },
    {
     "data": {
      "text/html": [
       "<div>\n",
       "<style scoped>\n",
       "    .dataframe tbody tr th:only-of-type {\n",
       "        vertical-align: middle;\n",
       "    }\n",
       "\n",
       "    .dataframe tbody tr th {\n",
       "        vertical-align: top;\n",
       "    }\n",
       "\n",
       "    .dataframe thead th {\n",
       "        text-align: right;\n",
       "    }\n",
       "</style>\n",
       "<table border=\"1\" class=\"dataframe\">\n",
       "  <thead>\n",
       "    <tr style=\"text-align: right;\">\n",
       "      <th></th>\n",
       "      <th>f0</th>\n",
       "      <th>f1</th>\n",
       "      <th>f2</th>\n",
       "      <th>product</th>\n",
       "    </tr>\n",
       "  </thead>\n",
       "  <tbody>\n",
       "    <tr>\n",
       "      <th>f0</th>\n",
       "      <td>1.000000</td>\n",
       "      <td>0.182287</td>\n",
       "      <td>-0.001777</td>\n",
       "      <td>-0.030491</td>\n",
       "    </tr>\n",
       "    <tr>\n",
       "      <th>f1</th>\n",
       "      <td>0.182287</td>\n",
       "      <td>1.000000</td>\n",
       "      <td>-0.002595</td>\n",
       "      <td>-0.010155</td>\n",
       "    </tr>\n",
       "    <tr>\n",
       "      <th>f2</th>\n",
       "      <td>-0.001777</td>\n",
       "      <td>-0.002595</td>\n",
       "      <td>1.000000</td>\n",
       "      <td>0.999397</td>\n",
       "    </tr>\n",
       "    <tr>\n",
       "      <th>product</th>\n",
       "      <td>-0.030491</td>\n",
       "      <td>-0.010155</td>\n",
       "      <td>0.999397</td>\n",
       "      <td>1.000000</td>\n",
       "    </tr>\n",
       "  </tbody>\n",
       "</table>\n",
       "</div>"
      ],
      "text/plain": [
       "               f0        f1        f2   product\n",
       "f0       1.000000  0.182287 -0.001777 -0.030491\n",
       "f1       0.182287  1.000000 -0.002595 -0.010155\n",
       "f2      -0.001777 -0.002595  1.000000  0.999397\n",
       "product -0.030491 -0.010155  0.999397  1.000000"
      ]
     },
     "metadata": {},
     "output_type": "display_data"
    },
    {
     "data": {
      "text/plain": [
       "'nunique region_2'"
      ]
     },
     "metadata": {},
     "output_type": "display_data"
    },
    {
     "data": {
      "text/plain": [
       "id          99996\n",
       "f0         100000\n",
       "f1         100000\n",
       "f2         100000\n",
       "product        12\n",
       "dtype: int64"
      ]
     },
     "metadata": {},
     "output_type": "display_data"
    },
    {
     "name": "stdout",
     "output_type": "stream",
     "text": [
      "enf of region_2\n",
      "**************************************************\n",
      "\n",
      "\n",
      "region_3\n"
     ]
    },
    {
     "data": {
      "text/plain": [
       "'head region_3'"
      ]
     },
     "metadata": {},
     "output_type": "display_data"
    },
    {
     "data": {
      "text/html": [
       "<div>\n",
       "<style scoped>\n",
       "    .dataframe tbody tr th:only-of-type {\n",
       "        vertical-align: middle;\n",
       "    }\n",
       "\n",
       "    .dataframe tbody tr th {\n",
       "        vertical-align: top;\n",
       "    }\n",
       "\n",
       "    .dataframe thead th {\n",
       "        text-align: right;\n",
       "    }\n",
       "</style>\n",
       "<table border=\"1\" class=\"dataframe\">\n",
       "  <thead>\n",
       "    <tr style=\"text-align: right;\">\n",
       "      <th></th>\n",
       "      <th>id</th>\n",
       "      <th>f0</th>\n",
       "      <th>f1</th>\n",
       "      <th>f2</th>\n",
       "      <th>product</th>\n",
       "    </tr>\n",
       "  </thead>\n",
       "  <tbody>\n",
       "    <tr>\n",
       "      <th>0</th>\n",
       "      <td>fwXo0</td>\n",
       "      <td>-1.146987</td>\n",
       "      <td>0.963328</td>\n",
       "      <td>-0.828965</td>\n",
       "      <td>27.758673</td>\n",
       "    </tr>\n",
       "    <tr>\n",
       "      <th>1</th>\n",
       "      <td>WJtFt</td>\n",
       "      <td>0.262778</td>\n",
       "      <td>0.269839</td>\n",
       "      <td>-2.530187</td>\n",
       "      <td>56.069697</td>\n",
       "    </tr>\n",
       "    <tr>\n",
       "      <th>2</th>\n",
       "      <td>ovLUW</td>\n",
       "      <td>0.194587</td>\n",
       "      <td>0.289035</td>\n",
       "      <td>-5.586433</td>\n",
       "      <td>62.871910</td>\n",
       "    </tr>\n",
       "    <tr>\n",
       "      <th>3</th>\n",
       "      <td>q6cA6</td>\n",
       "      <td>2.236060</td>\n",
       "      <td>-0.553760</td>\n",
       "      <td>0.930038</td>\n",
       "      <td>114.572842</td>\n",
       "    </tr>\n",
       "    <tr>\n",
       "      <th>4</th>\n",
       "      <td>WPMUX</td>\n",
       "      <td>-0.515993</td>\n",
       "      <td>1.716266</td>\n",
       "      <td>5.899011</td>\n",
       "      <td>149.600746</td>\n",
       "    </tr>\n",
       "  </tbody>\n",
       "</table>\n",
       "</div>"
      ],
      "text/plain": [
       "      id        f0        f1        f2     product\n",
       "0  fwXo0 -1.146987  0.963328 -0.828965   27.758673\n",
       "1  WJtFt  0.262778  0.269839 -2.530187   56.069697\n",
       "2  ovLUW  0.194587  0.289035 -5.586433   62.871910\n",
       "3  q6cA6  2.236060 -0.553760  0.930038  114.572842\n",
       "4  WPMUX -0.515993  1.716266  5.899011  149.600746"
      ]
     },
     "metadata": {},
     "output_type": "display_data"
    },
    {
     "data": {
      "text/plain": [
       "'dtypes region_3'"
      ]
     },
     "metadata": {},
     "output_type": "display_data"
    },
    {
     "data": {
      "text/plain": [
       "id          object\n",
       "f0         float64\n",
       "f1         float64\n",
       "f2         float64\n",
       "product    float64\n",
       "dtype: object"
      ]
     },
     "metadata": {},
     "output_type": "display_data"
    },
    {
     "data": {
      "text/plain": [
       "'isna region_3'"
      ]
     },
     "metadata": {},
     "output_type": "display_data"
    },
    {
     "data": {
      "text/plain": [
       "id         0\n",
       "f0         0\n",
       "f1         0\n",
       "f2         0\n",
       "product    0\n",
       "dtype: int64"
      ]
     },
     "metadata": {},
     "output_type": "display_data"
    },
    {
     "data": {
      "text/plain": [
       "'duplicated region_3'"
      ]
     },
     "metadata": {},
     "output_type": "display_data"
    },
    {
     "data": {
      "text/plain": [
       "0"
      ]
     },
     "metadata": {},
     "output_type": "display_data"
    },
    {
     "data": {
      "text/plain": [
       "'describe region_3'"
      ]
     },
     "metadata": {},
     "output_type": "display_data"
    },
    {
     "data": {
      "text/html": [
       "<div>\n",
       "<style scoped>\n",
       "    .dataframe tbody tr th:only-of-type {\n",
       "        vertical-align: middle;\n",
       "    }\n",
       "\n",
       "    .dataframe tbody tr th {\n",
       "        vertical-align: top;\n",
       "    }\n",
       "\n",
       "    .dataframe thead th {\n",
       "        text-align: right;\n",
       "    }\n",
       "</style>\n",
       "<table border=\"1\" class=\"dataframe\">\n",
       "  <thead>\n",
       "    <tr style=\"text-align: right;\">\n",
       "      <th></th>\n",
       "      <th>f0</th>\n",
       "      <th>f1</th>\n",
       "      <th>f2</th>\n",
       "      <th>product</th>\n",
       "    </tr>\n",
       "  </thead>\n",
       "  <tbody>\n",
       "    <tr>\n",
       "      <th>count</th>\n",
       "      <td>100000.000000</td>\n",
       "      <td>100000.000000</td>\n",
       "      <td>100000.000000</td>\n",
       "      <td>100000.000000</td>\n",
       "    </tr>\n",
       "    <tr>\n",
       "      <th>mean</th>\n",
       "      <td>0.002023</td>\n",
       "      <td>-0.002081</td>\n",
       "      <td>2.495128</td>\n",
       "      <td>95.000000</td>\n",
       "    </tr>\n",
       "    <tr>\n",
       "      <th>std</th>\n",
       "      <td>1.732045</td>\n",
       "      <td>1.730417</td>\n",
       "      <td>3.473445</td>\n",
       "      <td>44.749921</td>\n",
       "    </tr>\n",
       "    <tr>\n",
       "      <th>min</th>\n",
       "      <td>-8.760004</td>\n",
       "      <td>-7.084020</td>\n",
       "      <td>-11.970335</td>\n",
       "      <td>0.000000</td>\n",
       "    </tr>\n",
       "    <tr>\n",
       "      <th>25%</th>\n",
       "      <td>-1.162288</td>\n",
       "      <td>-1.174820</td>\n",
       "      <td>0.130359</td>\n",
       "      <td>59.450441</td>\n",
       "    </tr>\n",
       "    <tr>\n",
       "      <th>50%</th>\n",
       "      <td>0.009424</td>\n",
       "      <td>-0.009482</td>\n",
       "      <td>2.484236</td>\n",
       "      <td>94.925613</td>\n",
       "    </tr>\n",
       "    <tr>\n",
       "      <th>75%</th>\n",
       "      <td>1.158535</td>\n",
       "      <td>1.163678</td>\n",
       "      <td>4.858794</td>\n",
       "      <td>130.595027</td>\n",
       "    </tr>\n",
       "    <tr>\n",
       "      <th>max</th>\n",
       "      <td>7.238262</td>\n",
       "      <td>7.844801</td>\n",
       "      <td>16.739402</td>\n",
       "      <td>190.029838</td>\n",
       "    </tr>\n",
       "  </tbody>\n",
       "</table>\n",
       "</div>"
      ],
      "text/plain": [
       "                  f0             f1             f2        product\n",
       "count  100000.000000  100000.000000  100000.000000  100000.000000\n",
       "mean        0.002023      -0.002081       2.495128      95.000000\n",
       "std         1.732045       1.730417       3.473445      44.749921\n",
       "min        -8.760004      -7.084020     -11.970335       0.000000\n",
       "25%        -1.162288      -1.174820       0.130359      59.450441\n",
       "50%         0.009424      -0.009482       2.484236      94.925613\n",
       "75%         1.158535       1.163678       4.858794     130.595027\n",
       "max         7.238262       7.844801      16.739402     190.029838"
      ]
     },
     "metadata": {},
     "output_type": "display_data"
    },
    {
     "data": {
      "text/plain": [
       "'corr region_3'"
      ]
     },
     "metadata": {},
     "output_type": "display_data"
    },
    {
     "data": {
      "text/html": [
       "<div>\n",
       "<style scoped>\n",
       "    .dataframe tbody tr th:only-of-type {\n",
       "        vertical-align: middle;\n",
       "    }\n",
       "\n",
       "    .dataframe tbody tr th {\n",
       "        vertical-align: top;\n",
       "    }\n",
       "\n",
       "    .dataframe thead th {\n",
       "        text-align: right;\n",
       "    }\n",
       "</style>\n",
       "<table border=\"1\" class=\"dataframe\">\n",
       "  <thead>\n",
       "    <tr style=\"text-align: right;\">\n",
       "      <th></th>\n",
       "      <th>f0</th>\n",
       "      <th>f1</th>\n",
       "      <th>f2</th>\n",
       "      <th>product</th>\n",
       "    </tr>\n",
       "  </thead>\n",
       "  <tbody>\n",
       "    <tr>\n",
       "      <th>f0</th>\n",
       "      <td>1.000000</td>\n",
       "      <td>0.000528</td>\n",
       "      <td>-0.000448</td>\n",
       "      <td>-0.001987</td>\n",
       "    </tr>\n",
       "    <tr>\n",
       "      <th>f1</th>\n",
       "      <td>0.000528</td>\n",
       "      <td>1.000000</td>\n",
       "      <td>0.000779</td>\n",
       "      <td>-0.001012</td>\n",
       "    </tr>\n",
       "    <tr>\n",
       "      <th>f2</th>\n",
       "      <td>-0.000448</td>\n",
       "      <td>0.000779</td>\n",
       "      <td>1.000000</td>\n",
       "      <td>0.445871</td>\n",
       "    </tr>\n",
       "    <tr>\n",
       "      <th>product</th>\n",
       "      <td>-0.001987</td>\n",
       "      <td>-0.001012</td>\n",
       "      <td>0.445871</td>\n",
       "      <td>1.000000</td>\n",
       "    </tr>\n",
       "  </tbody>\n",
       "</table>\n",
       "</div>"
      ],
      "text/plain": [
       "               f0        f1        f2   product\n",
       "f0       1.000000  0.000528 -0.000448 -0.001987\n",
       "f1       0.000528  1.000000  0.000779 -0.001012\n",
       "f2      -0.000448  0.000779  1.000000  0.445871\n",
       "product -0.001987 -0.001012  0.445871  1.000000"
      ]
     },
     "metadata": {},
     "output_type": "display_data"
    },
    {
     "data": {
      "text/plain": [
       "'nunique region_3'"
      ]
     },
     "metadata": {},
     "output_type": "display_data"
    },
    {
     "data": {
      "text/plain": [
       "id          99996\n",
       "f0         100000\n",
       "f1         100000\n",
       "f2         100000\n",
       "product    100000\n",
       "dtype: int64"
      ]
     },
     "metadata": {},
     "output_type": "display_data"
    },
    {
     "name": "stdout",
     "output_type": "stream",
     "text": [
      "enf of region_3\n",
      "**************************************************\n",
      "\n",
      "\n"
     ]
    }
   ],
   "source": [
    "for key in dick_data:\n",
    "    print(key)\n",
    "    display(\n",
    "        f'head {key}',\n",
    "        dick_data[key].head(),\n",
    "        f'dtypes {key}',\n",
    "        dick_data[key].dtypes,\n",
    "        f'isna {key}',\n",
    "        dick_data[key].isna().sum(),\n",
    "        f'duplicated {key}',\n",
    "        dick_data[key].duplicated().sum(),\n",
    "        f'describe {key}',\n",
    "        dick_data[key].describe(),\n",
    "        f'corr {key}',\n",
    "        dick_data[key].corr(),\n",
    "        f'nunique {key}',\n",
    "        dick_data[key].nunique(),\n",
    "    )\n",
    "    print(f'enf of {key}', '*'*50,'\\n',sep='\\n')"
   ]
  },
  {
   "cell_type": "code",
   "execution_count": 5,
   "metadata": {},
   "outputs": [
    {
     "data": {
      "image/png": "[encoded data removed]",
      "text/plain": [
       "<Figure size 1440x216 with 4 Axes>"
      ]
     },
     "metadata": {
      "needs_background": "light"
     },
     "output_type": "display_data"
    },
    {
     "data": {
      "image/png": "[encoded data removed]",
      "text/plain": [
       "<Figure size 1440x216 with 4 Axes>"
      ]
     },
     "metadata": {
      "needs_background": "light"
     },
     "output_type": "display_data"
    },
    {
     "data": {
      "image/png": "[encoded data removed]",
      "text/plain": [
       "<Figure size 1440x216 with 4 Axes>"
      ]
     },
     "metadata": {
      "needs_background": "light"
     },
     "output_type": "display_data"
    }
   ],
   "source": [
    "colors=['blue', '#800000', '#00BFFF']\n",
    "for nums, key in enumerate(dick_data):\n",
    "    col = list(dick_data[key].select_dtypes(exclude=['object']).columns)\n",
    "    \n",
    "    fig, ax = plt.subplots(nrows=1, ncols=len(col), figsize=(20,3))\n",
    "    fig.suptitle(f'распределение значений в {key}', fontsize=16, fontweight='bold')\n",
    "    for num, item in enumerate(col):\n",
    "        sns.histplot(\n",
    "            ax=ax[num],\n",
    "            x=dick_data[key][item],\n",
    "            kde=False,\n",
    "            bins=int(90),\n",
    "            color=colors[nums],\n",
    "        )\n",
    "    \n",
    "    plt.subplots_adjust(hspace=.5, wspace=0.45)    \n",
    "    plt.show()"
   ]
  },
  {
   "cell_type": "markdown",
   "metadata": {},
   "source": [
    "во втором регионе значения расположены линейно.."
   ]
  },
  {
   "cell_type": "code",
   "execution_count": 6,
   "metadata": {},
   "outputs": [
    {
     "data": {
      "image/png": "[encoded data removed]",
      "text/plain": [
       "<Figure size 720x720 with 14 Axes>"
      ]
     },
     "metadata": {
      "needs_background": "light"
     },
     "output_type": "display_data"
    }
   ],
   "source": [
    "sns.pairplot(\n",
    "    dick_data['region_2'],\n",
    "        corner=True\n",
    "    )\n",
    "plt.show()"
   ]
  },
  {
   "cell_type": "markdown",
   "metadata": {},
   "source": [
    "отношение почти всех данных линейное. а корреляция f2 и product очень сильная\n",
    "    \n",
    "<s>\"мы не знаем что это такое, если бы мы знали что это такое...\"</s>"
   ]
  },
  {
   "cell_type": "markdown",
   "metadata": {},
   "source": [
    "### Краткий вывод"
   ]
  },
  {
   "cell_type": "markdown",
   "metadata": {},
   "source": [
    "в ходе работы над разделом были загружены данные из 3-х наборов данных. \n",
    "во всех наборах:\n",
    "* типы данных соответствуют содержанию;\n",
    "* отсутствуют пропуски в данных;\n",
    "* присутствует корреляция некоторых параметров с целевым значением ;\n",
    "* присутствует столбец id, который будет мешать обучению\n",
    "* во втором регионе данные расположены странно"
   ]
  },
  {
   "cell_type": "markdown",
   "metadata": {},
   "source": [
    "## Обучение и проверка модели"
   ]
  },
  {
   "cell_type": "markdown",
   "metadata": {},
   "source": [
    "по условиям проекта:\n",
    "\n",
    "Для обучения модели подходит только линейная регрессия (остальные — недостаточно предсказуемые)."
   ]
  },
  {
   "cell_type": "code",
   "execution_count": 7,
   "metadata": {},
   "outputs": [],
   "source": [
    "def split_data(data_:pd.DataFrame, random_st)->dict:\n",
    "    train_data, valid_data, train_target, valid_target = train_test_split(\n",
    "        data_.drop('product', axis=1), data_['product'], test_size=.25, random_state=random_st)\n",
    "    return {\n",
    "        \n",
    "        'train_data': train_data,\n",
    "        'valid_data': valid_data,\n",
    "        'train_target': train_target,\n",
    "        'valid_target': valid_target\n",
    "    }"
   ]
  },
  {
   "cell_type": "code",
   "execution_count": 8,
   "metadata": {},
   "outputs": [],
   "source": [
    "dick_data_learn=dict()\n",
    "for key in dick_data:\n",
    "    dick_data_learn[key] = split_data(dick_data[key], 12345)"
   ]
  },
  {
   "cell_type": "markdown",
   "metadata": {},
   "source": [
    "посмотрим на распределение по выборкам"
   ]
  },
  {
   "cell_type": "code",
   "execution_count": 9,
   "metadata": {},
   "outputs": [
    {
     "name": "stdout",
     "output_type": "stream",
     "text": [
      "region_1 \n",
      "\n",
      "доля train_data = 75.0%\n",
      "доля valid_data = 25.0%\n",
      "enf of region_1\n",
      "**************************************************\n",
      "\n",
      "region_2 \n",
      "\n",
      "доля train_data = 75.0%\n",
      "доля valid_data = 25.0%\n",
      "enf of region_2\n",
      "**************************************************\n",
      "\n",
      "region_3 \n",
      "\n",
      "доля train_data = 75.0%\n",
      "доля valid_data = 25.0%\n",
      "enf of region_3\n",
      "**************************************************\n",
      "\n"
     ]
    }
   ],
   "source": [
    "for key in dick_data_learn:\n",
    "    print(key, '\\n')\n",
    "    for sample in list(dick_data_learn[key].keys())[0: 2]:\n",
    "        print(f'доля {sample} = {dick_data_learn[key][sample].shape[0]/dick_data[key].shape[0]:.1%}')\n",
    "    print(f'enf of {key}', '*'*50, '', sep='\\n')"
   ]
  },
  {
   "cell_type": "markdown",
   "metadata": {},
   "source": [
    "ТК id на выборках может помешать обучению модели удалим это поле из выборок и сохраним их в отдельное поле словаря.\n",
    "для уменьшения масштаба стандартизируем поля 'f0', 'f1', 'f2'. для этого выберем столбцы и предадим их классу RobustScaler библиотеки sklearn"
   ]
  },
  {
   "cell_type": "code",
   "execution_count": 10,
   "metadata": {},
   "outputs": [
    {
     "data": {
      "text/html": [
       "<div>\n",
       "<style scoped>\n",
       "    .dataframe tbody tr th:only-of-type {\n",
       "        vertical-align: middle;\n",
       "    }\n",
       "\n",
       "    .dataframe tbody tr th {\n",
       "        vertical-align: top;\n",
       "    }\n",
       "\n",
       "    .dataframe thead th {\n",
       "        text-align: right;\n",
       "    }\n",
       "</style>\n",
       "<table border=\"1\" class=\"dataframe\">\n",
       "  <thead>\n",
       "    <tr style=\"text-align: right;\">\n",
       "      <th></th>\n",
       "      <th>id</th>\n",
       "      <th>f0</th>\n",
       "      <th>f1</th>\n",
       "      <th>f2</th>\n",
       "    </tr>\n",
       "  </thead>\n",
       "  <tbody>\n",
       "    <tr>\n",
       "      <th>27212</th>\n",
       "      <td>sn8dh</td>\n",
       "      <td>0.022450</td>\n",
       "      <td>0.951034</td>\n",
       "      <td>2.197333</td>\n",
       "    </tr>\n",
       "    <tr>\n",
       "      <th>7866</th>\n",
       "      <td>oqj58</td>\n",
       "      <td>1.766731</td>\n",
       "      <td>0.007835</td>\n",
       "      <td>6.436602</td>\n",
       "    </tr>\n",
       "    <tr>\n",
       "      <th>62041</th>\n",
       "      <td>MaWjy</td>\n",
       "      <td>0.724514</td>\n",
       "      <td>0.666063</td>\n",
       "      <td>1.840177</td>\n",
       "    </tr>\n",
       "  </tbody>\n",
       "</table>\n",
       "</div>"
      ],
      "text/plain": [
       "          id        f0        f1        f2\n",
       "27212  sn8dh  0.022450  0.951034  2.197333\n",
       "7866   oqj58  1.766731  0.007835  6.436602\n",
       "62041  MaWjy  0.724514  0.666063  1.840177"
      ]
     },
     "execution_count": 10,
     "metadata": {},
     "output_type": "execute_result"
    }
   ],
   "source": [
    "dick_data_learn['region_1']['train_data'].head(3)"
   ]
  },
  {
   "cell_type": "code",
   "execution_count": 11,
   "metadata": {},
   "outputs": [],
   "source": [
    "column=['f0', 'f1', 'f2']\n",
    "for key in list(dick_data_learn):\n",
    "    \n",
    "    scaller = RobustScaler().fit(dick_data_learn[key]['train_data']\n",
    "                                 [column])\n",
    "    \n",
    "    for sample in list(dick_data_learn[key]):\n",
    "        try:\n",
    "            dick_data_learn[key][sample + '_id'] = dick_data_learn[key][sample].id\n",
    "            \n",
    "            dick_data_learn[key][sample] = pd.DataFrame(scaller.transform(\n",
    "                dick_data_learn[key][sample]\n",
    "                [\n",
    "                    column\n",
    "                ]), columns=column)\n",
    "            \n",
    "        except:\n",
    "            dick_data_learn[key][sample].reset_index(inplace=True, drop=True)"
   ]
  },
  {
   "cell_type": "markdown",
   "metadata": {},
   "source": [
    "на примере первого региона посмотрим, на полученный результат"
   ]
  },
  {
   "cell_type": "code",
   "execution_count": 12,
   "metadata": {
    "scrolled": true
   },
   "outputs": [
    {
     "data": {
      "text/html": [
       "<div>\n",
       "<style scoped>\n",
       "    .dataframe tbody tr th:only-of-type {\n",
       "        vertical-align: middle;\n",
       "    }\n",
       "\n",
       "    .dataframe tbody tr th {\n",
       "        vertical-align: top;\n",
       "    }\n",
       "\n",
       "    .dataframe thead th {\n",
       "        text-align: right;\n",
       "    }\n",
       "</style>\n",
       "<table border=\"1\" class=\"dataframe\">\n",
       "  <thead>\n",
       "    <tr style=\"text-align: right;\">\n",
       "      <th></th>\n",
       "      <th>f0</th>\n",
       "      <th>f1</th>\n",
       "      <th>f2</th>\n",
       "    </tr>\n",
       "  </thead>\n",
       "  <tbody>\n",
       "    <tr>\n",
       "      <th>0</th>\n",
       "      <td>-0.415850</td>\n",
       "      <td>0.779106</td>\n",
       "      <td>-0.072819</td>\n",
       "    </tr>\n",
       "    <tr>\n",
       "      <th>1</th>\n",
       "      <td>1.106004</td>\n",
       "      <td>-0.268671</td>\n",
       "      <td>0.884327</td>\n",
       "    </tr>\n",
       "    <tr>\n",
       "      <th>2</th>\n",
       "      <td>0.196688</td>\n",
       "      <td>0.462538</td>\n",
       "      <td>-0.153458</td>\n",
       "    </tr>\n",
       "  </tbody>\n",
       "</table>\n",
       "</div>"
      ],
      "text/plain": [
       "         f0        f1        f2\n",
       "0 -0.415850  0.779106 -0.072819\n",
       "1  1.106004 -0.268671  0.884327\n",
       "2  0.196688  0.462538 -0.153458"
      ]
     },
     "execution_count": 12,
     "metadata": {},
     "output_type": "execute_result"
    }
   ],
   "source": [
    "dick_data_learn['region_1']['train_data'].head(3)"
   ]
  },
  {
   "cell_type": "markdown",
   "metadata": {},
   "source": [
    "обучим модель и сохраним MAE, RMSE в словарь, а в таблицу к валидационным данным добавим предсказание"
   ]
  },
  {
   "cell_type": "code",
   "execution_count": 13,
   "metadata": {},
   "outputs": [],
   "source": [
    "dick_eval = dict()\n",
    "for key in list(dick_data_learn):\n",
    "    model = LinearRegression()\n",
    "    model.fit(dick_data_learn[key]['train_data'],dick_data_learn[key]['train_target'])\n",
    "    dick_data_learn[key]['valid_target'] = pd.concat(\n",
    "        [\n",
    "            dick_data_learn[key]['valid_target'],\n",
    "            pd.Series(model.predict(dick_data_learn[key]['valid_data']))\n",
    "        ], axis=1, ignore_index=True,)\n",
    "    dick_data_learn[key]['valid_target'].columns = ['product', 'predict']\n",
    "    dick_eval[key] = dict()\n",
    "    \n",
    "    dick_eval[key]['rmse'] = mean_squared_error(\n",
    "        dick_data_learn[key]['valid_target']['product'],\n",
    "        dick_data_learn[key]['valid_target']['predict']) ** .5\n",
    "    \n",
    "    dick_eval[key]['mae'] = mean_absolute_error(\n",
    "        dick_data_learn[key]['valid_target']['product'],\n",
    "        dick_data_learn[key]['valid_target']['predict'])\n",
    "    dick_eval[key]['true_materials'] = dick_data_learn[key]['valid_target']['product'].mean()\n",
    "    dick_eval[key]['predict_materials'] = dick_data_learn[key]['valid_target']['predict'].mean()"
   ]
  },
  {
   "cell_type": "markdown",
   "metadata": {},
   "source": [
    "посмотрим на данные полученные после обучения модели и расчета метрик"
   ]
  },
  {
   "cell_type": "code",
   "execution_count": 14,
   "metadata": {
    "scrolled": true
   },
   "outputs": [
    {
     "data": {
      "text/html": [
       "<div>\n",
       "<style scoped>\n",
       "    .dataframe tbody tr th:only-of-type {\n",
       "        vertical-align: middle;\n",
       "    }\n",
       "\n",
       "    .dataframe tbody tr th {\n",
       "        vertical-align: top;\n",
       "    }\n",
       "\n",
       "    .dataframe thead th {\n",
       "        text-align: right;\n",
       "    }\n",
       "</style>\n",
       "<table border=\"1\" class=\"dataframe\">\n",
       "  <thead>\n",
       "    <tr style=\"text-align: right;\">\n",
       "      <th></th>\n",
       "      <th>region_1</th>\n",
       "      <th>region_2</th>\n",
       "      <th>region_3</th>\n",
       "    </tr>\n",
       "  </thead>\n",
       "  <tbody>\n",
       "    <tr>\n",
       "      <th>rmse</th>\n",
       "      <td>37.579422</td>\n",
       "      <td>0.893099</td>\n",
       "      <td>40.029709</td>\n",
       "    </tr>\n",
       "    <tr>\n",
       "      <th>mae</th>\n",
       "      <td>30.919601</td>\n",
       "      <td>0.718766</td>\n",
       "      <td>32.792652</td>\n",
       "    </tr>\n",
       "    <tr>\n",
       "      <th>true_materials</th>\n",
       "      <td>92.078597</td>\n",
       "      <td>68.723136</td>\n",
       "      <td>94.884233</td>\n",
       "    </tr>\n",
       "    <tr>\n",
       "      <th>predict_materials</th>\n",
       "      <td>92.592568</td>\n",
       "      <td>68.728547</td>\n",
       "      <td>94.965046</td>\n",
       "    </tr>\n",
       "  </tbody>\n",
       "</table>\n",
       "</div>"
      ],
      "text/plain": [
       "                    region_1   region_2   region_3\n",
       "rmse               37.579422   0.893099  40.029709\n",
       "mae                30.919601   0.718766  32.792652\n",
       "true_materials     92.078597  68.723136  94.884233\n",
       "predict_materials  92.592568  68.728547  94.965046"
      ]
     },
     "execution_count": 14,
     "metadata": {},
     "output_type": "execute_result"
    }
   ],
   "source": [
    "pd.DataFrame(dick_eval)"
   ]
  },
  {
   "cell_type": "markdown",
   "metadata": {},
   "source": [
    "### Краткий вывод"
   ]
  },
  {
   "cell_type": "markdown",
   "metadata": {},
   "source": [
    "на данном этапе:\n",
    "* каждый из 3-х наборов данных был разделен на 2 выборки:\n",
    " * тренировочную;\n",
    " * проверочную\n",
    "\n",
    "данные разделены в сотношении 3:1 \n",
    "* проверено распределение данных по выборкам\n",
    "* неинформативные данные удалены из наборов\n",
    "* для уменьшения масштаба стандартизированны поля 'f0', 'f1', 'f2'при помощи класса RobustScaler библиотеки sklearn\n",
    "* на тренировочных данных была обучена модель и на предсказании расчитаны метрики  MAE, RMSE\n",
    "* предсказания модели добавлено в таблицы к валидационным данным\n",
    "* `RMSE` - среднеквадратическое отклонение прогнозируемых значений от фактических. \n",
    "* `MAE` - среднее абсолютное отклонение между предсказанными значениями и фактическими  \n",
    " * Чем эти метрики ниже, тем лучше модель может «соответствовать» набору данных. Саые низкие показатели MAE И RMSE имеет второй регион  MAE = 0.718766, RMSE = 0.893099"
   ]
  },
  {
   "cell_type": "markdown",
   "metadata": {},
   "source": [
    "## Подготовка к расчёту прибыли"
   ]
  },
  {
   "cell_type": "markdown",
   "metadata": {},
   "source": [
    "по условиям проекта:\n",
    "\n",
    "При разведке региона исследуют 500 точек (all_counts), из которых с помощью машинного обучения нужно выбрать 200 лучших для разработки (counts). \n",
    "Бюджет на разработку скважин в регионе — 10 млрд рублей. (budget)\n",
    "Доход с каждой единицы продукта составляет 450 тыс. рублей, поскольку объём указан в тысячах баррелей. (price)\n",
    "После оценки рисков нужно оставить лишь те регионы, в которых вероятность убытков меньше 2.5%. (loss)"
   ]
  },
  {
   "cell_type": "code",
   "execution_count": 15,
   "metadata": {},
   "outputs": [],
   "source": [
    "ALL_COUNTS = 500\n",
    "COUNTS = 200\n",
    "BUDGET = 10 ** 10\n",
    "PRICE = 450 * 1000\n",
    "LOSS = 2.5"
   ]
  },
  {
   "cell_type": "code",
   "execution_count": 16,
   "metadata": {},
   "outputs": [
    {
     "name": "stdout",
     "output_type": "stream",
     "text": [
      "минимальный обьем для добычи по региону 22222 тыс. баррелей\n"
     ]
    }
   ],
   "source": [
    "min_vol_prod = BUDGET / PRICE\n",
    "print(f'минимальный обьем для добычи по региону {round(min_vol_prod)} тыс. баррелей')"
   ]
  },
  {
   "cell_type": "code",
   "execution_count": 17,
   "metadata": {},
   "outputs": [
    {
     "name": "stdout",
     "output_type": "stream",
     "text": [
      "минимальный обьем для добычи c скважины по региону 111 тыс. баррелей\n"
     ]
    }
   ],
   "source": [
    "min_vol_prod_hole = min_vol_prod / COUNTS\n",
    "print(f'минимальный обьем для добычи c скважины по региону {round(min_vol_prod_hole)} тыс. баррелей')"
   ]
  },
  {
   "cell_type": "markdown",
   "metadata": {},
   "source": [
    "посмотрим сколько нехватает по каждому из регионов"
   ]
  },
  {
   "cell_type": "code",
   "execution_count": 18,
   "metadata": {},
   "outputs": [
    {
     "name": "stdout",
     "output_type": "stream",
     "text": [
      "разница между предсказанным средним и минимальным расчетным объемом добычи по региону:\n",
      "region_1:\n",
      "-18.518543326730764 \n",
      "\n",
      "region_2:\n",
      "-42.38256421566511 \n",
      "\n",
      "region_3:\n",
      "-16.146065143106227 \n",
      "\n"
     ]
    }
   ],
   "source": [
    "print('разница между предсказанным средним \\\n",
    "и минимальным расчетным объемом добычи по региону:')\n",
    "for key in list(dick_eval):\n",
    "    print(f'{key}:')\n",
    "    print(dick_eval[key][\"predict_materials\"] - min_vol_prod_hole, '\\n')"
   ]
  },
  {
   "cell_type": "markdown",
   "metadata": {},
   "source": [
    "минимальный обьем для добычи по региону =~ 111, а у нас средний предсказанный обьем по регионам равен 92.674531, 68.794570, 94.884307\n",
    "\n",
    "все средние в минусе"
   ]
  },
  {
   "cell_type": "markdown",
   "metadata": {},
   "source": [
    "посмотрим на предсказание модели"
   ]
  },
  {
   "cell_type": "markdown",
   "metadata": {},
   "source": [
    "### Краткий вывод"
   ]
  },
  {
   "cell_type": "markdown",
   "metadata": {},
   "source": [
    "при работе над разделом было рассчитано:\n",
    "* минимальный обьем добычи ископаемых, по региону, примерно равный 22222 тыс. баррелей\n",
    "* минимальный обьем добычи ископаемых, на сквжаину, примерно равный 111 тыс. баррелей\n",
    "* разница между предсказанным средним и минимальным расчетным объемом добычи по региону (для всех регионов занчения находятся в отрицательной плоскости)"
   ]
  },
  {
   "cell_type": "markdown",
   "metadata": {},
   "source": [
    "## Расчёт прибыли и рисков "
   ]
  },
  {
   "cell_type": "markdown",
   "metadata": {},
   "source": [
    "функция для расчета прибыли"
   ]
  },
  {
   "cell_type": "code",
   "execution_count": 26,
   "metadata": {},
   "outputs": [],
   "source": [
    "def sum_profit(data:pd.DataFrame, sort_col:str='predict',\n",
    "               get_col:str='product', price_f:int=450 * 1000,\n",
    "               budget_f:int=10 ** 10, count:int=200):\n",
    " \n",
    "    data = data.sort_values(by=[sort_col], ascending=False)[get_col][: count]\n",
    "    result = (data.sum() * PRICE - budget_f) / 10 ** 9\n",
    "    return result"
   ]
  },
  {
   "cell_type": "markdown",
   "metadata": {},
   "source": [
    "предадим 200 лучших скважин с максимальными значениями предсказаний функции"
   ]
  },
  {
   "cell_type": "code",
   "execution_count": 27,
   "metadata": {},
   "outputs": [
    {
     "name": "stdout",
     "output_type": "stream",
     "text": [
      " доход 200 лучших скважин region_1 по предсказаниям 3.3208260431398506 млрд. р.\n",
      "\n",
      " ********** \n",
      "\n",
      " доход 200 лучших скважин region_2 по предсказаниям 2.4150866966815108 млрд. р.\n",
      "\n",
      " ********** \n",
      "\n",
      " доход 200 лучших скважин region_3 по предсказаниям 2.7103499635998327 млрд. р.\n",
      "\n",
      " ********** \n",
      "\n"
     ]
    }
   ],
   "source": [
    "for key in list(dick_data_learn):\n",
    "    predict_profit = sum_profit(dick_data_learn[key]['valid_target'])\n",
    "    dick_eval[key]['predict_profit'] = predict_profit\n",
    "    \n",
    "    print(f' доход {COUNTS} лучших скважин {key} по предсказаниям {predict_profit} млрд. р.')\n",
    "    print('\\n', '*' * 10, '\\n')"
   ]
  },
  {
   "cell_type": "markdown",
   "metadata": {},
   "source": [
    "первый регион в лидерах по максимальной прибыли, при добычи из лучших скважин региона "
   ]
  },
  {
   "cell_type": "code",
   "execution_count": 21,
   "metadata": {},
   "outputs": [
    {
     "data": {
      "text/html": [
       "<div>\n",
       "<style scoped>\n",
       "    .dataframe tbody tr th:only-of-type {\n",
       "        vertical-align: middle;\n",
       "    }\n",
       "\n",
       "    .dataframe tbody tr th {\n",
       "        vertical-align: top;\n",
       "    }\n",
       "\n",
       "    .dataframe thead th {\n",
       "        text-align: right;\n",
       "    }\n",
       "</style>\n",
       "<table border=\"1\" class=\"dataframe\">\n",
       "  <thead>\n",
       "    <tr style=\"text-align: right;\">\n",
       "      <th></th>\n",
       "      <th>region_1</th>\n",
       "      <th>region_2</th>\n",
       "      <th>region_3</th>\n",
       "    </tr>\n",
       "  </thead>\n",
       "  <tbody>\n",
       "    <tr>\n",
       "      <th>rmse</th>\n",
       "      <td>37.579422</td>\n",
       "      <td>0.893099</td>\n",
       "      <td>40.029709</td>\n",
       "    </tr>\n",
       "    <tr>\n",
       "      <th>mae</th>\n",
       "      <td>30.919601</td>\n",
       "      <td>0.718766</td>\n",
       "      <td>32.792652</td>\n",
       "    </tr>\n",
       "    <tr>\n",
       "      <th>true_materials</th>\n",
       "      <td>92.078597</td>\n",
       "      <td>68.723136</td>\n",
       "      <td>94.884233</td>\n",
       "    </tr>\n",
       "    <tr>\n",
       "      <th>predict_materials</th>\n",
       "      <td>92.592568</td>\n",
       "      <td>68.728547</td>\n",
       "      <td>94.965046</td>\n",
       "    </tr>\n",
       "    <tr>\n",
       "      <th>predict_profit</th>\n",
       "      <td>3.320826</td>\n",
       "      <td>2.415087</td>\n",
       "      <td>2.710350</td>\n",
       "    </tr>\n",
       "  </tbody>\n",
       "</table>\n",
       "</div>"
      ],
      "text/plain": [
       "                    region_1   region_2   region_3\n",
       "rmse               37.579422   0.893099  40.029709\n",
       "mae                30.919601   0.718766  32.792652\n",
       "true_materials     92.078597  68.723136  94.884233\n",
       "predict_materials  92.592568  68.728547  94.965046\n",
       "predict_profit      3.320826   2.415087   2.710350"
      ]
     },
     "execution_count": 21,
     "metadata": {},
     "output_type": "execute_result"
    }
   ],
   "source": [
    "pd.DataFrame(dick_eval)"
   ]
  },
  {
   "cell_type": "markdown",
   "metadata": {},
   "source": [
    "Применим технику Bootstrap с 1000 выборок, чтобы найти распределение прибыли.\n",
    "\n",
    "создадим функцию"
   ]
  },
  {
   "cell_type": "code",
   "execution_count": 22,
   "metadata": {},
   "outputs": [],
   "source": [
    "def min_max_lines(\n",
    "    c_max:float,\n",
    "    s_max:float,\n",
    "    mean:float,\n",
    "    data,\n",
    "    reg:str\n",
    "):\n",
    "    g = sns.histplot(data=data, color='blue')\n",
    "    # vertical lines\n",
    "    g.vlines(x=[c_max, mean, s_max],  ymin=0, ymax=125, colors=['orange', '#00BFFF', 'orange'], ls='--', lw=2)\n",
    "    plt.title(reg)\n",
    "    plt.show()"
   ]
  },
  {
   "cell_type": "code",
   "execution_count": 23,
   "metadata": {},
   "outputs": [],
   "source": [
    "def func_b_strap(data:pd.DataFrame, n=ALL_COUNTS, samples=1000, state=None, reg=None):\n",
    "    if not state:\n",
    "        state = RandomState(12345)\n",
    "    values = []\n",
    "    \n",
    "    for i in range(samples):\n",
    "        target_subsample = data['valid_target'].sample(n=n, replace=True, random_state=state)\n",
    "        values.append(sum_profit(target_subsample, count=COUNTS))\n",
    "    \n",
    "    values = pd.Series(values)\n",
    "    \n",
    "    lower = values.quantile(LOSS / 100)\n",
    "    upper = values.quantile((100 - LOSS) / 100)\n",
    "    \n",
    "    values_mean = values.mean()\n",
    "    risk = (values < 0).mean()\n",
    "    min_max_lines(lower, upper, values_mean, values, reg)\n",
    "    return lower, upper, values_mean, risk"
   ]
  },
  {
   "cell_type": "code",
   "execution_count": 24,
   "metadata": {},
   "outputs": [
    {
     "data": {
      "image/png": "[encoded data removed]",
      "text/plain": [
       "<Figure size 432x288 with 1 Axes>"
      ]
     },
     "metadata": {
      "needs_background": "light"
     },
     "output_type": "display_data"
    },
    {
     "data": {
      "image/png": "[encoded data removed]",
      "text/plain": [
       "<Figure size 432x288 with 1 Axes>"
      ]
     },
     "metadata": {
      "needs_background": "light"
     },
     "output_type": "display_data"
    },
    {
     "data": {
      "image/png": "[encoded data removed]",
      "text/plain": [
       "<Figure size 432x288 with 1 Axes>"
      ]
     },
     "metadata": {
      "needs_background": "light"
     },
     "output_type": "display_data"
    }
   ],
   "source": [
    "result = dict()\n",
    "for key in list(dick_data_learn):\n",
    "    report = func_b_strap(dick_data_learn[key], state=RandomState(12345), reg=key)\n",
    "    result[key] = {'interval_95%': f'{report[0]:.4f} : {report[1]:.4f}',\n",
    "                              'mean_values': report[2],\n",
    "                              'risk': f'{report[3]:.2%}'}"
   ]
  },
  {
   "cell_type": "markdown",
   "metadata": {},
   "source": [
    "посмотрим, что получили"
   ]
  },
  {
   "cell_type": "code",
   "execution_count": 25,
   "metadata": {},
   "outputs": [
    {
     "data": {
      "text/html": [
       "<div>\n",
       "<style scoped>\n",
       "    .dataframe tbody tr th:only-of-type {\n",
       "        vertical-align: middle;\n",
       "    }\n",
       "\n",
       "    .dataframe tbody tr th {\n",
       "        vertical-align: top;\n",
       "    }\n",
       "\n",
       "    .dataframe thead th {\n",
       "        text-align: right;\n",
       "    }\n",
       "</style>\n",
       "<table border=\"1\" class=\"dataframe\">\n",
       "  <thead>\n",
       "    <tr style=\"text-align: right;\">\n",
       "      <th></th>\n",
       "      <th>region_1</th>\n",
       "      <th>region_2</th>\n",
       "      <th>region_3</th>\n",
       "    </tr>\n",
       "  </thead>\n",
       "  <tbody>\n",
       "    <tr>\n",
       "      <th>interval_95%</th>\n",
       "      <td>-0.1112 : 0.9098</td>\n",
       "      <td>0.0338 : 0.8523</td>\n",
       "      <td>-0.1634 : 0.9504</td>\n",
       "    </tr>\n",
       "    <tr>\n",
       "      <th>mean_values</th>\n",
       "      <td>0.396165</td>\n",
       "      <td>0.456045</td>\n",
       "      <td>0.404404</td>\n",
       "    </tr>\n",
       "    <tr>\n",
       "      <th>risk</th>\n",
       "      <td>6.90%</td>\n",
       "      <td>1.50%</td>\n",
       "      <td>7.60%</td>\n",
       "    </tr>\n",
       "  </tbody>\n",
       "</table>\n",
       "</div>"
      ],
      "text/plain": [
       "                      region_1         region_2          region_3\n",
       "interval_95%  -0.1112 : 0.9098  0.0338 : 0.8523  -0.1634 : 0.9504\n",
       "mean_values           0.396165         0.456045          0.404404\n",
       "risk                     6.90%            1.50%             7.60%"
      ]
     },
     "execution_count": 25,
     "metadata": {},
     "output_type": "execute_result"
    }
   ],
   "source": [
    "pd.DataFrame(result)"
   ]
  },
  {
   "cell_type": "markdown",
   "metadata": {},
   "source": [
    "первый и третий регионы имеют очень высокую степень риска > 2.5%\n",
    "\n",
    "второй регион соответствует условиям заказчика"
   ]
  },
  {
   "cell_type": "markdown",
   "metadata": {},
   "source": [
    "### краткий вывод"
   ]
  },
  {
   "cell_type": "markdown",
   "metadata": {},
   "source": [
    "Входе работы над разделом:\n",
    "* создана функция для расчета прибыли;\n",
    "* расчитна максимальная прибыль при разработке региона (3.32, 2.415, 2.71 (в млрд. р.))\n",
    "* методом bootstrap расчитана средняя ожидаемая прибыль, доверительный инервал в 95% и риски, для каждого региона\n",
    "* первый и третий регионы имеют очень высокую степень риска > 2.5%\n",
    "\n",
    "* второй регион соответствует условиям \n",
    "<div class=\"alert alert-info\" style=\"border:solid blue 2px; padding: 0px\">\n",
    "    однако непонятно что там творится в данных. нужно уточнить данные у заказчика\n"
   ]
  },
  {
   "cell_type": "markdown",
   "metadata": {},
   "source": [
    "## Общий вывод"
   ]
  },
  {
   "cell_type": "markdown",
   "metadata": {},
   "source": [
    "В ходе реализации проекта были проведены следующие этапы работы:\n",
    "* Загрузка и подготовка данных\n",
    " * загружены и рассмотрены предоставленные наборы данных\n",
    " * обнаружен столбец (id), который не имеет ценности, а данные хранящиеся в нем будут мешать обучению модели\n",
    " * обнаружены и рассмотрены корреляция признаков набора данных с целевым\n",
    " \n",
    " \n",
    "* на этапе обучения и проверки модели выполнено:\n",
    " * каждый из 3-х наборов данных был разделен на 2 выборки тренировочную и проверочную. данные разделены в сотношении 3:1 \n",
    " * проверено распределение данных по выборкам\n",
    " * неинформативные и мещающие данные удалены из наборов\n",
    " * для уменьшения масштаба стандартизированны поля 'f0', 'f1', 'f2' при помощи класса RobustScaler библиотеки sklearn\n",
    " * на тренировочных данных была обучена модель\n",
    " * на основе обучения и проверочной выборки получены предсказания модели и расчитаны метрики MAE, RMSE\n",
    " * RMSE - среднеквадратическое отклонение прогнозируемых значений от фактических.\n",
    " * MAE - среднее абсолютное отклонение между предсказанными значениями и фактическими\n",
    "\n",
    "   * Чем эти метрики ниже, тем лучше модель может «соответствовать» набору данных. Саые низкие показатели MAE И RMSE имеет второй регион MAE = 0.720873, RMSE = 0.895944\n",
    " * предсказания модели добавлено в таблицы к валидационным данным\n",
    "\n",
    "\n",
    "* при работе над разделом было рассчитано:\n",
    " * минимальный обьем добычи ископаемых, по региону, примерно равный 22222 тыс. баррелей\n",
    " * минимальный обьем добычи ископаемых, на сквжаину, примерно равный 111 тыс. баррелей\n",
    " * разница между предсказанным средним и минимальным расчетным объемом добычи по региону (для всех регионов занчения находятся в отрицательной плоскости)\n",
    "\n",
    "\n",
    "* при расчёте прибыли и рисков выполнен:\n",
    " * расчет максимальной прибыли по регионам на 200 лучших скважин. расчет произведен по разведанным и с учетом предсказания модели\n",
    "  /*  максимальноая прибыль по:\n",
    "   * первому региону  =  3.32082604313 млрд. р.\n",
    "   * второму региону  =  2.41508669668 млрд. р.\n",
    "   * третьему региону =  2.71034996359 млрд. р.\n",
    " * методом bootstrap расчитана средняя ожидаемая прибыль, доверительный инервал в 95% и риски, для каждого региона\n",
    "  /* по результатам расчета рисков первый и третий регионы имеют очень высокую степень риска > 2.5%, что не устраивает заказчика и несет большую вероятность убытков\n",
    " /* второй регион соответствует условиям заказчика со степенью риска 1,5%\n",
    " /* предпологаемым доходом от 0.0338 до 0.8523 млрд. р., средним доходом в 0.456045 млрд. р., максимально возможным доходом 2.415 млрд. р.\n",
    " \n",
    " обратить внимание заказчика на то, что если в данных была ошибка расчеты нужн повторить, тк использование испорченных данных может привести к убыткам"
   ]
  }
 ],
 "metadata": {
  "ExecuteTimeLog": [
   {
    "duration": 442,
    "start_time": "2023-05-01T21:52:34.746Z"
   },
   {
    "duration": 1607,
    "start_time": "2023-05-01T21:55:15.574Z"
   },
   {
    "duration": 21,
    "start_time": "2023-05-01T21:56:18.750Z"
   },
   {
    "duration": 12,
    "start_time": "2023-05-01T21:56:46.686Z"
   },
   {
    "duration": 11,
    "start_time": "2023-05-01T21:56:53.662Z"
   },
   {
    "duration": 49,
    "start_time": "2023-05-02T18:53:18.842Z"
   },
   {
    "duration": 539,
    "start_time": "2023-05-02T18:53:22.794Z"
   },
   {
    "duration": 926,
    "start_time": "2023-05-02T18:53:23.336Z"
   },
   {
    "duration": 24,
    "start_time": "2023-05-02T18:53:24.264Z"
   },
   {
    "duration": 17,
    "start_time": "2023-05-02T18:53:57.466Z"
   },
   {
    "duration": 8,
    "start_time": "2023-05-02T18:54:03.817Z"
   },
   {
    "duration": 4,
    "start_time": "2023-05-02T18:54:13.850Z"
   },
   {
    "duration": 15,
    "start_time": "2023-05-02T18:54:17.360Z"
   },
   {
    "duration": 12,
    "start_time": "2023-05-02T18:54:39.130Z"
   },
   {
    "duration": 14,
    "start_time": "2023-05-02T18:54:45.195Z"
   },
   {
    "duration": 4,
    "start_time": "2023-05-02T18:55:05.690Z"
   },
   {
    "duration": 56,
    "start_time": "2023-05-02T18:55:31.800Z"
   },
   {
    "duration": 53,
    "start_time": "2023-05-02T18:55:36.231Z"
   },
   {
    "duration": 14,
    "start_time": "2023-05-02T18:55:44.784Z"
   },
   {
    "duration": 17,
    "start_time": "2023-05-02T18:55:48.145Z"
   },
   {
    "duration": 15,
    "start_time": "2023-05-02T18:56:15.903Z"
   },
   {
    "duration": 3,
    "start_time": "2023-05-02T18:56:21.751Z"
   },
   {
    "duration": 3,
    "start_time": "2023-05-02T18:56:36.966Z"
   },
   {
    "duration": 3,
    "start_time": "2023-05-02T18:56:40.462Z"
   },
   {
    "duration": 28,
    "start_time": "2023-05-02T18:56:56.791Z"
   },
   {
    "duration": 3,
    "start_time": "2023-05-02T18:57:17.840Z"
   },
   {
    "duration": 5,
    "start_time": "2023-05-02T18:57:20.733Z"
   },
   {
    "duration": 12,
    "start_time": "2023-05-02T18:57:29.758Z"
   },
   {
    "duration": 16,
    "start_time": "2023-05-02T18:57:40.607Z"
   },
   {
    "duration": 20,
    "start_time": "2023-05-02T18:58:48.254Z"
   },
   {
    "duration": 3,
    "start_time": "2023-05-02T18:58:55.612Z"
   },
   {
    "duration": 4,
    "start_time": "2023-05-02T18:59:03.741Z"
   },
   {
    "duration": 390,
    "start_time": "2023-05-02T19:01:29.602Z"
   },
   {
    "duration": 425,
    "start_time": "2023-05-02T19:01:58.795Z"
   },
   {
    "duration": 483,
    "start_time": "2023-05-02T19:02:03.540Z"
   },
   {
    "duration": 1464,
    "start_time": "2023-05-02T19:02:18.381Z"
   },
   {
    "duration": 30,
    "start_time": "2023-05-02T19:02:36.306Z"
   },
   {
    "duration": 391,
    "start_time": "2023-05-02T19:02:58.170Z"
   },
   {
    "duration": 426,
    "start_time": "2023-05-02T19:03:41.708Z"
   },
   {
    "duration": 380,
    "start_time": "2023-05-02T19:04:10.027Z"
   },
   {
    "duration": 19,
    "start_time": "2023-05-02T19:04:29.683Z"
   },
   {
    "duration": 4,
    "start_time": "2023-05-02T19:05:21.826Z"
   },
   {
    "duration": 31,
    "start_time": "2023-05-02T19:05:40.377Z"
   },
   {
    "duration": 27,
    "start_time": "2023-05-02T19:07:31.864Z"
   },
   {
    "duration": 535,
    "start_time": "2023-05-02T19:08:05.823Z"
   },
   {
    "duration": 39,
    "start_time": "2023-05-02T19:08:07.336Z"
   },
   {
    "duration": 35,
    "start_time": "2023-05-02T19:08:25.432Z"
   },
   {
    "duration": 31,
    "start_time": "2023-05-02T19:08:32.023Z"
   },
   {
    "duration": 120,
    "start_time": "2023-05-02T19:09:29.087Z"
   },
   {
    "duration": 72,
    "start_time": "2023-05-02T19:12:14.190Z"
   },
   {
    "duration": 344,
    "start_time": "2023-05-02T19:13:25.659Z"
   },
   {
    "duration": 343,
    "start_time": "2023-05-02T19:14:22.981Z"
   },
   {
    "duration": 348,
    "start_time": "2023-05-02T19:14:54.667Z"
   },
   {
    "duration": 324,
    "start_time": "2023-05-02T19:15:13.179Z"
   },
   {
    "duration": 441,
    "start_time": "2023-05-02T19:15:51.940Z"
   },
   {
    "duration": 543,
    "start_time": "2023-05-02T19:18:37.066Z"
   },
   {
    "duration": 416,
    "start_time": "2023-05-02T19:19:15.617Z"
   },
   {
    "duration": 496,
    "start_time": "2023-05-02T19:20:15.466Z"
   },
   {
    "duration": 453,
    "start_time": "2023-05-02T19:20:57.308Z"
   },
   {
    "duration": 390,
    "start_time": "2023-05-02T19:21:58.368Z"
   },
   {
    "duration": 490,
    "start_time": "2023-05-02T19:23:15.182Z"
   },
   {
    "duration": 445,
    "start_time": "2023-05-02T19:24:10.806Z"
   },
   {
    "duration": 10,
    "start_time": "2023-05-02T19:24:41.682Z"
   },
   {
    "duration": 379,
    "start_time": "2023-05-02T19:24:46.381Z"
   },
   {
    "duration": 454,
    "start_time": "2023-05-02T19:24:57.087Z"
   },
   {
    "duration": 390,
    "start_time": "2023-05-02T19:25:26.180Z"
   },
   {
    "duration": 411,
    "start_time": "2023-05-02T19:25:55.860Z"
   },
   {
    "duration": 365,
    "start_time": "2023-05-02T19:28:03.563Z"
   },
   {
    "duration": 388,
    "start_time": "2023-05-02T19:28:51.122Z"
   },
   {
    "duration": 2034,
    "start_time": "2023-05-02T19:33:44.406Z"
   },
   {
    "duration": 423,
    "start_time": "2023-05-02T19:34:51.110Z"
   },
   {
    "duration": 508,
    "start_time": "2023-05-02T19:46:26.520Z"
   },
   {
    "duration": 429,
    "start_time": "2023-05-02T19:46:42.383Z"
   },
   {
    "duration": 440,
    "start_time": "2023-05-02T19:48:27.207Z"
   },
   {
    "duration": 456,
    "start_time": "2023-05-02T19:48:49.547Z"
   },
   {
    "duration": 4,
    "start_time": "2023-05-02T20:01:01.655Z"
   },
   {
    "duration": 24,
    "start_time": "2023-05-02T20:01:02.053Z"
   },
   {
    "duration": 807,
    "start_time": "2023-05-02T20:01:24.818Z"
   },
   {
    "duration": 4,
    "start_time": "2023-05-02T20:01:30.150Z"
   },
   {
    "duration": 69,
    "start_time": "2023-05-02T20:01:30.357Z"
   },
   {
    "duration": 5,
    "start_time": "2023-05-02T20:01:38.318Z"
   },
   {
    "duration": 30,
    "start_time": "2023-05-02T20:01:38.767Z"
   },
   {
    "duration": 425,
    "start_time": "2023-05-02T20:02:57.059Z"
   },
   {
    "duration": 12,
    "start_time": "2023-05-02T20:02:58.615Z"
   },
   {
    "duration": 393,
    "start_time": "2023-05-02T20:03:25.629Z"
   },
   {
    "duration": 398,
    "start_time": "2023-05-02T20:03:26.254Z"
   },
   {
    "duration": 66,
    "start_time": "2023-05-02T20:04:58.890Z"
   },
   {
    "duration": 49,
    "start_time": "2023-05-02T20:05:05.036Z"
   },
   {
    "duration": 43,
    "start_time": "2023-05-02T20:05:11.819Z"
   },
   {
    "duration": 3,
    "start_time": "2023-05-02T20:12:12.542Z"
   },
   {
    "duration": 5,
    "start_time": "2023-05-02T20:13:04.461Z"
   },
   {
    "duration": 11,
    "start_time": "2023-05-02T20:13:09.517Z"
   },
   {
    "duration": 11,
    "start_time": "2023-05-02T20:13:17.141Z"
   },
   {
    "duration": 10,
    "start_time": "2023-05-02T20:14:50.320Z"
   },
   {
    "duration": 37,
    "start_time": "2023-05-02T20:15:09.530Z"
   },
   {
    "duration": 46,
    "start_time": "2023-05-02T20:16:21.412Z"
   },
   {
    "duration": 5,
    "start_time": "2023-05-02T20:16:29.347Z"
   },
   {
    "duration": 5,
    "start_time": "2023-05-02T20:16:51.147Z"
   },
   {
    "duration": 34,
    "start_time": "2023-05-02T20:17:09.178Z"
   },
   {
    "duration": 7,
    "start_time": "2023-05-02T20:17:24.057Z"
   },
   {
    "duration": 5,
    "start_time": "2023-05-02T20:17:46.033Z"
   },
   {
    "duration": 6,
    "start_time": "2023-05-02T20:18:02.346Z"
   },
   {
    "duration": 5,
    "start_time": "2023-05-02T20:18:26.018Z"
   },
   {
    "duration": 4,
    "start_time": "2023-05-02T20:18:35.198Z"
   },
   {
    "duration": 8,
    "start_time": "2023-05-02T20:19:00.734Z"
   },
   {
    "duration": 7,
    "start_time": "2023-05-02T20:19:14.424Z"
   },
   {
    "duration": 7,
    "start_time": "2023-05-02T20:19:45.279Z"
   },
   {
    "duration": 44,
    "start_time": "2023-05-02T20:19:53.359Z"
   },
   {
    "duration": 6,
    "start_time": "2023-05-02T20:19:57.663Z"
   },
   {
    "duration": 7,
    "start_time": "2023-05-02T20:20:54.159Z"
   },
   {
    "duration": 5,
    "start_time": "2023-05-02T20:21:19.446Z"
   },
   {
    "duration": 7,
    "start_time": "2023-05-02T20:21:41.094Z"
   },
   {
    "duration": 6,
    "start_time": "2023-05-02T20:21:46.774Z"
   },
   {
    "duration": 7,
    "start_time": "2023-05-02T20:21:54.325Z"
   },
   {
    "duration": 5,
    "start_time": "2023-05-02T20:22:17.973Z"
   },
   {
    "duration": 5,
    "start_time": "2023-05-02T20:22:43.904Z"
   },
   {
    "duration": 7,
    "start_time": "2023-05-02T20:23:26.957Z"
   },
   {
    "duration": 54,
    "start_time": "2023-05-03T19:15:10.216Z"
   },
   {
    "duration": 1118,
    "start_time": "2023-05-03T19:15:16.698Z"
   },
   {
    "duration": 1783,
    "start_time": "2023-05-03T19:15:17.818Z"
   },
   {
    "duration": 373,
    "start_time": "2023-05-03T19:15:19.602Z"
   },
   {
    "duration": 4,
    "start_time": "2023-05-03T19:15:19.976Z"
   },
   {
    "duration": 70,
    "start_time": "2023-05-03T19:15:19.981Z"
   },
   {
    "duration": 10,
    "start_time": "2023-05-03T19:15:20.054Z"
   },
   {
    "duration": 31,
    "start_time": "2023-05-03T19:15:20.067Z"
   },
   {
    "duration": 67,
    "start_time": "2023-05-03T19:18:58.155Z"
   },
   {
    "duration": 11,
    "start_time": "2023-05-03T19:19:18.292Z"
   },
   {
    "duration": 10,
    "start_time": "2023-05-03T19:19:47.316Z"
   },
   {
    "duration": 17,
    "start_time": "2023-05-03T19:20:24.646Z"
   },
   {
    "duration": 22,
    "start_time": "2023-05-03T19:24:12.747Z"
   },
   {
    "duration": 30,
    "start_time": "2023-05-03T19:24:18.952Z"
   },
   {
    "duration": 19,
    "start_time": "2023-05-03T19:25:03.482Z"
   },
   {
    "duration": 47,
    "start_time": "2023-05-03T19:25:05.113Z"
   },
   {
    "duration": 3,
    "start_time": "2023-05-03T19:25:18.410Z"
   },
   {
    "duration": 52,
    "start_time": "2023-05-03T19:25:18.753Z"
   },
   {
    "duration": 7,
    "start_time": "2023-05-03T19:25:19.385Z"
   },
   {
    "duration": 29,
    "start_time": "2023-05-03T19:25:20.589Z"
   },
   {
    "duration": 32,
    "start_time": "2023-05-03T19:25:21.246Z"
   },
   {
    "duration": 10,
    "start_time": "2023-05-03T19:26:18.084Z"
   },
   {
    "duration": 27,
    "start_time": "2023-05-03T19:26:18.978Z"
   },
   {
    "duration": 539,
    "start_time": "2023-05-03T19:34:16.539Z"
   },
   {
    "duration": 3,
    "start_time": "2023-05-03T19:53:35.575Z"
   },
   {
    "duration": 1127,
    "start_time": "2023-05-03T19:53:46.772Z"
   },
   {
    "duration": 397,
    "start_time": "2023-05-03T19:53:47.902Z"
   },
   {
    "duration": 551,
    "start_time": "2023-05-03T19:53:48.301Z"
   },
   {
    "duration": 5,
    "start_time": "2023-05-03T19:53:48.854Z"
   },
   {
    "duration": 55,
    "start_time": "2023-05-03T19:53:48.860Z"
   },
   {
    "duration": 24,
    "start_time": "2023-05-03T19:53:48.917Z"
   },
   {
    "duration": 13,
    "start_time": "2023-05-03T19:53:48.944Z"
   },
   {
    "duration": 49,
    "start_time": "2023-05-03T19:54:16.717Z"
   },
   {
    "duration": 1087,
    "start_time": "2023-05-03T19:56:01.226Z"
   },
   {
    "duration": 400,
    "start_time": "2023-05-03T19:56:02.315Z"
   },
   {
    "duration": 490,
    "start_time": "2023-05-03T19:56:02.716Z"
   },
   {
    "duration": 27,
    "start_time": "2023-05-03T19:56:03.207Z"
   },
   {
    "duration": 78,
    "start_time": "2023-05-03T19:56:03.236Z"
   },
   {
    "duration": 5,
    "start_time": "2023-05-03T19:56:03.316Z"
   },
   {
    "duration": 41,
    "start_time": "2023-05-03T19:56:03.322Z"
   },
   {
    "duration": 110,
    "start_time": "2023-05-03T19:56:03.365Z"
   },
   {
    "duration": 117,
    "start_time": "2023-05-03T19:56:35.253Z"
   },
   {
    "duration": 1024,
    "start_time": "2023-05-03T19:57:29.188Z"
   },
   {
    "duration": 417,
    "start_time": "2023-05-03T19:57:30.214Z"
   },
   {
    "duration": 553,
    "start_time": "2023-05-03T19:57:30.633Z"
   },
   {
    "duration": 4,
    "start_time": "2023-05-03T19:57:31.188Z"
   },
   {
    "duration": 101,
    "start_time": "2023-05-03T19:57:31.195Z"
   },
   {
    "duration": 4,
    "start_time": "2023-05-03T19:57:31.297Z"
   },
   {
    "duration": 25,
    "start_time": "2023-05-03T19:57:31.302Z"
   },
   {
    "duration": 52,
    "start_time": "2023-05-03T19:57:31.329Z"
   },
   {
    "duration": 14,
    "start_time": "2023-05-03T19:59:10.705Z"
   },
   {
    "duration": 42,
    "start_time": "2023-05-03T19:59:12.761Z"
   },
   {
    "duration": 11,
    "start_time": "2023-05-03T19:59:25.348Z"
   },
   {
    "duration": 31,
    "start_time": "2023-05-03T19:59:26.881Z"
   },
   {
    "duration": 30,
    "start_time": "2023-05-03T19:59:48.112Z"
   },
   {
    "duration": 10,
    "start_time": "2023-05-03T20:02:30.950Z"
   },
   {
    "duration": 32,
    "start_time": "2023-05-03T20:02:32.862Z"
   },
   {
    "duration": 1025,
    "start_time": "2023-05-03T20:03:16.281Z"
   },
   {
    "duration": 348,
    "start_time": "2023-05-03T20:03:17.308Z"
   },
   {
    "duration": 454,
    "start_time": "2023-05-03T20:03:17.657Z"
   },
   {
    "duration": 4,
    "start_time": "2023-05-03T20:03:18.133Z"
   },
   {
    "duration": 80,
    "start_time": "2023-05-03T20:03:18.138Z"
   },
   {
    "duration": 7,
    "start_time": "2023-05-03T20:03:18.219Z"
   },
   {
    "duration": 39,
    "start_time": "2023-05-03T20:03:18.227Z"
   },
   {
    "duration": 12,
    "start_time": "2023-05-03T20:03:18.267Z"
   },
   {
    "duration": 33,
    "start_time": "2023-05-03T20:03:18.280Z"
   },
   {
    "duration": 8,
    "start_time": "2023-05-03T20:05:13.460Z"
   },
   {
    "duration": 31,
    "start_time": "2023-05-03T20:05:14.739Z"
   },
   {
    "duration": 88,
    "start_time": "2023-05-03T20:06:14.748Z"
   },
   {
    "duration": 16,
    "start_time": "2023-05-03T20:07:25.132Z"
   },
   {
    "duration": 23,
    "start_time": "2023-05-03T20:07:49.705Z"
   },
   {
    "duration": 12,
    "start_time": "2023-05-03T20:07:55.290Z"
   },
   {
    "duration": 13,
    "start_time": "2023-05-03T20:07:56.256Z"
   },
   {
    "duration": 48,
    "start_time": "2023-05-03T20:08:17.424Z"
   },
   {
    "duration": 11,
    "start_time": "2023-05-03T20:08:18.151Z"
   },
   {
    "duration": 4,
    "start_time": "2023-05-03T20:08:32.990Z"
   },
   {
    "duration": 3,
    "start_time": "2023-05-03T20:09:20.599Z"
   },
   {
    "duration": 4,
    "start_time": "2023-05-03T20:09:21.942Z"
   },
   {
    "duration": 4,
    "start_time": "2023-05-03T20:10:32.006Z"
   },
   {
    "duration": 4,
    "start_time": "2023-05-03T20:10:32.862Z"
   },
   {
    "duration": 102,
    "start_time": "2023-05-03T20:13:14.091Z"
   },
   {
    "duration": 3,
    "start_time": "2023-05-03T20:13:56.804Z"
   },
   {
    "duration": 5,
    "start_time": "2023-05-03T20:13:59.588Z"
   },
   {
    "duration": 1028,
    "start_time": "2023-05-03T20:14:06.035Z"
   },
   {
    "duration": 398,
    "start_time": "2023-05-03T20:14:07.066Z"
   },
   {
    "duration": 470,
    "start_time": "2023-05-03T20:14:07.465Z"
   },
   {
    "duration": 3,
    "start_time": "2023-05-03T20:14:07.936Z"
   },
   {
    "duration": 58,
    "start_time": "2023-05-03T20:14:07.941Z"
   },
   {
    "duration": 7,
    "start_time": "2023-05-03T20:14:08.001Z"
   },
   {
    "duration": 44,
    "start_time": "2023-05-03T20:14:08.009Z"
   },
   {
    "duration": 51,
    "start_time": "2023-05-03T20:14:08.055Z"
   },
   {
    "duration": 10,
    "start_time": "2023-05-03T20:14:08.108Z"
   },
   {
    "duration": 16,
    "start_time": "2023-05-03T20:14:08.133Z"
   },
   {
    "duration": 41,
    "start_time": "2023-05-03T20:15:21.885Z"
   },
   {
    "duration": 5,
    "start_time": "2023-05-03T20:15:22.782Z"
   },
   {
    "duration": 90,
    "start_time": "2023-05-03T20:15:29.546Z"
   },
   {
    "duration": 1002,
    "start_time": "2023-05-03T20:15:52.197Z"
   },
   {
    "duration": 358,
    "start_time": "2023-05-03T20:15:53.201Z"
   },
   {
    "duration": 450,
    "start_time": "2023-05-03T20:15:53.561Z"
   },
   {
    "duration": 4,
    "start_time": "2023-05-03T20:15:54.033Z"
   },
   {
    "duration": 81,
    "start_time": "2023-05-03T20:15:54.038Z"
   },
   {
    "duration": 5,
    "start_time": "2023-05-03T20:15:54.121Z"
   },
   {
    "duration": 29,
    "start_time": "2023-05-03T20:15:57.105Z"
   },
   {
    "duration": 18,
    "start_time": "2023-05-03T20:16:04.419Z"
   },
   {
    "duration": 4,
    "start_time": "2023-05-03T20:16:15.194Z"
   },
   {
    "duration": 69,
    "start_time": "2023-05-03T20:18:09.720Z"
   },
   {
    "duration": 87,
    "start_time": "2023-05-03T20:18:19.009Z"
   },
   {
    "duration": 1054,
    "start_time": "2023-05-03T20:18:47.815Z"
   },
   {
    "duration": 365,
    "start_time": "2023-05-03T20:18:48.871Z"
   },
   {
    "duration": 497,
    "start_time": "2023-05-03T20:18:49.238Z"
   },
   {
    "duration": 3,
    "start_time": "2023-05-03T20:18:49.737Z"
   },
   {
    "duration": 63,
    "start_time": "2023-05-03T20:18:49.742Z"
   },
   {
    "duration": 5,
    "start_time": "2023-05-03T20:18:56.058Z"
   },
   {
    "duration": 28,
    "start_time": "2023-05-03T20:19:00.972Z"
   },
   {
    "duration": 94,
    "start_time": "2023-05-03T20:19:05.776Z"
   },
   {
    "duration": 20,
    "start_time": "2023-05-03T20:19:32.672Z"
   },
   {
    "duration": 10,
    "start_time": "2023-05-03T20:19:36.766Z"
   },
   {
    "duration": 9,
    "start_time": "2023-05-03T20:19:54.880Z"
   },
   {
    "duration": 991,
    "start_time": "2023-05-03T20:20:09.581Z"
   },
   {
    "duration": 355,
    "start_time": "2023-05-03T20:20:10.574Z"
   },
   {
    "duration": 452,
    "start_time": "2023-05-03T20:20:10.930Z"
   },
   {
    "duration": 3,
    "start_time": "2023-05-03T20:20:11.383Z"
   },
   {
    "duration": 77,
    "start_time": "2023-05-03T20:20:11.388Z"
   },
   {
    "duration": 5,
    "start_time": "2023-05-03T20:20:11.467Z"
   },
   {
    "duration": 11,
    "start_time": "2023-05-03T20:20:27.016Z"
   },
   {
    "duration": 18,
    "start_time": "2023-05-03T20:20:30.785Z"
   },
   {
    "duration": 9,
    "start_time": "2023-05-03T20:20:38.407Z"
   },
   {
    "duration": 50,
    "start_time": "2023-05-03T20:22:47.925Z"
   },
   {
    "duration": 9,
    "start_time": "2023-05-03T20:23:02.783Z"
   },
   {
    "duration": 10,
    "start_time": "2023-05-03T20:23:12.579Z"
   },
   {
    "duration": 9,
    "start_time": "2023-05-03T20:23:18.838Z"
   },
   {
    "duration": 5,
    "start_time": "2023-05-03T20:23:28.348Z"
   },
   {
    "duration": 3,
    "start_time": "2023-05-03T20:33:34.686Z"
   },
   {
    "duration": 153,
    "start_time": "2023-05-03T20:35:27.272Z"
   },
   {
    "duration": 297,
    "start_time": "2023-05-03T20:45:40.737Z"
   },
   {
    "duration": 13,
    "start_time": "2023-05-03T20:46:01.071Z"
   },
   {
    "duration": 5,
    "start_time": "2023-05-03T20:46:20.915Z"
   },
   {
    "duration": 431,
    "start_time": "2023-05-03T20:47:02.410Z"
   },
   {
    "duration": 503,
    "start_time": "2023-05-03T20:48:22.312Z"
   },
   {
    "duration": 166,
    "start_time": "2023-05-03T20:49:35.079Z"
   },
   {
    "duration": 6,
    "start_time": "2023-05-03T20:49:37.310Z"
   },
   {
    "duration": 1016,
    "start_time": "2023-05-03T20:50:05.750Z"
   },
   {
    "duration": 399,
    "start_time": "2023-05-03T20:50:06.768Z"
   },
   {
    "duration": 426,
    "start_time": "2023-05-03T20:50:07.169Z"
   },
   {
    "duration": 3,
    "start_time": "2023-05-03T20:50:07.599Z"
   },
   {
    "duration": 95,
    "start_time": "2023-05-03T20:50:07.603Z"
   },
   {
    "duration": 6,
    "start_time": "2023-05-03T20:50:07.700Z"
   },
   {
    "duration": 61,
    "start_time": "2023-05-03T20:50:07.707Z"
   },
   {
    "duration": 129,
    "start_time": "2023-05-03T20:50:07.770Z"
   },
   {
    "duration": 145,
    "start_time": "2023-05-03T20:50:07.901Z"
   },
   {
    "duration": 198,
    "start_time": "2023-05-03T20:50:08.049Z"
   },
   {
    "duration": 5,
    "start_time": "2023-05-03T20:50:16.469Z"
   },
   {
    "duration": 140,
    "start_time": "2023-05-03T20:50:24.596Z"
   },
   {
    "duration": 5,
    "start_time": "2023-05-03T20:50:25.829Z"
   },
   {
    "duration": 225,
    "start_time": "2023-05-03T20:52:21.580Z"
   },
   {
    "duration": 22,
    "start_time": "2023-05-03T20:53:09.741Z"
   },
   {
    "duration": 50,
    "start_time": "2023-05-03T20:53:17.989Z"
   },
   {
    "duration": 128,
    "start_time": "2023-05-03T20:53:45.316Z"
   },
   {
    "duration": 6,
    "start_time": "2023-05-03T20:53:47.867Z"
   },
   {
    "duration": 208,
    "start_time": "2023-05-03T20:54:42.027Z"
   },
   {
    "duration": 5,
    "start_time": "2023-05-03T20:54:43.139Z"
   },
   {
    "duration": 1072,
    "start_time": "2023-05-03T20:54:52.336Z"
   },
   {
    "duration": 360,
    "start_time": "2023-05-03T20:54:53.410Z"
   },
   {
    "duration": 471,
    "start_time": "2023-05-03T20:54:53.772Z"
   },
   {
    "duration": 3,
    "start_time": "2023-05-03T20:54:54.244Z"
   },
   {
    "duration": 63,
    "start_time": "2023-05-03T20:54:54.250Z"
   },
   {
    "duration": 20,
    "start_time": "2023-05-03T20:54:54.315Z"
   },
   {
    "duration": 17,
    "start_time": "2023-05-03T20:54:54.337Z"
   },
   {
    "duration": 66,
    "start_time": "2023-05-03T20:54:54.356Z"
   },
   {
    "duration": 212,
    "start_time": "2023-05-03T20:54:54.423Z"
   },
   {
    "duration": 8,
    "start_time": "2023-05-03T20:54:57.482Z"
   },
   {
    "duration": 12,
    "start_time": "2023-05-03T20:55:03.539Z"
   },
   {
    "duration": 1106,
    "start_time": "2023-05-04T07:40:51.591Z"
   },
   {
    "duration": 969,
    "start_time": "2023-05-04T07:40:52.699Z"
   },
   {
    "duration": 506,
    "start_time": "2023-05-04T07:40:53.670Z"
   },
   {
    "duration": 3,
    "start_time": "2023-05-04T07:40:54.178Z"
   },
   {
    "duration": 78,
    "start_time": "2023-05-04T07:40:54.183Z"
   },
   {
    "duration": 6,
    "start_time": "2023-05-04T07:40:54.263Z"
   },
   {
    "duration": 24,
    "start_time": "2023-05-04T07:40:54.271Z"
   },
   {
    "duration": 4,
    "start_time": "2023-05-04T07:43:25.105Z"
   },
   {
    "duration": 12,
    "start_time": "2023-05-04T07:43:28.440Z"
   },
   {
    "duration": 3,
    "start_time": "2023-05-04T07:43:37.459Z"
   },
   {
    "duration": 391,
    "start_time": "2023-05-04T07:43:37.463Z"
   },
   {
    "duration": 491,
    "start_time": "2023-05-04T07:43:37.856Z"
   },
   {
    "duration": 3,
    "start_time": "2023-05-04T07:43:38.349Z"
   },
   {
    "duration": 96,
    "start_time": "2023-05-04T07:43:38.354Z"
   },
   {
    "duration": 6,
    "start_time": "2023-05-04T07:43:38.452Z"
   },
   {
    "duration": 28,
    "start_time": "2023-05-04T07:43:38.460Z"
   },
   {
    "duration": 12,
    "start_time": "2023-05-04T07:44:12.174Z"
   },
   {
    "duration": 1121,
    "start_time": "2023-05-04T07:44:27.373Z"
   },
   {
    "duration": 411,
    "start_time": "2023-05-04T07:44:28.496Z"
   },
   {
    "duration": 617,
    "start_time": "2023-05-04T07:44:28.908Z"
   },
   {
    "duration": 3,
    "start_time": "2023-05-04T07:44:29.526Z"
   },
   {
    "duration": 62,
    "start_time": "2023-05-04T07:44:29.532Z"
   },
   {
    "duration": 6,
    "start_time": "2023-05-04T07:44:29.612Z"
   },
   {
    "duration": 12,
    "start_time": "2023-05-04T07:44:32.043Z"
   },
   {
    "duration": 5,
    "start_time": "2023-05-04T07:44:46.713Z"
   },
   {
    "duration": 15,
    "start_time": "2023-05-04T07:44:58.351Z"
   },
   {
    "duration": 7,
    "start_time": "2023-05-04T07:45:12.668Z"
   },
   {
    "duration": 70,
    "start_time": "2023-05-04T07:46:05.954Z"
   },
   {
    "duration": 11,
    "start_time": "2023-05-04T07:46:09.030Z"
   },
   {
    "duration": 37,
    "start_time": "2023-05-04T07:47:09.854Z"
   },
   {
    "duration": 12,
    "start_time": "2023-05-04T07:47:10.858Z"
   },
   {
    "duration": 5,
    "start_time": "2023-05-04T07:47:46.568Z"
   },
   {
    "duration": 41,
    "start_time": "2023-05-04T07:47:51.903Z"
   },
   {
    "duration": 6,
    "start_time": "2023-05-04T07:47:52.521Z"
   },
   {
    "duration": 108,
    "start_time": "2023-05-04T07:49:10.761Z"
   },
   {
    "duration": 5,
    "start_time": "2023-05-04T07:53:35.557Z"
   },
   {
    "duration": 5,
    "start_time": "2023-05-04T07:53:38.504Z"
   },
   {
    "duration": 12,
    "start_time": "2023-05-04T07:54:07.217Z"
   },
   {
    "duration": 1100,
    "start_time": "2023-05-04T07:54:53.121Z"
   },
   {
    "duration": 384,
    "start_time": "2023-05-04T07:54:54.223Z"
   },
   {
    "duration": 530,
    "start_time": "2023-05-04T07:54:54.609Z"
   },
   {
    "duration": 4,
    "start_time": "2023-05-04T07:54:55.140Z"
   },
   {
    "duration": 84,
    "start_time": "2023-05-04T07:54:55.146Z"
   },
   {
    "duration": 7,
    "start_time": "2023-05-04T07:54:55.232Z"
   },
   {
    "duration": 57,
    "start_time": "2023-05-04T07:54:55.241Z"
   },
   {
    "duration": 73,
    "start_time": "2023-05-04T07:55:09.690Z"
   },
   {
    "duration": 16,
    "start_time": "2023-05-04T07:55:10.365Z"
   },
   {
    "duration": 7,
    "start_time": "2023-05-04T07:55:20.462Z"
   },
   {
    "duration": 10,
    "start_time": "2023-05-04T07:56:18.535Z"
   },
   {
    "duration": 7,
    "start_time": "2023-05-04T07:56:35.621Z"
   },
   {
    "duration": 5,
    "start_time": "2023-05-04T07:56:43.676Z"
   },
   {
    "duration": 8,
    "start_time": "2023-05-04T07:57:16.838Z"
   },
   {
    "duration": 8,
    "start_time": "2023-05-04T07:57:24.954Z"
   },
   {
    "duration": 1209,
    "start_time": "2023-05-04T07:57:48.347Z"
   },
   {
    "duration": 388,
    "start_time": "2023-05-04T07:57:49.559Z"
   },
   {
    "duration": 566,
    "start_time": "2023-05-04T07:57:49.949Z"
   },
   {
    "duration": 4,
    "start_time": "2023-05-04T07:57:50.516Z"
   },
   {
    "duration": 117,
    "start_time": "2023-05-04T07:57:50.522Z"
   },
   {
    "duration": 6,
    "start_time": "2023-05-04T07:57:50.641Z"
   },
   {
    "duration": 32,
    "start_time": "2023-05-04T07:57:50.648Z"
   },
   {
    "duration": 10,
    "start_time": "2023-05-04T07:57:56.666Z"
   },
   {
    "duration": 70,
    "start_time": "2023-05-04T07:57:59.283Z"
   },
   {
    "duration": 8,
    "start_time": "2023-05-04T07:58:01.453Z"
   },
   {
    "duration": 147,
    "start_time": "2023-05-04T07:58:10.567Z"
   },
   {
    "duration": 15,
    "start_time": "2023-05-04T07:58:13.083Z"
   },
   {
    "duration": 6,
    "start_time": "2023-05-04T07:58:25.216Z"
   },
   {
    "duration": 112,
    "start_time": "2023-05-04T07:58:49.546Z"
   },
   {
    "duration": 219,
    "start_time": "2023-05-04T07:59:08.205Z"
   },
   {
    "duration": 10,
    "start_time": "2023-05-04T07:59:10.557Z"
   },
   {
    "duration": 10,
    "start_time": "2023-05-04T08:00:06.946Z"
   },
   {
    "duration": 315,
    "start_time": "2023-05-04T08:00:24.697Z"
   },
   {
    "duration": 11,
    "start_time": "2023-05-04T08:00:25.385Z"
   },
   {
    "duration": 1131,
    "start_time": "2023-05-04T08:00:44.478Z"
   },
   {
    "duration": 408,
    "start_time": "2023-05-04T08:00:45.611Z"
   },
   {
    "duration": 530,
    "start_time": "2023-05-04T08:00:46.020Z"
   },
   {
    "duration": 3,
    "start_time": "2023-05-04T08:00:46.552Z"
   },
   {
    "duration": 91,
    "start_time": "2023-05-04T08:00:46.558Z"
   },
   {
    "duration": 6,
    "start_time": "2023-05-04T08:00:46.650Z"
   },
   {
    "duration": 12,
    "start_time": "2023-05-04T08:00:46.657Z"
   },
   {
    "duration": 89,
    "start_time": "2023-05-04T08:00:46.672Z"
   },
   {
    "duration": 8,
    "start_time": "2023-05-04T08:00:46.763Z"
   },
   {
    "duration": 147,
    "start_time": "2023-05-04T08:00:46.773Z"
   },
   {
    "duration": 100,
    "start_time": "2023-05-04T08:00:47.013Z"
   },
   {
    "duration": 6,
    "start_time": "2023-05-04T08:00:51.603Z"
   },
   {
    "duration": 1281,
    "start_time": "2023-05-04T08:02:23.180Z"
   },
   {
    "duration": 413,
    "start_time": "2023-05-04T08:02:24.463Z"
   },
   {
    "duration": 549,
    "start_time": "2023-05-04T08:02:24.878Z"
   },
   {
    "duration": 3,
    "start_time": "2023-05-04T08:02:25.429Z"
   },
   {
    "duration": 79,
    "start_time": "2023-05-04T08:02:25.435Z"
   },
   {
    "duration": 6,
    "start_time": "2023-05-04T08:02:25.516Z"
   },
   {
    "duration": 16,
    "start_time": "2023-05-04T08:02:25.524Z"
   },
   {
    "duration": 76,
    "start_time": "2023-05-04T08:02:25.541Z"
   },
   {
    "duration": 8,
    "start_time": "2023-05-04T08:02:25.619Z"
   },
   {
    "duration": 34,
    "start_time": "2023-05-04T08:02:25.628Z"
   },
   {
    "duration": 285,
    "start_time": "2023-05-04T08:02:39.898Z"
   },
   {
    "duration": 110,
    "start_time": "2023-05-04T08:02:48.703Z"
   },
   {
    "duration": 318,
    "start_time": "2023-05-04T08:03:50.502Z"
   },
   {
    "duration": 8,
    "start_time": "2023-05-04T08:03:51.936Z"
   },
   {
    "duration": 1160,
    "start_time": "2023-05-04T08:04:52.584Z"
   },
   {
    "duration": 413,
    "start_time": "2023-05-04T08:04:53.746Z"
   },
   {
    "duration": 517,
    "start_time": "2023-05-04T08:04:54.163Z"
   },
   {
    "duration": 30,
    "start_time": "2023-05-04T08:04:54.682Z"
   },
   {
    "duration": 55,
    "start_time": "2023-05-04T08:04:54.714Z"
   },
   {
    "duration": 7,
    "start_time": "2023-05-04T08:04:54.770Z"
   },
   {
    "duration": 33,
    "start_time": "2023-05-04T08:04:54.779Z"
   },
   {
    "duration": 66,
    "start_time": "2023-05-04T08:04:54.815Z"
   },
   {
    "duration": 9,
    "start_time": "2023-05-04T08:04:54.883Z"
   },
   {
    "duration": 23,
    "start_time": "2023-05-04T08:04:54.894Z"
   },
   {
    "duration": 3,
    "start_time": "2023-05-04T08:05:03.408Z"
   },
   {
    "duration": 433,
    "start_time": "2023-05-04T08:05:03.414Z"
   },
   {
    "duration": 585,
    "start_time": "2023-05-04T08:05:03.849Z"
   },
   {
    "duration": 4,
    "start_time": "2023-05-04T08:05:04.437Z"
   },
   {
    "duration": 117,
    "start_time": "2023-05-04T08:05:04.443Z"
   },
   {
    "duration": 7,
    "start_time": "2023-05-04T08:05:04.562Z"
   },
   {
    "duration": 22,
    "start_time": "2023-05-04T08:05:04.571Z"
   },
   {
    "duration": 81,
    "start_time": "2023-05-04T08:05:04.595Z"
   },
   {
    "duration": 8,
    "start_time": "2023-05-04T08:05:04.678Z"
   },
   {
    "duration": 10,
    "start_time": "2023-05-04T08:05:04.688Z"
   },
   {
    "duration": 7,
    "start_time": "2023-05-04T08:05:19.950Z"
   },
   {
    "duration": 186,
    "start_time": "2023-05-04T08:05:22.328Z"
   },
   {
    "duration": 9,
    "start_time": "2023-05-04T08:05:23.164Z"
   },
   {
    "duration": 52,
    "start_time": "2023-05-04T08:07:10.850Z"
   },
   {
    "duration": 489,
    "start_time": "2023-05-04T08:07:19.060Z"
   },
   {
    "duration": 1094,
    "start_time": "2023-05-04T08:07:53.761Z"
   },
   {
    "duration": 401,
    "start_time": "2023-05-04T08:07:54.858Z"
   },
   {
    "duration": 514,
    "start_time": "2023-05-04T08:07:55.261Z"
   },
   {
    "duration": 4,
    "start_time": "2023-05-04T08:07:55.776Z"
   },
   {
    "duration": 61,
    "start_time": "2023-05-04T08:07:55.811Z"
   },
   {
    "duration": 7,
    "start_time": "2023-05-04T08:07:55.874Z"
   },
   {
    "duration": 33,
    "start_time": "2023-05-04T08:07:55.883Z"
   },
   {
    "duration": 77,
    "start_time": "2023-05-04T08:07:55.918Z"
   },
   {
    "duration": 15,
    "start_time": "2023-05-04T08:07:55.997Z"
   },
   {
    "duration": 8,
    "start_time": "2023-05-04T08:07:58.072Z"
   },
   {
    "duration": 7,
    "start_time": "2023-05-04T08:07:58.789Z"
   },
   {
    "duration": 161,
    "start_time": "2023-05-04T08:08:00.053Z"
   },
   {
    "duration": 10,
    "start_time": "2023-05-04T08:08:02.423Z"
   },
   {
    "duration": 8,
    "start_time": "2023-05-04T08:08:20.858Z"
   },
   {
    "duration": 9,
    "start_time": "2023-05-04T08:12:53.086Z"
   },
   {
    "duration": 1159,
    "start_time": "2023-05-04T08:13:02.072Z"
   },
   {
    "duration": 426,
    "start_time": "2023-05-04T08:13:03.233Z"
   },
   {
    "duration": 569,
    "start_time": "2023-05-04T08:13:03.661Z"
   },
   {
    "duration": 4,
    "start_time": "2023-05-04T08:13:04.231Z"
   },
   {
    "duration": 77,
    "start_time": "2023-05-04T08:13:04.237Z"
   },
   {
    "duration": 6,
    "start_time": "2023-05-04T08:13:04.316Z"
   },
   {
    "duration": 8,
    "start_time": "2023-05-04T08:13:04.324Z"
   },
   {
    "duration": 92,
    "start_time": "2023-05-04T08:13:04.334Z"
   },
   {
    "duration": 9,
    "start_time": "2023-05-04T08:13:04.428Z"
   },
   {
    "duration": 6,
    "start_time": "2023-05-04T08:13:04.438Z"
   },
   {
    "duration": 169,
    "start_time": "2023-05-04T08:13:04.445Z"
   },
   {
    "duration": 96,
    "start_time": "2023-05-04T08:13:04.617Z"
   },
   {
    "duration": 1153,
    "start_time": "2023-05-04T08:25:44.803Z"
   },
   {
    "duration": 419,
    "start_time": "2023-05-04T08:25:45.958Z"
   },
   {
    "duration": 595,
    "start_time": "2023-05-04T08:25:46.379Z"
   },
   {
    "duration": 40,
    "start_time": "2023-05-04T08:25:46.977Z"
   },
   {
    "duration": 63,
    "start_time": "2023-05-04T08:25:47.023Z"
   },
   {
    "duration": 8,
    "start_time": "2023-05-04T08:25:47.088Z"
   },
   {
    "duration": 32,
    "start_time": "2023-05-04T08:25:47.097Z"
   },
   {
    "duration": 74,
    "start_time": "2023-05-04T08:25:47.131Z"
   },
   {
    "duration": 16,
    "start_time": "2023-05-04T08:25:47.214Z"
   },
   {
    "duration": 9,
    "start_time": "2023-05-04T08:25:47.232Z"
   },
   {
    "duration": 69,
    "start_time": "2023-05-04T08:25:52.579Z"
   },
   {
    "duration": 264,
    "start_time": "2023-05-04T08:26:15.736Z"
   },
   {
    "duration": 4,
    "start_time": "2023-05-04T08:26:50.926Z"
   },
   {
    "duration": 340,
    "start_time": "2023-05-04T08:26:57.725Z"
   },
   {
    "duration": 1191,
    "start_time": "2023-05-04T08:27:15.893Z"
   },
   {
    "duration": 435,
    "start_time": "2023-05-04T08:27:17.087Z"
   },
   {
    "duration": 604,
    "start_time": "2023-05-04T08:27:17.524Z"
   },
   {
    "duration": 5,
    "start_time": "2023-05-04T08:27:18.132Z"
   },
   {
    "duration": 62,
    "start_time": "2023-05-04T08:27:18.139Z"
   },
   {
    "duration": 10,
    "start_time": "2023-05-04T08:27:18.211Z"
   },
   {
    "duration": 13,
    "start_time": "2023-05-04T08:27:18.222Z"
   },
   {
    "duration": 94,
    "start_time": "2023-05-04T08:27:18.237Z"
   },
   {
    "duration": 9,
    "start_time": "2023-05-04T08:27:18.333Z"
   },
   {
    "duration": 9,
    "start_time": "2023-05-04T08:27:18.346Z"
   },
   {
    "duration": 269,
    "start_time": "2023-05-04T08:27:18.358Z"
   },
   {
    "duration": 0,
    "start_time": "2023-05-04T08:27:18.629Z"
   },
   {
    "duration": 14,
    "start_time": "2023-05-04T08:29:15.625Z"
   },
   {
    "duration": 8,
    "start_time": "2023-05-04T08:29:40.101Z"
   },
   {
    "duration": 8,
    "start_time": "2023-05-04T08:30:06.320Z"
   },
   {
    "duration": 1093,
    "start_time": "2023-05-04T08:31:11.225Z"
   },
   {
    "duration": 424,
    "start_time": "2023-05-04T08:31:12.320Z"
   },
   {
    "duration": 580,
    "start_time": "2023-05-04T08:31:12.746Z"
   },
   {
    "duration": 3,
    "start_time": "2023-05-04T08:31:13.328Z"
   },
   {
    "duration": 90,
    "start_time": "2023-05-04T08:31:13.333Z"
   },
   {
    "duration": 7,
    "start_time": "2023-05-04T08:31:13.426Z"
   },
   {
    "duration": 23,
    "start_time": "2023-05-04T08:31:13.435Z"
   },
   {
    "duration": 79,
    "start_time": "2023-05-04T08:31:13.460Z"
   },
   {
    "duration": 7,
    "start_time": "2023-05-04T08:31:13.541Z"
   },
   {
    "duration": 32,
    "start_time": "2023-05-04T08:31:13.550Z"
   },
   {
    "duration": 69,
    "start_time": "2023-05-04T08:31:13.583Z"
   },
   {
    "duration": 0,
    "start_time": "2023-05-04T08:31:13.654Z"
   },
   {
    "duration": 286,
    "start_time": "2023-05-04T08:31:19.627Z"
   },
   {
    "duration": 1181,
    "start_time": "2023-05-04T08:31:30.360Z"
   },
   {
    "duration": 427,
    "start_time": "2023-05-04T08:31:31.543Z"
   },
   {
    "duration": 559,
    "start_time": "2023-05-04T08:31:31.972Z"
   },
   {
    "duration": 4,
    "start_time": "2023-05-04T08:31:32.533Z"
   },
   {
    "duration": 84,
    "start_time": "2023-05-04T08:31:32.540Z"
   },
   {
    "duration": 8,
    "start_time": "2023-05-04T08:31:32.626Z"
   },
   {
    "duration": 14,
    "start_time": "2023-05-04T08:31:32.636Z"
   },
   {
    "duration": 82,
    "start_time": "2023-05-04T08:31:32.652Z"
   },
   {
    "duration": 9,
    "start_time": "2023-05-04T08:31:32.736Z"
   },
   {
    "duration": 7,
    "start_time": "2023-05-04T08:31:32.746Z"
   },
   {
    "duration": 272,
    "start_time": "2023-05-04T08:31:32.755Z"
   },
   {
    "duration": 1,
    "start_time": "2023-05-04T08:31:33.028Z"
   },
   {
    "duration": 1257,
    "start_time": "2023-05-04T08:34:28.650Z"
   },
   {
    "duration": 427,
    "start_time": "2023-05-04T08:34:29.909Z"
   },
   {
    "duration": 605,
    "start_time": "2023-05-04T08:34:30.338Z"
   },
   {
    "duration": 4,
    "start_time": "2023-05-04T08:34:30.945Z"
   },
   {
    "duration": 138,
    "start_time": "2023-05-04T08:34:30.952Z"
   },
   {
    "duration": 8,
    "start_time": "2023-05-04T08:34:31.092Z"
   },
   {
    "duration": 54,
    "start_time": "2023-05-04T08:34:31.101Z"
   },
   {
    "duration": 122,
    "start_time": "2023-05-04T08:34:31.157Z"
   },
   {
    "duration": 34,
    "start_time": "2023-05-04T08:34:31.282Z"
   },
   {
    "duration": 50,
    "start_time": "2023-05-04T08:34:31.317Z"
   },
   {
    "duration": 355,
    "start_time": "2023-05-04T08:34:31.369Z"
   },
   {
    "duration": 0,
    "start_time": "2023-05-04T08:34:31.726Z"
   },
   {
    "duration": 5,
    "start_time": "2023-05-04T08:35:25.457Z"
   },
   {
    "duration": 1142,
    "start_time": "2023-05-04T08:36:17.701Z"
   },
   {
    "duration": 500,
    "start_time": "2023-05-04T08:36:18.845Z"
   },
   {
    "duration": 568,
    "start_time": "2023-05-04T08:36:19.347Z"
   },
   {
    "duration": 4,
    "start_time": "2023-05-04T08:36:19.920Z"
   },
   {
    "duration": 67,
    "start_time": "2023-05-04T08:36:19.926Z"
   },
   {
    "duration": 6,
    "start_time": "2023-05-04T08:36:19.995Z"
   },
   {
    "duration": 30,
    "start_time": "2023-05-04T08:36:20.003Z"
   },
   {
    "duration": 84,
    "start_time": "2023-05-04T08:36:20.034Z"
   },
   {
    "duration": 11,
    "start_time": "2023-05-04T08:36:20.120Z"
   },
   {
    "duration": 66,
    "start_time": "2023-05-04T08:36:20.132Z"
   },
   {
    "duration": 215,
    "start_time": "2023-05-04T08:36:20.200Z"
   },
   {
    "duration": 13,
    "start_time": "2023-05-04T08:36:20.418Z"
   },
   {
    "duration": 10,
    "start_time": "2023-05-04T08:40:29.225Z"
   },
   {
    "duration": 4,
    "start_time": "2023-05-04T08:55:53.020Z"
   },
   {
    "duration": 3,
    "start_time": "2023-05-04T08:59:29.511Z"
   },
   {
    "duration": 3,
    "start_time": "2023-05-04T08:59:40.418Z"
   },
   {
    "duration": 4,
    "start_time": "2023-05-04T09:01:03.570Z"
   },
   {
    "duration": 4,
    "start_time": "2023-05-04T09:01:13.739Z"
   },
   {
    "duration": 4,
    "start_time": "2023-05-04T09:02:31.444Z"
   },
   {
    "duration": 3,
    "start_time": "2023-05-04T09:04:00.183Z"
   },
   {
    "duration": 3,
    "start_time": "2023-05-04T09:04:00.806Z"
   },
   {
    "duration": 3,
    "start_time": "2023-05-04T09:04:01.087Z"
   },
   {
    "duration": 3,
    "start_time": "2023-05-04T09:04:31.360Z"
   },
   {
    "duration": 4,
    "start_time": "2023-05-04T09:06:26.282Z"
   },
   {
    "duration": 4,
    "start_time": "2023-05-04T09:06:48.215Z"
   },
   {
    "duration": 4,
    "start_time": "2023-05-04T09:07:20.294Z"
   },
   {
    "duration": 4,
    "start_time": "2023-05-04T09:07:25.766Z"
   },
   {
    "duration": 4,
    "start_time": "2023-05-04T09:07:26.303Z"
   },
   {
    "duration": 4,
    "start_time": "2023-05-04T09:07:26.619Z"
   },
   {
    "duration": 3,
    "start_time": "2023-05-04T09:07:40.025Z"
   },
   {
    "duration": 4,
    "start_time": "2023-05-04T09:09:12.697Z"
   },
   {
    "duration": 104,
    "start_time": "2023-05-04T09:09:33.955Z"
   },
   {
    "duration": 7,
    "start_time": "2023-05-04T09:09:39.653Z"
   },
   {
    "duration": 7,
    "start_time": "2023-05-04T09:09:57.828Z"
   },
   {
    "duration": 7,
    "start_time": "2023-05-04T09:10:24.634Z"
   },
   {
    "duration": 8,
    "start_time": "2023-05-04T09:37:31.353Z"
   },
   {
    "duration": 8,
    "start_time": "2023-05-04T09:46:56.586Z"
   },
   {
    "duration": 11,
    "start_time": "2023-05-04T10:20:21.586Z"
   },
   {
    "duration": 16,
    "start_time": "2023-05-04T10:20:26.560Z"
   },
   {
    "duration": 15,
    "start_time": "2023-05-04T10:21:57.825Z"
   },
   {
    "duration": 20,
    "start_time": "2023-05-04T10:26:42.813Z"
   },
   {
    "duration": 749,
    "start_time": "2023-05-04T10:26:59.093Z"
   },
   {
    "duration": 1182,
    "start_time": "2023-05-04T10:27:25.388Z"
   },
   {
    "duration": 411,
    "start_time": "2023-05-04T10:27:26.572Z"
   },
   {
    "duration": 556,
    "start_time": "2023-05-04T10:27:26.985Z"
   },
   {
    "duration": 4,
    "start_time": "2023-05-04T10:27:27.543Z"
   },
   {
    "duration": 101,
    "start_time": "2023-05-04T10:27:27.549Z"
   },
   {
    "duration": 6,
    "start_time": "2023-05-04T10:27:27.652Z"
   },
   {
    "duration": 10,
    "start_time": "2023-05-04T10:27:27.660Z"
   },
   {
    "duration": 98,
    "start_time": "2023-05-04T10:27:27.672Z"
   },
   {
    "duration": 12,
    "start_time": "2023-05-04T10:27:27.773Z"
   },
   {
    "duration": 24,
    "start_time": "2023-05-04T10:27:27.787Z"
   },
   {
    "duration": 210,
    "start_time": "2023-05-04T10:27:27.813Z"
   },
   {
    "duration": 99,
    "start_time": "2023-05-04T10:27:28.116Z"
   },
   {
    "duration": 2,
    "start_time": "2023-05-04T10:27:28.218Z"
   },
   {
    "duration": 5,
    "start_time": "2023-05-04T10:27:28.223Z"
   },
   {
    "duration": 4,
    "start_time": "2023-05-04T10:27:28.230Z"
   },
   {
    "duration": 919,
    "start_time": "2023-05-04T10:27:28.236Z"
   },
   {
    "duration": 15,
    "start_time": "2023-05-04T10:27:37.761Z"
   },
   {
    "duration": 6,
    "start_time": "2023-05-04T10:28:13.609Z"
   },
   {
    "duration": 7,
    "start_time": "2023-05-04T10:28:18.098Z"
   },
   {
    "duration": 6,
    "start_time": "2023-05-04T10:28:24.057Z"
   },
   {
    "duration": 10,
    "start_time": "2023-05-04T10:28:27.036Z"
   },
   {
    "duration": 18,
    "start_time": "2023-05-04T10:28:38.895Z"
   },
   {
    "duration": 14,
    "start_time": "2023-05-04T10:29:08.703Z"
   },
   {
    "duration": 25,
    "start_time": "2023-05-04T10:40:10.162Z"
   },
   {
    "duration": 29,
    "start_time": "2023-05-04T10:41:00.494Z"
   },
   {
    "duration": 45,
    "start_time": "2023-05-04T10:41:55.677Z"
   },
   {
    "duration": 25,
    "start_time": "2023-05-04T10:42:03.330Z"
   },
   {
    "duration": 3,
    "start_time": "2023-05-04T11:06:12.557Z"
   },
   {
    "duration": 3,
    "start_time": "2023-05-04T11:06:18.433Z"
   },
   {
    "duration": 4,
    "start_time": "2023-05-04T11:06:26.301Z"
   },
   {
    "duration": 13,
    "start_time": "2023-05-04T11:10:34.176Z"
   },
   {
    "duration": 16,
    "start_time": "2023-05-04T11:10:56.099Z"
   },
   {
    "duration": 17,
    "start_time": "2023-05-04T11:11:17.714Z"
   },
   {
    "duration": 18,
    "start_time": "2023-05-04T11:11:40.021Z"
   },
   {
    "duration": 22,
    "start_time": "2023-05-04T11:51:50.249Z"
   },
   {
    "duration": 9,
    "start_time": "2023-05-04T11:51:57.383Z"
   },
   {
    "duration": 1117,
    "start_time": "2023-05-04T11:53:39.099Z"
   },
   {
    "duration": 396,
    "start_time": "2023-05-04T11:53:40.217Z"
   },
   {
    "duration": 548,
    "start_time": "2023-05-04T11:53:40.614Z"
   },
   {
    "duration": 4,
    "start_time": "2023-05-04T11:53:41.164Z"
   },
   {
    "duration": 84,
    "start_time": "2023-05-04T11:53:41.170Z"
   },
   {
    "duration": 7,
    "start_time": "2023-05-04T11:53:41.256Z"
   },
   {
    "duration": 10,
    "start_time": "2023-05-04T11:53:41.265Z"
   },
   {
    "duration": 86,
    "start_time": "2023-05-04T11:53:41.277Z"
   },
   {
    "duration": 8,
    "start_time": "2023-05-04T11:53:41.364Z"
   },
   {
    "duration": 14,
    "start_time": "2023-05-04T11:53:41.375Z"
   },
   {
    "duration": 321,
    "start_time": "2023-05-04T11:53:41.391Z"
   },
   {
    "duration": 103,
    "start_time": "2023-05-04T11:53:41.715Z"
   },
   {
    "duration": 4,
    "start_time": "2023-05-04T11:53:41.819Z"
   },
   {
    "duration": 5,
    "start_time": "2023-05-04T11:53:41.824Z"
   },
   {
    "duration": 12,
    "start_time": "2023-05-04T11:53:41.831Z"
   },
   {
    "duration": 32,
    "start_time": "2023-05-04T11:53:41.844Z"
   },
   {
    "duration": 10,
    "start_time": "2023-05-04T11:53:41.878Z"
   },
   {
    "duration": 120,
    "start_time": "2023-05-04T11:53:41.889Z"
   },
   {
    "duration": 4,
    "start_time": "2023-05-04T11:53:56.985Z"
   },
   {
    "duration": 45,
    "start_time": "2023-05-04T11:55:00.210Z"
   },
   {
    "duration": 12,
    "start_time": "2023-05-04T11:55:04.101Z"
   },
   {
    "duration": 791,
    "start_time": "2023-05-04T11:55:08.281Z"
   },
   {
    "duration": 11,
    "start_time": "2023-05-04T11:55:32.318Z"
   },
   {
    "duration": 19,
    "start_time": "2023-05-04T11:56:37.314Z"
   },
   {
    "duration": 18,
    "start_time": "2023-05-04T12:00:10.652Z"
   },
   {
    "duration": 19,
    "start_time": "2023-05-04T12:01:38.924Z"
   },
   {
    "duration": 13,
    "start_time": "2023-05-04T12:01:57.314Z"
   },
   {
    "duration": 20,
    "start_time": "2023-05-04T12:09:11.945Z"
   },
   {
    "duration": 4,
    "start_time": "2023-05-04T12:09:19.385Z"
   },
   {
    "duration": 4,
    "start_time": "2023-05-04T12:09:26.298Z"
   },
   {
    "duration": 18,
    "start_time": "2023-05-04T12:09:27.738Z"
   },
   {
    "duration": 5,
    "start_time": "2023-05-04T12:09:39.033Z"
   },
   {
    "duration": 16,
    "start_time": "2023-05-04T12:09:39.406Z"
   },
   {
    "duration": 3,
    "start_time": "2023-05-04T12:10:47.995Z"
   },
   {
    "duration": 17,
    "start_time": "2023-05-04T12:10:48.383Z"
   },
   {
    "duration": 22,
    "start_time": "2023-05-04T12:11:09.022Z"
   },
   {
    "duration": 3,
    "start_time": "2023-05-04T12:11:12.583Z"
   },
   {
    "duration": 18,
    "start_time": "2023-05-04T12:11:12.883Z"
   },
   {
    "duration": 21,
    "start_time": "2023-05-04T12:11:25.147Z"
   },
   {
    "duration": 10,
    "start_time": "2023-05-04T12:11:35.783Z"
   },
   {
    "duration": 44,
    "start_time": "2023-05-04T12:14:03.724Z"
   },
   {
    "duration": 11,
    "start_time": "2023-05-04T12:16:37.080Z"
   },
   {
    "duration": 12,
    "start_time": "2023-05-04T12:16:46.926Z"
   },
   {
    "duration": 3,
    "start_time": "2023-05-04T12:17:10.297Z"
   },
   {
    "duration": 4,
    "start_time": "2023-05-04T12:19:38.188Z"
   },
   {
    "duration": 4,
    "start_time": "2023-05-04T12:19:38.607Z"
   },
   {
    "duration": 5,
    "start_time": "2023-05-04T12:19:39.050Z"
   },
   {
    "duration": 12,
    "start_time": "2023-05-04T12:19:39.883Z"
   },
   {
    "duration": 4,
    "start_time": "2023-05-04T12:19:40.696Z"
   },
   {
    "duration": 20,
    "start_time": "2023-05-04T12:19:41.039Z"
   },
   {
    "duration": 12,
    "start_time": "2023-05-04T12:19:41.224Z"
   },
   {
    "duration": 16,
    "start_time": "2023-05-04T12:19:42.143Z"
   },
   {
    "duration": 59,
    "start_time": "2023-05-04T13:06:56.237Z"
   },
   {
    "duration": 50,
    "start_time": "2023-05-04T13:07:03.231Z"
   },
   {
    "duration": 5,
    "start_time": "2023-05-04T13:07:14.608Z"
   },
   {
    "duration": 7,
    "start_time": "2023-05-04T13:07:49.133Z"
   },
   {
    "duration": 4,
    "start_time": "2023-05-04T13:07:54.204Z"
   },
   {
    "duration": 15,
    "start_time": "2023-05-04T13:07:55.533Z"
   },
   {
    "duration": 11,
    "start_time": "2023-05-04T13:11:42.402Z"
   },
   {
    "duration": 5,
    "start_time": "2023-05-04T13:12:52.607Z"
   },
   {
    "duration": 10,
    "start_time": "2023-05-04T13:13:29.489Z"
   },
   {
    "duration": 11,
    "start_time": "2023-05-04T13:14:06.024Z"
   },
   {
    "duration": 10,
    "start_time": "2023-05-04T13:14:11.134Z"
   },
   {
    "duration": 12,
    "start_time": "2023-05-04T13:14:18.640Z"
   },
   {
    "duration": 4,
    "start_time": "2023-05-04T13:15:03.711Z"
   },
   {
    "duration": 54,
    "start_time": "2023-05-04T13:15:08.226Z"
   },
   {
    "duration": 46,
    "start_time": "2023-05-04T13:15:11.441Z"
   },
   {
    "duration": 5,
    "start_time": "2023-05-04T13:51:17.240Z"
   },
   {
    "duration": 18,
    "start_time": "2023-05-04T13:51:17.974Z"
   },
   {
    "duration": 70,
    "start_time": "2023-05-04T13:52:20.588Z"
   },
   {
    "duration": 28,
    "start_time": "2023-05-04T13:52:28.126Z"
   },
   {
    "duration": 13,
    "start_time": "2023-05-04T13:52:43.777Z"
   },
   {
    "duration": 42,
    "start_time": "2023-05-04T13:54:00.614Z"
   },
   {
    "duration": 2385,
    "start_time": "2023-05-04T13:54:30.243Z"
   },
   {
    "duration": 2690,
    "start_time": "2023-05-04T13:54:42.475Z"
   },
   {
    "duration": 45,
    "start_time": "2023-05-04T13:55:16.634Z"
   },
   {
    "duration": 502,
    "start_time": "2023-05-04T13:55:21.684Z"
   },
   {
    "duration": 2718,
    "start_time": "2023-05-04T13:55:26.540Z"
   },
   {
    "duration": 870,
    "start_time": "2023-05-04T13:57:26.408Z"
   },
   {
    "duration": 2773,
    "start_time": "2023-05-04T13:57:59.853Z"
   },
   {
    "duration": 2788,
    "start_time": "2023-05-04T14:08:28.645Z"
   },
   {
    "duration": 2566,
    "start_time": "2023-05-04T14:21:11.928Z"
   },
   {
    "duration": 2395,
    "start_time": "2023-05-04T14:54:48.735Z"
   },
   {
    "duration": 4,
    "start_time": "2023-05-04T14:54:56.009Z"
   },
   {
    "duration": 2259,
    "start_time": "2023-05-04T14:55:44.980Z"
   },
   {
    "duration": 0,
    "start_time": "2023-05-04T14:55:47.241Z"
   },
   {
    "duration": 0,
    "start_time": "2023-05-04T14:55:47.242Z"
   },
   {
    "duration": 2188,
    "start_time": "2023-05-04T14:56:10.364Z"
   },
   {
    "duration": 4,
    "start_time": "2023-05-04T14:56:13.787Z"
   },
   {
    "duration": 2205,
    "start_time": "2023-05-04T14:56:43.788Z"
   },
   {
    "duration": 4,
    "start_time": "2023-05-04T14:56:46.486Z"
   },
   {
    "duration": 2279,
    "start_time": "2023-05-04T14:56:55.466Z"
   },
   {
    "duration": 6,
    "start_time": "2023-05-04T14:57:01.963Z"
   },
   {
    "duration": 11,
    "start_time": "2023-05-04T14:57:19.108Z"
   },
   {
    "duration": 66,
    "start_time": "2023-05-04T14:59:46.720Z"
   },
   {
    "duration": 14,
    "start_time": "2023-05-04T14:59:53.379Z"
   },
   {
    "duration": 5,
    "start_time": "2023-05-04T15:02:06.553Z"
   },
   {
    "duration": 2396,
    "start_time": "2023-05-04T15:02:07.010Z"
   },
   {
    "duration": 17,
    "start_time": "2023-05-04T15:02:09.415Z"
   },
   {
    "duration": 480,
    "start_time": "2023-05-04T15:13:58.507Z"
   },
   {
    "duration": 518,
    "start_time": "2023-05-04T15:14:06.847Z"
   },
   {
    "duration": 547,
    "start_time": "2023-05-04T15:15:25.053Z"
   },
   {
    "duration": 705,
    "start_time": "2023-05-04T15:16:05.675Z"
   },
   {
    "duration": 72,
    "start_time": "2023-05-04T15:41:51.058Z"
   },
   {
    "duration": 6,
    "start_time": "2023-05-04T15:43:27.934Z"
   },
   {
    "duration": 121,
    "start_time": "2023-05-04T15:47:14.441Z"
   },
   {
    "duration": 74,
    "start_time": "2023-05-04T15:47:25.225Z"
   },
   {
    "duration": 4,
    "start_time": "2023-05-04T15:47:42.081Z"
   },
   {
    "duration": 5,
    "start_time": "2023-05-04T15:49:43.261Z"
   },
   {
    "duration": 6,
    "start_time": "2023-05-04T15:49:55.741Z"
   },
   {
    "duration": 13,
    "start_time": "2023-05-04T15:50:14.731Z"
   },
   {
    "duration": 6,
    "start_time": "2023-05-04T15:50:24.595Z"
   },
   {
    "duration": 7,
    "start_time": "2023-05-04T15:51:01.684Z"
   },
   {
    "duration": 18,
    "start_time": "2023-05-04T15:51:28.937Z"
   },
   {
    "duration": 14,
    "start_time": "2023-05-04T15:55:46.001Z"
   },
   {
    "duration": 5,
    "start_time": "2023-05-04T15:55:49.376Z"
   },
   {
    "duration": 6,
    "start_time": "2023-05-04T15:58:58.841Z"
   },
   {
    "duration": 5,
    "start_time": "2023-05-04T15:59:01.592Z"
   },
   {
    "duration": 4,
    "start_time": "2023-05-04T15:59:22.348Z"
   },
   {
    "duration": 1285,
    "start_time": "2023-05-04T16:04:42.784Z"
   },
   {
    "duration": 482,
    "start_time": "2023-05-04T16:04:44.071Z"
   },
   {
    "duration": 669,
    "start_time": "2023-05-04T16:04:44.557Z"
   },
   {
    "duration": 8,
    "start_time": "2023-05-04T16:04:45.227Z"
   },
   {
    "duration": 96,
    "start_time": "2023-05-04T16:04:45.237Z"
   },
   {
    "duration": 11,
    "start_time": "2023-05-04T16:04:45.335Z"
   },
   {
    "duration": 82,
    "start_time": "2023-05-04T16:04:45.352Z"
   },
   {
    "duration": 15,
    "start_time": "2023-05-04T16:04:45.443Z"
   },
   {
    "duration": 83,
    "start_time": "2023-05-04T16:04:45.459Z"
   },
   {
    "duration": 36,
    "start_time": "2023-05-04T16:04:45.621Z"
   },
   {
    "duration": 19,
    "start_time": "2023-05-04T16:04:45.714Z"
   },
   {
    "duration": 21,
    "start_time": "2023-05-04T16:04:45.735Z"
   },
   {
    "duration": 12,
    "start_time": "2023-05-04T16:04:45.760Z"
   },
   {
    "duration": 21,
    "start_time": "2023-05-04T16:04:45.778Z"
   },
   {
    "duration": 14,
    "start_time": "2023-05-04T16:04:45.801Z"
   },
   {
    "duration": 22,
    "start_time": "2023-05-04T16:04:45.817Z"
   },
   {
    "duration": 28,
    "start_time": "2023-05-04T16:04:45.847Z"
   },
   {
    "duration": 11,
    "start_time": "2023-05-04T16:04:45.877Z"
   },
   {
    "duration": 17,
    "start_time": "2023-05-04T16:04:45.890Z"
   },
   {
    "duration": 2436,
    "start_time": "2023-05-04T16:04:45.909Z"
   },
   {
    "duration": 12,
    "start_time": "2023-05-04T16:04:48.347Z"
   },
   {
    "duration": 2356,
    "start_time": "2023-05-04T16:06:35.447Z"
   },
   {
    "duration": 32,
    "start_time": "2023-05-04T16:06:37.812Z"
   },
   {
    "duration": 22,
    "start_time": "2023-05-04T16:25:32.741Z"
   },
   {
    "duration": 10,
    "start_time": "2023-05-04T16:27:23.571Z"
   },
   {
    "duration": 1194,
    "start_time": "2023-05-04T18:11:50.388Z"
   },
   {
    "duration": 466,
    "start_time": "2023-05-04T18:11:51.584Z"
   },
   {
    "duration": 609,
    "start_time": "2023-05-04T18:11:52.052Z"
   },
   {
    "duration": 5,
    "start_time": "2023-05-04T18:11:52.664Z"
   },
   {
    "duration": 101,
    "start_time": "2023-05-04T18:11:52.671Z"
   },
   {
    "duration": 8,
    "start_time": "2023-05-04T18:11:52.774Z"
   },
   {
    "duration": 104,
    "start_time": "2023-05-04T18:11:52.784Z"
   },
   {
    "duration": 10,
    "start_time": "2023-05-04T18:11:52.889Z"
   },
   {
    "duration": 337,
    "start_time": "2023-05-04T18:11:52.901Z"
   },
   {
    "duration": 170,
    "start_time": "2023-05-04T18:11:53.243Z"
   },
   {
    "duration": 10,
    "start_time": "2023-05-04T18:11:53.417Z"
   },
   {
    "duration": 13,
    "start_time": "2023-05-04T18:11:53.429Z"
   },
   {
    "duration": 19,
    "start_time": "2023-05-04T18:11:53.444Z"
   },
   {
    "duration": 16,
    "start_time": "2023-05-04T18:11:53.465Z"
   },
   {
    "duration": 9,
    "start_time": "2023-05-04T18:11:53.483Z"
   },
   {
    "duration": 39,
    "start_time": "2023-05-04T18:11:53.494Z"
   },
   {
    "duration": 23,
    "start_time": "2023-05-04T18:11:53.534Z"
   },
   {
    "duration": 49,
    "start_time": "2023-05-04T18:11:53.560Z"
   },
   {
    "duration": 2332,
    "start_time": "2023-05-04T18:11:53.615Z"
   },
   {
    "duration": 9,
    "start_time": "2023-05-04T18:11:55.949Z"
   },
   {
    "duration": 1851,
    "start_time": "2023-05-04T20:26:07.806Z"
   },
   {
    "duration": 2050,
    "start_time": "2023-05-04T20:26:09.659Z"
   },
   {
    "duration": 543,
    "start_time": "2023-05-04T20:26:11.712Z"
   },
   {
    "duration": 6,
    "start_time": "2023-05-04T20:26:12.258Z"
   },
   {
    "duration": 96,
    "start_time": "2023-05-04T20:26:12.266Z"
   },
   {
    "duration": 8,
    "start_time": "2023-05-04T20:26:12.366Z"
   },
   {
    "duration": 77,
    "start_time": "2023-05-04T20:26:12.376Z"
   },
   {
    "duration": 9,
    "start_time": "2023-05-04T20:26:12.454Z"
   },
   {
    "duration": 376,
    "start_time": "2023-05-04T20:26:12.464Z"
   },
   {
    "duration": 91,
    "start_time": "2023-05-04T20:26:12.844Z"
   },
   {
    "duration": 9,
    "start_time": "2023-05-04T20:26:12.937Z"
   },
   {
    "duration": 10,
    "start_time": "2023-05-04T20:26:12.948Z"
   },
   {
    "duration": 10,
    "start_time": "2023-05-04T20:26:12.960Z"
   },
   {
    "duration": 25,
    "start_time": "2023-05-04T20:26:12.972Z"
   },
   {
    "duration": 6,
    "start_time": "2023-05-04T20:26:12.999Z"
   },
   {
    "duration": 23,
    "start_time": "2023-05-04T20:26:13.006Z"
   },
   {
    "duration": 10,
    "start_time": "2023-05-04T20:26:13.031Z"
   },
   {
    "duration": 9,
    "start_time": "2023-05-04T20:26:13.043Z"
   },
   {
    "duration": 2020,
    "start_time": "2023-05-04T20:26:13.054Z"
   },
   {
    "duration": 8,
    "start_time": "2023-05-04T20:26:15.076Z"
   },
   {
    "duration": 33,
    "start_time": "2023-05-04T20:33:25.693Z"
   },
   {
    "duration": 1504,
    "start_time": "2023-05-05T10:31:57.004Z"
   },
   {
    "duration": 99,
    "start_time": "2023-05-05T10:31:58.510Z"
   },
   {
    "duration": 169,
    "start_time": "2023-05-05T10:53:32.879Z"
   },
   {
    "duration": 84,
    "start_time": "2023-05-05T10:55:06.938Z"
   },
   {
    "duration": 1586,
    "start_time": "2023-05-05T11:05:46.657Z"
   },
   {
    "duration": 606,
    "start_time": "2023-05-05T11:05:52.835Z"
   },
   {
    "duration": 639,
    "start_time": "2023-05-05T11:12:49.211Z"
   },
   {
    "duration": 406,
    "start_time": "2023-05-05T11:13:21.298Z"
   },
   {
    "duration": 99,
    "start_time": "2023-05-05T11:14:19.542Z"
   },
   {
    "duration": 221,
    "start_time": "2023-05-05T11:14:28.523Z"
   },
   {
    "duration": 6128,
    "start_time": "2023-05-05T11:14:45.483Z"
   },
   {
    "duration": 10374,
    "start_time": "2023-05-05T11:16:21.081Z"
   },
   {
    "duration": 6159,
    "start_time": "2023-05-05T11:17:22.132Z"
   },
   {
    "duration": 1058,
    "start_time": "2023-05-05T11:21:11.869Z"
   },
   {
    "duration": 614,
    "start_time": "2023-05-05T11:27:02.457Z"
   },
   {
    "duration": 613,
    "start_time": "2023-05-05T11:27:43.834Z"
   },
   {
    "duration": 585,
    "start_time": "2023-05-05T11:28:09.635Z"
   },
   {
    "duration": 8788,
    "start_time": "2023-05-05T11:28:40.778Z"
   },
   {
    "duration": 5,
    "start_time": "2023-05-05T11:29:29.489Z"
   },
   {
    "duration": 51,
    "start_time": "2023-05-05T11:29:32.326Z"
   },
   {
    "duration": 410,
    "start_time": "2023-05-05T11:29:33.149Z"
   },
   {
    "duration": 9217,
    "start_time": "2023-05-05T11:29:38.217Z"
   },
   {
    "duration": 4,
    "start_time": "2023-05-05T11:30:15.694Z"
   },
   {
    "duration": 23255,
    "start_time": "2023-05-05T11:30:19.771Z"
   },
   {
    "duration": 1746,
    "start_time": "2023-05-05T11:34:30.550Z"
   },
   {
    "duration": 103862,
    "start_time": "2023-05-05T11:35:02.823Z"
   },
   {
    "duration": 661,
    "start_time": "2023-05-05T11:36:51.612Z"
   },
   {
    "duration": 716,
    "start_time": "2023-05-05T11:37:20.114Z"
   },
   {
    "duration": 2446,
    "start_time": "2023-05-05T11:38:01.003Z"
   },
   {
    "duration": 5030,
    "start_time": "2023-05-05T11:38:27.410Z"
   },
   {
    "duration": 607,
    "start_time": "2023-05-05T11:39:28.943Z"
   },
   {
    "duration": 18411,
    "start_time": "2023-05-05T11:40:20.376Z"
   },
   {
    "duration": 37471,
    "start_time": "2023-05-05T11:41:15.898Z"
   },
   {
    "duration": 175,
    "start_time": "2023-05-05T11:43:02.130Z"
   },
   {
    "duration": 0,
    "start_time": "2023-05-05T11:43:02.308Z"
   },
   {
    "duration": 588,
    "start_time": "2023-05-05T11:43:04.242Z"
   },
   {
    "duration": 1704,
    "start_time": "2023-05-05T11:45:08.484Z"
   },
   {
    "duration": 52,
    "start_time": "2023-05-05T11:45:10.190Z"
   },
   {
    "duration": 447,
    "start_time": "2023-05-05T11:45:10.243Z"
   },
   {
    "duration": 642,
    "start_time": "2023-05-05T11:45:10.692Z"
   },
   {
    "duration": 11,
    "start_time": "2023-05-05T11:45:11.336Z"
   },
   {
    "duration": 4,
    "start_time": "2023-05-05T11:45:20.274Z"
   },
   {
    "duration": 2616,
    "start_time": "2023-05-05T11:48:22.344Z"
   },
   {
    "duration": 659,
    "start_time": "2023-05-05T11:49:34.128Z"
   },
   {
    "duration": 0,
    "start_time": "2023-05-05T11:50:16.589Z"
   },
   {
    "duration": 0,
    "start_time": "2023-05-05T11:51:33.367Z"
   },
   {
    "duration": 22475,
    "start_time": "2023-05-05T11:51:35.590Z"
   },
   {
    "duration": 90,
    "start_time": "2023-05-05T11:52:45.844Z"
   },
   {
    "duration": 14,
    "start_time": "2023-05-05T11:53:07.806Z"
   },
   {
    "duration": 11,
    "start_time": "2023-05-05T11:53:14.846Z"
   },
   {
    "duration": 166,
    "start_time": "2023-05-05T11:53:26.493Z"
   },
   {
    "duration": 18574,
    "start_time": "2023-05-05T11:53:32.902Z"
   },
   {
    "duration": 93,
    "start_time": "2023-05-05T11:57:59.585Z"
   },
   {
    "duration": 160,
    "start_time": "2023-05-05T11:58:11.324Z"
   },
   {
    "duration": 269,
    "start_time": "2023-05-05T11:59:12.164Z"
   },
   {
    "duration": 17087,
    "start_time": "2023-05-05T11:59:29.258Z"
   },
   {
    "duration": 111519,
    "start_time": "2023-05-05T13:02:30.775Z"
   },
   {
    "duration": 93633,
    "start_time": "2023-05-05T13:04:23.983Z"
   },
   {
    "duration": 17,
    "start_time": "2023-05-05T13:07:34.640Z"
   },
   {
    "duration": 15,
    "start_time": "2023-05-05T13:07:49.801Z"
   },
   {
    "duration": 19,
    "start_time": "2023-05-05T13:07:54.761Z"
   },
   {
    "duration": 33,
    "start_time": "2023-05-05T13:09:23.202Z"
   },
   {
    "duration": 85,
    "start_time": "2023-05-05T13:09:43.440Z"
   },
   {
    "duration": 187,
    "start_time": "2023-05-05T13:10:02.705Z"
   },
   {
    "duration": 3710,
    "start_time": "2023-05-05T13:11:02.859Z"
   },
   {
    "duration": 89,
    "start_time": "2023-05-05T13:11:46.696Z"
   },
   {
    "duration": 108,
    "start_time": "2023-05-05T13:11:51.819Z"
   },
   {
    "duration": 61,
    "start_time": "2023-05-05T13:12:36.278Z"
   },
   {
    "duration": 5,
    "start_time": "2023-05-05T13:13:06.622Z"
   },
   {
    "duration": 7,
    "start_time": "2023-05-05T13:13:11.229Z"
   },
   {
    "duration": 20,
    "start_time": "2023-05-05T13:15:33.709Z"
   },
   {
    "duration": 1605,
    "start_time": "2023-05-05T13:15:50.637Z"
   },
   {
    "duration": 2760,
    "start_time": "2023-05-05T13:16:02.501Z"
   },
   {
    "duration": 13,
    "start_time": "2023-05-05T13:23:26.530Z"
   },
   {
    "duration": 20,
    "start_time": "2023-05-05T13:24:49.516Z"
   },
   {
    "duration": 565,
    "start_time": "2023-05-05T13:25:02.694Z"
   },
   {
    "duration": 18,
    "start_time": "2023-05-05T13:25:10.108Z"
   },
   {
    "duration": 6,
    "start_time": "2023-05-05T13:26:10.107Z"
   },
   {
    "duration": 15,
    "start_time": "2023-05-05T13:26:15.261Z"
   },
   {
    "duration": 17,
    "start_time": "2023-05-05T13:26:18.839Z"
   },
   {
    "duration": 14,
    "start_time": "2023-05-05T13:26:22.964Z"
   },
   {
    "duration": 7,
    "start_time": "2023-05-05T13:26:26.362Z"
   },
   {
    "duration": 19,
    "start_time": "2023-05-05T13:27:16.038Z"
   },
   {
    "duration": 7,
    "start_time": "2023-05-05T13:27:28.994Z"
   },
   {
    "duration": 7,
    "start_time": "2023-05-05T13:28:07.059Z"
   },
   {
    "duration": 6,
    "start_time": "2023-05-05T13:28:21.140Z"
   },
   {
    "duration": 5,
    "start_time": "2023-05-05T13:28:33.697Z"
   },
   {
    "duration": 97,
    "start_time": "2023-05-05T13:28:41.112Z"
   },
   {
    "duration": 6,
    "start_time": "2023-05-05T13:28:50.745Z"
   },
   {
    "duration": 5,
    "start_time": "2023-05-05T13:29:03.497Z"
   },
   {
    "duration": 6,
    "start_time": "2023-05-05T13:29:11.985Z"
   },
   {
    "duration": 9,
    "start_time": "2023-05-05T13:29:22.552Z"
   },
   {
    "duration": 6,
    "start_time": "2023-05-05T13:29:33.209Z"
   },
   {
    "duration": 17,
    "start_time": "2023-05-05T13:29:39.104Z"
   },
   {
    "duration": 6,
    "start_time": "2023-05-05T13:29:55.278Z"
   },
   {
    "duration": 9,
    "start_time": "2023-05-05T13:30:06.313Z"
   },
   {
    "duration": 6,
    "start_time": "2023-05-05T13:30:14.665Z"
   },
   {
    "duration": 6,
    "start_time": "2023-05-05T13:30:26.784Z"
   },
   {
    "duration": 6,
    "start_time": "2023-05-05T13:30:31.560Z"
   },
   {
    "duration": 7,
    "start_time": "2023-05-05T13:30:37.471Z"
   },
   {
    "duration": 6,
    "start_time": "2023-05-05T13:31:00.866Z"
   },
   {
    "duration": 12,
    "start_time": "2023-05-05T13:33:04.012Z"
   },
   {
    "duration": 7,
    "start_time": "2023-05-05T13:33:28.191Z"
   },
   {
    "duration": 11,
    "start_time": "2023-05-05T13:33:46.053Z"
   },
   {
    "duration": 9,
    "start_time": "2023-05-05T13:34:26.583Z"
   },
   {
    "duration": 13,
    "start_time": "2023-05-05T13:35:18.297Z"
   },
   {
    "duration": 11,
    "start_time": "2023-05-05T13:35:54.921Z"
   },
   {
    "duration": 39,
    "start_time": "2023-05-05T13:36:47.647Z"
   },
   {
    "duration": 13,
    "start_time": "2023-05-05T13:36:56.880Z"
   },
   {
    "duration": 7,
    "start_time": "2023-05-05T13:37:06.639Z"
   },
   {
    "duration": 15,
    "start_time": "2023-05-05T13:38:32.243Z"
   },
   {
    "duration": 35,
    "start_time": "2023-05-05T13:38:36.835Z"
   },
   {
    "duration": 18,
    "start_time": "2023-05-05T13:39:04.217Z"
   },
   {
    "duration": 19,
    "start_time": "2023-05-05T13:39:35.859Z"
   },
   {
    "duration": 9,
    "start_time": "2023-05-05T13:39:41.987Z"
   },
   {
    "duration": 6,
    "start_time": "2023-05-05T13:41:46.391Z"
   },
   {
    "duration": 10,
    "start_time": "2023-05-05T13:41:51.906Z"
   },
   {
    "duration": 19,
    "start_time": "2023-05-05T13:47:34.713Z"
   },
   {
    "duration": 12,
    "start_time": "2023-05-05T13:47:52.513Z"
   },
   {
    "duration": 27,
    "start_time": "2023-05-05T13:52:50.644Z"
   },
   {
    "duration": 17,
    "start_time": "2023-05-05T13:56:19.859Z"
   },
   {
    "duration": 32,
    "start_time": "2023-05-05T13:58:32.168Z"
   },
   {
    "duration": 21,
    "start_time": "2023-05-05T14:00:41.353Z"
   },
   {
    "duration": 21,
    "start_time": "2023-05-05T14:02:19.157Z"
   },
   {
    "duration": 22,
    "start_time": "2023-05-05T14:03:32.543Z"
   },
   {
    "duration": 3906,
    "start_time": "2023-05-05T14:03:56.279Z"
   },
   {
    "duration": 451,
    "start_time": "2023-05-05T14:04:33.301Z"
   },
   {
    "duration": 435,
    "start_time": "2023-05-05T14:04:39.943Z"
   },
   {
    "duration": 493,
    "start_time": "2023-05-05T14:04:56.003Z"
   },
   {
    "duration": 4,
    "start_time": "2023-05-05T14:06:02.370Z"
   },
   {
    "duration": 4,
    "start_time": "2023-05-05T14:06:09.754Z"
   },
   {
    "duration": 516,
    "start_time": "2023-05-05T14:07:21.534Z"
   },
   {
    "duration": 458,
    "start_time": "2023-05-05T14:07:44.090Z"
   },
   {
    "duration": 450,
    "start_time": "2023-05-05T14:07:55.657Z"
   },
   {
    "duration": 459,
    "start_time": "2023-05-05T14:08:05.817Z"
   },
   {
    "duration": 460,
    "start_time": "2023-05-05T14:08:10.272Z"
   },
   {
    "duration": 1817,
    "start_time": "2023-05-05T14:08:22.857Z"
   },
   {
    "duration": 423,
    "start_time": "2023-05-05T14:08:30.160Z"
   },
   {
    "duration": 435,
    "start_time": "2023-05-05T14:08:34.966Z"
   },
   {
    "duration": 2830,
    "start_time": "2023-05-05T14:09:17.340Z"
   },
   {
    "duration": 1830,
    "start_time": "2023-05-05T14:09:46.680Z"
   },
   {
    "duration": 513,
    "start_time": "2023-05-05T14:09:52.339Z"
   },
   {
    "duration": 457,
    "start_time": "2023-05-05T14:09:55.750Z"
   },
   {
    "duration": 428,
    "start_time": "2023-05-05T14:10:03.679Z"
   },
   {
    "duration": 479,
    "start_time": "2023-05-05T14:10:12.015Z"
   },
   {
    "duration": 462,
    "start_time": "2023-05-05T14:10:18.015Z"
   },
   {
    "duration": 479,
    "start_time": "2023-05-05T14:10:21.159Z"
   },
   {
    "duration": 472,
    "start_time": "2023-05-05T14:10:58.897Z"
   },
   {
    "duration": 484,
    "start_time": "2023-05-05T14:11:04.397Z"
   },
   {
    "duration": 1090,
    "start_time": "2023-05-05T14:11:09.718Z"
   },
   {
    "duration": 453,
    "start_time": "2023-05-05T14:11:36.538Z"
   },
   {
    "duration": 249,
    "start_time": "2023-05-05T14:12:22.508Z"
   },
   {
    "duration": 285,
    "start_time": "2023-05-05T14:12:28.061Z"
   },
   {
    "duration": 230,
    "start_time": "2023-05-05T14:12:32.202Z"
   },
   {
    "duration": 236,
    "start_time": "2023-05-05T14:13:19.452Z"
   },
   {
    "duration": 166,
    "start_time": "2023-05-05T14:13:38.706Z"
   },
   {
    "duration": 369,
    "start_time": "2023-05-05T14:14:11.519Z"
   },
   {
    "duration": 361,
    "start_time": "2023-05-05T14:14:29.747Z"
   },
   {
    "duration": 426,
    "start_time": "2023-05-05T14:15:35.549Z"
   },
   {
    "duration": 3521,
    "start_time": "2023-05-05T14:15:45.348Z"
   },
   {
    "duration": 3201,
    "start_time": "2023-05-05T14:16:12.050Z"
   },
   {
    "duration": 2856,
    "start_time": "2023-05-05T14:16:20.795Z"
   },
   {
    "duration": 3709,
    "start_time": "2023-05-05T14:16:29.342Z"
   },
   {
    "duration": 3453,
    "start_time": "2023-05-05T14:16:36.947Z"
   },
   {
    "duration": 3715,
    "start_time": "2023-05-05T14:16:43.648Z"
   },
   {
    "duration": 2992,
    "start_time": "2023-05-05T14:16:56.336Z"
   },
   {
    "duration": 2222,
    "start_time": "2023-05-05T14:17:15.195Z"
   },
   {
    "duration": 3285,
    "start_time": "2023-05-05T14:17:23.852Z"
   },
   {
    "duration": 5,
    "start_time": "2023-05-05T14:18:24.464Z"
   },
   {
    "duration": 2551,
    "start_time": "2023-05-05T14:18:26.951Z"
   },
   {
    "duration": 2617,
    "start_time": "2023-05-05T14:24:17.549Z"
   },
   {
    "duration": 170,
    "start_time": "2023-05-05T14:29:23.038Z"
   },
   {
    "duration": 2498,
    "start_time": "2023-05-05T14:29:29.975Z"
   },
   {
    "duration": 1496,
    "start_time": "2023-05-05T14:29:56.039Z"
   },
   {
    "duration": 2255,
    "start_time": "2023-05-05T14:36:36.338Z"
   },
   {
    "duration": 2351,
    "start_time": "2023-05-05T14:37:35.171Z"
   },
   {
    "duration": 2347,
    "start_time": "2023-05-05T14:38:10.016Z"
   },
   {
    "duration": 1736,
    "start_time": "2023-05-05T14:38:41.802Z"
   },
   {
    "duration": 44,
    "start_time": "2023-05-05T14:38:43.540Z"
   },
   {
    "duration": 407,
    "start_time": "2023-05-05T14:38:43.586Z"
   },
   {
    "duration": 544,
    "start_time": "2023-05-05T14:38:43.995Z"
   },
   {
    "duration": 6,
    "start_time": "2023-05-05T14:38:44.541Z"
   },
   {
    "duration": 141,
    "start_time": "2023-05-05T14:38:44.549Z"
   },
   {
    "duration": 2403,
    "start_time": "2023-05-05T14:39:01.854Z"
   },
   {
    "duration": 2034,
    "start_time": "2023-05-05T14:40:05.014Z"
   },
   {
    "duration": 2076,
    "start_time": "2023-05-05T14:40:18.758Z"
   },
   {
    "duration": 2782,
    "start_time": "2023-05-05T14:40:29.236Z"
   },
   {
    "duration": 2286,
    "start_time": "2023-05-05T14:40:37.678Z"
   },
   {
    "duration": 702,
    "start_time": "2023-05-05T14:42:01.773Z"
   },
   {
    "duration": 2313,
    "start_time": "2023-05-05T14:43:10.028Z"
   },
   {
    "duration": 2438,
    "start_time": "2023-05-05T14:45:40.907Z"
   },
   {
    "duration": 2358,
    "start_time": "2023-05-05T14:45:53.666Z"
   },
   {
    "duration": 699,
    "start_time": "2023-05-05T14:45:59.041Z"
   },
   {
    "duration": 2609,
    "start_time": "2023-05-05T14:46:21.273Z"
   },
   {
    "duration": 2370,
    "start_time": "2023-05-05T14:46:31.237Z"
   },
   {
    "duration": 2149,
    "start_time": "2023-05-05T14:46:48.153Z"
   },
   {
    "duration": 6793,
    "start_time": "2023-05-05T14:47:04.834Z"
   },
   {
    "duration": 2182,
    "start_time": "2023-05-05T14:47:15.233Z"
   },
   {
    "duration": 2461,
    "start_time": "2023-05-05T14:47:20.080Z"
   },
   {
    "duration": 2412,
    "start_time": "2023-05-05T14:47:47.541Z"
   },
   {
    "duration": 2367,
    "start_time": "2023-05-05T14:47:58.257Z"
   },
   {
    "duration": 2448,
    "start_time": "2023-05-05T14:48:07.235Z"
   },
   {
    "duration": 493,
    "start_time": "2023-05-05T14:48:26.794Z"
   },
   {
    "duration": 469,
    "start_time": "2023-05-05T14:49:29.537Z"
   },
   {
    "duration": 2328,
    "start_time": "2023-05-05T14:49:53.264Z"
   },
   {
    "duration": 400,
    "start_time": "2023-05-05T14:50:24.308Z"
   },
   {
    "duration": 2453,
    "start_time": "2023-05-05T14:51:09.816Z"
   },
   {
    "duration": 760,
    "start_time": "2023-05-05T14:51:36.680Z"
   },
   {
    "duration": 2591,
    "start_time": "2023-05-05T14:52:01.040Z"
   },
   {
    "duration": 1473,
    "start_time": "2023-05-05T14:52:58.766Z"
   },
   {
    "duration": 89,
    "start_time": "2023-05-05T14:53:00.242Z"
   },
   {
    "duration": 440,
    "start_time": "2023-05-05T14:53:00.333Z"
   },
   {
    "duration": 567,
    "start_time": "2023-05-05T14:53:00.776Z"
   },
   {
    "duration": 5,
    "start_time": "2023-05-05T14:53:01.345Z"
   },
   {
    "duration": 6,
    "start_time": "2023-05-05T14:53:13.463Z"
   },
   {
    "duration": 623,
    "start_time": "2023-05-05T14:53:14.360Z"
   },
   {
    "duration": 2265,
    "start_time": "2023-05-05T14:53:24.536Z"
   },
   {
    "duration": 118,
    "start_time": "2023-05-05T14:56:23.135Z"
   },
   {
    "duration": 27,
    "start_time": "2023-05-05T14:56:42.421Z"
   },
   {
    "duration": 2565,
    "start_time": "2023-05-05T14:56:51.600Z"
   },
   {
    "duration": 2881,
    "start_time": "2023-05-05T14:57:50.470Z"
   },
   {
    "duration": 2468,
    "start_time": "2023-05-05T14:57:59.029Z"
   },
   {
    "duration": 2177,
    "start_time": "2023-05-05T15:01:46.932Z"
   },
   {
    "duration": 3198,
    "start_time": "2023-05-05T15:02:51.731Z"
   },
   {
    "duration": 2510,
    "start_time": "2023-05-05T15:03:09.361Z"
   },
   {
    "duration": 2451,
    "start_time": "2023-05-05T15:04:14.714Z"
   },
   {
    "duration": 1894,
    "start_time": "2023-05-05T15:04:27.545Z"
   },
   {
    "duration": 2238,
    "start_time": "2023-05-05T15:04:33.811Z"
   },
   {
    "duration": 2705,
    "start_time": "2023-05-05T15:04:41.530Z"
   },
   {
    "duration": 2442,
    "start_time": "2023-05-05T15:04:46.256Z"
   },
   {
    "duration": 2235,
    "start_time": "2023-05-05T15:04:53.113Z"
   },
   {
    "duration": 2368,
    "start_time": "2023-05-05T15:04:56.857Z"
   },
   {
    "duration": 2324,
    "start_time": "2023-05-05T15:05:06.552Z"
   },
   {
    "duration": 2229,
    "start_time": "2023-05-05T15:05:19.851Z"
   },
   {
    "duration": 2139,
    "start_time": "2023-05-05T15:05:30.484Z"
   },
   {
    "duration": 2232,
    "start_time": "2023-05-05T15:05:37.945Z"
   },
   {
    "duration": 627,
    "start_time": "2023-05-05T15:06:17.963Z"
   },
   {
    "duration": 1446,
    "start_time": "2023-05-05T15:06:44.461Z"
   },
   {
    "duration": 36,
    "start_time": "2023-05-05T15:06:45.909Z"
   },
   {
    "duration": 434,
    "start_time": "2023-05-05T15:06:45.947Z"
   },
   {
    "duration": 635,
    "start_time": "2023-05-05T15:06:46.383Z"
   },
   {
    "duration": 7,
    "start_time": "2023-05-05T15:06:47.020Z"
   },
   {
    "duration": 7,
    "start_time": "2023-05-05T15:06:51.632Z"
   },
   {
    "duration": 791,
    "start_time": "2023-05-05T15:06:52.659Z"
   },
   {
    "duration": 2058,
    "start_time": "2023-05-05T15:07:10.274Z"
   },
   {
    "duration": 2045,
    "start_time": "2023-05-05T15:07:18.132Z"
   },
   {
    "duration": 805,
    "start_time": "2023-05-05T15:07:25.043Z"
   },
   {
    "duration": 1525,
    "start_time": "2023-05-05T15:07:45.486Z"
   },
   {
    "duration": 47,
    "start_time": "2023-05-05T15:07:47.013Z"
   },
   {
    "duration": 448,
    "start_time": "2023-05-05T15:07:47.061Z"
   },
   {
    "duration": 537,
    "start_time": "2023-05-05T15:07:47.511Z"
   },
   {
    "duration": 5,
    "start_time": "2023-05-05T15:07:48.050Z"
   },
   {
    "duration": 7,
    "start_time": "2023-05-05T15:07:50.885Z"
   },
   {
    "duration": 844,
    "start_time": "2023-05-05T15:07:51.718Z"
   },
   {
    "duration": 833,
    "start_time": "2023-05-05T15:08:42.623Z"
   },
   {
    "duration": 2101,
    "start_time": "2023-05-05T15:08:58.181Z"
   },
   {
    "duration": 2005,
    "start_time": "2023-05-05T15:09:22.983Z"
   },
   {
    "duration": 2959,
    "start_time": "2023-05-05T15:16:23.896Z"
   },
   {
    "duration": 2314,
    "start_time": "2023-05-05T15:17:52.589Z"
   },
   {
    "duration": 3208,
    "start_time": "2023-05-05T15:18:03.568Z"
   },
   {
    "duration": 2091,
    "start_time": "2023-05-05T15:18:25.711Z"
   },
   {
    "duration": 0,
    "start_time": "2023-05-05T15:19:10.478Z"
   },
   {
    "duration": 1584,
    "start_time": "2023-05-05T15:19:30.019Z"
   },
   {
    "duration": 126,
    "start_time": "2023-05-05T15:19:31.605Z"
   },
   {
    "duration": 419,
    "start_time": "2023-05-05T15:19:31.733Z"
   },
   {
    "duration": 570,
    "start_time": "2023-05-05T15:19:32.154Z"
   },
   {
    "duration": 3215,
    "start_time": "2023-05-05T15:19:38.732Z"
   },
   {
    "duration": 2923,
    "start_time": "2023-05-05T15:20:16.065Z"
   },
   {
    "duration": 232,
    "start_time": "2023-05-05T15:26:28.401Z"
   },
   {
    "duration": 277,
    "start_time": "2023-05-05T15:26:50.762Z"
   },
   {
    "duration": 14,
    "start_time": "2023-05-05T15:26:59.804Z"
   },
   {
    "duration": 12,
    "start_time": "2023-05-05T15:27:08.170Z"
   },
   {
    "duration": 14668,
    "start_time": "2023-05-05T15:27:17.722Z"
   },
   {
    "duration": 142,
    "start_time": "2023-05-05T15:28:03.815Z"
   },
   {
    "duration": 134,
    "start_time": "2023-05-05T15:28:22.040Z"
   },
   {
    "duration": 165,
    "start_time": "2023-05-05T15:28:31.801Z"
   },
   {
    "duration": 145,
    "start_time": "2023-05-05T15:28:38.616Z"
   },
   {
    "duration": 139,
    "start_time": "2023-05-05T15:28:42.622Z"
   },
   {
    "duration": 156,
    "start_time": "2023-05-05T15:28:51.919Z"
   },
   {
    "duration": 15510,
    "start_time": "2023-05-05T15:29:00.127Z"
   },
   {
    "duration": 10339,
    "start_time": "2023-05-05T15:30:29.301Z"
   },
   {
    "duration": 34,
    "start_time": "2023-05-05T15:37:02.967Z"
   },
   {
    "duration": 30,
    "start_time": "2023-05-05T15:37:27.617Z"
   },
   {
    "duration": 32,
    "start_time": "2023-05-05T15:38:01.472Z"
   },
   {
    "duration": 33,
    "start_time": "2023-05-05T15:39:00.067Z"
   },
   {
    "duration": 32,
    "start_time": "2023-05-05T15:39:04.663Z"
   },
   {
    "duration": 35,
    "start_time": "2023-05-05T15:39:48.593Z"
   },
   {
    "duration": 31,
    "start_time": "2023-05-05T15:40:02.540Z"
   },
   {
    "duration": 34,
    "start_time": "2023-05-05T15:40:36.266Z"
   },
   {
    "duration": 96,
    "start_time": "2023-05-05T15:40:49.995Z"
   },
   {
    "duration": 31,
    "start_time": "2023-05-05T15:41:44.493Z"
   },
   {
    "duration": 32,
    "start_time": "2023-05-05T15:42:08.771Z"
   },
   {
    "duration": 33,
    "start_time": "2023-05-05T15:42:25.429Z"
   },
   {
    "duration": 32,
    "start_time": "2023-05-05T15:42:58.037Z"
   },
   {
    "duration": 34,
    "start_time": "2023-05-05T15:43:14.635Z"
   },
   {
    "duration": 31,
    "start_time": "2023-05-05T15:43:25.771Z"
   },
   {
    "duration": 37,
    "start_time": "2023-05-05T15:43:45.162Z"
   },
   {
    "duration": 32,
    "start_time": "2023-05-05T15:43:58.368Z"
   },
   {
    "duration": 10367,
    "start_time": "2023-05-05T15:44:24.674Z"
   },
   {
    "duration": 83,
    "start_time": "2023-05-05T15:47:14.096Z"
   },
   {
    "duration": 3618,
    "start_time": "2023-05-05T15:47:25.505Z"
   },
   {
    "duration": 1534,
    "start_time": "2023-05-05T15:48:55.174Z"
   },
   {
    "duration": 41,
    "start_time": "2023-05-05T15:48:56.710Z"
   },
   {
    "duration": 427,
    "start_time": "2023-05-05T15:48:56.753Z"
   },
   {
    "duration": 578,
    "start_time": "2023-05-05T15:48:57.182Z"
   },
   {
    "duration": 3158,
    "start_time": "2023-05-05T15:48:57.762Z"
   },
   {
    "duration": 3338,
    "start_time": "2023-05-05T15:49:00.922Z"
   },
   {
    "duration": 2641,
    "start_time": "2023-05-05T15:52:06.766Z"
   },
   {
    "duration": 3013,
    "start_time": "2023-05-05T15:52:38.300Z"
   },
   {
    "duration": 134,
    "start_time": "2023-05-05T15:58:11.726Z"
   },
   {
    "duration": 3244,
    "start_time": "2023-05-05T15:58:27.887Z"
   },
   {
    "duration": 864,
    "start_time": "2023-05-05T15:58:39.931Z"
   },
   {
    "duration": 3219,
    "start_time": "2023-05-05T15:58:48.655Z"
   },
   {
    "duration": 3297,
    "start_time": "2023-05-05T15:58:54.398Z"
   },
   {
    "duration": 1537,
    "start_time": "2023-05-05T16:01:20.214Z"
   },
   {
    "duration": 48,
    "start_time": "2023-05-05T16:01:21.753Z"
   },
   {
    "duration": 453,
    "start_time": "2023-05-05T16:01:21.802Z"
   },
   {
    "duration": 616,
    "start_time": "2023-05-05T16:01:22.257Z"
   },
   {
    "duration": 3195,
    "start_time": "2023-05-05T16:01:22.875Z"
   },
   {
    "duration": 3380,
    "start_time": "2023-05-05T16:01:26.072Z"
   },
   {
    "duration": 4,
    "start_time": "2023-05-05T16:01:29.454Z"
   },
   {
    "duration": 72,
    "start_time": "2023-05-05T16:01:29.459Z"
   },
   {
    "duration": 7,
    "start_time": "2023-05-05T16:01:40.099Z"
   },
   {
    "duration": 13,
    "start_time": "2023-05-05T16:07:39.255Z"
   },
   {
    "duration": 59,
    "start_time": "2023-05-05T16:12:37.043Z"
   },
   {
    "duration": 9,
    "start_time": "2023-05-05T16:12:46.386Z"
   },
   {
    "duration": 1514,
    "start_time": "2023-05-05T16:13:09.808Z"
   },
   {
    "duration": 39,
    "start_time": "2023-05-05T16:13:11.324Z"
   },
   {
    "duration": 410,
    "start_time": "2023-05-05T16:13:11.365Z"
   },
   {
    "duration": 564,
    "start_time": "2023-05-05T16:13:11.777Z"
   },
   {
    "duration": 3103,
    "start_time": "2023-05-05T16:13:12.343Z"
   },
   {
    "duration": 3171,
    "start_time": "2023-05-05T16:13:15.448Z"
   },
   {
    "duration": 3,
    "start_time": "2023-05-05T16:13:18.622Z"
   },
   {
    "duration": 58,
    "start_time": "2023-05-05T16:13:18.627Z"
   },
   {
    "duration": 7,
    "start_time": "2023-05-05T16:13:18.687Z"
   },
   {
    "duration": 10,
    "start_time": "2023-05-05T16:13:22.753Z"
   },
   {
    "duration": 66,
    "start_time": "2023-05-05T16:13:25.513Z"
   },
   {
    "duration": 8,
    "start_time": "2023-05-05T16:13:29.018Z"
   },
   {
    "duration": 265,
    "start_time": "2023-05-05T16:15:27.035Z"
   },
   {
    "duration": 41,
    "start_time": "2023-05-05T16:16:17.048Z"
   },
   {
    "duration": 8,
    "start_time": "2023-05-05T16:16:20.128Z"
   },
   {
    "duration": 4,
    "start_time": "2023-05-05T16:18:13.517Z"
   },
   {
    "duration": 85,
    "start_time": "2023-05-05T16:18:13.523Z"
   },
   {
    "duration": 408,
    "start_time": "2023-05-05T16:18:13.610Z"
   },
   {
    "duration": 536,
    "start_time": "2023-05-05T16:18:14.020Z"
   },
   {
    "duration": 2944,
    "start_time": "2023-05-05T16:18:14.558Z"
   },
   {
    "duration": 3175,
    "start_time": "2023-05-05T16:18:17.504Z"
   },
   {
    "duration": 4,
    "start_time": "2023-05-05T16:18:20.682Z"
   },
   {
    "duration": 78,
    "start_time": "2023-05-05T16:18:20.688Z"
   },
   {
    "duration": 8,
    "start_time": "2023-05-05T16:18:20.768Z"
   },
   {
    "duration": 21,
    "start_time": "2023-05-05T16:18:20.777Z"
   },
   {
    "duration": 57,
    "start_time": "2023-05-05T16:18:27.109Z"
   },
   {
    "duration": 8,
    "start_time": "2023-05-05T16:18:28.662Z"
   },
   {
    "duration": 288,
    "start_time": "2023-05-05T16:24:41.235Z"
   },
   {
    "duration": 9,
    "start_time": "2023-05-05T16:24:43.666Z"
   },
   {
    "duration": 11,
    "start_time": "2023-05-05T16:35:05.794Z"
   },
   {
    "duration": 3,
    "start_time": "2023-05-05T16:36:29.216Z"
   },
   {
    "duration": 3,
    "start_time": "2023-05-05T16:36:29.752Z"
   },
   {
    "duration": 3,
    "start_time": "2023-05-05T16:36:30.073Z"
   },
   {
    "duration": 4,
    "start_time": "2023-05-05T16:36:31.233Z"
   },
   {
    "duration": 4,
    "start_time": "2023-05-05T16:37:12.120Z"
   },
   {
    "duration": 120,
    "start_time": "2023-05-05T16:37:14.444Z"
   },
   {
    "duration": 4,
    "start_time": "2023-05-05T16:38:22.994Z"
   },
   {
    "duration": 13,
    "start_time": "2023-05-05T16:38:24.368Z"
   },
   {
    "duration": 15,
    "start_time": "2023-05-05T16:39:01.550Z"
   },
   {
    "duration": 9,
    "start_time": "2023-05-05T16:39:03.935Z"
   },
   {
    "duration": 13,
    "start_time": "2023-05-05T16:51:57.668Z"
   },
   {
    "duration": 85,
    "start_time": "2023-05-05T16:52:00.963Z"
   },
   {
    "duration": 4,
    "start_time": "2023-05-05T16:54:22.875Z"
   },
   {
    "duration": 12,
    "start_time": "2023-05-05T16:54:24.666Z"
   },
   {
    "duration": 5,
    "start_time": "2023-05-05T16:54:52.245Z"
   },
   {
    "duration": 16,
    "start_time": "2023-05-05T16:54:58.250Z"
   },
   {
    "duration": 5,
    "start_time": "2023-05-05T16:55:18.778Z"
   },
   {
    "duration": 760,
    "start_time": "2023-05-05T16:55:19.410Z"
   },
   {
    "duration": 5,
    "start_time": "2023-05-05T16:55:51.345Z"
   },
   {
    "duration": 781,
    "start_time": "2023-05-05T16:55:53.152Z"
   },
   {
    "duration": 6,
    "start_time": "2023-05-05T16:56:49.728Z"
   },
   {
    "duration": 2294,
    "start_time": "2023-05-05T16:56:50.441Z"
   },
   {
    "duration": 9,
    "start_time": "2023-05-05T16:56:56.368Z"
   },
   {
    "duration": 4,
    "start_time": "2023-05-05T16:57:35.960Z"
   },
   {
    "duration": 5,
    "start_time": "2023-05-05T16:57:37.256Z"
   },
   {
    "duration": 727,
    "start_time": "2023-05-05T16:57:38.072Z"
   },
   {
    "duration": 3,
    "start_time": "2023-05-05T16:57:51.624Z"
   },
   {
    "duration": 7,
    "start_time": "2023-05-05T16:57:51.855Z"
   },
   {
    "duration": 812,
    "start_time": "2023-05-05T16:57:52.231Z"
   },
   {
    "duration": 7,
    "start_time": "2023-05-05T16:57:53.222Z"
   },
   {
    "duration": 3,
    "start_time": "2023-05-05T16:58:10.199Z"
   },
   {
    "duration": 5,
    "start_time": "2023-05-05T16:58:10.815Z"
   },
   {
    "duration": 789,
    "start_time": "2023-05-05T16:58:11.424Z"
   },
   {
    "duration": 3,
    "start_time": "2023-05-05T16:58:28.822Z"
   },
   {
    "duration": 6,
    "start_time": "2023-05-05T16:58:29.117Z"
   },
   {
    "duration": 2518,
    "start_time": "2023-05-05T16:58:29.575Z"
   },
   {
    "duration": 3,
    "start_time": "2023-05-05T16:59:50.654Z"
   },
   {
    "duration": 6,
    "start_time": "2023-05-05T16:59:52.013Z"
   },
   {
    "duration": 2721,
    "start_time": "2023-05-05T16:59:52.599Z"
   },
   {
    "duration": 3,
    "start_time": "2023-05-05T17:00:05.821Z"
   },
   {
    "duration": 5,
    "start_time": "2023-05-05T17:00:06.078Z"
   },
   {
    "duration": 2580,
    "start_time": "2023-05-05T17:00:06.693Z"
   },
   {
    "duration": 3,
    "start_time": "2023-05-05T17:01:05.556Z"
   },
   {
    "duration": 5,
    "start_time": "2023-05-05T17:01:06.116Z"
   },
   {
    "duration": 2952,
    "start_time": "2023-05-05T17:01:07.291Z"
   },
   {
    "duration": 9,
    "start_time": "2023-05-05T17:03:29.810Z"
   },
   {
    "duration": 5,
    "start_time": "2023-05-05T17:04:08.185Z"
   },
   {
    "duration": 800,
    "start_time": "2023-05-05T17:04:11.899Z"
   },
   {
    "duration": 4,
    "start_time": "2023-05-05T17:04:50.418Z"
   },
   {
    "duration": 5,
    "start_time": "2023-05-05T17:04:51.602Z"
   },
   {
    "duration": 952,
    "start_time": "2023-05-05T17:04:52.883Z"
   },
   {
    "duration": 92,
    "start_time": "2023-05-05T17:06:18.977Z"
   },
   {
    "duration": 4,
    "start_time": "2023-05-05T17:06:27.856Z"
   },
   {
    "duration": 6,
    "start_time": "2023-05-05T17:06:28.560Z"
   },
   {
    "duration": 2779,
    "start_time": "2023-05-05T17:06:29.200Z"
   },
   {
    "duration": 4,
    "start_time": "2023-05-05T17:07:14.135Z"
   },
   {
    "duration": 7,
    "start_time": "2023-05-05T17:07:15.399Z"
   },
   {
    "duration": 2742,
    "start_time": "2023-05-05T17:07:15.998Z"
   },
   {
    "duration": 4,
    "start_time": "2023-05-05T17:07:31.367Z"
   },
   {
    "duration": 7,
    "start_time": "2023-05-05T17:07:31.959Z"
   },
   {
    "duration": 2745,
    "start_time": "2023-05-05T17:07:33.312Z"
   },
   {
    "duration": 4,
    "start_time": "2023-05-05T17:08:25.950Z"
   },
   {
    "duration": 5,
    "start_time": "2023-05-05T17:08:26.783Z"
   },
   {
    "duration": 2770,
    "start_time": "2023-05-05T17:08:28.303Z"
   },
   {
    "duration": 4,
    "start_time": "2023-05-05T17:08:37.198Z"
   },
   {
    "duration": 5,
    "start_time": "2023-05-05T17:08:40.550Z"
   },
   {
    "duration": 3082,
    "start_time": "2023-05-05T17:08:41.111Z"
   },
   {
    "duration": 5,
    "start_time": "2023-05-05T17:09:26.105Z"
   },
   {
    "duration": 5,
    "start_time": "2023-05-05T17:09:27.631Z"
   },
   {
    "duration": 3154,
    "start_time": "2023-05-05T17:09:30.191Z"
   },
   {
    "duration": 5,
    "start_time": "2023-05-05T17:09:43.278Z"
   },
   {
    "duration": 6,
    "start_time": "2023-05-05T17:09:44.064Z"
   },
   {
    "duration": 2907,
    "start_time": "2023-05-05T17:09:44.957Z"
   },
   {
    "duration": 4,
    "start_time": "2023-05-05T17:10:31.600Z"
   },
   {
    "duration": 5,
    "start_time": "2023-05-05T17:10:32.764Z"
   },
   {
    "duration": 2749,
    "start_time": "2023-05-05T17:10:33.269Z"
   },
   {
    "duration": 4,
    "start_time": "2023-05-05T17:11:40.772Z"
   },
   {
    "duration": 5,
    "start_time": "2023-05-05T17:11:41.212Z"
   },
   {
    "duration": 2886,
    "start_time": "2023-05-05T17:11:41.685Z"
   },
   {
    "duration": 4,
    "start_time": "2023-05-05T17:12:01.132Z"
   },
   {
    "duration": 5,
    "start_time": "2023-05-05T17:12:01.668Z"
   },
   {
    "duration": 2766,
    "start_time": "2023-05-05T17:12:02.451Z"
   },
   {
    "duration": 4,
    "start_time": "2023-05-05T17:12:10.523Z"
   },
   {
    "duration": 6,
    "start_time": "2023-05-05T17:12:16.164Z"
   },
   {
    "duration": 2742,
    "start_time": "2023-05-05T17:12:16.595Z"
   },
   {
    "duration": 5,
    "start_time": "2023-05-05T17:12:22.676Z"
   },
   {
    "duration": 6,
    "start_time": "2023-05-05T17:12:23.011Z"
   },
   {
    "duration": 2764,
    "start_time": "2023-05-05T17:12:23.866Z"
   },
   {
    "duration": 9,
    "start_time": "2023-05-05T17:12:26.632Z"
   },
   {
    "duration": 4,
    "start_time": "2023-05-05T17:12:32.869Z"
   },
   {
    "duration": 5,
    "start_time": "2023-05-05T17:12:33.082Z"
   },
   {
    "duration": 3035,
    "start_time": "2023-05-05T17:12:33.450Z"
   },
   {
    "duration": 4,
    "start_time": "2023-05-05T17:12:47.827Z"
   },
   {
    "duration": 5,
    "start_time": "2023-05-05T17:12:48.468Z"
   },
   {
    "duration": 2920,
    "start_time": "2023-05-05T17:12:50.819Z"
   },
   {
    "duration": 5,
    "start_time": "2023-05-05T17:13:36.561Z"
   },
   {
    "duration": 5,
    "start_time": "2023-05-05T17:13:37.883Z"
   },
   {
    "duration": 2812,
    "start_time": "2023-05-05T17:13:38.945Z"
   },
   {
    "duration": 4,
    "start_time": "2023-05-05T17:14:45.692Z"
   },
   {
    "duration": 5,
    "start_time": "2023-05-05T17:14:46.121Z"
   },
   {
    "duration": 2814,
    "start_time": "2023-05-05T17:14:47.586Z"
   },
   {
    "duration": 3,
    "start_time": "2023-05-05T17:16:22.945Z"
   },
   {
    "duration": 6,
    "start_time": "2023-05-05T17:16:23.479Z"
   },
   {
    "duration": 2777,
    "start_time": "2023-05-05T17:16:24.864Z"
   },
   {
    "duration": 5,
    "start_time": "2023-05-05T17:17:40.119Z"
   },
   {
    "duration": 5,
    "start_time": "2023-05-05T17:17:40.606Z"
   },
   {
    "duration": 2738,
    "start_time": "2023-05-05T17:17:45.282Z"
   },
   {
    "duration": 4,
    "start_time": "2023-05-05T17:18:07.879Z"
   },
   {
    "duration": 227,
    "start_time": "2023-05-05T17:19:45.286Z"
   },
   {
    "duration": 0,
    "start_time": "2023-05-05T17:19:45.515Z"
   },
   {
    "duration": 4,
    "start_time": "2023-05-05T17:21:46.099Z"
   },
   {
    "duration": 6,
    "start_time": "2023-05-05T17:21:46.987Z"
   },
   {
    "duration": 807,
    "start_time": "2023-05-05T17:21:49.300Z"
   },
   {
    "duration": 4,
    "start_time": "2023-05-05T17:21:59.891Z"
   },
   {
    "duration": 5,
    "start_time": "2023-05-05T17:22:00.339Z"
   },
   {
    "duration": 4,
    "start_time": "2023-05-05T17:22:05.868Z"
   },
   {
    "duration": 7,
    "start_time": "2023-05-05T17:22:06.083Z"
   },
   {
    "duration": 772,
    "start_time": "2023-05-05T17:22:09.635Z"
   },
   {
    "duration": 5,
    "start_time": "2023-05-05T17:23:06.098Z"
   },
   {
    "duration": 5,
    "start_time": "2023-05-05T17:23:06.595Z"
   },
   {
    "duration": 2564,
    "start_time": "2023-05-05T17:23:07.673Z"
   },
   {
    "duration": 9,
    "start_time": "2023-05-05T17:23:24.210Z"
   },
   {
    "duration": 4,
    "start_time": "2023-05-05T17:23:45.722Z"
   },
   {
    "duration": 5,
    "start_time": "2023-05-05T17:23:46.090Z"
   },
   {
    "duration": 2618,
    "start_time": "2023-05-05T17:23:47.250Z"
   },
   {
    "duration": 1519,
    "start_time": "2023-05-05T17:24:02.000Z"
   },
   {
    "duration": 44,
    "start_time": "2023-05-05T17:24:03.521Z"
   },
   {
    "duration": 401,
    "start_time": "2023-05-05T17:24:03.568Z"
   },
   {
    "duration": 516,
    "start_time": "2023-05-05T17:24:03.971Z"
   },
   {
    "duration": 3111,
    "start_time": "2023-05-05T17:24:04.517Z"
   },
   {
    "duration": 3311,
    "start_time": "2023-05-05T17:24:07.629Z"
   },
   {
    "duration": 4,
    "start_time": "2023-05-05T17:24:10.942Z"
   },
   {
    "duration": 81,
    "start_time": "2023-05-05T17:24:10.948Z"
   },
   {
    "duration": 7,
    "start_time": "2023-05-05T17:24:11.031Z"
   },
   {
    "duration": 24,
    "start_time": "2023-05-05T17:24:11.041Z"
   },
   {
    "duration": 73,
    "start_time": "2023-05-05T17:24:11.067Z"
   },
   {
    "duration": 9,
    "start_time": "2023-05-05T17:24:11.142Z"
   },
   {
    "duration": 371,
    "start_time": "2023-05-05T17:24:11.153Z"
   },
   {
    "duration": 95,
    "start_time": "2023-05-05T17:24:11.526Z"
   },
   {
    "duration": 44,
    "start_time": "2023-05-05T17:24:11.623Z"
   },
   {
    "duration": 47,
    "start_time": "2023-05-05T17:24:11.668Z"
   },
   {
    "duration": 34,
    "start_time": "2023-05-05T17:24:11.717Z"
   },
   {
    "duration": 38,
    "start_time": "2023-05-05T17:24:11.753Z"
   },
   {
    "duration": 13,
    "start_time": "2023-05-05T17:24:11.793Z"
   },
   {
    "duration": 23,
    "start_time": "2023-05-05T17:24:11.808Z"
   },
   {
    "duration": 14,
    "start_time": "2023-05-05T17:24:11.833Z"
   },
   {
    "duration": 38,
    "start_time": "2023-05-05T17:24:11.848Z"
   },
   {
    "duration": 40,
    "start_time": "2023-05-05T17:24:11.888Z"
   },
   {
    "duration": 2593,
    "start_time": "2023-05-05T17:24:11.931Z"
   },
   {
    "duration": 9,
    "start_time": "2023-05-05T17:24:14.525Z"
   },
   {
    "duration": 4,
    "start_time": "2023-05-05T17:25:35.320Z"
   },
   {
    "duration": 5,
    "start_time": "2023-05-05T17:25:36.760Z"
   },
   {
    "duration": 2627,
    "start_time": "2023-05-05T17:25:37.881Z"
   },
   {
    "duration": 4,
    "start_time": "2023-05-05T17:25:53.927Z"
   },
   {
    "duration": 8,
    "start_time": "2023-05-05T17:25:54.216Z"
   },
   {
    "duration": 2723,
    "start_time": "2023-05-05T17:25:55.289Z"
   },
   {
    "duration": 9,
    "start_time": "2023-05-05T17:26:21.929Z"
   },
   {
    "duration": 3,
    "start_time": "2023-05-05T17:29:58.656Z"
   },
   {
    "duration": 3,
    "start_time": "2023-05-05T17:29:59.726Z"
   },
   {
    "duration": 4,
    "start_time": "2023-05-05T17:30:00.173Z"
   },
   {
    "duration": 6,
    "start_time": "2023-05-05T17:30:01.085Z"
   },
   {
    "duration": 1490,
    "start_time": "2023-05-05T17:35:06.479Z"
   },
   {
    "duration": 57,
    "start_time": "2023-05-05T17:35:07.972Z"
   },
   {
    "duration": 409,
    "start_time": "2023-05-05T17:35:08.033Z"
   },
   {
    "duration": 579,
    "start_time": "2023-05-05T17:35:08.444Z"
   },
   {
    "duration": 3077,
    "start_time": "2023-05-05T17:35:09.025Z"
   },
   {
    "duration": 3312,
    "start_time": "2023-05-05T17:35:12.104Z"
   },
   {
    "duration": 4,
    "start_time": "2023-05-05T17:35:15.418Z"
   },
   {
    "duration": 65,
    "start_time": "2023-05-05T17:35:15.424Z"
   },
   {
    "duration": 6,
    "start_time": "2023-05-05T17:35:15.492Z"
   },
   {
    "duration": 16,
    "start_time": "2023-05-05T17:35:15.500Z"
   },
   {
    "duration": 61,
    "start_time": "2023-05-05T17:35:15.517Z"
   },
   {
    "duration": 8,
    "start_time": "2023-05-05T17:35:15.580Z"
   },
   {
    "duration": 234,
    "start_time": "2023-05-05T17:35:15.590Z"
   },
   {
    "duration": 190,
    "start_time": "2023-05-05T17:35:15.828Z"
   },
   {
    "duration": 3,
    "start_time": "2023-05-05T17:35:16.020Z"
   },
   {
    "duration": 22,
    "start_time": "2023-05-05T17:35:16.025Z"
   },
   {
    "duration": 15,
    "start_time": "2023-05-05T17:35:16.050Z"
   },
   {
    "duration": 37,
    "start_time": "2023-05-05T17:35:16.066Z"
   },
   {
    "duration": 27,
    "start_time": "2023-05-05T17:35:16.105Z"
   },
   {
    "duration": 30,
    "start_time": "2023-05-05T17:35:16.134Z"
   },
   {
    "duration": 13,
    "start_time": "2023-05-05T17:35:16.166Z"
   },
   {
    "duration": 6,
    "start_time": "2023-05-05T17:35:16.181Z"
   },
   {
    "duration": 26,
    "start_time": "2023-05-05T17:35:16.190Z"
   },
   {
    "duration": 2789,
    "start_time": "2023-05-05T17:35:16.217Z"
   },
   {
    "duration": 17,
    "start_time": "2023-05-05T17:35:19.008Z"
   },
   {
    "duration": 1583,
    "start_time": "2023-05-05T17:37:50.569Z"
   },
   {
    "duration": 38,
    "start_time": "2023-05-05T17:37:52.154Z"
   },
   {
    "duration": 448,
    "start_time": "2023-05-05T17:37:52.194Z"
   },
   {
    "duration": 586,
    "start_time": "2023-05-05T17:37:52.644Z"
   },
   {
    "duration": 3081,
    "start_time": "2023-05-05T17:37:53.231Z"
   },
   {
    "duration": 3286,
    "start_time": "2023-05-05T17:37:56.314Z"
   },
   {
    "duration": 5,
    "start_time": "2023-05-05T17:37:59.601Z"
   },
   {
    "duration": 62,
    "start_time": "2023-05-05T17:37:59.608Z"
   },
   {
    "duration": 7,
    "start_time": "2023-05-05T17:37:59.672Z"
   },
   {
    "duration": 11,
    "start_time": "2023-05-05T17:37:59.681Z"
   },
   {
    "duration": 78,
    "start_time": "2023-05-05T17:37:59.695Z"
   },
   {
    "duration": 10,
    "start_time": "2023-05-05T17:37:59.774Z"
   },
   {
    "duration": 332,
    "start_time": "2023-05-05T17:37:59.786Z"
   },
   {
    "duration": 96,
    "start_time": "2023-05-05T17:38:00.125Z"
   },
   {
    "duration": 31,
    "start_time": "2023-05-05T17:38:00.223Z"
   },
   {
    "duration": 28,
    "start_time": "2023-05-05T17:38:00.256Z"
   },
   {
    "duration": 34,
    "start_time": "2023-05-05T17:38:00.286Z"
   },
   {
    "duration": 28,
    "start_time": "2023-05-05T17:38:00.321Z"
   },
   {
    "duration": 37,
    "start_time": "2023-05-05T17:38:00.351Z"
   },
   {
    "duration": 41,
    "start_time": "2023-05-05T17:38:00.390Z"
   },
   {
    "duration": 34,
    "start_time": "2023-05-05T17:38:00.433Z"
   },
   {
    "duration": 44,
    "start_time": "2023-05-05T17:38:00.468Z"
   },
   {
    "duration": 72,
    "start_time": "2023-05-05T17:38:00.515Z"
   },
   {
    "duration": 2899,
    "start_time": "2023-05-05T17:38:00.590Z"
   },
   {
    "duration": 9,
    "start_time": "2023-05-05T17:38:03.491Z"
   },
   {
    "duration": 4,
    "start_time": "2023-05-05T17:42:50.364Z"
   },
   {
    "duration": 20,
    "start_time": "2023-05-05T17:42:51.483Z"
   }
  ],
  "kernelspec": {
   "display_name": "Python 3 (ipykernel)",
   "language": "python",
   "name": "python3"
  },
  "language_info": {
   "codemirror_mode": {
    "name": "ipython",
    "version": 3
   },
   "file_extension": ".py",
   "mimetype": "text/x-python",
   "name": "python",
   "nbconvert_exporter": "python",
   "pygments_lexer": "ipython3",
   "version": "3.10.12"
  },
  "toc": {
   "base_numbering": 1,
   "nav_menu": {
    "height": "215px",
    "width": "232px"
   },
   "number_sections": true,
   "sideBar": true,
   "skip_h1_title": true,
   "title_cell": "Table of Contents",
   "title_sidebar": "Contents",
   "toc_cell": false,
   "toc_position": {},
   "toc_section_display": true,
   "toc_window_display": false
  }
 },
 "nbformat": 4,
 "nbformat_minor": 4
}
