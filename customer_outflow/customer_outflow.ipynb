{
 "cells": [
  {
   "cell_type": "markdown",
   "metadata": {},
   "source": [
    "# Отток клиентов"
   ]
  },
  {
   "cell_type": "markdown",
   "metadata": {},
   "source": [
    "Из «Бета-Банка» стали уходить клиенты. Каждый месяц. Немного, но заметно. Банковские маркетологи посчитали: сохранять текущих клиентов дешевле, чем привлекать новых.\n",
    "\n",
    "Нужно спрогнозировать, уйдёт клиент из банка в ближайшее время или нет. Вам предоставлены исторические данные о поведении клиентов и расторжении договоров с банком. \n",
    "\n",
    "Постройте модель с предельно большим значением *F1*-меры. Чтобы сдать проект успешно, нужно довести метрику до 0.59. Проверьте *F1*-меру на тестовой выборке самостоятельно.\n",
    "\n",
    "Дополнительно измеряйте *AUC-ROC*, сравнивайте её значение с *F1*-мерой.\n",
    "\n",
    "Источник данных: [https://www.kaggle.com/barelydedicated/bank-customer-churn-modeling](https://www.kaggle.com/barelydedicated/bank-customer-churn-modeling)\n",
    "\n",
    "\n",
    "Отток клиентов.\n",
    "\n",
    "Заказчик - «Бета-Банк».\n",
    "задача:\n",
    "Составить прогноз, ухода клиента из банка в ближайшее время.\n",
    "\n",
    "Дополнительно:\n",
    "\n",
    "* Построить модель с предельно большим значением F1-меры (> 0.59).\n",
    "* Проверить F1-меру на тестовой выборке.\n",
    "* Измерить AUC-ROC, сравнивая её значение с F1-мерой.\n",
    "\n",
    "Описание данных:\n",
    "\n",
    "Заказчиком предоставлены исторические данные о поведении клиентов и расторжении договоров с банком. \n",
    "\n",
    "Данные находятся в файле `/datasets/Churn.csv`\n",
    "\n",
    "Признаки:\n",
    "\n",
    "    RowNumber — индекс строки в данных\n",
    "    CustomerId — уникальный идентификатор клиента\n",
    "    Surname — фамилия\n",
    "    CreditScore — кредитный рейтинг\n",
    "    Geography — страна проживания\n",
    "    Gender — пол\n",
    "    Age — возраст\n",
    "    Tenure — сколько лет человек является клиентом банка\n",
    "    Balance — баланс на счёте\n",
    "    NumOfProducts — количество продуктов банка, используемых клиентом\n",
    "    HasCrCard — наличие кредитной карты\n",
    "    IsActiveMember — активность клиента\n",
    "    EstimatedSalary — предполагаемая зарплата\n",
    "\n",
    "Целевой признак\n",
    "\n",
    "    Exited — факт ухода клиента\n",
    "\n",
    "\n",
    "\n",
    "План работы:\n",
    "* Подготовка данных\n",
    "* Исследование задачи\n",
    "* Борьба с дисбалансом\n",
    "* Тестирование модели"
   ]
  },
  {
   "cell_type": "markdown",
   "metadata": {
    "toc": true
   },
   "source": [
    "<h1>Содержание<span class=\"tocSkip\"></span></h1>\n",
    "<div class=\"toc\"><ul class=\"toc-item\"><li><span><a href=\"#Подготовка-данных\" data-toc-modified-id=\"Подготовка-данных-1\"><span class=\"toc-item-num\">1&nbsp;&nbsp;</span>Подготовка данных</a></span><ul class=\"toc-item\"><li><span><a href=\"#Откроем-и-изучим-данные\" data-toc-modified-id=\"Откроем-и-изучим-данные-1.1\"><span class=\"toc-item-num\">1.1&nbsp;&nbsp;</span>Откроем и изучим данные</a></span></li><li><span><a href=\"#Прооведем-предобработку\" data-toc-modified-id=\"Прооведем-предобработку-1.2\"><span class=\"toc-item-num\">1.2&nbsp;&nbsp;</span>Прооведем предобработку</a></span></li><li><span><a href=\"#Разделим-данные-на-выборки\" data-toc-modified-id=\"Разделим-данные-на-выборки-1.3\"><span class=\"toc-item-num\">1.3&nbsp;&nbsp;</span>Разделим данные на выборки</a></span></li><li><span><a href=\"#Избавимся-от-категориальных-признаков\" data-toc-modified-id=\"Избавимся-от-категориальных-признаков-1.4\"><span class=\"toc-item-num\">1.4&nbsp;&nbsp;</span>Избавимся от категориальных признаков</a></span></li><li><span><a href=\"#Краткий-вывод:\" data-toc-modified-id=\"Краткий-вывод:-1.5\"><span class=\"toc-item-num\">1.5&nbsp;&nbsp;</span>Краткий вывод:</a></span></li></ul></li><li><span><a href=\"#Исследование-задачи\" data-toc-modified-id=\"Исследование-задачи-2\"><span class=\"toc-item-num\">2&nbsp;&nbsp;</span>Исследование задачи</a></span><ul class=\"toc-item\"><li><span><a href=\"#Баланс-классов\" data-toc-modified-id=\"Баланс-классов-2.1\"><span class=\"toc-item-num\">2.1&nbsp;&nbsp;</span>Баланс классов</a></span></li><li><span><a href=\"#DecisionTreeClassifier\" data-toc-modified-id=\"DecisionTreeClassifier-2.2\"><span class=\"toc-item-num\">2.2&nbsp;&nbsp;</span>DecisionTreeClassifier</a></span></li><li><span><a href=\"#RandomForestClassifier\" data-toc-modified-id=\"RandomForestClassifier-2.3\"><span class=\"toc-item-num\">2.3&nbsp;&nbsp;</span>RandomForestClassifier</a></span></li><li><span><a href=\"#LogisticRegression\" data-toc-modified-id=\"LogisticRegression-2.4\"><span class=\"toc-item-num\">2.4&nbsp;&nbsp;</span>LogisticRegression</a></span></li><li><span><a href=\"#Краткий-вывод\" data-toc-modified-id=\"Краткий-вывод-2.5\"><span class=\"toc-item-num\">2.5&nbsp;&nbsp;</span>Краткий вывод</a></span></li></ul></li><li><span><a href=\"#Борьба-с-дисбалансом\" data-toc-modified-id=\"Борьба-с-дисбалансом-3\"><span class=\"toc-item-num\">3&nbsp;&nbsp;</span>Борьба с дисбалансом</a></span><ul class=\"toc-item\"><li><span><a href=\"#Уменьшение-выборки\" data-toc-modified-id=\"Уменьшение-выборки-3.1\"><span class=\"toc-item-num\">3.1&nbsp;&nbsp;</span>Уменьшение выборки</a></span><ul class=\"toc-item\"><li><span><a href=\"#DecisionTreeClassifier\" data-toc-modified-id=\"DecisionTreeClassifier-3.1.1\"><span class=\"toc-item-num\">3.1.1&nbsp;&nbsp;</span>DecisionTreeClassifier</a></span></li><li><span><a href=\"#RandomForestClassifier\" data-toc-modified-id=\"RandomForestClassifier-3.1.2\"><span class=\"toc-item-num\">3.1.2&nbsp;&nbsp;</span>RandomForestClassifier</a></span></li><li><span><a href=\"#LogisticRegression\" data-toc-modified-id=\"LogisticRegression-3.1.3\"><span class=\"toc-item-num\">3.1.3&nbsp;&nbsp;</span>LogisticRegression</a></span></li></ul></li><li><span><a href=\"#Увеличение-выборки\" data-toc-modified-id=\"Увеличение-выборки-3.2\"><span class=\"toc-item-num\">3.2&nbsp;&nbsp;</span>Увеличение выборки</a></span><ul class=\"toc-item\"><li><span><a href=\"#DecisionTreeClassifier\" data-toc-modified-id=\"DecisionTreeClassifier-3.2.1\"><span class=\"toc-item-num\">3.2.1&nbsp;&nbsp;</span>DecisionTreeClassifier</a></span></li><li><span><a href=\"#RandomForestClassifier\" data-toc-modified-id=\"RandomForestClassifier-3.2.2\"><span class=\"toc-item-num\">3.2.2&nbsp;&nbsp;</span>RandomForestClassifier</a></span></li><li><span><a href=\"#LogisticRegression\" data-toc-modified-id=\"LogisticRegression-3.2.3\"><span class=\"toc-item-num\">3.2.3&nbsp;&nbsp;</span>LogisticRegression</a></span></li></ul></li><li><span><a href=\"#Краткий-вывод\" data-toc-modified-id=\"Краткий-вывод-3.3\"><span class=\"toc-item-num\">3.3&nbsp;&nbsp;</span>Краткий вывод</a></span></li></ul></li><li><span><a href=\"#Тестирование-модели\" data-toc-modified-id=\"Тестирование-модели-4\"><span class=\"toc-item-num\">4&nbsp;&nbsp;</span>Тестирование модели</a></span><ul class=\"toc-item\"><li><span><a href=\"#Тестирование-модели\" data-toc-modified-id=\"Тестирование-модели-4.1\"><span class=\"toc-item-num\">4.1&nbsp;&nbsp;</span>Тестирование модели</a></span></li><li><span><a href=\"#ROC---кривая\" data-toc-modified-id=\"ROC---кривая-4.2\"><span class=\"toc-item-num\">4.2&nbsp;&nbsp;</span>ROC - кривая</a></span></li><li><span><a href=\"#Краткий-вывод\" data-toc-modified-id=\"Краткий-вывод-4.3\"><span class=\"toc-item-num\">4.3&nbsp;&nbsp;</span>Краткий вывод</a></span></li></ul></li><li><span><a href=\"#Вывод\" data-toc-modified-id=\"Вывод-5\"><span class=\"toc-item-num\">5&nbsp;&nbsp;</span>Вывод</a></span></li><li><span><a href=\"#Общий-вывод-по-проекту\" data-toc-modified-id=\"Общий-вывод-по-проекту-6\"><span class=\"toc-item-num\">6&nbsp;&nbsp;</span><b>Общий вывод по проекту</b></a></span></li><li><span><a href=\"#Общий-вывод-по-проекту-В2\" data-toc-modified-id=\"Общий-вывод-по-проекту-В2-7\"><span class=\"toc-item-num\">7&nbsp;&nbsp;</span><b>Общий вывод по проекту В2</b></a></span></li></ul></div>"
   ]
  },
  {
   "cell_type": "code",
   "execution_count": 1,
   "metadata": {},
   "outputs": [],
   "source": [
    "import warnings\n",
    "import pandas as pd\n",
    "import seaborn as sns\n",
    "import matplotlib.pyplot as plt\n",
    "from sklearn.model_selection import train_test_split\n",
    "from sklearn.preprocessing import OneHotEncoder, StandardScaler, RobustScaler\n",
    "from sklearn.tree import DecisionTreeClassifier\n",
    "from sklearn.ensemble import RandomForestClassifier\n",
    "from sklearn.linear_model import LogisticRegression\n",
    "from sklearn.dummy import DummyClassifier \n",
    "from sklearn.metrics import roc_curve, f1_score, recall_score, roc_auc_score\n",
    "from sklearn.utils import shuffle\n"
   ]
  },
  {
   "cell_type": "code",
   "execution_count": 2,
   "metadata": {},
   "outputs": [],
   "source": [
    "pd.set_option('max_colwidth', 300)\n",
    "warnings.filterwarnings(\"ignore\")"
   ]
  },
  {
   "cell_type": "markdown",
   "metadata": {},
   "source": [
    "## Подготовка данных"
   ]
  },
  {
   "cell_type": "markdown",
   "metadata": {},
   "source": [
    "### Откроем и изучим данные"
   ]
  },
  {
   "cell_type": "code",
   "execution_count": 3,
   "metadata": {},
   "outputs": [],
   "source": [
    "churn = pd.read_csv('https://code.s3.yandex.net/datasets/Churn.csv') "
   ]
  },
  {
   "cell_type": "code",
   "execution_count": 4,
   "metadata": {
    "scrolled": true
   },
   "outputs": [
    {
     "data": {
      "text/html": [
       "<div>\n",
       "<style scoped>\n",
       "    .dataframe tbody tr th:only-of-type {\n",
       "        vertical-align: middle;\n",
       "    }\n",
       "\n",
       "    .dataframe tbody tr th {\n",
       "        vertical-align: top;\n",
       "    }\n",
       "\n",
       "    .dataframe thead th {\n",
       "        text-align: right;\n",
       "    }\n",
       "</style>\n",
       "<table border=\"1\" class=\"dataframe\">\n",
       "  <thead>\n",
       "    <tr style=\"text-align: right;\">\n",
       "      <th></th>\n",
       "      <th>RowNumber</th>\n",
       "      <th>CustomerId</th>\n",
       "      <th>Surname</th>\n",
       "      <th>CreditScore</th>\n",
       "      <th>Geography</th>\n",
       "      <th>Gender</th>\n",
       "      <th>Age</th>\n",
       "      <th>Tenure</th>\n",
       "      <th>Balance</th>\n",
       "      <th>NumOfProducts</th>\n",
       "      <th>HasCrCard</th>\n",
       "      <th>IsActiveMember</th>\n",
       "      <th>EstimatedSalary</th>\n",
       "      <th>Exited</th>\n",
       "    </tr>\n",
       "  </thead>\n",
       "  <tbody>\n",
       "    <tr>\n",
       "      <th>0</th>\n",
       "      <td>1</td>\n",
       "      <td>15634602</td>\n",
       "      <td>Hargrave</td>\n",
       "      <td>619</td>\n",
       "      <td>France</td>\n",
       "      <td>Female</td>\n",
       "      <td>42</td>\n",
       "      <td>2.0</td>\n",
       "      <td>0.00</td>\n",
       "      <td>1</td>\n",
       "      <td>1</td>\n",
       "      <td>1</td>\n",
       "      <td>101348.88</td>\n",
       "      <td>1</td>\n",
       "    </tr>\n",
       "    <tr>\n",
       "      <th>1</th>\n",
       "      <td>2</td>\n",
       "      <td>15647311</td>\n",
       "      <td>Hill</td>\n",
       "      <td>608</td>\n",
       "      <td>Spain</td>\n",
       "      <td>Female</td>\n",
       "      <td>41</td>\n",
       "      <td>1.0</td>\n",
       "      <td>83807.86</td>\n",
       "      <td>1</td>\n",
       "      <td>0</td>\n",
       "      <td>1</td>\n",
       "      <td>112542.58</td>\n",
       "      <td>0</td>\n",
       "    </tr>\n",
       "    <tr>\n",
       "      <th>2</th>\n",
       "      <td>3</td>\n",
       "      <td>15619304</td>\n",
       "      <td>Onio</td>\n",
       "      <td>502</td>\n",
       "      <td>France</td>\n",
       "      <td>Female</td>\n",
       "      <td>42</td>\n",
       "      <td>8.0</td>\n",
       "      <td>159660.80</td>\n",
       "      <td>3</td>\n",
       "      <td>1</td>\n",
       "      <td>0</td>\n",
       "      <td>113931.57</td>\n",
       "      <td>1</td>\n",
       "    </tr>\n",
       "    <tr>\n",
       "      <th>3</th>\n",
       "      <td>4</td>\n",
       "      <td>15701354</td>\n",
       "      <td>Boni</td>\n",
       "      <td>699</td>\n",
       "      <td>France</td>\n",
       "      <td>Female</td>\n",
       "      <td>39</td>\n",
       "      <td>1.0</td>\n",
       "      <td>0.00</td>\n",
       "      <td>2</td>\n",
       "      <td>0</td>\n",
       "      <td>0</td>\n",
       "      <td>93826.63</td>\n",
       "      <td>0</td>\n",
       "    </tr>\n",
       "    <tr>\n",
       "      <th>4</th>\n",
       "      <td>5</td>\n",
       "      <td>15737888</td>\n",
       "      <td>Mitchell</td>\n",
       "      <td>850</td>\n",
       "      <td>Spain</td>\n",
       "      <td>Female</td>\n",
       "      <td>43</td>\n",
       "      <td>2.0</td>\n",
       "      <td>125510.82</td>\n",
       "      <td>1</td>\n",
       "      <td>1</td>\n",
       "      <td>1</td>\n",
       "      <td>79084.10</td>\n",
       "      <td>0</td>\n",
       "    </tr>\n",
       "  </tbody>\n",
       "</table>\n",
       "</div>"
      ],
      "text/plain": [
       "   RowNumber  CustomerId   Surname  CreditScore Geography  Gender  Age  \\\n",
       "0          1    15634602  Hargrave          619    France  Female   42   \n",
       "1          2    15647311      Hill          608     Spain  Female   41   \n",
       "2          3    15619304      Onio          502    France  Female   42   \n",
       "3          4    15701354      Boni          699    France  Female   39   \n",
       "4          5    15737888  Mitchell          850     Spain  Female   43   \n",
       "\n",
       "   Tenure    Balance  NumOfProducts  HasCrCard  IsActiveMember  \\\n",
       "0     2.0       0.00              1          1               1   \n",
       "1     1.0   83807.86              1          0               1   \n",
       "2     8.0  159660.80              3          1               0   \n",
       "3     1.0       0.00              2          0               0   \n",
       "4     2.0  125510.82              1          1               1   \n",
       "\n",
       "   EstimatedSalary  Exited  \n",
       "0        101348.88       1  \n",
       "1        112542.58       0  \n",
       "2        113931.57       1  \n",
       "3         93826.63       0  \n",
       "4         79084.10       0  "
      ]
     },
     "execution_count": 4,
     "metadata": {},
     "output_type": "execute_result"
    }
   ],
   "source": [
    "churn.head()"
   ]
  },
  {
   "cell_type": "code",
   "execution_count": 5,
   "metadata": {},
   "outputs": [
    {
     "data": {
      "text/html": [
       "<div>\n",
       "<style scoped>\n",
       "    .dataframe tbody tr th:only-of-type {\n",
       "        vertical-align: middle;\n",
       "    }\n",
       "\n",
       "    .dataframe tbody tr th {\n",
       "        vertical-align: top;\n",
       "    }\n",
       "\n",
       "    .dataframe thead th {\n",
       "        text-align: right;\n",
       "    }\n",
       "</style>\n",
       "<table border=\"1\" class=\"dataframe\">\n",
       "  <thead>\n",
       "    <tr style=\"text-align: right;\">\n",
       "      <th></th>\n",
       "      <th>RowNumber</th>\n",
       "      <th>CustomerId</th>\n",
       "      <th>Surname</th>\n",
       "      <th>CreditScore</th>\n",
       "      <th>Geography</th>\n",
       "      <th>Gender</th>\n",
       "      <th>Age</th>\n",
       "      <th>Tenure</th>\n",
       "      <th>Balance</th>\n",
       "      <th>NumOfProducts</th>\n",
       "      <th>HasCrCard</th>\n",
       "      <th>IsActiveMember</th>\n",
       "      <th>EstimatedSalary</th>\n",
       "      <th>Exited</th>\n",
       "    </tr>\n",
       "  </thead>\n",
       "  <tbody>\n",
       "    <tr>\n",
       "      <th>9995</th>\n",
       "      <td>9996</td>\n",
       "      <td>15606229</td>\n",
       "      <td>Obijiaku</td>\n",
       "      <td>771</td>\n",
       "      <td>France</td>\n",
       "      <td>Male</td>\n",
       "      <td>39</td>\n",
       "      <td>5.0</td>\n",
       "      <td>0.00</td>\n",
       "      <td>2</td>\n",
       "      <td>1</td>\n",
       "      <td>0</td>\n",
       "      <td>96270.64</td>\n",
       "      <td>0</td>\n",
       "    </tr>\n",
       "    <tr>\n",
       "      <th>9996</th>\n",
       "      <td>9997</td>\n",
       "      <td>15569892</td>\n",
       "      <td>Johnstone</td>\n",
       "      <td>516</td>\n",
       "      <td>France</td>\n",
       "      <td>Male</td>\n",
       "      <td>35</td>\n",
       "      <td>10.0</td>\n",
       "      <td>57369.61</td>\n",
       "      <td>1</td>\n",
       "      <td>1</td>\n",
       "      <td>1</td>\n",
       "      <td>101699.77</td>\n",
       "      <td>0</td>\n",
       "    </tr>\n",
       "    <tr>\n",
       "      <th>9997</th>\n",
       "      <td>9998</td>\n",
       "      <td>15584532</td>\n",
       "      <td>Liu</td>\n",
       "      <td>709</td>\n",
       "      <td>France</td>\n",
       "      <td>Female</td>\n",
       "      <td>36</td>\n",
       "      <td>7.0</td>\n",
       "      <td>0.00</td>\n",
       "      <td>1</td>\n",
       "      <td>0</td>\n",
       "      <td>1</td>\n",
       "      <td>42085.58</td>\n",
       "      <td>1</td>\n",
       "    </tr>\n",
       "    <tr>\n",
       "      <th>9998</th>\n",
       "      <td>9999</td>\n",
       "      <td>15682355</td>\n",
       "      <td>Sabbatini</td>\n",
       "      <td>772</td>\n",
       "      <td>Germany</td>\n",
       "      <td>Male</td>\n",
       "      <td>42</td>\n",
       "      <td>3.0</td>\n",
       "      <td>75075.31</td>\n",
       "      <td>2</td>\n",
       "      <td>1</td>\n",
       "      <td>0</td>\n",
       "      <td>92888.52</td>\n",
       "      <td>1</td>\n",
       "    </tr>\n",
       "    <tr>\n",
       "      <th>9999</th>\n",
       "      <td>10000</td>\n",
       "      <td>15628319</td>\n",
       "      <td>Walker</td>\n",
       "      <td>792</td>\n",
       "      <td>France</td>\n",
       "      <td>Female</td>\n",
       "      <td>28</td>\n",
       "      <td>NaN</td>\n",
       "      <td>130142.79</td>\n",
       "      <td>1</td>\n",
       "      <td>1</td>\n",
       "      <td>0</td>\n",
       "      <td>38190.78</td>\n",
       "      <td>0</td>\n",
       "    </tr>\n",
       "  </tbody>\n",
       "</table>\n",
       "</div>"
      ],
      "text/plain": [
       "      RowNumber  CustomerId    Surname  CreditScore Geography  Gender  Age  \\\n",
       "9995       9996    15606229   Obijiaku          771    France    Male   39   \n",
       "9996       9997    15569892  Johnstone          516    France    Male   35   \n",
       "9997       9998    15584532        Liu          709    France  Female   36   \n",
       "9998       9999    15682355  Sabbatini          772   Germany    Male   42   \n",
       "9999      10000    15628319     Walker          792    France  Female   28   \n",
       "\n",
       "      Tenure    Balance  NumOfProducts  HasCrCard  IsActiveMember  \\\n",
       "9995     5.0       0.00              2          1               0   \n",
       "9996    10.0   57369.61              1          1               1   \n",
       "9997     7.0       0.00              1          0               1   \n",
       "9998     3.0   75075.31              2          1               0   \n",
       "9999     NaN  130142.79              1          1               0   \n",
       "\n",
       "      EstimatedSalary  Exited  \n",
       "9995         96270.64       0  \n",
       "9996        101699.77       0  \n",
       "9997         42085.58       1  \n",
       "9998         92888.52       1  \n",
       "9999         38190.78       0  "
      ]
     },
     "execution_count": 5,
     "metadata": {},
     "output_type": "execute_result"
    }
   ],
   "source": [
    "churn.tail()"
   ]
  },
  {
   "cell_type": "code",
   "execution_count": 6,
   "metadata": {},
   "outputs": [
    {
     "data": {
      "text/html": [
       "<div>\n",
       "<style scoped>\n",
       "    .dataframe tbody tr th:only-of-type {\n",
       "        vertical-align: middle;\n",
       "    }\n",
       "\n",
       "    .dataframe tbody tr th {\n",
       "        vertical-align: top;\n",
       "    }\n",
       "\n",
       "    .dataframe thead th {\n",
       "        text-align: right;\n",
       "    }\n",
       "</style>\n",
       "<table border=\"1\" class=\"dataframe\">\n",
       "  <thead>\n",
       "    <tr style=\"text-align: right;\">\n",
       "      <th></th>\n",
       "      <th>RowNumber</th>\n",
       "      <th>CustomerId</th>\n",
       "      <th>CreditScore</th>\n",
       "      <th>Age</th>\n",
       "      <th>Tenure</th>\n",
       "      <th>Balance</th>\n",
       "      <th>NumOfProducts</th>\n",
       "      <th>HasCrCard</th>\n",
       "      <th>IsActiveMember</th>\n",
       "      <th>EstimatedSalary</th>\n",
       "      <th>Exited</th>\n",
       "    </tr>\n",
       "  </thead>\n",
       "  <tbody>\n",
       "    <tr>\n",
       "      <th>count</th>\n",
       "      <td>10000.00000</td>\n",
       "      <td>1.000000e+04</td>\n",
       "      <td>10000.000000</td>\n",
       "      <td>10000.000000</td>\n",
       "      <td>9091.000000</td>\n",
       "      <td>10000.000000</td>\n",
       "      <td>10000.000000</td>\n",
       "      <td>10000.00000</td>\n",
       "      <td>10000.000000</td>\n",
       "      <td>10000.000000</td>\n",
       "      <td>10000.000000</td>\n",
       "    </tr>\n",
       "    <tr>\n",
       "      <th>mean</th>\n",
       "      <td>5000.50000</td>\n",
       "      <td>1.569094e+07</td>\n",
       "      <td>650.528800</td>\n",
       "      <td>38.921800</td>\n",
       "      <td>4.997690</td>\n",
       "      <td>76485.889288</td>\n",
       "      <td>1.530200</td>\n",
       "      <td>0.70550</td>\n",
       "      <td>0.515100</td>\n",
       "      <td>100090.239881</td>\n",
       "      <td>0.203700</td>\n",
       "    </tr>\n",
       "    <tr>\n",
       "      <th>std</th>\n",
       "      <td>2886.89568</td>\n",
       "      <td>7.193619e+04</td>\n",
       "      <td>96.653299</td>\n",
       "      <td>10.487806</td>\n",
       "      <td>2.894723</td>\n",
       "      <td>62397.405202</td>\n",
       "      <td>0.581654</td>\n",
       "      <td>0.45584</td>\n",
       "      <td>0.499797</td>\n",
       "      <td>57510.492818</td>\n",
       "      <td>0.402769</td>\n",
       "    </tr>\n",
       "    <tr>\n",
       "      <th>min</th>\n",
       "      <td>1.00000</td>\n",
       "      <td>1.556570e+07</td>\n",
       "      <td>350.000000</td>\n",
       "      <td>18.000000</td>\n",
       "      <td>0.000000</td>\n",
       "      <td>0.000000</td>\n",
       "      <td>1.000000</td>\n",
       "      <td>0.00000</td>\n",
       "      <td>0.000000</td>\n",
       "      <td>11.580000</td>\n",
       "      <td>0.000000</td>\n",
       "    </tr>\n",
       "    <tr>\n",
       "      <th>25%</th>\n",
       "      <td>2500.75000</td>\n",
       "      <td>1.562853e+07</td>\n",
       "      <td>584.000000</td>\n",
       "      <td>32.000000</td>\n",
       "      <td>2.000000</td>\n",
       "      <td>0.000000</td>\n",
       "      <td>1.000000</td>\n",
       "      <td>0.00000</td>\n",
       "      <td>0.000000</td>\n",
       "      <td>51002.110000</td>\n",
       "      <td>0.000000</td>\n",
       "    </tr>\n",
       "    <tr>\n",
       "      <th>50%</th>\n",
       "      <td>5000.50000</td>\n",
       "      <td>1.569074e+07</td>\n",
       "      <td>652.000000</td>\n",
       "      <td>37.000000</td>\n",
       "      <td>5.000000</td>\n",
       "      <td>97198.540000</td>\n",
       "      <td>1.000000</td>\n",
       "      <td>1.00000</td>\n",
       "      <td>1.000000</td>\n",
       "      <td>100193.915000</td>\n",
       "      <td>0.000000</td>\n",
       "    </tr>\n",
       "    <tr>\n",
       "      <th>75%</th>\n",
       "      <td>7500.25000</td>\n",
       "      <td>1.575323e+07</td>\n",
       "      <td>718.000000</td>\n",
       "      <td>44.000000</td>\n",
       "      <td>7.000000</td>\n",
       "      <td>127644.240000</td>\n",
       "      <td>2.000000</td>\n",
       "      <td>1.00000</td>\n",
       "      <td>1.000000</td>\n",
       "      <td>149388.247500</td>\n",
       "      <td>0.000000</td>\n",
       "    </tr>\n",
       "    <tr>\n",
       "      <th>max</th>\n",
       "      <td>10000.00000</td>\n",
       "      <td>1.581569e+07</td>\n",
       "      <td>850.000000</td>\n",
       "      <td>92.000000</td>\n",
       "      <td>10.000000</td>\n",
       "      <td>250898.090000</td>\n",
       "      <td>4.000000</td>\n",
       "      <td>1.00000</td>\n",
       "      <td>1.000000</td>\n",
       "      <td>199992.480000</td>\n",
       "      <td>1.000000</td>\n",
       "    </tr>\n",
       "  </tbody>\n",
       "</table>\n",
       "</div>"
      ],
      "text/plain": [
       "         RowNumber    CustomerId   CreditScore           Age       Tenure  \\\n",
       "count  10000.00000  1.000000e+04  10000.000000  10000.000000  9091.000000   \n",
       "mean    5000.50000  1.569094e+07    650.528800     38.921800     4.997690   \n",
       "std     2886.89568  7.193619e+04     96.653299     10.487806     2.894723   \n",
       "min        1.00000  1.556570e+07    350.000000     18.000000     0.000000   \n",
       "25%     2500.75000  1.562853e+07    584.000000     32.000000     2.000000   \n",
       "50%     5000.50000  1.569074e+07    652.000000     37.000000     5.000000   \n",
       "75%     7500.25000  1.575323e+07    718.000000     44.000000     7.000000   \n",
       "max    10000.00000  1.581569e+07    850.000000     92.000000    10.000000   \n",
       "\n",
       "             Balance  NumOfProducts    HasCrCard  IsActiveMember  \\\n",
       "count   10000.000000   10000.000000  10000.00000    10000.000000   \n",
       "mean    76485.889288       1.530200      0.70550        0.515100   \n",
       "std     62397.405202       0.581654      0.45584        0.499797   \n",
       "min         0.000000       1.000000      0.00000        0.000000   \n",
       "25%         0.000000       1.000000      0.00000        0.000000   \n",
       "50%     97198.540000       1.000000      1.00000        1.000000   \n",
       "75%    127644.240000       2.000000      1.00000        1.000000   \n",
       "max    250898.090000       4.000000      1.00000        1.000000   \n",
       "\n",
       "       EstimatedSalary        Exited  \n",
       "count     10000.000000  10000.000000  \n",
       "mean     100090.239881      0.203700  \n",
       "std       57510.492818      0.402769  \n",
       "min          11.580000      0.000000  \n",
       "25%       51002.110000      0.000000  \n",
       "50%      100193.915000      0.000000  \n",
       "75%      149388.247500      0.000000  \n",
       "max      199992.480000      1.000000  "
      ]
     },
     "execution_count": 6,
     "metadata": {},
     "output_type": "execute_result"
    }
   ],
   "source": [
    "churn.describe()"
   ]
  },
  {
   "cell_type": "code",
   "execution_count": 7,
   "metadata": {},
   "outputs": [
    {
     "data": {
      "text/html": [
       "<div>\n",
       "<style scoped>\n",
       "    .dataframe tbody tr th:only-of-type {\n",
       "        vertical-align: middle;\n",
       "    }\n",
       "\n",
       "    .dataframe tbody tr th {\n",
       "        vertical-align: top;\n",
       "    }\n",
       "\n",
       "    .dataframe thead th {\n",
       "        text-align: right;\n",
       "    }\n",
       "</style>\n",
       "<table border=\"1\" class=\"dataframe\">\n",
       "  <thead>\n",
       "    <tr style=\"text-align: right;\">\n",
       "      <th></th>\n",
       "      <th>RowNumber</th>\n",
       "      <th>CustomerId</th>\n",
       "      <th>CreditScore</th>\n",
       "      <th>Age</th>\n",
       "      <th>Tenure</th>\n",
       "      <th>Balance</th>\n",
       "      <th>NumOfProducts</th>\n",
       "      <th>HasCrCard</th>\n",
       "      <th>IsActiveMember</th>\n",
       "      <th>EstimatedSalary</th>\n",
       "      <th>Exited</th>\n",
       "    </tr>\n",
       "  </thead>\n",
       "  <tbody>\n",
       "    <tr>\n",
       "      <th>RowNumber</th>\n",
       "      <td>1.000000</td>\n",
       "      <td>0.004202</td>\n",
       "      <td>0.005840</td>\n",
       "      <td>0.000783</td>\n",
       "      <td>-0.007322</td>\n",
       "      <td>-0.009067</td>\n",
       "      <td>0.007246</td>\n",
       "      <td>0.000599</td>\n",
       "      <td>0.012044</td>\n",
       "      <td>-0.005988</td>\n",
       "      <td>-0.016571</td>\n",
       "    </tr>\n",
       "    <tr>\n",
       "      <th>CustomerId</th>\n",
       "      <td>0.004202</td>\n",
       "      <td>1.000000</td>\n",
       "      <td>0.005308</td>\n",
       "      <td>0.009497</td>\n",
       "      <td>-0.021418</td>\n",
       "      <td>-0.012419</td>\n",
       "      <td>0.016972</td>\n",
       "      <td>-0.014025</td>\n",
       "      <td>0.001665</td>\n",
       "      <td>0.015271</td>\n",
       "      <td>-0.006248</td>\n",
       "    </tr>\n",
       "    <tr>\n",
       "      <th>CreditScore</th>\n",
       "      <td>0.005840</td>\n",
       "      <td>0.005308</td>\n",
       "      <td>1.000000</td>\n",
       "      <td>-0.003965</td>\n",
       "      <td>-0.000062</td>\n",
       "      <td>0.006268</td>\n",
       "      <td>0.012238</td>\n",
       "      <td>-0.005458</td>\n",
       "      <td>0.025651</td>\n",
       "      <td>-0.001384</td>\n",
       "      <td>-0.027094</td>\n",
       "    </tr>\n",
       "    <tr>\n",
       "      <th>Age</th>\n",
       "      <td>0.000783</td>\n",
       "      <td>0.009497</td>\n",
       "      <td>-0.003965</td>\n",
       "      <td>1.000000</td>\n",
       "      <td>-0.013134</td>\n",
       "      <td>0.028308</td>\n",
       "      <td>-0.030680</td>\n",
       "      <td>-0.011721</td>\n",
       "      <td>0.085472</td>\n",
       "      <td>-0.007201</td>\n",
       "      <td>0.285323</td>\n",
       "    </tr>\n",
       "    <tr>\n",
       "      <th>Tenure</th>\n",
       "      <td>-0.007322</td>\n",
       "      <td>-0.021418</td>\n",
       "      <td>-0.000062</td>\n",
       "      <td>-0.013134</td>\n",
       "      <td>1.000000</td>\n",
       "      <td>-0.007911</td>\n",
       "      <td>0.011979</td>\n",
       "      <td>0.027232</td>\n",
       "      <td>-0.032178</td>\n",
       "      <td>0.010520</td>\n",
       "      <td>-0.016761</td>\n",
       "    </tr>\n",
       "    <tr>\n",
       "      <th>Balance</th>\n",
       "      <td>-0.009067</td>\n",
       "      <td>-0.012419</td>\n",
       "      <td>0.006268</td>\n",
       "      <td>0.028308</td>\n",
       "      <td>-0.007911</td>\n",
       "      <td>1.000000</td>\n",
       "      <td>-0.304180</td>\n",
       "      <td>-0.014858</td>\n",
       "      <td>-0.010084</td>\n",
       "      <td>0.012797</td>\n",
       "      <td>0.118533</td>\n",
       "    </tr>\n",
       "    <tr>\n",
       "      <th>NumOfProducts</th>\n",
       "      <td>0.007246</td>\n",
       "      <td>0.016972</td>\n",
       "      <td>0.012238</td>\n",
       "      <td>-0.030680</td>\n",
       "      <td>0.011979</td>\n",
       "      <td>-0.304180</td>\n",
       "      <td>1.000000</td>\n",
       "      <td>0.003183</td>\n",
       "      <td>0.009612</td>\n",
       "      <td>0.014204</td>\n",
       "      <td>-0.047820</td>\n",
       "    </tr>\n",
       "    <tr>\n",
       "      <th>HasCrCard</th>\n",
       "      <td>0.000599</td>\n",
       "      <td>-0.014025</td>\n",
       "      <td>-0.005458</td>\n",
       "      <td>-0.011721</td>\n",
       "      <td>0.027232</td>\n",
       "      <td>-0.014858</td>\n",
       "      <td>0.003183</td>\n",
       "      <td>1.000000</td>\n",
       "      <td>-0.011866</td>\n",
       "      <td>-0.009933</td>\n",
       "      <td>-0.007138</td>\n",
       "    </tr>\n",
       "    <tr>\n",
       "      <th>IsActiveMember</th>\n",
       "      <td>0.012044</td>\n",
       "      <td>0.001665</td>\n",
       "      <td>0.025651</td>\n",
       "      <td>0.085472</td>\n",
       "      <td>-0.032178</td>\n",
       "      <td>-0.010084</td>\n",
       "      <td>0.009612</td>\n",
       "      <td>-0.011866</td>\n",
       "      <td>1.000000</td>\n",
       "      <td>-0.011421</td>\n",
       "      <td>-0.156128</td>\n",
       "    </tr>\n",
       "    <tr>\n",
       "      <th>EstimatedSalary</th>\n",
       "      <td>-0.005988</td>\n",
       "      <td>0.015271</td>\n",
       "      <td>-0.001384</td>\n",
       "      <td>-0.007201</td>\n",
       "      <td>0.010520</td>\n",
       "      <td>0.012797</td>\n",
       "      <td>0.014204</td>\n",
       "      <td>-0.009933</td>\n",
       "      <td>-0.011421</td>\n",
       "      <td>1.000000</td>\n",
       "      <td>0.012097</td>\n",
       "    </tr>\n",
       "    <tr>\n",
       "      <th>Exited</th>\n",
       "      <td>-0.016571</td>\n",
       "      <td>-0.006248</td>\n",
       "      <td>-0.027094</td>\n",
       "      <td>0.285323</td>\n",
       "      <td>-0.016761</td>\n",
       "      <td>0.118533</td>\n",
       "      <td>-0.047820</td>\n",
       "      <td>-0.007138</td>\n",
       "      <td>-0.156128</td>\n",
       "      <td>0.012097</td>\n",
       "      <td>1.000000</td>\n",
       "    </tr>\n",
       "  </tbody>\n",
       "</table>\n",
       "</div>"
      ],
      "text/plain": [
       "                 RowNumber  CustomerId  CreditScore       Age    Tenure  \\\n",
       "RowNumber         1.000000    0.004202     0.005840  0.000783 -0.007322   \n",
       "CustomerId        0.004202    1.000000     0.005308  0.009497 -0.021418   \n",
       "CreditScore       0.005840    0.005308     1.000000 -0.003965 -0.000062   \n",
       "Age               0.000783    0.009497    -0.003965  1.000000 -0.013134   \n",
       "Tenure           -0.007322   -0.021418    -0.000062 -0.013134  1.000000   \n",
       "Balance          -0.009067   -0.012419     0.006268  0.028308 -0.007911   \n",
       "NumOfProducts     0.007246    0.016972     0.012238 -0.030680  0.011979   \n",
       "HasCrCard         0.000599   -0.014025    -0.005458 -0.011721  0.027232   \n",
       "IsActiveMember    0.012044    0.001665     0.025651  0.085472 -0.032178   \n",
       "EstimatedSalary  -0.005988    0.015271    -0.001384 -0.007201  0.010520   \n",
       "Exited           -0.016571   -0.006248    -0.027094  0.285323 -0.016761   \n",
       "\n",
       "                  Balance  NumOfProducts  HasCrCard  IsActiveMember  \\\n",
       "RowNumber       -0.009067       0.007246   0.000599        0.012044   \n",
       "CustomerId      -0.012419       0.016972  -0.014025        0.001665   \n",
       "CreditScore      0.006268       0.012238  -0.005458        0.025651   \n",
       "Age              0.028308      -0.030680  -0.011721        0.085472   \n",
       "Tenure          -0.007911       0.011979   0.027232       -0.032178   \n",
       "Balance          1.000000      -0.304180  -0.014858       -0.010084   \n",
       "NumOfProducts   -0.304180       1.000000   0.003183        0.009612   \n",
       "HasCrCard       -0.014858       0.003183   1.000000       -0.011866   \n",
       "IsActiveMember  -0.010084       0.009612  -0.011866        1.000000   \n",
       "EstimatedSalary  0.012797       0.014204  -0.009933       -0.011421   \n",
       "Exited           0.118533      -0.047820  -0.007138       -0.156128   \n",
       "\n",
       "                 EstimatedSalary    Exited  \n",
       "RowNumber              -0.005988 -0.016571  \n",
       "CustomerId              0.015271 -0.006248  \n",
       "CreditScore            -0.001384 -0.027094  \n",
       "Age                    -0.007201  0.285323  \n",
       "Tenure                  0.010520 -0.016761  \n",
       "Balance                 0.012797  0.118533  \n",
       "NumOfProducts           0.014204 -0.047820  \n",
       "HasCrCard              -0.009933 -0.007138  \n",
       "IsActiveMember         -0.011421 -0.156128  \n",
       "EstimatedSalary         1.000000  0.012097  \n",
       "Exited                  0.012097  1.000000  "
      ]
     },
     "execution_count": 7,
     "metadata": {},
     "output_type": "execute_result"
    }
   ],
   "source": [
    "churn.corr()"
   ]
  },
  {
   "cell_type": "code",
   "execution_count": 8,
   "metadata": {},
   "outputs": [
    {
     "data": {
      "text/plain": [
       "RowNumber            int64\n",
       "CustomerId           int64\n",
       "Surname             object\n",
       "CreditScore          int64\n",
       "Geography           object\n",
       "Gender              object\n",
       "Age                  int64\n",
       "Tenure             float64\n",
       "Balance            float64\n",
       "NumOfProducts        int64\n",
       "HasCrCard            int64\n",
       "IsActiveMember       int64\n",
       "EstimatedSalary    float64\n",
       "Exited               int64\n",
       "dtype: object"
      ]
     },
     "execution_count": 8,
     "metadata": {},
     "output_type": "execute_result"
    }
   ],
   "source": [
    "churn.dtypes"
   ]
  },
  {
   "cell_type": "code",
   "execution_count": 9,
   "metadata": {},
   "outputs": [
    {
     "data": {
      "text/plain": [
       "RowNumber            0\n",
       "CustomerId           0\n",
       "Surname              0\n",
       "CreditScore          0\n",
       "Geography            0\n",
       "Gender               0\n",
       "Age                  0\n",
       "Tenure             909\n",
       "Balance              0\n",
       "NumOfProducts        0\n",
       "HasCrCard            0\n",
       "IsActiveMember       0\n",
       "EstimatedSalary      0\n",
       "Exited               0\n",
       "dtype: int64"
      ]
     },
     "execution_count": 9,
     "metadata": {},
     "output_type": "execute_result"
    }
   ],
   "source": [
    "churn.isna().sum()"
   ]
  },
  {
   "cell_type": "code",
   "execution_count": 10,
   "metadata": {},
   "outputs": [
    {
     "data": {
      "text/plain": [
       "0"
      ]
     },
     "execution_count": 10,
     "metadata": {},
     "output_type": "execute_result"
    }
   ],
   "source": [
    "churn.duplicated().sum()"
   ]
  },
  {
   "cell_type": "markdown",
   "metadata": {},
   "source": [
    "При первичном просмотре данных\n",
    "* обраружены поля (RowNumber, CustomerId, Surname) которые содержат информацию не представляющую ценности при обучении модели и имеющие низкую корреляцию с целевым признаком. для ускорения обучения удалим эти столбцы.\n",
    "* столбцы Geography, Gender, HasCrCard и IsActiveMember содержат котегориальные признаки, однако HasCrCard и IsActiveMember содержат бинарные данные и их кодирование в отличии от Geography, Gender результата не принесет.\n",
    "* в поле Tenure содержится 909 пропусков но их корреляция с целевым низкая, можно удалять. также поле имеет неверный тип данных.\n",
    "* в столбцах 'CreditScore', 'Age', 'Tenure', 'Balance', 'NumOfProducts', 'EstimatedSalary' присутствует разброс данных, для уменьшения масштаба их надо стандартизировать\n",
    "* поля Age и Balance имеют самую высокую и положительную корреляцию с целевым параметром "
   ]
  },
  {
   "cell_type": "markdown",
   "metadata": {},
   "source": [
    "### Прооведем предобработку"
   ]
  },
  {
   "cell_type": "markdown",
   "metadata": {},
   "source": [
    "для удобства заменим регистр в именах столбцов на нижний"
   ]
  },
  {
   "cell_type": "code",
   "execution_count": 11,
   "metadata": {},
   "outputs": [],
   "source": [
    "tmp_string = []\n",
    "for string in churn.columns:\n",
    "    tmp_letter = ''\n",
    "    for letter in string:\n",
    "        if letter.isupper():\n",
    "            if tmp_letter:\n",
    "                tmp_letter += '_' + letter.lower()\n",
    "            else:\n",
    "                tmp_letter += letter.lower()\n",
    "        else:\n",
    "            tmp_letter += letter\n",
    "    tmp_string.append(tmp_letter)\n",
    "churn.columns = tmp_string"
   ]
  },
  {
   "cell_type": "code",
   "execution_count": 12,
   "metadata": {},
   "outputs": [
    {
     "name": "stdout",
     "output_type": "stream",
     "text": [
      "отношение пропусков в положительном классе: 8.98%,\n",
      "отрицательном: 9.12%,\n",
      "всех даннх 9.09%\n"
     ]
    }
   ],
   "source": [
    "pos_cls = churn.loc[\n",
    "    (churn.tenure.isna()) &\n",
    "    (churn.exited == 1)].shape[0] / churn.loc[\n",
    "    churn.exited == 1].shape[0]\n",
    "\n",
    "neg_cls = churn.loc[\n",
    "    (churn.tenure.isna()) &\n",
    "    (churn.exited == 0)].shape[0] / churn.loc[\n",
    "    churn.exited == 0].shape[0]\n",
    "\n",
    "all_data = churn.loc[\n",
    "    (churn.tenure.isna())].shape[0] / churn.shape[0]\n",
    "\n",
    "print(f'отношение пропусков в положительном классе: {pos_cls:.2%},',\n",
    "      f'отрицательном: {neg_cls:.2%},',\n",
    "      f'всех даннх {all_data:.2%}', sep='\\n')"
   ]
  },
  {
   "cell_type": "code",
   "execution_count": 13,
   "metadata": {},
   "outputs": [
    {
     "data": {
      "text/plain": [
       "array([18, 19, 20, 21, 22, 23, 24, 25, 26, 27, 28, 29, 30, 31, 32, 33, 34,\n",
       "       35, 36, 37, 38, 39, 40, 41, 42, 43, 44, 45, 46, 47, 48, 49, 50, 51,\n",
       "       52, 53, 54, 55, 56, 57, 58, 59, 60, 61, 62, 63, 64, 65, 66, 67, 68,\n",
       "       70, 71, 72, 74, 75, 78, 92])"
      ]
     },
     "execution_count": 13,
     "metadata": {},
     "output_type": "execute_result"
    }
   ],
   "source": [
    "churn.loc[(churn.tenure.isna())]['age'].sort_values(ascending=True).unique()"
   ]
  },
  {
   "cell_type": "code",
   "execution_count": 14,
   "metadata": {},
   "outputs": [
    {
     "name": "stdout",
     "output_type": "stream",
     "text": [
      "корреляция c целеывми данными -0.017\n"
     ]
    }
   ],
   "source": [
    "print(f\"корреляция c целеывми данными {churn['tenure'].corr(churn['exited']):.3f}\")"
   ]
  },
  {
   "cell_type": "markdown",
   "metadata": {},
   "source": [
    "пропусков в поле Tenure почти 9%. если пропуски обусловлены отсутствием поля, когда они стали клиентами, то возможно сотрудничество уже происходит > 10 лет. если новые клиенты, то почему не заполнены нулем? скорее всего ошибка при внесении данных или выгрузке. или не являются постоянным клиентом банка. корреляция c целеывми данными низкая. можно удалить пропуски. "
   ]
  },
  {
   "cell_type": "markdown",
   "metadata": {},
   "source": [
    "поля rownumber \tcustomerid \tsurname содержат информацию которая не представляет ценности для построения модели. удалим эти столбцы."
   ]
  },
  {
   "cell_type": "code",
   "execution_count": 15,
   "metadata": {},
   "outputs": [],
   "source": [
    "churn.dropna(inplace=True)\n",
    "churn = churn.drop(['row_number', 'customer_id', 'surname'], axis=1)"
   ]
  },
  {
   "cell_type": "markdown",
   "metadata": {},
   "source": [
    "по факту в поле Tenure содержатся челочисленные данные, а оно имеет тип с плавающей запятой. приведем к соответствию  "
   ]
  },
  {
   "cell_type": "code",
   "execution_count": 16,
   "metadata": {},
   "outputs": [],
   "source": [
    "churn.tenure = churn.tenure.astype(int)\n",
    "churn.gender = churn.gender.str.lower()\n",
    "churn.geography = churn.geography.str.lower()"
   ]
  },
  {
   "cell_type": "code",
   "execution_count": 17,
   "metadata": {},
   "outputs": [
    {
     "data": {
      "text/html": [
       "<div>\n",
       "<style scoped>\n",
       "    .dataframe tbody tr th:only-of-type {\n",
       "        vertical-align: middle;\n",
       "    }\n",
       "\n",
       "    .dataframe tbody tr th {\n",
       "        vertical-align: top;\n",
       "    }\n",
       "\n",
       "    .dataframe thead th {\n",
       "        text-align: right;\n",
       "    }\n",
       "</style>\n",
       "<table border=\"1\" class=\"dataframe\">\n",
       "  <thead>\n",
       "    <tr style=\"text-align: right;\">\n",
       "      <th></th>\n",
       "      <th>credit_score</th>\n",
       "      <th>geography</th>\n",
       "      <th>gender</th>\n",
       "      <th>age</th>\n",
       "      <th>tenure</th>\n",
       "      <th>balance</th>\n",
       "      <th>num_of_products</th>\n",
       "      <th>has_cr_card</th>\n",
       "      <th>is_active_member</th>\n",
       "      <th>estimated_salary</th>\n",
       "      <th>exited</th>\n",
       "    </tr>\n",
       "  </thead>\n",
       "  <tbody>\n",
       "    <tr>\n",
       "      <th>0</th>\n",
       "      <td>619</td>\n",
       "      <td>france</td>\n",
       "      <td>female</td>\n",
       "      <td>42</td>\n",
       "      <td>2</td>\n",
       "      <td>0.00</td>\n",
       "      <td>1</td>\n",
       "      <td>1</td>\n",
       "      <td>1</td>\n",
       "      <td>101348.88</td>\n",
       "      <td>1</td>\n",
       "    </tr>\n",
       "    <tr>\n",
       "      <th>1</th>\n",
       "      <td>608</td>\n",
       "      <td>spain</td>\n",
       "      <td>female</td>\n",
       "      <td>41</td>\n",
       "      <td>1</td>\n",
       "      <td>83807.86</td>\n",
       "      <td>1</td>\n",
       "      <td>0</td>\n",
       "      <td>1</td>\n",
       "      <td>112542.58</td>\n",
       "      <td>0</td>\n",
       "    </tr>\n",
       "    <tr>\n",
       "      <th>2</th>\n",
       "      <td>502</td>\n",
       "      <td>france</td>\n",
       "      <td>female</td>\n",
       "      <td>42</td>\n",
       "      <td>8</td>\n",
       "      <td>159660.80</td>\n",
       "      <td>3</td>\n",
       "      <td>1</td>\n",
       "      <td>0</td>\n",
       "      <td>113931.57</td>\n",
       "      <td>1</td>\n",
       "    </tr>\n",
       "    <tr>\n",
       "      <th>3</th>\n",
       "      <td>699</td>\n",
       "      <td>france</td>\n",
       "      <td>female</td>\n",
       "      <td>39</td>\n",
       "      <td>1</td>\n",
       "      <td>0.00</td>\n",
       "      <td>2</td>\n",
       "      <td>0</td>\n",
       "      <td>0</td>\n",
       "      <td>93826.63</td>\n",
       "      <td>0</td>\n",
       "    </tr>\n",
       "    <tr>\n",
       "      <th>4</th>\n",
       "      <td>850</td>\n",
       "      <td>spain</td>\n",
       "      <td>female</td>\n",
       "      <td>43</td>\n",
       "      <td>2</td>\n",
       "      <td>125510.82</td>\n",
       "      <td>1</td>\n",
       "      <td>1</td>\n",
       "      <td>1</td>\n",
       "      <td>79084.10</td>\n",
       "      <td>0</td>\n",
       "    </tr>\n",
       "    <tr>\n",
       "      <th>...</th>\n",
       "      <td>...</td>\n",
       "      <td>...</td>\n",
       "      <td>...</td>\n",
       "      <td>...</td>\n",
       "      <td>...</td>\n",
       "      <td>...</td>\n",
       "      <td>...</td>\n",
       "      <td>...</td>\n",
       "      <td>...</td>\n",
       "      <td>...</td>\n",
       "      <td>...</td>\n",
       "    </tr>\n",
       "    <tr>\n",
       "      <th>9994</th>\n",
       "      <td>800</td>\n",
       "      <td>france</td>\n",
       "      <td>female</td>\n",
       "      <td>29</td>\n",
       "      <td>2</td>\n",
       "      <td>0.00</td>\n",
       "      <td>2</td>\n",
       "      <td>0</td>\n",
       "      <td>0</td>\n",
       "      <td>167773.55</td>\n",
       "      <td>0</td>\n",
       "    </tr>\n",
       "    <tr>\n",
       "      <th>9995</th>\n",
       "      <td>771</td>\n",
       "      <td>france</td>\n",
       "      <td>male</td>\n",
       "      <td>39</td>\n",
       "      <td>5</td>\n",
       "      <td>0.00</td>\n",
       "      <td>2</td>\n",
       "      <td>1</td>\n",
       "      <td>0</td>\n",
       "      <td>96270.64</td>\n",
       "      <td>0</td>\n",
       "    </tr>\n",
       "    <tr>\n",
       "      <th>9996</th>\n",
       "      <td>516</td>\n",
       "      <td>france</td>\n",
       "      <td>male</td>\n",
       "      <td>35</td>\n",
       "      <td>10</td>\n",
       "      <td>57369.61</td>\n",
       "      <td>1</td>\n",
       "      <td>1</td>\n",
       "      <td>1</td>\n",
       "      <td>101699.77</td>\n",
       "      <td>0</td>\n",
       "    </tr>\n",
       "    <tr>\n",
       "      <th>9997</th>\n",
       "      <td>709</td>\n",
       "      <td>france</td>\n",
       "      <td>female</td>\n",
       "      <td>36</td>\n",
       "      <td>7</td>\n",
       "      <td>0.00</td>\n",
       "      <td>1</td>\n",
       "      <td>0</td>\n",
       "      <td>1</td>\n",
       "      <td>42085.58</td>\n",
       "      <td>1</td>\n",
       "    </tr>\n",
       "    <tr>\n",
       "      <th>9998</th>\n",
       "      <td>772</td>\n",
       "      <td>germany</td>\n",
       "      <td>male</td>\n",
       "      <td>42</td>\n",
       "      <td>3</td>\n",
       "      <td>75075.31</td>\n",
       "      <td>2</td>\n",
       "      <td>1</td>\n",
       "      <td>0</td>\n",
       "      <td>92888.52</td>\n",
       "      <td>1</td>\n",
       "    </tr>\n",
       "  </tbody>\n",
       "</table>\n",
       "<p>9091 rows × 11 columns</p>\n",
       "</div>"
      ],
      "text/plain": [
       "      credit_score geography  gender  age  tenure    balance  num_of_products  \\\n",
       "0              619    france  female   42       2       0.00                1   \n",
       "1              608     spain  female   41       1   83807.86                1   \n",
       "2              502    france  female   42       8  159660.80                3   \n",
       "3              699    france  female   39       1       0.00                2   \n",
       "4              850     spain  female   43       2  125510.82                1   \n",
       "...            ...       ...     ...  ...     ...        ...              ...   \n",
       "9994           800    france  female   29       2       0.00                2   \n",
       "9995           771    france    male   39       5       0.00                2   \n",
       "9996           516    france    male   35      10   57369.61                1   \n",
       "9997           709    france  female   36       7       0.00                1   \n",
       "9998           772   germany    male   42       3   75075.31                2   \n",
       "\n",
       "      has_cr_card  is_active_member  estimated_salary  exited  \n",
       "0               1                 1         101348.88       1  \n",
       "1               0                 1         112542.58       0  \n",
       "2               1                 0         113931.57       1  \n",
       "3               0                 0          93826.63       0  \n",
       "4               1                 1          79084.10       0  \n",
       "...           ...               ...               ...     ...  \n",
       "9994            0                 0         167773.55       0  \n",
       "9995            1                 0          96270.64       0  \n",
       "9996            1                 1         101699.77       0  \n",
       "9997            0                 1          42085.58       1  \n",
       "9998            1                 0          92888.52       1  \n",
       "\n",
       "[9091 rows x 11 columns]"
      ]
     },
     "execution_count": 17,
     "metadata": {},
     "output_type": "execute_result"
    }
   ],
   "source": [
    "churn"
   ]
  },
  {
   "cell_type": "markdown",
   "metadata": {},
   "source": [
    "### Разделим данные на выборки"
   ]
  },
  {
   "cell_type": "markdown",
   "metadata": {},
   "source": [
    "перед обработкой категориальных признаков, разделим данные на выборки."
   ]
  },
  {
   "cell_type": "markdown",
   "metadata": {},
   "source": [
    "Тестовая выборка не предоставлена. Значит, данные нужно разбить на три части: обучающую, валидационную и тестовую. Размеры тестового и валидационного наборов сделаем равными и распределим их в соотношении 3:1:1 (данные для обучения/проверрочная выборка/тестовая выборка). \n",
    "<p>сделаем это в 2 этапа\n",
    "<ol>\n",
    "<li>отделим 60% от основной выборки для обучения моделей и 40% отведем для тестовой и валидационнной выброк </li>\n",
    "<li>разделим данные для тестовой и валидационной выборок в соотношении 50/50</li>\n",
    "</ol>\n",
    "для равномерного распределения целевых объектов по выборкам используем параметр stratify, которому передадим поле для отслеживания разделения"
   ]
  },
  {
   "cell_type": "code",
   "execution_count": 18,
   "metadata": {},
   "outputs": [],
   "source": [
    "learn_data, valid_data, learn_target, valid_target = train_test_split(\n",
    "    churn.drop('exited', axis=1),\n",
    "    churn.exited,\n",
    "    test_size=.4,\n",
    "    random_state=12345,\n",
    "    stratify=churn.exited\n",
    "    )"
   ]
  },
  {
   "cell_type": "code",
   "execution_count": 19,
   "metadata": {},
   "outputs": [],
   "source": [
    "test_data, valid_data, test_target, valid_target = train_test_split(\n",
    "    valid_data,\n",
    "    valid_target,\n",
    "    test_size=.5,\n",
    "    random_state=12345,\n",
    "    stratify=valid_target,\n",
    "    )"
   ]
  },
  {
   "cell_type": "markdown",
   "metadata": {},
   "source": [
    "посмотрим на распределение по выборкам и сбросим для них индексы"
   ]
  },
  {
   "cell_type": "code",
   "execution_count": 20,
   "metadata": {},
   "outputs": [
    {
     "name": "stdout",
     "output_type": "stream",
     "text": [
      "доля learn_data = 59.9934%\n",
      "доля test_data = 19.9978%\n",
      "доля valid_data = 20.0088%\n"
     ]
    }
   ],
   "source": [
    "dick = {'learn_data': learn_data,\n",
    "          'test_data': test_data,\n",
    "          'valid_data': valid_data}\n",
    "for i in dick:\n",
    "    dick[i].reset_index(inplace=True, drop=True)\n",
    "    print(f'доля {i} = {dick[i].shape[0]/churn.shape[0]:.4%}')"
   ]
  },
  {
   "cell_type": "code",
   "execution_count": 21,
   "metadata": {},
   "outputs": [],
   "source": [
    "learn_target.reset_index(inplace=True, drop=True)\n",
    "test_target.reset_index(inplace=True, drop=True)\n",
    "valid_target.reset_index(inplace=True, drop=True)"
   ]
  },
  {
   "cell_type": "code",
   "execution_count": 22,
   "metadata": {},
   "outputs": [
    {
     "data": {
      "text/html": [
       "<div>\n",
       "<style scoped>\n",
       "    .dataframe tbody tr th:only-of-type {\n",
       "        vertical-align: middle;\n",
       "    }\n",
       "\n",
       "    .dataframe tbody tr th {\n",
       "        vertical-align: top;\n",
       "    }\n",
       "\n",
       "    .dataframe thead th {\n",
       "        text-align: right;\n",
       "    }\n",
       "</style>\n",
       "<table border=\"1\" class=\"dataframe\">\n",
       "  <thead>\n",
       "    <tr style=\"text-align: right;\">\n",
       "      <th></th>\n",
       "      <th>credit_score</th>\n",
       "      <th>geography</th>\n",
       "      <th>gender</th>\n",
       "      <th>age</th>\n",
       "      <th>tenure</th>\n",
       "      <th>balance</th>\n",
       "      <th>num_of_products</th>\n",
       "      <th>has_cr_card</th>\n",
       "      <th>is_active_member</th>\n",
       "      <th>estimated_salary</th>\n",
       "    </tr>\n",
       "  </thead>\n",
       "  <tbody>\n",
       "    <tr>\n",
       "      <th>0</th>\n",
       "      <td>675</td>\n",
       "      <td>spain</td>\n",
       "      <td>male</td>\n",
       "      <td>32</td>\n",
       "      <td>10</td>\n",
       "      <td>0.00</td>\n",
       "      <td>2</td>\n",
       "      <td>1</td>\n",
       "      <td>0</td>\n",
       "      <td>191545.65</td>\n",
       "    </tr>\n",
       "    <tr>\n",
       "      <th>1</th>\n",
       "      <td>784</td>\n",
       "      <td>germany</td>\n",
       "      <td>male</td>\n",
       "      <td>38</td>\n",
       "      <td>1</td>\n",
       "      <td>138515.02</td>\n",
       "      <td>1</td>\n",
       "      <td>1</td>\n",
       "      <td>1</td>\n",
       "      <td>171768.76</td>\n",
       "    </tr>\n",
       "    <tr>\n",
       "      <th>2</th>\n",
       "      <td>644</td>\n",
       "      <td>spain</td>\n",
       "      <td>male</td>\n",
       "      <td>49</td>\n",
       "      <td>10</td>\n",
       "      <td>0.00</td>\n",
       "      <td>2</td>\n",
       "      <td>1</td>\n",
       "      <td>1</td>\n",
       "      <td>145089.64</td>\n",
       "    </tr>\n",
       "    <tr>\n",
       "      <th>3</th>\n",
       "      <td>717</td>\n",
       "      <td>spain</td>\n",
       "      <td>male</td>\n",
       "      <td>36</td>\n",
       "      <td>2</td>\n",
       "      <td>102989.83</td>\n",
       "      <td>2</td>\n",
       "      <td>0</td>\n",
       "      <td>1</td>\n",
       "      <td>49185.57</td>\n",
       "    </tr>\n",
       "    <tr>\n",
       "      <th>4</th>\n",
       "      <td>677</td>\n",
       "      <td>france</td>\n",
       "      <td>female</td>\n",
       "      <td>25</td>\n",
       "      <td>3</td>\n",
       "      <td>0.00</td>\n",
       "      <td>2</td>\n",
       "      <td>1</td>\n",
       "      <td>0</td>\n",
       "      <td>179608.96</td>\n",
       "    </tr>\n",
       "    <tr>\n",
       "      <th>...</th>\n",
       "      <td>...</td>\n",
       "      <td>...</td>\n",
       "      <td>...</td>\n",
       "      <td>...</td>\n",
       "      <td>...</td>\n",
       "      <td>...</td>\n",
       "      <td>...</td>\n",
       "      <td>...</td>\n",
       "      <td>...</td>\n",
       "      <td>...</td>\n",
       "    </tr>\n",
       "    <tr>\n",
       "      <th>1814</th>\n",
       "      <td>728</td>\n",
       "      <td>france</td>\n",
       "      <td>male</td>\n",
       "      <td>30</td>\n",
       "      <td>10</td>\n",
       "      <td>114835.43</td>\n",
       "      <td>1</td>\n",
       "      <td>0</td>\n",
       "      <td>1</td>\n",
       "      <td>37662.49</td>\n",
       "    </tr>\n",
       "    <tr>\n",
       "      <th>1815</th>\n",
       "      <td>745</td>\n",
       "      <td>france</td>\n",
       "      <td>female</td>\n",
       "      <td>40</td>\n",
       "      <td>6</td>\n",
       "      <td>131184.67</td>\n",
       "      <td>1</td>\n",
       "      <td>1</td>\n",
       "      <td>1</td>\n",
       "      <td>49815.62</td>\n",
       "    </tr>\n",
       "    <tr>\n",
       "      <th>1816</th>\n",
       "      <td>611</td>\n",
       "      <td>france</td>\n",
       "      <td>female</td>\n",
       "      <td>46</td>\n",
       "      <td>5</td>\n",
       "      <td>0.00</td>\n",
       "      <td>1</td>\n",
       "      <td>1</td>\n",
       "      <td>0</td>\n",
       "      <td>77677.14</td>\n",
       "    </tr>\n",
       "    <tr>\n",
       "      <th>1817</th>\n",
       "      <td>653</td>\n",
       "      <td>germany</td>\n",
       "      <td>female</td>\n",
       "      <td>25</td>\n",
       "      <td>2</td>\n",
       "      <td>158266.42</td>\n",
       "      <td>3</td>\n",
       "      <td>1</td>\n",
       "      <td>1</td>\n",
       "      <td>199357.24</td>\n",
       "    </tr>\n",
       "    <tr>\n",
       "      <th>1818</th>\n",
       "      <td>577</td>\n",
       "      <td>france</td>\n",
       "      <td>male</td>\n",
       "      <td>25</td>\n",
       "      <td>3</td>\n",
       "      <td>0.00</td>\n",
       "      <td>2</td>\n",
       "      <td>0</td>\n",
       "      <td>1</td>\n",
       "      <td>124508.29</td>\n",
       "    </tr>\n",
       "  </tbody>\n",
       "</table>\n",
       "<p>1819 rows × 10 columns</p>\n",
       "</div>"
      ],
      "text/plain": [
       "      credit_score geography  gender  age  tenure    balance  num_of_products  \\\n",
       "0              675     spain    male   32      10       0.00                2   \n",
       "1              784   germany    male   38       1  138515.02                1   \n",
       "2              644     spain    male   49      10       0.00                2   \n",
       "3              717     spain    male   36       2  102989.83                2   \n",
       "4              677    france  female   25       3       0.00                2   \n",
       "...            ...       ...     ...  ...     ...        ...              ...   \n",
       "1814           728    france    male   30      10  114835.43                1   \n",
       "1815           745    france  female   40       6  131184.67                1   \n",
       "1816           611    france  female   46       5       0.00                1   \n",
       "1817           653   germany  female   25       2  158266.42                3   \n",
       "1818           577    france    male   25       3       0.00                2   \n",
       "\n",
       "      has_cr_card  is_active_member  estimated_salary  \n",
       "0               1                 0         191545.65  \n",
       "1               1                 1         171768.76  \n",
       "2               1                 1         145089.64  \n",
       "3               0                 1          49185.57  \n",
       "4               1                 0         179608.96  \n",
       "...           ...               ...               ...  \n",
       "1814            0                 1          37662.49  \n",
       "1815            1                 1          49815.62  \n",
       "1816            1                 0          77677.14  \n",
       "1817            1                 1         199357.24  \n",
       "1818            0                 1         124508.29  \n",
       "\n",
       "[1819 rows x 10 columns]"
      ]
     },
     "execution_count": 22,
     "metadata": {},
     "output_type": "execute_result"
    }
   ],
   "source": [
    "valid_data"
   ]
  },
  {
   "cell_type": "markdown",
   "metadata": {},
   "source": [
    "### Избавимся от категориальных признаков"
   ]
  },
  {
   "cell_type": "markdown",
   "metadata": {},
   "source": [
    "столбцы содержащие данные о регионе и половой принадлежности нужно обработать в понятный для модели вид, для этого воспользуемся прямым кодированием (OneHotEncoder)"
   ]
  },
  {
   "cell_type": "code",
   "execution_count": 23,
   "metadata": {},
   "outputs": [],
   "source": [
    "tmp_col = ['gender', 'geography']\n",
    "one_hot_enc = OneHotEncoder(drop='first', sparse=False).fit(learn_data[tmp_col]) #sparse_output=False\n",
    "for item_data in dick: \n",
    "    #dick[item_data][one_hot_enc.get_feature_names_out()] = one_hot_enc.transform(dick[item_data][tmp_col])\n",
    "    dick[item_data][one_hot_enc.get_feature_names()] = one_hot_enc.transform(dick[item_data][tmp_col])\n",
    "    dick[item_data].drop(tmp_col, axis=1, inplace=True)"
   ]
  },
  {
   "cell_type": "markdown",
   "metadata": {},
   "source": [
    "из описания(.describe()) видно, что некоторые данные сильно разбросаны, для уменьшения масштаба стандартизируем их. для этого выберем столбцы и предадим их классу RobustScaler библиотеки sklearn"
   ]
  },
  {
   "cell_type": "code",
   "execution_count": 24,
   "metadata": {
    "scrolled": true
   },
   "outputs": [],
   "source": [
    "tmp_col = ['credit_score', 'age', 'tenure', 'balance', 'num_of_products', 'estimated_salary']\n",
    "r_scaler = StandardScaler().fit(learn_data[tmp_col])\n",
    "for item_data in dick:\n",
    "    dick[item_data][tmp_col] = pd.DataFrame(r_scaler.transform(dick[item_data][tmp_col]), columns=tmp_col)"
   ]
  },
  {
   "cell_type": "markdown",
   "metadata": {},
   "source": [
    "сделаем копию обучающих данных на будующее"
   ]
  },
  {
   "cell_type": "code",
   "execution_count": 25,
   "metadata": {},
   "outputs": [],
   "source": [
    "tmp_learn_data, tmp_learn_target = learn_data.copy(), learn_target.copy()"
   ]
  },
  {
   "cell_type": "markdown",
   "metadata": {},
   "source": [
    "### Краткий вывод:"
   ]
  },
  {
   "cell_type": "markdown",
   "metadata": {
    "scrolled": true
   },
   "source": [
    "В ходе работы над первой частью проекта были выполнены работы:\n",
    "*  Открыты и изучены данные\n",
    "*  Прооведена минимальная предобработка в ходе которой удалены пустые значения слабо влияющие на целевой признак\n",
    "*  Разделины данные на выборки в соотношении 3:1:1\n",
    "*  Обработаны от категориальные признаки"
   ]
  },
  {
   "cell_type": "markdown",
   "metadata": {},
   "source": [
    "## Исследование задачи"
   ]
  },
  {
   "cell_type": "markdown",
   "metadata": {},
   "source": [
    "для автоматизации и визуализации результатов применения моделей обучения создадим функции.\n",
    "\n",
    "    build_graph - будет отвечать за визуализацию результатов\n",
    "    my_model - за применение параметров к модели\n",
    "\n",
    "рассматривать модели будем в следующем порядке:\n",
    "\n",
    "    DecisionTreeClassifier (дерево)\n",
    "    RandomForestClassifier (случайный лес)\n",
    "    LogisticRegression (логистическая регрессия)\n",
    "\n",
    "для дальнейшего использования параметров лучших моделей, создадим таблицу для их хранения"
   ]
  },
  {
   "cell_type": "code",
   "execution_count": 26,
   "metadata": {},
   "outputs": [],
   "source": [
    "data_unbalanced = pd.DataFrame()"
   ]
  },
  {
   "cell_type": "code",
   "execution_count": 27,
   "metadata": {},
   "outputs": [],
   "source": [
    "def mod_forest(start=1, stop=25, step=1):\n",
    "    print('Подбор глубины')\n",
    "    mod, data = my_model(\n",
    "        models=RandomForestClassifier,\n",
    "        models_settings=[\n",
    "            {\n",
    "                'n_estimators': 10,\n",
    "                'max_depth': i,\n",
    "                'random_state':12345,\n",
    "            }\n",
    "            for i in range(start, stop, step)],\n",
    "        get_plt=False,\n",
    "        param='max_depth',\n",
    "    )\n",
    "    print(f\"лучшая глубина: {mod.get_params()['max_depth']}\",\n",
    "          f\"Количество деревьев: {mod.get_params()['n_estimators']}\",\n",
    "          '','*'*10,'',\n",
    "         sep='\\n')\n",
    "    return mod"
   ]
  },
  {
   "cell_type": "code",
   "execution_count": 28,
   "metadata": {},
   "outputs": [],
   "source": [
    "def set_params_n_estimators(models_params:dict,\n",
    "                            param:str='n_estimators',\n",
    "                            start:int=1,\n",
    "                            stop:int=150,\n",
    "                            step:int=2)->dict:\n",
    "    # TODO *args, **kvargs\n",
    "\n",
    "    result = []\n",
    "    for items in range(start, stop, step):\n",
    "        models_params[param] = items\n",
    "        result.append(models_params.copy())\n",
    "    return result"
   ]
  },
  {
   "cell_type": "code",
   "execution_count": 29,
   "metadata": {},
   "outputs": [],
   "source": [
    "def build_graph(res_tree:dict,\n",
    "                best_depth:list,\n",
    "                titles:str)->plt:\n",
    "\n",
    "    fig, ax = plt.subplots(ncols=1, figsize=(15,5))\n",
    "    sns.lineplot(ax=ax, \n",
    "                 y=res_tree['valid'].values(),\n",
    "                 x=res_tree['valid'].keys(),\n",
    "                 color='#00BFFF',\n",
    "                 legend=True,\n",
    "                 label='проверочные данные',\n",
    "                )\n",
    "    sns.lineplot(ax=ax,\n",
    "                 y=res_tree['learn'].values(),\n",
    "                 x=res_tree['learn'].keys(),\n",
    "                 color='#800000',\n",
    "                 legend=True,\n",
    "                 label='данные для обучения',\n",
    "                )\n",
    "    plt.title(titles)\n",
    "    sns.scatterplot(\n",
    "        x=[best_depth[0],],\n",
    "        y=[best_depth[1],],\n",
    "        color='#191970',\n",
    "        s=70,\n",
    "    )\n",
    "    plt.ylabel('F мера модели')\n",
    "    plt.xlabel('настройки модели')\n",
    "\n",
    "    plt.annotate(\n",
    "        f'F мера {best_depth[1]:.5f}',\n",
    "        xy=(best_depth[0],\n",
    "            best_depth[1]),\n",
    "        xytext=(10, 0),\n",
    "        textcoords='offset points',\n",
    "        fontweight='bold',\n",
    "        rotation=0,\n",
    "    )\n",
    "    plt.legend ()\n",
    "    return plt"
   ]
  },
  {
   "cell_type": "code",
   "execution_count": 30,
   "metadata": {},
   "outputs": [],
   "source": [
    "def my_model(models,\n",
    "             models_settings,\n",
    "             param=None,\n",
    "             get_plt=True,\n",
    "             get_data=True):\n",
    "    # TODO *args, **kvargs\n",
    "    if not param:\n",
    "        print('param not be None')\n",
    "        return param\n",
    "    res = {'valid': dict(), 'learn': dict()}\n",
    "    best_model = None\n",
    "    best_result = 0\n",
    "    for num, models_setting in enumerate(models_settings):\n",
    "        model = models(**models_setting)\n",
    "        model.fit(learn_data, learn_target)\n",
    "        try:\n",
    "            dict_item = models_setting[param]\n",
    "        except:\n",
    "            dict_item = '1'\n",
    "        predict_valid = model.predict(valid_data)\n",
    "        predict_learn = model.predict(learn_data)\n",
    "        tmp_learn = f1_score(\n",
    "                learn_target,\n",
    "                predict_learn,\n",
    "                average='binary',\n",
    "                pos_label=1,\n",
    "            )\n",
    "        \n",
    "        tmp_valid = f1_score(\n",
    "                valid_target,\n",
    "                predict_valid,\n",
    "                average='binary',\n",
    "                pos_label=1,\n",
    "            )\n",
    "\n",
    "        if tmp_valid > best_result:\n",
    "            best_model = model\n",
    "            best_result = tmp_valid\n",
    "            best_depth = dict_item\n",
    "        res['valid'][dict_item] = tmp_valid\n",
    "        res['learn'][dict_item] = tmp_learn\n",
    "    roc_auc = roc_auc_score(valid_target, best_model.predict_proba(valid_data)[:,1])\n",
    "\n",
    "    data = {\n",
    "        'name': [models.__name__],\n",
    "        'model_score': [best_model.score(valid_data, valid_target,)],\n",
    "        'f1_score_1': [f1_score(\n",
    "            valid_target,\n",
    "            best_model.predict(valid_data),\n",
    "            pos_label=1\n",
    "        )],\n",
    "        'f1_score_0': [f1_score(\n",
    "            valid_target,\n",
    "            best_model.predict(valid_data),\n",
    "            pos_label=0\n",
    "        )],\n",
    "        'recall_score': [recall_score(valid_target, best_model.predict(valid_data),)],\n",
    "        'model': [f'{best_model=}'],\n",
    "        'auc-roc' : [roc_auc]\n",
    "    }\n",
    "    try:\n",
    "        titles = f'{models.__name__} (penalty: {models_settings[0][\"penalty\"]}, solver: {models_settings[0][\"solver\"]})'\n",
    "    except: titles = f'{models.__name__}'\n",
    "    if get_plt:\n",
    "        build_graph(res, [best_depth, best_result], titles).show()\n",
    "    print(\"F мера лучшей модели:\", best_result)\n",
    "    print(\"AUC-ROC лучшей модели:\", roc_auc)\n",
    "    print('', '*'*10, '', sep='\\n')\n",
    "    return best_model, data"
   ]
  },
  {
   "cell_type": "code",
   "execution_count": 31,
   "metadata": {},
   "outputs": [],
   "source": [
    "def decision_tree_classifier(settings:dict=dict(), plt=True):\n",
    "    if settings:\n",
    "        model, result = my_model(\n",
    "            models=DecisionTreeClassifier,\n",
    "            models_settings=settings,\n",
    "            get_plt=plt,\n",
    "            param='max_depth',    \n",
    "        )\n",
    "    else:\n",
    "        model, result = my_model(\n",
    "            models=DecisionTreeClassifier,\n",
    "            models_settings=[\n",
    "                {\n",
    "                    'max_depth': i,\n",
    "                    'random_state':12345,    \n",
    "                }\n",
    "                for i in range(1, 20)],\n",
    "            get_plt=plt,\n",
    "            param='max_depth',    \n",
    "        )\n",
    "    return model, result"
   ]
  },
  {
   "cell_type": "code",
   "execution_count": 32,
   "metadata": {},
   "outputs": [],
   "source": [
    "def random_forest_classifier(settings:dict=dict(), plt=True):\n",
    "    if settings:\n",
    "        model, result = my_model(\n",
    "            models=RandomForestClassifier,\n",
    "            models_settings=settings,\n",
    "            get_plt=plt,\n",
    "            param='n_estimators')\n",
    "    else:\n",
    "        model, result = my_model(\n",
    "            models=RandomForestClassifier,\n",
    "            models_settings=set_params_n_estimators(\n",
    "                mod.get_params(),\n",
    "                start=1,\n",
    "                stop=25,\n",
    "                step=1),\n",
    "            get_plt=plt,\n",
    "            param='n_estimators')\n",
    "    return model, result"
   ]
  },
  {
   "cell_type": "code",
   "execution_count": 33,
   "metadata": {},
   "outputs": [],
   "source": [
    "def logistic_regression(settings:dict=dict(), plt=True):\n",
    "    result = []\n",
    "    model = []\n",
    "    if settings:\n",
    "        mod, res = my_model(\n",
    "            models=LogisticRegression,\n",
    "            models_settings = settings,\n",
    "            get_plt=plt,\n",
    "            param='max_iter')\n",
    "        result.append(res)\n",
    "        model.append(mod)\n",
    "    else:\n",
    "        dict_penalty = {'l1': ['liblinear'], 'l2': ['lbfgs', 'liblinear']}\n",
    "        for penalty in dict_penalty:\n",
    "            for solver in dict_penalty[penalty]:\n",
    "                mod, res = my_model(\n",
    "                models=LogisticRegression,\n",
    "                models_settings=[\n",
    "                    {\n",
    "                        'max_iter': i,\n",
    "                        'penalty': penalty,\n",
    "                        'solver': solver,\n",
    "                        'random_state': 12345,\n",
    "                    }\n",
    "                    for i in range(1, 12)],\n",
    "                    get_plt=plt,\n",
    "                    param='max_iter')\n",
    "                result.append(res)\n",
    "                model.append(mod)\n",
    "    return model, result"
   ]
  },
  {
   "cell_type": "markdown",
   "metadata": {},
   "source": [
    "### Баланс классов"
   ]
  },
  {
   "cell_type": "code",
   "execution_count": 34,
   "metadata": {},
   "outputs": [
    {
     "name": "stdout",
     "output_type": "stream",
     "text": [
      "число отрицательныx объектов: 4342\n",
      "число положительныx объектов: 1112\n",
      "отношение:25.610%\n"
     ]
    },
    {
     "data": {
      "image/png": "[encoded data removed]",
      "text/plain": [
       "<Figure size 432x288 with 1 Axes>"
      ]
     },
     "metadata": {
      "needs_background": "light"
     },
     "output_type": "display_data"
    }
   ],
   "source": [
    "learn_target.hist();\n",
    "cls_1 = (learn_target==1).sum()\n",
    "cls_0 = (learn_target==0).sum()\n",
    "print(\n",
    "    f'число отрицательныx объектов: {cls_0}',\n",
    "    f'число положительныx объектов: {cls_1}',\n",
    "    f'отношение:{cls_1 / cls_0:.3%}',      \n",
    "     sep='\\n')"
   ]
  },
  {
   "cell_type": "markdown",
   "metadata": {},
   "source": [
    "баланс классов явно пререкошен в стоорону отрицательных значений"
   ]
  },
  {
   "cell_type": "markdown",
   "metadata": {},
   "source": [
    "отношение меджу положительными и отрицательными обьектами, для остальных выборок, будет аналогичным, тк на этапе их разделения использовался параметр `stratify`."
   ]
  },
  {
   "cell_type": "markdown",
   "metadata": {},
   "source": [
    "### DecisionTreeClassifier"
   ]
  },
  {
   "cell_type": "code",
   "execution_count": 35,
   "metadata": {},
   "outputs": [
    {
     "data": {
      "image/png": "[encoded data removed]",
      "text/plain": [
       "<Figure size 1080x360 with 1 Axes>"
      ]
     },
     "metadata": {
      "needs_background": "light"
     },
     "output_type": "display_data"
    },
    {
     "name": "stdout",
     "output_type": "stream",
     "text": [
      "F мера лучшей модели: 0.5611015490533563\n",
      "AUC-ROC лучшей модели: 0.8155248991079805\n",
      "\n",
      "**********\n",
      "\n",
      "CPU times: user 770 ms, sys: 8.37 ms, total: 779 ms\n",
      "Wall time: 788 ms\n"
     ]
    }
   ],
   "source": [
    "%%time\n",
    "data_unbalanced = pd.concat(\n",
    "    [\n",
    "    data_unbalanced,\n",
    "    pd.DataFrame(decision_tree_classifier()[1]),\n",
    "    ],\n",
    "    axis=0,ignore_index=False)"
   ]
  },
  {
   "cell_type": "markdown",
   "metadata": {},
   "source": [
    "### RandomForestClassifier"
   ]
  },
  {
   "cell_type": "markdown",
   "metadata": {},
   "source": [
    "расчитаем лучшее число деревьев"
   ]
  },
  {
   "cell_type": "code",
   "execution_count": 36,
   "metadata": {},
   "outputs": [
    {
     "name": "stdout",
     "output_type": "stream",
     "text": [
      "Подбор глубины\n",
      "F мера лучшей модели: 0.5809682804674458\n",
      "AUC-ROC лучшей модели: 0.8384331581063573\n",
      "\n",
      "**********\n",
      "\n",
      "лучшая глубина: 12\n",
      "Количество деревьев: 10\n",
      "\n",
      "**********\n",
      "\n"
     ]
    },
    {
     "data": {
      "image/png": "[encoded data removed]",
      "text/plain": [
       "<Figure size 1080x360 with 1 Axes>"
      ]
     },
     "metadata": {
      "needs_background": "light"
     },
     "output_type": "display_data"
    },
    {
     "name": "stdout",
     "output_type": "stream",
     "text": [
      "F мера лучшей модели: 0.5953177257525083\n",
      "AUC-ROC лучшей модели: 0.8454295170585695\n",
      "\n",
      "**********\n",
      "\n",
      "CPU times: user 4.78 s, sys: 18 ms, total: 4.8 s\n",
      "Wall time: 4.81 s\n"
     ]
    }
   ],
   "source": [
    "%%time\n",
    "data_unbalanced = pd.concat(\n",
    "    [\n",
    "        data_unbalanced,\n",
    "        pd.DataFrame(\n",
    "            random_forest_classifier(\n",
    "                settings=set_params_n_estimators(\n",
    "                    mod_forest().get_params(),\n",
    "                    start=1,\n",
    "                    stop=25,\n",
    "                    step=1),\n",
    "            )[1])],\n",
    "    axis=0, ignore_index=True)"
   ]
  },
  {
   "cell_type": "markdown",
   "metadata": {},
   "source": [
    "### LogisticRegression"
   ]
  },
  {
   "cell_type": "code",
   "execution_count": 37,
   "metadata": {},
   "outputs": [
    {
     "data": {
      "image/png": "[encoded data removed]",
      "text/plain": [
       "<Figure size 1080x360 with 1 Axes>"
      ]
     },
     "metadata": {
      "needs_background": "light"
     },
     "output_type": "display_data"
    },
    {
     "name": "stdout",
     "output_type": "stream",
     "text": [
      "F мера лучшей модели: 0.3583815028901734\n",
      "AUC-ROC лучшей модели: 0.7734155113103305\n",
      "\n",
      "**********\n",
      "\n"
     ]
    },
    {
     "data": {
      "image/png": "[encoded data removed]",
      "text/plain": [
       "<Figure size 1080x360 with 1 Axes>"
      ]
     },
     "metadata": {
      "needs_background": "light"
     },
     "output_type": "display_data"
    },
    {
     "name": "stdout",
     "output_type": "stream",
     "text": [
      "F мера лучшей модели: 0.36223506743737954\n",
      "AUC-ROC лучшей модели: 0.7703719974386085\n",
      "\n",
      "**********\n",
      "\n"
     ]
    },
    {
     "data": {
      "image/png": "[encoded data removed]",
      "text/plain": [
       "<Figure size 1080x360 with 1 Axes>"
      ]
     },
     "metadata": {
      "needs_background": "light"
     },
     "output_type": "display_data"
    },
    {
     "name": "stdout",
     "output_type": "stream",
     "text": [
      "F мера лучшей модели: 0.35271317829457366\n",
      "AUC-ROC лучшей модели: 0.7743220503045375\n",
      "\n",
      "**********\n",
      "\n",
      "CPU times: user 3.23 s, sys: 4.11 s, total: 7.34 s\n",
      "Wall time: 7.36 s\n"
     ]
    }
   ],
   "source": [
    "%%time\n",
    "for item in logistic_regression()[1]:\n",
    "    data_unbalanced = pd.concat(\n",
    "        [\n",
    "            data_unbalanced,\n",
    "            pd.DataFrame(item)],\n",
    "        axis=0,\n",
    "        ignore_index=True)\n"
   ]
  },
  {
   "cell_type": "code",
   "execution_count": 38,
   "metadata": {},
   "outputs": [
    {
     "data": {
      "text/html": [
       "<div>\n",
       "<style scoped>\n",
       "    .dataframe tbody tr th:only-of-type {\n",
       "        vertical-align: middle;\n",
       "    }\n",
       "\n",
       "    .dataframe tbody tr th {\n",
       "        vertical-align: top;\n",
       "    }\n",
       "\n",
       "    .dataframe thead th {\n",
       "        text-align: right;\n",
       "    }\n",
       "</style>\n",
       "<table border=\"1\" class=\"dataframe\">\n",
       "  <thead>\n",
       "    <tr style=\"text-align: right;\">\n",
       "      <th></th>\n",
       "      <th>name</th>\n",
       "      <th>model_score</th>\n",
       "      <th>f1_score_1</th>\n",
       "      <th>f1_score_0</th>\n",
       "      <th>recall_score</th>\n",
       "      <th>auc-roc</th>\n",
       "    </tr>\n",
       "  </thead>\n",
       "  <tbody>\n",
       "    <tr>\n",
       "      <th>1</th>\n",
       "      <td>RandomForestClassifier</td>\n",
       "      <td>0.866960</td>\n",
       "      <td>0.595318</td>\n",
       "      <td>0.920395</td>\n",
       "      <td>0.479784</td>\n",
       "      <td>0.845430</td>\n",
       "    </tr>\n",
       "    <tr>\n",
       "      <th>0</th>\n",
       "      <td>DecisionTreeClassifier</td>\n",
       "      <td>0.859813</td>\n",
       "      <td>0.561102</td>\n",
       "      <td>0.916585</td>\n",
       "      <td>0.439353</td>\n",
       "      <td>0.815525</td>\n",
       "    </tr>\n",
       "    <tr>\n",
       "      <th>3</th>\n",
       "      <td>LogisticRegression</td>\n",
       "      <td>0.818032</td>\n",
       "      <td>0.362235</td>\n",
       "      <td>0.893876</td>\n",
       "      <td>0.253369</td>\n",
       "      <td>0.770372</td>\n",
       "    </tr>\n",
       "    <tr>\n",
       "      <th>2</th>\n",
       "      <td>LogisticRegression</td>\n",
       "      <td>0.816932</td>\n",
       "      <td>0.358382</td>\n",
       "      <td>0.893235</td>\n",
       "      <td>0.250674</td>\n",
       "      <td>0.773416</td>\n",
       "    </tr>\n",
       "    <tr>\n",
       "      <th>4</th>\n",
       "      <td>LogisticRegression</td>\n",
       "      <td>0.816383</td>\n",
       "      <td>0.352713</td>\n",
       "      <td>0.893017</td>\n",
       "      <td>0.245283</td>\n",
       "      <td>0.774322</td>\n",
       "    </tr>\n",
       "  </tbody>\n",
       "</table>\n",
       "</div>"
      ],
      "text/plain": [
       "                     name  model_score  f1_score_1  f1_score_0  recall_score  \\\n",
       "1  RandomForestClassifier     0.866960    0.595318    0.920395      0.479784   \n",
       "0  DecisionTreeClassifier     0.859813    0.561102    0.916585      0.439353   \n",
       "3      LogisticRegression     0.818032    0.362235    0.893876      0.253369   \n",
       "2      LogisticRegression     0.816932    0.358382    0.893235      0.250674   \n",
       "4      LogisticRegression     0.816383    0.352713    0.893017      0.245283   \n",
       "\n",
       "    auc-roc  \n",
       "1  0.845430  \n",
       "0  0.815525  \n",
       "3  0.770372  \n",
       "2  0.773416  \n",
       "4  0.774322  "
      ]
     },
     "execution_count": 38,
     "metadata": {},
     "output_type": "execute_result"
    }
   ],
   "source": [
    "data_unbalanced = data_unbalanced.drop_duplicates().sort_values(\n",
    "    by='f1_score_1',\n",
    "    ascending=False,\n",
    ")\n",
    "data_unbalanced.drop(['model'], axis=1)"
   ]
  },
  {
   "cell_type": "markdown",
   "metadata": {},
   "source": [
    "### Краткий вывод\n"
   ]
  },
  {
   "cell_type": "markdown",
   "metadata": {},
   "source": [
    "На данном этапе была проведена следующая работа:\n",
    "* были рассмотрены и обучены модели:\n",
    "  * DecisionTreeClassifier (дерево)\n",
    "  * RandomForestClassifier (случайный лес)\n",
    "  * LogisticRegression (логистическая регрессия)\n",
    "* расчиитаны показатели `f1_score по бинарному признаку и классу 1`, `score` и `recall_score` на обучающих и проверочнных данных.\n",
    "* на основании данных полученных при обучении моделей построены графики и собрана сводная таблица с лучшими результатами\n",
    "\n",
    "Лучшие результаты показала модель <b>RandomForestClassifier</b> c score = 0.867, f1_score = 0.595 и AUC-ROC = 0.845 при параметрах max_depth = 12, n_estimators = 14\n",
    "\n",
    "попробуем улучшить показатели на следующем этапе, используя методы борьбы с дисбалансом классов"
   ]
  },
  {
   "cell_type": "markdown",
   "metadata": {},
   "source": [
    "## Борьба с дисбалансом"
   ]
  },
  {
   "cell_type": "markdown",
   "metadata": {},
   "source": [
    "посмотрим на баланс классов на примере learn_target."
   ]
  },
  {
   "cell_type": "code",
   "execution_count": 39,
   "metadata": {},
   "outputs": [],
   "source": [
    "learn_data, learn_target = tmp_learn_data, tmp_learn_target"
   ]
  },
  {
   "cell_type": "code",
   "execution_count": 40,
   "metadata": {},
   "outputs": [
    {
     "name": "stdout",
     "output_type": "stream",
     "text": [
      "число отрицательныx объектов: 4342\n",
      "число положительныx объектов: 1112\n",
      "отношение:25.610%\n"
     ]
    }
   ],
   "source": [
    "#learn_target.hist();\n",
    "cls_1 = (learn_target==1).sum()\n",
    "cls_0 = (learn_target==0).sum()\n",
    "print(\n",
    "    f'число отрицательныx объектов: {cls_0}',\n",
    "    f'число положительныx объектов: {cls_1}',\n",
    "    f'отношение:{cls_1 / cls_0:.3%}',      \n",
    "     sep='\\n')"
   ]
  },
  {
   "cell_type": "markdown",
   "metadata": {},
   "source": [
    "### Уменьшение выборки"
   ]
  },
  {
   "cell_type": "code",
   "execution_count": 41,
   "metadata": {},
   "outputs": [],
   "source": [
    "data_balanced_dwn = pd.DataFrame()"
   ]
  },
  {
   "cell_type": "markdown",
   "metadata": {},
   "source": [
    "таблица для сохранения результатов"
   ]
  },
  {
   "cell_type": "markdown",
   "metadata": {},
   "source": [
    "создадим функцию для уменьшения обучающей выборки"
   ]
  },
  {
   "cell_type": "code",
   "execution_count": 42,
   "metadata": {},
   "outputs": [],
   "source": [
    "def downsample(features, target, fraction):\n",
    "    features_zeros = features[target == 0]\n",
    "    features_ones = features[target == 1]\n",
    "    target_zeros = target[target == 0]\n",
    "    target_ones = target[target == 1]\n",
    "\n",
    "    features_downsampled = pd.concat(\n",
    "        [features_zeros.sample(frac=fraction, random_state=12345)] + [features_ones])\n",
    "    target_downsampled = pd.concat(\n",
    "        [target_zeros.sample(frac=fraction, random_state=12345)] + [target_ones])\n",
    "    \n",
    "    features_downsampled, target_downsampled = shuffle(\n",
    "        features_downsampled, target_downsampled, random_state=12345)\n",
    "        \n",
    "    return features_downsampled, target_downsampled"
   ]
  },
  {
   "cell_type": "code",
   "execution_count": 43,
   "metadata": {},
   "outputs": [],
   "source": [
    "learn_data, learn_target = downsample(tmp_learn_data, tmp_learn_target, 0.256)"
   ]
  },
  {
   "cell_type": "code",
   "execution_count": 44,
   "metadata": {},
   "outputs": [
    {
     "name": "stdout",
     "output_type": "stream",
     "text": [
      "результат применения функции:\n",
      "число отрицательныx объектов: 1112\n",
      "число положительныx объектов: 1112\n",
      "отношение:100.000%\n"
     ]
    }
   ],
   "source": [
    "#learn_target.hist();\n",
    "cls_1 = (learn_target==1).sum()\n",
    "cls_0 = (learn_target==0).sum()\n",
    "print(\n",
    "    'результат применения функции:',\n",
    "    f'число отрицательныx объектов: {cls_0}',\n",
    "    f'число положительныx объектов: {cls_1}',\n",
    "    f'отношение:{cls_1 / cls_0:.3%}',      \n",
    "     sep='\\n')"
   ]
  },
  {
   "cell_type": "markdown",
   "metadata": {},
   "source": [
    "применим увеличенные данные к лучшей модели, полученной на предидущих этапах.\n",
    "\n",
    "параметры возьмем из сводной таблицы"
   ]
  },
  {
   "cell_type": "code",
   "execution_count": 45,
   "metadata": {},
   "outputs": [
    {
     "name": "stdout",
     "output_type": "stream",
     "text": [
      "model RandomForestClassifier(max_depth=12, n_estimators=14, random_state=12345)\n",
      "\n",
      " старые значения:\n",
      "f1_score_1    0.595318\n",
      "auc-roc        0.84543\n",
      "Name: 1, dtype: object\n",
      "\n",
      " ********** \n",
      "\n",
      "новые значения:\n",
      "F1_score: 0.556149732620321\n",
      "roc_auc 0.8315633795475867\n",
      "\n",
      " ************************************************** \n",
      "\n"
     ]
    }
   ],
   "source": [
    "exec(data_unbalanced.model.iloc[0])\n",
    "best_model.fit(learn_data, learn_target)\n",
    "print('model', best_model)\n",
    "print('\\n', 'старые значения:')\n",
    "print(data_unbalanced.iloc[0][['f1_score_1', 'auc-roc']])\n",
    "print('\\n', '*' * 10, '\\n')\n",
    "print('новые значения:')\n",
    "#print(f'score: {best_model.score(valid_data, valid_target,)}')\n",
    "f1_sr =f1_score(valid_target,\n",
    "                best_model.predict(valid_data),\n",
    "                average=\"binary\",\n",
    "                pos_label=1)\n",
    "print(f'F1_score: {f1_sr}')\n",
    "print('roc_auc', roc_auc_score(valid_target, best_model.predict_proba(valid_data)[:,1]))\n",
    "print('\\n', '*' * 50, '\\n')"
   ]
  },
  {
   "cell_type": "markdown",
   "metadata": {},
   "source": [
    "модель показывает некоторое снижение F1 score и AUC-ROC.\n",
    "попробуем подабрать параметры заново для всех моделей и сохраним их в сводную таблицу"
   ]
  },
  {
   "cell_type": "markdown",
   "metadata": {},
   "source": [
    "#### DecisionTreeClassifier"
   ]
  },
  {
   "cell_type": "code",
   "execution_count": 46,
   "metadata": {},
   "outputs": [
    {
     "name": "stdout",
     "output_type": "stream",
     "text": [
      "F мера лучшей модели: 0.5582761998041136\n",
      "AUC-ROC лучшей модели: 0.8335216526931839\n",
      "\n",
      "**********\n",
      "\n"
     ]
    }
   ],
   "source": [
    "data_balanced_dwn = pd.concat(\n",
    "    [\n",
    "    data_balanced_dwn,\n",
    "    pd.DataFrame(decision_tree_classifier(plt=False)[1]),\n",
    "    ],\n",
    "    axis=0,ignore_index=False)"
   ]
  },
  {
   "cell_type": "markdown",
   "metadata": {},
   "source": [
    "#### RandomForestClassifier"
   ]
  },
  {
   "cell_type": "code",
   "execution_count": 47,
   "metadata": {},
   "outputs": [
    {
     "name": "stdout",
     "output_type": "stream",
     "text": [
      "Подбор глубины\n",
      "F мера лучшей модели: 0.5802337938363443\n",
      "AUC-ROC лучшей модели: 0.8428709177823115\n",
      "\n",
      "**********\n",
      "\n",
      "лучшая глубина: 7\n",
      "Количество деревьев: 10\n",
      "\n",
      "**********\n",
      "\n",
      "F мера лучшей модели: 0.5954198473282442\n",
      "AUC-ROC лучшей модели: 0.848809027415824\n",
      "\n",
      "**********\n",
      "\n",
      "CPU times: user 2.5 s, sys: 0 ns, total: 2.5 s\n",
      "Wall time: 2.51 s\n"
     ]
    }
   ],
   "source": [
    "%%time\n",
    "data_balanced_dwn = pd.concat(\n",
    "    [\n",
    "        data_balanced_dwn,\n",
    "        pd.DataFrame(\n",
    "            random_forest_classifier(\n",
    "                settings=set_params_n_estimators(\n",
    "                    mod_forest().get_params(),\n",
    "                    start=1,\n",
    "                    stop=25,\n",
    "                    step=1),\n",
    "                plt=False,\n",
    "            )[1])],\n",
    "    axis=0, ignore_index=True)"
   ]
  },
  {
   "cell_type": "markdown",
   "metadata": {},
   "source": [
    "#### LogisticRegression"
   ]
  },
  {
   "cell_type": "code",
   "execution_count": 48,
   "metadata": {},
   "outputs": [
    {
     "name": "stdout",
     "output_type": "stream",
     "text": [
      "F мера лучшей модели: 0.5108910891089109\n",
      "AUC-ROC лучшей модели: 0.7810941013536656\n",
      "\n",
      "**********\n",
      "\n",
      "F мера лучшей модели: 0.5117707267144319\n",
      "AUC-ROC лучшей модели: 0.7741824395764769\n",
      "\n",
      "**********\n",
      "\n",
      "F мера лучшей модели: 0.5067961165048543\n",
      "AUC-ROC лучшей модели: 0.7789962174800077\n",
      "\n",
      "**********\n",
      "\n",
      "CPU times: user 1.83 s, sys: 3.1 s, total: 4.93 s\n",
      "Wall time: 4.89 s\n"
     ]
    }
   ],
   "source": [
    "%%time\n",
    "for item in logistic_regression(plt=False)[1]:\n",
    "    data_balanced_dwn = pd.concat(\n",
    "        [\n",
    "            data_balanced_dwn,\n",
    "            pd.DataFrame(item)],\n",
    "        axis=0,\n",
    "        ignore_index=True)"
   ]
  },
  {
   "cell_type": "markdown",
   "metadata": {},
   "source": [
    "сводная таблица уменьшения выборки"
   ]
  },
  {
   "cell_type": "code",
   "execution_count": 49,
   "metadata": {
    "scrolled": true
   },
   "outputs": [
    {
     "data": {
      "text/html": [
       "<div>\n",
       "<style scoped>\n",
       "    .dataframe tbody tr th:only-of-type {\n",
       "        vertical-align: middle;\n",
       "    }\n",
       "\n",
       "    .dataframe tbody tr th {\n",
       "        vertical-align: top;\n",
       "    }\n",
       "\n",
       "    .dataframe thead th {\n",
       "        text-align: right;\n",
       "    }\n",
       "</style>\n",
       "<table border=\"1\" class=\"dataframe\">\n",
       "  <thead>\n",
       "    <tr style=\"text-align: right;\">\n",
       "      <th></th>\n",
       "      <th>name</th>\n",
       "      <th>model_score</th>\n",
       "      <th>f1_score_1</th>\n",
       "      <th>f1_score_0</th>\n",
       "      <th>recall_score</th>\n",
       "      <th>auc-roc</th>\n",
       "    </tr>\n",
       "  </thead>\n",
       "  <tbody>\n",
       "    <tr>\n",
       "      <th>1</th>\n",
       "      <td>RandomForestClassifier</td>\n",
       "      <td>0.796042</td>\n",
       "      <td>0.595420</td>\n",
       "      <td>0.863653</td>\n",
       "      <td>0.735849</td>\n",
       "      <td>0.848809</td>\n",
       "    </tr>\n",
       "    <tr>\n",
       "      <th>0</th>\n",
       "      <td>DecisionTreeClassifier</td>\n",
       "      <td>0.752062</td>\n",
       "      <td>0.558276</td>\n",
       "      <td>0.827665</td>\n",
       "      <td>0.768194</td>\n",
       "      <td>0.833522</td>\n",
       "    </tr>\n",
       "    <tr>\n",
       "      <th>3</th>\n",
       "      <td>LogisticRegression</td>\n",
       "      <td>0.737768</td>\n",
       "      <td>0.511771</td>\n",
       "      <td>0.820744</td>\n",
       "      <td>0.673854</td>\n",
       "      <td>0.774182</td>\n",
       "    </tr>\n",
       "    <tr>\n",
       "      <th>2</th>\n",
       "      <td>LogisticRegression</td>\n",
       "      <td>0.728422</td>\n",
       "      <td>0.510891</td>\n",
       "      <td>0.812024</td>\n",
       "      <td>0.695418</td>\n",
       "      <td>0.781094</td>\n",
       "    </tr>\n",
       "    <tr>\n",
       "      <th>4</th>\n",
       "      <td>LogisticRegression</td>\n",
       "      <td>0.720726</td>\n",
       "      <td>0.506796</td>\n",
       "      <td>0.805215</td>\n",
       "      <td>0.703504</td>\n",
       "      <td>0.778996</td>\n",
       "    </tr>\n",
       "  </tbody>\n",
       "</table>\n",
       "</div>"
      ],
      "text/plain": [
       "                     name  model_score  f1_score_1  f1_score_0  recall_score  \\\n",
       "1  RandomForestClassifier     0.796042    0.595420    0.863653      0.735849   \n",
       "0  DecisionTreeClassifier     0.752062    0.558276    0.827665      0.768194   \n",
       "3      LogisticRegression     0.737768    0.511771    0.820744      0.673854   \n",
       "2      LogisticRegression     0.728422    0.510891    0.812024      0.695418   \n",
       "4      LogisticRegression     0.720726    0.506796    0.805215      0.703504   \n",
       "\n",
       "    auc-roc  \n",
       "1  0.848809  \n",
       "0  0.833522  \n",
       "3  0.774182  \n",
       "2  0.781094  \n",
       "4  0.778996  "
      ]
     },
     "execution_count": 49,
     "metadata": {},
     "output_type": "execute_result"
    }
   ],
   "source": [
    "data_balanced_dwn = data_balanced_dwn.drop_duplicates().sort_values(by='f1_score_1', ascending=False)\n",
    "data_balanced_dwn.drop(['model'], axis=1)"
   ]
  },
  {
   "cell_type": "markdown",
   "metadata": {},
   "source": [
    "сводная таблица несбалансированная"
   ]
  },
  {
   "cell_type": "code",
   "execution_count": 50,
   "metadata": {},
   "outputs": [
    {
     "data": {
      "text/html": [
       "<div>\n",
       "<style scoped>\n",
       "    .dataframe tbody tr th:only-of-type {\n",
       "        vertical-align: middle;\n",
       "    }\n",
       "\n",
       "    .dataframe tbody tr th {\n",
       "        vertical-align: top;\n",
       "    }\n",
       "\n",
       "    .dataframe thead th {\n",
       "        text-align: right;\n",
       "    }\n",
       "</style>\n",
       "<table border=\"1\" class=\"dataframe\">\n",
       "  <thead>\n",
       "    <tr style=\"text-align: right;\">\n",
       "      <th></th>\n",
       "      <th>name</th>\n",
       "      <th>model_score</th>\n",
       "      <th>f1_score_1</th>\n",
       "      <th>f1_score_0</th>\n",
       "      <th>recall_score</th>\n",
       "      <th>auc-roc</th>\n",
       "    </tr>\n",
       "  </thead>\n",
       "  <tbody>\n",
       "    <tr>\n",
       "      <th>1</th>\n",
       "      <td>RandomForestClassifier</td>\n",
       "      <td>0.866960</td>\n",
       "      <td>0.595318</td>\n",
       "      <td>0.920395</td>\n",
       "      <td>0.479784</td>\n",
       "      <td>0.845430</td>\n",
       "    </tr>\n",
       "    <tr>\n",
       "      <th>0</th>\n",
       "      <td>DecisionTreeClassifier</td>\n",
       "      <td>0.859813</td>\n",
       "      <td>0.561102</td>\n",
       "      <td>0.916585</td>\n",
       "      <td>0.439353</td>\n",
       "      <td>0.815525</td>\n",
       "    </tr>\n",
       "    <tr>\n",
       "      <th>3</th>\n",
       "      <td>LogisticRegression</td>\n",
       "      <td>0.818032</td>\n",
       "      <td>0.362235</td>\n",
       "      <td>0.893876</td>\n",
       "      <td>0.253369</td>\n",
       "      <td>0.770372</td>\n",
       "    </tr>\n",
       "    <tr>\n",
       "      <th>2</th>\n",
       "      <td>LogisticRegression</td>\n",
       "      <td>0.816932</td>\n",
       "      <td>0.358382</td>\n",
       "      <td>0.893235</td>\n",
       "      <td>0.250674</td>\n",
       "      <td>0.773416</td>\n",
       "    </tr>\n",
       "    <tr>\n",
       "      <th>4</th>\n",
       "      <td>LogisticRegression</td>\n",
       "      <td>0.816383</td>\n",
       "      <td>0.352713</td>\n",
       "      <td>0.893017</td>\n",
       "      <td>0.245283</td>\n",
       "      <td>0.774322</td>\n",
       "    </tr>\n",
       "  </tbody>\n",
       "</table>\n",
       "</div>"
      ],
      "text/plain": [
       "                     name  model_score  f1_score_1  f1_score_0  recall_score  \\\n",
       "1  RandomForestClassifier     0.866960    0.595318    0.920395      0.479784   \n",
       "0  DecisionTreeClassifier     0.859813    0.561102    0.916585      0.439353   \n",
       "3      LogisticRegression     0.818032    0.362235    0.893876      0.253369   \n",
       "2      LogisticRegression     0.816932    0.358382    0.893235      0.250674   \n",
       "4      LogisticRegression     0.816383    0.352713    0.893017      0.245283   \n",
       "\n",
       "    auc-roc  \n",
       "1  0.845430  \n",
       "0  0.815525  \n",
       "3  0.770372  \n",
       "2  0.773416  \n",
       "4  0.774322  "
      ]
     },
     "execution_count": 50,
     "metadata": {},
     "output_type": "execute_result"
    }
   ],
   "source": [
    "data_unbalanced.drop(['model'], axis=1)"
   ]
  },
  {
   "cell_type": "markdown",
   "metadata": {},
   "source": [
    "как видно из сводной таблицы, после уменьшения выборки и доведения отношения между параметрами до 100%, показатели F1 score и recall score правтически не изменились. с дисбалансом в 25% модели показывали рост метрик"
   ]
  },
  {
   "cell_type": "markdown",
   "metadata": {},
   "source": [
    "### Увеличение выборки"
   ]
  },
  {
   "cell_type": "code",
   "execution_count": 51,
   "metadata": {},
   "outputs": [],
   "source": [
    "data_balanced_up = pd.DataFrame()"
   ]
  },
  {
   "cell_type": "markdown",
   "metadata": {},
   "source": [
    "таблица для сохранения результатов"
   ]
  },
  {
   "cell_type": "code",
   "execution_count": 52,
   "metadata": {},
   "outputs": [],
   "source": [
    "def upsample(features, target, repeat):\n",
    "    features_zeros = features[target == 0]\n",
    "    features_ones = features[target == 1]\n",
    "    target_zeros = target[target == 0]\n",
    "    target_ones = target[target == 1]\n",
    "\n",
    "    features_upsampled = pd.concat([features_zeros] + [features_ones] * repeat)\n",
    "    target_upsampled = pd.concat([target_zeros] + [target_ones] * repeat)\n",
    "    \n",
    "    features_upsampled, target_upsampled = shuffle(\n",
    "        features_upsampled, target_upsampled, random_state=12345)\n",
    "    \n",
    "    return features_upsampled, target_upsampled"
   ]
  },
  {
   "cell_type": "code",
   "execution_count": 53,
   "metadata": {},
   "outputs": [],
   "source": [
    "learn_data, learn_target = upsample(tmp_learn_data, tmp_learn_target, cls_0 // cls_1)"
   ]
  },
  {
   "cell_type": "code",
   "execution_count": 54,
   "metadata": {},
   "outputs": [
    {
     "name": "stdout",
     "output_type": "stream",
     "text": [
      "результат применения функции:\n",
      "число отрицательныx объектов: 4342\n",
      "число положительныx объектов: 1112\n",
      "отношение:25.610%\n"
     ]
    }
   ],
   "source": [
    "#learn_target.hist();\n",
    "cls_1 = (learn_target==1).sum()\n",
    "cls_0 = (learn_target==0).sum()\n",
    "print(\n",
    "    'результат применения функции:',\n",
    "    f'число отрицательныx объектов: {cls_0}',\n",
    "    f'число положительныx объектов: {cls_1}',\n",
    "    f'отношение:{cls_1 / cls_0:.3%}',      \n",
    "     sep='\\n')"
   ]
  },
  {
   "cell_type": "markdown",
   "metadata": {},
   "source": []
  },
  {
   "cell_type": "code",
   "execution_count": null,
   "metadata": {},
   "outputs": [],
   "source": []
  },
  {
   "cell_type": "markdown",
   "metadata": {},
   "source": []
  },
  {
   "cell_type": "markdown",
   "metadata": {},
   "source": [
    "#### DecisionTreeClassifier"
   ]
  },
  {
   "cell_type": "code",
   "execution_count": 55,
   "metadata": {},
   "outputs": [
    {
     "name": "stdout",
     "output_type": "stream",
     "text": [
      "F мера лучшей модели: 0.5611015490533563\n",
      "AUC-ROC лучшей модели: 0.8155248991079805\n",
      "\n",
      "**********\n",
      "\n",
      "CPU times: user 525 ms, sys: 0 ns, total: 525 ms\n",
      "Wall time: 533 ms\n"
     ]
    }
   ],
   "source": [
    "%%time\n",
    "data_balanced_up = pd.concat(\n",
    "    [\n",
    "    data_balanced_up,\n",
    "    pd.DataFrame(decision_tree_classifier(plt=False)[1]),\n",
    "    ],\n",
    "    axis=0,ignore_index=False)"
   ]
  },
  {
   "cell_type": "markdown",
   "metadata": {},
   "source": [
    "#### RandomForestClassifier"
   ]
  },
  {
   "cell_type": "code",
   "execution_count": 56,
   "metadata": {
    "scrolled": true
   },
   "outputs": [
    {
     "name": "stdout",
     "output_type": "stream",
     "text": [
      "Подбор глубины\n",
      "F мера лучшей модели: 0.5823627287853579\n",
      "AUC-ROC лучшей модели: 0.8291816205268723\n",
      "\n",
      "**********\n",
      "\n",
      "лучшая глубина: 12\n",
      "Количество деревьев: 10\n",
      "\n",
      "**********\n",
      "\n",
      "F мера лучшей модели: 0.5973154362416108\n",
      "AUC-ROC лучшей модели: 0.840502189096216\n",
      "\n",
      "**********\n",
      "\n",
      "CPU times: user 4.51 s, sys: 0 ns, total: 4.51 s\n",
      "Wall time: 4.53 s\n"
     ]
    }
   ],
   "source": [
    "%%time\n",
    "data_balanced_up = pd.concat(\n",
    "    [\n",
    "        data_balanced_up,\n",
    "        pd.DataFrame(\n",
    "            random_forest_classifier(\n",
    "                settings=set_params_n_estimators(\n",
    "                    mod_forest().get_params(),\n",
    "                    start=1,\n",
    "                    stop=25,\n",
    "                    step=1),\n",
    "                plt=False,\n",
    "            )[1])],\n",
    "    axis=0, ignore_index=True)"
   ]
  },
  {
   "cell_type": "markdown",
   "metadata": {},
   "source": [
    "#### LogisticRegression"
   ]
  },
  {
   "cell_type": "code",
   "execution_count": 57,
   "metadata": {},
   "outputs": [
    {
     "name": "stdout",
     "output_type": "stream",
     "text": [
      "F мера лучшей модели: 0.3583815028901734\n",
      "AUC-ROC лучшей модели: 0.7734155113103305\n",
      "\n",
      "**********\n",
      "\n",
      "F мера лучшей модели: 0.36223506743737954\n",
      "AUC-ROC лучшей модели: 0.7703719974386085\n",
      "\n",
      "**********\n",
      "\n",
      "F мера лучшей модели: 0.35271317829457366\n",
      "AUC-ROC лучшей модели: 0.7743220503045375\n",
      "\n",
      "**********\n",
      "\n",
      "CPU times: user 3.15 s, sys: 6.45 s, total: 9.6 s\n",
      "Wall time: 9.53 s\n"
     ]
    }
   ],
   "source": [
    "%%time\n",
    "for item in logistic_regression(plt=False)[1]:\n",
    "    data_balanced_up = pd.concat(\n",
    "        [\n",
    "            data_balanced_up,\n",
    "            pd.DataFrame(item)],\n",
    "        axis=0,\n",
    "        ignore_index=True)"
   ]
  },
  {
   "cell_type": "code",
   "execution_count": 58,
   "metadata": {},
   "outputs": [
    {
     "data": {
      "text/html": [
       "<div>\n",
       "<style scoped>\n",
       "    .dataframe tbody tr th:only-of-type {\n",
       "        vertical-align: middle;\n",
       "    }\n",
       "\n",
       "    .dataframe tbody tr th {\n",
       "        vertical-align: top;\n",
       "    }\n",
       "\n",
       "    .dataframe thead th {\n",
       "        text-align: right;\n",
       "    }\n",
       "</style>\n",
       "<table border=\"1\" class=\"dataframe\">\n",
       "  <thead>\n",
       "    <tr style=\"text-align: right;\">\n",
       "      <th></th>\n",
       "      <th>name</th>\n",
       "      <th>model_score</th>\n",
       "      <th>f1_score_1</th>\n",
       "      <th>f1_score_0</th>\n",
       "      <th>recall_score</th>\n",
       "      <th>auc-roc</th>\n",
       "    </tr>\n",
       "  </thead>\n",
       "  <tbody>\n",
       "    <tr>\n",
       "      <th>1</th>\n",
       "      <td>RandomForestClassifier</td>\n",
       "      <td>0.868059</td>\n",
       "      <td>0.597315</td>\n",
       "      <td>0.921105</td>\n",
       "      <td>0.479784</td>\n",
       "      <td>0.840502</td>\n",
       "    </tr>\n",
       "    <tr>\n",
       "      <th>0</th>\n",
       "      <td>DecisionTreeClassifier</td>\n",
       "      <td>0.859813</td>\n",
       "      <td>0.561102</td>\n",
       "      <td>0.916585</td>\n",
       "      <td>0.439353</td>\n",
       "      <td>0.815525</td>\n",
       "    </tr>\n",
       "    <tr>\n",
       "      <th>3</th>\n",
       "      <td>LogisticRegression</td>\n",
       "      <td>0.818032</td>\n",
       "      <td>0.362235</td>\n",
       "      <td>0.893876</td>\n",
       "      <td>0.253369</td>\n",
       "      <td>0.770372</td>\n",
       "    </tr>\n",
       "    <tr>\n",
       "      <th>2</th>\n",
       "      <td>LogisticRegression</td>\n",
       "      <td>0.816932</td>\n",
       "      <td>0.358382</td>\n",
       "      <td>0.893235</td>\n",
       "      <td>0.250674</td>\n",
       "      <td>0.773416</td>\n",
       "    </tr>\n",
       "    <tr>\n",
       "      <th>4</th>\n",
       "      <td>LogisticRegression</td>\n",
       "      <td>0.816383</td>\n",
       "      <td>0.352713</td>\n",
       "      <td>0.893017</td>\n",
       "      <td>0.245283</td>\n",
       "      <td>0.774322</td>\n",
       "    </tr>\n",
       "  </tbody>\n",
       "</table>\n",
       "</div>"
      ],
      "text/plain": [
       "                     name  model_score  f1_score_1  f1_score_0  recall_score  \\\n",
       "1  RandomForestClassifier     0.868059    0.597315    0.921105      0.479784   \n",
       "0  DecisionTreeClassifier     0.859813    0.561102    0.916585      0.439353   \n",
       "3      LogisticRegression     0.818032    0.362235    0.893876      0.253369   \n",
       "2      LogisticRegression     0.816932    0.358382    0.893235      0.250674   \n",
       "4      LogisticRegression     0.816383    0.352713    0.893017      0.245283   \n",
       "\n",
       "    auc-roc  \n",
       "1  0.840502  \n",
       "0  0.815525  \n",
       "3  0.770372  \n",
       "2  0.773416  \n",
       "4  0.774322  "
      ]
     },
     "execution_count": 58,
     "metadata": {},
     "output_type": "execute_result"
    }
   ],
   "source": [
    "data_balanced_up = data_balanced_up.drop_duplicates().sort_values(by='f1_score_1', ascending=False)\n",
    "data_balanced_up.drop(['model'], axis=1)"
   ]
  },
  {
   "cell_type": "code",
   "execution_count": 59,
   "metadata": {},
   "outputs": [
    {
     "data": {
      "text/html": [
       "<div>\n",
       "<style scoped>\n",
       "    .dataframe tbody tr th:only-of-type {\n",
       "        vertical-align: middle;\n",
       "    }\n",
       "\n",
       "    .dataframe tbody tr th {\n",
       "        vertical-align: top;\n",
       "    }\n",
       "\n",
       "    .dataframe thead th {\n",
       "        text-align: right;\n",
       "    }\n",
       "</style>\n",
       "<table border=\"1\" class=\"dataframe\">\n",
       "  <thead>\n",
       "    <tr style=\"text-align: right;\">\n",
       "      <th></th>\n",
       "      <th>name</th>\n",
       "      <th>model_score</th>\n",
       "      <th>f1_score_1</th>\n",
       "      <th>f1_score_0</th>\n",
       "      <th>recall_score</th>\n",
       "      <th>auc-roc</th>\n",
       "    </tr>\n",
       "  </thead>\n",
       "  <tbody>\n",
       "    <tr>\n",
       "      <th>1</th>\n",
       "      <td>RandomForestClassifier</td>\n",
       "      <td>0.866960</td>\n",
       "      <td>0.595318</td>\n",
       "      <td>0.920395</td>\n",
       "      <td>0.479784</td>\n",
       "      <td>0.845430</td>\n",
       "    </tr>\n",
       "    <tr>\n",
       "      <th>0</th>\n",
       "      <td>DecisionTreeClassifier</td>\n",
       "      <td>0.859813</td>\n",
       "      <td>0.561102</td>\n",
       "      <td>0.916585</td>\n",
       "      <td>0.439353</td>\n",
       "      <td>0.815525</td>\n",
       "    </tr>\n",
       "    <tr>\n",
       "      <th>3</th>\n",
       "      <td>LogisticRegression</td>\n",
       "      <td>0.818032</td>\n",
       "      <td>0.362235</td>\n",
       "      <td>0.893876</td>\n",
       "      <td>0.253369</td>\n",
       "      <td>0.770372</td>\n",
       "    </tr>\n",
       "    <tr>\n",
       "      <th>2</th>\n",
       "      <td>LogisticRegression</td>\n",
       "      <td>0.816932</td>\n",
       "      <td>0.358382</td>\n",
       "      <td>0.893235</td>\n",
       "      <td>0.250674</td>\n",
       "      <td>0.773416</td>\n",
       "    </tr>\n",
       "    <tr>\n",
       "      <th>4</th>\n",
       "      <td>LogisticRegression</td>\n",
       "      <td>0.816383</td>\n",
       "      <td>0.352713</td>\n",
       "      <td>0.893017</td>\n",
       "      <td>0.245283</td>\n",
       "      <td>0.774322</td>\n",
       "    </tr>\n",
       "  </tbody>\n",
       "</table>\n",
       "</div>"
      ],
      "text/plain": [
       "                     name  model_score  f1_score_1  f1_score_0  recall_score  \\\n",
       "1  RandomForestClassifier     0.866960    0.595318    0.920395      0.479784   \n",
       "0  DecisionTreeClassifier     0.859813    0.561102    0.916585      0.439353   \n",
       "3      LogisticRegression     0.818032    0.362235    0.893876      0.253369   \n",
       "2      LogisticRegression     0.816932    0.358382    0.893235      0.250674   \n",
       "4      LogisticRegression     0.816383    0.352713    0.893017      0.245283   \n",
       "\n",
       "    auc-roc  \n",
       "1  0.845430  \n",
       "0  0.815525  \n",
       "3  0.770372  \n",
       "2  0.773416  \n",
       "4  0.774322  "
      ]
     },
     "execution_count": 59,
     "metadata": {},
     "output_type": "execute_result"
    }
   ],
   "source": [
    "data_unbalanced.drop(['model'], axis=1)"
   ]
  },
  {
   "cell_type": "markdown",
   "metadata": {},
   "source": [
    "как видно из сводной таблицы, после изменения параметров и обучения модели показатели F1 score и recall score увеличились. F1 score вырос почти на 4%, а recall_score на 21,9%, auc-roc практически не изменился"
   ]
  },
  {
   "cell_type": "markdown",
   "metadata": {},
   "source": [
    "### Краткий вывод"
   ]
  },
  {
   "cell_type": "markdown",
   "metadata": {},
   "source": [
    "в при рассмотрении способов уменьшения влияния дисбаланса классов на обучение модели было рассмотрено 2 способа:\n",
    "* уменьшение выборки\n",
    "* увеличение выборки\n",
    "\n",
    "способ увеличение выборки показал увиличение F1 score и recall_score на 4% и 22% соответственно, что говорит о увеличении качества предсказания, которое дает обучение на выборках при уменьшении дисбаланса в классах\n",
    "для тестирования модели будем использовать выборку с уменьшиным дисбалансом, по методу увеличение выборки."
   ]
  },
  {
   "cell_type": "markdown",
   "metadata": {},
   "source": [
    "## Тестирование модели"
   ]
  },
  {
   "cell_type": "markdown",
   "metadata": {},
   "source": [
    "### Тестирование модели"
   ]
  },
  {
   "cell_type": "markdown",
   "metadata": {},
   "source": [
    "проведем тестирование трех лучших моделей на тестовой выборке\n",
    "и для одной из них построим ROC-кривую"
   ]
  },
  {
   "cell_type": "code",
   "execution_count": 60,
   "metadata": {},
   "outputs": [
    {
     "name": "stdout",
     "output_type": "stream",
     "text": [
      "best_model=RandomForestClassifier(max_depth=12, n_estimators=14, random_state=12345)\n",
      "best_model=RandomForestClassifier(max_depth=7, n_estimators=17, random_state=12345)\n",
      "best_model=RandomForestClassifier(max_depth=12, n_estimators=16, random_state=12345)\n"
     ]
    }
   ],
   "source": [
    "for item in [data_unbalanced, data_balanced_dwn, data_balanced_up]:\n",
    "    print(item.iloc[0]['model'],)"
   ]
  },
  {
   "cell_type": "markdown",
   "metadata": {},
   "source": [
    "обучим 3 лучшие модели, по рейтингу f1_score, параметры для которых возьмем из сводной таблицы. получим предсказания этих моделей и посчитаем f1_score и recall_score"
   ]
  },
  {
   "cell_type": "code",
   "execution_count": 61,
   "metadata": {},
   "outputs": [
    {
     "name": "stdout",
     "output_type": "stream",
     "text": [
      "RandomForestClassifier(max_depth=12, n_estimators=14, random_state=12345)\n",
      "recall_score:  0.474394\n",
      "f1_score:   0.579901\n",
      "roc_auc 0.8559255416448569\n",
      "\n",
      " ************************************************** \n",
      "\n",
      "RandomForestClassifier(max_depth=7, n_estimators=17, random_state=12345)\n",
      "recall_score:  0.433962\n",
      "f1_score:   0.563923\n",
      "roc_auc 0.8707931830332114\n",
      "\n",
      " ************************************************** \n",
      "\n",
      "RandomForestClassifier(max_depth=12, n_estimators=16, random_state=12345)\n",
      "recall_score:  0.477089\n",
      "f1_score:   0.583196\n",
      "roc_auc 0.8579829631713165\n",
      "\n",
      " ************************************************** \n",
      "\n"
     ]
    }
   ],
   "source": [
    "for item in [data_unbalanced, data_balanced_dwn, data_balanced_up]:\n",
    "    exec(item.iloc[0]['model'])\n",
    "    best_model.fit(learn_data, learn_target)\n",
    "    predict = best_model.predict(test_data)\n",
    "    print(best_model)\n",
    "    print('recall_score: ', round(recall_score(test_target,predict), 6))\n",
    "    print('f1_score: ', f'{f1_score(test_target, predict, pos_label=1): .6f}')\n",
    "    print('roc_auc', roc_auc_score(test_target, best_model.predict_proba(test_data)[:,1]))\n",
    "    print('\\n', '*' * 50, '\\n')"
   ]
  },
  {
   "cell_type": "markdown",
   "metadata": {},
   "source": [
    "все 3 модели показали хороший результат. F1_score всех моделей выше 0.60, roc_auc > 0,85\n"
   ]
  },
  {
   "cell_type": "markdown",
   "metadata": {},
   "source": [
    "### ROC - кривая"
   ]
  },
  {
   "cell_type": "markdown",
   "metadata": {},
   "source": [
    "построим ROC-кривая для второй модели из сводной таблицы"
   ]
  },
  {
   "cell_type": "code",
   "execution_count": 62,
   "metadata": {},
   "outputs": [],
   "source": [
    "exec(data_balanced_dwn.model.iloc[0])\n",
    "best_model.fit(learn_data, learn_target)\n",
    "probabilities = best_model.predict_proba(test_data)"
   ]
  },
  {
   "cell_type": "code",
   "execution_count": 63,
   "metadata": {},
   "outputs": [],
   "source": [
    "fpr, tpr, thresholds = roc_curve(test_target, probabilities[:,1]) "
   ]
  },
  {
   "cell_type": "code",
   "execution_count": 64,
   "metadata": {},
   "outputs": [
    {
     "data": {
      "image/png": "[encoded data removed]",
      "text/plain": [
       "<Figure size 720x720 with 1 Axes>"
      ]
     },
     "metadata": {
      "needs_background": "light"
     },
     "output_type": "display_data"
    }
   ],
   "source": [
    "fig, ax = plt.subplots(ncols=1, figsize=(10,10))\n",
    "sns.lineplot(ax=ax,\n",
    "             y=tpr,\n",
    "             x=fpr,\n",
    "             color='#00BFFF',\n",
    "             legend=True,\n",
    "             label='модель с высоким качеством',\n",
    "            )\n",
    "sns.lineplot(ax=ax,\n",
    "             y=[0, 1],\n",
    "             x=[0, 1],\n",
    "             color='#800000',\n",
    "             legend=True,\n",
    "             label='случайная модель',\n",
    "             linestyle = '--'\n",
    "            )\n",
    "plt.ylabel('True Positive Rate')\n",
    "plt.xlabel('False Positive Rate')\n",
    "plt.title('ROC-кривая')\n",
    "plt.show()"
   ]
  },
  {
   "cell_type": "markdown",
   "metadata": {},
   "source": [
    "Чтобы выявить, как сильно наша модель отличается от случайной, посчитаем площадь под ROC-кривой — AUC-ROC (от англ. Area Under Curve ROC, «площадь под ROC-кривой»). Это новая метрика качества, которая изменяется от 0 до 1. AUC-ROC случайной модели равна 0.5."
   ]
  },
  {
   "cell_type": "code",
   "execution_count": 65,
   "metadata": {},
   "outputs": [
    {
     "name": "stdout",
     "output_type": "stream",
     "text": [
      "AUC-ROC:  0.8707931830332114\n"
     ]
    }
   ],
   "source": [
    "print('AUC-ROC: ',roc_auc_score(test_target, probabilities[:,1]))"
   ]
  },
  {
   "cell_type": "markdown",
   "metadata": {},
   "source": [
    "Для модели, которая всегда отвечает случайно, ROC-кривая выглядит как прямая, идущая из левого нижнего угла в верхний правый. Чем график выше, тем больше значение TPR и лучше качество модели.\n",
    "\n",
    "ТК наша кривая располагается далеко от прямой, то можно говорить о хорошем качестве модели"
   ]
  },
  {
   "cell_type": "markdown",
   "metadata": {},
   "source": [
    "### Краткий вывод"
   ]
  },
  {
   "cell_type": "markdown",
   "metadata": {},
   "source": [
    "при реботе над разделом были обучены 3 модели, на учебных данных полученных ранее, методом уменьшения выборки, при борьбе с дисбалансом объектов. Все 3 модели показали хороший результат. F1_score всех моделей выше 0.6, recall_score выше 0.65, AUC-ROC > 0,85\n",
    "также, для оценки одной из моделей, была построена ROC-кривая и посчитана AUC-ROC которая составила 0.87"
   ]
  },
  {
   "cell_type": "markdown",
   "metadata": {},
   "source": [
    "## Вывод"
   ]
  },
  {
   "cell_type": "markdown",
   "metadata": {},
   "source": [
    "В ходе работы над первой частью проекта были выполнены работы:\n",
    "\n",
    "    Открыты и изучены данные\n",
    "    Прооведена минимальная предобработка в ходе которой удалены пустые значения слабо влияющие на целевой признак\n",
    "    Разделины данные на выборки в соотношении 3:1:1\n",
    "    Обработаны от категориальные признаки\n",
    "\n",
    "В ходе проведения исследования задачи была проведена следующая работа:\n",
    "\n",
    "*    были рассмотрены и обучены модели:\n",
    " *      DecisionTreeClassifier (дерево)\n",
    " *      RandomForestClassifier (случайный лес)\n",
    " *      LogisticRegression (логистическая регрессия)\n",
    "*    расчиитаны показатели f1_score по бинарному признаку и классу 1, score и recall_score на обучающих и проверочнных данных.\n",
    "*    на основании данных полученных при обучении моделей построены графики и собрана сводная таблица с лучшими результатами\n",
    "\n",
    "    Лучшие результаты показала модель RandomForestClassifier c score = 0.867 и f1_score = 0.595, AUC-ROC = 0.845  при параметрах max_depth=7, n_estimators=17,\n",
    "    \n",
    "recall_score:  0.67655\n",
    "f1_score:   0.628285\n",
    "roc_auc 0.8731877646287421\n",
    "\n",
    "При работе над уменьшением дисбаланса было использовано 2 способа:\n",
    "*    уменьшение выборки\n",
    "*    увеличение выборки\n",
    "способ увеличение выборки показал увиличение F1 score и recall_score на 4% и 22% соответственно, что говорит о увеличении качества предсказания, которое дает обучение на выборках при уменьшении дисбаланса в классах для тестирования модели будем использовать выборку с уменьшиным дисбалансом, по методу увеличение выборки.\n",
    "\n",
    "\n",
    "В ходе работы над проектом было проведено тестирование 3-х лучших моделей, предварительно обученных на данных, полученных методом upsampling при борьбе с дисбалансом выборки. Все 3 тестируемые модели показали хороший результат. F1_score всех моделей выше 0.6, АUC-ROC выше 0,85 также, для оценки одной из моделей, была построена ROC-кривая и посчитана AUC-ROC которая составила 0.87\n",
    "лучшая модель и параметры: RandomForestClassifier(max_depth=7, n_estimators=17, random_state=12345)"
   ]
  },
  {
   "cell_type": "code",
   "execution_count": null,
   "metadata": {},
   "outputs": [],
   "source": []
  }
 ],
 "metadata": {
  "ExecuteTimeLog": [
   {
    "duration": 424,
    "start_time": "2023-04-25T16:50:56.131Z"
   },
   {
    "duration": 104,
    "start_time": "2023-04-25T16:50:56.557Z"
   },
   {
    "duration": 168,
    "start_time": "2023-04-25T16:51:04.037Z"
   },
   {
    "duration": 47,
    "start_time": "2023-04-25T16:51:53.679Z"
   },
   {
    "duration": 86,
    "start_time": "2023-04-25T16:52:38.537Z"
   },
   {
    "duration": 12,
    "start_time": "2023-04-25T16:52:46.037Z"
   },
   {
    "duration": 12,
    "start_time": "2023-04-25T16:53:39.185Z"
   },
   {
    "duration": 3,
    "start_time": "2023-04-25T16:57:02.284Z"
   },
   {
    "duration": 61,
    "start_time": "2023-04-25T16:57:02.486Z"
   },
   {
    "duration": 17,
    "start_time": "2023-04-25T16:57:02.658Z"
   },
   {
    "duration": 14,
    "start_time": "2023-04-25T16:57:02.840Z"
   },
   {
    "duration": 49,
    "start_time": "2023-04-25T16:57:03.008Z"
   },
   {
    "duration": 7,
    "start_time": "2023-04-25T16:57:03.181Z"
   },
   {
    "duration": 8,
    "start_time": "2023-04-25T16:57:03.382Z"
   },
   {
    "duration": 16,
    "start_time": "2023-04-25T16:57:03.990Z"
   },
   {
    "duration": 74,
    "start_time": "2023-04-25T17:46:29.414Z"
   },
   {
    "duration": 324,
    "start_time": "2023-04-25T17:46:33.188Z"
   },
   {
    "duration": 32,
    "start_time": "2023-04-25T17:46:51.125Z"
   },
   {
    "duration": 17,
    "start_time": "2023-04-25T17:47:02.126Z"
   },
   {
    "duration": 13,
    "start_time": "2023-04-25T17:47:45.213Z"
   },
   {
    "duration": 13,
    "start_time": "2023-04-25T17:48:00.582Z"
   },
   {
    "duration": 13,
    "start_time": "2023-04-25T17:48:08.075Z"
   },
   {
    "duration": 12,
    "start_time": "2023-04-25T17:49:55.482Z"
   },
   {
    "duration": 12,
    "start_time": "2023-04-25T17:49:58.275Z"
   },
   {
    "duration": 12,
    "start_time": "2023-04-25T17:50:33.282Z"
   },
   {
    "duration": 15,
    "start_time": "2023-04-25T17:51:01.676Z"
   },
   {
    "duration": 18,
    "start_time": "2023-04-25T17:51:34.492Z"
   },
   {
    "duration": 9,
    "start_time": "2023-04-25T17:51:45.927Z"
   },
   {
    "duration": 13,
    "start_time": "2023-04-25T17:52:39.839Z"
   },
   {
    "duration": 13,
    "start_time": "2023-04-25T17:53:24.628Z"
   },
   {
    "duration": 9,
    "start_time": "2023-04-25T17:53:59.605Z"
   },
   {
    "duration": 24,
    "start_time": "2023-04-25T17:55:04.467Z"
   },
   {
    "duration": 30,
    "start_time": "2023-04-25T17:55:59.685Z"
   },
   {
    "duration": 10,
    "start_time": "2023-04-25T17:56:15.593Z"
   },
   {
    "duration": 10,
    "start_time": "2023-04-25T17:56:28.711Z"
   },
   {
    "duration": 23,
    "start_time": "2023-04-25T17:56:34.271Z"
   },
   {
    "duration": 29,
    "start_time": "2023-04-25T17:56:53.312Z"
   },
   {
    "duration": 12,
    "start_time": "2023-04-25T17:58:54.610Z"
   },
   {
    "duration": 7,
    "start_time": "2023-04-25T17:59:24.099Z"
   },
   {
    "duration": 6,
    "start_time": "2023-04-25T17:59:51.923Z"
   },
   {
    "duration": 4,
    "start_time": "2023-04-25T18:00:23.489Z"
   },
   {
    "duration": 8,
    "start_time": "2023-04-25T18:12:13.978Z"
   },
   {
    "duration": 7,
    "start_time": "2023-04-25T18:12:16.034Z"
   },
   {
    "duration": 15,
    "start_time": "2023-04-25T18:12:54.502Z"
   },
   {
    "duration": 7,
    "start_time": "2023-04-25T18:12:54.754Z"
   },
   {
    "duration": 8,
    "start_time": "2023-04-25T18:12:54.997Z"
   },
   {
    "duration": 4,
    "start_time": "2023-04-25T18:12:56.095Z"
   },
   {
    "duration": 8,
    "start_time": "2023-04-25T18:13:21.496Z"
   },
   {
    "duration": 12,
    "start_time": "2023-04-25T18:16:13.547Z"
   },
   {
    "duration": 12,
    "start_time": "2023-04-25T18:23:28.572Z"
   },
   {
    "duration": 17,
    "start_time": "2023-04-25T18:26:18.271Z"
   },
   {
    "duration": 11,
    "start_time": "2023-04-25T18:26:34.582Z"
   },
   {
    "duration": 14,
    "start_time": "2023-04-25T18:26:44.087Z"
   },
   {
    "duration": 10,
    "start_time": "2023-04-25T18:28:17.616Z"
   },
   {
    "duration": 15,
    "start_time": "2023-04-25T18:31:44.644Z"
   },
   {
    "duration": 7,
    "start_time": "2023-04-25T18:34:08.634Z"
   },
   {
    "duration": 5,
    "start_time": "2023-04-25T18:34:32.424Z"
   },
   {
    "duration": 5,
    "start_time": "2023-04-25T18:35:00.218Z"
   },
   {
    "duration": 12,
    "start_time": "2023-04-25T18:35:05.917Z"
   },
   {
    "duration": 14,
    "start_time": "2023-04-25T18:35:08.382Z"
   },
   {
    "duration": 16,
    "start_time": "2023-04-25T18:35:08.819Z"
   },
   {
    "duration": 9,
    "start_time": "2023-04-25T18:35:17.361Z"
   },
   {
    "duration": 8,
    "start_time": "2023-04-25T18:35:34.614Z"
   },
   {
    "duration": 8,
    "start_time": "2023-04-25T18:35:46.656Z"
   },
   {
    "duration": 12,
    "start_time": "2023-04-25T18:36:46.170Z"
   },
   {
    "duration": 13,
    "start_time": "2023-04-25T18:37:05.986Z"
   },
   {
    "duration": 8,
    "start_time": "2023-04-25T18:37:12.632Z"
   },
   {
    "duration": 10,
    "start_time": "2023-04-25T18:37:21.561Z"
   },
   {
    "duration": 8,
    "start_time": "2023-04-25T18:37:41.860Z"
   },
   {
    "duration": 8,
    "start_time": "2023-04-25T18:38:07.329Z"
   },
   {
    "duration": 8,
    "start_time": "2023-04-25T18:38:33.209Z"
   },
   {
    "duration": 8,
    "start_time": "2023-04-25T18:38:52.567Z"
   },
   {
    "duration": 8,
    "start_time": "2023-04-25T18:38:59.361Z"
   },
   {
    "duration": 6,
    "start_time": "2023-04-25T18:39:50.024Z"
   },
   {
    "duration": 14,
    "start_time": "2023-04-25T18:43:12.128Z"
   },
   {
    "duration": 7,
    "start_time": "2023-04-25T18:56:59.138Z"
   },
   {
    "duration": 10,
    "start_time": "2023-04-25T18:57:03.543Z"
   },
   {
    "duration": 7,
    "start_time": "2023-04-25T18:57:18.164Z"
   },
   {
    "duration": 9,
    "start_time": "2023-04-25T18:57:58.575Z"
   },
   {
    "duration": 5,
    "start_time": "2023-04-25T18:58:25.885Z"
   },
   {
    "duration": 13,
    "start_time": "2023-04-25T18:58:33.432Z"
   },
   {
    "duration": 7,
    "start_time": "2023-04-25T18:58:43.039Z"
   },
   {
    "duration": 10,
    "start_time": "2023-04-25T18:59:29.862Z"
   },
   {
    "duration": 13,
    "start_time": "2023-04-25T18:59:55.248Z"
   },
   {
    "duration": 8,
    "start_time": "2023-04-25T19:00:01.050Z"
   },
   {
    "duration": 8,
    "start_time": "2023-04-25T19:00:26.808Z"
   },
   {
    "duration": 21,
    "start_time": "2023-04-25T19:08:15.632Z"
   },
   {
    "duration": 26,
    "start_time": "2023-04-25T19:09:03.308Z"
   },
   {
    "duration": 23,
    "start_time": "2023-04-25T19:10:18.466Z"
   },
   {
    "duration": 76,
    "start_time": "2023-04-25T19:10:25.481Z"
   },
   {
    "duration": 17,
    "start_time": "2023-04-25T19:10:30.429Z"
   },
   {
    "duration": 33,
    "start_time": "2023-04-25T19:10:40.031Z"
   },
   {
    "duration": 11,
    "start_time": "2023-04-25T19:11:32.027Z"
   },
   {
    "duration": 16,
    "start_time": "2023-04-25T19:11:50.386Z"
   },
   {
    "duration": 14,
    "start_time": "2023-04-25T19:12:03.919Z"
   },
   {
    "duration": 23,
    "start_time": "2023-04-25T19:12:13.463Z"
   },
   {
    "duration": 16,
    "start_time": "2023-04-25T19:12:34.764Z"
   },
   {
    "duration": 21,
    "start_time": "2023-04-25T19:13:10.636Z"
   },
   {
    "duration": 12,
    "start_time": "2023-04-25T19:13:19.598Z"
   },
   {
    "duration": 12,
    "start_time": "2023-04-25T19:21:17.097Z"
   },
   {
    "duration": 8,
    "start_time": "2023-04-25T19:21:40.606Z"
   },
   {
    "duration": 10,
    "start_time": "2023-04-25T19:21:50.068Z"
   },
   {
    "duration": 12,
    "start_time": "2023-04-25T19:21:56.297Z"
   },
   {
    "duration": 13,
    "start_time": "2023-04-25T19:22:04.687Z"
   },
   {
    "duration": 10,
    "start_time": "2023-04-25T19:22:38.025Z"
   },
   {
    "duration": 11,
    "start_time": "2023-04-25T19:23:11.496Z"
   },
   {
    "duration": 16,
    "start_time": "2023-04-25T19:23:19.818Z"
   },
   {
    "duration": 12,
    "start_time": "2023-04-25T19:24:09.818Z"
   },
   {
    "duration": 15,
    "start_time": "2023-04-25T19:24:15.478Z"
   },
   {
    "duration": 8,
    "start_time": "2023-04-25T19:24:21.255Z"
   },
   {
    "duration": 324,
    "start_time": "2023-04-25T19:24:32.762Z"
   },
   {
    "duration": 10,
    "start_time": "2023-04-25T19:24:48.750Z"
   },
   {
    "duration": 9,
    "start_time": "2023-04-25T19:24:55.857Z"
   },
   {
    "duration": 12,
    "start_time": "2023-04-25T19:25:17.118Z"
   },
   {
    "duration": 10,
    "start_time": "2023-04-25T19:25:51.197Z"
   },
   {
    "duration": 10,
    "start_time": "2023-04-25T19:26:05.622Z"
   },
   {
    "duration": 12,
    "start_time": "2023-04-25T19:26:19.951Z"
   },
   {
    "duration": 14,
    "start_time": "2023-04-25T19:26:32.230Z"
   },
   {
    "duration": 15,
    "start_time": "2023-04-25T19:26:36.726Z"
   },
   {
    "duration": 9,
    "start_time": "2023-04-25T19:27:44.471Z"
   },
   {
    "duration": 11,
    "start_time": "2023-04-25T19:27:56.911Z"
   },
   {
    "duration": 17,
    "start_time": "2023-04-25T19:28:13.689Z"
   },
   {
    "duration": 428,
    "start_time": "2023-04-25T19:29:39.122Z"
   },
   {
    "duration": 126,
    "start_time": "2023-04-25T19:29:39.615Z"
   },
   {
    "duration": 22,
    "start_time": "2023-04-25T19:29:41.598Z"
   },
   {
    "duration": 14,
    "start_time": "2023-04-25T19:29:44.895Z"
   },
   {
    "duration": 51,
    "start_time": "2023-04-25T19:29:45.719Z"
   },
   {
    "duration": 5,
    "start_time": "2023-04-25T19:29:50.079Z"
   },
   {
    "duration": 10,
    "start_time": "2023-04-25T19:29:52.607Z"
   },
   {
    "duration": 17,
    "start_time": "2023-04-25T19:29:55.942Z"
   },
   {
    "duration": 4,
    "start_time": "2023-04-25T19:30:01.822Z"
   },
   {
    "duration": 7,
    "start_time": "2023-04-25T19:30:17.089Z"
   },
   {
    "duration": 14,
    "start_time": "2023-04-25T19:31:45.089Z"
   },
   {
    "duration": 9,
    "start_time": "2023-04-25T19:31:58.598Z"
   },
   {
    "duration": 9,
    "start_time": "2023-04-25T19:32:24.760Z"
   },
   {
    "duration": 12,
    "start_time": "2023-04-25T19:32:31.399Z"
   },
   {
    "duration": 40,
    "start_time": "2023-04-25T19:32:38.270Z"
   },
   {
    "duration": 13,
    "start_time": "2023-04-25T19:32:53.390Z"
   },
   {
    "duration": 11,
    "start_time": "2023-04-25T19:33:14.838Z"
   },
   {
    "duration": 702,
    "start_time": "2023-04-25T19:46:53.002Z"
   },
   {
    "duration": 94,
    "start_time": "2023-04-25T19:51:00.249Z"
   },
   {
    "duration": 30,
    "start_time": "2023-04-25T19:51:06.527Z"
   },
   {
    "duration": 21,
    "start_time": "2023-04-25T19:51:09.151Z"
   },
   {
    "duration": 2,
    "start_time": "2023-04-25T19:51:54.230Z"
   },
   {
    "duration": 3,
    "start_time": "2023-04-25T19:52:12.905Z"
   },
   {
    "duration": 17,
    "start_time": "2023-04-25T19:58:07.163Z"
   },
   {
    "duration": 84,
    "start_time": "2023-04-25T20:23:42.018Z"
   },
   {
    "duration": 147,
    "start_time": "2023-04-25T20:23:50.688Z"
   },
   {
    "duration": 11,
    "start_time": "2023-04-25T20:23:57.911Z"
   },
   {
    "duration": 12,
    "start_time": "2023-04-25T20:29:03.029Z"
   },
   {
    "duration": 24,
    "start_time": "2023-04-25T20:29:07.324Z"
   },
   {
    "duration": 26,
    "start_time": "2023-04-25T20:29:36.031Z"
   },
   {
    "duration": 1055,
    "start_time": "2023-04-25T20:29:47.686Z"
   },
   {
    "duration": 141,
    "start_time": "2023-04-25T20:29:48.743Z"
   },
   {
    "duration": 19,
    "start_time": "2023-04-25T20:29:48.886Z"
   },
   {
    "duration": 13,
    "start_time": "2023-04-25T20:29:48.907Z"
   },
   {
    "duration": 42,
    "start_time": "2023-04-25T20:29:48.922Z"
   },
   {
    "duration": 5,
    "start_time": "2023-04-25T20:29:48.966Z"
   },
   {
    "duration": 9,
    "start_time": "2023-04-25T20:29:48.973Z"
   },
   {
    "duration": 13,
    "start_time": "2023-04-25T20:29:48.984Z"
   },
   {
    "duration": 3,
    "start_time": "2023-04-25T20:29:48.999Z"
   },
   {
    "duration": 38,
    "start_time": "2023-04-25T20:29:49.005Z"
   },
   {
    "duration": 12,
    "start_time": "2023-04-25T20:29:49.045Z"
   },
   {
    "duration": 8,
    "start_time": "2023-04-25T20:29:49.059Z"
   },
   {
    "duration": 23,
    "start_time": "2023-04-25T20:29:49.068Z"
   },
   {
    "duration": 11,
    "start_time": "2023-04-25T20:29:49.092Z"
   },
   {
    "duration": 130,
    "start_time": "2023-04-25T20:29:49.104Z"
   },
   {
    "duration": 0,
    "start_time": "2023-04-25T20:29:49.236Z"
   },
   {
    "duration": 9,
    "start_time": "2023-04-25T20:30:27.044Z"
   },
   {
    "duration": 18,
    "start_time": "2023-04-25T20:30:27.901Z"
   },
   {
    "duration": 9,
    "start_time": "2023-04-25T20:31:09.899Z"
   },
   {
    "duration": 12,
    "start_time": "2023-04-25T20:31:11.770Z"
   },
   {
    "duration": 1007,
    "start_time": "2023-04-25T20:32:34.879Z"
   },
   {
    "duration": 63,
    "start_time": "2023-04-25T20:32:35.888Z"
   },
   {
    "duration": 19,
    "start_time": "2023-04-25T20:32:35.953Z"
   },
   {
    "duration": 13,
    "start_time": "2023-04-25T20:32:35.974Z"
   },
   {
    "duration": 58,
    "start_time": "2023-04-25T20:32:35.988Z"
   },
   {
    "duration": 5,
    "start_time": "2023-04-25T20:32:36.049Z"
   },
   {
    "duration": 24,
    "start_time": "2023-04-25T20:32:36.056Z"
   },
   {
    "duration": 21,
    "start_time": "2023-04-25T20:32:36.082Z"
   },
   {
    "duration": 3,
    "start_time": "2023-04-25T20:32:36.104Z"
   },
   {
    "duration": 11,
    "start_time": "2023-04-25T20:32:36.110Z"
   },
   {
    "duration": 14,
    "start_time": "2023-04-25T20:32:36.122Z"
   },
   {
    "duration": 19,
    "start_time": "2023-04-25T20:32:36.138Z"
   },
   {
    "duration": 29,
    "start_time": "2023-04-25T20:32:36.158Z"
   },
   {
    "duration": 10,
    "start_time": "2023-04-25T20:32:36.189Z"
   },
   {
    "duration": 9,
    "start_time": "2023-04-25T20:32:36.201Z"
   },
   {
    "duration": 22,
    "start_time": "2023-04-25T20:32:36.212Z"
   },
   {
    "duration": 15,
    "start_time": "2023-04-25T20:32:43.363Z"
   },
   {
    "duration": 100,
    "start_time": "2023-04-25T20:34:19.136Z"
   },
   {
    "duration": 10,
    "start_time": "2023-04-25T20:34:22.840Z"
   },
   {
    "duration": 10,
    "start_time": "2023-04-25T20:34:23.506Z"
   },
   {
    "duration": 13,
    "start_time": "2023-04-25T20:34:25.321Z"
   },
   {
    "duration": 4,
    "start_time": "2023-04-25T20:34:40.257Z"
   },
   {
    "duration": 14,
    "start_time": "2023-04-25T20:36:21.024Z"
   },
   {
    "duration": 12,
    "start_time": "2023-04-25T20:36:51.383Z"
   },
   {
    "duration": 13,
    "start_time": "2023-04-25T20:37:12.959Z"
   },
   {
    "duration": 12,
    "start_time": "2023-04-25T20:37:35.118Z"
   },
   {
    "duration": 16,
    "start_time": "2023-04-25T20:37:53.985Z"
   },
   {
    "duration": 12,
    "start_time": "2023-04-25T20:38:09.807Z"
   },
   {
    "duration": 13,
    "start_time": "2023-04-25T20:38:46.911Z"
   },
   {
    "duration": 11,
    "start_time": "2023-04-25T20:40:08.189Z"
   },
   {
    "duration": 14,
    "start_time": "2023-04-25T20:40:51.156Z"
   },
   {
    "duration": 12,
    "start_time": "2023-04-25T20:41:07.805Z"
   },
   {
    "duration": 5,
    "start_time": "2023-04-25T20:41:22.244Z"
   },
   {
    "duration": 18,
    "start_time": "2023-04-25T20:41:27.387Z"
   },
   {
    "duration": 6,
    "start_time": "2023-04-25T20:41:58.844Z"
   },
   {
    "duration": 13,
    "start_time": "2023-04-25T20:43:13.195Z"
   },
   {
    "duration": 1108,
    "start_time": "2023-04-25T20:44:02.886Z"
   },
   {
    "duration": 92,
    "start_time": "2023-04-25T20:44:03.996Z"
   },
   {
    "duration": 21,
    "start_time": "2023-04-25T20:44:04.089Z"
   },
   {
    "duration": 22,
    "start_time": "2023-04-25T20:44:04.111Z"
   },
   {
    "duration": 39,
    "start_time": "2023-04-25T20:44:04.135Z"
   },
   {
    "duration": 4,
    "start_time": "2023-04-25T20:44:04.176Z"
   },
   {
    "duration": 14,
    "start_time": "2023-04-25T20:44:04.182Z"
   },
   {
    "duration": 19,
    "start_time": "2023-04-25T20:44:04.197Z"
   },
   {
    "duration": 3,
    "start_time": "2023-04-25T20:44:04.218Z"
   },
   {
    "duration": 15,
    "start_time": "2023-04-25T20:44:04.233Z"
   },
   {
    "duration": 11,
    "start_time": "2023-04-25T20:44:04.250Z"
   },
   {
    "duration": 14,
    "start_time": "2023-04-25T20:44:04.263Z"
   },
   {
    "duration": 32,
    "start_time": "2023-04-25T20:44:04.279Z"
   },
   {
    "duration": 16,
    "start_time": "2023-04-25T20:44:07.435Z"
   },
   {
    "duration": 10,
    "start_time": "2023-04-25T20:44:09.259Z"
   },
   {
    "duration": 12,
    "start_time": "2023-04-25T20:44:14.012Z"
   },
   {
    "duration": 21,
    "start_time": "2023-04-25T20:44:17.917Z"
   },
   {
    "duration": 6,
    "start_time": "2023-04-25T20:44:29.073Z"
   },
   {
    "duration": 26,
    "start_time": "2023-04-25T20:44:39.730Z"
   },
   {
    "duration": 11,
    "start_time": "2023-04-25T20:49:28.342Z"
   },
   {
    "duration": 19,
    "start_time": "2023-04-25T20:49:34.598Z"
   },
   {
    "duration": 13,
    "start_time": "2023-04-25T20:49:54.599Z"
   },
   {
    "duration": 11,
    "start_time": "2023-04-25T20:49:56.967Z"
   },
   {
    "duration": 19,
    "start_time": "2023-04-25T20:50:28.261Z"
   },
   {
    "duration": 45,
    "start_time": "2023-04-25T20:53:38.092Z"
   },
   {
    "duration": 30,
    "start_time": "2023-04-25T20:59:19.337Z"
   },
   {
    "duration": 17,
    "start_time": "2023-04-25T20:59:19.872Z"
   },
   {
    "duration": 15,
    "start_time": "2023-04-25T20:59:20.248Z"
   },
   {
    "duration": 60,
    "start_time": "2023-04-25T20:59:20.617Z"
   },
   {
    "duration": 16,
    "start_time": "2023-04-25T21:00:06.520Z"
   },
   {
    "duration": 11,
    "start_time": "2023-04-25T21:01:43.230Z"
   },
   {
    "duration": 98,
    "start_time": "2023-04-25T21:02:03.479Z"
   },
   {
    "duration": 4,
    "start_time": "2023-04-25T21:02:21.662Z"
   },
   {
    "duration": 1366,
    "start_time": "2023-04-26T08:22:13.261Z"
   },
   {
    "duration": 67,
    "start_time": "2023-04-26T08:22:14.629Z"
   },
   {
    "duration": 22,
    "start_time": "2023-04-26T08:22:14.697Z"
   },
   {
    "duration": 15,
    "start_time": "2023-04-26T08:22:15.151Z"
   },
   {
    "duration": 48,
    "start_time": "2023-04-26T08:22:15.622Z"
   },
   {
    "duration": 5,
    "start_time": "2023-04-26T08:22:15.957Z"
   },
   {
    "duration": 9,
    "start_time": "2023-04-26T08:22:16.306Z"
   },
   {
    "duration": 17,
    "start_time": "2023-04-26T08:22:17.004Z"
   },
   {
    "duration": 4,
    "start_time": "2023-04-26T08:22:22.602Z"
   },
   {
    "duration": 13,
    "start_time": "2023-04-26T08:22:22.837Z"
   },
   {
    "duration": 8,
    "start_time": "2023-04-26T08:22:23.055Z"
   },
   {
    "duration": 11,
    "start_time": "2023-04-26T08:22:46.139Z"
   },
   {
    "duration": 113,
    "start_time": "2023-04-26T08:23:16.364Z"
   },
   {
    "duration": 10,
    "start_time": "2023-04-26T08:23:25.782Z"
   },
   {
    "duration": 4,
    "start_time": "2023-04-26T08:25:07.749Z"
   },
   {
    "duration": 4,
    "start_time": "2023-04-26T08:29:02.979Z"
   },
   {
    "duration": 11,
    "start_time": "2023-04-26T08:33:44.764Z"
   },
   {
    "duration": 13,
    "start_time": "2023-04-26T08:34:06.926Z"
   },
   {
    "duration": 11,
    "start_time": "2023-04-26T08:34:08.214Z"
   },
   {
    "duration": 4,
    "start_time": "2023-04-26T08:34:13.961Z"
   },
   {
    "duration": 6,
    "start_time": "2023-04-26T08:35:16.710Z"
   },
   {
    "duration": 13,
    "start_time": "2023-04-26T08:35:26.317Z"
   },
   {
    "duration": 13,
    "start_time": "2023-04-26T08:46:15.247Z"
   },
   {
    "duration": 12,
    "start_time": "2023-04-26T08:47:28.007Z"
   },
   {
    "duration": 13,
    "start_time": "2023-04-26T09:01:04.670Z"
   },
   {
    "duration": 21,
    "start_time": "2023-04-26T09:02:17.013Z"
   },
   {
    "duration": 17,
    "start_time": "2023-04-26T09:03:12.009Z"
   },
   {
    "duration": 15,
    "start_time": "2023-04-26T09:03:32.422Z"
   },
   {
    "duration": 8,
    "start_time": "2023-04-26T09:03:45.061Z"
   },
   {
    "duration": 7,
    "start_time": "2023-04-26T09:03:52.260Z"
   },
   {
    "duration": 599,
    "start_time": "2023-04-26T09:04:12.411Z"
   },
   {
    "duration": 9,
    "start_time": "2023-04-26T09:04:32.338Z"
   },
   {
    "duration": 11,
    "start_time": "2023-04-26T09:04:48.945Z"
   },
   {
    "duration": 9,
    "start_time": "2023-04-26T09:04:57.393Z"
   },
   {
    "duration": 11,
    "start_time": "2023-04-26T09:05:00.858Z"
   },
   {
    "duration": 57,
    "start_time": "2023-04-26T09:34:39.413Z"
   },
   {
    "duration": 6,
    "start_time": "2023-04-26T09:55:59.597Z"
   },
   {
    "duration": 5,
    "start_time": "2023-04-26T09:56:03.497Z"
   },
   {
    "duration": 7,
    "start_time": "2023-04-26T09:58:38.003Z"
   },
   {
    "duration": 21,
    "start_time": "2023-04-26T09:58:41.160Z"
   },
   {
    "duration": 28,
    "start_time": "2023-04-26T09:59:30.631Z"
   },
   {
    "duration": 20,
    "start_time": "2023-04-26T09:59:36.184Z"
   },
   {
    "duration": 15,
    "start_time": "2023-04-26T09:59:45.149Z"
   },
   {
    "duration": 5,
    "start_time": "2023-04-26T09:59:46.526Z"
   },
   {
    "duration": 35,
    "start_time": "2023-04-26T09:59:57.489Z"
   },
   {
    "duration": 30,
    "start_time": "2023-04-26T10:00:43.946Z"
   },
   {
    "duration": 32,
    "start_time": "2023-04-26T10:00:59.087Z"
   },
   {
    "duration": 17,
    "start_time": "2023-04-26T10:01:12.171Z"
   },
   {
    "duration": 82,
    "start_time": "2023-04-26T10:03:45.532Z"
   },
   {
    "duration": 105,
    "start_time": "2023-04-26T10:03:58.704Z"
   },
   {
    "duration": 15,
    "start_time": "2023-04-26T10:04:04.219Z"
   },
   {
    "duration": 1395,
    "start_time": "2023-04-26T10:04:49.388Z"
   },
   {
    "duration": 196,
    "start_time": "2023-04-26T10:04:50.786Z"
   },
   {
    "duration": 22,
    "start_time": "2023-04-26T10:04:50.984Z"
   },
   {
    "duration": 43,
    "start_time": "2023-04-26T10:04:51.009Z"
   },
   {
    "duration": 66,
    "start_time": "2023-04-26T10:04:51.056Z"
   },
   {
    "duration": 7,
    "start_time": "2023-04-26T10:04:51.124Z"
   },
   {
    "duration": 42,
    "start_time": "2023-04-26T10:04:51.133Z"
   },
   {
    "duration": 18,
    "start_time": "2023-04-26T10:04:51.177Z"
   },
   {
    "duration": 9,
    "start_time": "2023-04-26T10:04:51.197Z"
   },
   {
    "duration": 15,
    "start_time": "2023-04-26T10:04:51.210Z"
   },
   {
    "duration": 25,
    "start_time": "2023-04-26T10:04:51.227Z"
   },
   {
    "duration": 36,
    "start_time": "2023-04-26T10:04:51.254Z"
   },
   {
    "duration": 20,
    "start_time": "2023-04-26T10:04:51.293Z"
   },
   {
    "duration": 41,
    "start_time": "2023-04-26T10:04:51.315Z"
   },
   {
    "duration": 26,
    "start_time": "2023-04-26T10:04:51.359Z"
   },
   {
    "duration": 5,
    "start_time": "2023-04-26T10:04:51.387Z"
   },
   {
    "duration": 70,
    "start_time": "2023-04-26T10:04:55.046Z"
   },
   {
    "duration": 4,
    "start_time": "2023-04-26T10:05:45.785Z"
   },
   {
    "duration": 80,
    "start_time": "2023-04-26T10:05:45.792Z"
   },
   {
    "duration": 15,
    "start_time": "2023-04-26T10:05:45.874Z"
   },
   {
    "duration": 25,
    "start_time": "2023-04-26T10:05:45.891Z"
   },
   {
    "duration": 61,
    "start_time": "2023-04-26T10:05:45.919Z"
   },
   {
    "duration": 6,
    "start_time": "2023-04-26T10:05:45.983Z"
   },
   {
    "duration": 14,
    "start_time": "2023-04-26T10:05:45.991Z"
   },
   {
    "duration": 34,
    "start_time": "2023-04-26T10:05:46.007Z"
   },
   {
    "duration": 23,
    "start_time": "2023-04-26T10:05:46.044Z"
   },
   {
    "duration": 16,
    "start_time": "2023-04-26T10:05:46.069Z"
   },
   {
    "duration": 8,
    "start_time": "2023-04-26T10:05:46.089Z"
   },
   {
    "duration": 18,
    "start_time": "2023-04-26T10:05:46.100Z"
   },
   {
    "duration": 21,
    "start_time": "2023-04-26T10:05:46.133Z"
   },
   {
    "duration": 28,
    "start_time": "2023-04-26T10:05:46.156Z"
   },
   {
    "duration": 26,
    "start_time": "2023-04-26T10:05:46.186Z"
   },
   {
    "duration": 4,
    "start_time": "2023-04-26T10:05:46.214Z"
   },
   {
    "duration": 47,
    "start_time": "2023-04-26T10:05:51.423Z"
   },
   {
    "duration": 118,
    "start_time": "2023-04-26T10:07:47.873Z"
   },
   {
    "duration": 4,
    "start_time": "2023-04-26T10:07:55.878Z"
   },
   {
    "duration": 127,
    "start_time": "2023-04-26T10:07:55.885Z"
   },
   {
    "duration": 17,
    "start_time": "2023-04-26T10:07:56.014Z"
   },
   {
    "duration": 31,
    "start_time": "2023-04-26T10:07:56.034Z"
   },
   {
    "duration": 59,
    "start_time": "2023-04-26T10:07:56.068Z"
   },
   {
    "duration": 6,
    "start_time": "2023-04-26T10:07:56.129Z"
   },
   {
    "duration": 14,
    "start_time": "2023-04-26T10:07:56.137Z"
   },
   {
    "duration": 24,
    "start_time": "2023-04-26T10:07:56.153Z"
   },
   {
    "duration": 16,
    "start_time": "2023-04-26T10:07:56.179Z"
   },
   {
    "duration": 29,
    "start_time": "2023-04-26T10:07:56.198Z"
   },
   {
    "duration": 22,
    "start_time": "2023-04-26T10:07:56.229Z"
   },
   {
    "duration": 25,
    "start_time": "2023-04-26T10:07:56.253Z"
   },
   {
    "duration": 17,
    "start_time": "2023-04-26T10:07:56.281Z"
   },
   {
    "duration": 22,
    "start_time": "2023-04-26T10:07:56.301Z"
   },
   {
    "duration": 21,
    "start_time": "2023-04-26T10:07:56.325Z"
   },
   {
    "duration": 7,
    "start_time": "2023-04-26T10:07:56.348Z"
   },
   {
    "duration": 31,
    "start_time": "2023-04-26T10:08:01.962Z"
   },
   {
    "duration": 13,
    "start_time": "2023-04-26T10:08:11.777Z"
   },
   {
    "duration": 74,
    "start_time": "2023-04-26T12:55:53.655Z"
   },
   {
    "duration": 75,
    "start_time": "2023-04-26T12:56:01.628Z"
   },
   {
    "duration": 5,
    "start_time": "2023-04-26T12:56:07.948Z"
   },
   {
    "duration": 10,
    "start_time": "2023-04-26T15:28:35.135Z"
   },
   {
    "duration": 3,
    "start_time": "2023-04-26T15:28:47.343Z"
   },
   {
    "duration": 15,
    "start_time": "2023-04-26T15:28:53.543Z"
   },
   {
    "duration": 15,
    "start_time": "2023-04-26T15:29:28.254Z"
   },
   {
    "duration": 10,
    "start_time": "2023-04-26T15:29:34.807Z"
   },
   {
    "duration": 18,
    "start_time": "2023-04-26T15:29:53.518Z"
   },
   {
    "duration": 15,
    "start_time": "2023-04-26T15:30:09.791Z"
   },
   {
    "duration": 17,
    "start_time": "2023-04-26T15:30:12.327Z"
   },
   {
    "duration": 16,
    "start_time": "2023-04-26T15:30:57.438Z"
   },
   {
    "duration": 11,
    "start_time": "2023-04-26T15:32:38.166Z"
   },
   {
    "duration": 3,
    "start_time": "2023-04-26T15:32:46.277Z"
   },
   {
    "duration": 6,
    "start_time": "2023-04-26T15:32:54.276Z"
   },
   {
    "duration": 1091,
    "start_time": "2023-04-26T15:33:16.854Z"
   },
   {
    "duration": 205,
    "start_time": "2023-04-26T15:33:17.947Z"
   },
   {
    "duration": 23,
    "start_time": "2023-04-26T15:33:18.154Z"
   },
   {
    "duration": 14,
    "start_time": "2023-04-26T15:33:18.270Z"
   },
   {
    "duration": 40,
    "start_time": "2023-04-26T15:33:18.893Z"
   },
   {
    "duration": 5,
    "start_time": "2023-04-26T15:33:20.717Z"
   },
   {
    "duration": 7,
    "start_time": "2023-04-26T15:33:21.196Z"
   },
   {
    "duration": 11,
    "start_time": "2023-04-26T15:33:21.700Z"
   },
   {
    "duration": 4,
    "start_time": "2023-04-26T15:33:23.892Z"
   },
   {
    "duration": 16,
    "start_time": "2023-04-26T15:33:26.029Z"
   },
   {
    "duration": 8,
    "start_time": "2023-04-26T15:33:27.078Z"
   },
   {
    "duration": 6,
    "start_time": "2023-04-26T15:33:29.020Z"
   },
   {
    "duration": 8,
    "start_time": "2023-04-26T15:33:32.750Z"
   },
   {
    "duration": 9,
    "start_time": "2023-04-26T15:33:41.084Z"
   },
   {
    "duration": 17,
    "start_time": "2023-04-26T15:33:42.813Z"
   },
   {
    "duration": 14,
    "start_time": "2023-04-26T15:34:01.804Z"
   },
   {
    "duration": 3,
    "start_time": "2023-04-26T15:34:02.381Z"
   },
   {
    "duration": 24,
    "start_time": "2023-04-26T15:34:06.509Z"
   },
   {
    "duration": 15,
    "start_time": "2023-04-26T15:34:08.461Z"
   },
   {
    "duration": 17,
    "start_time": "2023-04-26T15:34:18.813Z"
   },
   {
    "duration": 5,
    "start_time": "2023-04-26T15:34:38.069Z"
   },
   {
    "duration": 117,
    "start_time": "2023-04-26T15:35:19.868Z"
   },
   {
    "duration": 1033,
    "start_time": "2023-04-26T15:35:32.386Z"
   },
   {
    "duration": 59,
    "start_time": "2023-04-26T15:35:33.422Z"
   },
   {
    "duration": 17,
    "start_time": "2023-04-26T15:35:33.483Z"
   },
   {
    "duration": 18,
    "start_time": "2023-04-26T15:35:33.502Z"
   },
   {
    "duration": 54,
    "start_time": "2023-04-26T15:35:33.522Z"
   },
   {
    "duration": 5,
    "start_time": "2023-04-26T15:35:33.578Z"
   },
   {
    "duration": 17,
    "start_time": "2023-04-26T15:35:33.585Z"
   },
   {
    "duration": 16,
    "start_time": "2023-04-26T15:35:33.604Z"
   },
   {
    "duration": 4,
    "start_time": "2023-04-26T15:35:33.621Z"
   },
   {
    "duration": 27,
    "start_time": "2023-04-26T15:35:33.626Z"
   },
   {
    "duration": 8,
    "start_time": "2023-04-26T15:35:33.655Z"
   },
   {
    "duration": 7,
    "start_time": "2023-04-26T15:35:33.665Z"
   },
   {
    "duration": 11,
    "start_time": "2023-04-26T15:35:33.673Z"
   },
   {
    "duration": 9,
    "start_time": "2023-04-26T15:35:33.687Z"
   },
   {
    "duration": 22,
    "start_time": "2023-04-26T15:35:33.697Z"
   },
   {
    "duration": 18,
    "start_time": "2023-04-26T15:35:33.721Z"
   },
   {
    "duration": 6,
    "start_time": "2023-04-26T15:35:33.740Z"
   },
   {
    "duration": 28,
    "start_time": "2023-04-26T15:35:33.747Z"
   },
   {
    "duration": 15,
    "start_time": "2023-04-26T15:35:33.776Z"
   },
   {
    "duration": 98,
    "start_time": "2023-04-26T15:35:41.683Z"
   },
   {
    "duration": 5,
    "start_time": "2023-04-26T15:36:07.429Z"
   },
   {
    "duration": 14,
    "start_time": "2023-04-26T15:36:47.291Z"
   },
   {
    "duration": 1002,
    "start_time": "2023-04-26T15:37:03.570Z"
   },
   {
    "duration": 98,
    "start_time": "2023-04-26T15:37:04.574Z"
   },
   {
    "duration": 17,
    "start_time": "2023-04-26T15:37:04.674Z"
   },
   {
    "duration": 11,
    "start_time": "2023-04-26T15:37:04.692Z"
   },
   {
    "duration": 40,
    "start_time": "2023-04-26T15:37:04.705Z"
   },
   {
    "duration": 4,
    "start_time": "2023-04-26T15:37:04.747Z"
   },
   {
    "duration": 12,
    "start_time": "2023-04-26T15:37:04.753Z"
   },
   {
    "duration": 11,
    "start_time": "2023-04-26T15:37:04.767Z"
   },
   {
    "duration": 3,
    "start_time": "2023-04-26T15:37:04.779Z"
   },
   {
    "duration": 15,
    "start_time": "2023-04-26T15:37:04.783Z"
   },
   {
    "duration": 13,
    "start_time": "2023-04-26T15:37:04.799Z"
   },
   {
    "duration": 20,
    "start_time": "2023-04-26T15:37:04.814Z"
   },
   {
    "duration": 8,
    "start_time": "2023-04-26T15:37:04.835Z"
   },
   {
    "duration": 8,
    "start_time": "2023-04-26T15:37:04.845Z"
   },
   {
    "duration": 16,
    "start_time": "2023-04-26T15:37:04.855Z"
   },
   {
    "duration": 14,
    "start_time": "2023-04-26T15:37:04.872Z"
   },
   {
    "duration": 3,
    "start_time": "2023-04-26T15:37:04.888Z"
   },
   {
    "duration": 31,
    "start_time": "2023-04-26T15:37:11.157Z"
   },
   {
    "duration": 15,
    "start_time": "2023-04-26T15:37:22.634Z"
   },
   {
    "duration": 18,
    "start_time": "2023-04-26T15:37:36.640Z"
   },
   {
    "duration": 27,
    "start_time": "2023-04-26T15:37:48.158Z"
   },
   {
    "duration": 104,
    "start_time": "2023-04-26T15:38:44.093Z"
   },
   {
    "duration": 17,
    "start_time": "2023-04-26T15:39:11.736Z"
   },
   {
    "duration": 1082,
    "start_time": "2023-04-26T15:39:27.109Z"
   },
   {
    "duration": 69,
    "start_time": "2023-04-26T15:39:28.194Z"
   },
   {
    "duration": 18,
    "start_time": "2023-04-26T15:39:28.264Z"
   },
   {
    "duration": 11,
    "start_time": "2023-04-26T15:39:28.284Z"
   },
   {
    "duration": 44,
    "start_time": "2023-04-26T15:39:28.298Z"
   },
   {
    "duration": 4,
    "start_time": "2023-04-26T15:39:28.343Z"
   },
   {
    "duration": 9,
    "start_time": "2023-04-26T15:39:28.349Z"
   },
   {
    "duration": 15,
    "start_time": "2023-04-26T15:39:28.359Z"
   },
   {
    "duration": 3,
    "start_time": "2023-04-26T15:39:28.375Z"
   },
   {
    "duration": 13,
    "start_time": "2023-04-26T15:39:28.379Z"
   },
   {
    "duration": 7,
    "start_time": "2023-04-26T15:39:28.393Z"
   },
   {
    "duration": 8,
    "start_time": "2023-04-26T15:39:28.402Z"
   },
   {
    "duration": 28,
    "start_time": "2023-04-26T15:39:28.411Z"
   },
   {
    "duration": 9,
    "start_time": "2023-04-26T15:39:28.442Z"
   },
   {
    "duration": 23,
    "start_time": "2023-04-26T15:39:28.452Z"
   },
   {
    "duration": 13,
    "start_time": "2023-04-26T15:39:28.477Z"
   },
   {
    "duration": 3,
    "start_time": "2023-04-26T15:39:28.492Z"
   },
   {
    "duration": 52,
    "start_time": "2023-04-26T15:39:28.497Z"
   },
   {
    "duration": 30,
    "start_time": "2023-04-26T15:39:36.794Z"
   },
   {
    "duration": 18,
    "start_time": "2023-04-26T15:39:42.408Z"
   },
   {
    "duration": 15,
    "start_time": "2023-04-26T15:42:37.527Z"
   },
   {
    "duration": 5,
    "start_time": "2023-04-26T15:42:37.982Z"
   },
   {
    "duration": 41,
    "start_time": "2023-04-26T15:42:39.207Z"
   },
   {
    "duration": 35,
    "start_time": "2023-04-26T15:42:42.010Z"
   },
   {
    "duration": 21,
    "start_time": "2023-04-26T15:42:46.215Z"
   },
   {
    "duration": 14,
    "start_time": "2023-04-26T15:46:08.294Z"
   },
   {
    "duration": 4,
    "start_time": "2023-04-26T15:46:08.620Z"
   },
   {
    "duration": 30,
    "start_time": "2023-04-26T15:46:09.652Z"
   },
   {
    "duration": 26,
    "start_time": "2023-04-26T15:46:12.439Z"
   },
   {
    "duration": 21,
    "start_time": "2023-04-26T15:46:16.070Z"
   },
   {
    "duration": 13,
    "start_time": "2023-04-26T15:46:25.492Z"
   },
   {
    "duration": 17,
    "start_time": "2023-04-26T15:46:29.091Z"
   },
   {
    "duration": 13,
    "start_time": "2023-04-26T15:47:28.957Z"
   },
   {
    "duration": 4,
    "start_time": "2023-04-26T15:47:29.250Z"
   },
   {
    "duration": 42,
    "start_time": "2023-04-26T15:47:30.810Z"
   },
   {
    "duration": 113,
    "start_time": "2023-04-26T15:47:46.066Z"
   },
   {
    "duration": 14,
    "start_time": "2023-04-26T15:48:00.235Z"
   },
   {
    "duration": 21,
    "start_time": "2023-04-26T15:48:03.259Z"
   },
   {
    "duration": 12,
    "start_time": "2023-04-26T15:48:26.178Z"
   },
   {
    "duration": 19,
    "start_time": "2023-04-26T15:48:28.170Z"
   },
   {
    "duration": 32,
    "start_time": "2023-04-26T15:48:41.458Z"
   },
   {
    "duration": 29,
    "start_time": "2023-04-26T15:49:23.369Z"
   },
   {
    "duration": 31,
    "start_time": "2023-04-26T15:49:28.625Z"
   },
   {
    "duration": 4,
    "start_time": "2023-04-26T15:49:40.553Z"
   },
   {
    "duration": 13,
    "start_time": "2023-04-26T15:49:55.346Z"
   },
   {
    "duration": 19,
    "start_time": "2023-04-26T15:49:59.873Z"
   },
   {
    "duration": 20,
    "start_time": "2023-04-26T15:50:32.442Z"
   },
   {
    "duration": 16,
    "start_time": "2023-04-26T15:51:27.207Z"
   },
   {
    "duration": 21,
    "start_time": "2023-04-26T15:51:50.681Z"
   },
   {
    "duration": 5,
    "start_time": "2023-04-26T15:51:50.927Z"
   },
   {
    "duration": 39,
    "start_time": "2023-04-26T15:51:53.320Z"
   },
   {
    "duration": 21,
    "start_time": "2023-04-26T15:51:55.392Z"
   },
   {
    "duration": 27,
    "start_time": "2023-04-26T15:52:17.545Z"
   },
   {
    "duration": 19,
    "start_time": "2023-04-26T15:52:45.880Z"
   },
   {
    "duration": 16,
    "start_time": "2023-04-26T15:52:51.607Z"
   },
   {
    "duration": 23,
    "start_time": "2023-04-26T15:53:19.414Z"
   },
   {
    "duration": 16,
    "start_time": "2023-04-26T15:53:20.975Z"
   },
   {
    "duration": 13,
    "start_time": "2023-04-26T15:53:47.374Z"
   },
   {
    "duration": 17,
    "start_time": "2023-04-26T15:54:37.326Z"
   },
   {
    "duration": 6,
    "start_time": "2023-04-26T15:56:07.964Z"
   },
   {
    "duration": 13,
    "start_time": "2023-04-26T15:56:10.876Z"
   },
   {
    "duration": 5,
    "start_time": "2023-04-26T15:56:11.450Z"
   },
   {
    "duration": 19,
    "start_time": "2023-04-26T15:56:18.751Z"
   },
   {
    "duration": 15,
    "start_time": "2023-04-26T15:58:36.870Z"
   },
   {
    "duration": 6,
    "start_time": "2023-04-26T15:58:37.514Z"
   },
   {
    "duration": 16,
    "start_time": "2023-04-26T15:58:38.442Z"
   },
   {
    "duration": 25,
    "start_time": "2023-04-26T15:59:02.362Z"
   },
   {
    "duration": 17,
    "start_time": "2023-04-26T15:59:23.233Z"
   },
   {
    "duration": 24,
    "start_time": "2023-04-26T15:59:26.590Z"
   },
   {
    "duration": 18,
    "start_time": "2023-04-26T16:05:10.848Z"
   },
   {
    "duration": 12,
    "start_time": "2023-04-26T16:07:05.433Z"
   },
   {
    "duration": 4,
    "start_time": "2023-04-26T16:07:06.144Z"
   },
   {
    "duration": 15,
    "start_time": "2023-04-26T16:07:06.920Z"
   },
   {
    "duration": 25,
    "start_time": "2023-04-26T16:07:11.303Z"
   },
   {
    "duration": 18,
    "start_time": "2023-04-26T16:07:12.343Z"
   },
   {
    "duration": 17,
    "start_time": "2023-04-26T16:07:12.873Z"
   },
   {
    "duration": 17,
    "start_time": "2023-04-26T16:07:33.826Z"
   },
   {
    "duration": 13,
    "start_time": "2023-04-26T16:08:00.876Z"
   },
   {
    "duration": 4,
    "start_time": "2023-04-26T16:08:01.361Z"
   },
   {
    "duration": 16,
    "start_time": "2023-04-26T16:08:01.640Z"
   },
   {
    "duration": 24,
    "start_time": "2023-04-26T16:08:03.080Z"
   },
   {
    "duration": 21,
    "start_time": "2023-04-26T16:08:04.079Z"
   },
   {
    "duration": 21,
    "start_time": "2023-04-26T16:08:04.848Z"
   },
   {
    "duration": 12,
    "start_time": "2023-04-26T16:13:35.271Z"
   },
   {
    "duration": 4,
    "start_time": "2023-04-26T16:13:35.773Z"
   },
   {
    "duration": 16,
    "start_time": "2023-04-26T16:13:36.042Z"
   },
   {
    "duration": 26,
    "start_time": "2023-04-26T16:13:37.109Z"
   },
   {
    "duration": 17,
    "start_time": "2023-04-26T16:13:38.069Z"
   },
   {
    "duration": 17,
    "start_time": "2023-04-26T16:13:38.934Z"
   },
   {
    "duration": 19,
    "start_time": "2023-04-26T16:14:15.101Z"
   },
   {
    "duration": 18,
    "start_time": "2023-04-26T16:14:43.605Z"
   },
   {
    "duration": 18,
    "start_time": "2023-04-26T16:14:44.109Z"
   },
   {
    "duration": 18,
    "start_time": "2023-04-26T16:15:13.685Z"
   },
   {
    "duration": 15,
    "start_time": "2023-04-26T16:15:26.685Z"
   },
   {
    "duration": 4,
    "start_time": "2023-04-26T16:15:27.484Z"
   },
   {
    "duration": 17,
    "start_time": "2023-04-26T16:15:28.173Z"
   },
   {
    "duration": 26,
    "start_time": "2023-04-26T16:15:37.597Z"
   },
   {
    "duration": 21,
    "start_time": "2023-04-26T16:15:38.549Z"
   },
   {
    "duration": 19,
    "start_time": "2023-04-26T16:15:40.165Z"
   },
   {
    "duration": 19,
    "start_time": "2023-04-26T16:15:48.188Z"
   },
   {
    "duration": 4,
    "start_time": "2023-04-26T16:30:26.332Z"
   },
   {
    "duration": 11,
    "start_time": "2023-04-26T16:30:37.021Z"
   },
   {
    "duration": 641,
    "start_time": "2023-04-26T16:32:35.180Z"
   },
   {
    "duration": 4,
    "start_time": "2023-04-26T16:32:43.826Z"
   },
   {
    "duration": 8,
    "start_time": "2023-04-26T16:32:44.979Z"
   },
   {
    "duration": 7,
    "start_time": "2023-04-26T16:32:49.641Z"
   },
   {
    "duration": 1209,
    "start_time": "2023-04-26T16:34:07.905Z"
   },
   {
    "duration": 8888,
    "start_time": "2023-04-26T16:34:37.389Z"
   },
   {
    "duration": 55705,
    "start_time": "2023-04-26T16:34:52.049Z"
   },
   {
    "duration": 4752,
    "start_time": "2023-04-26T16:35:49.242Z"
   },
   {
    "duration": 15356,
    "start_time": "2023-04-26T16:35:55.385Z"
   },
   {
    "duration": 21508,
    "start_time": "2023-04-26T16:37:06.650Z"
   },
   {
    "duration": 2186,
    "start_time": "2023-04-26T16:37:43.568Z"
   },
   {
    "duration": 10207,
    "start_time": "2023-04-26T16:37:56.321Z"
   },
   {
    "duration": 12,
    "start_time": "2023-04-26T17:15:51.282Z"
   },
   {
    "duration": 10,
    "start_time": "2023-04-26T17:36:23.981Z"
   },
   {
    "duration": 6,
    "start_time": "2023-04-26T17:36:27.702Z"
   },
   {
    "duration": 1195,
    "start_time": "2023-04-26T17:36:32.556Z"
   },
   {
    "duration": 10758,
    "start_time": "2023-04-26T17:36:37.724Z"
   },
   {
    "duration": 4,
    "start_time": "2023-04-26T17:36:50.204Z"
   },
   {
    "duration": 3,
    "start_time": "2023-04-26T17:37:28.787Z"
   },
   {
    "duration": 4,
    "start_time": "2023-04-26T17:37:34.651Z"
   },
   {
    "duration": 11502,
    "start_time": "2023-04-26T17:38:05.731Z"
   },
   {
    "duration": 10,
    "start_time": "2023-04-26T17:38:33.090Z"
   },
   {
    "duration": 4,
    "start_time": "2023-04-26T17:39:30.961Z"
   },
   {
    "duration": 7,
    "start_time": "2023-04-26T17:39:31.350Z"
   },
   {
    "duration": 6,
    "start_time": "2023-04-26T17:39:32.073Z"
   },
   {
    "duration": 1214,
    "start_time": "2023-04-26T17:39:32.713Z"
   },
   {
    "duration": 11388,
    "start_time": "2023-04-26T17:39:33.929Z"
   },
   {
    "duration": 10345,
    "start_time": "2023-04-26T17:47:30.005Z"
   },
   {
    "duration": 4,
    "start_time": "2023-04-26T17:47:45.172Z"
   },
   {
    "duration": 4,
    "start_time": "2023-04-26T17:47:48.674Z"
   },
   {
    "duration": 6,
    "start_time": "2023-04-26T17:47:54.076Z"
   },
   {
    "duration": 1302,
    "start_time": "2023-04-26T17:47:59.553Z"
   },
   {
    "duration": 10261,
    "start_time": "2023-04-26T17:48:01.073Z"
   },
   {
    "duration": 5,
    "start_time": "2023-04-26T17:48:11.336Z"
   },
   {
    "duration": 5,
    "start_time": "2023-04-26T17:48:25.649Z"
   },
   {
    "duration": 77,
    "start_time": "2023-04-26T18:43:55.126Z"
   },
   {
    "duration": 9,
    "start_time": "2023-04-26T18:44:31.973Z"
   },
   {
    "duration": 1234,
    "start_time": "2023-04-26T18:44:33.048Z"
   },
   {
    "duration": 78,
    "start_time": "2023-04-26T18:44:54.236Z"
   },
   {
    "duration": 1191,
    "start_time": "2023-04-26T18:45:06.148Z"
   },
   {
    "duration": 3,
    "start_time": "2023-04-26T19:04:14.458Z"
   },
   {
    "duration": 154,
    "start_time": "2023-04-26T19:06:44.151Z"
   },
   {
    "duration": 5,
    "start_time": "2023-04-26T19:06:56.829Z"
   },
   {
    "duration": 3,
    "start_time": "2023-04-26T19:07:07.262Z"
   },
   {
    "duration": 17,
    "start_time": "2023-04-26T19:11:10.997Z"
   },
   {
    "duration": 4,
    "start_time": "2023-04-26T19:11:33.865Z"
   },
   {
    "duration": 4,
    "start_time": "2023-04-26T19:11:59.633Z"
   },
   {
    "duration": 5,
    "start_time": "2023-04-26T19:12:17.233Z"
   },
   {
    "duration": 13,
    "start_time": "2023-04-26T19:12:22.857Z"
   },
   {
    "duration": 4,
    "start_time": "2023-04-26T19:13:48.154Z"
   },
   {
    "duration": 25,
    "start_time": "2023-04-26T19:18:11.623Z"
   },
   {
    "duration": 77,
    "start_time": "2023-04-26T19:18:15.846Z"
   },
   {
    "duration": 3,
    "start_time": "2023-04-26T19:18:25.164Z"
   },
   {
    "duration": 15,
    "start_time": "2023-04-26T19:18:29.925Z"
   },
   {
    "duration": 1403,
    "start_time": "2023-04-26T19:19:19.707Z"
   },
   {
    "duration": 15,
    "start_time": "2023-04-26T19:19:29.571Z"
   },
   {
    "duration": 5,
    "start_time": "2023-04-26T19:19:38.916Z"
   },
   {
    "duration": 34858,
    "start_time": "2023-04-26T19:20:24.334Z"
   },
   {
    "duration": 30957,
    "start_time": "2023-04-26T19:21:08.699Z"
   },
   {
    "duration": 5,
    "start_time": "2023-04-26T19:21:46.506Z"
   },
   {
    "duration": 4,
    "start_time": "2023-04-26T19:21:46.820Z"
   },
   {
    "duration": 7,
    "start_time": "2023-04-26T19:21:47.077Z"
   },
   {
    "duration": 8,
    "start_time": "2023-04-26T19:21:48.220Z"
   },
   {
    "duration": 1439,
    "start_time": "2023-04-26T19:21:49.347Z"
   },
   {
    "duration": 1385,
    "start_time": "2023-04-26T19:21:58.627Z"
   },
   {
    "duration": 65769,
    "start_time": "2023-04-26T19:22:08.531Z"
   },
   {
    "duration": 1431,
    "start_time": "2023-04-26T19:29:47.706Z"
   },
   {
    "duration": 174,
    "start_time": "2023-04-26T19:29:49.139Z"
   },
   {
    "duration": 16,
    "start_time": "2023-04-26T19:29:49.314Z"
   },
   {
    "duration": 21,
    "start_time": "2023-04-26T19:29:49.331Z"
   },
   {
    "duration": 47,
    "start_time": "2023-04-26T19:29:49.354Z"
   },
   {
    "duration": 4,
    "start_time": "2023-04-26T19:29:49.403Z"
   },
   {
    "duration": 15,
    "start_time": "2023-04-26T19:29:49.409Z"
   },
   {
    "duration": 18,
    "start_time": "2023-04-26T19:29:49.425Z"
   },
   {
    "duration": 3,
    "start_time": "2023-04-26T19:29:49.444Z"
   },
   {
    "duration": 23,
    "start_time": "2023-04-26T19:29:49.449Z"
   },
   {
    "duration": 10,
    "start_time": "2023-04-26T19:29:49.474Z"
   },
   {
    "duration": 9,
    "start_time": "2023-04-26T19:29:49.485Z"
   },
   {
    "duration": 16,
    "start_time": "2023-04-26T19:29:49.495Z"
   },
   {
    "duration": 15,
    "start_time": "2023-04-26T19:29:49.514Z"
   },
   {
    "duration": 16,
    "start_time": "2023-04-26T19:29:49.531Z"
   },
   {
    "duration": 12,
    "start_time": "2023-04-26T19:29:49.548Z"
   },
   {
    "duration": 4,
    "start_time": "2023-04-26T19:29:49.561Z"
   },
   {
    "duration": 26,
    "start_time": "2023-04-26T19:29:49.566Z"
   },
   {
    "duration": 27,
    "start_time": "2023-04-26T19:29:49.593Z"
   },
   {
    "duration": 27,
    "start_time": "2023-04-26T19:29:49.621Z"
   },
   {
    "duration": 12,
    "start_time": "2023-04-26T19:29:49.649Z"
   },
   {
    "duration": 8,
    "start_time": "2023-04-26T19:29:49.663Z"
   },
   {
    "duration": 7,
    "start_time": "2023-04-26T19:29:49.673Z"
   },
   {
    "duration": 11,
    "start_time": "2023-04-26T19:29:49.681Z"
   },
   {
    "duration": 1162,
    "start_time": "2023-04-26T19:29:49.693Z"
   },
   {
    "duration": 1071,
    "start_time": "2023-04-26T19:29:50.857Z"
   },
   {
    "duration": 50355,
    "start_time": "2023-04-26T19:30:09.333Z"
   },
   {
    "duration": 128,
    "start_time": "2023-04-26T21:39:38.853Z"
   },
   {
    "duration": 23,
    "start_time": "2023-04-26T21:40:15.527Z"
   },
   {
    "duration": 3,
    "start_time": "2023-04-26T21:40:25.991Z"
   },
   {
    "duration": 91,
    "start_time": "2023-04-26T21:40:26.789Z"
   },
   {
    "duration": 13,
    "start_time": "2023-04-26T21:40:26.982Z"
   },
   {
    "duration": 14,
    "start_time": "2023-04-26T21:40:27.215Z"
   },
   {
    "duration": 49,
    "start_time": "2023-04-26T21:40:27.414Z"
   },
   {
    "duration": 5,
    "start_time": "2023-04-26T21:40:27.646Z"
   },
   {
    "duration": 9,
    "start_time": "2023-04-26T21:40:27.862Z"
   },
   {
    "duration": 12,
    "start_time": "2023-04-26T21:40:28.120Z"
   },
   {
    "duration": 4,
    "start_time": "2023-04-26T21:40:28.990Z"
   },
   {
    "duration": 13,
    "start_time": "2023-04-26T21:40:30.664Z"
   },
   {
    "duration": 6,
    "start_time": "2023-04-26T21:40:35.822Z"
   },
   {
    "duration": 4,
    "start_time": "2023-04-26T21:40:36.174Z"
   },
   {
    "duration": 9,
    "start_time": "2023-04-26T21:40:37.157Z"
   },
   {
    "duration": 16,
    "start_time": "2023-04-26T21:40:37.835Z"
   },
   {
    "duration": 18,
    "start_time": "2023-04-26T21:40:40.670Z"
   },
   {
    "duration": 13,
    "start_time": "2023-04-26T21:40:46.158Z"
   },
   {
    "duration": 4,
    "start_time": "2023-04-26T21:40:47.054Z"
   },
   {
    "duration": 14,
    "start_time": "2023-04-26T21:40:49.599Z"
   },
   {
    "duration": 17,
    "start_time": "2023-04-26T21:40:53.470Z"
   },
   {
    "duration": 29,
    "start_time": "2023-04-26T21:41:07.366Z"
   },
   {
    "duration": 17,
    "start_time": "2023-04-26T21:41:11.375Z"
   },
   {
    "duration": 24,
    "start_time": "2023-04-26T21:42:37.321Z"
   },
   {
    "duration": 14,
    "start_time": "2023-04-26T21:44:16.631Z"
   },
   {
    "duration": 3,
    "start_time": "2023-04-26T21:44:28.957Z"
   },
   {
    "duration": 7,
    "start_time": "2023-04-26T21:44:38.059Z"
   },
   {
    "duration": 6,
    "start_time": "2023-04-26T21:45:19.659Z"
   },
   {
    "duration": 102,
    "start_time": "2023-04-26T21:45:22.156Z"
   },
   {
    "duration": 6,
    "start_time": "2023-04-26T21:45:28.731Z"
   },
   {
    "duration": 6,
    "start_time": "2023-04-26T21:45:40.172Z"
   },
   {
    "duration": 4,
    "start_time": "2023-04-26T21:45:42.452Z"
   },
   {
    "duration": 6,
    "start_time": "2023-04-26T21:45:42.788Z"
   },
   {
    "duration": 6,
    "start_time": "2023-04-26T21:45:43.084Z"
   },
   {
    "duration": 4,
    "start_time": "2023-04-26T21:45:43.491Z"
   },
   {
    "duration": 4,
    "start_time": "2023-04-26T21:46:06.090Z"
   },
   {
    "duration": 1282,
    "start_time": "2023-04-26T21:46:10.454Z"
   },
   {
    "duration": 1370,
    "start_time": "2023-04-26T21:46:24.771Z"
   },
   {
    "duration": 7663,
    "start_time": "2023-04-26T21:46:41.908Z"
   },
   {
    "duration": 5,
    "start_time": "2023-04-26T21:47:02.954Z"
   },
   {
    "duration": 6677,
    "start_time": "2023-04-26T21:47:24.546Z"
   },
   {
    "duration": 7594,
    "start_time": "2023-04-26T21:57:07.622Z"
   },
   {
    "duration": 30,
    "start_time": "2023-04-26T21:57:15.217Z"
   },
   {
    "duration": 1171,
    "start_time": "2023-04-26T22:22:30.542Z"
   },
   {
    "duration": 6632,
    "start_time": "2023-04-26T22:22:31.714Z"
   },
   {
    "duration": 19,
    "start_time": "2023-04-26T22:22:45.386Z"
   },
   {
    "duration": 61395,
    "start_time": "2023-04-26T22:23:08.060Z"
   },
   {
    "duration": 3,
    "start_time": "2023-04-26T22:27:27.246Z"
   },
   {
    "duration": 60987,
    "start_time": "2023-04-26T22:27:36.647Z"
   },
   {
    "duration": 55514,
    "start_time": "2023-04-26T22:29:07.333Z"
   },
   {
    "duration": 44,
    "start_time": "2023-04-26T22:51:27.225Z"
   },
   {
    "duration": 95,
    "start_time": "2023-04-27T02:12:39.932Z"
   },
   {
    "duration": 219,
    "start_time": "2023-04-27T02:13:18.319Z"
   },
   {
    "duration": 6,
    "start_time": "2023-04-27T02:16:22.215Z"
   },
   {
    "duration": 41,
    "start_time": "2023-04-27T02:17:36.739Z"
   },
   {
    "duration": 333,
    "start_time": "2023-04-27T02:17:45.147Z"
   },
   {
    "duration": 118,
    "start_time": "2023-04-27T02:18:58.626Z"
   },
   {
    "duration": 8,
    "start_time": "2023-04-27T02:29:51.388Z"
   },
   {
    "duration": 181,
    "start_time": "2023-04-27T02:30:06.263Z"
   },
   {
    "duration": 7,
    "start_time": "2023-04-27T02:42:35.778Z"
   },
   {
    "duration": 1103,
    "start_time": "2023-04-27T02:42:36.522Z"
   },
   {
    "duration": 1046,
    "start_time": "2023-04-27T02:42:37.627Z"
   },
   {
    "duration": 6133,
    "start_time": "2023-04-27T02:42:48.025Z"
   },
   {
    "duration": 2449,
    "start_time": "2023-04-27T02:43:09.705Z"
   },
   {
    "duration": 3,
    "start_time": "2023-04-27T02:43:12.155Z"
   },
   {
    "duration": 155,
    "start_time": "2023-04-27T02:43:12.159Z"
   },
   {
    "duration": 15,
    "start_time": "2023-04-27T02:43:12.315Z"
   },
   {
    "duration": 23,
    "start_time": "2023-04-27T02:43:12.333Z"
   },
   {
    "duration": 47,
    "start_time": "2023-04-27T02:43:12.358Z"
   },
   {
    "duration": 14,
    "start_time": "2023-04-27T02:43:12.407Z"
   },
   {
    "duration": 21,
    "start_time": "2023-04-27T02:43:12.422Z"
   },
   {
    "duration": 35,
    "start_time": "2023-04-27T02:43:12.445Z"
   },
   {
    "duration": 19,
    "start_time": "2023-04-27T02:43:12.481Z"
   },
   {
    "duration": 24,
    "start_time": "2023-04-27T02:43:12.501Z"
   },
   {
    "duration": 18,
    "start_time": "2023-04-27T02:43:12.526Z"
   },
   {
    "duration": 17,
    "start_time": "2023-04-27T02:43:12.545Z"
   },
   {
    "duration": 27,
    "start_time": "2023-04-27T02:43:12.564Z"
   },
   {
    "duration": 15,
    "start_time": "2023-04-27T02:43:12.592Z"
   },
   {
    "duration": 47,
    "start_time": "2023-04-27T02:43:12.608Z"
   },
   {
    "duration": 17,
    "start_time": "2023-04-27T02:43:12.657Z"
   },
   {
    "duration": 4,
    "start_time": "2023-04-27T02:43:12.675Z"
   },
   {
    "duration": 18,
    "start_time": "2023-04-27T02:43:12.681Z"
   },
   {
    "duration": 33,
    "start_time": "2023-04-27T02:43:12.701Z"
   },
   {
    "duration": 18,
    "start_time": "2023-04-27T02:43:12.736Z"
   },
   {
    "duration": 4,
    "start_time": "2023-04-27T02:43:12.755Z"
   },
   {
    "duration": 21,
    "start_time": "2023-04-27T02:43:12.761Z"
   },
   {
    "duration": 25,
    "start_time": "2023-04-27T02:43:12.783Z"
   },
   {
    "duration": 12,
    "start_time": "2023-04-27T02:43:12.809Z"
   },
   {
    "duration": 1236,
    "start_time": "2023-04-27T02:43:12.823Z"
   },
   {
    "duration": 1126,
    "start_time": "2023-04-27T02:43:14.061Z"
   },
   {
    "duration": 6380,
    "start_time": "2023-04-27T02:43:15.189Z"
   },
   {
    "duration": 54767,
    "start_time": "2023-04-27T02:43:21.570Z"
   },
   {
    "duration": 8,
    "start_time": "2023-04-27T02:44:16.339Z"
   },
   {
    "duration": 54146,
    "start_time": "2023-04-27T02:44:29.062Z"
   },
   {
    "duration": 8,
    "start_time": "2023-04-27T02:47:05.918Z"
   },
   {
    "duration": 11,
    "start_time": "2023-04-27T02:47:20.087Z"
   },
   {
    "duration": 1622,
    "start_time": "2023-04-28T07:08:12.459Z"
   },
   {
    "duration": 3,
    "start_time": "2023-04-28T07:08:14.084Z"
   },
   {
    "duration": 465,
    "start_time": "2023-04-28T07:08:16.811Z"
   },
   {
    "duration": 21,
    "start_time": "2023-04-28T07:08:18.100Z"
   },
   {
    "duration": 13,
    "start_time": "2023-04-28T07:08:19.350Z"
   },
   {
    "duration": 38,
    "start_time": "2023-04-28T07:08:20.864Z"
   },
   {
    "duration": 5,
    "start_time": "2023-04-28T07:08:21.504Z"
   },
   {
    "duration": 7,
    "start_time": "2023-04-28T07:08:22.113Z"
   },
   {
    "duration": 11,
    "start_time": "2023-04-28T07:08:22.730Z"
   },
   {
    "duration": 288,
    "start_time": "2023-04-28T07:12:52.075Z"
   },
   {
    "duration": 4,
    "start_time": "2023-04-28T07:13:12.011Z"
   },
   {
    "duration": 4,
    "start_time": "2023-04-28T07:13:44.937Z"
   },
   {
    "duration": 4,
    "start_time": "2023-04-28T07:14:08.548Z"
   },
   {
    "duration": 5,
    "start_time": "2023-04-28T07:14:30.900Z"
   },
   {
    "duration": 11,
    "start_time": "2023-04-28T07:14:38.652Z"
   },
   {
    "duration": 39,
    "start_time": "2023-04-28T07:15:03.154Z"
   },
   {
    "duration": 4,
    "start_time": "2023-04-28T07:15:55.601Z"
   },
   {
    "duration": 12,
    "start_time": "2023-04-28T07:15:58.399Z"
   },
   {
    "duration": 39,
    "start_time": "2023-04-28T07:16:05.259Z"
   },
   {
    "duration": 4,
    "start_time": "2023-04-28T07:16:08.940Z"
   },
   {
    "duration": 2,
    "start_time": "2023-04-28T07:16:09.142Z"
   },
   {
    "duration": 66,
    "start_time": "2023-04-28T07:16:09.961Z"
   },
   {
    "duration": 13,
    "start_time": "2023-04-28T07:16:10.221Z"
   },
   {
    "duration": 12,
    "start_time": "2023-04-28T07:16:10.507Z"
   },
   {
    "duration": 39,
    "start_time": "2023-04-28T07:16:10.717Z"
   },
   {
    "duration": 5,
    "start_time": "2023-04-28T07:16:10.900Z"
   },
   {
    "duration": 8,
    "start_time": "2023-04-28T07:16:11.104Z"
   },
   {
    "duration": 12,
    "start_time": "2023-04-28T07:16:11.280Z"
   },
   {
    "duration": 3,
    "start_time": "2023-04-28T07:16:13.413Z"
   },
   {
    "duration": 44,
    "start_time": "2023-04-28T07:16:18.438Z"
   },
   {
    "duration": 4,
    "start_time": "2023-04-28T07:16:42.448Z"
   },
   {
    "duration": 3,
    "start_time": "2023-04-28T07:16:52.344Z"
   },
   {
    "duration": 3,
    "start_time": "2023-04-28T07:16:52.351Z"
   },
   {
    "duration": 71,
    "start_time": "2023-04-28T07:16:52.356Z"
   },
   {
    "duration": 18,
    "start_time": "2023-04-28T07:16:52.430Z"
   },
   {
    "duration": 13,
    "start_time": "2023-04-28T07:16:52.450Z"
   },
   {
    "duration": 46,
    "start_time": "2023-04-28T07:16:52.465Z"
   },
   {
    "duration": 5,
    "start_time": "2023-04-28T07:16:52.512Z"
   },
   {
    "duration": 8,
    "start_time": "2023-04-28T07:16:52.519Z"
   },
   {
    "duration": 12,
    "start_time": "2023-04-28T07:16:52.529Z"
   },
   {
    "duration": 4,
    "start_time": "2023-04-28T07:16:57.304Z"
   },
   {
    "duration": 49,
    "start_time": "2023-04-28T07:17:01.518Z"
   },
   {
    "duration": 6,
    "start_time": "2023-04-28T07:17:08.425Z"
   },
   {
    "duration": 6,
    "start_time": "2023-04-28T07:17:08.664Z"
   },
   {
    "duration": 10,
    "start_time": "2023-04-28T07:17:09.620Z"
   },
   {
    "duration": 4,
    "start_time": "2023-04-28T07:17:20.334Z"
   },
   {
    "duration": 11,
    "start_time": "2023-04-28T07:17:21.512Z"
   },
   {
    "duration": 8,
    "start_time": "2023-04-28T07:17:28.305Z"
   },
   {
    "duration": 20,
    "start_time": "2023-04-28T07:17:44.671Z"
   },
   {
    "duration": 8,
    "start_time": "2023-04-28T07:18:01.515Z"
   },
   {
    "duration": 9,
    "start_time": "2023-04-28T07:18:10.000Z"
   },
   {
    "duration": 23,
    "start_time": "2023-04-28T07:18:13.988Z"
   },
   {
    "duration": 12,
    "start_time": "2023-04-28T07:18:29.284Z"
   },
   {
    "duration": 4,
    "start_time": "2023-04-28T07:18:34.502Z"
   },
   {
    "duration": 20,
    "start_time": "2023-04-28T07:18:44.816Z"
   },
   {
    "duration": 11,
    "start_time": "2023-04-28T07:19:29.400Z"
   },
   {
    "duration": 41,
    "start_time": "2023-04-28T07:43:39.936Z"
   },
   {
    "duration": 12,
    "start_time": "2023-04-28T07:43:50.014Z"
   },
   {
    "duration": 17,
    "start_time": "2023-04-28T07:44:44.979Z"
   },
   {
    "duration": 20,
    "start_time": "2023-04-28T07:44:50.012Z"
   },
   {
    "duration": 4,
    "start_time": "2023-04-28T07:45:08.458Z"
   },
   {
    "duration": 3,
    "start_time": "2023-04-28T07:45:08.750Z"
   },
   {
    "duration": 6,
    "start_time": "2023-04-28T07:45:12.086Z"
   },
   {
    "duration": 8,
    "start_time": "2023-04-28T07:45:12.527Z"
   },
   {
    "duration": 1230,
    "start_time": "2023-04-28T07:45:16.436Z"
   },
   {
    "duration": 1230,
    "start_time": "2023-04-28T07:45:21.669Z"
   },
   {
    "duration": 7386,
    "start_time": "2023-04-28T07:45:26.417Z"
   },
   {
    "duration": 69193,
    "start_time": "2023-04-28T07:45:33.806Z"
   },
   {
    "duration": 10,
    "start_time": "2023-04-28T07:46:43.001Z"
   },
   {
    "duration": 7,
    "start_time": "2023-04-28T07:51:29.909Z"
   },
   {
    "duration": 73,
    "start_time": "2023-04-28T07:51:33.668Z"
   },
   {
    "duration": 7,
    "start_time": "2023-04-28T07:52:26.584Z"
   },
   {
    "duration": 69,
    "start_time": "2023-04-28T07:52:28.843Z"
   },
   {
    "duration": 7,
    "start_time": "2023-04-28T07:52:58.724Z"
   },
   {
    "duration": 71,
    "start_time": "2023-04-28T07:53:00.934Z"
   },
   {
    "duration": 7,
    "start_time": "2023-04-28T07:53:25.805Z"
   },
   {
    "duration": 1201,
    "start_time": "2023-04-28T07:53:28.308Z"
   },
   {
    "duration": 1169,
    "start_time": "2023-04-28T07:53:44.900Z"
   },
   {
    "duration": 7226,
    "start_time": "2023-04-28T07:53:57.069Z"
   },
   {
    "duration": 66092,
    "start_time": "2023-04-28T07:54:21.043Z"
   },
   {
    "duration": 10,
    "start_time": "2023-04-28T07:55:27.137Z"
   },
   {
    "duration": 399,
    "start_time": "2023-04-28T07:59:41.200Z"
   },
   {
    "duration": 8,
    "start_time": "2023-04-28T08:03:31.610Z"
   },
   {
    "duration": 7,
    "start_time": "2023-04-28T08:04:40.170Z"
   },
   {
    "duration": 6,
    "start_time": "2023-04-28T08:11:45.710Z"
   },
   {
    "duration": 6,
    "start_time": "2023-04-28T08:11:46.312Z"
   },
   {
    "duration": 81,
    "start_time": "2023-04-28T08:11:47.012Z"
   },
   {
    "duration": 7,
    "start_time": "2023-04-28T08:12:14.815Z"
   },
   {
    "duration": 1248,
    "start_time": "2023-04-28T08:12:15.685Z"
   },
   {
    "duration": 1183,
    "start_time": "2023-04-28T08:12:17.012Z"
   },
   {
    "duration": 7076,
    "start_time": "2023-04-28T08:12:27.123Z"
   },
   {
    "duration": 6,
    "start_time": "2023-04-28T08:13:42.517Z"
   },
   {
    "duration": 7,
    "start_time": "2023-04-28T08:13:42.524Z"
   },
   {
    "duration": 1294,
    "start_time": "2023-04-28T08:13:42.533Z"
   },
   {
    "duration": 1265,
    "start_time": "2023-04-28T08:13:43.828Z"
   },
   {
    "duration": 7101,
    "start_time": "2023-04-28T08:13:45.095Z"
   },
   {
    "duration": 79013,
    "start_time": "2023-04-28T08:13:52.197Z"
   },
   {
    "duration": 10,
    "start_time": "2023-04-28T08:15:11.212Z"
   },
   {
    "duration": 6,
    "start_time": "2023-04-28T08:36:52.797Z"
   },
   {
    "duration": 1334,
    "start_time": "2023-04-28T08:36:55.979Z"
   },
   {
    "duration": 1287,
    "start_time": "2023-04-28T08:36:57.315Z"
   },
   {
    "duration": 7618,
    "start_time": "2023-04-28T08:36:58.604Z"
   },
   {
    "duration": 62669,
    "start_time": "2023-04-28T08:37:06.224Z"
   },
   {
    "duration": 52,
    "start_time": "2023-04-28T08:38:08.896Z"
   },
   {
    "duration": 13,
    "start_time": "2023-04-28T08:39:26.789Z"
   },
   {
    "duration": 11,
    "start_time": "2023-04-28T08:39:29.782Z"
   },
   {
    "duration": 10,
    "start_time": "2023-04-28T08:39:39.739Z"
   },
   {
    "duration": 11,
    "start_time": "2023-04-28T08:40:17.005Z"
   },
   {
    "duration": 11,
    "start_time": "2023-04-28T08:40:33.760Z"
   },
   {
    "duration": 11,
    "start_time": "2023-04-28T08:40:37.048Z"
   },
   {
    "duration": 12,
    "start_time": "2023-04-28T08:40:58.624Z"
   },
   {
    "duration": 12,
    "start_time": "2023-04-28T08:41:25.681Z"
   },
   {
    "duration": 12,
    "start_time": "2023-04-28T08:41:50.778Z"
   },
   {
    "duration": 7,
    "start_time": "2023-04-28T08:42:06.182Z"
   },
   {
    "duration": 1234,
    "start_time": "2023-04-28T08:42:08.881Z"
   },
   {
    "duration": 1234,
    "start_time": "2023-04-28T08:42:10.117Z"
   },
   {
    "duration": 7248,
    "start_time": "2023-04-28T08:42:11.353Z"
   },
   {
    "duration": 61999,
    "start_time": "2023-04-28T08:42:18.603Z"
   },
   {
    "duration": 13,
    "start_time": "2023-04-28T08:43:20.604Z"
   },
   {
    "duration": 9838,
    "start_time": "2023-04-28T08:43:44.853Z"
   },
   {
    "duration": 3,
    "start_time": "2023-04-28T08:45:24.288Z"
   },
   {
    "duration": 4,
    "start_time": "2023-04-28T08:45:24.644Z"
   },
   {
    "duration": 5,
    "start_time": "2023-04-28T08:45:24.886Z"
   },
   {
    "duration": 9,
    "start_time": "2023-04-28T08:45:25.131Z"
   },
   {
    "duration": 1318,
    "start_time": "2023-04-28T08:45:25.385Z"
   },
   {
    "duration": 1333,
    "start_time": "2023-04-28T08:45:26.710Z"
   },
   {
    "duration": 7374,
    "start_time": "2023-04-28T08:45:28.044Z"
   },
   {
    "duration": 10691,
    "start_time": "2023-04-28T08:45:35.421Z"
   },
   {
    "duration": 10,
    "start_time": "2023-04-28T08:45:46.114Z"
   },
   {
    "duration": 142,
    "start_time": "2023-04-28T08:58:59.589Z"
   },
   {
    "duration": 358,
    "start_time": "2023-04-28T08:59:45.703Z"
   },
   {
    "duration": 112,
    "start_time": "2023-04-28T09:00:40.445Z"
   },
   {
    "duration": 48,
    "start_time": "2023-04-28T09:00:49.461Z"
   },
   {
    "duration": 46,
    "start_time": "2023-04-28T09:00:55.739Z"
   },
   {
    "duration": 124,
    "start_time": "2023-04-28T09:01:07.115Z"
   },
   {
    "duration": 118,
    "start_time": "2023-04-28T09:01:17.489Z"
   },
   {
    "duration": 133,
    "start_time": "2023-04-28T09:02:11.162Z"
   },
   {
    "duration": 128,
    "start_time": "2023-04-28T09:02:34.141Z"
   },
   {
    "duration": 76,
    "start_time": "2023-04-28T09:02:45.956Z"
   },
   {
    "duration": 124,
    "start_time": "2023-04-28T09:03:00.596Z"
   },
   {
    "duration": 122,
    "start_time": "2023-04-28T09:06:18.316Z"
   },
   {
    "duration": 145,
    "start_time": "2023-04-28T09:06:34.155Z"
   },
   {
    "duration": 118,
    "start_time": "2023-04-28T09:08:52.619Z"
   },
   {
    "duration": 114,
    "start_time": "2023-04-28T09:09:46.871Z"
   },
   {
    "duration": 114,
    "start_time": "2023-04-28T09:10:02.297Z"
   },
   {
    "duration": 112,
    "start_time": "2023-04-28T09:10:12.316Z"
   },
   {
    "duration": 412,
    "start_time": "2023-04-28T09:10:27.084Z"
   },
   {
    "duration": 4,
    "start_time": "2023-04-28T09:18:36.440Z"
   },
   {
    "duration": 4,
    "start_time": "2023-04-28T09:18:37.402Z"
   },
   {
    "duration": 3,
    "start_time": "2023-04-28T09:18:42.954Z"
   },
   {
    "duration": 5,
    "start_time": "2023-04-28T09:18:43.180Z"
   },
   {
    "duration": 7,
    "start_time": "2023-04-28T09:18:43.774Z"
   },
   {
    "duration": 1278,
    "start_time": "2023-04-28T09:18:54.515Z"
   },
   {
    "duration": 1303,
    "start_time": "2023-04-28T09:18:55.794Z"
   },
   {
    "duration": 7501,
    "start_time": "2023-04-28T09:18:57.099Z"
   },
   {
    "duration": 14422,
    "start_time": "2023-04-28T09:19:04.602Z"
   },
   {
    "duration": 13,
    "start_time": "2023-04-28T09:19:19.026Z"
   },
   {
    "duration": 157,
    "start_time": "2023-04-28T09:19:19.041Z"
   },
   {
    "duration": 51,
    "start_time": "2023-04-28T09:35:54.511Z"
   },
   {
    "duration": 4,
    "start_time": "2023-04-28T09:36:01.670Z"
   },
   {
    "duration": 4,
    "start_time": "2023-04-28T09:43:34.468Z"
   },
   {
    "duration": 8,
    "start_time": "2023-04-28T09:54:49.102Z"
   },
   {
    "duration": 4,
    "start_time": "2023-04-28T09:55:02.751Z"
   },
   {
    "duration": 14,
    "start_time": "2023-04-28T09:55:03.373Z"
   },
   {
    "duration": 14,
    "start_time": "2023-04-28T09:55:55.045Z"
   },
   {
    "duration": 4,
    "start_time": "2023-04-28T09:55:57.064Z"
   },
   {
    "duration": 3,
    "start_time": "2023-04-28T09:56:01.560Z"
   },
   {
    "duration": 4,
    "start_time": "2023-04-28T09:56:04.940Z"
   },
   {
    "duration": 6,
    "start_time": "2023-04-28T09:56:05.257Z"
   },
   {
    "duration": 118,
    "start_time": "2023-04-28T09:56:09.545Z"
   },
   {
    "duration": 6,
    "start_time": "2023-04-28T09:56:49.651Z"
   },
   {
    "duration": 116,
    "start_time": "2023-04-28T09:56:53.136Z"
   },
   {
    "duration": 12,
    "start_time": "2023-04-28T09:57:24.703Z"
   },
   {
    "duration": 115,
    "start_time": "2023-04-28T09:57:34.877Z"
   },
   {
    "duration": 14,
    "start_time": "2023-04-28T09:57:46.795Z"
   },
   {
    "duration": 5,
    "start_time": "2023-04-28T09:57:51.009Z"
   },
   {
    "duration": 112,
    "start_time": "2023-04-28T09:57:56.166Z"
   },
   {
    "duration": 13,
    "start_time": "2023-04-28T09:58:08.350Z"
   },
   {
    "duration": 117,
    "start_time": "2023-04-28T09:58:15.902Z"
   },
   {
    "duration": 126,
    "start_time": "2023-04-28T09:58:35.452Z"
   },
   {
    "duration": 113,
    "start_time": "2023-04-28T09:59:48.051Z"
   },
   {
    "duration": 5,
    "start_time": "2023-04-28T10:00:06.124Z"
   },
   {
    "duration": 119,
    "start_time": "2023-04-28T10:00:10.606Z"
   },
   {
    "duration": 12,
    "start_time": "2023-04-28T10:08:13.692Z"
   },
   {
    "duration": 6,
    "start_time": "2023-04-28T10:08:19.890Z"
   },
   {
    "duration": 27,
    "start_time": "2023-04-28T10:08:20.479Z"
   },
   {
    "duration": 4,
    "start_time": "2023-04-28T10:09:11.014Z"
   },
   {
    "duration": 184,
    "start_time": "2023-04-28T10:10:01.006Z"
   },
   {
    "duration": 21,
    "start_time": "2023-04-28T10:10:19.980Z"
   },
   {
    "duration": 4,
    "start_time": "2023-04-28T10:10:26.108Z"
   },
   {
    "duration": 5,
    "start_time": "2023-04-28T10:10:35.041Z"
   },
   {
    "duration": 24,
    "start_time": "2023-04-28T10:10:35.297Z"
   },
   {
    "duration": 13,
    "start_time": "2023-04-28T10:33:13.330Z"
   },
   {
    "duration": 48,
    "start_time": "2023-04-28T10:34:52.951Z"
   },
   {
    "duration": 571,
    "start_time": "2023-04-28T10:35:20.389Z"
   },
   {
    "duration": 17,
    "start_time": "2023-04-28T10:36:50.793Z"
   },
   {
    "duration": 596,
    "start_time": "2023-04-28T10:37:39.473Z"
   },
   {
    "duration": 14,
    "start_time": "2023-04-28T10:39:54.964Z"
   },
   {
    "duration": 4,
    "start_time": "2023-04-28T10:39:59.578Z"
   },
   {
    "duration": 1368,
    "start_time": "2023-04-28T10:40:11.520Z"
   },
   {
    "duration": 3,
    "start_time": "2023-04-28T10:40:12.890Z"
   },
   {
    "duration": 85,
    "start_time": "2023-04-28T10:40:12.894Z"
   },
   {
    "duration": 17,
    "start_time": "2023-04-28T10:40:12.981Z"
   },
   {
    "duration": 12,
    "start_time": "2023-04-28T10:40:13.000Z"
   },
   {
    "duration": 55,
    "start_time": "2023-04-28T10:40:13.014Z"
   },
   {
    "duration": 14,
    "start_time": "2023-04-28T10:40:13.071Z"
   },
   {
    "duration": 9,
    "start_time": "2023-04-28T10:40:13.086Z"
   },
   {
    "duration": 17,
    "start_time": "2023-04-28T10:40:13.097Z"
   },
   {
    "duration": 4,
    "start_time": "2023-04-28T10:40:13.115Z"
   },
   {
    "duration": 18,
    "start_time": "2023-04-28T10:40:13.120Z"
   },
   {
    "duration": 6,
    "start_time": "2023-04-28T10:40:13.139Z"
   },
   {
    "duration": 7,
    "start_time": "2023-04-28T10:40:13.146Z"
   },
   {
    "duration": 30,
    "start_time": "2023-04-28T10:40:13.156Z"
   },
   {
    "duration": 9,
    "start_time": "2023-04-28T10:40:13.187Z"
   },
   {
    "duration": 27,
    "start_time": "2023-04-28T10:40:13.198Z"
   },
   {
    "duration": 28,
    "start_time": "2023-04-28T10:40:13.227Z"
   },
   {
    "duration": 10,
    "start_time": "2023-04-28T10:40:13.257Z"
   },
   {
    "duration": 34,
    "start_time": "2023-04-28T10:40:13.268Z"
   },
   {
    "duration": 40,
    "start_time": "2023-04-28T10:40:13.303Z"
   },
   {
    "duration": 17,
    "start_time": "2023-04-28T10:40:13.345Z"
   },
   {
    "duration": 13,
    "start_time": "2023-04-28T10:40:13.363Z"
   },
   {
    "duration": 11,
    "start_time": "2023-04-28T10:40:13.378Z"
   },
   {
    "duration": 10,
    "start_time": "2023-04-28T10:40:13.391Z"
   },
   {
    "duration": 7,
    "start_time": "2023-04-28T10:40:13.403Z"
   },
   {
    "duration": 1296,
    "start_time": "2023-04-28T10:40:13.411Z"
   },
   {
    "duration": 1164,
    "start_time": "2023-04-28T10:40:14.709Z"
   },
   {
    "duration": 8790,
    "start_time": "2023-04-28T10:40:15.875Z"
   },
   {
    "duration": 6052,
    "start_time": "2023-04-28T10:40:24.667Z"
   },
   {
    "duration": 12,
    "start_time": "2023-04-28T10:40:30.721Z"
   },
   {
    "duration": 167,
    "start_time": "2023-04-28T10:40:30.735Z"
   },
   {
    "duration": 6,
    "start_time": "2023-04-28T10:40:30.903Z"
   },
   {
    "duration": 49,
    "start_time": "2023-04-28T10:40:30.910Z"
   },
   {
    "duration": 117,
    "start_time": "2023-04-28T10:40:37.936Z"
   },
   {
    "duration": 14,
    "start_time": "2023-04-28T10:41:22.025Z"
   },
   {
    "duration": 5,
    "start_time": "2023-04-28T10:41:23.898Z"
   },
   {
    "duration": 17,
    "start_time": "2023-04-28T10:41:33.275Z"
   },
   {
    "duration": 26,
    "start_time": "2023-04-28T10:41:37.001Z"
   },
   {
    "duration": 18,
    "start_time": "2023-04-28T10:41:37.376Z"
   },
   {
    "duration": 3,
    "start_time": "2023-04-28T10:41:38.230Z"
   },
   {
    "duration": 4,
    "start_time": "2023-04-28T10:41:38.406Z"
   },
   {
    "duration": 6,
    "start_time": "2023-04-28T10:41:38.576Z"
   },
   {
    "duration": 6,
    "start_time": "2023-04-28T10:41:38.750Z"
   },
   {
    "duration": 1244,
    "start_time": "2023-04-28T10:41:39.117Z"
   },
   {
    "duration": 1185,
    "start_time": "2023-04-28T10:41:41.822Z"
   },
   {
    "duration": 7112,
    "start_time": "2023-04-28T10:41:43.009Z"
   },
   {
    "duration": 12221,
    "start_time": "2023-04-28T10:41:50.122Z"
   },
   {
    "duration": 10,
    "start_time": "2023-04-28T10:42:02.345Z"
   },
   {
    "duration": 136,
    "start_time": "2023-04-28T10:42:02.386Z"
   },
   {
    "duration": 4,
    "start_time": "2023-04-28T10:42:25.784Z"
   },
   {
    "duration": 15,
    "start_time": "2023-04-28T10:43:10.802Z"
   },
   {
    "duration": 3,
    "start_time": "2023-04-28T10:45:32.061Z"
   },
   {
    "duration": 14,
    "start_time": "2023-04-28T10:45:46.009Z"
   },
   {
    "duration": 4,
    "start_time": "2023-04-28T10:45:59.677Z"
   },
   {
    "duration": 3,
    "start_time": "2023-04-28T10:47:09.181Z"
   },
   {
    "duration": 12,
    "start_time": "2023-04-28T10:47:09.517Z"
   },
   {
    "duration": 17,
    "start_time": "2023-04-28T10:48:01.202Z"
   },
   {
    "duration": 6,
    "start_time": "2023-04-28T10:48:21.197Z"
   },
   {
    "duration": 17,
    "start_time": "2023-04-28T10:48:51.741Z"
   },
   {
    "duration": 5,
    "start_time": "2023-04-28T10:49:08.718Z"
   },
   {
    "duration": 7,
    "start_time": "2023-04-28T10:49:10.034Z"
   },
   {
    "duration": 5,
    "start_time": "2023-04-28T10:49:14.092Z"
   },
   {
    "duration": 14,
    "start_time": "2023-04-28T10:49:14.784Z"
   },
   {
    "duration": 5,
    "start_time": "2023-04-28T10:49:17.589Z"
   },
   {
    "duration": 7,
    "start_time": "2023-04-28T10:49:20.418Z"
   },
   {
    "duration": 19,
    "start_time": "2023-04-28T10:49:22.491Z"
   },
   {
    "duration": 4,
    "start_time": "2023-04-28T10:50:09.609Z"
   },
   {
    "duration": 13,
    "start_time": "2023-04-28T10:50:09.873Z"
   },
   {
    "duration": 4,
    "start_time": "2023-04-28T10:50:10.614Z"
   },
   {
    "duration": 6,
    "start_time": "2023-04-28T10:50:11.265Z"
   },
   {
    "duration": 18,
    "start_time": "2023-04-28T10:50:12.538Z"
   },
   {
    "duration": 5,
    "start_time": "2023-04-28T10:50:30.361Z"
   },
   {
    "duration": 17,
    "start_time": "2023-04-28T10:50:34.988Z"
   },
   {
    "duration": 5,
    "start_time": "2023-04-28T10:50:40.833Z"
   },
   {
    "duration": 124,
    "start_time": "2023-04-28T10:51:21.789Z"
   },
   {
    "duration": 4,
    "start_time": "2023-04-28T10:51:26.523Z"
   },
   {
    "duration": 13,
    "start_time": "2023-04-28T10:52:24.804Z"
   },
   {
    "duration": 117,
    "start_time": "2023-04-28T10:52:32.188Z"
   },
   {
    "duration": 79,
    "start_time": "2023-04-28T10:53:04.921Z"
   },
   {
    "duration": 75,
    "start_time": "2023-04-28T10:53:38.279Z"
   },
   {
    "duration": 18,
    "start_time": "2023-04-28T10:53:55.312Z"
   },
   {
    "duration": 1560,
    "start_time": "2023-04-28T10:54:29.699Z"
   },
   {
    "duration": 4,
    "start_time": "2023-04-28T10:54:31.261Z"
   },
   {
    "duration": 465,
    "start_time": "2023-04-28T10:54:31.266Z"
   },
   {
    "duration": 19,
    "start_time": "2023-04-28T10:54:31.733Z"
   },
   {
    "duration": 39,
    "start_time": "2023-04-28T10:54:31.755Z"
   },
   {
    "duration": 68,
    "start_time": "2023-04-28T10:54:31.797Z"
   },
   {
    "duration": 6,
    "start_time": "2023-04-28T10:54:31.867Z"
   },
   {
    "duration": 40,
    "start_time": "2023-04-28T10:54:31.874Z"
   },
   {
    "duration": 39,
    "start_time": "2023-04-28T10:54:31.917Z"
   },
   {
    "duration": 13,
    "start_time": "2023-04-28T10:54:31.958Z"
   },
   {
    "duration": 75,
    "start_time": "2023-04-28T10:54:31.973Z"
   },
   {
    "duration": 34,
    "start_time": "2023-04-28T10:54:32.050Z"
   },
   {
    "duration": 20,
    "start_time": "2023-04-28T10:54:32.086Z"
   },
   {
    "duration": 27,
    "start_time": "2023-04-28T10:54:32.110Z"
   },
   {
    "duration": 22,
    "start_time": "2023-04-28T10:54:32.139Z"
   },
   {
    "duration": 33,
    "start_time": "2023-04-28T10:54:32.162Z"
   },
   {
    "duration": 14,
    "start_time": "2023-04-28T10:54:32.198Z"
   },
   {
    "duration": 36,
    "start_time": "2023-04-28T10:54:32.214Z"
   },
   {
    "duration": 10,
    "start_time": "2023-04-28T10:54:32.252Z"
   },
   {
    "duration": 26,
    "start_time": "2023-04-28T10:54:32.264Z"
   },
   {
    "duration": 32,
    "start_time": "2023-04-28T10:54:32.292Z"
   },
   {
    "duration": 31,
    "start_time": "2023-04-28T10:54:32.325Z"
   },
   {
    "duration": 3,
    "start_time": "2023-04-28T10:54:32.358Z"
   },
   {
    "duration": 23,
    "start_time": "2023-04-28T10:54:32.362Z"
   },
   {
    "duration": 18,
    "start_time": "2023-04-28T10:54:32.387Z"
   },
   {
    "duration": 26,
    "start_time": "2023-04-28T10:54:32.407Z"
   },
   {
    "duration": 164,
    "start_time": "2023-04-28T10:54:39.292Z"
   },
   {
    "duration": 61,
    "start_time": "2023-04-28T10:54:39.680Z"
   },
   {
    "duration": 53,
    "start_time": "2023-04-28T10:54:40.086Z"
   },
   {
    "duration": 3,
    "start_time": "2023-04-28T10:54:49.839Z"
   },
   {
    "duration": 4,
    "start_time": "2023-04-28T10:54:50.189Z"
   },
   {
    "duration": 7,
    "start_time": "2023-04-28T10:54:50.541Z"
   },
   {
    "duration": 7,
    "start_time": "2023-04-28T10:54:52.869Z"
   },
   {
    "duration": 66,
    "start_time": "2023-04-28T10:54:54.772Z"
   },
   {
    "duration": 18,
    "start_time": "2023-04-28T10:55:07.749Z"
   },
   {
    "duration": 1416,
    "start_time": "2023-04-28T10:55:26.077Z"
   },
   {
    "duration": 3,
    "start_time": "2023-04-28T10:55:27.495Z"
   },
   {
    "duration": 62,
    "start_time": "2023-04-28T10:55:27.515Z"
   },
   {
    "duration": 17,
    "start_time": "2023-04-28T10:55:27.869Z"
   },
   {
    "duration": 12,
    "start_time": "2023-04-28T10:55:28.500Z"
   },
   {
    "duration": 42,
    "start_time": "2023-04-28T10:55:29.124Z"
   },
   {
    "duration": 6,
    "start_time": "2023-04-28T10:55:29.547Z"
   },
   {
    "duration": 7,
    "start_time": "2023-04-28T10:55:30.036Z"
   },
   {
    "duration": 12,
    "start_time": "2023-04-28T10:55:30.508Z"
   },
   {
    "duration": 4,
    "start_time": "2023-04-28T10:55:32.276Z"
   },
   {
    "duration": 11,
    "start_time": "2023-04-28T10:55:33.084Z"
   },
   {
    "duration": 6,
    "start_time": "2023-04-28T10:55:34.830Z"
   },
   {
    "duration": 5,
    "start_time": "2023-04-28T10:55:37.076Z"
   },
   {
    "duration": 9,
    "start_time": "2023-04-28T10:55:38.668Z"
   },
   {
    "duration": 9,
    "start_time": "2023-04-28T10:55:39.718Z"
   },
   {
    "duration": 18,
    "start_time": "2023-04-28T10:55:40.901Z"
   },
   {
    "duration": 4,
    "start_time": "2023-04-28T10:56:01.030Z"
   },
   {
    "duration": 17,
    "start_time": "2023-04-28T10:56:01.867Z"
   },
   {
    "duration": 5,
    "start_time": "2023-04-28T10:56:04.498Z"
   },
   {
    "duration": 17,
    "start_time": "2023-04-28T10:56:11.397Z"
   },
   {
    "duration": 28,
    "start_time": "2023-04-28T10:56:16.730Z"
   },
   {
    "duration": 26,
    "start_time": "2023-04-28T10:56:17.546Z"
   },
   {
    "duration": 18,
    "start_time": "2023-04-28T10:56:21.064Z"
   },
   {
    "duration": 4,
    "start_time": "2023-04-28T10:57:23.544Z"
   },
   {
    "duration": 20,
    "start_time": "2023-04-28T10:57:24.294Z"
   },
   {
    "duration": 4,
    "start_time": "2023-04-28T10:57:27.453Z"
   },
   {
    "duration": 12,
    "start_time": "2023-04-28T10:57:27.791Z"
   },
   {
    "duration": 4,
    "start_time": "2023-04-28T10:57:28.597Z"
   },
   {
    "duration": 16,
    "start_time": "2023-04-28T10:57:29.059Z"
   },
   {
    "duration": 37,
    "start_time": "2023-04-28T10:57:33.939Z"
   },
   {
    "duration": 19,
    "start_time": "2023-04-28T10:57:37.019Z"
   },
   {
    "duration": 142,
    "start_time": "2023-04-28T10:58:00.938Z"
   },
   {
    "duration": 1369,
    "start_time": "2023-04-28T10:58:20.189Z"
   },
   {
    "duration": 3,
    "start_time": "2023-04-28T10:58:21.560Z"
   },
   {
    "duration": 70,
    "start_time": "2023-04-28T10:58:21.565Z"
   },
   {
    "duration": 16,
    "start_time": "2023-04-28T10:58:21.637Z"
   },
   {
    "duration": 16,
    "start_time": "2023-04-28T10:58:21.655Z"
   },
   {
    "duration": 42,
    "start_time": "2023-04-28T10:58:21.672Z"
   },
   {
    "duration": 4,
    "start_time": "2023-04-28T10:58:21.716Z"
   },
   {
    "duration": 9,
    "start_time": "2023-04-28T10:58:21.721Z"
   },
   {
    "duration": 11,
    "start_time": "2023-04-28T10:58:21.731Z"
   },
   {
    "duration": 4,
    "start_time": "2023-04-28T10:58:21.743Z"
   },
   {
    "duration": 37,
    "start_time": "2023-04-28T10:58:21.748Z"
   },
   {
    "duration": 17,
    "start_time": "2023-04-28T10:58:21.787Z"
   },
   {
    "duration": 18,
    "start_time": "2023-04-28T10:58:21.805Z"
   },
   {
    "duration": 19,
    "start_time": "2023-04-28T10:58:21.825Z"
   },
   {
    "duration": 23,
    "start_time": "2023-04-28T10:58:21.845Z"
   },
   {
    "duration": 26,
    "start_time": "2023-04-28T10:58:21.870Z"
   },
   {
    "duration": 17,
    "start_time": "2023-04-28T10:58:21.898Z"
   },
   {
    "duration": 20,
    "start_time": "2023-04-28T10:58:21.917Z"
   },
   {
    "duration": 4,
    "start_time": "2023-04-28T10:58:21.939Z"
   },
   {
    "duration": 23,
    "start_time": "2023-04-28T10:58:21.944Z"
   },
   {
    "duration": 26,
    "start_time": "2023-04-28T10:58:40.001Z"
   },
   {
    "duration": 18,
    "start_time": "2023-04-28T10:58:41.991Z"
   },
   {
    "duration": 5,
    "start_time": "2023-04-28T10:58:43.940Z"
   },
   {
    "duration": 4,
    "start_time": "2023-04-28T10:58:44.298Z"
   },
   {
    "duration": 6,
    "start_time": "2023-04-28T10:58:44.683Z"
   },
   {
    "duration": 10,
    "start_time": "2023-04-28T10:58:45.183Z"
   },
   {
    "duration": 1280,
    "start_time": "2023-04-28T10:58:46.602Z"
   },
   {
    "duration": 1224,
    "start_time": "2023-04-28T10:58:47.884Z"
   },
   {
    "duration": 7302,
    "start_time": "2023-04-28T10:58:49.109Z"
   },
   {
    "duration": 11101,
    "start_time": "2023-04-28T10:58:56.413Z"
   },
   {
    "duration": 71,
    "start_time": "2023-04-28T10:59:07.516Z"
   },
   {
    "duration": 236,
    "start_time": "2023-04-28T10:59:07.589Z"
   },
   {
    "duration": 59,
    "start_time": "2023-04-28T10:59:07.827Z"
   },
   {
    "duration": 226,
    "start_time": "2023-04-28T10:59:07.888Z"
   },
   {
    "duration": 0,
    "start_time": "2023-04-28T10:59:08.116Z"
   },
   {
    "duration": 20,
    "start_time": "2023-04-28T10:59:27.198Z"
   },
   {
    "duration": 5,
    "start_time": "2023-04-28T11:00:33.660Z"
   },
   {
    "duration": 4,
    "start_time": "2023-04-28T11:03:18.661Z"
   },
   {
    "duration": 13,
    "start_time": "2023-04-28T11:03:18.932Z"
   },
   {
    "duration": 5,
    "start_time": "2023-04-28T11:03:26.580Z"
   },
   {
    "duration": 22,
    "start_time": "2023-04-28T11:03:27.522Z"
   },
   {
    "duration": 35,
    "start_time": "2023-04-28T11:03:45.620Z"
   },
   {
    "duration": 31,
    "start_time": "2023-04-28T11:03:46.811Z"
   },
   {
    "duration": 3,
    "start_time": "2023-04-28T11:03:51.009Z"
   },
   {
    "duration": 4,
    "start_time": "2023-04-28T11:03:53.000Z"
   },
   {
    "duration": 8,
    "start_time": "2023-04-28T11:03:53.881Z"
   },
   {
    "duration": 8,
    "start_time": "2023-04-28T11:03:54.347Z"
   },
   {
    "duration": 65,
    "start_time": "2023-04-28T11:03:56.344Z"
   },
   {
    "duration": 10,
    "start_time": "2023-04-28T11:04:24.241Z"
   },
   {
    "duration": 7,
    "start_time": "2023-04-28T11:05:06.045Z"
   },
   {
    "duration": 126,
    "start_time": "2023-04-28T11:05:46.187Z"
   },
   {
    "duration": 6,
    "start_time": "2023-04-28T11:06:15.113Z"
   },
   {
    "duration": 8,
    "start_time": "2023-04-28T11:06:32.428Z"
   },
   {
    "duration": 21,
    "start_time": "2023-04-28T11:06:37.752Z"
   },
   {
    "duration": 5,
    "start_time": "2023-04-28T11:07:43.200Z"
   },
   {
    "duration": 30,
    "start_time": "2023-04-28T11:07:43.952Z"
   },
   {
    "duration": 5,
    "start_time": "2023-04-28T11:07:48.236Z"
   },
   {
    "duration": 17,
    "start_time": "2023-04-28T11:07:48.540Z"
   },
   {
    "duration": 4,
    "start_time": "2023-04-28T11:07:51.408Z"
   },
   {
    "duration": 18,
    "start_time": "2023-04-28T11:07:52.280Z"
   },
   {
    "duration": 28,
    "start_time": "2023-04-28T11:08:47.777Z"
   },
   {
    "duration": 26,
    "start_time": "2023-04-28T11:08:51.015Z"
   },
   {
    "duration": 28,
    "start_time": "2023-04-28T11:08:53.998Z"
   },
   {
    "duration": 4,
    "start_time": "2023-04-28T11:10:21.583Z"
   },
   {
    "duration": 15,
    "start_time": "2023-04-28T11:10:21.845Z"
   },
   {
    "duration": 6,
    "start_time": "2023-04-28T11:10:22.474Z"
   },
   {
    "duration": 233,
    "start_time": "2023-04-28T11:10:23.093Z"
   },
   {
    "duration": 40,
    "start_time": "2023-04-28T11:10:26.998Z"
   },
   {
    "duration": 21,
    "start_time": "2023-04-28T11:10:28.690Z"
   },
   {
    "duration": 3,
    "start_time": "2023-04-28T11:10:32.592Z"
   },
   {
    "duration": 3,
    "start_time": "2023-04-28T11:10:39.113Z"
   },
   {
    "duration": 6,
    "start_time": "2023-04-28T11:10:41.033Z"
   },
   {
    "duration": 3,
    "start_time": "2023-04-28T11:13:25.988Z"
   },
   {
    "duration": 28,
    "start_time": "2023-04-28T11:13:26.948Z"
   },
   {
    "duration": 1433,
    "start_time": "2023-04-28T11:14:13.500Z"
   },
   {
    "duration": 3,
    "start_time": "2023-04-28T11:14:14.935Z"
   },
   {
    "duration": 58,
    "start_time": "2023-04-28T11:14:14.939Z"
   },
   {
    "duration": 18,
    "start_time": "2023-04-28T11:14:14.999Z"
   },
   {
    "duration": 26,
    "start_time": "2023-04-28T11:14:15.018Z"
   },
   {
    "duration": 51,
    "start_time": "2023-04-28T11:14:15.045Z"
   },
   {
    "duration": 5,
    "start_time": "2023-04-28T11:14:15.098Z"
   },
   {
    "duration": 16,
    "start_time": "2023-04-28T11:14:15.104Z"
   },
   {
    "duration": 15,
    "start_time": "2023-04-28T11:14:15.122Z"
   },
   {
    "duration": 5,
    "start_time": "2023-04-28T11:14:15.140Z"
   },
   {
    "duration": 48,
    "start_time": "2023-04-28T11:14:15.146Z"
   },
   {
    "duration": 8,
    "start_time": "2023-04-28T11:14:15.196Z"
   },
   {
    "duration": 8,
    "start_time": "2023-04-28T11:14:15.206Z"
   },
   {
    "duration": 11,
    "start_time": "2023-04-28T11:14:15.216Z"
   },
   {
    "duration": 15,
    "start_time": "2023-04-28T11:14:15.229Z"
   },
   {
    "duration": 50,
    "start_time": "2023-04-28T11:14:15.246Z"
   },
   {
    "duration": 3,
    "start_time": "2023-04-28T11:14:15.298Z"
   },
   {
    "duration": 25,
    "start_time": "2023-04-28T11:14:15.303Z"
   },
   {
    "duration": 6,
    "start_time": "2023-04-28T11:14:15.329Z"
   },
   {
    "duration": 4,
    "start_time": "2023-04-28T11:14:15.337Z"
   },
   {
    "duration": 25,
    "start_time": "2023-04-28T11:14:15.342Z"
   },
   {
    "duration": 42,
    "start_time": "2023-04-28T11:14:15.369Z"
   },
   {
    "duration": 19,
    "start_time": "2023-04-28T11:14:15.412Z"
   },
   {
    "duration": 3,
    "start_time": "2023-04-28T11:14:15.433Z"
   },
   {
    "duration": 7,
    "start_time": "2023-04-28T11:14:15.437Z"
   },
   {
    "duration": 40,
    "start_time": "2023-04-28T11:14:15.445Z"
   },
   {
    "duration": 7,
    "start_time": "2023-04-28T11:14:15.487Z"
   },
   {
    "duration": 1300,
    "start_time": "2023-04-28T11:14:15.497Z"
   },
   {
    "duration": 1262,
    "start_time": "2023-04-28T11:14:16.799Z"
   },
   {
    "duration": 7348,
    "start_time": "2023-04-28T11:14:18.063Z"
   },
   {
    "duration": 9484,
    "start_time": "2023-04-28T11:14:25.413Z"
   },
   {
    "duration": 12,
    "start_time": "2023-04-28T11:14:34.899Z"
   },
   {
    "duration": 150,
    "start_time": "2023-04-28T11:14:34.913Z"
   },
   {
    "duration": 4,
    "start_time": "2023-04-28T11:14:49.341Z"
   },
   {
    "duration": 11,
    "start_time": "2023-04-28T11:14:49.878Z"
   },
   {
    "duration": 25,
    "start_time": "2023-04-28T11:14:52.670Z"
   },
   {
    "duration": 5,
    "start_time": "2023-04-28T11:14:56.150Z"
   },
   {
    "duration": 165,
    "start_time": "2023-04-28T11:15:04.007Z"
   },
   {
    "duration": 9115,
    "start_time": "2023-04-28T11:16:54.394Z"
   },
   {
    "duration": 15,
    "start_time": "2023-04-28T11:18:38.420Z"
   },
   {
    "duration": 4,
    "start_time": "2023-04-28T11:19:24.052Z"
   },
   {
    "duration": 12,
    "start_time": "2023-04-28T11:19:24.728Z"
   },
   {
    "duration": 3,
    "start_time": "2023-04-28T11:19:36.480Z"
   },
   {
    "duration": 11,
    "start_time": "2023-04-28T11:19:38.554Z"
   },
   {
    "duration": 129,
    "start_time": "2023-04-28T11:19:42.458Z"
   },
   {
    "duration": 1548,
    "start_time": "2023-04-28T11:20:11.074Z"
   },
   {
    "duration": 2,
    "start_time": "2023-04-28T11:20:12.625Z"
   },
   {
    "duration": 96,
    "start_time": "2023-04-28T11:20:12.629Z"
   },
   {
    "duration": 17,
    "start_time": "2023-04-28T11:20:12.727Z"
   },
   {
    "duration": 22,
    "start_time": "2023-04-28T11:20:12.746Z"
   },
   {
    "duration": 53,
    "start_time": "2023-04-28T11:20:12.770Z"
   },
   {
    "duration": 5,
    "start_time": "2023-04-28T11:20:12.825Z"
   },
   {
    "duration": 9,
    "start_time": "2023-04-28T11:20:12.832Z"
   },
   {
    "duration": 11,
    "start_time": "2023-04-28T11:20:12.843Z"
   },
   {
    "duration": 4,
    "start_time": "2023-04-28T11:20:12.855Z"
   },
   {
    "duration": 39,
    "start_time": "2023-04-28T11:20:12.861Z"
   },
   {
    "duration": 7,
    "start_time": "2023-04-28T11:20:12.901Z"
   },
   {
    "duration": 5,
    "start_time": "2023-04-28T11:20:12.910Z"
   },
   {
    "duration": 9,
    "start_time": "2023-04-28T11:20:12.918Z"
   },
   {
    "duration": 11,
    "start_time": "2023-04-28T11:20:12.929Z"
   },
   {
    "duration": 57,
    "start_time": "2023-04-28T11:20:12.941Z"
   },
   {
    "duration": 6,
    "start_time": "2023-04-28T11:20:13.000Z"
   },
   {
    "duration": 15,
    "start_time": "2023-04-28T11:20:13.007Z"
   },
   {
    "duration": 4,
    "start_time": "2023-04-28T11:20:13.024Z"
   },
   {
    "duration": 3,
    "start_time": "2023-04-28T11:20:13.030Z"
   },
   {
    "duration": 16,
    "start_time": "2023-04-28T11:20:13.035Z"
   },
   {
    "duration": 61,
    "start_time": "2023-04-28T11:20:13.053Z"
   },
   {
    "duration": 18,
    "start_time": "2023-04-28T11:20:13.116Z"
   },
   {
    "duration": 3,
    "start_time": "2023-04-28T11:20:13.136Z"
   },
   {
    "duration": 8,
    "start_time": "2023-04-28T11:20:13.141Z"
   },
   {
    "duration": 12,
    "start_time": "2023-04-28T11:20:13.151Z"
   },
   {
    "duration": 24,
    "start_time": "2023-04-28T11:20:13.165Z"
   },
   {
    "duration": 1455,
    "start_time": "2023-04-28T11:20:13.192Z"
   },
   {
    "duration": 1299,
    "start_time": "2023-04-28T11:20:14.649Z"
   },
   {
    "duration": 7359,
    "start_time": "2023-04-28T11:20:15.950Z"
   },
   {
    "duration": 13905,
    "start_time": "2023-04-28T11:20:23.310Z"
   },
   {
    "duration": 11,
    "start_time": "2023-04-28T11:20:37.216Z"
   },
   {
    "duration": 133,
    "start_time": "2023-04-28T11:20:37.229Z"
   },
   {
    "duration": 3,
    "start_time": "2023-04-28T11:20:37.364Z"
   },
   {
    "duration": 31,
    "start_time": "2023-04-28T11:20:37.369Z"
   },
   {
    "duration": 8738,
    "start_time": "2023-04-28T11:20:37.405Z"
   },
   {
    "duration": 1488,
    "start_time": "2023-04-28T11:41:12.415Z"
   },
   {
    "duration": 3,
    "start_time": "2023-04-28T11:41:13.905Z"
   },
   {
    "duration": 340,
    "start_time": "2023-04-28T11:41:13.909Z"
   },
   {
    "duration": 20,
    "start_time": "2023-04-28T11:41:14.251Z"
   },
   {
    "duration": 22,
    "start_time": "2023-04-28T11:41:14.273Z"
   },
   {
    "duration": 49,
    "start_time": "2023-04-28T11:41:14.300Z"
   },
   {
    "duration": 4,
    "start_time": "2023-04-28T11:41:14.351Z"
   },
   {
    "duration": 8,
    "start_time": "2023-04-28T11:41:14.357Z"
   },
   {
    "duration": 31,
    "start_time": "2023-04-28T11:41:14.366Z"
   },
   {
    "duration": 5,
    "start_time": "2023-04-28T11:41:14.400Z"
   },
   {
    "duration": 11,
    "start_time": "2023-04-28T11:41:14.406Z"
   },
   {
    "duration": 6,
    "start_time": "2023-04-28T11:41:14.419Z"
   },
   {
    "duration": 5,
    "start_time": "2023-04-28T11:41:14.427Z"
   },
   {
    "duration": 10,
    "start_time": "2023-04-28T11:41:14.435Z"
   },
   {
    "duration": 53,
    "start_time": "2023-04-28T11:41:14.446Z"
   },
   {
    "duration": 18,
    "start_time": "2023-04-28T11:41:14.502Z"
   },
   {
    "duration": 3,
    "start_time": "2023-04-28T11:41:14.521Z"
   },
   {
    "duration": 13,
    "start_time": "2023-04-28T11:41:14.526Z"
   },
   {
    "duration": 4,
    "start_time": "2023-04-28T11:41:14.541Z"
   },
   {
    "duration": 4,
    "start_time": "2023-04-28T11:41:14.547Z"
   },
   {
    "duration": 48,
    "start_time": "2023-04-28T11:41:14.553Z"
   },
   {
    "duration": 36,
    "start_time": "2023-04-28T11:41:14.603Z"
   },
   {
    "duration": 17,
    "start_time": "2023-04-28T11:41:14.641Z"
   },
   {
    "duration": 27,
    "start_time": "2023-04-28T11:41:14.659Z"
   },
   {
    "duration": 9,
    "start_time": "2023-04-28T11:41:14.688Z"
   },
   {
    "duration": 9,
    "start_time": "2023-04-28T11:41:14.699Z"
   },
   {
    "duration": 8,
    "start_time": "2023-04-28T11:41:14.709Z"
   },
   {
    "duration": 1373,
    "start_time": "2023-04-28T11:41:14.719Z"
   },
   {
    "duration": 1298,
    "start_time": "2023-04-28T11:41:16.094Z"
   },
   {
    "duration": 7607,
    "start_time": "2023-04-28T11:41:17.394Z"
   },
   {
    "duration": 7904,
    "start_time": "2023-04-28T11:41:25.003Z"
   },
   {
    "duration": 12,
    "start_time": "2023-04-28T11:41:32.909Z"
   },
   {
    "duration": 142,
    "start_time": "2023-04-28T11:41:32.922Z"
   },
   {
    "duration": 4,
    "start_time": "2023-04-28T11:41:33.066Z"
   },
   {
    "duration": 28,
    "start_time": "2023-04-28T11:41:33.071Z"
   },
   {
    "duration": 10287,
    "start_time": "2023-04-28T11:41:33.102Z"
   },
   {
    "duration": 83010,
    "start_time": "2023-04-28T11:43:09.604Z"
   },
   {
    "duration": 3,
    "start_time": "2023-04-28T11:49:24.765Z"
   },
   {
    "duration": 3,
    "start_time": "2023-04-28T11:49:24.776Z"
   },
   {
    "duration": 143,
    "start_time": "2023-04-28T11:49:24.780Z"
   },
   {
    "duration": 13,
    "start_time": "2023-04-28T11:49:24.926Z"
   },
   {
    "duration": 24,
    "start_time": "2023-04-28T11:49:24.941Z"
   },
   {
    "duration": 43,
    "start_time": "2023-04-28T11:49:24.967Z"
   },
   {
    "duration": 5,
    "start_time": "2023-04-28T11:49:25.012Z"
   },
   {
    "duration": 20,
    "start_time": "2023-04-28T11:49:25.019Z"
   },
   {
    "duration": 19,
    "start_time": "2023-04-28T11:49:25.041Z"
   },
   {
    "duration": 4,
    "start_time": "2023-04-28T11:49:25.064Z"
   },
   {
    "duration": 20,
    "start_time": "2023-04-28T11:49:25.070Z"
   },
   {
    "duration": 43,
    "start_time": "2023-04-28T11:49:25.092Z"
   },
   {
    "duration": 5,
    "start_time": "2023-04-28T11:49:25.137Z"
   },
   {
    "duration": 10,
    "start_time": "2023-04-28T11:49:25.144Z"
   },
   {
    "duration": 15,
    "start_time": "2023-04-28T11:49:25.155Z"
   },
   {
    "duration": 19,
    "start_time": "2023-04-28T11:49:25.172Z"
   },
   {
    "duration": 3,
    "start_time": "2023-04-28T11:49:25.193Z"
   },
   {
    "duration": 14,
    "start_time": "2023-04-28T11:49:25.197Z"
   },
   {
    "duration": 5,
    "start_time": "2023-04-28T11:49:25.213Z"
   },
   {
    "duration": 4,
    "start_time": "2023-04-28T11:49:25.220Z"
   },
   {
    "duration": 24,
    "start_time": "2023-04-28T11:49:25.226Z"
   },
   {
    "duration": 53,
    "start_time": "2023-04-28T11:49:25.251Z"
   },
   {
    "duration": 17,
    "start_time": "2023-04-28T11:49:25.306Z"
   },
   {
    "duration": 3,
    "start_time": "2023-04-28T11:49:25.326Z"
   },
   {
    "duration": 12,
    "start_time": "2023-04-28T11:49:25.332Z"
   },
   {
    "duration": 6,
    "start_time": "2023-04-28T11:49:25.345Z"
   },
   {
    "duration": 12,
    "start_time": "2023-04-28T11:49:25.352Z"
   },
   {
    "duration": 1308,
    "start_time": "2023-04-28T11:49:25.366Z"
   },
   {
    "duration": 1289,
    "start_time": "2023-04-28T11:49:26.675Z"
   },
   {
    "duration": 7253,
    "start_time": "2023-04-28T11:49:27.965Z"
   },
   {
    "duration": 15414,
    "start_time": "2023-04-28T11:49:35.220Z"
   },
   {
    "duration": 11,
    "start_time": "2023-04-28T11:49:50.636Z"
   },
   {
    "duration": 251,
    "start_time": "2023-04-28T11:49:50.649Z"
   },
   {
    "duration": 4,
    "start_time": "2023-04-28T11:49:50.902Z"
   },
   {
    "duration": 13,
    "start_time": "2023-04-28T11:49:50.908Z"
   },
   {
    "duration": 77753,
    "start_time": "2023-04-28T11:49:50.923Z"
   },
   {
    "duration": 1628,
    "start_time": "2023-04-28T11:52:32.658Z"
   },
   {
    "duration": 111603,
    "start_time": "2023-04-28T11:53:10.513Z"
   },
   {
    "duration": 13,
    "start_time": "2023-04-28T11:56:19.811Z"
   },
   {
    "duration": 12948,
    "start_time": "2023-04-28T11:56:57.070Z"
   },
   {
    "duration": 12,
    "start_time": "2023-04-28T11:57:23.057Z"
   },
   {
    "duration": 4,
    "start_time": "2023-04-28T11:58:32.405Z"
   },
   {
    "duration": 97922,
    "start_time": "2023-04-28T11:59:14.186Z"
   },
   {
    "duration": 122,
    "start_time": "2023-04-28T12:02:47.825Z"
   },
   {
    "duration": 11,
    "start_time": "2023-04-28T12:03:21.143Z"
   },
   {
    "duration": 529,
    "start_time": "2023-04-28T12:04:51.283Z"
   },
   {
    "duration": 9646,
    "start_time": "2023-04-28T12:04:59.702Z"
   },
   {
    "duration": 16,
    "start_time": "2023-04-28T12:05:14.220Z"
   },
   {
    "duration": 2845,
    "start_time": "2023-04-28T12:06:03.736Z"
   },
   {
    "duration": 16,
    "start_time": "2023-04-28T12:06:11.415Z"
   },
   {
    "duration": 2741,
    "start_time": "2023-04-28T12:07:27.346Z"
   },
   {
    "duration": 1943,
    "start_time": "2023-04-28T12:07:45.616Z"
   },
   {
    "duration": 3285,
    "start_time": "2023-04-28T12:07:47.561Z"
   },
   {
    "duration": 12,
    "start_time": "2023-04-28T12:07:58.619Z"
   },
   {
    "duration": 3282,
    "start_time": "2023-04-28T12:08:30.469Z"
   },
   {
    "duration": 1436,
    "start_time": "2023-04-28T12:08:55.750Z"
   },
   {
    "duration": 3,
    "start_time": "2023-04-28T12:08:57.188Z"
   },
   {
    "duration": 86,
    "start_time": "2023-04-28T12:08:57.193Z"
   },
   {
    "duration": 18,
    "start_time": "2023-04-28T12:08:57.280Z"
   },
   {
    "duration": 13,
    "start_time": "2023-04-28T12:08:57.301Z"
   },
   {
    "duration": 45,
    "start_time": "2023-04-28T12:08:57.315Z"
   },
   {
    "duration": 26,
    "start_time": "2023-04-28T12:08:57.362Z"
   },
   {
    "duration": 12,
    "start_time": "2023-04-28T12:08:57.391Z"
   },
   {
    "duration": 11,
    "start_time": "2023-04-28T12:08:57.405Z"
   },
   {
    "duration": 4,
    "start_time": "2023-04-28T12:08:57.418Z"
   },
   {
    "duration": 12,
    "start_time": "2023-04-28T12:08:57.423Z"
   },
   {
    "duration": 5,
    "start_time": "2023-04-28T12:08:57.437Z"
   },
   {
    "duration": 42,
    "start_time": "2023-04-28T12:08:57.444Z"
   },
   {
    "duration": 13,
    "start_time": "2023-04-28T12:08:57.490Z"
   },
   {
    "duration": 11,
    "start_time": "2023-04-28T12:08:57.504Z"
   },
   {
    "duration": 21,
    "start_time": "2023-04-28T12:08:57.517Z"
   },
   {
    "duration": 13,
    "start_time": "2023-04-28T12:08:57.540Z"
   },
   {
    "duration": 39,
    "start_time": "2023-04-28T12:08:57.555Z"
   },
   {
    "duration": 4,
    "start_time": "2023-04-28T12:08:57.596Z"
   },
   {
    "duration": 10,
    "start_time": "2023-04-28T12:08:57.601Z"
   },
   {
    "duration": 17,
    "start_time": "2023-04-28T12:08:57.613Z"
   },
   {
    "duration": 28,
    "start_time": "2023-04-28T12:08:57.631Z"
   },
   {
    "duration": 40,
    "start_time": "2023-04-28T12:08:57.661Z"
   },
   {
    "duration": 3,
    "start_time": "2023-04-28T12:09:02.478Z"
   },
   {
    "duration": 3,
    "start_time": "2023-04-28T12:09:02.957Z"
   },
   {
    "duration": 6,
    "start_time": "2023-04-28T12:09:03.339Z"
   },
   {
    "duration": 8,
    "start_time": "2023-04-28T12:09:03.959Z"
   },
   {
    "duration": 129,
    "start_time": "2023-04-28T12:09:07.508Z"
   },
   {
    "duration": 116,
    "start_time": "2023-04-28T12:11:34.551Z"
   },
   {
    "duration": 1262,
    "start_time": "2023-04-28T12:11:36.958Z"
   },
   {
    "duration": 1645,
    "start_time": "2023-04-28T12:11:46.581Z"
   },
   {
    "duration": 2159,
    "start_time": "2023-04-28T12:12:10.781Z"
   },
   {
    "duration": 12,
    "start_time": "2023-04-28T12:12:37.159Z"
   },
   {
    "duration": 11,
    "start_time": "2023-04-28T12:13:02.080Z"
   },
   {
    "duration": 687,
    "start_time": "2023-04-28T12:18:39.448Z"
   },
   {
    "duration": 1617,
    "start_time": "2023-04-28T12:18:46.299Z"
   },
   {
    "duration": 2086,
    "start_time": "2023-04-28T12:19:10.945Z"
   },
   {
    "duration": 5051,
    "start_time": "2023-04-28T12:19:44.443Z"
   },
   {
    "duration": 14,
    "start_time": "2023-04-28T12:19:56.679Z"
   },
   {
    "duration": 1337,
    "start_time": "2023-04-28T12:20:17.931Z"
   },
   {
    "duration": 3,
    "start_time": "2023-04-28T12:20:19.270Z"
   },
   {
    "duration": 90,
    "start_time": "2023-04-28T12:20:19.275Z"
   },
   {
    "duration": 17,
    "start_time": "2023-04-28T12:20:19.367Z"
   },
   {
    "duration": 21,
    "start_time": "2023-04-28T12:20:19.386Z"
   },
   {
    "duration": 78,
    "start_time": "2023-04-28T12:20:19.409Z"
   },
   {
    "duration": 5,
    "start_time": "2023-04-28T12:20:19.488Z"
   },
   {
    "duration": 34,
    "start_time": "2023-04-28T12:20:19.495Z"
   },
   {
    "duration": 28,
    "start_time": "2023-04-28T12:20:19.530Z"
   },
   {
    "duration": 8,
    "start_time": "2023-04-28T12:20:19.561Z"
   },
   {
    "duration": 39,
    "start_time": "2023-04-28T12:20:19.571Z"
   },
   {
    "duration": 15,
    "start_time": "2023-04-28T12:20:19.611Z"
   },
   {
    "duration": 15,
    "start_time": "2023-04-28T12:20:19.627Z"
   },
   {
    "duration": 31,
    "start_time": "2023-04-28T12:20:19.643Z"
   },
   {
    "duration": 31,
    "start_time": "2023-04-28T12:20:19.676Z"
   },
   {
    "duration": 21,
    "start_time": "2023-04-28T12:20:19.709Z"
   },
   {
    "duration": 25,
    "start_time": "2023-04-28T12:20:19.732Z"
   },
   {
    "duration": 30,
    "start_time": "2023-04-28T12:20:19.759Z"
   },
   {
    "duration": 16,
    "start_time": "2023-04-28T12:20:19.791Z"
   },
   {
    "duration": 24,
    "start_time": "2023-04-28T12:20:19.809Z"
   },
   {
    "duration": 50,
    "start_time": "2023-04-28T12:20:19.835Z"
   },
   {
    "duration": 43,
    "start_time": "2023-04-28T12:20:19.886Z"
   },
   {
    "duration": 20,
    "start_time": "2023-04-28T12:20:19.931Z"
   },
   {
    "duration": 12,
    "start_time": "2023-04-28T12:20:19.952Z"
   },
   {
    "duration": 16,
    "start_time": "2023-04-28T12:20:19.966Z"
   },
   {
    "duration": 35,
    "start_time": "2023-04-28T12:20:19.984Z"
   },
   {
    "duration": 33,
    "start_time": "2023-04-28T12:20:20.021Z"
   },
   {
    "duration": 176,
    "start_time": "2023-04-28T12:20:20.057Z"
   },
   {
    "duration": 708,
    "start_time": "2023-04-28T12:20:20.235Z"
   },
   {
    "duration": 1671,
    "start_time": "2023-04-28T12:20:20.945Z"
   },
   {
    "duration": 2097,
    "start_time": "2023-04-28T12:20:22.618Z"
   },
   {
    "duration": 8284,
    "start_time": "2023-04-28T12:20:24.716Z"
   },
   {
    "duration": 12,
    "start_time": "2023-04-28T12:21:00.162Z"
   },
   {
    "duration": 115,
    "start_time": "2023-04-28T12:21:23.750Z"
   },
   {
    "duration": 5,
    "start_time": "2023-04-28T12:21:27.632Z"
   },
   {
    "duration": 13,
    "start_time": "2023-04-28T12:21:28.311Z"
   },
   {
    "duration": 122,
    "start_time": "2023-04-28T12:26:08.488Z"
   },
   {
    "duration": 13,
    "start_time": "2023-04-28T12:26:23.334Z"
   },
   {
    "duration": 162,
    "start_time": "2023-04-28T12:26:34.018Z"
   },
   {
    "duration": 13,
    "start_time": "2023-04-28T12:26:38.860Z"
   },
   {
    "duration": 121,
    "start_time": "2023-04-28T12:26:39.459Z"
   },
   {
    "duration": 1471,
    "start_time": "2023-04-28T12:27:32.009Z"
   },
   {
    "duration": 4,
    "start_time": "2023-04-28T12:27:33.483Z"
   },
   {
    "duration": 70,
    "start_time": "2023-04-28T12:27:33.489Z"
   },
   {
    "duration": 16,
    "start_time": "2023-04-28T12:27:33.561Z"
   },
   {
    "duration": 12,
    "start_time": "2023-04-28T12:27:33.580Z"
   },
   {
    "duration": 44,
    "start_time": "2023-04-28T12:27:33.594Z"
   },
   {
    "duration": 5,
    "start_time": "2023-04-28T12:27:33.639Z"
   },
   {
    "duration": 9,
    "start_time": "2023-04-28T12:27:33.646Z"
   },
   {
    "duration": 34,
    "start_time": "2023-04-28T12:27:33.657Z"
   },
   {
    "duration": 4,
    "start_time": "2023-04-28T12:27:33.692Z"
   },
   {
    "duration": 17,
    "start_time": "2023-04-28T12:27:33.698Z"
   },
   {
    "duration": 8,
    "start_time": "2023-04-28T12:27:33.716Z"
   },
   {
    "duration": 6,
    "start_time": "2023-04-28T12:27:33.725Z"
   },
   {
    "duration": 9,
    "start_time": "2023-04-28T12:27:33.734Z"
   },
   {
    "duration": 41,
    "start_time": "2023-04-28T12:27:33.744Z"
   },
   {
    "duration": 19,
    "start_time": "2023-04-28T12:27:33.787Z"
   },
   {
    "duration": 6,
    "start_time": "2023-04-28T12:27:33.808Z"
   },
   {
    "duration": 17,
    "start_time": "2023-04-28T12:27:33.816Z"
   },
   {
    "duration": 5,
    "start_time": "2023-04-28T12:27:33.834Z"
   },
   {
    "duration": 4,
    "start_time": "2023-04-28T12:27:33.841Z"
   },
   {
    "duration": 45,
    "start_time": "2023-04-28T12:27:33.847Z"
   },
   {
    "duration": 34,
    "start_time": "2023-04-28T12:27:33.893Z"
   },
   {
    "duration": 18,
    "start_time": "2023-04-28T12:27:33.929Z"
   },
   {
    "duration": 3,
    "start_time": "2023-04-28T12:27:33.949Z"
   },
   {
    "duration": 31,
    "start_time": "2023-04-28T12:27:33.954Z"
   },
   {
    "duration": 6,
    "start_time": "2023-04-28T12:27:33.987Z"
   },
   {
    "duration": 9,
    "start_time": "2023-04-28T12:27:33.995Z"
   },
   {
    "duration": 142,
    "start_time": "2023-04-28T12:27:34.006Z"
   },
   {
    "duration": 702,
    "start_time": "2023-04-28T12:27:34.150Z"
   },
   {
    "duration": 1598,
    "start_time": "2023-04-28T12:27:34.854Z"
   },
   {
    "duration": 2082,
    "start_time": "2023-04-28T12:27:36.454Z"
   },
   {
    "duration": 5470,
    "start_time": "2023-04-28T12:27:38.537Z"
   },
   {
    "duration": 14,
    "start_time": "2023-04-28T12:27:44.009Z"
   },
   {
    "duration": 204,
    "start_time": "2023-04-28T12:27:44.026Z"
   },
   {
    "duration": 4,
    "start_time": "2023-04-28T12:27:44.232Z"
   },
   {
    "duration": 11,
    "start_time": "2023-04-28T12:28:53.127Z"
   },
   {
    "duration": 122,
    "start_time": "2023-04-28T12:28:59.775Z"
   },
   {
    "duration": 4,
    "start_time": "2023-04-28T12:29:03.618Z"
   },
   {
    "duration": 11,
    "start_time": "2023-04-28T12:29:04.537Z"
   },
   {
    "duration": 247,
    "start_time": "2023-04-28T12:29:13.029Z"
   },
   {
    "duration": 157,
    "start_time": "2023-04-28T12:30:38.254Z"
   },
   {
    "duration": 4,
    "start_time": "2023-04-28T12:31:40.820Z"
   },
   {
    "duration": 4,
    "start_time": "2023-04-28T12:38:13.049Z"
   },
   {
    "duration": 4,
    "start_time": "2023-04-28T12:38:45.116Z"
   },
   {
    "duration": 10,
    "start_time": "2023-04-28T12:38:48.748Z"
   },
   {
    "duration": 4,
    "start_time": "2023-04-28T12:39:12.551Z"
   },
   {
    "duration": 9,
    "start_time": "2023-04-28T12:39:16.199Z"
   },
   {
    "duration": 5,
    "start_time": "2023-04-28T12:40:03.880Z"
   },
   {
    "duration": 155,
    "start_time": "2023-04-28T12:40:25.894Z"
   },
   {
    "duration": 50,
    "start_time": "2023-04-28T12:47:01.385Z"
   },
   {
    "duration": 53,
    "start_time": "2023-04-28T12:47:14.683Z"
   },
   {
    "duration": 47,
    "start_time": "2023-04-28T12:47:40.026Z"
   },
   {
    "duration": 169,
    "start_time": "2023-04-28T12:49:13.487Z"
   },
   {
    "duration": 163,
    "start_time": "2023-04-28T12:49:47.382Z"
   },
   {
    "duration": 165,
    "start_time": "2023-04-28T12:50:05.383Z"
   },
   {
    "duration": 169,
    "start_time": "2023-04-28T12:50:33.077Z"
   },
   {
    "duration": 117,
    "start_time": "2023-04-28T12:53:28.666Z"
   },
   {
    "duration": 1401,
    "start_time": "2023-04-28T12:54:33.813Z"
   },
   {
    "duration": 3,
    "start_time": "2023-04-28T12:54:35.216Z"
   },
   {
    "duration": 148,
    "start_time": "2023-04-28T12:54:35.221Z"
   },
   {
    "duration": 16,
    "start_time": "2023-04-28T12:54:35.370Z"
   },
   {
    "duration": 11,
    "start_time": "2023-04-28T12:54:35.389Z"
   },
   {
    "duration": 42,
    "start_time": "2023-04-28T12:54:35.402Z"
   },
   {
    "duration": 5,
    "start_time": "2023-04-28T12:54:35.446Z"
   },
   {
    "duration": 25,
    "start_time": "2023-04-28T12:54:35.453Z"
   },
   {
    "duration": 14,
    "start_time": "2023-04-28T12:54:35.480Z"
   },
   {
    "duration": 4,
    "start_time": "2023-04-28T12:54:35.495Z"
   },
   {
    "duration": 13,
    "start_time": "2023-04-28T12:54:35.501Z"
   },
   {
    "duration": 6,
    "start_time": "2023-04-28T12:54:35.515Z"
   },
   {
    "duration": 5,
    "start_time": "2023-04-28T12:54:35.522Z"
   },
   {
    "duration": 11,
    "start_time": "2023-04-28T12:54:35.529Z"
   },
   {
    "duration": 45,
    "start_time": "2023-04-28T12:54:35.542Z"
   },
   {
    "duration": 23,
    "start_time": "2023-04-28T12:54:35.589Z"
   },
   {
    "duration": 10,
    "start_time": "2023-04-28T12:54:35.614Z"
   },
   {
    "duration": 17,
    "start_time": "2023-04-28T12:54:35.625Z"
   },
   {
    "duration": 3,
    "start_time": "2023-04-28T12:54:35.644Z"
   },
   {
    "duration": 5,
    "start_time": "2023-04-28T12:54:35.649Z"
   },
   {
    "duration": 37,
    "start_time": "2023-04-28T12:54:35.655Z"
   },
   {
    "duration": 28,
    "start_time": "2023-04-28T12:54:35.694Z"
   },
   {
    "duration": 17,
    "start_time": "2023-04-28T12:54:35.724Z"
   },
   {
    "duration": 3,
    "start_time": "2023-04-28T12:54:35.743Z"
   },
   {
    "duration": 5,
    "start_time": "2023-04-28T12:54:35.748Z"
   },
   {
    "duration": 36,
    "start_time": "2023-04-28T12:54:35.754Z"
   },
   {
    "duration": 7,
    "start_time": "2023-04-28T12:54:35.792Z"
   },
   {
    "duration": 144,
    "start_time": "2023-04-28T12:54:35.801Z"
   },
   {
    "duration": 658,
    "start_time": "2023-04-28T12:54:35.946Z"
   },
   {
    "duration": 1587,
    "start_time": "2023-04-28T12:54:36.605Z"
   },
   {
    "duration": 1995,
    "start_time": "2023-04-28T12:54:38.194Z"
   },
   {
    "duration": 6001,
    "start_time": "2023-04-28T12:54:40.190Z"
   },
   {
    "duration": 11,
    "start_time": "2023-04-28T12:54:46.193Z"
   },
   {
    "duration": 124,
    "start_time": "2023-04-28T12:54:46.206Z"
   },
   {
    "duration": 4,
    "start_time": "2023-04-28T12:54:46.332Z"
   },
   {
    "duration": 122,
    "start_time": "2023-04-28T12:55:00.282Z"
   },
   {
    "duration": 4,
    "start_time": "2023-04-28T12:55:03.786Z"
   },
   {
    "duration": 10,
    "start_time": "2023-04-28T12:55:04.379Z"
   },
   {
    "duration": 112,
    "start_time": "2023-04-28T12:55:05.309Z"
   },
   {
    "duration": 153,
    "start_time": "2023-04-28T12:55:18.758Z"
   },
   {
    "duration": 130,
    "start_time": "2023-04-28T12:57:43.608Z"
   },
   {
    "duration": 2009,
    "start_time": "2023-04-28T12:59:24.416Z"
   },
   {
    "duration": 3474,
    "start_time": "2023-04-28T12:59:26.428Z"
   },
   {
    "duration": 1949,
    "start_time": "2023-04-28T13:00:46.880Z"
   },
   {
    "duration": 1993,
    "start_time": "2023-04-28T13:01:40.019Z"
   },
   {
    "duration": 3499,
    "start_time": "2023-04-28T13:01:43.420Z"
   },
   {
    "duration": 11,
    "start_time": "2023-04-28T13:01:52.623Z"
   },
   {
    "duration": 788,
    "start_time": "2023-04-28T13:02:52.384Z"
   },
   {
    "duration": 2590,
    "start_time": "2023-04-28T13:03:03.306Z"
   },
   {
    "duration": 4558,
    "start_time": "2023-04-28T13:03:17.878Z"
   },
   {
    "duration": 12125,
    "start_time": "2023-04-28T13:03:31.637Z"
   },
   {
    "duration": 13,
    "start_time": "2023-04-28T13:03:51.014Z"
   },
   {
    "duration": 3289,
    "start_time": "2023-04-28T13:04:15.661Z"
   },
   {
    "duration": 12,
    "start_time": "2023-04-28T13:04:18.952Z"
   },
   {
    "duration": 3,
    "start_time": "2023-04-28T13:04:40.381Z"
   },
   {
    "duration": 114,
    "start_time": "2023-04-28T13:04:47.226Z"
   },
   {
    "duration": 4646,
    "start_time": "2023-04-28T13:05:04.759Z"
   },
   {
    "duration": 3254,
    "start_time": "2023-04-28T13:05:13.013Z"
   },
   {
    "duration": 12,
    "start_time": "2023-04-28T13:05:23.214Z"
   },
   {
    "duration": 1352,
    "start_time": "2023-04-28T13:05:48.922Z"
   },
   {
    "duration": 3,
    "start_time": "2023-04-28T13:05:50.277Z"
   },
   {
    "duration": 76,
    "start_time": "2023-04-28T13:05:50.285Z"
   },
   {
    "duration": 17,
    "start_time": "2023-04-28T13:05:50.363Z"
   },
   {
    "duration": 12,
    "start_time": "2023-04-28T13:05:50.383Z"
   },
   {
    "duration": 42,
    "start_time": "2023-04-28T13:05:50.396Z"
   },
   {
    "duration": 6,
    "start_time": "2023-04-28T13:05:50.440Z"
   },
   {
    "duration": 8,
    "start_time": "2023-04-28T13:05:50.449Z"
   },
   {
    "duration": 40,
    "start_time": "2023-04-28T13:05:50.459Z"
   },
   {
    "duration": 4,
    "start_time": "2023-04-28T13:05:50.501Z"
   },
   {
    "duration": 18,
    "start_time": "2023-04-28T13:05:50.507Z"
   },
   {
    "duration": 6,
    "start_time": "2023-04-28T13:05:50.527Z"
   },
   {
    "duration": 4,
    "start_time": "2023-04-28T13:05:50.535Z"
   },
   {
    "duration": 9,
    "start_time": "2023-04-28T13:05:50.542Z"
   },
   {
    "duration": 11,
    "start_time": "2023-04-28T13:05:50.585Z"
   },
   {
    "duration": 21,
    "start_time": "2023-04-28T13:05:50.598Z"
   },
   {
    "duration": 3,
    "start_time": "2023-04-28T13:05:50.621Z"
   },
   {
    "duration": 16,
    "start_time": "2023-04-28T13:05:50.625Z"
   },
   {
    "duration": 4,
    "start_time": "2023-04-28T13:05:50.643Z"
   },
   {
    "duration": 15,
    "start_time": "2023-04-28T13:05:50.649Z"
   },
   {
    "duration": 34,
    "start_time": "2023-04-28T13:05:50.666Z"
   },
   {
    "duration": 41,
    "start_time": "2023-04-28T13:05:50.702Z"
   },
   {
    "duration": 48,
    "start_time": "2023-04-28T13:05:50.746Z"
   },
   {
    "duration": 4,
    "start_time": "2023-04-28T13:05:50.796Z"
   },
   {
    "duration": 13,
    "start_time": "2023-04-28T13:05:50.802Z"
   },
   {
    "duration": 8,
    "start_time": "2023-04-28T13:05:50.818Z"
   },
   {
    "duration": 15,
    "start_time": "2023-04-28T13:05:50.828Z"
   },
   {
    "duration": 156,
    "start_time": "2023-04-28T13:05:50.844Z"
   },
   {
    "duration": 687,
    "start_time": "2023-04-28T13:05:51.002Z"
   },
   {
    "duration": 1679,
    "start_time": "2023-04-28T13:05:51.691Z"
   },
   {
    "duration": 2115,
    "start_time": "2023-04-28T13:05:53.372Z"
   },
   {
    "duration": 8315,
    "start_time": "2023-04-28T13:05:55.489Z"
   },
   {
    "duration": 13,
    "start_time": "2023-04-28T13:06:03.806Z"
   },
   {
    "duration": 150,
    "start_time": "2023-04-28T13:06:03.821Z"
   },
   {
    "duration": 137,
    "start_time": "2023-04-28T13:06:33.688Z"
   },
   {
    "duration": 4,
    "start_time": "2023-04-28T13:06:36.938Z"
   },
   {
    "duration": 10,
    "start_time": "2023-04-28T13:06:38.726Z"
   },
   {
    "duration": 1969,
    "start_time": "2023-04-28T13:06:40.638Z"
   },
   {
    "duration": 167,
    "start_time": "2023-04-28T13:06:47.035Z"
   },
   {
    "duration": 4698,
    "start_time": "2023-04-28T13:07:22.257Z"
   },
   {
    "duration": 3377,
    "start_time": "2023-04-28T13:07:35.733Z"
   },
   {
    "duration": 16,
    "start_time": "2023-04-28T13:07:43.483Z"
   },
   {
    "duration": 9,
    "start_time": "2023-04-28T13:12:34.131Z"
   },
   {
    "duration": 133,
    "start_time": "2023-04-28T13:12:36.441Z"
   },
   {
    "duration": 202,
    "start_time": "2023-04-28T13:12:38.967Z"
   },
   {
    "duration": 1353,
    "start_time": "2023-04-28T13:14:02.123Z"
   },
   {
    "duration": 8,
    "start_time": "2023-04-28T13:14:03.478Z"
   },
   {
    "duration": 76,
    "start_time": "2023-04-28T13:14:03.488Z"
   },
   {
    "duration": 17,
    "start_time": "2023-04-28T13:14:03.565Z"
   },
   {
    "duration": 13,
    "start_time": "2023-04-28T13:14:03.584Z"
   },
   {
    "duration": 45,
    "start_time": "2023-04-28T13:14:03.599Z"
   },
   {
    "duration": 5,
    "start_time": "2023-04-28T13:14:03.646Z"
   },
   {
    "duration": 34,
    "start_time": "2023-04-28T13:14:03.653Z"
   },
   {
    "duration": 14,
    "start_time": "2023-04-28T13:14:03.689Z"
   },
   {
    "duration": 4,
    "start_time": "2023-04-28T13:14:03.705Z"
   },
   {
    "duration": 15,
    "start_time": "2023-04-28T13:14:03.711Z"
   },
   {
    "duration": 8,
    "start_time": "2023-04-28T13:14:03.729Z"
   },
   {
    "duration": 5,
    "start_time": "2023-04-28T13:14:03.739Z"
   },
   {
    "duration": 11,
    "start_time": "2023-04-28T13:14:03.788Z"
   },
   {
    "duration": 18,
    "start_time": "2023-04-28T13:14:03.801Z"
   },
   {
    "duration": 24,
    "start_time": "2023-04-28T13:14:03.821Z"
   },
   {
    "duration": 3,
    "start_time": "2023-04-28T13:14:03.847Z"
   },
   {
    "duration": 41,
    "start_time": "2023-04-28T13:14:03.852Z"
   },
   {
    "duration": 4,
    "start_time": "2023-04-28T13:14:03.895Z"
   },
   {
    "duration": 9,
    "start_time": "2023-04-28T13:14:03.900Z"
   },
   {
    "duration": 20,
    "start_time": "2023-04-28T13:14:03.911Z"
   },
   {
    "duration": 61,
    "start_time": "2023-04-28T13:14:03.934Z"
   },
   {
    "duration": 24,
    "start_time": "2023-04-28T13:14:03.998Z"
   },
   {
    "duration": 5,
    "start_time": "2023-04-28T13:14:04.026Z"
   },
   {
    "duration": 11,
    "start_time": "2023-04-28T13:14:04.033Z"
   },
   {
    "duration": 7,
    "start_time": "2023-04-28T13:14:04.046Z"
   },
   {
    "duration": 6,
    "start_time": "2023-04-28T13:14:07.629Z"
   },
   {
    "duration": 9,
    "start_time": "2023-04-28T13:14:08.091Z"
   },
   {
    "duration": 142,
    "start_time": "2023-04-28T13:14:09.584Z"
   },
   {
    "duration": 192,
    "start_time": "2023-04-28T13:14:11.785Z"
   },
   {
    "duration": 11,
    "start_time": "2023-04-28T13:22:20.730Z"
   },
   {
    "duration": 119,
    "start_time": "2023-04-28T13:22:22.277Z"
   },
   {
    "duration": 77,
    "start_time": "2023-04-28T13:22:24.757Z"
   },
   {
    "duration": 6,
    "start_time": "2023-04-28T13:23:08.017Z"
   },
   {
    "duration": 122,
    "start_time": "2023-04-28T13:23:09.522Z"
   },
   {
    "duration": 89,
    "start_time": "2023-04-28T13:23:11.153Z"
   },
   {
    "duration": 8,
    "start_time": "2023-04-28T13:23:43.024Z"
   },
   {
    "duration": 119,
    "start_time": "2023-04-28T13:23:44.622Z"
   },
   {
    "duration": 108,
    "start_time": "2023-04-28T13:23:47.421Z"
   },
   {
    "duration": 90,
    "start_time": "2023-04-28T13:25:27.547Z"
   },
   {
    "duration": 140,
    "start_time": "2023-04-28T13:25:28.471Z"
   },
   {
    "duration": 79,
    "start_time": "2023-04-28T13:25:31.239Z"
   },
   {
    "duration": 7,
    "start_time": "2023-04-28T13:26:57.333Z"
   },
   {
    "duration": 115,
    "start_time": "2023-04-28T13:26:58.542Z"
   },
   {
    "duration": 729,
    "start_time": "2023-04-28T13:27:00.841Z"
   },
   {
    "duration": 1835,
    "start_time": "2023-04-28T13:27:12.438Z"
   },
   {
    "duration": 2610,
    "start_time": "2023-04-28T13:27:22.457Z"
   },
   {
    "duration": 7646,
    "start_time": "2023-04-28T13:27:34.758Z"
   },
   {
    "duration": 11,
    "start_time": "2023-04-28T13:28:18.023Z"
   },
   {
    "duration": 3,
    "start_time": "2023-04-28T13:28:52.817Z"
   },
   {
    "duration": 4,
    "start_time": "2023-04-28T13:28:53.087Z"
   },
   {
    "duration": 5,
    "start_time": "2023-04-28T13:28:53.353Z"
   },
   {
    "duration": 7,
    "start_time": "2023-04-28T13:28:53.748Z"
   },
   {
    "duration": 121,
    "start_time": "2023-04-28T13:28:55.350Z"
   },
   {
    "duration": 672,
    "start_time": "2023-04-28T13:29:47.183Z"
   },
   {
    "duration": 1724,
    "start_time": "2023-04-28T13:29:51.628Z"
   },
   {
    "duration": 2506,
    "start_time": "2023-04-28T13:29:54.634Z"
   },
   {
    "duration": 7624,
    "start_time": "2023-04-28T13:30:06.219Z"
   },
   {
    "duration": 11,
    "start_time": "2023-04-28T13:30:13.845Z"
   },
   {
    "duration": 99,
    "start_time": "2023-04-28T13:39:51.529Z"
   },
   {
    "duration": 56,
    "start_time": "2023-04-28T13:40:16.230Z"
   },
   {
    "duration": 9,
    "start_time": "2023-04-28T13:41:03.956Z"
   },
   {
    "duration": 127,
    "start_time": "2023-04-28T13:41:05.267Z"
   },
   {
    "duration": 516,
    "start_time": "2023-04-28T13:41:08.586Z"
   },
   {
    "duration": 8,
    "start_time": "2023-04-28T13:42:45.177Z"
   },
   {
    "duration": 408,
    "start_time": "2023-04-28T13:42:46.149Z"
   },
   {
    "duration": 580,
    "start_time": "2023-04-28T13:42:48.268Z"
   },
   {
    "duration": 51,
    "start_time": "2023-04-28T13:47:11.212Z"
   },
   {
    "duration": 8,
    "start_time": "2023-04-28T13:47:27.712Z"
   },
   {
    "duration": 120,
    "start_time": "2023-04-28T13:47:29.223Z"
   },
   {
    "duration": 578,
    "start_time": "2023-04-28T13:47:32.469Z"
   },
   {
    "duration": 9,
    "start_time": "2023-04-28T13:47:59.423Z"
   },
   {
    "duration": 133,
    "start_time": "2023-04-28T13:48:00.458Z"
   },
   {
    "duration": 787,
    "start_time": "2023-04-28T13:48:03.810Z"
   },
   {
    "duration": 1748,
    "start_time": "2023-04-28T13:48:07.628Z"
   },
   {
    "duration": 2461,
    "start_time": "2023-04-28T13:48:11.222Z"
   },
   {
    "duration": 7949,
    "start_time": "2023-04-28T13:48:22.052Z"
   },
   {
    "duration": 14,
    "start_time": "2023-04-28T13:48:30.002Z"
   },
   {
    "duration": 1433,
    "start_time": "2023-04-28T13:49:38.368Z"
   },
   {
    "duration": 3,
    "start_time": "2023-04-28T13:49:39.803Z"
   },
   {
    "duration": 79,
    "start_time": "2023-04-28T13:49:39.807Z"
   },
   {
    "duration": 17,
    "start_time": "2023-04-28T13:49:39.889Z"
   },
   {
    "duration": 14,
    "start_time": "2023-04-28T13:49:39.907Z"
   },
   {
    "duration": 43,
    "start_time": "2023-04-28T13:49:39.923Z"
   },
   {
    "duration": 18,
    "start_time": "2023-04-28T13:49:39.968Z"
   },
   {
    "duration": 7,
    "start_time": "2023-04-28T13:49:39.988Z"
   },
   {
    "duration": 10,
    "start_time": "2023-04-28T13:49:39.997Z"
   },
   {
    "duration": 8,
    "start_time": "2023-04-28T13:49:40.009Z"
   },
   {
    "duration": 15,
    "start_time": "2023-04-28T13:49:40.019Z"
   },
   {
    "duration": 5,
    "start_time": "2023-04-28T13:49:40.035Z"
   },
   {
    "duration": 10,
    "start_time": "2023-04-28T13:49:40.043Z"
   },
   {
    "duration": 35,
    "start_time": "2023-04-28T13:49:40.054Z"
   },
   {
    "duration": 9,
    "start_time": "2023-04-28T13:49:40.091Z"
   },
   {
    "duration": 19,
    "start_time": "2023-04-28T13:49:40.102Z"
   },
   {
    "duration": 6,
    "start_time": "2023-04-28T13:49:40.122Z"
   },
   {
    "duration": 12,
    "start_time": "2023-04-28T13:49:40.130Z"
   },
   {
    "duration": 4,
    "start_time": "2023-04-28T13:49:40.143Z"
   },
   {
    "duration": 36,
    "start_time": "2023-04-28T13:49:40.149Z"
   },
   {
    "duration": 16,
    "start_time": "2023-04-28T13:49:40.187Z"
   },
   {
    "duration": 27,
    "start_time": "2023-04-28T13:49:40.205Z"
   },
   {
    "duration": 18,
    "start_time": "2023-04-28T13:49:40.234Z"
   },
   {
    "duration": 31,
    "start_time": "2023-04-28T13:49:40.254Z"
   },
   {
    "duration": 5,
    "start_time": "2023-04-28T13:49:40.287Z"
   },
   {
    "duration": 8,
    "start_time": "2023-04-28T13:49:40.293Z"
   },
   {
    "duration": 9,
    "start_time": "2023-04-28T13:49:40.302Z"
   },
   {
    "duration": 154,
    "start_time": "2023-04-28T13:49:40.312Z"
   },
   {
    "duration": 720,
    "start_time": "2023-04-28T13:49:40.468Z"
   },
   {
    "duration": 1679,
    "start_time": "2023-04-28T13:49:41.190Z"
   },
   {
    "duration": 2475,
    "start_time": "2023-04-28T13:49:42.871Z"
   },
   {
    "duration": 7349,
    "start_time": "2023-04-28T13:49:45.348Z"
   },
   {
    "duration": 14,
    "start_time": "2023-04-28T13:49:52.698Z"
   },
   {
    "duration": 8,
    "start_time": "2023-04-28T13:56:42.663Z"
   },
   {
    "duration": 123,
    "start_time": "2023-04-28T13:56:43.418Z"
   },
   {
    "duration": 720,
    "start_time": "2023-04-28T13:56:46.168Z"
   },
   {
    "duration": 1674,
    "start_time": "2023-04-28T13:56:47.806Z"
   },
   {
    "duration": 2528,
    "start_time": "2023-04-28T13:56:49.485Z"
   },
   {
    "duration": 7603,
    "start_time": "2023-04-28T13:56:52.015Z"
   },
   {
    "duration": 13,
    "start_time": "2023-04-28T13:56:59.620Z"
   },
   {
    "duration": 8,
    "start_time": "2023-04-28T13:57:44.958Z"
   },
   {
    "duration": 117,
    "start_time": "2023-04-28T13:57:45.997Z"
   },
   {
    "duration": 679,
    "start_time": "2023-04-28T13:57:47.397Z"
   },
   {
    "duration": 1748,
    "start_time": "2023-04-28T13:57:48.348Z"
   },
   {
    "duration": 2473,
    "start_time": "2023-04-28T13:57:50.098Z"
   },
   {
    "duration": 6845,
    "start_time": "2023-04-28T13:57:52.573Z"
   },
   {
    "duration": 14,
    "start_time": "2023-04-28T13:57:59.420Z"
   },
   {
    "duration": 3,
    "start_time": "2023-04-28T13:58:18.980Z"
   },
   {
    "duration": 3,
    "start_time": "2023-04-28T13:58:19.228Z"
   },
   {
    "duration": 7,
    "start_time": "2023-04-28T13:58:19.444Z"
   },
   {
    "duration": 7,
    "start_time": "2023-04-28T13:58:19.648Z"
   },
   {
    "duration": 121,
    "start_time": "2023-04-28T13:58:20.148Z"
   },
   {
    "duration": 707,
    "start_time": "2023-04-28T13:58:20.875Z"
   },
   {
    "duration": 1673,
    "start_time": "2023-04-28T13:58:21.584Z"
   },
   {
    "duration": 2548,
    "start_time": "2023-04-28T13:58:23.259Z"
   },
   {
    "duration": 6991,
    "start_time": "2023-04-28T13:58:25.809Z"
   },
   {
    "duration": 15,
    "start_time": "2023-04-28T13:58:32.802Z"
   },
   {
    "duration": 124,
    "start_time": "2023-04-28T14:00:13.770Z"
   },
   {
    "duration": 14,
    "start_time": "2023-04-28T14:00:31.966Z"
   },
   {
    "duration": 13,
    "start_time": "2023-04-28T14:00:35.200Z"
   },
   {
    "duration": 11,
    "start_time": "2023-04-28T14:01:42.239Z"
   },
   {
    "duration": 12,
    "start_time": "2023-04-28T14:01:46.661Z"
   },
   {
    "duration": 118,
    "start_time": "2023-04-28T14:02:01.125Z"
   },
   {
    "duration": 695,
    "start_time": "2023-04-28T14:02:01.368Z"
   },
   {
    "duration": 1688,
    "start_time": "2023-04-28T14:02:02.065Z"
   },
   {
    "duration": 2515,
    "start_time": "2023-04-28T14:02:03.755Z"
   },
   {
    "duration": 7125,
    "start_time": "2023-04-28T14:02:06.273Z"
   },
   {
    "duration": 13,
    "start_time": "2023-04-28T14:02:13.399Z"
   },
   {
    "duration": 15,
    "start_time": "2023-04-28T14:02:14.417Z"
   },
   {
    "duration": 13,
    "start_time": "2023-04-28T14:02:31.308Z"
   },
   {
    "duration": 122,
    "start_time": "2023-04-28T14:03:04.126Z"
   },
   {
    "duration": 4,
    "start_time": "2023-04-28T14:03:07.014Z"
   },
   {
    "duration": 9,
    "start_time": "2023-04-28T14:03:07.952Z"
   },
   {
    "duration": 2020,
    "start_time": "2023-04-28T14:03:09.633Z"
   },
   {
    "duration": 10,
    "start_time": "2023-04-28T14:03:22.144Z"
   },
   {
    "duration": 1413,
    "start_time": "2023-04-28T14:03:57.770Z"
   },
   {
    "duration": 3,
    "start_time": "2023-04-28T14:03:59.185Z"
   },
   {
    "duration": 141,
    "start_time": "2023-04-28T14:03:59.190Z"
   },
   {
    "duration": 16,
    "start_time": "2023-04-28T14:03:59.333Z"
   },
   {
    "duration": 12,
    "start_time": "2023-04-28T14:03:59.351Z"
   },
   {
    "duration": 39,
    "start_time": "2023-04-28T14:03:59.364Z"
   },
   {
    "duration": 5,
    "start_time": "2023-04-28T14:03:59.405Z"
   },
   {
    "duration": 9,
    "start_time": "2023-04-28T14:03:59.411Z"
   },
   {
    "duration": 12,
    "start_time": "2023-04-28T14:03:59.421Z"
   },
   {
    "duration": 4,
    "start_time": "2023-04-28T14:03:59.435Z"
   },
   {
    "duration": 16,
    "start_time": "2023-04-28T14:03:59.440Z"
   },
   {
    "duration": 31,
    "start_time": "2023-04-28T14:03:59.457Z"
   },
   {
    "duration": 5,
    "start_time": "2023-04-28T14:03:59.490Z"
   },
   {
    "duration": 9,
    "start_time": "2023-04-28T14:03:59.499Z"
   },
   {
    "duration": 12,
    "start_time": "2023-04-28T14:03:59.509Z"
   },
   {
    "duration": 18,
    "start_time": "2023-04-28T14:03:59.522Z"
   },
   {
    "duration": 3,
    "start_time": "2023-04-28T14:03:59.542Z"
   },
   {
    "duration": 47,
    "start_time": "2023-04-28T14:03:59.546Z"
   },
   {
    "duration": 5,
    "start_time": "2023-04-28T14:03:59.595Z"
   },
   {
    "duration": 8,
    "start_time": "2023-04-28T14:03:59.602Z"
   },
   {
    "duration": 18,
    "start_time": "2023-04-28T14:03:59.612Z"
   },
   {
    "duration": 28,
    "start_time": "2023-04-28T14:03:59.631Z"
   },
   {
    "duration": 40,
    "start_time": "2023-04-28T14:03:59.660Z"
   },
   {
    "duration": 3,
    "start_time": "2023-04-28T14:03:59.702Z"
   },
   {
    "duration": 5,
    "start_time": "2023-04-28T14:03:59.706Z"
   },
   {
    "duration": 6,
    "start_time": "2023-04-28T14:03:59.712Z"
   },
   {
    "duration": 11,
    "start_time": "2023-04-28T14:03:59.719Z"
   },
   {
    "duration": 144,
    "start_time": "2023-04-28T14:03:59.731Z"
   },
   {
    "duration": 745,
    "start_time": "2023-04-28T14:03:59.877Z"
   },
   {
    "duration": 1807,
    "start_time": "2023-04-28T14:04:00.624Z"
   },
   {
    "duration": 2544,
    "start_time": "2023-04-28T14:04:02.433Z"
   },
   {
    "duration": 7032,
    "start_time": "2023-04-28T14:04:04.978Z"
   },
   {
    "duration": 12,
    "start_time": "2023-04-28T14:04:12.012Z"
   },
   {
    "duration": 146,
    "start_time": "2023-04-28T14:04:12.026Z"
   },
   {
    "duration": 5,
    "start_time": "2023-04-28T14:04:12.173Z"
   },
   {
    "duration": 100,
    "start_time": "2023-04-28T14:04:35.310Z"
   },
   {
    "duration": 1697,
    "start_time": "2023-04-28T14:05:35.670Z"
   },
   {
    "duration": 2544,
    "start_time": "2023-04-28T14:05:40.966Z"
   },
   {
    "duration": 13,
    "start_time": "2023-04-28T14:05:50.622Z"
   },
   {
    "duration": 2734,
    "start_time": "2023-04-28T14:07:12.377Z"
   },
   {
    "duration": 127,
    "start_time": "2023-04-28T14:07:44.867Z"
   },
   {
    "duration": 5,
    "start_time": "2023-04-28T14:07:48.541Z"
   },
   {
    "duration": 11,
    "start_time": "2023-04-28T14:07:48.920Z"
   },
   {
    "duration": 2197,
    "start_time": "2023-04-28T14:07:49.742Z"
   },
   {
    "duration": 174,
    "start_time": "2023-04-28T14:07:57.757Z"
   },
   {
    "duration": 2751,
    "start_time": "2023-04-28T14:08:05.915Z"
   },
   {
    "duration": 122,
    "start_time": "2023-04-28T14:08:55.505Z"
   },
   {
    "duration": 2129,
    "start_time": "2023-04-28T14:08:56.431Z"
   },
   {
    "duration": 2598,
    "start_time": "2023-04-28T14:09:20.427Z"
   },
   {
    "duration": 12,
    "start_time": "2023-04-28T14:09:23.028Z"
   },
   {
    "duration": 7,
    "start_time": "2023-04-28T14:16:44.668Z"
   },
   {
    "duration": 118,
    "start_time": "2023-04-28T14:16:45.641Z"
   },
   {
    "duration": 809,
    "start_time": "2023-04-28T14:16:46.343Z"
   },
   {
    "duration": 2184,
    "start_time": "2023-04-28T14:16:47.155Z"
   },
   {
    "duration": 2655,
    "start_time": "2023-04-28T14:16:49.341Z"
   },
   {
    "duration": 7232,
    "start_time": "2023-04-28T14:16:51.998Z"
   },
   {
    "duration": 16,
    "start_time": "2023-04-28T14:16:59.233Z"
   },
   {
    "duration": 1397,
    "start_time": "2023-04-28T14:17:15.165Z"
   },
   {
    "duration": 3,
    "start_time": "2023-04-28T14:17:16.564Z"
   },
   {
    "duration": 229,
    "start_time": "2023-04-28T14:17:16.569Z"
   },
   {
    "duration": 17,
    "start_time": "2023-04-28T14:17:16.800Z"
   },
   {
    "duration": 12,
    "start_time": "2023-04-28T14:17:16.819Z"
   },
   {
    "duration": 67,
    "start_time": "2023-04-28T14:17:16.833Z"
   },
   {
    "duration": 5,
    "start_time": "2023-04-28T14:17:16.902Z"
   },
   {
    "duration": 10,
    "start_time": "2023-04-28T14:17:16.908Z"
   },
   {
    "duration": 12,
    "start_time": "2023-04-28T14:17:16.919Z"
   },
   {
    "duration": 4,
    "start_time": "2023-04-28T14:17:16.932Z"
   },
   {
    "duration": 15,
    "start_time": "2023-04-28T14:17:16.937Z"
   },
   {
    "duration": 32,
    "start_time": "2023-04-28T14:17:16.954Z"
   },
   {
    "duration": 5,
    "start_time": "2023-04-28T14:17:16.987Z"
   },
   {
    "duration": 9,
    "start_time": "2023-04-28T14:17:16.996Z"
   },
   {
    "duration": 10,
    "start_time": "2023-04-28T14:17:17.007Z"
   },
   {
    "duration": 18,
    "start_time": "2023-04-28T14:17:17.019Z"
   },
   {
    "duration": 6,
    "start_time": "2023-04-28T14:17:17.039Z"
   },
   {
    "duration": 49,
    "start_time": "2023-04-28T14:17:17.046Z"
   },
   {
    "duration": 4,
    "start_time": "2023-04-28T14:17:17.096Z"
   },
   {
    "duration": 10,
    "start_time": "2023-04-28T14:17:17.102Z"
   },
   {
    "duration": 17,
    "start_time": "2023-04-28T14:17:17.113Z"
   },
   {
    "duration": 34,
    "start_time": "2023-04-28T14:17:17.132Z"
   },
   {
    "duration": 32,
    "start_time": "2023-04-28T14:17:17.167Z"
   },
   {
    "duration": 3,
    "start_time": "2023-04-28T14:17:17.200Z"
   },
   {
    "duration": 6,
    "start_time": "2023-04-28T14:17:17.204Z"
   },
   {
    "duration": 7,
    "start_time": "2023-04-28T14:17:17.212Z"
   },
   {
    "duration": 7,
    "start_time": "2023-04-28T14:17:17.221Z"
   },
   {
    "duration": 157,
    "start_time": "2023-04-28T14:17:17.229Z"
   },
   {
    "duration": 714,
    "start_time": "2023-04-28T14:17:17.388Z"
   },
   {
    "duration": 2659,
    "start_time": "2023-04-28T14:17:18.104Z"
   },
   {
    "duration": 2515,
    "start_time": "2023-04-28T14:17:20.764Z"
   },
   {
    "duration": 6621,
    "start_time": "2023-04-28T14:17:23.286Z"
   },
   {
    "duration": 129,
    "start_time": "2023-04-28T14:17:29.909Z"
   },
   {
    "duration": 0,
    "start_time": "2023-04-28T14:17:30.040Z"
   },
   {
    "duration": 0,
    "start_time": "2023-04-28T14:17:30.041Z"
   },
   {
    "duration": 0,
    "start_time": "2023-04-28T14:17:30.043Z"
   },
   {
    "duration": 0,
    "start_time": "2023-04-28T14:17:30.044Z"
   },
   {
    "duration": 1,
    "start_time": "2023-04-28T14:17:30.045Z"
   },
   {
    "duration": 0,
    "start_time": "2023-04-28T14:17:30.047Z"
   },
   {
    "duration": 0,
    "start_time": "2023-04-28T14:17:30.048Z"
   },
   {
    "duration": 0,
    "start_time": "2023-04-28T14:17:30.050Z"
   },
   {
    "duration": 0,
    "start_time": "2023-04-28T14:17:30.051Z"
   },
   {
    "duration": 16,
    "start_time": "2023-04-28T14:17:40.393Z"
   },
   {
    "duration": 1410,
    "start_time": "2023-04-28T14:18:12.715Z"
   },
   {
    "duration": 3,
    "start_time": "2023-04-28T14:18:14.128Z"
   },
   {
    "duration": 109,
    "start_time": "2023-04-28T14:18:14.133Z"
   },
   {
    "duration": 23,
    "start_time": "2023-04-28T14:18:14.244Z"
   },
   {
    "duration": 13,
    "start_time": "2023-04-28T14:18:14.270Z"
   },
   {
    "duration": 44,
    "start_time": "2023-04-28T14:18:14.285Z"
   },
   {
    "duration": 6,
    "start_time": "2023-04-28T14:18:14.330Z"
   },
   {
    "duration": 9,
    "start_time": "2023-04-28T14:18:14.337Z"
   },
   {
    "duration": 38,
    "start_time": "2023-04-28T14:18:14.348Z"
   },
   {
    "duration": 4,
    "start_time": "2023-04-28T14:18:14.388Z"
   },
   {
    "duration": 13,
    "start_time": "2023-04-28T14:18:14.393Z"
   },
   {
    "duration": 6,
    "start_time": "2023-04-28T14:18:14.408Z"
   },
   {
    "duration": 12,
    "start_time": "2023-04-28T14:18:14.415Z"
   },
   {
    "duration": 18,
    "start_time": "2023-04-28T14:18:14.431Z"
   },
   {
    "duration": 34,
    "start_time": "2023-04-28T14:18:14.451Z"
   },
   {
    "duration": 17,
    "start_time": "2023-04-28T14:18:14.487Z"
   },
   {
    "duration": 10,
    "start_time": "2023-04-28T14:18:14.506Z"
   },
   {
    "duration": 16,
    "start_time": "2023-04-28T14:18:14.517Z"
   },
   {
    "duration": 4,
    "start_time": "2023-04-28T14:18:14.535Z"
   },
   {
    "duration": 34,
    "start_time": "2023-04-28T14:18:14.541Z"
   },
   {
    "duration": 26,
    "start_time": "2023-04-28T14:18:14.577Z"
   },
   {
    "duration": 34,
    "start_time": "2023-04-28T14:18:14.604Z"
   },
   {
    "duration": 17,
    "start_time": "2023-04-28T14:18:14.640Z"
   },
   {
    "duration": 3,
    "start_time": "2023-04-28T14:18:14.658Z"
   },
   {
    "duration": 31,
    "start_time": "2023-04-28T14:18:14.663Z"
   },
   {
    "duration": 14,
    "start_time": "2023-04-28T14:18:14.697Z"
   },
   {
    "duration": 38,
    "start_time": "2023-04-28T14:18:14.713Z"
   },
   {
    "duration": 159,
    "start_time": "2023-04-28T14:18:14.754Z"
   },
   {
    "duration": 726,
    "start_time": "2023-04-28T14:18:14.915Z"
   },
   {
    "duration": 1680,
    "start_time": "2023-04-28T14:18:15.642Z"
   },
   {
    "duration": 3506,
    "start_time": "2023-04-28T14:18:17.324Z"
   },
   {
    "duration": 9285,
    "start_time": "2023-04-28T14:18:20.831Z"
   },
   {
    "duration": 71,
    "start_time": "2023-04-28T14:18:30.118Z"
   },
   {
    "duration": 310,
    "start_time": "2023-04-28T14:18:30.191Z"
   },
   {
    "duration": 4,
    "start_time": "2023-04-28T14:18:30.503Z"
   },
   {
    "duration": 84,
    "start_time": "2023-04-28T14:18:30.509Z"
   },
   {
    "duration": 148,
    "start_time": "2023-04-28T14:18:30.596Z"
   },
   {
    "duration": 2157,
    "start_time": "2023-04-28T14:18:30.745Z"
   },
   {
    "duration": 2728,
    "start_time": "2023-04-28T14:18:32.904Z"
   },
   {
    "duration": 131,
    "start_time": "2023-04-28T14:18:35.633Z"
   },
   {
    "duration": 0,
    "start_time": "2023-04-28T14:18:35.766Z"
   },
   {
    "duration": 0,
    "start_time": "2023-04-28T14:18:35.767Z"
   },
   {
    "duration": 15,
    "start_time": "2023-04-28T14:19:42.033Z"
   },
   {
    "duration": 19,
    "start_time": "2023-04-28T14:20:57.097Z"
   },
   {
    "duration": 1366,
    "start_time": "2023-04-28T14:30:26.623Z"
   },
   {
    "duration": 3,
    "start_time": "2023-04-28T14:30:27.991Z"
   },
   {
    "duration": 80,
    "start_time": "2023-04-28T14:30:27.995Z"
   },
   {
    "duration": 16,
    "start_time": "2023-04-28T14:30:28.076Z"
   },
   {
    "duration": 12,
    "start_time": "2023-04-28T14:30:28.094Z"
   },
   {
    "duration": 40,
    "start_time": "2023-04-28T14:30:28.108Z"
   },
   {
    "duration": 5,
    "start_time": "2023-04-28T14:30:28.150Z"
   },
   {
    "duration": 29,
    "start_time": "2023-04-28T14:30:28.157Z"
   },
   {
    "duration": 16,
    "start_time": "2023-04-28T14:30:28.188Z"
   },
   {
    "duration": 4,
    "start_time": "2023-04-28T14:30:28.205Z"
   },
   {
    "duration": 13,
    "start_time": "2023-04-28T14:30:28.210Z"
   },
   {
    "duration": 6,
    "start_time": "2023-04-28T14:30:28.225Z"
   },
   {
    "duration": 8,
    "start_time": "2023-04-28T14:30:28.232Z"
   },
   {
    "duration": 43,
    "start_time": "2023-04-28T14:30:28.244Z"
   },
   {
    "duration": 11,
    "start_time": "2023-04-28T14:30:28.289Z"
   },
   {
    "duration": 20,
    "start_time": "2023-04-28T14:30:28.302Z"
   },
   {
    "duration": 3,
    "start_time": "2023-04-28T14:30:28.324Z"
   },
   {
    "duration": 32,
    "start_time": "2023-04-28T14:30:28.329Z"
   },
   {
    "duration": 4,
    "start_time": "2023-04-28T14:30:28.363Z"
   },
   {
    "duration": 6,
    "start_time": "2023-04-28T14:30:28.385Z"
   },
   {
    "duration": 21,
    "start_time": "2023-04-28T14:30:28.393Z"
   },
   {
    "duration": 34,
    "start_time": "2023-04-28T14:30:28.416Z"
   },
   {
    "duration": 19,
    "start_time": "2023-04-28T14:30:28.452Z"
   },
   {
    "duration": 13,
    "start_time": "2023-04-28T14:30:28.473Z"
   },
   {
    "duration": 5,
    "start_time": "2023-04-28T14:30:28.487Z"
   },
   {
    "duration": 6,
    "start_time": "2023-04-28T14:30:28.494Z"
   },
   {
    "duration": 7,
    "start_time": "2023-04-28T14:30:28.502Z"
   },
   {
    "duration": 145,
    "start_time": "2023-04-28T14:30:28.510Z"
   },
   {
    "duration": 696,
    "start_time": "2023-04-28T14:30:28.657Z"
   },
   {
    "duration": 1688,
    "start_time": "2023-04-28T14:30:29.355Z"
   },
   {
    "duration": 2520,
    "start_time": "2023-04-28T14:30:31.044Z"
   },
   {
    "duration": 7345,
    "start_time": "2023-04-28T14:30:33.566Z"
   },
   {
    "duration": 14,
    "start_time": "2023-04-28T14:30:40.913Z"
   },
   {
    "duration": 144,
    "start_time": "2023-04-28T14:30:40.928Z"
   },
   {
    "duration": 5,
    "start_time": "2023-04-28T14:30:41.074Z"
   },
   {
    "duration": 10,
    "start_time": "2023-04-28T14:30:41.086Z"
   },
   {
    "duration": 146,
    "start_time": "2023-04-28T14:30:41.097Z"
   },
   {
    "duration": 2032,
    "start_time": "2023-04-28T14:30:41.245Z"
   },
   {
    "duration": 2701,
    "start_time": "2023-04-28T14:30:43.280Z"
   },
   {
    "duration": 15,
    "start_time": "2023-04-28T14:30:45.983Z"
   },
   {
    "duration": 137,
    "start_time": "2023-04-28T14:30:46.002Z"
   },
   {
    "duration": 0,
    "start_time": "2023-04-28T14:30:46.141Z"
   },
   {
    "duration": 6,
    "start_time": "2023-04-28T14:31:18.858Z"
   },
   {
    "duration": 141,
    "start_time": "2023-04-28T14:33:18.864Z"
   },
   {
    "duration": 12,
    "start_time": "2023-04-28T16:40:21.375Z"
   },
   {
    "duration": 3,
    "start_time": "2023-04-28T16:40:44.759Z"
   },
   {
    "duration": 88,
    "start_time": "2023-04-28T16:41:34.262Z"
   },
   {
    "duration": 4,
    "start_time": "2023-04-28T16:41:37.797Z"
   },
   {
    "duration": 4,
    "start_time": "2023-04-28T16:41:46.946Z"
   },
   {
    "duration": 3,
    "start_time": "2023-04-28T16:42:01.130Z"
   },
   {
    "duration": 3,
    "start_time": "2023-04-28T16:42:54.853Z"
   },
   {
    "duration": 4,
    "start_time": "2023-04-28T16:43:06.925Z"
   },
   {
    "duration": 50,
    "start_time": "2023-04-28T16:46:05.209Z"
   },
   {
    "duration": 1553,
    "start_time": "2023-04-28T16:46:25.343Z"
   },
   {
    "duration": 3,
    "start_time": "2023-04-28T16:46:26.898Z"
   },
   {
    "duration": 145,
    "start_time": "2023-04-28T16:46:26.902Z"
   },
   {
    "duration": 16,
    "start_time": "2023-04-28T16:46:27.050Z"
   },
   {
    "duration": 11,
    "start_time": "2023-04-28T16:46:27.067Z"
   },
   {
    "duration": 40,
    "start_time": "2023-04-28T16:46:27.080Z"
   },
   {
    "duration": 5,
    "start_time": "2023-04-28T16:46:27.133Z"
   },
   {
    "duration": 12,
    "start_time": "2023-04-28T16:46:27.139Z"
   },
   {
    "duration": 11,
    "start_time": "2023-04-28T16:46:27.152Z"
   },
   {
    "duration": 4,
    "start_time": "2023-04-28T16:46:27.166Z"
   },
   {
    "duration": 11,
    "start_time": "2023-04-28T16:46:27.172Z"
   },
   {
    "duration": 8,
    "start_time": "2023-04-28T16:46:27.185Z"
   },
   {
    "duration": 4,
    "start_time": "2023-04-28T16:46:27.195Z"
   },
   {
    "duration": 8,
    "start_time": "2023-04-28T16:46:27.233Z"
   },
   {
    "duration": 10,
    "start_time": "2023-04-28T16:46:27.243Z"
   },
   {
    "duration": 16,
    "start_time": "2023-04-28T16:46:27.254Z"
   },
   {
    "duration": 5,
    "start_time": "2023-04-28T16:46:27.272Z"
   },
   {
    "duration": 12,
    "start_time": "2023-04-28T16:46:27.279Z"
   },
   {
    "duration": 5,
    "start_time": "2023-04-28T16:46:27.292Z"
   },
   {
    "duration": 12,
    "start_time": "2023-04-28T16:46:27.298Z"
   },
   {
    "duration": 15,
    "start_time": "2023-04-28T16:46:27.334Z"
   },
   {
    "duration": 25,
    "start_time": "2023-04-28T16:46:27.351Z"
   },
   {
    "duration": 15,
    "start_time": "2023-04-28T16:46:27.377Z"
   },
   {
    "duration": 5,
    "start_time": "2023-04-28T16:46:27.393Z"
   },
   {
    "duration": 8,
    "start_time": "2023-04-28T16:46:27.399Z"
   },
   {
    "duration": 27,
    "start_time": "2023-04-28T16:46:27.408Z"
   },
   {
    "duration": 10,
    "start_time": "2023-04-28T16:46:27.436Z"
   },
   {
    "duration": 127,
    "start_time": "2023-04-28T16:46:27.449Z"
   },
   {
    "duration": 640,
    "start_time": "2023-04-28T16:46:27.578Z"
   },
   {
    "duration": 1463,
    "start_time": "2023-04-28T16:46:28.219Z"
   },
   {
    "duration": 2290,
    "start_time": "2023-04-28T16:46:29.683Z"
   },
   {
    "duration": 6259,
    "start_time": "2023-04-28T16:46:31.975Z"
   },
   {
    "duration": 12,
    "start_time": "2023-04-28T16:46:38.235Z"
   },
   {
    "duration": 118,
    "start_time": "2023-04-28T16:46:38.249Z"
   },
   {
    "duration": 4,
    "start_time": "2023-04-28T16:46:38.369Z"
   },
   {
    "duration": 12,
    "start_time": "2023-04-28T16:46:38.374Z"
   },
   {
    "duration": 117,
    "start_time": "2023-04-28T16:46:38.387Z"
   },
   {
    "duration": 118,
    "start_time": "2023-04-28T16:46:38.506Z"
   },
   {
    "duration": 1829,
    "start_time": "2023-04-28T16:46:38.625Z"
   },
   {
    "duration": 2328,
    "start_time": "2023-04-28T16:46:40.456Z"
   },
   {
    "duration": 12,
    "start_time": "2023-04-28T16:46:42.785Z"
   },
   {
    "duration": 20,
    "start_time": "2023-04-28T16:46:42.798Z"
   },
   {
    "duration": 5,
    "start_time": "2023-04-28T16:47:16.904Z"
   },
   {
    "duration": 5,
    "start_time": "2023-04-28T16:47:30.396Z"
   },
   {
    "duration": 13,
    "start_time": "2023-04-28T16:52:28.598Z"
   },
   {
    "duration": 4,
    "start_time": "2023-04-28T16:52:29.288Z"
   },
   {
    "duration": 10,
    "start_time": "2023-04-28T16:52:56.574Z"
   },
   {
    "duration": 126,
    "start_time": "2023-04-28T16:53:06.391Z"
   },
   {
    "duration": 4,
    "start_time": "2023-04-28T16:53:11.376Z"
   },
   {
    "duration": 11,
    "start_time": "2023-04-28T16:53:11.867Z"
   },
   {
    "duration": 5,
    "start_time": "2023-04-28T16:53:23.345Z"
   },
   {
    "duration": 10,
    "start_time": "2023-04-28T16:54:25.377Z"
   },
   {
    "duration": 4,
    "start_time": "2023-04-28T16:54:35.361Z"
   },
   {
    "duration": 10,
    "start_time": "2023-04-28T16:54:44.988Z"
   },
   {
    "duration": 5,
    "start_time": "2023-04-28T16:54:47.234Z"
   },
   {
    "duration": 108,
    "start_time": "2023-04-28T16:57:08.565Z"
   },
   {
    "duration": 3,
    "start_time": "2023-04-28T17:00:51.046Z"
   },
   {
    "duration": 78,
    "start_time": "2023-04-28T17:00:51.922Z"
   },
   {
    "duration": 3,
    "start_time": "2023-04-28T17:01:18.585Z"
   },
   {
    "duration": 100,
    "start_time": "2023-04-28T17:01:39.001Z"
   },
   {
    "duration": 120,
    "start_time": "2023-04-28T17:01:42.908Z"
   },
   {
    "duration": 5,
    "start_time": "2023-04-28T17:02:08.060Z"
   },
   {
    "duration": 16,
    "start_time": "2023-04-28T17:02:08.541Z"
   },
   {
    "duration": 16,
    "start_time": "2023-04-28T17:02:33.808Z"
   },
   {
    "duration": 13,
    "start_time": "2023-04-28T17:03:01.577Z"
   },
   {
    "duration": 2,
    "start_time": "2023-04-28T17:09:33.272Z"
   },
   {
    "duration": 8,
    "start_time": "2023-04-28T17:20:03.571Z"
   },
   {
    "duration": 9,
    "start_time": "2023-04-28T17:21:17.344Z"
   },
   {
    "duration": 3,
    "start_time": "2023-04-28T17:21:52.535Z"
   },
   {
    "duration": 2,
    "start_time": "2023-04-28T17:23:23.034Z"
   },
   {
    "duration": 5,
    "start_time": "2023-04-28T17:23:23.516Z"
   },
   {
    "duration": 4,
    "start_time": "2023-04-28T17:23:25.310Z"
   },
   {
    "duration": 9,
    "start_time": "2023-04-28T17:23:25.680Z"
   },
   {
    "duration": 5,
    "start_time": "2023-04-28T17:23:26.049Z"
   },
   {
    "duration": 23,
    "start_time": "2023-04-28T17:23:43.096Z"
   },
   {
    "duration": 1367,
    "start_time": "2023-04-28T17:24:01.555Z"
   },
   {
    "duration": 3,
    "start_time": "2023-04-28T17:24:02.924Z"
   },
   {
    "duration": 93,
    "start_time": "2023-04-28T17:24:02.929Z"
   },
   {
    "duration": 16,
    "start_time": "2023-04-28T17:24:03.024Z"
   },
   {
    "duration": 33,
    "start_time": "2023-04-28T17:24:03.042Z"
   },
   {
    "duration": 58,
    "start_time": "2023-04-28T17:24:03.076Z"
   },
   {
    "duration": 6,
    "start_time": "2023-04-28T17:24:03.136Z"
   },
   {
    "duration": 18,
    "start_time": "2023-04-28T17:24:03.144Z"
   },
   {
    "duration": 47,
    "start_time": "2023-04-28T17:24:03.164Z"
   },
   {
    "duration": 5,
    "start_time": "2023-04-28T17:24:03.213Z"
   },
   {
    "duration": 28,
    "start_time": "2023-04-28T17:24:03.220Z"
   },
   {
    "duration": 21,
    "start_time": "2023-04-28T17:24:03.250Z"
   },
   {
    "duration": 13,
    "start_time": "2023-04-28T17:24:03.273Z"
   },
   {
    "duration": 17,
    "start_time": "2023-04-28T17:24:03.290Z"
   },
   {
    "duration": 17,
    "start_time": "2023-04-28T17:24:03.309Z"
   },
   {
    "duration": 24,
    "start_time": "2023-04-28T17:24:03.328Z"
   },
   {
    "duration": 145,
    "start_time": "2023-04-28T17:24:03.354Z"
   },
   {
    "duration": 0,
    "start_time": "2023-04-28T17:24:03.501Z"
   },
   {
    "duration": 0,
    "start_time": "2023-04-28T17:24:03.503Z"
   },
   {
    "duration": 0,
    "start_time": "2023-04-28T17:24:03.504Z"
   },
   {
    "duration": 0,
    "start_time": "2023-04-28T17:24:03.505Z"
   },
   {
    "duration": 0,
    "start_time": "2023-04-28T17:24:03.506Z"
   },
   {
    "duration": 0,
    "start_time": "2023-04-28T17:24:03.507Z"
   },
   {
    "duration": 0,
    "start_time": "2023-04-28T17:24:03.508Z"
   },
   {
    "duration": 0,
    "start_time": "2023-04-28T17:24:03.509Z"
   },
   {
    "duration": 0,
    "start_time": "2023-04-28T17:24:03.510Z"
   },
   {
    "duration": 0,
    "start_time": "2023-04-28T17:24:03.511Z"
   },
   {
    "duration": 0,
    "start_time": "2023-04-28T17:24:03.533Z"
   },
   {
    "duration": 0,
    "start_time": "2023-04-28T17:24:03.534Z"
   },
   {
    "duration": 0,
    "start_time": "2023-04-28T17:24:03.535Z"
   },
   {
    "duration": 0,
    "start_time": "2023-04-28T17:24:03.536Z"
   },
   {
    "duration": 0,
    "start_time": "2023-04-28T17:24:03.537Z"
   },
   {
    "duration": 0,
    "start_time": "2023-04-28T17:24:03.538Z"
   },
   {
    "duration": 0,
    "start_time": "2023-04-28T17:24:03.539Z"
   },
   {
    "duration": 0,
    "start_time": "2023-04-28T17:24:03.540Z"
   },
   {
    "duration": 0,
    "start_time": "2023-04-28T17:24:03.542Z"
   },
   {
    "duration": 0,
    "start_time": "2023-04-28T17:24:03.543Z"
   },
   {
    "duration": 0,
    "start_time": "2023-04-28T17:24:03.544Z"
   },
   {
    "duration": 0,
    "start_time": "2023-04-28T17:24:03.545Z"
   },
   {
    "duration": 0,
    "start_time": "2023-04-28T17:24:03.546Z"
   },
   {
    "duration": 0,
    "start_time": "2023-04-28T17:24:03.547Z"
   },
   {
    "duration": 0,
    "start_time": "2023-04-28T17:24:03.548Z"
   },
   {
    "duration": 0,
    "start_time": "2023-04-28T17:24:03.549Z"
   },
   {
    "duration": 0,
    "start_time": "2023-04-28T17:24:03.550Z"
   },
   {
    "duration": 0,
    "start_time": "2023-04-28T17:24:03.551Z"
   },
   {
    "duration": 0,
    "start_time": "2023-04-28T17:24:03.552Z"
   },
   {
    "duration": 0,
    "start_time": "2023-04-28T17:24:03.553Z"
   },
   {
    "duration": 0,
    "start_time": "2023-04-28T17:24:03.554Z"
   },
   {
    "duration": 0,
    "start_time": "2023-04-28T17:24:03.555Z"
   },
   {
    "duration": 1345,
    "start_time": "2023-04-28T17:24:53.576Z"
   },
   {
    "duration": 3,
    "start_time": "2023-04-28T17:24:54.922Z"
   },
   {
    "duration": 68,
    "start_time": "2023-04-28T17:24:54.926Z"
   },
   {
    "duration": 15,
    "start_time": "2023-04-28T17:24:54.996Z"
   },
   {
    "duration": 13,
    "start_time": "2023-04-28T17:24:55.012Z"
   },
   {
    "duration": 42,
    "start_time": "2023-04-28T17:24:55.026Z"
   },
   {
    "duration": 5,
    "start_time": "2023-04-28T17:24:55.069Z"
   },
   {
    "duration": 18,
    "start_time": "2023-04-28T17:24:55.075Z"
   },
   {
    "duration": 16,
    "start_time": "2023-04-28T17:24:55.095Z"
   },
   {
    "duration": 4,
    "start_time": "2023-04-28T17:24:55.112Z"
   },
   {
    "duration": 18,
    "start_time": "2023-04-28T17:24:55.117Z"
   },
   {
    "duration": 7,
    "start_time": "2023-04-28T17:24:55.137Z"
   },
   {
    "duration": 17,
    "start_time": "2023-04-28T17:24:55.145Z"
   },
   {
    "duration": 9,
    "start_time": "2023-04-28T17:24:55.165Z"
   },
   {
    "duration": 23,
    "start_time": "2023-04-28T17:24:55.176Z"
   },
   {
    "duration": 19,
    "start_time": "2023-04-28T17:24:55.201Z"
   },
   {
    "duration": 111,
    "start_time": "2023-04-28T17:24:55.222Z"
   },
   {
    "duration": 0,
    "start_time": "2023-04-28T17:24:55.335Z"
   },
   {
    "duration": 0,
    "start_time": "2023-04-28T17:24:55.336Z"
   },
   {
    "duration": 0,
    "start_time": "2023-04-28T17:24:55.337Z"
   },
   {
    "duration": 0,
    "start_time": "2023-04-28T17:24:55.338Z"
   },
   {
    "duration": 0,
    "start_time": "2023-04-28T17:24:55.339Z"
   },
   {
    "duration": 0,
    "start_time": "2023-04-28T17:24:55.340Z"
   },
   {
    "duration": 0,
    "start_time": "2023-04-28T17:24:55.341Z"
   },
   {
    "duration": 1,
    "start_time": "2023-04-28T17:24:55.341Z"
   },
   {
    "duration": 0,
    "start_time": "2023-04-28T17:24:55.342Z"
   },
   {
    "duration": 0,
    "start_time": "2023-04-28T17:24:55.343Z"
   },
   {
    "duration": 0,
    "start_time": "2023-04-28T17:24:55.344Z"
   },
   {
    "duration": 0,
    "start_time": "2023-04-28T17:24:55.345Z"
   },
   {
    "duration": 0,
    "start_time": "2023-04-28T17:24:55.346Z"
   },
   {
    "duration": 0,
    "start_time": "2023-04-28T17:24:55.347Z"
   },
   {
    "duration": 0,
    "start_time": "2023-04-28T17:24:55.347Z"
   },
   {
    "duration": 0,
    "start_time": "2023-04-28T17:24:55.348Z"
   },
   {
    "duration": 0,
    "start_time": "2023-04-28T17:24:55.349Z"
   },
   {
    "duration": 0,
    "start_time": "2023-04-28T17:24:55.349Z"
   },
   {
    "duration": 0,
    "start_time": "2023-04-28T17:24:55.350Z"
   },
   {
    "duration": 0,
    "start_time": "2023-04-28T17:24:55.351Z"
   },
   {
    "duration": 0,
    "start_time": "2023-04-28T17:24:55.352Z"
   },
   {
    "duration": 0,
    "start_time": "2023-04-28T17:24:55.352Z"
   },
   {
    "duration": 0,
    "start_time": "2023-04-28T17:24:55.353Z"
   },
   {
    "duration": 0,
    "start_time": "2023-04-28T17:24:55.354Z"
   },
   {
    "duration": 0,
    "start_time": "2023-04-28T17:24:55.355Z"
   },
   {
    "duration": 0,
    "start_time": "2023-04-28T17:24:55.356Z"
   },
   {
    "duration": 0,
    "start_time": "2023-04-28T17:24:55.357Z"
   },
   {
    "duration": 0,
    "start_time": "2023-04-28T17:24:55.358Z"
   },
   {
    "duration": 0,
    "start_time": "2023-04-28T17:24:55.359Z"
   },
   {
    "duration": 0,
    "start_time": "2023-04-28T17:24:55.360Z"
   },
   {
    "duration": 0,
    "start_time": "2023-04-28T17:24:55.361Z"
   },
   {
    "duration": 0,
    "start_time": "2023-04-28T17:24:55.362Z"
   },
   {
    "duration": 10,
    "start_time": "2023-04-28T17:25:46.492Z"
   },
   {
    "duration": 6,
    "start_time": "2023-04-28T17:25:47.403Z"
   },
   {
    "duration": 3,
    "start_time": "2023-04-28T17:25:55.008Z"
   },
   {
    "duration": 11,
    "start_time": "2023-04-28T17:25:55.013Z"
   },
   {
    "duration": 56,
    "start_time": "2023-04-28T17:25:55.025Z"
   },
   {
    "duration": 11,
    "start_time": "2023-04-28T17:25:55.083Z"
   },
   {
    "duration": 18,
    "start_time": "2023-04-28T17:25:55.096Z"
   },
   {
    "duration": 44,
    "start_time": "2023-04-28T17:25:55.115Z"
   },
   {
    "duration": 5,
    "start_time": "2023-04-28T17:25:55.161Z"
   },
   {
    "duration": 12,
    "start_time": "2023-04-28T17:25:55.168Z"
   },
   {
    "duration": 12,
    "start_time": "2023-04-28T17:25:55.181Z"
   },
   {
    "duration": 8,
    "start_time": "2023-04-28T17:25:55.196Z"
   },
   {
    "duration": 33,
    "start_time": "2023-04-28T17:25:55.205Z"
   },
   {
    "duration": 7,
    "start_time": "2023-04-28T17:25:55.240Z"
   },
   {
    "duration": 8,
    "start_time": "2023-04-28T17:25:55.248Z"
   },
   {
    "duration": 14,
    "start_time": "2023-04-28T17:25:55.258Z"
   },
   {
    "duration": 10,
    "start_time": "2023-04-28T17:25:55.274Z"
   },
   {
    "duration": 18,
    "start_time": "2023-04-28T17:25:55.286Z"
   },
   {
    "duration": 30,
    "start_time": "2023-04-28T17:25:55.305Z"
   },
   {
    "duration": 7,
    "start_time": "2023-04-28T17:25:55.337Z"
   },
   {
    "duration": 4,
    "start_time": "2023-04-28T17:25:55.346Z"
   },
   {
    "duration": 6,
    "start_time": "2023-04-28T17:25:55.353Z"
   },
   {
    "duration": 25,
    "start_time": "2023-04-28T17:25:55.361Z"
   },
   {
    "duration": 26,
    "start_time": "2023-04-28T17:25:55.388Z"
   },
   {
    "duration": 16,
    "start_time": "2023-04-28T17:25:55.433Z"
   },
   {
    "duration": 3,
    "start_time": "2023-04-28T17:25:55.450Z"
   },
   {
    "duration": 7,
    "start_time": "2023-04-28T17:25:55.456Z"
   },
   {
    "duration": 8,
    "start_time": "2023-04-28T17:25:55.465Z"
   },
   {
    "duration": 15,
    "start_time": "2023-04-28T17:25:55.474Z"
   },
   {
    "duration": 12,
    "start_time": "2023-04-28T17:25:55.491Z"
   },
   {
    "duration": 125,
    "start_time": "2023-04-28T17:25:55.505Z"
   },
   {
    "duration": 662,
    "start_time": "2023-04-28T17:25:55.633Z"
   },
   {
    "duration": 1564,
    "start_time": "2023-04-28T17:25:56.297Z"
   },
   {
    "duration": 3342,
    "start_time": "2023-04-28T17:25:57.862Z"
   },
   {
    "duration": 6828,
    "start_time": "2023-04-28T17:26:01.205Z"
   },
   {
    "duration": 12,
    "start_time": "2023-04-28T17:26:08.035Z"
   },
   {
    "duration": 8,
    "start_time": "2023-04-28T17:26:08.049Z"
   },
   {
    "duration": 7,
    "start_time": "2023-04-28T17:26:08.058Z"
   },
   {
    "duration": 5,
    "start_time": "2023-04-28T17:26:08.066Z"
   },
   {
    "duration": 11,
    "start_time": "2023-04-28T17:26:08.072Z"
   },
   {
    "duration": 4,
    "start_time": "2023-04-28T17:26:08.084Z"
   },
   {
    "duration": 127,
    "start_time": "2023-04-28T17:26:08.089Z"
   },
   {
    "duration": 1794,
    "start_time": "2023-04-28T17:26:08.217Z"
   },
   {
    "duration": 2316,
    "start_time": "2023-04-28T17:26:10.012Z"
   },
   {
    "duration": 12,
    "start_time": "2023-04-28T17:26:12.333Z"
   },
   {
    "duration": 13,
    "start_time": "2023-04-28T17:26:12.346Z"
   },
   {
    "duration": 0,
    "start_time": "2023-04-28T17:26:12.360Z"
   },
   {
    "duration": 0,
    "start_time": "2023-04-28T17:26:12.361Z"
   },
   {
    "duration": 0,
    "start_time": "2023-04-28T17:26:12.362Z"
   },
   {
    "duration": 0,
    "start_time": "2023-04-28T17:26:12.363Z"
   },
   {
    "duration": 0,
    "start_time": "2023-04-28T17:26:12.364Z"
   },
   {
    "duration": 3,
    "start_time": "2023-04-28T17:27:45.403Z"
   },
   {
    "duration": 4,
    "start_time": "2023-04-28T17:27:46.554Z"
   },
   {
    "duration": 4,
    "start_time": "2023-04-28T17:27:54.114Z"
   },
   {
    "duration": 3,
    "start_time": "2023-04-28T17:27:56.034Z"
   },
   {
    "duration": 5,
    "start_time": "2023-04-28T17:27:58.850Z"
   },
   {
    "duration": 5,
    "start_time": "2023-04-28T17:29:08.456Z"
   },
   {
    "duration": 9,
    "start_time": "2023-04-28T17:29:10.182Z"
   },
   {
    "duration": 1814,
    "start_time": "2023-04-28T17:29:11.429Z"
   },
   {
    "duration": 2373,
    "start_time": "2023-04-28T17:29:16.099Z"
   },
   {
    "duration": 5,
    "start_time": "2023-04-28T17:29:37.040Z"
   },
   {
    "duration": 9,
    "start_time": "2023-04-28T17:29:47.066Z"
   },
   {
    "duration": 5,
    "start_time": "2023-04-28T17:29:47.580Z"
   },
   {
    "duration": 8,
    "start_time": "2023-04-28T17:30:11.549Z"
   },
   {
    "duration": 5,
    "start_time": "2023-04-28T17:30:12.350Z"
   },
   {
    "duration": 889,
    "start_time": "2023-04-28T17:30:16.301Z"
   },
   {
    "duration": 1236,
    "start_time": "2023-04-28T17:30:20.145Z"
   },
   {
    "duration": 2203,
    "start_time": "2023-04-28T17:31:21.096Z"
   },
   {
    "duration": 4088,
    "start_time": "2023-04-28T17:31:23.302Z"
   },
   {
    "duration": 14130,
    "start_time": "2023-04-28T17:31:40.840Z"
   },
   {
    "duration": 867,
    "start_time": "2023-04-28T17:32:10.856Z"
   },
   {
    "duration": 1178,
    "start_time": "2023-04-28T17:32:11.725Z"
   },
   {
    "duration": 1293,
    "start_time": "2023-04-28T17:32:49.180Z"
   },
   {
    "duration": 2,
    "start_time": "2023-04-28T17:32:50.475Z"
   },
   {
    "duration": 81,
    "start_time": "2023-04-28T17:32:50.478Z"
   },
   {
    "duration": 14,
    "start_time": "2023-04-28T17:32:50.561Z"
   },
   {
    "duration": 14,
    "start_time": "2023-04-28T17:32:50.577Z"
   },
   {
    "duration": 51,
    "start_time": "2023-04-28T17:32:50.592Z"
   },
   {
    "duration": 4,
    "start_time": "2023-04-28T17:32:50.645Z"
   },
   {
    "duration": 15,
    "start_time": "2023-04-28T17:32:50.651Z"
   },
   {
    "duration": 18,
    "start_time": "2023-04-28T17:32:50.668Z"
   },
   {
    "duration": 6,
    "start_time": "2023-04-28T17:32:50.689Z"
   },
   {
    "duration": 21,
    "start_time": "2023-04-28T17:32:50.696Z"
   },
   {
    "duration": 12,
    "start_time": "2023-04-28T17:32:50.718Z"
   },
   {
    "duration": 14,
    "start_time": "2023-04-28T17:32:50.731Z"
   },
   {
    "duration": 15,
    "start_time": "2023-04-28T17:32:50.746Z"
   },
   {
    "duration": 15,
    "start_time": "2023-04-28T17:32:50.763Z"
   },
   {
    "duration": 27,
    "start_time": "2023-04-28T17:32:50.780Z"
   },
   {
    "duration": 14,
    "start_time": "2023-04-28T17:32:50.809Z"
   },
   {
    "duration": 14,
    "start_time": "2023-04-28T17:32:50.824Z"
   },
   {
    "duration": 13,
    "start_time": "2023-04-28T17:32:50.839Z"
   },
   {
    "duration": 22,
    "start_time": "2023-04-28T17:32:50.853Z"
   },
   {
    "duration": 24,
    "start_time": "2023-04-28T17:32:50.877Z"
   },
   {
    "duration": 30,
    "start_time": "2023-04-28T17:32:50.902Z"
   },
   {
    "duration": 16,
    "start_time": "2023-04-28T17:32:50.934Z"
   },
   {
    "duration": 3,
    "start_time": "2023-04-28T17:32:50.951Z"
   },
   {
    "duration": 11,
    "start_time": "2023-04-28T17:32:50.956Z"
   },
   {
    "duration": 13,
    "start_time": "2023-04-28T17:32:50.968Z"
   },
   {
    "duration": 18,
    "start_time": "2023-04-28T17:32:50.983Z"
   },
   {
    "duration": 9,
    "start_time": "2023-04-28T17:32:51.004Z"
   },
   {
    "duration": 134,
    "start_time": "2023-04-28T17:32:51.015Z"
   },
   {
    "duration": 628,
    "start_time": "2023-04-28T17:32:51.150Z"
   },
   {
    "duration": 1606,
    "start_time": "2023-04-28T17:32:51.780Z"
   },
   {
    "duration": 2386,
    "start_time": "2023-04-28T17:32:53.387Z"
   },
   {
    "duration": 6954,
    "start_time": "2023-04-28T17:32:55.774Z"
   },
   {
    "duration": 12,
    "start_time": "2023-04-28T17:33:02.734Z"
   },
   {
    "duration": 17,
    "start_time": "2023-04-28T17:33:02.748Z"
   },
   {
    "duration": 10,
    "start_time": "2023-04-28T17:33:02.767Z"
   },
   {
    "duration": 9,
    "start_time": "2023-04-28T17:33:02.778Z"
   },
   {
    "duration": 18,
    "start_time": "2023-04-28T17:33:02.788Z"
   },
   {
    "duration": 15,
    "start_time": "2023-04-28T17:33:02.807Z"
   },
   {
    "duration": 138,
    "start_time": "2023-04-28T17:33:02.823Z"
   },
   {
    "duration": 1834,
    "start_time": "2023-04-28T17:33:02.963Z"
   },
   {
    "duration": 2383,
    "start_time": "2023-04-28T17:33:04.799Z"
   },
   {
    "duration": 13,
    "start_time": "2023-04-28T17:33:07.183Z"
   },
   {
    "duration": 32,
    "start_time": "2023-04-28T17:33:07.197Z"
   },
   {
    "duration": 89,
    "start_time": "2023-04-28T17:33:07.231Z"
   },
   {
    "duration": 58,
    "start_time": "2023-04-28T17:33:07.322Z"
   },
   {
    "duration": 14,
    "start_time": "2023-04-28T17:33:07.382Z"
   },
   {
    "duration": 1369,
    "start_time": "2023-04-28T17:33:07.397Z"
   },
   {
    "duration": 1760,
    "start_time": "2023-04-28T17:33:08.768Z"
   },
   {
    "duration": 6,
    "start_time": "2023-04-28T17:34:16.878Z"
   },
   {
    "duration": 9,
    "start_time": "2023-04-28T17:34:18.899Z"
   },
   {
    "duration": 4,
    "start_time": "2023-04-28T17:34:19.793Z"
   },
   {
    "duration": 9,
    "start_time": "2023-04-28T17:35:52.131Z"
   },
   {
    "duration": 1335,
    "start_time": "2023-04-28T17:36:33.186Z"
   },
   {
    "duration": 2,
    "start_time": "2023-04-28T17:36:34.523Z"
   },
   {
    "duration": 111,
    "start_time": "2023-04-28T17:36:34.527Z"
   },
   {
    "duration": 16,
    "start_time": "2023-04-28T17:36:34.640Z"
   },
   {
    "duration": 11,
    "start_time": "2023-04-28T17:36:34.657Z"
   },
   {
    "duration": 55,
    "start_time": "2023-04-28T17:36:34.669Z"
   },
   {
    "duration": 10,
    "start_time": "2023-04-28T17:36:34.726Z"
   },
   {
    "duration": 7,
    "start_time": "2023-04-28T17:36:34.737Z"
   },
   {
    "duration": 19,
    "start_time": "2023-04-28T17:36:34.746Z"
   },
   {
    "duration": 4,
    "start_time": "2023-04-28T17:36:34.767Z"
   },
   {
    "duration": 19,
    "start_time": "2023-04-28T17:36:34.773Z"
   },
   {
    "duration": 6,
    "start_time": "2023-04-28T17:36:34.793Z"
   },
   {
    "duration": 10,
    "start_time": "2023-04-28T17:36:34.801Z"
   },
   {
    "duration": 25,
    "start_time": "2023-04-28T17:36:34.813Z"
   },
   {
    "duration": 10,
    "start_time": "2023-04-28T17:36:34.839Z"
   },
   {
    "duration": 22,
    "start_time": "2023-04-28T17:36:34.851Z"
   },
   {
    "duration": 9,
    "start_time": "2023-04-28T17:36:34.874Z"
   },
   {
    "duration": 11,
    "start_time": "2023-04-28T17:36:34.884Z"
   },
   {
    "duration": 14,
    "start_time": "2023-04-28T17:36:34.896Z"
   },
   {
    "duration": 15,
    "start_time": "2023-04-28T17:36:34.911Z"
   },
   {
    "duration": 25,
    "start_time": "2023-04-28T17:36:34.927Z"
   },
   {
    "duration": 25,
    "start_time": "2023-04-28T17:36:34.954Z"
   },
   {
    "duration": 14,
    "start_time": "2023-04-28T17:36:34.981Z"
   },
   {
    "duration": 2,
    "start_time": "2023-04-28T17:36:34.997Z"
   },
   {
    "duration": 14,
    "start_time": "2023-04-28T17:36:35.001Z"
   },
   {
    "duration": 10,
    "start_time": "2023-04-28T17:36:35.017Z"
   },
   {
    "duration": 14,
    "start_time": "2023-04-28T17:36:35.028Z"
   },
   {
    "duration": 9,
    "start_time": "2023-04-28T17:36:35.045Z"
   },
   {
    "duration": 121,
    "start_time": "2023-04-28T17:36:35.056Z"
   },
   {
    "duration": 630,
    "start_time": "2023-04-28T17:36:35.178Z"
   },
   {
    "duration": 1529,
    "start_time": "2023-04-28T17:36:35.809Z"
   },
   {
    "duration": 2961,
    "start_time": "2023-04-28T17:36:37.340Z"
   },
   {
    "duration": 6630,
    "start_time": "2023-04-28T17:36:40.303Z"
   },
   {
    "duration": 11,
    "start_time": "2023-04-28T17:36:46.935Z"
   },
   {
    "duration": 6,
    "start_time": "2023-04-28T17:36:46.947Z"
   },
   {
    "duration": 9,
    "start_time": "2023-04-28T17:36:46.954Z"
   },
   {
    "duration": 26,
    "start_time": "2023-04-28T17:36:46.965Z"
   },
   {
    "duration": 24,
    "start_time": "2023-04-28T17:36:46.993Z"
   },
   {
    "duration": 15,
    "start_time": "2023-04-28T17:36:47.018Z"
   },
   {
    "duration": 125,
    "start_time": "2023-04-28T17:36:47.034Z"
   },
   {
    "duration": 1809,
    "start_time": "2023-04-28T17:36:47.161Z"
   },
   {
    "duration": 2314,
    "start_time": "2023-04-28T17:36:48.972Z"
   },
   {
    "duration": 12,
    "start_time": "2023-04-28T17:36:51.288Z"
   },
   {
    "duration": 13,
    "start_time": "2023-04-28T17:36:51.301Z"
   },
   {
    "duration": 12,
    "start_time": "2023-04-28T17:36:51.315Z"
   },
   {
    "duration": 11,
    "start_time": "2023-04-28T17:36:51.329Z"
   },
   {
    "duration": 4,
    "start_time": "2023-04-28T17:36:51.342Z"
   },
   {
    "duration": 1380,
    "start_time": "2023-04-28T17:36:51.348Z"
   },
   {
    "duration": 1741,
    "start_time": "2023-04-28T17:36:52.733Z"
   },
   {
    "duration": 9,
    "start_time": "2023-04-28T17:36:54.476Z"
   },
   {
    "duration": 4,
    "start_time": "2023-04-28T17:38:27.380Z"
   },
   {
    "duration": 8,
    "start_time": "2023-04-28T17:38:54.402Z"
   },
   {
    "duration": 5,
    "start_time": "2023-04-28T17:38:54.995Z"
   },
   {
    "duration": 953,
    "start_time": "2023-04-28T17:39:10.112Z"
   },
   {
    "duration": 1281,
    "start_time": "2023-04-28T17:39:11.153Z"
   },
   {
    "duration": 9,
    "start_time": "2023-04-28T17:39:12.729Z"
   },
   {
    "duration": 4,
    "start_time": "2023-04-28T17:39:42.146Z"
   },
   {
    "duration": 9,
    "start_time": "2023-04-28T17:39:55.451Z"
   },
   {
    "duration": 4,
    "start_time": "2023-04-28T17:39:55.845Z"
   },
   {
    "duration": 776,
    "start_time": "2023-04-28T17:39:56.182Z"
   },
   {
    "duration": 8,
    "start_time": "2023-04-28T17:40:05.815Z"
   },
   {
    "duration": 4,
    "start_time": "2023-04-28T17:40:06.149Z"
   },
   {
    "duration": 8,
    "start_time": "2023-04-28T17:40:10.874Z"
   },
   {
    "duration": 5,
    "start_time": "2023-04-28T17:40:11.250Z"
   },
   {
    "duration": 9,
    "start_time": "2023-04-28T17:40:17.127Z"
   },
   {
    "duration": 5,
    "start_time": "2023-04-28T17:40:17.702Z"
   },
   {
    "duration": 1008,
    "start_time": "2023-04-28T17:40:20.935Z"
   },
   {
    "duration": 1664,
    "start_time": "2023-04-28T17:40:21.945Z"
   },
   {
    "duration": 4,
    "start_time": "2023-04-28T17:40:48.298Z"
   },
   {
    "duration": 3,
    "start_time": "2023-04-28T17:41:35.170Z"
   },
   {
    "duration": 9,
    "start_time": "2023-04-28T17:42:19.505Z"
   },
   {
    "duration": 4,
    "start_time": "2023-04-28T17:42:19.803Z"
   },
   {
    "duration": 1006,
    "start_time": "2023-04-28T17:42:21.665Z"
   },
   {
    "duration": 8,
    "start_time": "2023-04-28T17:42:33.993Z"
   },
   {
    "duration": 5,
    "start_time": "2023-04-28T17:42:34.281Z"
   },
   {
    "duration": 1014,
    "start_time": "2023-04-28T17:42:34.728Z"
   },
   {
    "duration": 1486,
    "start_time": "2023-04-28T17:42:41.835Z"
   },
   {
    "duration": 11,
    "start_time": "2023-04-28T17:42:52.161Z"
   },
   {
    "duration": 1407,
    "start_time": "2023-04-28T17:43:51.900Z"
   },
   {
    "duration": 3,
    "start_time": "2023-04-28T17:43:53.308Z"
   },
   {
    "duration": 70,
    "start_time": "2023-04-28T17:43:53.312Z"
   },
   {
    "duration": 16,
    "start_time": "2023-04-28T17:43:53.383Z"
   },
   {
    "duration": 11,
    "start_time": "2023-04-28T17:43:53.400Z"
   },
   {
    "duration": 38,
    "start_time": "2023-04-28T17:43:53.412Z"
   },
   {
    "duration": 5,
    "start_time": "2023-04-28T17:43:53.451Z"
   },
   {
    "duration": 9,
    "start_time": "2023-04-28T17:43:53.457Z"
   },
   {
    "duration": 12,
    "start_time": "2023-04-28T17:43:53.467Z"
   },
   {
    "duration": 3,
    "start_time": "2023-04-28T17:43:53.480Z"
   },
   {
    "duration": 12,
    "start_time": "2023-04-28T17:43:53.485Z"
   },
   {
    "duration": 5,
    "start_time": "2023-04-28T17:43:53.498Z"
   },
   {
    "duration": 30,
    "start_time": "2023-04-28T17:43:53.505Z"
   },
   {
    "duration": 8,
    "start_time": "2023-04-28T17:43:53.538Z"
   },
   {
    "duration": 10,
    "start_time": "2023-04-28T17:43:53.547Z"
   },
   {
    "duration": 16,
    "start_time": "2023-04-28T17:43:53.558Z"
   },
   {
    "duration": 9,
    "start_time": "2023-04-28T17:43:53.575Z"
   },
   {
    "duration": 6,
    "start_time": "2023-04-28T17:43:53.585Z"
   },
   {
    "duration": 5,
    "start_time": "2023-04-28T17:43:53.592Z"
   },
   {
    "duration": 35,
    "start_time": "2023-04-28T17:43:53.598Z"
   },
   {
    "duration": 15,
    "start_time": "2023-04-28T17:43:53.635Z"
   },
   {
    "duration": 26,
    "start_time": "2023-04-28T17:43:53.651Z"
   },
   {
    "duration": 18,
    "start_time": "2023-04-28T17:43:53.678Z"
   },
   {
    "duration": 2,
    "start_time": "2023-04-28T17:43:53.697Z"
   },
   {
    "duration": 12,
    "start_time": "2023-04-28T17:43:53.701Z"
   },
   {
    "duration": 4,
    "start_time": "2023-04-28T17:43:53.732Z"
   },
   {
    "duration": 8,
    "start_time": "2023-04-28T17:43:53.738Z"
   },
   {
    "duration": 8,
    "start_time": "2023-04-28T17:43:53.747Z"
   },
   {
    "duration": 136,
    "start_time": "2023-04-28T17:43:53.757Z"
   },
   {
    "duration": 650,
    "start_time": "2023-04-28T17:43:53.894Z"
   },
   {
    "duration": 1465,
    "start_time": "2023-04-28T17:43:54.545Z"
   },
   {
    "duration": 2533,
    "start_time": "2023-04-28T17:43:56.012Z"
   },
   {
    "duration": 7814,
    "start_time": "2023-04-28T17:43:58.547Z"
   },
   {
    "duration": 13,
    "start_time": "2023-04-28T17:44:06.362Z"
   },
   {
    "duration": 17,
    "start_time": "2023-04-28T17:44:06.377Z"
   },
   {
    "duration": 23,
    "start_time": "2023-04-28T17:44:06.396Z"
   },
   {
    "duration": 12,
    "start_time": "2023-04-28T17:44:06.420Z"
   },
   {
    "duration": 20,
    "start_time": "2023-04-28T17:44:06.434Z"
   },
   {
    "duration": 20,
    "start_time": "2023-04-28T17:44:06.456Z"
   },
   {
    "duration": 148,
    "start_time": "2023-04-28T17:44:06.478Z"
   },
   {
    "duration": 2272,
    "start_time": "2023-04-28T17:44:06.635Z"
   },
   {
    "duration": 2781,
    "start_time": "2023-04-28T17:44:08.909Z"
   },
   {
    "duration": 14,
    "start_time": "2023-04-28T17:44:11.691Z"
   },
   {
    "duration": 6,
    "start_time": "2023-04-28T17:44:11.707Z"
   },
   {
    "duration": 25,
    "start_time": "2023-04-28T17:44:11.715Z"
   },
   {
    "duration": 5,
    "start_time": "2023-04-28T17:44:11.742Z"
   },
   {
    "duration": 1220,
    "start_time": "2023-04-28T17:44:11.749Z"
   },
   {
    "duration": 1818,
    "start_time": "2023-04-28T17:44:12.972Z"
   },
   {
    "duration": 11,
    "start_time": "2023-04-28T17:44:14.791Z"
   },
   {
    "duration": 15,
    "start_time": "2023-04-28T17:45:47.730Z"
   },
   {
    "duration": 5,
    "start_time": "2023-04-28T18:04:31.559Z"
   },
   {
    "duration": 4,
    "start_time": "2023-04-28T18:07:55.993Z"
   },
   {
    "duration": 4,
    "start_time": "2023-04-28T18:11:58.281Z"
   },
   {
    "duration": 9,
    "start_time": "2023-04-28T18:12:05.983Z"
   },
   {
    "duration": 186,
    "start_time": "2023-04-28T18:13:50.657Z"
   },
   {
    "duration": 181,
    "start_time": "2023-04-28T18:14:35.024Z"
   },
   {
    "duration": 79,
    "start_time": "2023-04-28T18:16:50.646Z"
   },
   {
    "duration": 196,
    "start_time": "2023-04-28T18:18:08.237Z"
   },
   {
    "duration": 75,
    "start_time": "2023-04-28T18:18:38.317Z"
   },
   {
    "duration": 187,
    "start_time": "2023-04-28T18:18:42.495Z"
   },
   {
    "duration": 10,
    "start_time": "2023-04-28T18:19:19.984Z"
   },
   {
    "duration": 123,
    "start_time": "2023-04-28T18:37:25.410Z"
   },
   {
    "duration": 47,
    "start_time": "2023-04-28T18:57:40.673Z"
   },
   {
    "duration": 57,
    "start_time": "2023-04-28T18:57:45.912Z"
   },
   {
    "duration": 55,
    "start_time": "2023-04-28T18:57:55.976Z"
   },
   {
    "duration": 67,
    "start_time": "2023-04-28T18:58:36.931Z"
   },
   {
    "duration": 59,
    "start_time": "2023-04-28T18:58:59.150Z"
   },
   {
    "duration": 66,
    "start_time": "2023-04-28T18:59:06.133Z"
   },
   {
    "duration": 13,
    "start_time": "2023-04-28T18:59:08.501Z"
   },
   {
    "duration": 3,
    "start_time": "2023-04-28T18:59:39.666Z"
   },
   {
    "duration": 62,
    "start_time": "2023-04-28T19:01:31.425Z"
   },
   {
    "duration": 4,
    "start_time": "2023-04-28T19:01:31.912Z"
   },
   {
    "duration": 15,
    "start_time": "2023-04-28T19:01:37.023Z"
   },
   {
    "duration": 6,
    "start_time": "2023-04-28T19:02:12.683Z"
   },
   {
    "duration": 8,
    "start_time": "2023-04-28T19:02:21.994Z"
   },
   {
    "duration": 102,
    "start_time": "2023-04-28T19:15:22.484Z"
   },
   {
    "duration": 72,
    "start_time": "2023-04-28T19:18:24.864Z"
   },
   {
    "duration": 121,
    "start_time": "2023-04-28T19:20:58.882Z"
   },
   {
    "duration": 3166,
    "start_time": "2023-04-28T19:21:08.547Z"
   },
   {
    "duration": 3131,
    "start_time": "2023-04-28T19:21:24.275Z"
   },
   {
    "duration": 2929,
    "start_time": "2023-04-28T19:21:52.972Z"
   },
   {
    "duration": 70,
    "start_time": "2023-04-28T19:22:56.228Z"
   },
   {
    "duration": 2934,
    "start_time": "2023-04-28T19:23:03.299Z"
   },
   {
    "duration": 2999,
    "start_time": "2023-04-28T19:24:16.932Z"
   },
   {
    "duration": 2942,
    "start_time": "2023-04-28T19:24:27.970Z"
   },
   {
    "duration": 2948,
    "start_time": "2023-04-28T19:30:33.511Z"
   },
   {
    "duration": 74,
    "start_time": "2023-04-28T19:31:43.765Z"
   },
   {
    "duration": 2921,
    "start_time": "2023-04-28T19:31:51.867Z"
   },
   {
    "duration": 3001,
    "start_time": "2023-04-28T19:32:15.473Z"
   },
   {
    "duration": 3032,
    "start_time": "2023-04-28T19:33:10.283Z"
   },
   {
    "duration": 187,
    "start_time": "2023-04-28T19:42:58.162Z"
   },
   {
    "duration": 50,
    "start_time": "2023-04-28T19:47:23.959Z"
   },
   {
    "duration": 4,
    "start_time": "2023-04-28T19:47:24.720Z"
   },
   {
    "duration": 3050,
    "start_time": "2023-04-28T19:47:25.229Z"
   },
   {
    "duration": 74,
    "start_time": "2023-04-28T19:49:02.038Z"
   },
   {
    "duration": 1322,
    "start_time": "2023-04-28T20:16:39.757Z"
   },
   {
    "duration": 3,
    "start_time": "2023-04-28T20:16:41.082Z"
   },
   {
    "duration": 89,
    "start_time": "2023-04-28T20:16:41.087Z"
   },
   {
    "duration": 18,
    "start_time": "2023-04-28T20:16:41.178Z"
   },
   {
    "duration": 11,
    "start_time": "2023-04-28T20:16:41.197Z"
   },
   {
    "duration": 41,
    "start_time": "2023-04-28T20:16:41.209Z"
   },
   {
    "duration": 4,
    "start_time": "2023-04-28T20:16:41.252Z"
   },
   {
    "duration": 14,
    "start_time": "2023-04-28T20:16:41.257Z"
   },
   {
    "duration": 11,
    "start_time": "2023-04-28T20:16:41.273Z"
   },
   {
    "duration": 3,
    "start_time": "2023-04-28T20:16:41.287Z"
   },
   {
    "duration": 15,
    "start_time": "2023-04-28T20:16:41.291Z"
   },
   {
    "duration": 26,
    "start_time": "2023-04-28T20:16:41.307Z"
   },
   {
    "duration": 4,
    "start_time": "2023-04-28T20:16:41.335Z"
   },
   {
    "duration": 15,
    "start_time": "2023-04-28T20:16:41.340Z"
   },
   {
    "duration": 18,
    "start_time": "2023-04-28T20:16:41.357Z"
   },
   {
    "duration": 21,
    "start_time": "2023-04-28T20:16:41.377Z"
   },
   {
    "duration": 11,
    "start_time": "2023-04-28T20:16:41.399Z"
   },
   {
    "duration": 26,
    "start_time": "2023-04-28T20:16:41.411Z"
   },
   {
    "duration": 5,
    "start_time": "2023-04-28T20:16:41.438Z"
   },
   {
    "duration": 8,
    "start_time": "2023-04-28T20:16:41.444Z"
   },
   {
    "duration": 25,
    "start_time": "2023-04-28T20:16:41.453Z"
   },
   {
    "duration": 33,
    "start_time": "2023-04-28T20:16:41.479Z"
   },
   {
    "duration": 24,
    "start_time": "2023-04-28T20:16:41.513Z"
   },
   {
    "duration": 3,
    "start_time": "2023-04-28T20:16:41.538Z"
   },
   {
    "duration": 5,
    "start_time": "2023-04-28T20:16:41.542Z"
   },
   {
    "duration": 11,
    "start_time": "2023-04-28T20:16:41.549Z"
   },
   {
    "duration": 8,
    "start_time": "2023-04-28T20:16:41.562Z"
   },
   {
    "duration": 8,
    "start_time": "2023-04-28T20:16:41.573Z"
   },
   {
    "duration": 141,
    "start_time": "2023-04-28T20:16:41.582Z"
   },
   {
    "duration": 634,
    "start_time": "2023-04-28T20:16:41.725Z"
   },
   {
    "duration": 1534,
    "start_time": "2023-04-28T20:16:42.360Z"
   },
   {
    "duration": 2228,
    "start_time": "2023-04-28T20:16:43.896Z"
   },
   {
    "duration": 6600,
    "start_time": "2023-04-28T20:16:46.126Z"
   },
   {
    "duration": 17,
    "start_time": "2023-04-28T20:16:52.727Z"
   },
   {
    "duration": 12,
    "start_time": "2023-04-28T20:16:52.746Z"
   },
   {
    "duration": 12,
    "start_time": "2023-04-28T20:16:52.759Z"
   },
   {
    "duration": 8,
    "start_time": "2023-04-28T20:16:52.772Z"
   },
   {
    "duration": 10,
    "start_time": "2023-04-28T20:16:52.781Z"
   },
   {
    "duration": 4,
    "start_time": "2023-04-28T20:16:52.793Z"
   },
   {
    "duration": 118,
    "start_time": "2023-04-28T20:16:52.799Z"
   },
   {
    "duration": 1805,
    "start_time": "2023-04-28T20:16:52.918Z"
   },
   {
    "duration": 2345,
    "start_time": "2023-04-28T20:16:54.725Z"
   },
   {
    "duration": 12,
    "start_time": "2023-04-28T20:16:57.072Z"
   },
   {
    "duration": 8,
    "start_time": "2023-04-28T20:16:57.085Z"
   },
   {
    "duration": 19,
    "start_time": "2023-04-28T20:16:57.095Z"
   },
   {
    "duration": 5,
    "start_time": "2023-04-28T20:16:57.116Z"
   },
   {
    "duration": 1006,
    "start_time": "2023-04-28T20:16:57.123Z"
   },
   {
    "duration": 1432,
    "start_time": "2023-04-28T20:16:58.131Z"
   },
   {
    "duration": 13,
    "start_time": "2023-04-28T20:16:59.565Z"
   },
   {
    "duration": 13,
    "start_time": "2023-04-28T20:16:59.580Z"
   },
   {
    "duration": 209,
    "start_time": "2023-04-28T20:16:59.595Z"
   },
   {
    "duration": 59,
    "start_time": "2023-04-28T20:16:59.805Z"
   },
   {
    "duration": 3,
    "start_time": "2023-04-28T20:16:59.866Z"
   },
   {
    "duration": 3109,
    "start_time": "2023-04-28T20:16:59.871Z"
   },
   {
    "duration": 4,
    "start_time": "2023-04-28T20:35:37.525Z"
   },
   {
    "duration": 111,
    "start_time": "2023-04-28T20:36:44.890Z"
   },
   {
    "duration": 7,
    "start_time": "2023-04-28T20:37:37.541Z"
   },
   {
    "duration": 7,
    "start_time": "2023-04-28T20:39:51.184Z"
   },
   {
    "duration": 6,
    "start_time": "2023-04-28T20:40:03.649Z"
   },
   {
    "duration": 6,
    "start_time": "2023-04-28T20:41:26.434Z"
   },
   {
    "duration": 43,
    "start_time": "2023-04-28T20:53:48.651Z"
   },
   {
    "duration": 1347,
    "start_time": "2023-04-28T20:53:55.658Z"
   },
   {
    "duration": 3,
    "start_time": "2023-04-28T20:53:57.007Z"
   },
   {
    "duration": 71,
    "start_time": "2023-04-28T20:53:57.011Z"
   },
   {
    "duration": 14,
    "start_time": "2023-04-28T20:53:57.083Z"
   },
   {
    "duration": 12,
    "start_time": "2023-04-28T20:53:57.099Z"
   },
   {
    "duration": 42,
    "start_time": "2023-04-28T20:53:57.112Z"
   },
   {
    "duration": 4,
    "start_time": "2023-04-28T20:53:57.155Z"
   },
   {
    "duration": 22,
    "start_time": "2023-04-28T20:53:57.160Z"
   },
   {
    "duration": 13,
    "start_time": "2023-04-28T20:53:57.183Z"
   },
   {
    "duration": 4,
    "start_time": "2023-04-28T20:53:57.197Z"
   },
   {
    "duration": 15,
    "start_time": "2023-04-28T20:53:57.202Z"
   },
   {
    "duration": 5,
    "start_time": "2023-04-28T20:53:57.218Z"
   },
   {
    "duration": 10,
    "start_time": "2023-04-28T20:53:57.225Z"
   },
   {
    "duration": 12,
    "start_time": "2023-04-28T20:53:57.237Z"
   },
   {
    "duration": 12,
    "start_time": "2023-04-28T20:53:57.250Z"
   },
   {
    "duration": 16,
    "start_time": "2023-04-28T20:53:57.263Z"
   },
   {
    "duration": 8,
    "start_time": "2023-04-28T20:53:57.281Z"
   },
   {
    "duration": 6,
    "start_time": "2023-04-28T20:53:57.290Z"
   },
   {
    "duration": 4,
    "start_time": "2023-04-28T20:53:57.297Z"
   },
   {
    "duration": 9,
    "start_time": "2023-04-28T20:53:57.303Z"
   },
   {
    "duration": 19,
    "start_time": "2023-04-28T20:53:57.334Z"
   },
   {
    "duration": 25,
    "start_time": "2023-04-28T20:53:57.354Z"
   },
   {
    "duration": 16,
    "start_time": "2023-04-28T20:53:57.380Z"
   },
   {
    "duration": 3,
    "start_time": "2023-04-28T20:53:57.397Z"
   },
   {
    "duration": 8,
    "start_time": "2023-04-28T20:53:57.401Z"
   },
   {
    "duration": 5,
    "start_time": "2023-04-28T20:53:57.410Z"
   },
   {
    "duration": 6,
    "start_time": "2023-04-28T20:53:57.433Z"
   },
   {
    "duration": 13,
    "start_time": "2023-04-28T20:53:57.440Z"
   },
   {
    "duration": 126,
    "start_time": "2023-04-28T20:53:57.455Z"
   },
   {
    "duration": 643,
    "start_time": "2023-04-28T20:53:57.583Z"
   },
   {
    "duration": 1462,
    "start_time": "2023-04-28T20:53:58.227Z"
   },
   {
    "duration": 2241,
    "start_time": "2023-04-28T20:53:59.691Z"
   },
   {
    "duration": 7101,
    "start_time": "2023-04-28T20:54:01.934Z"
   },
   {
    "duration": 13,
    "start_time": "2023-04-28T20:54:09.036Z"
   },
   {
    "duration": 19,
    "start_time": "2023-04-28T20:54:09.050Z"
   },
   {
    "duration": 31,
    "start_time": "2023-04-28T20:54:09.070Z"
   },
   {
    "duration": 26,
    "start_time": "2023-04-28T20:54:09.102Z"
   },
   {
    "duration": 26,
    "start_time": "2023-04-28T20:54:09.129Z"
   },
   {
    "duration": 6,
    "start_time": "2023-04-28T20:54:09.157Z"
   },
   {
    "duration": 110,
    "start_time": "2023-04-28T20:54:09.164Z"
   },
   {
    "duration": 1778,
    "start_time": "2023-04-28T20:54:09.278Z"
   },
   {
    "duration": 2313,
    "start_time": "2023-04-28T20:54:11.057Z"
   },
   {
    "duration": 22,
    "start_time": "2023-04-28T20:54:13.372Z"
   },
   {
    "duration": 8,
    "start_time": "2023-04-28T20:54:13.395Z"
   },
   {
    "duration": 36,
    "start_time": "2023-04-28T20:54:13.405Z"
   },
   {
    "duration": 9,
    "start_time": "2023-04-28T20:54:13.442Z"
   },
   {
    "duration": 989,
    "start_time": "2023-04-28T20:54:13.452Z"
   },
   {
    "duration": 1473,
    "start_time": "2023-04-28T20:54:14.443Z"
   },
   {
    "duration": 18,
    "start_time": "2023-04-28T20:54:15.917Z"
   },
   {
    "duration": 21,
    "start_time": "2023-04-28T20:54:15.936Z"
   },
   {
    "duration": 186,
    "start_time": "2023-04-28T20:54:15.959Z"
   },
   {
    "duration": 50,
    "start_time": "2023-04-28T20:54:16.147Z"
   },
   {
    "duration": 3,
    "start_time": "2023-04-28T20:54:16.199Z"
   },
   {
    "duration": 3279,
    "start_time": "2023-04-28T20:54:16.204Z"
   },
   {
    "duration": 7,
    "start_time": "2023-04-28T20:54:19.485Z"
   },
   {
    "duration": 1487,
    "start_time": "2023-04-29T19:59:56.684Z"
   },
   {
    "duration": 3,
    "start_time": "2023-04-29T19:59:58.173Z"
   },
   {
    "duration": 163,
    "start_time": "2023-04-29T19:59:58.178Z"
   },
   {
    "duration": 16,
    "start_time": "2023-04-29T19:59:58.343Z"
   },
   {
    "duration": 11,
    "start_time": "2023-04-29T19:59:58.360Z"
   },
   {
    "duration": 41,
    "start_time": "2023-04-29T19:59:58.373Z"
   },
   {
    "duration": 4,
    "start_time": "2023-04-29T19:59:58.416Z"
   },
   {
    "duration": 6,
    "start_time": "2023-04-29T19:59:58.433Z"
   },
   {
    "duration": 10,
    "start_time": "2023-04-29T19:59:58.441Z"
   },
   {
    "duration": 3,
    "start_time": "2023-04-29T19:59:58.454Z"
   },
   {
    "duration": 14,
    "start_time": "2023-04-29T19:59:58.458Z"
   },
   {
    "duration": 6,
    "start_time": "2023-04-29T19:59:58.473Z"
   },
   {
    "duration": 5,
    "start_time": "2023-04-29T19:59:58.480Z"
   },
   {
    "duration": 8,
    "start_time": "2023-04-29T19:59:58.486Z"
   },
   {
    "duration": 42,
    "start_time": "2023-04-29T19:59:58.495Z"
   },
   {
    "duration": 17,
    "start_time": "2023-04-29T19:59:58.539Z"
   },
   {
    "duration": 17,
    "start_time": "2023-04-29T19:59:58.558Z"
   },
   {
    "duration": 5,
    "start_time": "2023-04-29T19:59:58.577Z"
   },
   {
    "duration": 4,
    "start_time": "2023-04-29T19:59:58.583Z"
   },
   {
    "duration": 9,
    "start_time": "2023-04-29T19:59:58.588Z"
   },
   {
    "duration": 16,
    "start_time": "2023-04-29T19:59:58.599Z"
   },
   {
    "duration": 26,
    "start_time": "2023-04-29T19:59:58.633Z"
   },
   {
    "duration": 16,
    "start_time": "2023-04-29T19:59:58.661Z"
   },
   {
    "duration": 3,
    "start_time": "2023-04-29T19:59:58.678Z"
   },
   {
    "duration": 5,
    "start_time": "2023-04-29T19:59:58.682Z"
   },
   {
    "duration": 6,
    "start_time": "2023-04-29T19:59:58.688Z"
   },
   {
    "duration": 8,
    "start_time": "2023-04-29T19:59:58.695Z"
   },
   {
    "duration": 28,
    "start_time": "2023-04-29T19:59:58.706Z"
   },
   {
    "duration": 130,
    "start_time": "2023-04-29T19:59:58.735Z"
   },
   {
    "duration": 640,
    "start_time": "2023-04-29T19:59:58.866Z"
   },
   {
    "duration": 1582,
    "start_time": "2023-04-29T19:59:59.507Z"
   },
   {
    "duration": 2393,
    "start_time": "2023-04-29T20:00:01.090Z"
   },
   {
    "duration": 8483,
    "start_time": "2023-04-29T20:00:03.485Z"
   },
   {
    "duration": 16,
    "start_time": "2023-04-29T20:00:11.970Z"
   },
   {
    "duration": 26,
    "start_time": "2023-04-29T20:00:11.988Z"
   },
   {
    "duration": 12,
    "start_time": "2023-04-29T20:00:12.017Z"
   },
   {
    "duration": 15,
    "start_time": "2023-04-29T20:00:12.031Z"
   },
   {
    "duration": 20,
    "start_time": "2023-04-29T20:00:12.049Z"
   },
   {
    "duration": 14,
    "start_time": "2023-04-29T20:00:12.072Z"
   },
   {
    "duration": 169,
    "start_time": "2023-04-29T20:00:12.089Z"
   },
   {
    "duration": 2315,
    "start_time": "2023-04-29T20:00:12.260Z"
   },
   {
    "duration": 2829,
    "start_time": "2023-04-29T20:00:14.576Z"
   },
   {
    "duration": 13,
    "start_time": "2023-04-29T20:00:17.406Z"
   },
   {
    "duration": 4,
    "start_time": "2023-04-29T20:00:17.432Z"
   },
   {
    "duration": 13,
    "start_time": "2023-04-29T20:00:17.437Z"
   },
   {
    "duration": 6,
    "start_time": "2023-04-29T20:00:17.452Z"
   },
   {
    "duration": 1085,
    "start_time": "2023-04-29T20:00:17.459Z"
   },
   {
    "duration": 1554,
    "start_time": "2023-04-29T20:00:18.546Z"
   },
   {
    "duration": 15,
    "start_time": "2023-04-29T20:00:20.101Z"
   },
   {
    "duration": 24,
    "start_time": "2023-04-29T20:00:20.117Z"
   },
   {
    "duration": 211,
    "start_time": "2023-04-29T20:00:20.143Z"
   },
   {
    "duration": 56,
    "start_time": "2023-04-29T20:00:20.355Z"
   },
   {
    "duration": 4,
    "start_time": "2023-04-29T20:00:20.412Z"
   },
   {
    "duration": 3160,
    "start_time": "2023-04-29T20:00:20.417Z"
   },
   {
    "duration": 6,
    "start_time": "2023-04-29T20:00:23.579Z"
   },
   {
    "duration": 14,
    "start_time": "2023-04-29T20:08:39.206Z"
   },
   {
    "duration": 609,
    "start_time": "2023-04-29T20:09:11.979Z"
   },
   {
    "duration": 108,
    "start_time": "2023-04-29T20:09:44.509Z"
   },
   {
    "duration": 15,
    "start_time": "2023-04-29T20:10:23.497Z"
   },
   {
    "duration": 16,
    "start_time": "2023-04-29T20:16:37.676Z"
   },
   {
    "duration": 4,
    "start_time": "2023-04-29T20:17:46.242Z"
   },
   {
    "duration": 9,
    "start_time": "2023-04-29T20:17:46.248Z"
   },
   {
    "duration": 80,
    "start_time": "2023-04-29T20:17:46.259Z"
   },
   {
    "duration": 12,
    "start_time": "2023-04-29T20:17:46.341Z"
   },
   {
    "duration": 22,
    "start_time": "2023-04-29T20:17:46.355Z"
   },
   {
    "duration": 43,
    "start_time": "2023-04-29T20:17:46.379Z"
   },
   {
    "duration": 25,
    "start_time": "2023-04-29T20:17:46.424Z"
   },
   {
    "duration": 4,
    "start_time": "2023-04-29T20:17:46.451Z"
   },
   {
    "duration": 8,
    "start_time": "2023-04-29T20:17:46.457Z"
   },
   {
    "duration": 16,
    "start_time": "2023-04-29T20:17:46.467Z"
   },
   {
    "duration": 4,
    "start_time": "2023-04-29T20:17:46.485Z"
   },
   {
    "duration": 11,
    "start_time": "2023-04-29T20:17:46.490Z"
   },
   {
    "duration": 35,
    "start_time": "2023-04-29T20:17:46.502Z"
   },
   {
    "duration": 4,
    "start_time": "2023-04-29T20:17:46.538Z"
   },
   {
    "duration": 10,
    "start_time": "2023-04-29T20:17:46.544Z"
   },
   {
    "duration": 10,
    "start_time": "2023-04-29T20:17:46.556Z"
   },
   {
    "duration": 17,
    "start_time": "2023-04-29T20:17:46.567Z"
   },
   {
    "duration": 49,
    "start_time": "2023-04-29T20:17:46.586Z"
   },
   {
    "duration": 8,
    "start_time": "2023-04-29T20:17:46.637Z"
   },
   {
    "duration": 7,
    "start_time": "2023-04-29T20:17:46.647Z"
   },
   {
    "duration": 14,
    "start_time": "2023-04-29T20:17:46.656Z"
   },
   {
    "duration": 28,
    "start_time": "2023-04-29T20:17:46.672Z"
   },
   {
    "duration": 45,
    "start_time": "2023-04-29T20:17:46.702Z"
   },
   {
    "duration": 19,
    "start_time": "2023-04-29T20:17:46.751Z"
   },
   {
    "duration": 33,
    "start_time": "2023-04-29T20:17:46.772Z"
   },
   {
    "duration": 32,
    "start_time": "2023-04-29T20:17:46.807Z"
   },
   {
    "duration": 13,
    "start_time": "2023-04-29T20:17:46.840Z"
   },
   {
    "duration": 11,
    "start_time": "2023-04-29T20:17:46.854Z"
   },
   {
    "duration": 18,
    "start_time": "2023-04-29T20:17:46.867Z"
   },
   {
    "duration": 126,
    "start_time": "2023-04-29T20:17:46.886Z"
   },
   {
    "duration": 645,
    "start_time": "2023-04-29T20:17:47.013Z"
   },
   {
    "duration": 1759,
    "start_time": "2023-04-29T20:17:47.660Z"
   },
   {
    "duration": 3189,
    "start_time": "2023-04-29T20:17:49.421Z"
   },
   {
    "duration": 7124,
    "start_time": "2023-04-29T20:17:52.611Z"
   },
   {
    "duration": 12,
    "start_time": "2023-04-29T20:17:59.737Z"
   },
   {
    "duration": 6,
    "start_time": "2023-04-29T20:17:59.751Z"
   },
   {
    "duration": 6,
    "start_time": "2023-04-29T20:17:59.758Z"
   },
   {
    "duration": 8,
    "start_time": "2023-04-29T20:17:59.765Z"
   },
   {
    "duration": 11,
    "start_time": "2023-04-29T20:17:59.774Z"
   },
   {
    "duration": 4,
    "start_time": "2023-04-29T20:17:59.787Z"
   },
   {
    "duration": 135,
    "start_time": "2023-04-29T20:17:59.792Z"
   },
   {
    "duration": 1943,
    "start_time": "2023-04-29T20:17:59.929Z"
   },
   {
    "duration": 2529,
    "start_time": "2023-04-29T20:18:01.874Z"
   },
   {
    "duration": 13,
    "start_time": "2023-04-29T20:18:04.404Z"
   },
   {
    "duration": 19,
    "start_time": "2023-04-29T20:18:04.419Z"
   },
   {
    "duration": 23,
    "start_time": "2023-04-29T20:18:04.440Z"
   },
   {
    "duration": 6,
    "start_time": "2023-04-29T20:18:04.465Z"
   },
   {
    "duration": 1045,
    "start_time": "2023-04-29T20:18:04.473Z"
   },
   {
    "duration": 1623,
    "start_time": "2023-04-29T20:18:05.520Z"
   },
   {
    "duration": 13,
    "start_time": "2023-04-29T20:18:07.144Z"
   },
   {
    "duration": 14,
    "start_time": "2023-04-29T20:18:07.159Z"
   },
   {
    "duration": 214,
    "start_time": "2023-04-29T20:18:07.175Z"
   },
   {
    "duration": 63,
    "start_time": "2023-04-29T20:18:07.390Z"
   },
   {
    "duration": 4,
    "start_time": "2023-04-29T20:18:07.454Z"
   },
   {
    "duration": 3176,
    "start_time": "2023-04-29T20:18:07.459Z"
   },
   {
    "duration": 7,
    "start_time": "2023-04-29T20:18:10.636Z"
   },
   {
    "duration": 9,
    "start_time": "2023-04-29T20:20:19.828Z"
   },
   {
    "duration": 108,
    "start_time": "2023-04-29T20:20:33.806Z"
   },
   {
    "duration": 13,
    "start_time": "2023-04-29T20:20:35.502Z"
   },
   {
    "duration": 148,
    "start_time": "2023-04-29T20:21:06.004Z"
   },
   {
    "duration": 13,
    "start_time": "2023-04-29T20:21:07.630Z"
   },
   {
    "duration": 8,
    "start_time": "2023-04-29T20:56:05.495Z"
   },
   {
    "duration": 9,
    "start_time": "2023-04-29T21:03:40.430Z"
   },
   {
    "duration": 6,
    "start_time": "2023-04-29T21:03:41.390Z"
   },
   {
    "duration": 9,
    "start_time": "2023-04-29T21:03:48.949Z"
   },
   {
    "duration": 4,
    "start_time": "2023-04-29T21:03:49.841Z"
   },
   {
    "duration": 9,
    "start_time": "2023-04-29T21:03:58.289Z"
   },
   {
    "duration": 4,
    "start_time": "2023-04-29T21:04:00.124Z"
   },
   {
    "duration": 10,
    "start_time": "2023-04-29T21:04:10.887Z"
   },
   {
    "duration": 5,
    "start_time": "2023-04-29T21:04:12.253Z"
   },
   {
    "duration": 81,
    "start_time": "2023-04-29T21:04:25.038Z"
   },
   {
    "duration": 8,
    "start_time": "2023-04-29T21:04:36.981Z"
   },
   {
    "duration": 5,
    "start_time": "2023-04-29T21:04:37.965Z"
   },
   {
    "duration": 10,
    "start_time": "2023-04-29T21:04:42.413Z"
   },
   {
    "duration": 5,
    "start_time": "2023-04-29T21:04:43.191Z"
   },
   {
    "duration": 8,
    "start_time": "2023-04-29T21:04:50.045Z"
   },
   {
    "duration": 4,
    "start_time": "2023-04-29T21:04:50.743Z"
   },
   {
    "duration": 8,
    "start_time": "2023-04-29T21:04:55.902Z"
   },
   {
    "duration": 4,
    "start_time": "2023-04-29T21:04:56.565Z"
   },
   {
    "duration": 9,
    "start_time": "2023-04-29T21:05:00.718Z"
   },
   {
    "duration": 5,
    "start_time": "2023-04-29T21:05:01.311Z"
   },
   {
    "duration": 8,
    "start_time": "2023-04-29T21:05:05.813Z"
   },
   {
    "duration": 5,
    "start_time": "2023-04-29T21:05:06.501Z"
   },
   {
    "duration": 9,
    "start_time": "2023-04-29T21:05:16.804Z"
   },
   {
    "duration": 5,
    "start_time": "2023-04-29T21:05:17.308Z"
   },
   {
    "duration": 8,
    "start_time": "2023-04-29T21:05:23.208Z"
   },
   {
    "duration": 5,
    "start_time": "2023-04-29T21:05:23.883Z"
   },
   {
    "duration": 12,
    "start_time": "2023-04-29T21:05:35.953Z"
   },
   {
    "duration": 6,
    "start_time": "2023-04-29T21:05:36.751Z"
   },
   {
    "duration": 9,
    "start_time": "2023-04-29T21:05:42.254Z"
   },
   {
    "duration": 5,
    "start_time": "2023-04-29T21:05:43.101Z"
   },
   {
    "duration": 9,
    "start_time": "2023-04-29T21:05:49.789Z"
   },
   {
    "duration": 5,
    "start_time": "2023-04-29T21:05:50.293Z"
   },
   {
    "duration": 8,
    "start_time": "2023-04-29T21:12:28.687Z"
   },
   {
    "duration": 5,
    "start_time": "2023-04-29T21:12:28.991Z"
   },
   {
    "duration": 4,
    "start_time": "2023-04-29T21:12:35.191Z"
   },
   {
    "duration": 7,
    "start_time": "2023-04-29T21:12:35.487Z"
   },
   {
    "duration": 5,
    "start_time": "2023-04-29T21:12:35.928Z"
   },
   {
    "duration": 8,
    "start_time": "2023-04-29T21:13:03.499Z"
   },
   {
    "duration": 5,
    "start_time": "2023-04-29T21:13:03.949Z"
   },
   {
    "duration": 4,
    "start_time": "2023-04-29T21:13:20.881Z"
   },
   {
    "duration": 8,
    "start_time": "2023-04-29T21:13:21.338Z"
   },
   {
    "duration": 5,
    "start_time": "2023-04-29T21:13:21.730Z"
   },
   {
    "duration": 13,
    "start_time": "2023-04-29T21:14:02.270Z"
   },
   {
    "duration": 3,
    "start_time": "2023-04-29T21:14:04.062Z"
   },
   {
    "duration": 9,
    "start_time": "2023-04-29T21:14:04.358Z"
   },
   {
    "duration": 4,
    "start_time": "2023-04-29T21:14:04.886Z"
   },
   {
    "duration": 4,
    "start_time": "2023-04-29T21:14:17.829Z"
   },
   {
    "duration": 8,
    "start_time": "2023-04-29T21:14:18.165Z"
   },
   {
    "duration": 5,
    "start_time": "2023-04-29T21:14:18.709Z"
   },
   {
    "duration": 1334,
    "start_time": "2023-04-29T21:14:32.639Z"
   },
   {
    "duration": 2,
    "start_time": "2023-04-29T21:14:33.975Z"
   },
   {
    "duration": 163,
    "start_time": "2023-04-29T21:14:33.979Z"
   },
   {
    "duration": 15,
    "start_time": "2023-04-29T21:14:34.143Z"
   },
   {
    "duration": 10,
    "start_time": "2023-04-29T21:14:34.160Z"
   },
   {
    "duration": 36,
    "start_time": "2023-04-29T21:14:34.171Z"
   },
   {
    "duration": 32,
    "start_time": "2023-04-29T21:14:34.208Z"
   },
   {
    "duration": 4,
    "start_time": "2023-04-29T21:14:34.241Z"
   },
   {
    "duration": 12,
    "start_time": "2023-04-29T21:14:34.247Z"
   },
   {
    "duration": 13,
    "start_time": "2023-04-29T21:14:34.260Z"
   },
   {
    "duration": 4,
    "start_time": "2023-04-29T21:14:34.274Z"
   },
   {
    "duration": 12,
    "start_time": "2023-04-29T21:14:34.279Z"
   },
   {
    "duration": 5,
    "start_time": "2023-04-29T21:14:34.293Z"
   },
   {
    "duration": 6,
    "start_time": "2023-04-29T21:14:34.301Z"
   },
   {
    "duration": 7,
    "start_time": "2023-04-29T21:14:34.333Z"
   },
   {
    "duration": 13,
    "start_time": "2023-04-29T21:14:34.341Z"
   },
   {
    "duration": 19,
    "start_time": "2023-04-29T21:14:34.355Z"
   },
   {
    "duration": 10,
    "start_time": "2023-04-29T21:14:34.375Z"
   },
   {
    "duration": 7,
    "start_time": "2023-04-29T21:14:34.386Z"
   },
   {
    "duration": 8,
    "start_time": "2023-04-29T21:14:34.394Z"
   },
   {
    "duration": 15,
    "start_time": "2023-04-29T21:14:34.403Z"
   },
   {
    "duration": 28,
    "start_time": "2023-04-29T21:14:34.419Z"
   },
   {
    "duration": 25,
    "start_time": "2023-04-29T21:14:34.448Z"
   },
   {
    "duration": 15,
    "start_time": "2023-04-29T21:14:34.475Z"
   },
   {
    "duration": 3,
    "start_time": "2023-04-29T21:14:34.491Z"
   },
   {
    "duration": 5,
    "start_time": "2023-04-29T21:14:34.495Z"
   },
   {
    "duration": 8,
    "start_time": "2023-04-29T21:14:34.501Z"
   },
   {
    "duration": 23,
    "start_time": "2023-04-29T21:14:34.510Z"
   },
   {
    "duration": 10,
    "start_time": "2023-04-29T21:14:34.535Z"
   },
   {
    "duration": 120,
    "start_time": "2023-04-29T21:14:34.546Z"
   },
   {
    "duration": 614,
    "start_time": "2023-04-29T21:14:34.667Z"
   },
   {
    "duration": 1534,
    "start_time": "2023-04-29T21:14:35.283Z"
   },
   {
    "duration": 2928,
    "start_time": "2023-04-29T21:14:36.819Z"
   },
   {
    "duration": 6774,
    "start_time": "2023-04-29T21:14:39.749Z"
   },
   {
    "duration": 17,
    "start_time": "2023-04-29T21:14:46.524Z"
   },
   {
    "duration": 4,
    "start_time": "2023-04-29T21:14:46.543Z"
   },
   {
    "duration": 7,
    "start_time": "2023-04-29T21:14:46.548Z"
   },
   {
    "duration": 8,
    "start_time": "2023-04-29T21:14:46.557Z"
   },
   {
    "duration": 15,
    "start_time": "2023-04-29T21:14:46.566Z"
   },
   {
    "duration": 7,
    "start_time": "2023-04-29T21:14:46.582Z"
   },
   {
    "duration": 113,
    "start_time": "2023-04-29T21:14:46.592Z"
   },
   {
    "duration": 1805,
    "start_time": "2023-04-29T21:14:46.707Z"
   },
   {
    "duration": 2265,
    "start_time": "2023-04-29T21:14:48.514Z"
   },
   {
    "duration": 14,
    "start_time": "2023-04-29T21:14:50.781Z"
   },
   {
    "duration": 12,
    "start_time": "2023-04-29T21:14:50.797Z"
   },
   {
    "duration": 14,
    "start_time": "2023-04-29T21:14:50.810Z"
   },
   {
    "duration": 11,
    "start_time": "2023-04-29T21:14:50.825Z"
   },
   {
    "duration": 888,
    "start_time": "2023-04-29T21:14:50.837Z"
   },
   {
    "duration": 1009,
    "start_time": "2023-04-29T21:14:51.727Z"
   },
   {
    "duration": 12,
    "start_time": "2023-04-29T21:14:52.738Z"
   },
   {
    "duration": 12,
    "start_time": "2023-04-29T21:14:52.752Z"
   },
   {
    "duration": 134,
    "start_time": "2023-04-29T21:14:52.766Z"
   },
   {
    "duration": 53,
    "start_time": "2023-04-29T21:14:52.902Z"
   },
   {
    "duration": 4,
    "start_time": "2023-04-29T21:14:52.956Z"
   },
   {
    "duration": 2278,
    "start_time": "2023-04-29T21:14:52.961Z"
   },
   {
    "duration": 5,
    "start_time": "2023-04-29T21:14:55.241Z"
   },
   {
    "duration": 91,
    "start_time": "2023-04-29T21:19:10.583Z"
   },
   {
    "duration": 8,
    "start_time": "2023-04-29T21:19:25.527Z"
   },
   {
    "duration": 109,
    "start_time": "2023-04-29T21:19:29.782Z"
   },
   {
    "duration": 428,
    "start_time": "2023-04-29T21:19:35.662Z"
   },
   {
    "duration": 862,
    "start_time": "2023-04-29T21:19:47.683Z"
   },
   {
    "duration": 995,
    "start_time": "2023-04-29T21:19:52.563Z"
   },
   {
    "duration": 5529,
    "start_time": "2023-04-29T21:19:59.563Z"
   },
   {
    "duration": 7,
    "start_time": "2023-04-29T21:21:13.017Z"
   },
   {
    "duration": 101,
    "start_time": "2023-04-29T21:21:13.879Z"
   },
   {
    "duration": 415,
    "start_time": "2023-04-29T21:21:15.525Z"
   },
   {
    "duration": 8,
    "start_time": "2023-04-29T21:25:58.850Z"
   },
   {
    "duration": 112,
    "start_time": "2023-04-29T21:26:00.425Z"
   },
   {
    "duration": 422,
    "start_time": "2023-04-29T21:26:02.204Z"
   },
   {
    "duration": 870,
    "start_time": "2023-04-29T21:26:04.990Z"
   },
   {
    "duration": 1080,
    "start_time": "2023-04-29T21:26:05.861Z"
   },
   {
    "duration": 5367,
    "start_time": "2023-04-29T21:26:06.943Z"
   },
   {
    "duration": 13,
    "start_time": "2023-04-29T21:26:31.616Z"
   },
   {
    "duration": 1398,
    "start_time": "2023-04-29T21:26:53.608Z"
   },
   {
    "duration": 3,
    "start_time": "2023-04-29T21:26:55.007Z"
   },
   {
    "duration": 91,
    "start_time": "2023-04-29T21:26:55.012Z"
   },
   {
    "duration": 17,
    "start_time": "2023-04-29T21:26:55.104Z"
   },
   {
    "duration": 17,
    "start_time": "2023-04-29T21:26:55.123Z"
   },
   {
    "duration": 41,
    "start_time": "2023-04-29T21:26:55.141Z"
   },
   {
    "duration": 17,
    "start_time": "2023-04-29T21:26:55.183Z"
   },
   {
    "duration": 4,
    "start_time": "2023-04-29T21:26:55.201Z"
   },
   {
    "duration": 10,
    "start_time": "2023-04-29T21:26:55.207Z"
   },
   {
    "duration": 12,
    "start_time": "2023-04-29T21:26:55.234Z"
   },
   {
    "duration": 3,
    "start_time": "2023-04-29T21:26:55.247Z"
   },
   {
    "duration": 11,
    "start_time": "2023-04-29T21:26:55.252Z"
   },
   {
    "duration": 5,
    "start_time": "2023-04-29T21:26:55.264Z"
   },
   {
    "duration": 7,
    "start_time": "2023-04-29T21:26:55.272Z"
   },
   {
    "duration": 19,
    "start_time": "2023-04-29T21:26:55.281Z"
   },
   {
    "duration": 11,
    "start_time": "2023-04-29T21:26:55.301Z"
   },
   {
    "duration": 34,
    "start_time": "2023-04-29T21:26:55.313Z"
   },
   {
    "duration": 9,
    "start_time": "2023-04-29T21:26:55.348Z"
   },
   {
    "duration": 5,
    "start_time": "2023-04-29T21:26:55.359Z"
   },
   {
    "duration": 7,
    "start_time": "2023-04-29T21:26:55.366Z"
   },
   {
    "duration": 12,
    "start_time": "2023-04-29T21:26:55.375Z"
   },
   {
    "duration": 17,
    "start_time": "2023-04-29T21:26:55.388Z"
   },
   {
    "duration": 43,
    "start_time": "2023-04-29T21:26:55.407Z"
   },
   {
    "duration": 16,
    "start_time": "2023-04-29T21:26:55.451Z"
   },
   {
    "duration": 2,
    "start_time": "2023-04-29T21:26:55.469Z"
   },
   {
    "duration": 11,
    "start_time": "2023-04-29T21:26:55.473Z"
   },
   {
    "duration": 15,
    "start_time": "2023-04-29T21:26:55.485Z"
   },
   {
    "duration": 18,
    "start_time": "2023-04-29T21:26:55.501Z"
   },
   {
    "duration": 16,
    "start_time": "2023-04-29T21:26:55.520Z"
   },
   {
    "duration": 139,
    "start_time": "2023-04-29T21:26:55.537Z"
   },
   {
    "duration": 657,
    "start_time": "2023-04-29T21:26:55.678Z"
   },
   {
    "duration": 1513,
    "start_time": "2023-04-29T21:26:56.337Z"
   },
   {
    "duration": 2204,
    "start_time": "2023-04-29T21:26:57.851Z"
   },
   {
    "duration": 8284,
    "start_time": "2023-04-29T21:27:00.057Z"
   },
   {
    "duration": 12,
    "start_time": "2023-04-29T21:27:08.343Z"
   },
   {
    "duration": 12,
    "start_time": "2023-04-29T21:27:08.357Z"
   },
   {
    "duration": 8,
    "start_time": "2023-04-29T21:27:08.371Z"
   },
   {
    "duration": 54,
    "start_time": "2023-04-29T21:27:08.381Z"
   },
   {
    "duration": 17,
    "start_time": "2023-04-29T21:27:08.436Z"
   },
   {
    "duration": 4,
    "start_time": "2023-04-29T21:27:08.454Z"
   },
   {
    "duration": 210,
    "start_time": "2023-04-29T21:27:08.462Z"
   },
   {
    "duration": 2047,
    "start_time": "2023-04-29T21:27:08.673Z"
   },
   {
    "duration": 2293,
    "start_time": "2023-04-29T21:27:10.722Z"
   },
   {
    "duration": 18,
    "start_time": "2023-04-29T21:27:13.016Z"
   },
   {
    "duration": 6,
    "start_time": "2023-04-29T21:27:13.035Z"
   },
   {
    "duration": 11,
    "start_time": "2023-04-29T21:27:13.042Z"
   },
   {
    "duration": 4,
    "start_time": "2023-04-29T21:27:13.054Z"
   },
   {
    "duration": 904,
    "start_time": "2023-04-29T21:27:13.060Z"
   },
   {
    "duration": 1050,
    "start_time": "2023-04-29T21:27:13.966Z"
   },
   {
    "duration": 20,
    "start_time": "2023-04-29T21:27:15.017Z"
   },
   {
    "duration": 23,
    "start_time": "2023-04-29T21:27:15.038Z"
   },
   {
    "duration": 132,
    "start_time": "2023-04-29T21:27:15.062Z"
   },
   {
    "duration": 56,
    "start_time": "2023-04-29T21:27:15.195Z"
   },
   {
    "duration": 4,
    "start_time": "2023-04-29T21:27:15.252Z"
   },
   {
    "duration": 2373,
    "start_time": "2023-04-29T21:27:15.257Z"
   },
   {
    "duration": 5,
    "start_time": "2023-04-29T21:27:17.633Z"
   },
   {
    "duration": 52,
    "start_time": "2023-04-30T09:56:47.648Z"
   },
   {
    "duration": 1643,
    "start_time": "2023-04-30T09:56:55.932Z"
   },
   {
    "duration": 3,
    "start_time": "2023-04-30T09:56:57.578Z"
   },
   {
    "duration": 177,
    "start_time": "2023-04-30T09:56:57.584Z"
   },
   {
    "duration": 19,
    "start_time": "2023-04-30T09:56:57.763Z"
   },
   {
    "duration": 16,
    "start_time": "2023-04-30T09:56:57.784Z"
   },
   {
    "duration": 44,
    "start_time": "2023-04-30T09:56:57.802Z"
   },
   {
    "duration": 19,
    "start_time": "2023-04-30T09:56:57.848Z"
   },
   {
    "duration": 23,
    "start_time": "2023-04-30T09:56:57.868Z"
   },
   {
    "duration": 9,
    "start_time": "2023-04-30T09:56:57.893Z"
   },
   {
    "duration": 14,
    "start_time": "2023-04-30T09:56:57.904Z"
   },
   {
    "duration": 4,
    "start_time": "2023-04-30T09:56:57.920Z"
   },
   {
    "duration": 14,
    "start_time": "2023-04-30T09:56:57.927Z"
   },
   {
    "duration": 7,
    "start_time": "2023-04-30T09:56:57.944Z"
   },
   {
    "duration": 4,
    "start_time": "2023-04-30T09:56:57.991Z"
   },
   {
    "duration": 15,
    "start_time": "2023-04-30T09:56:57.997Z"
   },
   {
    "duration": 19,
    "start_time": "2023-04-30T09:56:58.014Z"
   },
   {
    "duration": 20,
    "start_time": "2023-04-30T09:56:58.035Z"
   },
   {
    "duration": 32,
    "start_time": "2023-04-30T09:56:58.057Z"
   },
   {
    "duration": 9,
    "start_time": "2023-04-30T09:56:58.091Z"
   },
   {
    "duration": 10,
    "start_time": "2023-04-30T09:56:58.102Z"
   },
   {
    "duration": 5,
    "start_time": "2023-04-30T09:56:58.114Z"
   },
   {
    "duration": 23,
    "start_time": "2023-04-30T09:56:58.121Z"
   },
   {
    "duration": 61,
    "start_time": "2023-04-30T09:56:58.146Z"
   },
   {
    "duration": 19,
    "start_time": "2023-04-30T09:56:58.209Z"
   },
   {
    "duration": 3,
    "start_time": "2023-04-30T09:56:58.229Z"
   },
   {
    "duration": 4,
    "start_time": "2023-04-30T09:57:01.336Z"
   },
   {
    "duration": 4,
    "start_time": "2023-04-30T09:57:06.350Z"
   },
   {
    "duration": 7,
    "start_time": "2023-04-30T09:57:06.766Z"
   },
   {
    "duration": 8,
    "start_time": "2023-04-30T09:57:10.023Z"
   },
   {
    "duration": 140,
    "start_time": "2023-04-30T09:57:23.214Z"
   },
   {
    "duration": 144,
    "start_time": "2023-04-30T10:03:11.610Z"
   },
   {
    "duration": 5,
    "start_time": "2023-04-30T10:03:16.362Z"
   },
   {
    "duration": 128,
    "start_time": "2023-04-30T10:03:19.370Z"
   },
   {
    "duration": 6,
    "start_time": "2023-04-30T10:03:22.797Z"
   },
   {
    "duration": 4,
    "start_time": "2023-04-30T10:04:03.533Z"
   },
   {
    "duration": 17,
    "start_time": "2023-04-30T10:04:03.540Z"
   },
   {
    "duration": 87,
    "start_time": "2023-04-30T10:04:03.559Z"
   },
   {
    "duration": 15,
    "start_time": "2023-04-30T10:04:03.648Z"
   },
   {
    "duration": 21,
    "start_time": "2023-04-30T10:04:03.666Z"
   },
   {
    "duration": 42,
    "start_time": "2023-04-30T10:04:03.690Z"
   },
   {
    "duration": 21,
    "start_time": "2023-04-30T10:04:03.735Z"
   },
   {
    "duration": 6,
    "start_time": "2023-04-30T10:04:03.758Z"
   },
   {
    "duration": 9,
    "start_time": "2023-04-30T10:04:03.790Z"
   },
   {
    "duration": 13,
    "start_time": "2023-04-30T10:04:03.800Z"
   },
   {
    "duration": 4,
    "start_time": "2023-04-30T10:04:03.815Z"
   },
   {
    "duration": 14,
    "start_time": "2023-04-30T10:04:03.820Z"
   },
   {
    "duration": 7,
    "start_time": "2023-04-30T10:04:03.837Z"
   },
   {
    "duration": 27,
    "start_time": "2023-04-30T10:04:03.846Z"
   },
   {
    "duration": 9,
    "start_time": "2023-04-30T10:04:03.889Z"
   },
   {
    "duration": 13,
    "start_time": "2023-04-30T10:04:03.900Z"
   },
   {
    "duration": 21,
    "start_time": "2023-04-30T10:04:03.915Z"
   },
   {
    "duration": 13,
    "start_time": "2023-04-30T10:04:03.938Z"
   },
   {
    "duration": 36,
    "start_time": "2023-04-30T10:04:03.953Z"
   },
   {
    "duration": 5,
    "start_time": "2023-04-30T10:04:03.991Z"
   },
   {
    "duration": 17,
    "start_time": "2023-04-30T10:04:03.998Z"
   },
   {
    "duration": 24,
    "start_time": "2023-04-30T10:04:04.017Z"
   },
   {
    "duration": 49,
    "start_time": "2023-04-30T10:04:04.043Z"
   },
   {
    "duration": 21,
    "start_time": "2023-04-30T10:04:04.093Z"
   },
   {
    "duration": 3,
    "start_time": "2023-04-30T10:04:04.116Z"
   },
   {
    "duration": 10,
    "start_time": "2023-04-30T10:04:04.121Z"
   },
   {
    "duration": 6,
    "start_time": "2023-04-30T10:04:04.132Z"
   },
   {
    "duration": 15,
    "start_time": "2023-04-30T10:04:04.140Z"
   },
   {
    "duration": 9,
    "start_time": "2023-04-30T10:04:04.157Z"
   },
   {
    "duration": 17,
    "start_time": "2023-04-30T10:04:04.189Z"
   },
   {
    "duration": 151,
    "start_time": "2023-04-30T10:04:04.208Z"
   },
   {
    "duration": 5,
    "start_time": "2023-04-30T10:04:04.361Z"
   },
   {
    "duration": 59,
    "start_time": "2023-04-30T10:04:13.026Z"
   },
   {
    "duration": 4,
    "start_time": "2023-04-30T10:07:21.318Z"
   },
   {
    "duration": 762,
    "start_time": "2023-04-30T10:09:38.437Z"
   },
   {
    "duration": 770,
    "start_time": "2023-04-30T10:13:11.205Z"
   },
   {
    "duration": 5,
    "start_time": "2023-04-30T10:19:14.879Z"
   },
   {
    "duration": 60,
    "start_time": "2023-04-30T10:36:08.358Z"
   },
   {
    "duration": 4,
    "start_time": "2023-04-30T10:36:16.028Z"
   },
   {
    "duration": 5,
    "start_time": "2023-04-30T10:36:31.222Z"
   },
   {
    "duration": 64,
    "start_time": "2023-04-30T10:36:36.627Z"
   },
   {
    "duration": 6,
    "start_time": "2023-04-30T10:36:55.139Z"
   },
   {
    "duration": 6,
    "start_time": "2023-04-30T10:37:03.897Z"
   },
   {
    "duration": 54,
    "start_time": "2023-04-30T10:37:14.180Z"
   },
   {
    "duration": 6,
    "start_time": "2023-04-30T10:38:35.793Z"
   },
   {
    "duration": 773,
    "start_time": "2023-04-30T10:38:42.866Z"
   },
   {
    "duration": 4585,
    "start_time": "2023-04-30T10:38:51.657Z"
   },
   {
    "duration": 16,
    "start_time": "2023-04-30T11:34:54.106Z"
   },
   {
    "duration": 4731,
    "start_time": "2023-04-30T11:35:07.755Z"
   },
   {
    "duration": 17,
    "start_time": "2023-04-30T11:35:20.644Z"
   },
   {
    "duration": 5,
    "start_time": "2023-04-30T11:36:05.474Z"
   },
   {
    "duration": 4850,
    "start_time": "2023-04-30T11:36:26.206Z"
   },
   {
    "duration": 17,
    "start_time": "2023-04-30T11:36:45.563Z"
   },
   {
    "duration": 4,
    "start_time": "2023-04-30T11:50:13.842Z"
   },
   {
    "duration": 5828,
    "start_time": "2023-04-30T11:52:48.622Z"
   },
   {
    "duration": 16,
    "start_time": "2023-04-30T11:53:01.094Z"
   },
   {
    "duration": 9,
    "start_time": "2023-04-30T11:53:24.975Z"
   },
   {
    "duration": 4,
    "start_time": "2023-04-30T11:53:25.310Z"
   },
   {
    "duration": 5,
    "start_time": "2023-04-30T11:53:26.254Z"
   },
   {
    "duration": 5,
    "start_time": "2023-04-30T11:53:41.485Z"
   },
   {
    "duration": 5859,
    "start_time": "2023-04-30T11:53:49.374Z"
   },
   {
    "duration": 8,
    "start_time": "2023-04-30T11:58:26.427Z"
   },
   {
    "duration": 5,
    "start_time": "2023-04-30T11:58:31.290Z"
   },
   {
    "duration": 5,
    "start_time": "2023-04-30T11:58:34.211Z"
   },
   {
    "duration": 4,
    "start_time": "2023-04-30T11:58:34.384Z"
   },
   {
    "duration": 9,
    "start_time": "2023-04-30T11:58:34.569Z"
   },
   {
    "duration": 13,
    "start_time": "2023-04-30T11:58:34.747Z"
   },
   {
    "duration": 6,
    "start_time": "2023-04-30T11:58:35.126Z"
   },
   {
    "duration": 5,
    "start_time": "2023-04-30T11:58:35.730Z"
   },
   {
    "duration": 6,
    "start_time": "2023-04-30T11:58:36.241Z"
   },
   {
    "duration": 6598,
    "start_time": "2023-04-30T11:59:47.689Z"
   },
   {
    "duration": 448,
    "start_time": "2023-04-30T12:00:22.525Z"
   },
   {
    "duration": 6326,
    "start_time": "2023-04-30T12:00:47.529Z"
   },
   {
    "duration": 432,
    "start_time": "2023-04-30T12:00:58.320Z"
   },
   {
    "duration": 4,
    "start_time": "2023-04-30T12:01:05.560Z"
   },
   {
    "duration": 7322,
    "start_time": "2023-04-30T12:01:10.936Z"
   },
   {
    "duration": 17,
    "start_time": "2023-04-30T12:01:27.769Z"
   },
   {
    "duration": 7,
    "start_time": "2023-04-30T12:02:12.562Z"
   },
   {
    "duration": 27,
    "start_time": "2023-04-30T12:02:29.959Z"
   },
   {
    "duration": 4,
    "start_time": "2023-04-30T12:03:00.872Z"
   },
   {
    "duration": 8,
    "start_time": "2023-04-30T12:03:08.135Z"
   },
   {
    "duration": 8679,
    "start_time": "2023-04-30T12:03:25.393Z"
   },
   {
    "duration": 7039,
    "start_time": "2023-04-30T12:04:37.977Z"
   },
   {
    "duration": 22,
    "start_time": "2023-04-30T12:04:45.019Z"
   },
   {
    "duration": 22,
    "start_time": "2023-04-30T12:04:54.019Z"
   },
   {
    "duration": 8991,
    "start_time": "2023-04-30T12:17:00.880Z"
   },
   {
    "duration": 22,
    "start_time": "2023-04-30T12:17:18.281Z"
   },
   {
    "duration": 6,
    "start_time": "2023-04-30T12:17:34.553Z"
   },
   {
    "duration": 6504,
    "start_time": "2023-04-30T12:17:41.144Z"
   },
   {
    "duration": 17,
    "start_time": "2023-04-30T12:17:51.070Z"
   },
   {
    "duration": 4,
    "start_time": "2023-04-30T12:20:13.447Z"
   },
   {
    "duration": 10,
    "start_time": "2023-04-30T12:20:13.759Z"
   },
   {
    "duration": 7,
    "start_time": "2023-04-30T12:20:14.223Z"
   },
   {
    "duration": 14,
    "start_time": "2023-04-30T12:20:21.159Z"
   },
   {
    "duration": 166,
    "start_time": "2023-04-30T12:20:41.237Z"
   },
   {
    "duration": 1046,
    "start_time": "2023-04-30T12:21:45.987Z"
   },
   {
    "duration": 1082,
    "start_time": "2023-04-30T12:22:21.388Z"
   },
   {
    "duration": 49,
    "start_time": "2023-04-30T12:23:39.025Z"
   },
   {
    "duration": 4,
    "start_time": "2023-04-30T12:23:44.038Z"
   },
   {
    "duration": 910,
    "start_time": "2023-04-30T12:23:48.138Z"
   },
   {
    "duration": 231,
    "start_time": "2023-04-30T12:24:35.067Z"
   },
   {
    "duration": 58,
    "start_time": "2023-04-30T12:24:38.917Z"
   },
   {
    "duration": 3,
    "start_time": "2023-04-30T12:24:48.660Z"
   },
   {
    "duration": 869,
    "start_time": "2023-04-30T12:24:55.258Z"
   },
   {
    "duration": 1082,
    "start_time": "2023-04-30T12:26:50.593Z"
   },
   {
    "duration": 5358,
    "start_time": "2023-04-30T12:28:01.734Z"
   },
   {
    "duration": 5299,
    "start_time": "2023-04-30T12:28:13.725Z"
   },
   {
    "duration": 7169,
    "start_time": "2023-04-30T12:29:20.673Z"
   },
   {
    "duration": 11,
    "start_time": "2023-04-30T12:30:29.049Z"
   },
   {
    "duration": 10,
    "start_time": "2023-04-30T12:30:34.375Z"
   },
   {
    "duration": 3,
    "start_time": "2023-04-30T12:30:40.759Z"
   },
   {
    "duration": 3,
    "start_time": "2023-04-30T12:30:42.191Z"
   },
   {
    "duration": 6,
    "start_time": "2023-04-30T12:30:42.440Z"
   },
   {
    "duration": 4,
    "start_time": "2023-04-30T12:30:43.071Z"
   },
   {
    "duration": 10,
    "start_time": "2023-04-30T12:30:43.270Z"
   },
   {
    "duration": 5,
    "start_time": "2023-04-30T12:30:43.471Z"
   },
   {
    "duration": 47,
    "start_time": "2023-04-30T12:30:44.046Z"
   },
   {
    "duration": 845,
    "start_time": "2023-04-30T12:30:44.648Z"
   },
   {
    "duration": 5230,
    "start_time": "2023-04-30T12:30:45.495Z"
   },
   {
    "duration": 7402,
    "start_time": "2023-04-30T12:30:50.727Z"
   },
   {
    "duration": 17,
    "start_time": "2023-04-30T12:31:43.932Z"
   },
   {
    "duration": 7641,
    "start_time": "2023-04-30T12:32:51.467Z"
   },
   {
    "duration": 14,
    "start_time": "2023-04-30T12:33:31.534Z"
   },
   {
    "duration": 1481,
    "start_time": "2023-04-30T12:33:47.751Z"
   },
   {
    "duration": 3,
    "start_time": "2023-04-30T12:33:49.234Z"
   },
   {
    "duration": 74,
    "start_time": "2023-04-30T12:33:49.239Z"
   },
   {
    "duration": 20,
    "start_time": "2023-04-30T12:33:49.315Z"
   },
   {
    "duration": 15,
    "start_time": "2023-04-30T12:33:49.338Z"
   },
   {
    "duration": 58,
    "start_time": "2023-04-30T12:33:49.355Z"
   },
   {
    "duration": 21,
    "start_time": "2023-04-30T12:33:49.415Z"
   },
   {
    "duration": 5,
    "start_time": "2023-04-30T12:33:49.438Z"
   },
   {
    "duration": 8,
    "start_time": "2023-04-30T12:33:49.445Z"
   },
   {
    "duration": 42,
    "start_time": "2023-04-30T12:33:49.455Z"
   },
   {
    "duration": 5,
    "start_time": "2023-04-30T12:33:49.499Z"
   },
   {
    "duration": 13,
    "start_time": "2023-04-30T12:33:49.506Z"
   },
   {
    "duration": 7,
    "start_time": "2023-04-30T12:33:49.521Z"
   },
   {
    "duration": 5,
    "start_time": "2023-04-30T12:33:49.533Z"
   },
   {
    "duration": 49,
    "start_time": "2023-04-30T12:33:49.540Z"
   },
   {
    "duration": 11,
    "start_time": "2023-04-30T12:33:49.591Z"
   },
   {
    "duration": 20,
    "start_time": "2023-04-30T12:33:49.604Z"
   },
   {
    "duration": 11,
    "start_time": "2023-04-30T12:33:49.626Z"
   },
   {
    "duration": 6,
    "start_time": "2023-04-30T12:33:49.639Z"
   },
   {
    "duration": 5,
    "start_time": "2023-04-30T12:33:49.647Z"
   },
   {
    "duration": 3,
    "start_time": "2023-04-30T12:33:49.690Z"
   },
   {
    "duration": 19,
    "start_time": "2023-04-30T12:33:49.695Z"
   },
   {
    "duration": 33,
    "start_time": "2023-04-30T12:33:49.716Z"
   },
   {
    "duration": 46,
    "start_time": "2023-04-30T12:33:49.751Z"
   },
   {
    "duration": 3,
    "start_time": "2023-04-30T12:33:49.799Z"
   },
   {
    "duration": 5,
    "start_time": "2023-04-30T12:33:49.804Z"
   },
   {
    "duration": 5,
    "start_time": "2023-04-30T12:33:49.811Z"
   },
   {
    "duration": 11,
    "start_time": "2023-04-30T12:33:49.818Z"
   },
   {
    "duration": 7,
    "start_time": "2023-04-30T12:33:49.830Z"
   },
   {
    "duration": 22,
    "start_time": "2023-04-30T12:33:49.839Z"
   },
   {
    "duration": 7,
    "start_time": "2023-04-30T12:33:49.863Z"
   },
   {
    "duration": 18,
    "start_time": "2023-04-30T12:33:49.872Z"
   },
   {
    "duration": 8,
    "start_time": "2023-04-30T12:33:49.893Z"
   },
   {
    "duration": 160,
    "start_time": "2023-04-30T12:33:49.903Z"
   },
   {
    "duration": 829,
    "start_time": "2023-04-30T12:33:50.065Z"
   },
   {
    "duration": 4604,
    "start_time": "2023-04-30T12:33:50.896Z"
   },
   {
    "duration": 6830,
    "start_time": "2023-04-30T12:33:55.502Z"
   },
   {
    "duration": 67,
    "start_time": "2023-04-30T12:34:02.333Z"
   },
   {
    "duration": 12,
    "start_time": "2023-04-30T12:34:02.401Z"
   },
   {
    "duration": 20,
    "start_time": "2023-04-30T12:34:02.415Z"
   },
   {
    "duration": 51,
    "start_time": "2023-04-30T12:34:02.440Z"
   },
   {
    "duration": 5,
    "start_time": "2023-04-30T12:34:02.493Z"
   },
   {
    "duration": 38,
    "start_time": "2023-04-30T12:34:02.499Z"
   },
   {
    "duration": 51,
    "start_time": "2023-04-30T12:34:02.538Z"
   },
   {
    "duration": 233,
    "start_time": "2023-04-30T12:34:02.591Z"
   },
   {
    "duration": 1604,
    "start_time": "2023-04-30T12:34:02.826Z"
   },
   {
    "duration": 5215,
    "start_time": "2023-04-30T12:34:04.433Z"
   },
   {
    "duration": 7753,
    "start_time": "2023-04-30T12:34:09.650Z"
   },
   {
    "duration": 16,
    "start_time": "2023-04-30T12:34:17.405Z"
   },
   {
    "duration": 15,
    "start_time": "2023-04-30T12:34:17.423Z"
   },
   {
    "duration": 6,
    "start_time": "2023-04-30T12:34:17.440Z"
   },
   {
    "duration": 17,
    "start_time": "2023-04-30T12:34:17.448Z"
   },
   {
    "duration": 24,
    "start_time": "2023-04-30T12:34:17.467Z"
   },
   {
    "duration": 1172,
    "start_time": "2023-04-30T12:34:17.493Z"
   },
   {
    "duration": 161,
    "start_time": "2023-04-30T12:34:18.667Z"
   },
   {
    "duration": 13,
    "start_time": "2023-04-30T12:34:18.829Z"
   },
   {
    "duration": 0,
    "start_time": "2023-04-30T12:34:18.844Z"
   },
   {
    "duration": 0,
    "start_time": "2023-04-30T12:34:18.845Z"
   },
   {
    "duration": 0,
    "start_time": "2023-04-30T12:34:18.846Z"
   },
   {
    "duration": 0,
    "start_time": "2023-04-30T12:34:18.847Z"
   },
   {
    "duration": 0,
    "start_time": "2023-04-30T12:34:18.849Z"
   },
   {
    "duration": 0,
    "start_time": "2023-04-30T12:34:18.850Z"
   },
   {
    "duration": 0,
    "start_time": "2023-04-30T12:34:18.851Z"
   },
   {
    "duration": 50,
    "start_time": "2023-04-30T12:37:08.035Z"
   },
   {
    "duration": 7,
    "start_time": "2023-04-30T12:38:45.567Z"
   },
   {
    "duration": 53,
    "start_time": "2023-04-30T12:44:20.884Z"
   },
   {
    "duration": 1550,
    "start_time": "2023-04-30T12:46:24.526Z"
   },
   {
    "duration": 3,
    "start_time": "2023-04-30T12:46:26.079Z"
   },
   {
    "duration": 133,
    "start_time": "2023-04-30T12:46:26.083Z"
   },
   {
    "duration": 19,
    "start_time": "2023-04-30T12:46:26.218Z"
   },
   {
    "duration": 14,
    "start_time": "2023-04-30T12:46:26.239Z"
   },
   {
    "duration": 66,
    "start_time": "2023-04-30T12:46:26.255Z"
   },
   {
    "duration": 21,
    "start_time": "2023-04-30T12:46:26.323Z"
   },
   {
    "duration": 5,
    "start_time": "2023-04-30T12:46:26.346Z"
   },
   {
    "duration": 9,
    "start_time": "2023-04-30T12:46:26.353Z"
   },
   {
    "duration": 34,
    "start_time": "2023-04-30T12:46:26.365Z"
   },
   {
    "duration": 8,
    "start_time": "2023-04-30T12:46:26.401Z"
   },
   {
    "duration": 15,
    "start_time": "2023-04-30T12:46:26.411Z"
   },
   {
    "duration": 12,
    "start_time": "2023-04-30T12:46:26.428Z"
   },
   {
    "duration": 7,
    "start_time": "2023-04-30T12:46:26.442Z"
   },
   {
    "duration": 17,
    "start_time": "2023-04-30T12:46:26.450Z"
   },
   {
    "duration": 30,
    "start_time": "2023-04-30T12:46:26.468Z"
   },
   {
    "duration": 21,
    "start_time": "2023-04-30T12:46:26.500Z"
   },
   {
    "duration": 22,
    "start_time": "2023-04-30T12:46:26.523Z"
   },
   {
    "duration": 7,
    "start_time": "2023-04-30T12:46:26.546Z"
   },
   {
    "duration": 17,
    "start_time": "2023-04-30T12:46:26.555Z"
   },
   {
    "duration": 17,
    "start_time": "2023-04-30T12:46:26.574Z"
   },
   {
    "duration": 36,
    "start_time": "2023-04-30T12:46:26.594Z"
   },
   {
    "duration": 42,
    "start_time": "2023-04-30T12:46:26.632Z"
   },
   {
    "duration": 21,
    "start_time": "2023-04-30T12:46:26.676Z"
   },
   {
    "duration": 4,
    "start_time": "2023-04-30T12:46:26.699Z"
   },
   {
    "duration": 15,
    "start_time": "2023-04-30T12:46:26.705Z"
   },
   {
    "duration": 24,
    "start_time": "2023-04-30T12:46:26.723Z"
   },
   {
    "duration": 4,
    "start_time": "2023-04-30T12:46:26.751Z"
   },
   {
    "duration": 13,
    "start_time": "2023-04-30T12:46:26.757Z"
   },
   {
    "duration": 31,
    "start_time": "2023-04-30T12:46:26.772Z"
   },
   {
    "duration": 15,
    "start_time": "2023-04-30T12:46:26.805Z"
   },
   {
    "duration": 6,
    "start_time": "2023-04-30T12:46:26.822Z"
   },
   {
    "duration": 20,
    "start_time": "2023-04-30T12:46:26.829Z"
   },
   {
    "duration": 160,
    "start_time": "2023-04-30T12:46:26.851Z"
   },
   {
    "duration": 772,
    "start_time": "2023-04-30T12:46:27.013Z"
   },
   {
    "duration": 4783,
    "start_time": "2023-04-30T12:46:27.787Z"
   },
   {
    "duration": 6871,
    "start_time": "2023-04-30T12:46:32.572Z"
   },
   {
    "duration": 15,
    "start_time": "2023-04-30T12:46:39.444Z"
   },
   {
    "duration": 9,
    "start_time": "2023-04-30T12:46:39.461Z"
   },
   {
    "duration": 21,
    "start_time": "2023-04-30T12:46:39.471Z"
   },
   {
    "duration": 4,
    "start_time": "2023-04-30T12:46:39.493Z"
   },
   {
    "duration": 4,
    "start_time": "2023-04-30T12:46:39.499Z"
   },
   {
    "duration": 12,
    "start_time": "2023-04-30T12:46:39.505Z"
   },
   {
    "duration": 6,
    "start_time": "2023-04-30T12:46:39.519Z"
   },
   {
    "duration": 168,
    "start_time": "2023-04-30T12:46:39.526Z"
   },
   {
    "duration": 928,
    "start_time": "2023-04-30T12:46:39.696Z"
   },
   {
    "duration": 5439,
    "start_time": "2023-04-30T12:46:40.626Z"
   },
   {
    "duration": 7768,
    "start_time": "2023-04-30T12:46:46.066Z"
   },
   {
    "duration": 17,
    "start_time": "2023-04-30T12:46:53.836Z"
   },
   {
    "duration": 20,
    "start_time": "2023-04-30T12:46:53.855Z"
   },
   {
    "duration": 3,
    "start_time": "2023-04-30T12:46:53.891Z"
   },
   {
    "duration": 11,
    "start_time": "2023-04-30T12:46:53.896Z"
   },
   {
    "duration": 16,
    "start_time": "2023-04-30T12:46:53.910Z"
   },
   {
    "duration": 7,
    "start_time": "2023-04-30T12:46:53.928Z"
   },
   {
    "duration": 576,
    "start_time": "2023-04-30T12:46:53.937Z"
   },
   {
    "duration": 2407,
    "start_time": "2023-04-30T12:46:54.515Z"
   },
   {
    "duration": 5773,
    "start_time": "2023-04-30T12:46:56.924Z"
   },
   {
    "duration": 124,
    "start_time": "2023-04-30T12:47:02.699Z"
   },
   {
    "duration": 0,
    "start_time": "2023-04-30T12:47:02.825Z"
   },
   {
    "duration": 0,
    "start_time": "2023-04-30T12:47:02.826Z"
   },
   {
    "duration": 0,
    "start_time": "2023-04-30T12:47:02.827Z"
   },
   {
    "duration": 0,
    "start_time": "2023-04-30T12:47:02.829Z"
   },
   {
    "duration": 0,
    "start_time": "2023-04-30T12:47:02.830Z"
   },
   {
    "duration": 0,
    "start_time": "2023-04-30T12:47:02.831Z"
   },
   {
    "duration": 15,
    "start_time": "2023-04-30T12:47:52.897Z"
   },
   {
    "duration": 11,
    "start_time": "2023-04-30T12:48:15.696Z"
   },
   {
    "duration": 10,
    "start_time": "2023-04-30T12:49:37.591Z"
   },
   {
    "duration": 6,
    "start_time": "2023-04-30T12:49:38.439Z"
   },
   {
    "duration": 9,
    "start_time": "2023-04-30T12:49:47.030Z"
   },
   {
    "duration": 6,
    "start_time": "2023-04-30T12:49:47.574Z"
   },
   {
    "duration": 540,
    "start_time": "2023-04-30T12:49:56.799Z"
   },
   {
    "duration": 2743,
    "start_time": "2023-04-30T12:50:01.399Z"
   },
   {
    "duration": 5744,
    "start_time": "2023-04-30T12:50:13.175Z"
   },
   {
    "duration": 16,
    "start_time": "2023-04-30T12:50:31.631Z"
   },
   {
    "duration": 16,
    "start_time": "2023-04-30T12:50:37.414Z"
   },
   {
    "duration": 5,
    "start_time": "2023-04-30T13:00:41.230Z"
   },
   {
    "duration": 1349,
    "start_time": "2023-04-30T13:04:56.473Z"
   },
   {
    "duration": 613,
    "start_time": "2023-04-30T13:05:23.729Z"
   },
   {
    "duration": 7,
    "start_time": "2023-04-30T13:05:56.092Z"
   },
   {
    "duration": 5,
    "start_time": "2023-04-30T13:05:56.348Z"
   },
   {
    "duration": 6,
    "start_time": "2023-04-30T13:05:56.779Z"
   },
   {
    "duration": 146,
    "start_time": "2023-04-30T13:05:59.384Z"
   },
   {
    "duration": 615,
    "start_time": "2023-04-30T13:06:02.138Z"
   },
   {
    "duration": 113,
    "start_time": "2023-04-30T13:06:19.126Z"
   },
   {
    "duration": 4,
    "start_time": "2023-04-30T13:06:19.590Z"
   },
   {
    "duration": 4,
    "start_time": "2023-04-30T13:06:19.861Z"
   },
   {
    "duration": 5,
    "start_time": "2023-04-30T13:06:20.093Z"
   },
   {
    "duration": 138,
    "start_time": "2023-04-30T13:06:21.018Z"
   },
   {
    "duration": 563,
    "start_time": "2023-04-30T13:06:23.363Z"
   },
   {
    "duration": 1278,
    "start_time": "2023-04-30T13:06:51.242Z"
   },
   {
    "duration": 5,
    "start_time": "2023-04-30T13:08:15.601Z"
   },
   {
    "duration": 4,
    "start_time": "2023-04-30T13:08:16.298Z"
   },
   {
    "duration": 7,
    "start_time": "2023-04-30T13:08:16.535Z"
   },
   {
    "duration": 9,
    "start_time": "2023-04-30T13:08:16.735Z"
   },
   {
    "duration": 5,
    "start_time": "2023-04-30T13:08:16.943Z"
   },
   {
    "duration": 6,
    "start_time": "2023-04-30T13:08:17.126Z"
   },
   {
    "duration": 5,
    "start_time": "2023-04-30T13:08:17.297Z"
   },
   {
    "duration": 135,
    "start_time": "2023-04-30T13:08:17.951Z"
   },
   {
    "duration": 539,
    "start_time": "2023-04-30T13:08:18.831Z"
   },
   {
    "duration": 1242,
    "start_time": "2023-04-30T13:08:19.373Z"
   },
   {
    "duration": 1184,
    "start_time": "2023-04-30T13:08:25.799Z"
   },
   {
    "duration": 10,
    "start_time": "2023-04-30T13:09:29.071Z"
   },
   {
    "duration": 4,
    "start_time": "2023-04-30T13:09:31.495Z"
   },
   {
    "duration": 5,
    "start_time": "2023-04-30T13:09:31.671Z"
   },
   {
    "duration": 6,
    "start_time": "2023-04-30T13:09:31.834Z"
   },
   {
    "duration": 134,
    "start_time": "2023-04-30T13:09:32.471Z"
   },
   {
    "duration": 548,
    "start_time": "2023-04-30T13:09:33.271Z"
   },
   {
    "duration": 2866,
    "start_time": "2023-04-30T13:09:34.086Z"
   },
   {
    "duration": 1746,
    "start_time": "2023-04-30T13:11:28.143Z"
   },
   {
    "duration": 5,
    "start_time": "2023-04-30T13:12:51.031Z"
   },
   {
    "duration": 144,
    "start_time": "2023-04-30T13:12:52.389Z"
   },
   {
    "duration": 532,
    "start_time": "2023-04-30T13:12:53.179Z"
   },
   {
    "duration": 2724,
    "start_time": "2023-04-30T13:12:53.713Z"
   },
   {
    "duration": 5845,
    "start_time": "2023-04-30T13:12:56.439Z"
   },
   {
    "duration": 16,
    "start_time": "2023-04-30T13:13:02.286Z"
   },
   {
    "duration": 1603,
    "start_time": "2023-04-30T13:13:19.702Z"
   },
   {
    "duration": 3,
    "start_time": "2023-04-30T13:13:21.308Z"
   },
   {
    "duration": 101,
    "start_time": "2023-04-30T13:13:21.312Z"
   },
   {
    "duration": 18,
    "start_time": "2023-04-30T13:13:21.415Z"
   },
   {
    "duration": 14,
    "start_time": "2023-04-30T13:13:21.436Z"
   },
   {
    "duration": 69,
    "start_time": "2023-04-30T13:13:21.452Z"
   },
   {
    "duration": 20,
    "start_time": "2023-04-30T13:13:21.523Z"
   },
   {
    "duration": 5,
    "start_time": "2023-04-30T13:13:21.545Z"
   },
   {
    "duration": 11,
    "start_time": "2023-04-30T13:13:21.552Z"
   },
   {
    "duration": 40,
    "start_time": "2023-04-30T13:13:21.565Z"
   },
   {
    "duration": 5,
    "start_time": "2023-04-30T13:13:21.607Z"
   },
   {
    "duration": 21,
    "start_time": "2023-04-30T13:13:21.614Z"
   },
   {
    "duration": 8,
    "start_time": "2023-04-30T13:13:21.638Z"
   },
   {
    "duration": 7,
    "start_time": "2023-04-30T13:13:21.651Z"
   },
   {
    "duration": 44,
    "start_time": "2023-04-30T13:13:21.660Z"
   },
   {
    "duration": 14,
    "start_time": "2023-04-30T13:13:21.706Z"
   },
   {
    "duration": 23,
    "start_time": "2023-04-30T13:13:21.721Z"
   },
   {
    "duration": 11,
    "start_time": "2023-04-30T13:13:21.746Z"
   },
   {
    "duration": 37,
    "start_time": "2023-04-30T13:13:21.759Z"
   },
   {
    "duration": 5,
    "start_time": "2023-04-30T13:13:21.801Z"
   },
   {
    "duration": 5,
    "start_time": "2023-04-30T13:13:21.808Z"
   },
   {
    "duration": 21,
    "start_time": "2023-04-30T13:13:21.815Z"
   },
   {
    "duration": 70,
    "start_time": "2023-04-30T13:13:21.838Z"
   },
   {
    "duration": 30,
    "start_time": "2023-04-30T13:13:21.910Z"
   },
   {
    "duration": 4,
    "start_time": "2023-04-30T13:13:21.942Z"
   },
   {
    "duration": 5,
    "start_time": "2023-04-30T13:13:21.948Z"
   },
   {
    "duration": 6,
    "start_time": "2023-04-30T13:13:21.955Z"
   },
   {
    "duration": 26,
    "start_time": "2023-04-30T13:13:21.963Z"
   },
   {
    "duration": 8,
    "start_time": "2023-04-30T13:13:21.992Z"
   },
   {
    "duration": 11,
    "start_time": "2023-04-30T13:13:22.002Z"
   },
   {
    "duration": 14,
    "start_time": "2023-04-30T13:13:22.015Z"
   },
   {
    "duration": 11,
    "start_time": "2023-04-30T13:13:22.031Z"
   },
   {
    "duration": 11,
    "start_time": "2023-04-30T13:13:22.044Z"
   },
   {
    "duration": 173,
    "start_time": "2023-04-30T13:13:22.057Z"
   },
   {
    "duration": 828,
    "start_time": "2023-04-30T13:13:22.231Z"
   },
   {
    "duration": 5860,
    "start_time": "2023-04-30T13:13:23.060Z"
   },
   {
    "duration": 7220,
    "start_time": "2023-04-30T13:13:28.922Z"
   },
   {
    "duration": 15,
    "start_time": "2023-04-30T13:13:36.144Z"
   },
   {
    "duration": 29,
    "start_time": "2023-04-30T13:13:36.161Z"
   },
   {
    "duration": 16,
    "start_time": "2023-04-30T13:13:36.192Z"
   },
   {
    "duration": 3,
    "start_time": "2023-04-30T13:13:36.213Z"
   },
   {
    "duration": 9,
    "start_time": "2023-04-30T13:13:36.217Z"
   },
   {
    "duration": 12,
    "start_time": "2023-04-30T13:13:36.228Z"
   },
   {
    "duration": 50,
    "start_time": "2023-04-30T13:13:36.241Z"
   },
   {
    "duration": 149,
    "start_time": "2023-04-30T13:13:36.293Z"
   },
   {
    "duration": 853,
    "start_time": "2023-04-30T13:13:36.444Z"
   },
   {
    "duration": 5236,
    "start_time": "2023-04-30T13:13:37.299Z"
   },
   {
    "duration": 7490,
    "start_time": "2023-04-30T13:13:42.537Z"
   },
   {
    "duration": 404,
    "start_time": "2023-04-30T13:13:50.029Z"
   },
   {
    "duration": 0,
    "start_time": "2023-04-30T13:13:50.435Z"
   },
   {
    "duration": 0,
    "start_time": "2023-04-30T13:13:50.436Z"
   },
   {
    "duration": 0,
    "start_time": "2023-04-30T13:13:50.437Z"
   },
   {
    "duration": 0,
    "start_time": "2023-04-30T13:13:50.439Z"
   },
   {
    "duration": 0,
    "start_time": "2023-04-30T13:13:50.440Z"
   },
   {
    "duration": 0,
    "start_time": "2023-04-30T13:13:50.442Z"
   },
   {
    "duration": 0,
    "start_time": "2023-04-30T13:13:50.443Z"
   },
   {
    "duration": 0,
    "start_time": "2023-04-30T13:13:50.444Z"
   },
   {
    "duration": 0,
    "start_time": "2023-04-30T13:13:50.446Z"
   },
   {
    "duration": 0,
    "start_time": "2023-04-30T13:13:50.447Z"
   },
   {
    "duration": 0,
    "start_time": "2023-04-30T13:13:50.448Z"
   },
   {
    "duration": 0,
    "start_time": "2023-04-30T13:13:50.450Z"
   },
   {
    "duration": 0,
    "start_time": "2023-04-30T13:13:50.451Z"
   },
   {
    "duration": 0,
    "start_time": "2023-04-30T13:13:50.452Z"
   },
   {
    "duration": 0,
    "start_time": "2023-04-30T13:13:50.454Z"
   },
   {
    "duration": 0,
    "start_time": "2023-04-30T13:13:50.455Z"
   },
   {
    "duration": 7501,
    "start_time": "2023-04-30T13:15:14.430Z"
   },
   {
    "duration": 53,
    "start_time": "2023-04-30T13:17:16.675Z"
   },
   {
    "duration": 54,
    "start_time": "2023-04-30T13:17:29.594Z"
   },
   {
    "duration": 48,
    "start_time": "2023-04-30T13:17:41.630Z"
   },
   {
    "duration": 7834,
    "start_time": "2023-04-30T13:17:44.691Z"
   },
   {
    "duration": 7822,
    "start_time": "2023-04-30T13:18:28.393Z"
   },
   {
    "duration": 7197,
    "start_time": "2023-04-30T13:19:45.428Z"
   },
   {
    "duration": 29,
    "start_time": "2023-04-30T13:20:10.075Z"
   },
   {
    "duration": 3,
    "start_time": "2023-04-30T13:20:32.490Z"
   },
   {
    "duration": 6,
    "start_time": "2023-04-30T13:20:32.759Z"
   },
   {
    "duration": 4,
    "start_time": "2023-04-30T13:20:34.626Z"
   },
   {
    "duration": 4,
    "start_time": "2023-04-30T13:20:35.248Z"
   },
   {
    "duration": 11,
    "start_time": "2023-04-30T13:20:35.628Z"
   },
   {
    "duration": 6,
    "start_time": "2023-04-30T13:20:35.947Z"
   },
   {
    "duration": 142,
    "start_time": "2023-04-30T13:20:36.889Z"
   },
   {
    "duration": 858,
    "start_time": "2023-04-30T13:20:58.889Z"
   },
   {
    "duration": 623,
    "start_time": "2023-04-30T13:21:32.064Z"
   },
   {
    "duration": 5094,
    "start_time": "2023-04-30T13:22:48.863Z"
   },
   {
    "duration": 4,
    "start_time": "2023-04-30T13:24:13.394Z"
   },
   {
    "duration": 635,
    "start_time": "2023-04-30T13:24:23.428Z"
   },
   {
    "duration": 5239,
    "start_time": "2023-04-30T13:24:24.194Z"
   },
   {
    "duration": 5,
    "start_time": "2023-04-30T13:25:32.017Z"
   },
   {
    "duration": 5218,
    "start_time": "2023-04-30T13:25:38.628Z"
   },
   {
    "duration": 6394,
    "start_time": "2023-04-30T13:26:14.196Z"
   },
   {
    "duration": 893,
    "start_time": "2023-04-30T13:28:17.490Z"
   },
   {
    "duration": 14,
    "start_time": "2023-04-30T13:28:33.260Z"
   },
   {
    "duration": 6,
    "start_time": "2023-04-30T13:28:34.690Z"
   },
   {
    "duration": 5,
    "start_time": "2023-04-30T13:28:34.989Z"
   },
   {
    "duration": 6,
    "start_time": "2023-04-30T13:28:35.336Z"
   },
   {
    "duration": 129,
    "start_time": "2023-04-30T13:28:36.930Z"
   },
   {
    "duration": 949,
    "start_time": "2023-04-30T13:28:39.643Z"
   },
   {
    "duration": 5419,
    "start_time": "2023-04-30T13:28:45.097Z"
   },
   {
    "duration": 5499,
    "start_time": "2023-04-30T13:29:12.370Z"
   },
   {
    "duration": 7772,
    "start_time": "2023-04-30T13:29:24.178Z"
   },
   {
    "duration": 17,
    "start_time": "2023-04-30T13:29:46.569Z"
   },
   {
    "duration": 1466,
    "start_time": "2023-04-30T13:30:40.729Z"
   },
   {
    "duration": 3,
    "start_time": "2023-04-30T13:30:42.197Z"
   },
   {
    "duration": 151,
    "start_time": "2023-04-30T13:30:42.202Z"
   },
   {
    "duration": 19,
    "start_time": "2023-04-30T13:30:42.354Z"
   },
   {
    "duration": 16,
    "start_time": "2023-04-30T13:30:42.375Z"
   },
   {
    "duration": 58,
    "start_time": "2023-04-30T13:30:42.392Z"
   },
   {
    "duration": 21,
    "start_time": "2023-04-30T13:30:42.452Z"
   },
   {
    "duration": 16,
    "start_time": "2023-04-30T13:30:42.475Z"
   },
   {
    "duration": 8,
    "start_time": "2023-04-30T13:30:42.493Z"
   },
   {
    "duration": 14,
    "start_time": "2023-04-30T13:30:42.503Z"
   },
   {
    "duration": 5,
    "start_time": "2023-04-30T13:30:42.518Z"
   },
   {
    "duration": 32,
    "start_time": "2023-04-30T13:30:42.524Z"
   },
   {
    "duration": 15,
    "start_time": "2023-04-30T13:30:42.557Z"
   },
   {
    "duration": 6,
    "start_time": "2023-04-30T13:30:42.588Z"
   },
   {
    "duration": 20,
    "start_time": "2023-04-30T13:30:42.596Z"
   },
   {
    "duration": 12,
    "start_time": "2023-04-30T13:30:42.617Z"
   },
   {
    "duration": 21,
    "start_time": "2023-04-30T13:30:42.631Z"
   },
   {
    "duration": 35,
    "start_time": "2023-04-30T13:30:42.654Z"
   },
   {
    "duration": 7,
    "start_time": "2023-04-30T13:30:42.691Z"
   },
   {
    "duration": 12,
    "start_time": "2023-04-30T13:30:42.700Z"
   },
   {
    "duration": 17,
    "start_time": "2023-04-30T13:30:42.714Z"
   },
   {
    "duration": 23,
    "start_time": "2023-04-30T13:30:42.733Z"
   },
   {
    "duration": 56,
    "start_time": "2023-04-30T13:30:42.758Z"
   },
   {
    "duration": 77,
    "start_time": "2023-04-30T13:30:42.816Z"
   },
   {
    "duration": 3,
    "start_time": "2023-04-30T13:30:42.895Z"
   },
   {
    "duration": 5,
    "start_time": "2023-04-30T13:30:42.900Z"
   },
   {
    "duration": 22,
    "start_time": "2023-04-30T13:30:42.907Z"
   },
   {
    "duration": 5,
    "start_time": "2023-04-30T13:30:42.931Z"
   },
   {
    "duration": 52,
    "start_time": "2023-04-30T13:30:42.938Z"
   },
   {
    "duration": 12,
    "start_time": "2023-04-30T13:30:42.992Z"
   },
   {
    "duration": 15,
    "start_time": "2023-04-30T13:30:43.006Z"
   },
   {
    "duration": 20,
    "start_time": "2023-04-30T13:30:43.023Z"
   },
   {
    "duration": 8,
    "start_time": "2023-04-30T13:30:43.089Z"
   },
   {
    "duration": 492,
    "start_time": "2023-04-30T13:30:43.100Z"
   },
   {
    "duration": 1716,
    "start_time": "2023-04-30T13:30:43.594Z"
   },
   {
    "duration": 5890,
    "start_time": "2023-04-30T13:30:45.312Z"
   },
   {
    "duration": 6129,
    "start_time": "2023-04-30T13:30:51.204Z"
   },
   {
    "duration": 16,
    "start_time": "2023-04-30T13:30:57.335Z"
   },
   {
    "duration": 16,
    "start_time": "2023-04-30T13:30:57.353Z"
   },
   {
    "duration": 23,
    "start_time": "2023-04-30T13:30:57.371Z"
   },
   {
    "duration": 10,
    "start_time": "2023-04-30T13:30:57.398Z"
   },
   {
    "duration": 25,
    "start_time": "2023-04-30T13:30:57.410Z"
   },
   {
    "duration": 41,
    "start_time": "2023-04-30T13:30:57.438Z"
   },
   {
    "duration": 20,
    "start_time": "2023-04-30T13:30:57.481Z"
   },
   {
    "duration": 150,
    "start_time": "2023-04-30T13:30:57.503Z"
   },
   {
    "duration": 622,
    "start_time": "2023-04-30T13:30:57.655Z"
   },
   {
    "duration": 5242,
    "start_time": "2023-04-30T13:30:58.279Z"
   },
   {
    "duration": 5979,
    "start_time": "2023-04-30T13:31:03.523Z"
   },
   {
    "duration": 146,
    "start_time": "2023-04-30T13:33:24.278Z"
   },
   {
    "duration": 162,
    "start_time": "2023-04-30T13:34:35.230Z"
   },
   {
    "duration": 153,
    "start_time": "2023-04-30T13:35:18.134Z"
   },
   {
    "duration": 40,
    "start_time": "2023-04-30T13:35:40.102Z"
   },
   {
    "duration": 147,
    "start_time": "2023-04-30T13:37:49.210Z"
   },
   {
    "duration": 150,
    "start_time": "2023-04-30T13:37:55.155Z"
   },
   {
    "duration": 151,
    "start_time": "2023-04-30T13:38:59.650Z"
   },
   {
    "duration": 144,
    "start_time": "2023-04-30T13:39:18.018Z"
   },
   {
    "duration": 620,
    "start_time": "2023-04-30T13:40:26.299Z"
   },
   {
    "duration": 4952,
    "start_time": "2023-04-30T13:40:32.839Z"
   },
   {
    "duration": 6579,
    "start_time": "2023-04-30T13:40:44.010Z"
   },
   {
    "duration": 496,
    "start_time": "2023-04-30T13:41:09.193Z"
   },
   {
    "duration": 14,
    "start_time": "2023-04-30T13:41:09.784Z"
   },
   {
    "duration": 1529,
    "start_time": "2023-04-30T13:41:45.161Z"
   },
   {
    "duration": 3,
    "start_time": "2023-04-30T13:41:46.692Z"
   },
   {
    "duration": 97,
    "start_time": "2023-04-30T13:41:46.697Z"
   },
   {
    "duration": 18,
    "start_time": "2023-04-30T13:41:46.796Z"
   },
   {
    "duration": 14,
    "start_time": "2023-04-30T13:41:46.817Z"
   },
   {
    "duration": 72,
    "start_time": "2023-04-30T13:41:46.833Z"
   },
   {
    "duration": 22,
    "start_time": "2023-04-30T13:41:46.907Z"
   },
   {
    "duration": 6,
    "start_time": "2023-04-30T13:41:46.930Z"
   },
   {
    "duration": 22,
    "start_time": "2023-04-30T13:41:46.939Z"
   },
   {
    "duration": 31,
    "start_time": "2023-04-30T13:41:46.963Z"
   },
   {
    "duration": 4,
    "start_time": "2023-04-30T13:41:46.996Z"
   },
   {
    "duration": 20,
    "start_time": "2023-04-30T13:41:47.002Z"
   },
   {
    "duration": 7,
    "start_time": "2023-04-30T13:41:47.024Z"
   },
   {
    "duration": 4,
    "start_time": "2023-04-30T13:41:47.035Z"
   },
   {
    "duration": 57,
    "start_time": "2023-04-30T13:41:47.041Z"
   },
   {
    "duration": 18,
    "start_time": "2023-04-30T13:41:47.100Z"
   },
   {
    "duration": 21,
    "start_time": "2023-04-30T13:41:47.120Z"
   },
   {
    "duration": 20,
    "start_time": "2023-04-30T13:41:47.143Z"
   },
   {
    "duration": 27,
    "start_time": "2023-04-30T13:41:47.165Z"
   },
   {
    "duration": 6,
    "start_time": "2023-04-30T13:41:47.195Z"
   },
   {
    "duration": 4,
    "start_time": "2023-04-30T13:41:47.203Z"
   },
   {
    "duration": 34,
    "start_time": "2023-04-30T13:41:47.209Z"
   },
   {
    "duration": 72,
    "start_time": "2023-04-30T13:41:47.245Z"
   },
   {
    "duration": 29,
    "start_time": "2023-04-30T13:41:47.320Z"
   },
   {
    "duration": 3,
    "start_time": "2023-04-30T13:41:47.351Z"
   },
   {
    "duration": 5,
    "start_time": "2023-04-30T13:41:47.357Z"
   },
   {
    "duration": 27,
    "start_time": "2023-04-30T13:41:47.364Z"
   },
   {
    "duration": 35,
    "start_time": "2023-04-30T13:41:47.393Z"
   },
   {
    "duration": 21,
    "start_time": "2023-04-30T13:41:47.430Z"
   },
   {
    "duration": 15,
    "start_time": "2023-04-30T13:41:47.454Z"
   },
   {
    "duration": 14,
    "start_time": "2023-04-30T13:41:47.471Z"
   },
   {
    "duration": 13,
    "start_time": "2023-04-30T13:41:47.487Z"
   },
   {
    "duration": 8,
    "start_time": "2023-04-30T13:41:47.503Z"
   },
   {
    "duration": 160,
    "start_time": "2023-04-30T13:41:47.514Z"
   },
   {
    "duration": 833,
    "start_time": "2023-04-30T13:41:47.677Z"
   },
   {
    "duration": 6063,
    "start_time": "2023-04-30T13:41:48.512Z"
   },
   {
    "duration": 6168,
    "start_time": "2023-04-30T13:41:54.577Z"
   },
   {
    "duration": 43,
    "start_time": "2023-04-30T13:42:00.748Z"
   },
   {
    "duration": 35,
    "start_time": "2023-04-30T13:42:00.794Z"
   },
   {
    "duration": 68,
    "start_time": "2023-04-30T13:42:00.831Z"
   },
   {
    "duration": 54,
    "start_time": "2023-04-30T13:42:00.904Z"
   },
   {
    "duration": 35,
    "start_time": "2023-04-30T13:42:00.961Z"
   },
   {
    "duration": 51,
    "start_time": "2023-04-30T13:42:00.999Z"
   },
   {
    "duration": 35,
    "start_time": "2023-04-30T13:42:01.053Z"
   },
   {
    "duration": 207,
    "start_time": "2023-04-30T13:42:01.090Z"
   },
   {
    "duration": 708,
    "start_time": "2023-04-30T13:42:01.299Z"
   },
   {
    "duration": 5217,
    "start_time": "2023-04-30T13:42:02.009Z"
   },
   {
    "duration": 5869,
    "start_time": "2023-04-30T13:42:07.229Z"
   },
   {
    "duration": 481,
    "start_time": "2023-04-30T13:42:13.188Z"
   },
   {
    "duration": 0,
    "start_time": "2023-04-30T13:42:13.671Z"
   },
   {
    "duration": 0,
    "start_time": "2023-04-30T13:42:13.673Z"
   },
   {
    "duration": 0,
    "start_time": "2023-04-30T13:42:13.675Z"
   },
   {
    "duration": 0,
    "start_time": "2023-04-30T13:42:13.676Z"
   },
   {
    "duration": 0,
    "start_time": "2023-04-30T13:42:13.678Z"
   },
   {
    "duration": 0,
    "start_time": "2023-04-30T13:42:13.680Z"
   },
   {
    "duration": 0,
    "start_time": "2023-04-30T13:42:13.681Z"
   },
   {
    "duration": 0,
    "start_time": "2023-04-30T13:42:13.683Z"
   },
   {
    "duration": 0,
    "start_time": "2023-04-30T13:42:13.684Z"
   },
   {
    "duration": 0,
    "start_time": "2023-04-30T13:42:13.686Z"
   },
   {
    "duration": 0,
    "start_time": "2023-04-30T13:42:13.687Z"
   },
   {
    "duration": 0,
    "start_time": "2023-04-30T13:42:13.690Z"
   },
   {
    "duration": 0,
    "start_time": "2023-04-30T13:42:13.691Z"
   },
   {
    "duration": 0,
    "start_time": "2023-04-30T13:42:13.693Z"
   },
   {
    "duration": 0,
    "start_time": "2023-04-30T13:42:13.694Z"
   },
   {
    "duration": 0,
    "start_time": "2023-04-30T13:42:13.695Z"
   },
   {
    "duration": 8440,
    "start_time": "2023-04-30T13:43:16.954Z"
   },
   {
    "duration": 363,
    "start_time": "2023-04-30T13:43:32.638Z"
   },
   {
    "duration": 4,
    "start_time": "2023-04-30T13:43:39.679Z"
   },
   {
    "duration": 8,
    "start_time": "2023-04-30T13:43:39.871Z"
   },
   {
    "duration": 4,
    "start_time": "2023-04-30T13:43:40.231Z"
   },
   {
    "duration": 6,
    "start_time": "2023-04-30T13:43:40.790Z"
   },
   {
    "duration": 15,
    "start_time": "2023-04-30T13:43:41.087Z"
   },
   {
    "duration": 8,
    "start_time": "2023-04-30T13:43:41.335Z"
   },
   {
    "duration": 144,
    "start_time": "2023-04-30T13:43:42.244Z"
   },
   {
    "duration": 641,
    "start_time": "2023-04-30T13:43:48.310Z"
   },
   {
    "duration": 5325,
    "start_time": "2023-04-30T13:43:48.953Z"
   },
   {
    "duration": 6618,
    "start_time": "2023-04-30T13:43:54.280Z"
   },
   {
    "duration": 100,
    "start_time": "2023-04-30T13:44:00.900Z"
   },
   {
    "duration": 12,
    "start_time": "2023-04-30T13:44:16.654Z"
   },
   {
    "duration": 3,
    "start_time": "2023-04-30T13:46:43.308Z"
   },
   {
    "duration": 4,
    "start_time": "2023-04-30T13:46:48.876Z"
   },
   {
    "duration": 10,
    "start_time": "2023-04-30T13:46:49.269Z"
   },
   {
    "duration": 5,
    "start_time": "2023-04-30T13:46:49.603Z"
   },
   {
    "duration": 572,
    "start_time": "2023-04-30T13:46:51.061Z"
   },
   {
    "duration": 311,
    "start_time": "2023-04-30T13:47:40.788Z"
   },
   {
    "duration": 2526,
    "start_time": "2023-04-30T13:48:04.754Z"
   },
   {
    "duration": 2538,
    "start_time": "2023-04-30T13:48:42.025Z"
   },
   {
    "duration": 4624,
    "start_time": "2023-04-30T13:48:44.565Z"
   },
   {
    "duration": 382,
    "start_time": "2023-04-30T13:49:06.538Z"
   },
   {
    "duration": 1537,
    "start_time": "2023-04-30T13:49:28.553Z"
   },
   {
    "duration": 5,
    "start_time": "2023-04-30T13:49:30.093Z"
   },
   {
    "duration": 83,
    "start_time": "2023-04-30T13:49:30.100Z"
   },
   {
    "duration": 18,
    "start_time": "2023-04-30T13:49:30.185Z"
   },
   {
    "duration": 25,
    "start_time": "2023-04-30T13:49:30.205Z"
   },
   {
    "duration": 83,
    "start_time": "2023-04-30T13:49:30.232Z"
   },
   {
    "duration": 25,
    "start_time": "2023-04-30T13:49:30.317Z"
   },
   {
    "duration": 11,
    "start_time": "2023-04-30T13:49:30.344Z"
   },
   {
    "duration": 50,
    "start_time": "2023-04-30T13:49:30.358Z"
   },
   {
    "duration": 39,
    "start_time": "2023-04-30T13:49:30.410Z"
   },
   {
    "duration": 12,
    "start_time": "2023-04-30T13:49:30.451Z"
   },
   {
    "duration": 70,
    "start_time": "2023-04-30T13:49:30.465Z"
   },
   {
    "duration": 82,
    "start_time": "2023-04-30T13:49:30.538Z"
   },
   {
    "duration": 37,
    "start_time": "2023-04-30T13:49:30.624Z"
   },
   {
    "duration": 49,
    "start_time": "2023-04-30T13:49:30.663Z"
   },
   {
    "duration": 56,
    "start_time": "2023-04-30T13:49:30.714Z"
   },
   {
    "duration": 69,
    "start_time": "2023-04-30T13:49:30.773Z"
   },
   {
    "duration": 45,
    "start_time": "2023-04-30T13:49:30.844Z"
   },
   {
    "duration": 41,
    "start_time": "2023-04-30T13:49:30.891Z"
   },
   {
    "duration": 42,
    "start_time": "2023-04-30T13:49:30.934Z"
   },
   {
    "duration": 77,
    "start_time": "2023-04-30T13:49:30.978Z"
   },
   {
    "duration": 59,
    "start_time": "2023-04-30T13:49:31.058Z"
   },
   {
    "duration": 68,
    "start_time": "2023-04-30T13:49:31.119Z"
   },
   {
    "duration": 51,
    "start_time": "2023-04-30T13:49:31.189Z"
   },
   {
    "duration": 23,
    "start_time": "2023-04-30T13:49:31.242Z"
   },
   {
    "duration": 36,
    "start_time": "2023-04-30T13:49:31.267Z"
   },
   {
    "duration": 22,
    "start_time": "2023-04-30T13:49:31.306Z"
   },
   {
    "duration": 29,
    "start_time": "2023-04-30T13:49:31.330Z"
   },
   {
    "duration": 33,
    "start_time": "2023-04-30T13:49:31.361Z"
   },
   {
    "duration": 31,
    "start_time": "2023-04-30T13:49:31.396Z"
   },
   {
    "duration": 37,
    "start_time": "2023-04-30T13:49:31.429Z"
   },
   {
    "duration": 44,
    "start_time": "2023-04-30T13:49:31.467Z"
   },
   {
    "duration": 26,
    "start_time": "2023-04-30T13:49:31.513Z"
   },
   {
    "duration": 205,
    "start_time": "2023-04-30T13:49:31.541Z"
   },
   {
    "duration": 789,
    "start_time": "2023-04-30T13:49:31.748Z"
   },
   {
    "duration": 4900,
    "start_time": "2023-04-30T13:49:32.538Z"
   },
   {
    "duration": 6834,
    "start_time": "2023-04-30T13:49:37.440Z"
   },
   {
    "duration": 24,
    "start_time": "2023-04-30T13:49:44.276Z"
   },
   {
    "duration": 8,
    "start_time": "2023-04-30T13:49:44.302Z"
   },
   {
    "duration": 12,
    "start_time": "2023-04-30T13:49:44.312Z"
   },
   {
    "duration": 4,
    "start_time": "2023-04-30T13:49:44.328Z"
   },
   {
    "duration": 15,
    "start_time": "2023-04-30T13:49:44.333Z"
   },
   {
    "duration": 28,
    "start_time": "2023-04-30T13:49:44.350Z"
   },
   {
    "duration": 19,
    "start_time": "2023-04-30T13:49:44.380Z"
   },
   {
    "duration": 166,
    "start_time": "2023-04-30T13:49:44.401Z"
   },
   {
    "duration": 632,
    "start_time": "2023-04-30T13:49:44.568Z"
   },
   {
    "duration": 5108,
    "start_time": "2023-04-30T13:49:45.202Z"
   },
   {
    "duration": 7176,
    "start_time": "2023-04-30T13:49:50.313Z"
   },
   {
    "duration": 17,
    "start_time": "2023-04-30T13:49:57.492Z"
   },
   {
    "duration": 20,
    "start_time": "2023-04-30T13:49:57.511Z"
   },
   {
    "duration": 17,
    "start_time": "2023-04-30T13:49:57.533Z"
   },
   {
    "duration": 12,
    "start_time": "2023-04-30T13:49:57.553Z"
   },
   {
    "duration": 23,
    "start_time": "2023-04-30T13:49:57.567Z"
   },
   {
    "duration": 8,
    "start_time": "2023-04-30T13:49:57.592Z"
   },
   {
    "duration": 325,
    "start_time": "2023-04-30T13:49:57.601Z"
   },
   {
    "duration": 2451,
    "start_time": "2023-04-30T13:49:57.928Z"
   },
   {
    "duration": 5109,
    "start_time": "2023-04-30T13:50:00.381Z"
   },
   {
    "duration": 98,
    "start_time": "2023-04-30T13:50:05.492Z"
   },
   {
    "duration": 12,
    "start_time": "2023-04-30T13:50:05.592Z"
   },
   {
    "duration": 133,
    "start_time": "2023-04-30T13:50:05.606Z"
   },
   {
    "duration": 0,
    "start_time": "2023-04-30T13:50:05.742Z"
   },
   {
    "duration": 0,
    "start_time": "2023-04-30T13:50:05.743Z"
   },
   {
    "duration": 0,
    "start_time": "2023-04-30T13:50:05.745Z"
   },
   {
    "duration": 0,
    "start_time": "2023-04-30T13:50:05.747Z"
   },
   {
    "duration": 0,
    "start_time": "2023-04-30T13:50:05.748Z"
   },
   {
    "duration": 4,
    "start_time": "2023-04-30T14:08:56.819Z"
   },
   {
    "duration": 7,
    "start_time": "2023-04-30T14:09:07.727Z"
   },
   {
    "duration": 14,
    "start_time": "2023-04-30T14:09:35.493Z"
   },
   {
    "duration": 14,
    "start_time": "2023-04-30T14:10:00.959Z"
   },
   {
    "duration": 8,
    "start_time": "2023-04-30T14:10:31.716Z"
   },
   {
    "duration": 7,
    "start_time": "2023-04-30T14:11:04.260Z"
   },
   {
    "duration": 6,
    "start_time": "2023-04-30T14:11:40.886Z"
   },
   {
    "duration": 13,
    "start_time": "2023-04-30T14:11:51.640Z"
   },
   {
    "duration": 14,
    "start_time": "2023-04-30T14:13:12.816Z"
   },
   {
    "duration": 12,
    "start_time": "2023-04-30T14:13:26.048Z"
   },
   {
    "duration": 17,
    "start_time": "2023-04-30T14:13:29.744Z"
   },
   {
    "duration": 14,
    "start_time": "2023-04-30T14:13:57.452Z"
   },
   {
    "duration": 14,
    "start_time": "2023-04-30T14:14:02.787Z"
   },
   {
    "duration": 13,
    "start_time": "2023-04-30T14:14:06.528Z"
   },
   {
    "duration": 47,
    "start_time": "2023-04-30T14:14:12.136Z"
   },
   {
    "duration": 14,
    "start_time": "2023-04-30T14:14:22.862Z"
   },
   {
    "duration": 16,
    "start_time": "2023-04-30T14:14:26.943Z"
   },
   {
    "duration": 19,
    "start_time": "2023-04-30T14:14:30.536Z"
   },
   {
    "duration": 13,
    "start_time": "2023-04-30T14:14:36.952Z"
   },
   {
    "duration": 7,
    "start_time": "2023-04-30T14:14:42.875Z"
   },
   {
    "duration": 11,
    "start_time": "2023-04-30T14:14:54.636Z"
   },
   {
    "duration": 11,
    "start_time": "2023-04-30T14:15:03.261Z"
   },
   {
    "duration": 5,
    "start_time": "2023-04-30T14:15:07.940Z"
   },
   {
    "duration": 185,
    "start_time": "2023-04-30T14:15:20.843Z"
   },
   {
    "duration": 217,
    "start_time": "2023-04-30T14:16:17.497Z"
   },
   {
    "duration": 1492,
    "start_time": "2023-04-30T14:19:42.667Z"
   },
   {
    "duration": 4,
    "start_time": "2023-04-30T14:19:44.162Z"
   },
   {
    "duration": 96,
    "start_time": "2023-04-30T14:19:44.167Z"
   },
   {
    "duration": 19,
    "start_time": "2023-04-30T14:19:44.264Z"
   },
   {
    "duration": 21,
    "start_time": "2023-04-30T14:19:44.285Z"
   },
   {
    "duration": 54,
    "start_time": "2023-04-30T14:19:44.308Z"
   },
   {
    "duration": 21,
    "start_time": "2023-04-30T14:19:44.363Z"
   },
   {
    "duration": 5,
    "start_time": "2023-04-30T14:19:44.386Z"
   },
   {
    "duration": 9,
    "start_time": "2023-04-30T14:19:44.393Z"
   },
   {
    "duration": 13,
    "start_time": "2023-04-30T14:19:44.404Z"
   },
   {
    "duration": 4,
    "start_time": "2023-04-30T14:19:44.419Z"
   },
   {
    "duration": 14,
    "start_time": "2023-04-30T14:19:44.425Z"
   },
   {
    "duration": 6,
    "start_time": "2023-04-30T14:19:44.441Z"
   },
   {
    "duration": 5,
    "start_time": "2023-04-30T14:19:44.450Z"
   },
   {
    "duration": 9,
    "start_time": "2023-04-30T14:19:44.489Z"
   },
   {
    "duration": 12,
    "start_time": "2023-04-30T14:19:44.500Z"
   },
   {
    "duration": 22,
    "start_time": "2023-04-30T14:19:44.514Z"
   },
   {
    "duration": 11,
    "start_time": "2023-04-30T14:19:44.538Z"
   },
   {
    "duration": 7,
    "start_time": "2023-04-30T14:19:44.551Z"
   },
   {
    "duration": 33,
    "start_time": "2023-04-30T14:19:44.559Z"
   },
   {
    "duration": 5,
    "start_time": "2023-04-30T14:19:44.594Z"
   },
   {
    "duration": 19,
    "start_time": "2023-04-30T14:19:44.601Z"
   },
   {
    "duration": 32,
    "start_time": "2023-04-30T14:19:44.622Z"
   },
   {
    "duration": 50,
    "start_time": "2023-04-30T14:19:44.656Z"
   },
   {
    "duration": 4,
    "start_time": "2023-04-30T14:19:44.708Z"
   },
   {
    "duration": 4,
    "start_time": "2023-04-30T14:19:44.714Z"
   },
   {
    "duration": 11,
    "start_time": "2023-04-30T14:19:44.720Z"
   },
   {
    "duration": 5,
    "start_time": "2023-04-30T14:19:44.732Z"
   },
   {
    "duration": 6,
    "start_time": "2023-04-30T14:19:44.739Z"
   },
   {
    "duration": 42,
    "start_time": "2023-04-30T14:19:44.747Z"
   },
   {
    "duration": 8,
    "start_time": "2023-04-30T14:19:44.791Z"
   },
   {
    "duration": 6,
    "start_time": "2023-04-30T14:19:44.801Z"
   },
   {
    "duration": 6,
    "start_time": "2023-04-30T14:19:44.809Z"
   },
   {
    "duration": 163,
    "start_time": "2023-04-30T14:19:44.817Z"
   },
   {
    "duration": 804,
    "start_time": "2023-04-30T14:19:44.989Z"
   },
   {
    "duration": 4756,
    "start_time": "2023-04-30T14:19:45.794Z"
   },
   {
    "duration": 6987,
    "start_time": "2023-04-30T14:19:50.552Z"
   },
   {
    "duration": 15,
    "start_time": "2023-04-30T14:19:57.541Z"
   },
   {
    "duration": 15,
    "start_time": "2023-04-30T14:19:57.558Z"
   },
   {
    "duration": 25,
    "start_time": "2023-04-30T14:19:57.575Z"
   },
   {
    "duration": 17,
    "start_time": "2023-04-30T14:19:57.605Z"
   },
   {
    "duration": 13,
    "start_time": "2023-04-30T14:19:57.623Z"
   },
   {
    "duration": 27,
    "start_time": "2023-04-30T14:19:57.638Z"
   },
   {
    "duration": 12,
    "start_time": "2023-04-30T14:19:57.667Z"
   },
   {
    "duration": 318,
    "start_time": "2023-04-30T14:19:57.681Z"
   },
   {
    "duration": 2519,
    "start_time": "2023-04-30T14:19:58.001Z"
   },
   {
    "duration": 4673,
    "start_time": "2023-04-30T14:20:00.522Z"
   },
   {
    "duration": 96,
    "start_time": "2023-04-30T14:20:05.201Z"
   },
   {
    "duration": 31,
    "start_time": "2023-04-30T14:20:05.299Z"
   },
   {
    "duration": 6,
    "start_time": "2023-04-30T14:20:05.332Z"
   },
   {
    "duration": 9,
    "start_time": "2023-04-30T14:20:05.340Z"
   },
   {
    "duration": 11,
    "start_time": "2023-04-30T14:20:05.351Z"
   },
   {
    "duration": 26,
    "start_time": "2023-04-30T14:20:05.364Z"
   },
   {
    "duration": 127,
    "start_time": "2023-04-30T14:20:05.392Z"
   },
   {
    "duration": 533,
    "start_time": "2023-04-30T14:20:05.522Z"
   },
   {
    "duration": 4481,
    "start_time": "2023-04-30T14:20:06.057Z"
   },
   {
    "duration": 5857,
    "start_time": "2023-04-30T14:20:10.540Z"
   },
   {
    "duration": 100,
    "start_time": "2023-04-30T14:20:16.399Z"
   },
   {
    "duration": 14,
    "start_time": "2023-04-30T14:20:16.500Z"
   },
   {
    "duration": 8,
    "start_time": "2023-04-30T14:20:16.516Z"
   },
   {
    "duration": 388,
    "start_time": "2023-04-30T14:20:16.526Z"
   },
   {
    "duration": 121,
    "start_time": "2023-04-30T14:20:16.916Z"
   },
   {
    "duration": 0,
    "start_time": "2023-04-30T14:20:17.039Z"
   },
   {
    "duration": 0,
    "start_time": "2023-04-30T14:20:17.040Z"
   },
   {
    "duration": 0,
    "start_time": "2023-04-30T14:20:17.041Z"
   },
   {
    "duration": 1518,
    "start_time": "2023-04-30T14:20:40.235Z"
   },
   {
    "duration": 4,
    "start_time": "2023-04-30T14:20:41.755Z"
   },
   {
    "duration": 72,
    "start_time": "2023-04-30T14:20:41.761Z"
   },
   {
    "duration": 19,
    "start_time": "2023-04-30T14:20:41.835Z"
   },
   {
    "duration": 14,
    "start_time": "2023-04-30T14:20:41.857Z"
   },
   {
    "duration": 53,
    "start_time": "2023-04-30T14:20:41.873Z"
   },
   {
    "duration": 21,
    "start_time": "2023-04-30T14:20:41.927Z"
   },
   {
    "duration": 6,
    "start_time": "2023-04-30T14:20:41.949Z"
   },
   {
    "duration": 24,
    "start_time": "2023-04-30T14:20:41.956Z"
   },
   {
    "duration": 16,
    "start_time": "2023-04-30T14:20:41.988Z"
   },
   {
    "duration": 21,
    "start_time": "2023-04-30T14:20:42.006Z"
   },
   {
    "duration": 30,
    "start_time": "2023-04-30T14:20:42.029Z"
   },
   {
    "duration": 13,
    "start_time": "2023-04-30T14:20:42.060Z"
   },
   {
    "duration": 25,
    "start_time": "2023-04-30T14:20:42.076Z"
   },
   {
    "duration": 21,
    "start_time": "2023-04-30T14:20:42.103Z"
   },
   {
    "duration": 18,
    "start_time": "2023-04-30T14:20:42.126Z"
   },
   {
    "duration": 23,
    "start_time": "2023-04-30T14:20:42.146Z"
   },
   {
    "duration": 12,
    "start_time": "2023-04-30T14:20:42.171Z"
   },
   {
    "duration": 8,
    "start_time": "2023-04-30T14:20:42.185Z"
   },
   {
    "duration": 8,
    "start_time": "2023-04-30T14:20:42.194Z"
   },
   {
    "duration": 7,
    "start_time": "2023-04-30T14:20:42.204Z"
   },
   {
    "duration": 19,
    "start_time": "2023-04-30T14:20:42.213Z"
   },
   {
    "duration": 31,
    "start_time": "2023-04-30T14:20:42.234Z"
   },
   {
    "duration": 37,
    "start_time": "2023-04-30T14:20:42.267Z"
   },
   {
    "duration": 4,
    "start_time": "2023-04-30T14:20:42.306Z"
   },
   {
    "duration": 9,
    "start_time": "2023-04-30T14:20:42.311Z"
   },
   {
    "duration": 9,
    "start_time": "2023-04-30T14:20:42.321Z"
   },
   {
    "duration": 7,
    "start_time": "2023-04-30T14:20:42.332Z"
   },
   {
    "duration": 6,
    "start_time": "2023-04-30T14:20:42.341Z"
   },
   {
    "duration": 9,
    "start_time": "2023-04-30T14:20:42.349Z"
   },
   {
    "duration": 31,
    "start_time": "2023-04-30T14:20:42.360Z"
   },
   {
    "duration": 7,
    "start_time": "2023-04-30T14:20:42.393Z"
   },
   {
    "duration": 7,
    "start_time": "2023-04-30T14:20:42.402Z"
   },
   {
    "duration": 155,
    "start_time": "2023-04-30T14:20:42.411Z"
   },
   {
    "duration": 778,
    "start_time": "2023-04-30T14:20:42.568Z"
   },
   {
    "duration": 4658,
    "start_time": "2023-04-30T14:20:43.347Z"
   },
   {
    "duration": 6933,
    "start_time": "2023-04-30T14:20:48.007Z"
   },
   {
    "duration": 17,
    "start_time": "2023-04-30T14:20:54.942Z"
   },
   {
    "duration": 4,
    "start_time": "2023-04-30T14:20:54.961Z"
   },
   {
    "duration": 7,
    "start_time": "2023-04-30T14:20:54.989Z"
   },
   {
    "duration": 4,
    "start_time": "2023-04-30T14:20:55.001Z"
   },
   {
    "duration": 11,
    "start_time": "2023-04-30T14:20:55.007Z"
   },
   {
    "duration": 22,
    "start_time": "2023-04-30T14:20:55.020Z"
   },
   {
    "duration": 6,
    "start_time": "2023-04-30T14:20:55.044Z"
   },
   {
    "duration": 323,
    "start_time": "2023-04-30T14:20:55.051Z"
   },
   {
    "duration": 2427,
    "start_time": "2023-04-30T14:20:55.376Z"
   },
   {
    "duration": 4993,
    "start_time": "2023-04-30T14:20:57.805Z"
   },
   {
    "duration": 105,
    "start_time": "2023-04-30T14:21:02.804Z"
   },
   {
    "duration": 18,
    "start_time": "2023-04-30T14:21:02.912Z"
   },
   {
    "duration": 17,
    "start_time": "2023-04-30T14:21:02.932Z"
   },
   {
    "duration": 5,
    "start_time": "2023-04-30T14:21:02.951Z"
   },
   {
    "duration": 31,
    "start_time": "2023-04-30T14:21:02.958Z"
   },
   {
    "duration": 9,
    "start_time": "2023-04-30T14:21:02.992Z"
   },
   {
    "duration": 171,
    "start_time": "2023-04-30T14:21:03.004Z"
   },
   {
    "duration": 531,
    "start_time": "2023-04-30T14:21:03.177Z"
   },
   {
    "duration": 4424,
    "start_time": "2023-04-30T14:21:03.710Z"
   },
   {
    "duration": 6059,
    "start_time": "2023-04-30T14:21:08.136Z"
   },
   {
    "duration": 105,
    "start_time": "2023-04-30T14:21:14.197Z"
   },
   {
    "duration": 47,
    "start_time": "2023-04-30T14:21:14.304Z"
   },
   {
    "duration": 31,
    "start_time": "2023-04-30T14:21:14.353Z"
   },
   {
    "duration": 357,
    "start_time": "2023-04-30T14:21:14.386Z"
   },
   {
    "duration": 131,
    "start_time": "2023-04-30T14:21:14.744Z"
   },
   {
    "duration": 0,
    "start_time": "2023-04-30T14:21:14.876Z"
   },
   {
    "duration": 0,
    "start_time": "2023-04-30T14:21:14.878Z"
   },
   {
    "duration": 0,
    "start_time": "2023-04-30T14:21:14.879Z"
   },
   {
    "duration": 4,
    "start_time": "2023-04-30T14:22:29.330Z"
   },
   {
    "duration": 3,
    "start_time": "2023-04-30T14:22:29.834Z"
   },
   {
    "duration": 66,
    "start_time": "2023-04-30T14:22:30.034Z"
   },
   {
    "duration": 15,
    "start_time": "2023-04-30T14:22:30.102Z"
   },
   {
    "duration": 14,
    "start_time": "2023-04-30T14:22:30.188Z"
   },
   {
    "duration": 46,
    "start_time": "2023-04-30T14:22:30.288Z"
   },
   {
    "duration": 22,
    "start_time": "2023-04-30T14:22:30.370Z"
   },
   {
    "duration": 6,
    "start_time": "2023-04-30T14:22:30.471Z"
   },
   {
    "duration": 20,
    "start_time": "2023-04-30T14:22:30.546Z"
   },
   {
    "duration": 38,
    "start_time": "2023-04-30T14:22:30.575Z"
   },
   {
    "duration": 6,
    "start_time": "2023-04-30T14:22:30.873Z"
   },
   {
    "duration": 14,
    "start_time": "2023-04-30T14:22:30.942Z"
   },
   {
    "duration": 56,
    "start_time": "2023-04-30T14:22:30.976Z"
   },
   {
    "duration": 46,
    "start_time": "2023-04-30T14:22:31.040Z"
   },
   {
    "duration": 10,
    "start_time": "2023-04-30T14:22:31.174Z"
   },
   {
    "duration": 11,
    "start_time": "2023-04-30T14:22:31.342Z"
   },
   {
    "duration": 37,
    "start_time": "2023-04-30T14:22:31.379Z"
   },
   {
    "duration": 12,
    "start_time": "2023-04-30T14:22:31.581Z"
   },
   {
    "duration": 8,
    "start_time": "2023-04-30T14:22:31.643Z"
   },
   {
    "duration": 6,
    "start_time": "2023-04-30T14:22:31.751Z"
   },
   {
    "duration": 4,
    "start_time": "2023-04-30T14:22:31.787Z"
   },
   {
    "duration": 19,
    "start_time": "2023-04-30T14:22:31.945Z"
   },
   {
    "duration": 31,
    "start_time": "2023-04-30T14:22:32.151Z"
   },
   {
    "duration": 20,
    "start_time": "2023-04-30T14:22:32.246Z"
   },
   {
    "duration": 4,
    "start_time": "2023-04-30T14:22:32.388Z"
   },
   {
    "duration": 4,
    "start_time": "2023-04-30T14:22:32.654Z"
   },
   {
    "duration": 5,
    "start_time": "2023-04-30T14:22:32.688Z"
   },
   {
    "duration": 4,
    "start_time": "2023-04-30T14:22:32.746Z"
   },
   {
    "duration": 7,
    "start_time": "2023-04-30T14:22:32.854Z"
   },
   {
    "duration": 10,
    "start_time": "2023-04-30T14:22:32.943Z"
   },
   {
    "duration": 4,
    "start_time": "2023-04-30T14:22:32.995Z"
   },
   {
    "duration": 4,
    "start_time": "2023-04-30T14:22:33.049Z"
   },
   {
    "duration": 5,
    "start_time": "2023-04-30T14:22:33.095Z"
   },
   {
    "duration": 129,
    "start_time": "2023-04-30T14:22:33.294Z"
   },
   {
    "duration": 767,
    "start_time": "2023-04-30T14:22:33.553Z"
   },
   {
    "duration": 4702,
    "start_time": "2023-04-30T14:22:34.322Z"
   },
   {
    "duration": 7098,
    "start_time": "2023-04-30T14:22:39.026Z"
   },
   {
    "duration": 16,
    "start_time": "2023-04-30T14:22:46.126Z"
   },
   {
    "duration": 16,
    "start_time": "2023-04-30T14:22:46.144Z"
   },
   {
    "duration": 32,
    "start_time": "2023-04-30T14:22:46.162Z"
   },
   {
    "duration": 9,
    "start_time": "2023-04-30T14:22:46.196Z"
   },
   {
    "duration": 6,
    "start_time": "2023-04-30T14:22:46.207Z"
   },
   {
    "duration": 15,
    "start_time": "2023-04-30T14:22:46.215Z"
   },
   {
    "duration": 15,
    "start_time": "2023-04-30T14:22:46.233Z"
   },
   {
    "duration": 312,
    "start_time": "2023-04-30T14:22:46.249Z"
   },
   {
    "duration": 2414,
    "start_time": "2023-04-30T14:22:46.563Z"
   },
   {
    "duration": 4913,
    "start_time": "2023-04-30T14:22:48.979Z"
   },
   {
    "duration": 95,
    "start_time": "2023-04-30T14:22:53.895Z"
   },
   {
    "duration": 12,
    "start_time": "2023-04-30T14:22:53.992Z"
   },
   {
    "duration": 6,
    "start_time": "2023-04-30T14:22:54.006Z"
   },
   {
    "duration": 11,
    "start_time": "2023-04-30T14:22:54.014Z"
   },
   {
    "duration": 23,
    "start_time": "2023-04-30T14:22:54.027Z"
   },
   {
    "duration": 19,
    "start_time": "2023-04-30T14:22:54.051Z"
   },
   {
    "duration": 129,
    "start_time": "2023-04-30T14:22:54.072Z"
   },
   {
    "duration": 526,
    "start_time": "2023-04-30T14:22:54.203Z"
   },
   {
    "duration": 4381,
    "start_time": "2023-04-30T14:22:54.731Z"
   },
   {
    "duration": 5683,
    "start_time": "2023-04-30T14:22:59.114Z"
   },
   {
    "duration": 100,
    "start_time": "2023-04-30T14:23:04.799Z"
   },
   {
    "duration": 20,
    "start_time": "2023-04-30T14:23:04.900Z"
   },
   {
    "duration": 18,
    "start_time": "2023-04-30T14:23:04.922Z"
   },
   {
    "duration": 361,
    "start_time": "2023-04-30T14:23:04.942Z"
   },
   {
    "duration": 12,
    "start_time": "2023-04-30T14:23:05.306Z"
   },
   {
    "duration": 0,
    "start_time": "2023-04-30T14:23:05.320Z"
   },
   {
    "duration": 0,
    "start_time": "2023-04-30T14:23:05.321Z"
   },
   {
    "duration": 0,
    "start_time": "2023-04-30T14:23:05.323Z"
   },
   {
    "duration": 1502,
    "start_time": "2023-04-30T14:23:14.054Z"
   },
   {
    "duration": 4,
    "start_time": "2023-04-30T14:23:15.558Z"
   },
   {
    "duration": 135,
    "start_time": "2023-04-30T14:23:15.563Z"
   },
   {
    "duration": 20,
    "start_time": "2023-04-30T14:23:15.700Z"
   },
   {
    "duration": 14,
    "start_time": "2023-04-30T14:23:15.723Z"
   },
   {
    "duration": 65,
    "start_time": "2023-04-30T14:23:15.740Z"
   },
   {
    "duration": 22,
    "start_time": "2023-04-30T14:23:15.807Z"
   },
   {
    "duration": 6,
    "start_time": "2023-04-30T14:23:15.831Z"
   },
   {
    "duration": 9,
    "start_time": "2023-04-30T14:23:15.839Z"
   },
   {
    "duration": 53,
    "start_time": "2023-04-30T14:23:15.850Z"
   },
   {
    "duration": 6,
    "start_time": "2023-04-30T14:23:15.905Z"
   },
   {
    "duration": 15,
    "start_time": "2023-04-30T14:23:15.912Z"
   },
   {
    "duration": 8,
    "start_time": "2023-04-30T14:23:15.929Z"
   },
   {
    "duration": 5,
    "start_time": "2023-04-30T14:23:15.940Z"
   },
   {
    "duration": 49,
    "start_time": "2023-04-30T14:23:15.947Z"
   },
   {
    "duration": 11,
    "start_time": "2023-04-30T14:23:15.998Z"
   },
   {
    "duration": 22,
    "start_time": "2023-04-30T14:23:16.011Z"
   },
   {
    "duration": 14,
    "start_time": "2023-04-30T14:23:16.034Z"
   },
   {
    "duration": 11,
    "start_time": "2023-04-30T14:23:16.050Z"
   },
   {
    "duration": 29,
    "start_time": "2023-04-30T14:23:16.062Z"
   },
   {
    "duration": 4,
    "start_time": "2023-04-30T14:23:16.093Z"
   },
   {
    "duration": 19,
    "start_time": "2023-04-30T14:23:16.099Z"
   },
   {
    "duration": 29,
    "start_time": "2023-04-30T14:23:16.119Z"
   },
   {
    "duration": 47,
    "start_time": "2023-04-30T14:23:16.150Z"
   },
   {
    "duration": 4,
    "start_time": "2023-04-30T14:23:16.198Z"
   },
   {
    "duration": 5,
    "start_time": "2023-04-30T14:23:16.204Z"
   },
   {
    "duration": 6,
    "start_time": "2023-04-30T14:23:16.211Z"
   },
   {
    "duration": 6,
    "start_time": "2023-04-30T14:23:16.219Z"
   },
   {
    "duration": 7,
    "start_time": "2023-04-30T14:23:16.227Z"
   },
   {
    "duration": 12,
    "start_time": "2023-04-30T14:23:16.236Z"
   },
   {
    "duration": 44,
    "start_time": "2023-04-30T14:23:16.249Z"
   },
   {
    "duration": 15,
    "start_time": "2023-04-30T14:23:16.295Z"
   },
   {
    "duration": 23,
    "start_time": "2023-04-30T14:23:16.313Z"
   },
   {
    "duration": 162,
    "start_time": "2023-04-30T14:23:16.338Z"
   },
   {
    "duration": 799,
    "start_time": "2023-04-30T14:23:16.502Z"
   },
   {
    "duration": 4794,
    "start_time": "2023-04-30T14:23:17.303Z"
   },
   {
    "duration": 7109,
    "start_time": "2023-04-30T14:23:22.099Z"
   },
   {
    "duration": 15,
    "start_time": "2023-04-30T14:23:29.210Z"
   },
   {
    "duration": 8,
    "start_time": "2023-04-30T14:23:29.227Z"
   },
   {
    "duration": 8,
    "start_time": "2023-04-30T14:23:29.236Z"
   },
   {
    "duration": 23,
    "start_time": "2023-04-30T14:23:29.248Z"
   },
   {
    "duration": 6,
    "start_time": "2023-04-30T14:23:29.273Z"
   },
   {
    "duration": 10,
    "start_time": "2023-04-30T14:23:29.289Z"
   },
   {
    "duration": 5,
    "start_time": "2023-04-30T14:23:29.301Z"
   },
   {
    "duration": 314,
    "start_time": "2023-04-30T14:23:29.308Z"
   },
   {
    "duration": 2593,
    "start_time": "2023-04-30T14:23:29.624Z"
   },
   {
    "duration": 11274,
    "start_time": "2023-04-30T14:23:32.219Z"
   },
   {
    "duration": 19,
    "start_time": "2023-04-30T14:23:43.495Z"
   },
   {
    "duration": 13,
    "start_time": "2023-04-30T14:23:43.516Z"
   },
   {
    "duration": 16,
    "start_time": "2023-04-30T14:23:43.530Z"
   },
   {
    "duration": 12,
    "start_time": "2023-04-30T14:23:43.548Z"
   },
   {
    "duration": 11,
    "start_time": "2023-04-30T14:23:43.562Z"
   },
   {
    "duration": 5,
    "start_time": "2023-04-30T14:23:43.590Z"
   },
   {
    "duration": 130,
    "start_time": "2023-04-30T14:23:43.597Z"
   },
   {
    "duration": 560,
    "start_time": "2023-04-30T14:23:43.729Z"
   },
   {
    "duration": 5379,
    "start_time": "2023-04-30T14:23:44.290Z"
   },
   {
    "duration": 5828,
    "start_time": "2023-04-30T14:23:49.670Z"
   },
   {
    "duration": 16,
    "start_time": "2023-04-30T14:23:55.590Z"
   },
   {
    "duration": 23,
    "start_time": "2023-04-30T14:23:55.608Z"
   },
   {
    "duration": 8,
    "start_time": "2023-04-30T14:23:55.633Z"
   },
   {
    "duration": 375,
    "start_time": "2023-04-30T14:23:55.643Z"
   },
   {
    "duration": 128,
    "start_time": "2023-04-30T14:23:56.020Z"
   },
   {
    "duration": 0,
    "start_time": "2023-04-30T14:23:56.149Z"
   },
   {
    "duration": 0,
    "start_time": "2023-04-30T14:23:56.151Z"
   },
   {
    "duration": 0,
    "start_time": "2023-04-30T14:23:56.152Z"
   },
   {
    "duration": 49,
    "start_time": "2023-04-30T14:26:23.278Z"
   },
   {
    "duration": 117,
    "start_time": "2023-04-30T14:26:29.143Z"
   },
   {
    "duration": 5,
    "start_time": "2023-04-30T14:26:38.258Z"
   },
   {
    "duration": 38,
    "start_time": "2023-04-30T14:26:38.265Z"
   },
   {
    "duration": 87,
    "start_time": "2023-04-30T14:26:38.305Z"
   },
   {
    "duration": 14,
    "start_time": "2023-04-30T14:26:38.394Z"
   },
   {
    "duration": 36,
    "start_time": "2023-04-30T14:26:38.410Z"
   },
   {
    "duration": 64,
    "start_time": "2023-04-30T14:26:38.448Z"
   },
   {
    "duration": 20,
    "start_time": "2023-04-30T14:26:38.514Z"
   },
   {
    "duration": 15,
    "start_time": "2023-04-30T14:26:38.535Z"
   },
   {
    "duration": 27,
    "start_time": "2023-04-30T14:26:38.552Z"
   },
   {
    "duration": 30,
    "start_time": "2023-04-30T14:26:38.581Z"
   },
   {
    "duration": 18,
    "start_time": "2023-04-30T14:26:38.613Z"
   },
   {
    "duration": 31,
    "start_time": "2023-04-30T14:26:38.632Z"
   },
   {
    "duration": 8,
    "start_time": "2023-04-30T14:26:38.665Z"
   },
   {
    "duration": 26,
    "start_time": "2023-04-30T14:26:38.675Z"
   },
   {
    "duration": 23,
    "start_time": "2023-04-30T14:26:38.703Z"
   },
   {
    "duration": 30,
    "start_time": "2023-04-30T14:26:38.728Z"
   },
   {
    "duration": 49,
    "start_time": "2023-04-30T14:26:38.760Z"
   },
   {
    "duration": 31,
    "start_time": "2023-04-30T14:26:38.810Z"
   },
   {
    "duration": 21,
    "start_time": "2023-04-30T14:26:38.843Z"
   },
   {
    "duration": 18,
    "start_time": "2023-04-30T14:26:38.866Z"
   },
   {
    "duration": 23,
    "start_time": "2023-04-30T14:26:38.886Z"
   },
   {
    "duration": 38,
    "start_time": "2023-04-30T14:26:38.911Z"
   },
   {
    "duration": 55,
    "start_time": "2023-04-30T14:26:38.951Z"
   },
   {
    "duration": 20,
    "start_time": "2023-04-30T14:26:39.011Z"
   },
   {
    "duration": 4,
    "start_time": "2023-04-30T14:26:39.033Z"
   },
   {
    "duration": 23,
    "start_time": "2023-04-30T14:26:39.039Z"
   },
   {
    "duration": 21,
    "start_time": "2023-04-30T14:26:39.064Z"
   },
   {
    "duration": 25,
    "start_time": "2023-04-30T14:26:39.087Z"
   },
   {
    "duration": 26,
    "start_time": "2023-04-30T14:26:39.114Z"
   },
   {
    "duration": 63,
    "start_time": "2023-04-30T14:26:39.142Z"
   },
   {
    "duration": 49,
    "start_time": "2023-04-30T14:26:39.207Z"
   },
   {
    "duration": 40,
    "start_time": "2023-04-30T14:26:39.258Z"
   },
   {
    "duration": 25,
    "start_time": "2023-04-30T14:26:39.300Z"
   },
   {
    "duration": 135,
    "start_time": "2023-04-30T14:26:39.327Z"
   },
   {
    "duration": 809,
    "start_time": "2023-04-30T14:26:39.464Z"
   },
   {
    "duration": 4712,
    "start_time": "2023-04-30T14:26:40.274Z"
   },
   {
    "duration": 8314,
    "start_time": "2023-04-30T14:26:44.988Z"
   },
   {
    "duration": 15,
    "start_time": "2023-04-30T14:26:53.304Z"
   },
   {
    "duration": 1530,
    "start_time": "2023-04-30T14:27:22.674Z"
   },
   {
    "duration": 3,
    "start_time": "2023-04-30T14:27:24.206Z"
   },
   {
    "duration": 83,
    "start_time": "2023-04-30T14:27:24.211Z"
   },
   {
    "duration": 19,
    "start_time": "2023-04-30T14:27:24.295Z"
   },
   {
    "duration": 21,
    "start_time": "2023-04-30T14:27:24.316Z"
   },
   {
    "duration": 61,
    "start_time": "2023-04-30T14:27:24.339Z"
   },
   {
    "duration": 22,
    "start_time": "2023-04-30T14:27:24.402Z"
   },
   {
    "duration": 11,
    "start_time": "2023-04-30T14:27:24.425Z"
   },
   {
    "duration": 11,
    "start_time": "2023-04-30T14:27:24.438Z"
   },
   {
    "duration": 43,
    "start_time": "2023-04-30T14:27:24.452Z"
   },
   {
    "duration": 4,
    "start_time": "2023-04-30T14:27:24.497Z"
   },
   {
    "duration": 15,
    "start_time": "2023-04-30T14:27:24.503Z"
   },
   {
    "duration": 10,
    "start_time": "2023-04-30T14:27:24.519Z"
   },
   {
    "duration": 8,
    "start_time": "2023-04-30T14:27:24.532Z"
   },
   {
    "duration": 17,
    "start_time": "2023-04-30T14:27:24.541Z"
   },
   {
    "duration": 37,
    "start_time": "2023-04-30T14:27:24.560Z"
   },
   {
    "duration": 20,
    "start_time": "2023-04-30T14:27:24.599Z"
   },
   {
    "duration": 67,
    "start_time": "2023-04-30T14:27:24.621Z"
   },
   {
    "duration": 21,
    "start_time": "2023-04-30T14:27:24.690Z"
   },
   {
    "duration": 12,
    "start_time": "2023-04-30T14:27:24.713Z"
   },
   {
    "duration": 12,
    "start_time": "2023-04-30T14:27:24.727Z"
   },
   {
    "duration": 22,
    "start_time": "2023-04-30T14:27:24.741Z"
   },
   {
    "duration": 46,
    "start_time": "2023-04-30T14:27:24.765Z"
   },
   {
    "duration": 20,
    "start_time": "2023-04-30T14:27:24.813Z"
   },
   {
    "duration": 4,
    "start_time": "2023-04-30T14:27:24.835Z"
   },
   {
    "duration": 9,
    "start_time": "2023-04-30T14:27:24.841Z"
   },
   {
    "duration": 6,
    "start_time": "2023-04-30T14:27:24.852Z"
   },
   {
    "duration": 12,
    "start_time": "2023-04-30T14:27:24.860Z"
   },
   {
    "duration": 18,
    "start_time": "2023-04-30T14:27:24.874Z"
   },
   {
    "duration": 13,
    "start_time": "2023-04-30T14:27:24.894Z"
   },
   {
    "duration": 27,
    "start_time": "2023-04-30T14:27:24.909Z"
   },
   {
    "duration": 16,
    "start_time": "2023-04-30T14:27:24.938Z"
   },
   {
    "duration": 13,
    "start_time": "2023-04-30T14:27:24.956Z"
   },
   {
    "duration": 153,
    "start_time": "2023-04-30T14:27:24.971Z"
   },
   {
    "duration": 796,
    "start_time": "2023-04-30T14:27:25.126Z"
   },
   {
    "duration": 4738,
    "start_time": "2023-04-30T14:27:25.924Z"
   },
   {
    "duration": 7357,
    "start_time": "2023-04-30T14:27:30.664Z"
   },
   {
    "duration": 65,
    "start_time": "2023-04-30T14:27:38.024Z"
   },
   {
    "duration": 15,
    "start_time": "2023-04-30T14:27:50.000Z"
   },
   {
    "duration": 3,
    "start_time": "2023-04-30T14:28:01.231Z"
   },
   {
    "duration": 6,
    "start_time": "2023-04-30T14:28:09.494Z"
   },
   {
    "duration": 4,
    "start_time": "2023-04-30T14:28:16.734Z"
   },
   {
    "duration": 4,
    "start_time": "2023-04-30T14:28:21.197Z"
   },
   {
    "duration": 11,
    "start_time": "2023-04-30T14:28:21.844Z"
   },
   {
    "duration": 6,
    "start_time": "2023-04-30T14:28:22.676Z"
   },
   {
    "duration": 80,
    "start_time": "2023-04-30T14:28:26.389Z"
   },
   {
    "duration": 318,
    "start_time": "2023-04-30T14:29:23.840Z"
   },
   {
    "duration": 322,
    "start_time": "2023-04-30T14:29:49.332Z"
   },
   {
    "duration": 305,
    "start_time": "2023-04-30T14:30:55.204Z"
   },
   {
    "duration": 2518,
    "start_time": "2023-04-30T14:31:02.129Z"
   },
   {
    "duration": 4957,
    "start_time": "2023-04-30T14:31:08.738Z"
   },
   {
    "duration": 2,
    "start_time": "2023-04-30T14:36:54.642Z"
   },
   {
    "duration": 5,
    "start_time": "2023-04-30T14:36:54.975Z"
   },
   {
    "duration": 3,
    "start_time": "2023-04-30T14:36:56.045Z"
   },
   {
    "duration": 8,
    "start_time": "2023-04-30T14:36:57.096Z"
   },
   {
    "duration": 9,
    "start_time": "2023-04-30T14:36:57.745Z"
   },
   {
    "duration": 6,
    "start_time": "2023-04-30T14:36:58.270Z"
   },
   {
    "duration": 81,
    "start_time": "2023-04-30T14:37:06.287Z"
   },
   {
    "duration": 320,
    "start_time": "2023-04-30T14:37:27.286Z"
   },
   {
    "duration": 2575,
    "start_time": "2023-04-30T14:37:31.148Z"
   },
   {
    "duration": 5506,
    "start_time": "2023-04-30T14:37:50.790Z"
   },
   {
    "duration": 17,
    "start_time": "2023-04-30T14:38:02.332Z"
   },
   {
    "duration": 12,
    "start_time": "2023-04-30T14:38:06.929Z"
   },
   {
    "duration": 4,
    "start_time": "2023-04-30T14:38:10.182Z"
   },
   {
    "duration": 4,
    "start_time": "2023-04-30T14:38:13.758Z"
   },
   {
    "duration": 13,
    "start_time": "2023-04-30T14:38:14.189Z"
   },
   {
    "duration": 5,
    "start_time": "2023-04-30T14:38:14.542Z"
   },
   {
    "duration": 10,
    "start_time": "2023-04-30T14:38:31.285Z"
   },
   {
    "duration": 5,
    "start_time": "2023-04-30T14:38:32.340Z"
   },
   {
    "duration": 608,
    "start_time": "2023-04-30T14:38:56.861Z"
   },
   {
    "duration": 4994,
    "start_time": "2023-04-30T14:39:01.544Z"
   },
   {
    "duration": 6746,
    "start_time": "2023-04-30T14:39:13.150Z"
   },
   {
    "duration": 15,
    "start_time": "2023-04-30T14:39:32.389Z"
   },
   {
    "duration": 6509,
    "start_time": "2023-04-30T14:39:36.381Z"
   },
   {
    "duration": 17,
    "start_time": "2023-04-30T14:39:50.853Z"
   },
   {
    "duration": 15,
    "start_time": "2023-04-30T14:39:53.293Z"
   },
   {
    "duration": 11,
    "start_time": "2023-04-30T14:39:56.198Z"
   },
   {
    "duration": 5,
    "start_time": "2023-04-30T14:40:19.643Z"
   },
   {
    "duration": 442,
    "start_time": "2023-04-30T14:40:30.155Z"
   },
   {
    "duration": 110,
    "start_time": "2023-04-30T14:46:43.449Z"
   },
   {
    "duration": 5,
    "start_time": "2023-04-30T14:46:43.841Z"
   },
   {
    "duration": 3277,
    "start_time": "2023-04-30T14:46:44.271Z"
   },
   {
    "duration": 8,
    "start_time": "2023-04-30T14:46:52.233Z"
   },
   {
    "duration": 132,
    "start_time": "2023-04-30T15:01:16.854Z"
   },
   {
    "duration": 844,
    "start_time": "2023-04-30T15:01:18.849Z"
   },
   {
    "duration": 5409,
    "start_time": "2023-04-30T15:01:30.669Z"
   },
   {
    "duration": 7451,
    "start_time": "2023-04-30T15:01:36.080Z"
   },
   {
    "duration": 18,
    "start_time": "2023-04-30T15:13:34.670Z"
   },
   {
    "duration": 1546,
    "start_time": "2023-04-30T15:13:44.603Z"
   },
   {
    "duration": 3,
    "start_time": "2023-04-30T15:13:46.152Z"
   },
   {
    "duration": 178,
    "start_time": "2023-04-30T15:13:46.157Z"
   },
   {
    "duration": 20,
    "start_time": "2023-04-30T15:13:46.337Z"
   },
   {
    "duration": 14,
    "start_time": "2023-04-30T15:13:46.359Z"
   },
   {
    "duration": 54,
    "start_time": "2023-04-30T15:13:46.375Z"
   },
   {
    "duration": 21,
    "start_time": "2023-04-30T15:13:46.430Z"
   },
   {
    "duration": 6,
    "start_time": "2023-04-30T15:13:46.452Z"
   },
   {
    "duration": 8,
    "start_time": "2023-04-30T15:13:46.460Z"
   },
   {
    "duration": 15,
    "start_time": "2023-04-30T15:13:46.489Z"
   },
   {
    "duration": 4,
    "start_time": "2023-04-30T15:13:46.506Z"
   },
   {
    "duration": 16,
    "start_time": "2023-04-30T15:13:46.512Z"
   },
   {
    "duration": 8,
    "start_time": "2023-04-30T15:13:46.530Z"
   },
   {
    "duration": 7,
    "start_time": "2023-04-30T15:13:46.542Z"
   },
   {
    "duration": 49,
    "start_time": "2023-04-30T15:13:46.551Z"
   },
   {
    "duration": 10,
    "start_time": "2023-04-30T15:13:46.602Z"
   },
   {
    "duration": 20,
    "start_time": "2023-04-30T15:13:46.614Z"
   },
   {
    "duration": 11,
    "start_time": "2023-04-30T15:13:46.636Z"
   },
   {
    "duration": 6,
    "start_time": "2023-04-30T15:13:46.649Z"
   },
   {
    "duration": 32,
    "start_time": "2023-04-30T15:13:46.657Z"
   },
   {
    "duration": 8,
    "start_time": "2023-04-30T15:13:46.691Z"
   },
   {
    "duration": 26,
    "start_time": "2023-04-30T15:13:46.701Z"
   },
   {
    "duration": 38,
    "start_time": "2023-04-30T15:13:46.729Z"
   },
   {
    "duration": 34,
    "start_time": "2023-04-30T15:13:46.768Z"
   },
   {
    "duration": 4,
    "start_time": "2023-04-30T15:13:46.803Z"
   },
   {
    "duration": 5,
    "start_time": "2023-04-30T15:13:46.809Z"
   },
   {
    "duration": 8,
    "start_time": "2023-04-30T15:13:46.816Z"
   },
   {
    "duration": 7,
    "start_time": "2023-04-30T15:13:46.826Z"
   },
   {
    "duration": 7,
    "start_time": "2023-04-30T15:13:46.835Z"
   },
   {
    "duration": 8,
    "start_time": "2023-04-30T15:13:46.844Z"
   },
   {
    "duration": 8,
    "start_time": "2023-04-30T15:13:46.854Z"
   },
   {
    "duration": 4,
    "start_time": "2023-04-30T15:13:46.889Z"
   },
   {
    "duration": 6,
    "start_time": "2023-04-30T15:13:46.895Z"
   },
   {
    "duration": 164,
    "start_time": "2023-04-30T15:13:46.902Z"
   },
   {
    "duration": 792,
    "start_time": "2023-04-30T15:13:47.068Z"
   },
   {
    "duration": 4818,
    "start_time": "2023-04-30T15:13:47.862Z"
   },
   {
    "duration": 7360,
    "start_time": "2023-04-30T15:13:52.688Z"
   },
   {
    "duration": 18,
    "start_time": "2023-04-30T15:14:00.050Z"
   },
   {
    "duration": 20,
    "start_time": "2023-04-30T15:14:00.070Z"
   },
   {
    "duration": 24,
    "start_time": "2023-04-30T15:14:00.093Z"
   },
   {
    "duration": 20,
    "start_time": "2023-04-30T15:14:00.121Z"
   },
   {
    "duration": 23,
    "start_time": "2023-04-30T15:14:00.144Z"
   },
   {
    "duration": 25,
    "start_time": "2023-04-30T15:14:00.170Z"
   },
   {
    "duration": 7,
    "start_time": "2023-04-30T15:14:00.198Z"
   },
   {
    "duration": 93,
    "start_time": "2023-04-30T15:14:00.207Z"
   },
   {
    "duration": 381,
    "start_time": "2023-04-30T15:14:00.301Z"
   },
   {
    "duration": 2513,
    "start_time": "2023-04-30T15:14:00.684Z"
   },
   {
    "duration": 4899,
    "start_time": "2023-04-30T15:14:03.199Z"
   },
   {
    "duration": 16,
    "start_time": "2023-04-30T15:14:08.190Z"
   },
   {
    "duration": 15,
    "start_time": "2023-04-30T15:14:08.208Z"
   },
   {
    "duration": 6,
    "start_time": "2023-04-30T15:14:08.225Z"
   },
   {
    "duration": 12,
    "start_time": "2023-04-30T15:14:08.233Z"
   },
   {
    "duration": 15,
    "start_time": "2023-04-30T15:14:08.247Z"
   },
   {
    "duration": 28,
    "start_time": "2023-04-30T15:14:08.264Z"
   },
   {
    "duration": 537,
    "start_time": "2023-04-30T15:14:08.294Z"
   },
   {
    "duration": 4530,
    "start_time": "2023-04-30T15:14:08.833Z"
   },
   {
    "duration": 9625,
    "start_time": "2023-04-30T15:14:13.365Z"
   },
   {
    "duration": 20,
    "start_time": "2023-04-30T15:14:22.993Z"
   },
   {
    "duration": 12,
    "start_time": "2023-04-30T15:14:23.015Z"
   },
   {
    "duration": 61,
    "start_time": "2023-04-30T15:14:23.029Z"
   },
   {
    "duration": 374,
    "start_time": "2023-04-30T15:14:23.093Z"
   },
   {
    "duration": 99,
    "start_time": "2023-04-30T15:14:23.469Z"
   },
   {
    "duration": 5,
    "start_time": "2023-04-30T15:14:23.570Z"
   },
   {
    "duration": 3145,
    "start_time": "2023-04-30T15:14:23.590Z"
   },
   {
    "duration": 7,
    "start_time": "2023-04-30T15:14:26.737Z"
   }
  ],
  "kernelspec": {
   "display_name": "Python 3 (ipykernel)",
   "language": "python",
   "name": "python3"
  },
  "language_info": {
   "codemirror_mode": {
    "name": "ipython",
    "version": 3
   },
   "file_extension": ".py",
   "mimetype": "text/x-python",
   "name": "python",
   "nbconvert_exporter": "python",
   "pygments_lexer": "ipython3",
   "version": "3.10.12"
  },
  "toc": {
   "base_numbering": 1,
   "nav_menu": {
    "height": "329px",
    "width": "342px"
   },
   "number_sections": true,
   "sideBar": true,
   "skip_h1_title": true,
   "title_cell": "Содержание",
   "title_sidebar": "Contents",
   "toc_cell": true,
   "toc_position": {
    "height": "calc(100% - 180px)",
    "left": "10px",
    "top": "150px",
    "width": "165px"
   },
   "toc_section_display": true,
   "toc_window_display": true
  }
 },
 "nbformat": 4,
 "nbformat_minor": 2
}
