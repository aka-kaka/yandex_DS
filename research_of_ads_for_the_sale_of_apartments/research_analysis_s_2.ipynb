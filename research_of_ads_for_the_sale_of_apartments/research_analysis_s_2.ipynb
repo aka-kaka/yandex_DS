{
 "cells": [
  {
   "cell_type": "markdown",
   "metadata": {},
   "source": [
    "# Исследование объявлений о продаже квартир\n",
    "\n",
    "В вашем распоряжении данные сервиса Яндекс.Недвижимость — архив объявлений о продаже квартир в Санкт-Петербурге и соседних населённых пунктов за несколько лет. Нужно научиться определять рыночную стоимость объектов недвижимости. Ваша задача — установить параметры. Это позволит построить автоматизированную систему: она отследит аномалии и мошенническую деятельность. \n",
    "\n",
    "По каждой квартире на продажу доступны два вида данных. Первые вписаны пользователем, вторые — получены автоматически на основе картографических данных. Например, расстояние до центра, аэропорта, ближайшего парка и водоёма. "
   ]
  },
  {
   "cell_type": "markdown",
   "metadata": {},
   "source": [
    "    Задачи\n",
    "    Изучить следующие параметры объектов:\n",
    "     \n",
    "        общая площадь;\n",
    "        жилая площадь;\n",
    "        площадь кухни;\n",
    "        цена объекта;\n",
    "        количество комнат;\n",
    "        высота потолков;\n",
    "        этаж квартиры;\n",
    "        тип этажа квартиры («первый», «последний», «другой»);\n",
    "        общее количество этажей в доме;\n",
    "        расстояние до центра города в метрах;\n",
    "        расстояние до ближайшего аэропорта;\n",
    "        расстояние до ближайшего парка;\n",
    "        день и месяц публикации объявления.\n",
    "        Постройте отдельные гистограммы для каждого из этих параметров. Опишите все ваши наблюдения по параметрам в ячейке с типом markdown.\n",
    "    Изучите, как быстро продавались квартиры (столбец days_exposition). Этот параметр показывает, сколько дней было размещено каждое объявление. \n",
    "     \n",
    "        Постройте гистограмму.\n",
    "        Посчитайте среднее и медиану.\n",
    "        В ячейке типа markdown опишите, сколько времени обычно занимает продажа. Какие продажи можно считать быстрыми, а какие — необычно долгими?\n",
    "    Какие факторы больше всего влияют на общую (полную) стоимость объекта?\n",
    "     Изучите, зависит ли цена от:\n",
    "        общей площади;\n",
    "        жилой площади;\n",
    "        площади кухни;\n",
    "        количества комнат;\n",
    "        этажа, на котором расположена квартира (первый, последний, другой);\n",
    "        даты размещения (день недели, месяц, год).\n",
    "        Постройте графики, которые покажут зависимость цены от указанных выше параметров. Для подготовки данных перед визуализацией вы можете использовать сводные таблицы.\n",
    "    Посчитайте среднюю цену одного квадратного метра в 10 населённых пунктах с наибольшим числом объявлений. Выделите населённые пункты с самой высокой и низкой стоимостью квадратного метра. \n",
    "    Ранее вы посчитали расстояние до центра в километрах. Теперь выделите квартиры в Санкт-Петербурге с помощью столбца locality_name и вычислите среднюю цену каждого километра. Опишите, как стоимость объектов зависит от расстояния до центра города."
   ]
  },
  {
   "cell_type": "markdown",
   "metadata": {},
   "source": [
    "Описание данных\n",
    "\n",
    "    airports_nearest — расстояние до ближайшего аэропорта в метрах (м)\n",
    "    balcony — число балконов\n",
    "    ceiling_height — высота потолков (м)\n",
    "    cityCenters_nearest — расстояние до центра города (м)\n",
    "    days_exposition — сколько дней было размещено объявление (от публикации до снятия)\n",
    "    first_day_exposition — дата публикации\n",
    "    floor — этаж\n",
    "    floors_total — всего этажей в доме\n",
    "    is_apartment — апартаменты (булев тип)\n",
    "    kitchen_area — площадь кухни в квадратных метрах (м²)\n",
    "    last_price — цена на момент снятия с публикации\n",
    "    living_area — жилая площадь в квадратных метрах (м²)\n",
    "    locality_name — название населённого пункта\n",
    "    open_plan — свободная планировка (булев тип)\n",
    "    parks_around3000 — число парков в радиусе 3 км\n",
    "    parks_nearest — расстояние до ближайшего парка (м)\n",
    "    ponds_around3000 — число водоёмов в радиусе 3 км\n",
    "    ponds_nearest — расстояние до ближайшего водоёма (м)\n",
    "    rooms — число комнат\n",
    "    studio — квартира-студия (булев тип)\n",
    "    total_area — общая площадь квартиры в квадратных метрах (м²)\n",
    "    total_images — число фотографий квартиры в объявлении"
   ]
  },
  {
   "cell_type": "markdown",
   "metadata": {},
   "source": [
    "### Откройте файл с данными и изучите общую информацию. "
   ]
  },
  {
   "cell_type": "code",
   "execution_count": 1,
   "metadata": {
    "tags": []
   },
   "outputs": [],
   "source": [
    "import seaborn as sns\n",
    "import pandas as pd\n",
    "import numpy as np\n",
    "import matplotlib"
   ]
  },
  {
   "cell_type": "code",
   "execution_count": 2,
   "metadata": {
    "tags": []
   },
   "outputs": [],
   "source": [
    "try:\n",
    "    data = pd.read_csv('/home/oslik/Yandex_curs_DS/Project_2/datasets/real_estate_data.csv', sep='\\t')\n",
    "except:\n",
    "    data = pd.read_csv('https://code.s3.yandex.net/datasets/real_estate_data.csv', sep='\\t')"
   ]
  },
  {
   "cell_type": "code",
   "execution_count": 3,
   "metadata": {
    "tags": []
   },
   "outputs": [],
   "source": [
    "pd.set_option('display.max_columns', None)"
   ]
  },
  {
   "cell_type": "code",
   "execution_count": 4,
   "metadata": {
    "tags": []
   },
   "outputs": [
    {
     "data": {
      "text/html": [
       "<div>\n",
       "<style scoped>\n",
       "    .dataframe tbody tr th:only-of-type {\n",
       "        vertical-align: middle;\n",
       "    }\n",
       "\n",
       "    .dataframe tbody tr th {\n",
       "        vertical-align: top;\n",
       "    }\n",
       "\n",
       "    .dataframe thead th {\n",
       "        text-align: right;\n",
       "    }\n",
       "</style>\n",
       "<table border=\"1\" class=\"dataframe\">\n",
       "  <thead>\n",
       "    <tr style=\"text-align: right;\">\n",
       "      <th></th>\n",
       "      <th>total_images</th>\n",
       "      <th>last_price</th>\n",
       "      <th>total_area</th>\n",
       "      <th>first_day_exposition</th>\n",
       "      <th>rooms</th>\n",
       "      <th>ceiling_height</th>\n",
       "      <th>floors_total</th>\n",
       "      <th>living_area</th>\n",
       "      <th>floor</th>\n",
       "      <th>is_apartment</th>\n",
       "      <th>studio</th>\n",
       "      <th>open_plan</th>\n",
       "      <th>kitchen_area</th>\n",
       "      <th>balcony</th>\n",
       "      <th>locality_name</th>\n",
       "      <th>airports_nearest</th>\n",
       "      <th>cityCenters_nearest</th>\n",
       "      <th>parks_around3000</th>\n",
       "      <th>parks_nearest</th>\n",
       "      <th>ponds_around3000</th>\n",
       "      <th>ponds_nearest</th>\n",
       "      <th>days_exposition</th>\n",
       "    </tr>\n",
       "  </thead>\n",
       "  <tbody>\n",
       "    <tr>\n",
       "      <th>0</th>\n",
       "      <td>20</td>\n",
       "      <td>13000000.0</td>\n",
       "      <td>108.0</td>\n",
       "      <td>2019-03-07T00:00:00</td>\n",
       "      <td>3</td>\n",
       "      <td>2.70</td>\n",
       "      <td>16.0</td>\n",
       "      <td>51.0</td>\n",
       "      <td>8</td>\n",
       "      <td>NaN</td>\n",
       "      <td>False</td>\n",
       "      <td>False</td>\n",
       "      <td>25.0</td>\n",
       "      <td>NaN</td>\n",
       "      <td>Санкт-Петербург</td>\n",
       "      <td>18863.0</td>\n",
       "      <td>16028.0</td>\n",
       "      <td>1.0</td>\n",
       "      <td>482.0</td>\n",
       "      <td>2.0</td>\n",
       "      <td>755.0</td>\n",
       "      <td>NaN</td>\n",
       "    </tr>\n",
       "    <tr>\n",
       "      <th>1</th>\n",
       "      <td>7</td>\n",
       "      <td>3350000.0</td>\n",
       "      <td>40.4</td>\n",
       "      <td>2018-12-04T00:00:00</td>\n",
       "      <td>1</td>\n",
       "      <td>NaN</td>\n",
       "      <td>11.0</td>\n",
       "      <td>18.6</td>\n",
       "      <td>1</td>\n",
       "      <td>NaN</td>\n",
       "      <td>False</td>\n",
       "      <td>False</td>\n",
       "      <td>11.0</td>\n",
       "      <td>2.0</td>\n",
       "      <td>посёлок Шушары</td>\n",
       "      <td>12817.0</td>\n",
       "      <td>18603.0</td>\n",
       "      <td>0.0</td>\n",
       "      <td>NaN</td>\n",
       "      <td>0.0</td>\n",
       "      <td>NaN</td>\n",
       "      <td>81.0</td>\n",
       "    </tr>\n",
       "    <tr>\n",
       "      <th>2</th>\n",
       "      <td>10</td>\n",
       "      <td>5196000.0</td>\n",
       "      <td>56.0</td>\n",
       "      <td>2015-08-20T00:00:00</td>\n",
       "      <td>2</td>\n",
       "      <td>NaN</td>\n",
       "      <td>5.0</td>\n",
       "      <td>34.3</td>\n",
       "      <td>4</td>\n",
       "      <td>NaN</td>\n",
       "      <td>False</td>\n",
       "      <td>False</td>\n",
       "      <td>8.3</td>\n",
       "      <td>0.0</td>\n",
       "      <td>Санкт-Петербург</td>\n",
       "      <td>21741.0</td>\n",
       "      <td>13933.0</td>\n",
       "      <td>1.0</td>\n",
       "      <td>90.0</td>\n",
       "      <td>2.0</td>\n",
       "      <td>574.0</td>\n",
       "      <td>558.0</td>\n",
       "    </tr>\n",
       "    <tr>\n",
       "      <th>3</th>\n",
       "      <td>0</td>\n",
       "      <td>64900000.0</td>\n",
       "      <td>159.0</td>\n",
       "      <td>2015-07-24T00:00:00</td>\n",
       "      <td>3</td>\n",
       "      <td>NaN</td>\n",
       "      <td>14.0</td>\n",
       "      <td>NaN</td>\n",
       "      <td>9</td>\n",
       "      <td>NaN</td>\n",
       "      <td>False</td>\n",
       "      <td>False</td>\n",
       "      <td>NaN</td>\n",
       "      <td>0.0</td>\n",
       "      <td>Санкт-Петербург</td>\n",
       "      <td>28098.0</td>\n",
       "      <td>6800.0</td>\n",
       "      <td>2.0</td>\n",
       "      <td>84.0</td>\n",
       "      <td>3.0</td>\n",
       "      <td>234.0</td>\n",
       "      <td>424.0</td>\n",
       "    </tr>\n",
       "    <tr>\n",
       "      <th>4</th>\n",
       "      <td>2</td>\n",
       "      <td>10000000.0</td>\n",
       "      <td>100.0</td>\n",
       "      <td>2018-06-19T00:00:00</td>\n",
       "      <td>2</td>\n",
       "      <td>3.03</td>\n",
       "      <td>14.0</td>\n",
       "      <td>32.0</td>\n",
       "      <td>13</td>\n",
       "      <td>NaN</td>\n",
       "      <td>False</td>\n",
       "      <td>False</td>\n",
       "      <td>41.0</td>\n",
       "      <td>NaN</td>\n",
       "      <td>Санкт-Петербург</td>\n",
       "      <td>31856.0</td>\n",
       "      <td>8098.0</td>\n",
       "      <td>2.0</td>\n",
       "      <td>112.0</td>\n",
       "      <td>1.0</td>\n",
       "      <td>48.0</td>\n",
       "      <td>121.0</td>\n",
       "    </tr>\n",
       "  </tbody>\n",
       "</table>\n",
       "</div>"
      ],
      "text/plain": [
       "   total_images  last_price  total_area first_day_exposition  rooms  \\\n",
       "0            20  13000000.0       108.0  2019-03-07T00:00:00      3   \n",
       "1             7   3350000.0        40.4  2018-12-04T00:00:00      1   \n",
       "2            10   5196000.0        56.0  2015-08-20T00:00:00      2   \n",
       "3             0  64900000.0       159.0  2015-07-24T00:00:00      3   \n",
       "4             2  10000000.0       100.0  2018-06-19T00:00:00      2   \n",
       "\n",
       "   ceiling_height  floors_total  living_area  floor is_apartment  studio  \\\n",
       "0            2.70          16.0         51.0      8          NaN   False   \n",
       "1             NaN          11.0         18.6      1          NaN   False   \n",
       "2             NaN           5.0         34.3      4          NaN   False   \n",
       "3             NaN          14.0          NaN      9          NaN   False   \n",
       "4            3.03          14.0         32.0     13          NaN   False   \n",
       "\n",
       "   open_plan  kitchen_area  balcony    locality_name  airports_nearest  \\\n",
       "0      False          25.0      NaN  Санкт-Петербург           18863.0   \n",
       "1      False          11.0      2.0   посёлок Шушары           12817.0   \n",
       "2      False           8.3      0.0  Санкт-Петербург           21741.0   \n",
       "3      False           NaN      0.0  Санкт-Петербург           28098.0   \n",
       "4      False          41.0      NaN  Санкт-Петербург           31856.0   \n",
       "\n",
       "   cityCenters_nearest  parks_around3000  parks_nearest  ponds_around3000  \\\n",
       "0              16028.0               1.0          482.0               2.0   \n",
       "1              18603.0               0.0            NaN               0.0   \n",
       "2              13933.0               1.0           90.0               2.0   \n",
       "3               6800.0               2.0           84.0               3.0   \n",
       "4               8098.0               2.0          112.0               1.0   \n",
       "\n",
       "   ponds_nearest  days_exposition  \n",
       "0          755.0              NaN  \n",
       "1            NaN             81.0  \n",
       "2          574.0            558.0  \n",
       "3          234.0            424.0  \n",
       "4           48.0            121.0  "
      ]
     },
     "execution_count": 4,
     "metadata": {},
     "output_type": "execute_result"
    }
   ],
   "source": [
    "data.head()"
   ]
  },
  {
   "cell_type": "code",
   "execution_count": 5,
   "metadata": {
    "tags": []
   },
   "outputs": [
    {
     "data": {
      "text/html": [
       "<div>\n",
       "<style scoped>\n",
       "    .dataframe tbody tr th:only-of-type {\n",
       "        vertical-align: middle;\n",
       "    }\n",
       "\n",
       "    .dataframe tbody tr th {\n",
       "        vertical-align: top;\n",
       "    }\n",
       "\n",
       "    .dataframe thead th {\n",
       "        text-align: right;\n",
       "    }\n",
       "</style>\n",
       "<table border=\"1\" class=\"dataframe\">\n",
       "  <thead>\n",
       "    <tr style=\"text-align: right;\">\n",
       "      <th></th>\n",
       "      <th>total_images</th>\n",
       "      <th>last_price</th>\n",
       "      <th>total_area</th>\n",
       "      <th>first_day_exposition</th>\n",
       "      <th>rooms</th>\n",
       "      <th>ceiling_height</th>\n",
       "      <th>floors_total</th>\n",
       "      <th>living_area</th>\n",
       "      <th>floor</th>\n",
       "      <th>is_apartment</th>\n",
       "      <th>studio</th>\n",
       "      <th>open_plan</th>\n",
       "      <th>kitchen_area</th>\n",
       "      <th>balcony</th>\n",
       "      <th>locality_name</th>\n",
       "      <th>airports_nearest</th>\n",
       "      <th>cityCenters_nearest</th>\n",
       "      <th>parks_around3000</th>\n",
       "      <th>parks_nearest</th>\n",
       "      <th>ponds_around3000</th>\n",
       "      <th>ponds_nearest</th>\n",
       "      <th>days_exposition</th>\n",
       "    </tr>\n",
       "  </thead>\n",
       "  <tbody>\n",
       "    <tr>\n",
       "      <th>23694</th>\n",
       "      <td>9</td>\n",
       "      <td>9700000.0</td>\n",
       "      <td>133.81</td>\n",
       "      <td>2017-03-21T00:00:00</td>\n",
       "      <td>3</td>\n",
       "      <td>3.7</td>\n",
       "      <td>5.0</td>\n",
       "      <td>73.3</td>\n",
       "      <td>3</td>\n",
       "      <td>NaN</td>\n",
       "      <td>False</td>\n",
       "      <td>False</td>\n",
       "      <td>13.83</td>\n",
       "      <td>NaN</td>\n",
       "      <td>Санкт-Петербург</td>\n",
       "      <td>24665.0</td>\n",
       "      <td>4232.0</td>\n",
       "      <td>1.0</td>\n",
       "      <td>796.0</td>\n",
       "      <td>3.0</td>\n",
       "      <td>381.0</td>\n",
       "      <td>NaN</td>\n",
       "    </tr>\n",
       "    <tr>\n",
       "      <th>23695</th>\n",
       "      <td>14</td>\n",
       "      <td>3100000.0</td>\n",
       "      <td>59.00</td>\n",
       "      <td>2018-01-15T00:00:00</td>\n",
       "      <td>3</td>\n",
       "      <td>NaN</td>\n",
       "      <td>5.0</td>\n",
       "      <td>38.0</td>\n",
       "      <td>4</td>\n",
       "      <td>NaN</td>\n",
       "      <td>False</td>\n",
       "      <td>False</td>\n",
       "      <td>8.50</td>\n",
       "      <td>NaN</td>\n",
       "      <td>Тосно</td>\n",
       "      <td>NaN</td>\n",
       "      <td>NaN</td>\n",
       "      <td>NaN</td>\n",
       "      <td>NaN</td>\n",
       "      <td>NaN</td>\n",
       "      <td>NaN</td>\n",
       "      <td>45.0</td>\n",
       "    </tr>\n",
       "    <tr>\n",
       "      <th>23696</th>\n",
       "      <td>18</td>\n",
       "      <td>2500000.0</td>\n",
       "      <td>56.70</td>\n",
       "      <td>2018-02-11T00:00:00</td>\n",
       "      <td>2</td>\n",
       "      <td>NaN</td>\n",
       "      <td>3.0</td>\n",
       "      <td>29.7</td>\n",
       "      <td>1</td>\n",
       "      <td>NaN</td>\n",
       "      <td>False</td>\n",
       "      <td>False</td>\n",
       "      <td>NaN</td>\n",
       "      <td>NaN</td>\n",
       "      <td>село Рождествено</td>\n",
       "      <td>NaN</td>\n",
       "      <td>NaN</td>\n",
       "      <td>NaN</td>\n",
       "      <td>NaN</td>\n",
       "      <td>NaN</td>\n",
       "      <td>NaN</td>\n",
       "      <td>NaN</td>\n",
       "    </tr>\n",
       "    <tr>\n",
       "      <th>23697</th>\n",
       "      <td>13</td>\n",
       "      <td>11475000.0</td>\n",
       "      <td>76.75</td>\n",
       "      <td>2017-03-28T00:00:00</td>\n",
       "      <td>2</td>\n",
       "      <td>3.0</td>\n",
       "      <td>17.0</td>\n",
       "      <td>NaN</td>\n",
       "      <td>12</td>\n",
       "      <td>NaN</td>\n",
       "      <td>False</td>\n",
       "      <td>False</td>\n",
       "      <td>23.30</td>\n",
       "      <td>2.0</td>\n",
       "      <td>Санкт-Петербург</td>\n",
       "      <td>39140.0</td>\n",
       "      <td>10364.0</td>\n",
       "      <td>2.0</td>\n",
       "      <td>173.0</td>\n",
       "      <td>3.0</td>\n",
       "      <td>196.0</td>\n",
       "      <td>602.0</td>\n",
       "    </tr>\n",
       "    <tr>\n",
       "      <th>23698</th>\n",
       "      <td>4</td>\n",
       "      <td>1350000.0</td>\n",
       "      <td>32.30</td>\n",
       "      <td>2017-07-21T00:00:00</td>\n",
       "      <td>1</td>\n",
       "      <td>2.5</td>\n",
       "      <td>5.0</td>\n",
       "      <td>12.3</td>\n",
       "      <td>1</td>\n",
       "      <td>NaN</td>\n",
       "      <td>False</td>\n",
       "      <td>False</td>\n",
       "      <td>9.00</td>\n",
       "      <td>NaN</td>\n",
       "      <td>поселок Новый Учхоз</td>\n",
       "      <td>NaN</td>\n",
       "      <td>NaN</td>\n",
       "      <td>NaN</td>\n",
       "      <td>NaN</td>\n",
       "      <td>NaN</td>\n",
       "      <td>NaN</td>\n",
       "      <td>NaN</td>\n",
       "    </tr>\n",
       "  </tbody>\n",
       "</table>\n",
       "</div>"
      ],
      "text/plain": [
       "       total_images  last_price  total_area first_day_exposition  rooms  \\\n",
       "23694             9   9700000.0      133.81  2017-03-21T00:00:00      3   \n",
       "23695            14   3100000.0       59.00  2018-01-15T00:00:00      3   \n",
       "23696            18   2500000.0       56.70  2018-02-11T00:00:00      2   \n",
       "23697            13  11475000.0       76.75  2017-03-28T00:00:00      2   \n",
       "23698             4   1350000.0       32.30  2017-07-21T00:00:00      1   \n",
       "\n",
       "       ceiling_height  floors_total  living_area  floor is_apartment  studio  \\\n",
       "23694             3.7           5.0         73.3      3          NaN   False   \n",
       "23695             NaN           5.0         38.0      4          NaN   False   \n",
       "23696             NaN           3.0         29.7      1          NaN   False   \n",
       "23697             3.0          17.0          NaN     12          NaN   False   \n",
       "23698             2.5           5.0         12.3      1          NaN   False   \n",
       "\n",
       "       open_plan  kitchen_area  balcony        locality_name  \\\n",
       "23694      False         13.83      NaN      Санкт-Петербург   \n",
       "23695      False          8.50      NaN                Тосно   \n",
       "23696      False           NaN      NaN     село Рождествено   \n",
       "23697      False         23.30      2.0      Санкт-Петербург   \n",
       "23698      False          9.00      NaN  поселок Новый Учхоз   \n",
       "\n",
       "       airports_nearest  cityCenters_nearest  parks_around3000  parks_nearest  \\\n",
       "23694           24665.0               4232.0               1.0          796.0   \n",
       "23695               NaN                  NaN               NaN            NaN   \n",
       "23696               NaN                  NaN               NaN            NaN   \n",
       "23697           39140.0              10364.0               2.0          173.0   \n",
       "23698               NaN                  NaN               NaN            NaN   \n",
       "\n",
       "       ponds_around3000  ponds_nearest  days_exposition  \n",
       "23694               3.0          381.0              NaN  \n",
       "23695               NaN            NaN             45.0  \n",
       "23696               NaN            NaN              NaN  \n",
       "23697               3.0          196.0            602.0  \n",
       "23698               NaN            NaN              NaN  "
      ]
     },
     "execution_count": 5,
     "metadata": {},
     "output_type": "execute_result"
    }
   ],
   "source": [
    "data.tail()"
   ]
  },
  {
   "cell_type": "code",
   "execution_count": 6,
   "metadata": {
    "tags": []
   },
   "outputs": [
    {
     "name": "stdout",
     "output_type": "stream",
     "text": [
      "<class 'pandas.core.frame.DataFrame'>\n",
      "RangeIndex: 23699 entries, 0 to 23698\n",
      "Data columns (total 22 columns):\n",
      " #   Column                Non-Null Count  Dtype  \n",
      "---  ------                --------------  -----  \n",
      " 0   total_images          23699 non-null  int64  \n",
      " 1   last_price            23699 non-null  float64\n",
      " 2   total_area            23699 non-null  float64\n",
      " 3   first_day_exposition  23699 non-null  object \n",
      " 4   rooms                 23699 non-null  int64  \n",
      " 5   ceiling_height        14504 non-null  float64\n",
      " 6   floors_total          23613 non-null  float64\n",
      " 7   living_area           21796 non-null  float64\n",
      " 8   floor                 23699 non-null  int64  \n",
      " 9   is_apartment          2775 non-null   object \n",
      " 10  studio                23699 non-null  bool   \n",
      " 11  open_plan             23699 non-null  bool   \n",
      " 12  kitchen_area          21421 non-null  float64\n",
      " 13  balcony               12180 non-null  float64\n",
      " 14  locality_name         23650 non-null  object \n",
      " 15  airports_nearest      18157 non-null  float64\n",
      " 16  cityCenters_nearest   18180 non-null  float64\n",
      " 17  parks_around3000      18181 non-null  float64\n",
      " 18  parks_nearest         8079 non-null   float64\n",
      " 19  ponds_around3000      18181 non-null  float64\n",
      " 20  ponds_nearest         9110 non-null   float64\n",
      " 21  days_exposition       20518 non-null  float64\n",
      "dtypes: bool(2), float64(14), int64(3), object(3)\n",
      "memory usage: 3.7+ MB\n"
     ]
    }
   ],
   "source": [
    "data.info()"
   ]
  },
  {
   "cell_type": "code",
   "execution_count": 7,
   "metadata": {
    "tags": []
   },
   "outputs": [
    {
     "data": {
      "text/plain": [
       "total_images                0\n",
       "last_price                  0\n",
       "total_area                  0\n",
       "first_day_exposition        0\n",
       "rooms                       0\n",
       "ceiling_height           9195\n",
       "floors_total               86\n",
       "living_area              1903\n",
       "floor                       0\n",
       "is_apartment            20924\n",
       "studio                      0\n",
       "open_plan                   0\n",
       "kitchen_area             2278\n",
       "balcony                 11519\n",
       "locality_name              49\n",
       "airports_nearest         5542\n",
       "cityCenters_nearest      5519\n",
       "parks_around3000         5518\n",
       "parks_nearest           15620\n",
       "ponds_around3000         5518\n",
       "ponds_nearest           14589\n",
       "days_exposition          3181\n",
       "dtype: int64"
      ]
     },
     "execution_count": 7,
     "metadata": {},
     "output_type": "execute_result"
    }
   ],
   "source": [
    "data.isna().sum()"
   ]
  },
  {
   "cell_type": "code",
   "execution_count": 8,
   "metadata": {
    "tags": []
   },
   "outputs": [
    {
     "data": {
      "image/png": "[encoded data removed]",
      "text/plain": [
       "<Figure size 1080x864 with 20 Axes>"
      ]
     },
     "metadata": {
      "needs_background": "light"
     },
     "output_type": "display_data"
    }
   ],
   "source": [
    "data.hist(figsize=(15, 12));"
   ]
  },
  {
   "cell_type": "markdown",
   "metadata": {},
   "source": [
    "#### краткие выводы:\n",
    "при первом изучении были обнаружены пропуски в следующих данных: \n",
    "- `ceiling_height     ` (высота потолков (м))                9195\n",
    "- `floors_total       ` (всего этажей в доме)                86\n",
    "- `living_area        ` (жилая площадь)                      1903\n",
    "- `is_apartment       ` (апартаменты)                        20924\n",
    "- `kitchen_area       ` (площадь кухни)                      2278\n",
    "- `balcony            ` (число балконов)                     11519\n",
    "- `locality_name      ` (название населённого пункта)        49\n",
    "- `airports_nearest   ` (расстояние до ближайшего аэропорта) 5542\n",
    "- `cityCenters_nearest` (расстояние до центра города)        5519\n",
    "- `parks_around3000   ` (число парков в радиусе 3 км)        5518\n",
    "- `parks_nearest      ` (расстояние до ближайшего парка)     15620\n",
    "- `ponds_around3000   ` (число водоёмов в радиусе 3 км)      5518\n",
    "- `ponds_nearest      ` (расстояние до ближайшего водоёма)   14589\n",
    "- `days_exposition    ` (дата публикации)                    3181\n",
    "\n",
    "\n",
    "<br>неверный типа данных имеют столбцы:\n",
    "<br> is_apartment тип object должен быть bool\n",
    "<br> airports_nearest, city_centers_nearest, parks_around3000, parks_nearest,ponds_around3000, ponds_nearest, days_exposition balcony, floors_total, last_price имеют тип данных float64 а посодержанию int64\n",
    "<br> судя по первичным гисторгаммам аномальные значения присутствуют в столбцах:\n",
    "<br> total_images, total_area, last_price, kitchen_area, rooms, ceiling_height, floors_total, living_area, kitchen_area, days_exposition\n",
    "     имя столбца 'cityCenters_nearest' не соответствует принятому виду"
   ]
  },
  {
   "cell_type": "markdown",
   "metadata": {},
   "source": [
    "### Предобработка данных"
   ]
  },
  {
   "cell_type": "markdown",
   "metadata": {},
   "source": [
    "#### рассмотрим данные по высоте потолков"
   ]
  },
  {
   "cell_type": "code",
   "execution_count": 9,
   "metadata": {
    "tags": []
   },
   "outputs": [
    {
     "data": {
      "text/plain": [
       "183"
      ]
     },
     "execution_count": 9,
     "metadata": {},
     "output_type": "execute_result"
    }
   ],
   "source": [
    "data['ceiling_height'].sort_values().nunique()"
   ]
  },
  {
   "cell_type": "markdown",
   "metadata": {},
   "source": [
    "в столбце с цказанием высоты потолка слишком разнородные данные, также присутствуют аномальные значения. больше 10 метров\n",
    "стандартная высота потолка для жилых помещений не может быть меньше 2,5 метров, а максимальная высота, обычно, находися в районе 3,5 метров\n",
    "по этому можно предположить, что аномальные значения в диапозоне от 25 до 35 обусловлены ошибкой ввода и их можно преобразовать в допустимые путем деления на 10."
   ]
  },
  {
   "cell_type": "markdown",
   "metadata": {},
   "source": [
    "значения больше 3,5 метров опустим до максимального значения,  меньше 2,5 поднимем до минимального. пропускам присвоим медиану\n",
    "в последствии разделим данные по категориям (высокие, средние)"
   ]
  },
  {
   "cell_type": "code",
   "execution_count": 10,
   "metadata": {
    "tags": []
   },
   "outputs": [
    {
     "data": {
      "text/plain": [
       "count    14504.000000\n",
       "mean         2.771499\n",
       "std          1.261056\n",
       "min          1.000000\n",
       "25%          2.520000\n",
       "50%          2.650000\n",
       "75%          2.800000\n",
       "max        100.000000\n",
       "Name: ceiling_height, dtype: float64"
      ]
     },
     "execution_count": 10,
     "metadata": {},
     "output_type": "execute_result"
    }
   ],
   "source": [
    "data['ceiling_height'].describe()"
   ]
  },
  {
   "cell_type": "code",
   "execution_count": 11,
   "metadata": {
    "tags": []
   },
   "outputs": [],
   "source": [
    "data.loc[(data['ceiling_height'] >= 25), 'ceiling_height'] = data['ceiling_height'] / 10"
   ]
  },
  {
   "cell_type": "code",
   "execution_count": 12,
   "metadata": {
    "tags": []
   },
   "outputs": [],
   "source": [
    "data.loc[(data['ceiling_height'] < 2.5) , 'ceiling_height'] = 2.5"
   ]
  },
  {
   "cell_type": "code",
   "execution_count": 13,
   "metadata": {
    "tags": []
   },
   "outputs": [],
   "source": [
    "data.loc[(data['ceiling_height'] >3.5), 'ceiling_height'] = 3.5"
   ]
  },
  {
   "cell_type": "code",
   "execution_count": 14,
   "metadata": {
    "tags": []
   },
   "outputs": [],
   "source": [
    "data.loc[(data['ceiling_height'].isna()), 'ceiling_height'] = data['ceiling_height'].median()"
   ]
  },
  {
   "cell_type": "markdown",
   "metadata": {},
   "source": [
    "в высоте потолков сантиметры роли играть не будут, по этому округлим значения до десятых"
   ]
  },
  {
   "cell_type": "code",
   "execution_count": 15,
   "metadata": {
    "tags": []
   },
   "outputs": [],
   "source": [
    "data['ceiling_height'] = round(data['ceiling_height'], 1)"
   ]
  },
  {
   "cell_type": "code",
   "execution_count": 16,
   "metadata": {
    "tags": []
   },
   "outputs": [
    {
     "data": {
      "image/png": "[encoded data removed]",
      "text/plain": [
       "<Figure size 432x288 with 1 Axes>"
      ]
     },
     "metadata": {
      "needs_background": "light"
     },
     "output_type": "display_data"
    }
   ],
   "source": [
    "data['ceiling_height'].plot(kind='box');"
   ]
  },
  {
   "cell_type": "code",
   "execution_count": 17,
   "metadata": {
    "tags": []
   },
   "outputs": [
    {
     "data": {
      "text/plain": [
       "count    23699.000000\n",
       "mean         2.676446\n",
       "std          0.202115\n",
       "min          2.500000\n",
       "25%          2.600000\n",
       "50%          2.600000\n",
       "75%          2.700000\n",
       "max          3.500000\n",
       "Name: ceiling_height, dtype: float64"
      ]
     },
     "execution_count": 17,
     "metadata": {},
     "output_type": "execute_result"
    }
   ],
   "source": [
    "data['ceiling_height'].describe()"
   ]
  },
  {
   "cell_type": "code",
   "execution_count": 18,
   "metadata": {
    "tags": []
   },
   "outputs": [
    {
     "name": "stdout",
     "output_type": "stream",
     "text": [
      "[2.5 2.6 2.7 2.8 2.9 3.  3.1 3.2 3.3 3.4 3.5]\n"
     ]
    }
   ],
   "source": [
    "print(data['ceiling_height'].sort_values().unique())"
   ]
  },
  {
   "cell_type": "markdown",
   "metadata": {},
   "source": [
    "значения приведены к нормальному виду. в дальнейшем они будут разбиты на 2 категории:\n",
    "- средняя высота потолка (< 2.7)\n",
    "- высокий потолок (> 2,7м)"
   ]
  },
  {
   "cell_type": "markdown",
   "metadata": {
    "tags": []
   },
   "source": [
    "#### рассмотрим данные указывающие на апартаменты"
   ]
  },
  {
   "cell_type": "code",
   "execution_count": 19,
   "metadata": {
    "tags": []
   },
   "outputs": [
    {
     "data": {
      "text/plain": [
       "count      2775\n",
       "unique        2\n",
       "top       False\n",
       "freq       2725\n",
       "Name: is_apartment, dtype: object"
      ]
     },
     "execution_count": 19,
     "metadata": {},
     "output_type": "execute_result"
    }
   ],
   "source": [
    "data['is_apartment'].describe()"
   ]
  },
  {
   "cell_type": "markdown",
   "metadata": {},
   "source": [
    "логично предположить, что могут быть или аппартаменты или нет. приведем данные к булевым значениям.\n",
    "также заменим пропуски значением False."
   ]
  },
  {
   "cell_type": "code",
   "execution_count": 20,
   "metadata": {
    "tags": []
   },
   "outputs": [],
   "source": [
    "data.loc[(data['is_apartment']!=True), 'is_apartment'] = False"
   ]
  },
  {
   "cell_type": "code",
   "execution_count": 21,
   "metadata": {
    "tags": []
   },
   "outputs": [],
   "source": [
    "data['is_apartment'] = data['is_apartment'].astype('bool')"
   ]
  },
  {
   "cell_type": "markdown",
   "metadata": {},
   "source": [
    "#### рассмотрим данные о балконах"
   ]
  },
  {
   "cell_type": "code",
   "execution_count": 22,
   "metadata": {
    "tags": []
   },
   "outputs": [
    {
     "data": {
      "text/plain": [
       "11519"
      ]
     },
     "execution_count": 22,
     "metadata": {},
     "output_type": "execute_result"
    }
   ],
   "source": [
    "data['balcony'].isna().sum()"
   ]
  },
  {
   "cell_type": "markdown",
   "metadata": {},
   "source": [
    "логично предположить, что если не указанно число балконов, значит их нет. прировняем пропущенные начения к 0. также приведем тип данных к целочисленным"
   ]
  },
  {
   "cell_type": "code",
   "execution_count": 23,
   "metadata": {
    "tags": []
   },
   "outputs": [],
   "source": [
    "data.loc[data['balcony'].isna(), 'balcony'] = 0"
   ]
  },
  {
   "cell_type": "code",
   "execution_count": 24,
   "metadata": {
    "tags": []
   },
   "outputs": [],
   "source": [
    "data['balcony'] = data['balcony'].astype(int)"
   ]
  },
  {
   "cell_type": "code",
   "execution_count": 25,
   "metadata": {
    "tags": []
   },
   "outputs": [
    {
     "data": {
      "text/plain": [
       "count    23699.000000\n",
       "mean         0.591080\n",
       "std          0.959298\n",
       "min          0.000000\n",
       "25%          0.000000\n",
       "50%          0.000000\n",
       "75%          1.000000\n",
       "max          5.000000\n",
       "Name: balcony, dtype: float64"
      ]
     },
     "execution_count": 25,
     "metadata": {},
     "output_type": "execute_result"
    }
   ],
   "source": [
    "data['balcony'].describe()"
   ]
  },
  {
   "cell_type": "code",
   "execution_count": 26,
   "metadata": {
    "tags": []
   },
   "outputs": [
    {
     "data": {
      "image/png": "[encoded data removed]",
      "text/plain": [
       "<Figure size 432x288 with 1 Axes>"
      ]
     },
     "metadata": {
      "needs_background": "light"
     },
     "output_type": "display_data"
    }
   ],
   "source": [
    "data['balcony'].plot(kind='box');"
   ]
  },
  {
   "cell_type": "markdown",
   "metadata": {},
   "source": [
    "от 3 до 5 балконов похоже на выбросы. удалить и изменить эти данные не получится, оставим как есть"
   ]
  },
  {
   "cell_type": "markdown",
   "metadata": {
    "tags": []
   },
   "source": [
    "#### рассмотрим данные о населенных пунктах"
   ]
  },
  {
   "cell_type": "code",
   "execution_count": 27,
   "metadata": {
    "tags": []
   },
   "outputs": [
    {
     "data": {
      "text/plain": [
       "49"
      ]
     },
     "execution_count": 27,
     "metadata": {},
     "output_type": "execute_result"
    }
   ],
   "source": [
    "len(data.loc[data['locality_name'].isna()])"
   ]
  },
  {
   "cell_type": "markdown",
   "metadata": {},
   "source": [
    "учитывая что объектов без местоположения всего 49 штук и они не смогут внести существенные изменения в расчеты - целесообразнее избавится от таких строк, что будет сделано в конце этапа, временно заполним заглушками"
   ]
  },
  {
   "cell_type": "markdown",
   "metadata": {},
   "source": [
    "Не могу их сейчас не заполнить, иначе будет поиск подстроки выпадать в ошибку. В конце этапа удалю все лишние данные. забыл это сделать при первой попытке"
   ]
  },
  {
   "cell_type": "code",
   "execution_count": 28,
   "metadata": {
    "tags": []
   },
   "outputs": [],
   "source": [
    "data['locality_name'].fillna('NaN', inplace=True)"
   ]
  },
  {
   "cell_type": "code",
   "execution_count": 29,
   "metadata": {
    "tags": []
   },
   "outputs": [
    {
     "data": {
      "text/plain": [
       "0"
      ]
     },
     "execution_count": 29,
     "metadata": {},
     "output_type": "execute_result"
    }
   ],
   "source": [
    "len(data.loc[data['locality_name'].isna()])"
   ]
  },
  {
   "cell_type": "markdown",
   "metadata": {},
   "source": [
    "проверим данные которые есть в столбце"
   ]
  },
  {
   "cell_type": "code",
   "execution_count": 30,
   "metadata": {
    "tags": []
   },
   "outputs": [
    {
     "data": {
      "text/plain": [
       "365"
      ]
     },
     "execution_count": 30,
     "metadata": {},
     "output_type": "execute_result"
    }
   ],
   "source": [
    "data['locality_name'].nunique()"
   ]
  },
  {
   "cell_type": "markdown",
   "metadata": {},
   "source": [
    "365 уникальных значения... выводить все смысла нет."
   ]
  },
  {
   "cell_type": "markdown",
   "metadata": {},
   "source": [
    "в данных встречается разное написание названия для одного населенного пункта. исправим эту ситуацию\n",
    "для этого напишем функцию и оставим только одно значение для каждой локации"
   ]
  },
  {
   "cell_type": "code",
   "execution_count": 31,
   "metadata": {
    "tags": []
   },
   "outputs": [],
   "source": [
    "data['locality_name'] = data['locality_name'].str.replace('ё', 'е', regex=True)"
   ]
  },
  {
   "cell_type": "code",
   "execution_count": 32,
   "metadata": {
    "tags": []
   },
   "outputs": [],
   "source": [
    "dicts=dict()\n",
    "items=[]\n",
    "for i in data['locality_name'].unique():\n",
    "    if 'типа' in i: \n",
    "        items[0] = i\n",
    "    else:\n",
    "        items = i.split()\n",
    "        for num in range(len(items)):\n",
    "            if items[num].istitle():\n",
    "                items[num] = ' '.join(items[num:])\n",
    "                items = items[: num + 1]\n",
    "                break\n",
    "    if not dicts.get(items[-1]):\n",
    "        dicts[items[-1]] = i\n",
    "\n",
    "        \n",
    "def edit_locality_name(name_sity: str):\n",
    "    if 'типа' in name_sity: \n",
    "        return name_sity\n",
    "    else:\n",
    "        name_sity = name_sity.split()\n",
    "        for num in range(len(name_sity)):\n",
    "            if name_sity[num].istitle():\n",
    "                name_sity[num] = ' '.join(name_sity[num:])\n",
    "                name_sity = name_sity[: num + 1]\n",
    "                break\n",
    "    return dicts[name_sity[-1]]"
   ]
  },
  {
   "cell_type": "code",
   "execution_count": 33,
   "metadata": {
    "tags": []
   },
   "outputs": [],
   "source": [
    "data['locality_name'] = data['locality_name'].apply(edit_locality_name)"
   ]
  },
  {
   "cell_type": "code",
   "execution_count": 34,
   "metadata": {
    "tags": []
   },
   "outputs": [
    {
     "data": {
      "text/plain": [
       "316"
      ]
     },
     "execution_count": 34,
     "metadata": {},
     "output_type": "execute_result"
    }
   ],
   "source": [
    "data['locality_name'].nunique()"
   ]
  },
  {
   "cell_type": "markdown",
   "metadata": {},
   "source": [
    "было изменено 48 повторяющихся значений из 364."
   ]
  },
  {
   "cell_type": "markdown",
   "metadata": {
    "tags": []
   },
   "source": [
    "#### посмотрим на данные в столбцах заполненных автоматически (данные о парках и водоемах, растояние до центра, аэропорта)"
   ]
  },
  {
   "cell_type": "markdown",
   "metadata": {},
   "source": [
    "в начале приведем имя столбца к принятому виду."
   ]
  },
  {
   "cell_type": "code",
   "execution_count": 35,
   "metadata": {
    "tags": []
   },
   "outputs": [],
   "source": [
    "data.rename(columns={'cityCenters_nearest': 'city_centers_nearest'}, inplace=True)"
   ]
  },
  {
   "cell_type": "code",
   "execution_count": 36,
   "metadata": {
    "tags": []
   },
   "outputs": [
    {
     "data": {
      "text/plain": [
       "'23.3%'"
      ]
     },
     "execution_count": 36,
     "metadata": {},
     "output_type": "execute_result"
    }
   ],
   "source": [
    "'{0:.1%}'.format(len(data[data['city_centers_nearest'].isna()])\n",
    " / len(data['city_centers_nearest']))"
   ]
  },
  {
   "cell_type": "markdown",
   "metadata": {},
   "source": [
    "отсутствующих данных 23,3% от общего числа записей, их удаление может существеннно повлиять на итоговое решение удалять их не имеет смысла."
   ]
  },
  {
   "cell_type": "code",
   "execution_count": 37,
   "metadata": {
    "tags": []
   },
   "outputs": [
    {
     "data": {
      "text/plain": [
       "count    18180.000000\n",
       "mean     14191.277833\n",
       "std       8608.386210\n",
       "min        181.000000\n",
       "25%       9238.000000\n",
       "50%      13098.500000\n",
       "75%      16293.000000\n",
       "max      65968.000000\n",
       "Name: city_centers_nearest, dtype: float64"
      ]
     },
     "execution_count": 37,
     "metadata": {},
     "output_type": "execute_result"
    }
   ],
   "source": [
    "data['city_centers_nearest'].describe()"
   ]
  },
  {
   "cell_type": "code",
   "execution_count": 38,
   "metadata": {
    "tags": []
   },
   "outputs": [],
   "source": [
    "def locality_nearest(col_name: str):\n",
    "    \n",
    "    for i in data['locality_name'].unique():\n",
    "        s=data.loc[data['locality_name'] == i, col_name]\n",
    "        \n",
    "        if max(s)>0:\n",
    "            cou = len(data.query(\n",
    "                    f'locality_name == @i and {col_name} > 0'))\n",
    "            print(\n",
    "                f'{i:<30} {int(min(s)):<9} {int(max(s)):<9} всего: {len(s):<6} c данными {cou:<6} пропущено {len(s) - cou}')"
   ]
  },
  {
   "cell_type": "code",
   "execution_count": 39,
   "metadata": {
    "tags": []
   },
   "outputs": [
    {
     "name": "stdout",
     "output_type": "stream",
     "text": [
      "Санкт-Петербург                181       29493     всего: 15721  c данными 15660  пропущено 61\n",
      "поселок Шушары                 17012     32079     всего: 440    c данными 436    пропущено 4\n",
      "поселок Парголово              17994     24415     всего: 327    c данными 327    пропущено 0\n",
      "Ломоносов                      36816     61495     всего: 133    c данными 132    пропущено 1\n",
      "Петергоф                       29815     49574     всего: 201    c данными 201    пропущено 0\n",
      "Пушкин                         24311     35610     всего: 369    c данными 368    пропущено 1\n",
      "Колпино                        29436     37477     всего: 338    c данными 337    пропущено 1\n",
      "Кронштадт                      46657     51511     всего: 96     c данными 95     пропущено 1\n",
      "поселок Металлострой           26696     29217     всего: 66     c данными 66     пропущено 0\n",
      "Павловск                       31533     36445     всего: 38     c данными 38     пропущено 0\n",
      "Сестрорецк                     31130     42971     всего: 183    c данными 183    пропущено 0\n",
      "Красное Село                   27317     41792     всего: 178    c данными 176    пропущено 2\n",
      "поселок Понтонный              30709     33853     всего: 20     c данными 20     пропущено 0\n",
      "Зеленогорск                    51115     62706     всего: 24     c данными 24     пропущено 0\n",
      "поселок Молодежное             64857     65968     всего: 5      c данными 5      пропущено 0\n",
      "поселок Стрельна               21813     24134     всего: 44     c данными 44     пропущено 0\n",
      "поселок Александровская        27352     27584     всего: 2      c данными 2      пропущено 0\n",
      "NaN                            1322      41294     всего: 49     c данными 41     пропущено 8\n",
      "поселок Песочный               25867     27835     всего: 4      c данными 4      пропущено 0\n",
      "поселок Петро-Славянка         27165     27165     всего: 1      c данными 1      пропущено 0\n",
      "поселок Репино                 42550     45226     всего: 4      c данными 4      пропущено 0\n",
      "поселок Саперный               35822     35892     всего: 6      c данными 6      пропущено 0\n",
      "поселок Лисий Нос              26368     28246     всего: 3      c данными 3      пропущено 0\n",
      "поселок Левашово               25727     25727     всего: 1      c данными 1      пропущено 0\n",
      "поселок Белоостров             38868     38868     всего: 1      c данными 1      пропущено 0\n",
      "поселок Усть-Ижора             28212     28233     всего: 2      c данными 2      пропущено 0\n"
     ]
    }
   ],
   "source": [
    "locality_nearest('city_centers_nearest')"
   ]
  },
  {
   "cell_type": "markdown",
   "metadata": {
    "tags": []
   },
   "source": [
    "в столбце данные растояний указаны в метрах до центра города Санкт-Петербург\n",
    "для заполнения пропущенных значений не достаточно информации в текущем наборе данных.\n",
    "в качестве заполнителя, для маленьких населенных пунктов можно было взять растояние от их центра до центра города Санкт-Петербург, однако таких данных нати не удалось.\n",
    "заполнять медианым значением по всем данным будет не корректно, так как они могут оказаться на значительном растоянии от фактического местонахождения обьекта недвижимости. \n",
    "также учиттывая, что по категориям пропущено малое число данных, они не повлияют на конечный результат их можно заменить заглушками"
   ]
  },
  {
   "cell_type": "markdown",
   "metadata": {},
   "source": [
    "аналогичным образом рассмотрим данные для столбцов: \n",
    "* parks_around3000 \n",
    "* parks_nearest    \n",
    "* ponds_around3000 \n",
    "* ponds_nearest\n",
    "* airports_nearest"
   ]
  },
  {
   "cell_type": "code",
   "execution_count": 40,
   "metadata": {
    "tags": []
   },
   "outputs": [
    {
     "data": {
      "text/plain": [
       "15620"
      ]
     },
     "execution_count": 40,
     "metadata": {},
     "output_type": "execute_result"
    }
   ],
   "source": [
    "data['parks_nearest'].isna().sum()"
   ]
  },
  {
   "cell_type": "code",
   "execution_count": 41,
   "metadata": {
    "tags": []
   },
   "outputs": [
    {
     "data": {
      "text/plain": [
       "count    8079.000000\n",
       "mean      490.804555\n",
       "std       342.317995\n",
       "min         1.000000\n",
       "25%       288.000000\n",
       "50%       455.000000\n",
       "75%       612.000000\n",
       "max      3190.000000\n",
       "Name: parks_nearest, dtype: float64"
      ]
     },
     "execution_count": 41,
     "metadata": {},
     "output_type": "execute_result"
    }
   ],
   "source": [
    "data['parks_nearest'].describe()"
   ]
  },
  {
   "cell_type": "code",
   "execution_count": 42,
   "metadata": {
    "tags": []
   },
   "outputs": [
    {
     "data": {
      "text/plain": [
       "5518"
      ]
     },
     "execution_count": 42,
     "metadata": {},
     "output_type": "execute_result"
    }
   ],
   "source": [
    "data['parks_around3000'].isna().sum()"
   ]
  },
  {
   "cell_type": "code",
   "execution_count": 43,
   "metadata": {
    "tags": []
   },
   "outputs": [
    {
     "data": {
      "text/plain": [
       "count    18181.000000\n",
       "mean         0.611408\n",
       "std          0.802074\n",
       "min          0.000000\n",
       "25%          0.000000\n",
       "50%          0.000000\n",
       "75%          1.000000\n",
       "max          3.000000\n",
       "Name: parks_around3000, dtype: float64"
      ]
     },
     "execution_count": 43,
     "metadata": {},
     "output_type": "execute_result"
    }
   ],
   "source": [
    "data['parks_around3000'].describe()"
   ]
  },
  {
   "cell_type": "code",
   "execution_count": 44,
   "metadata": {
    "tags": []
   },
   "outputs": [
    {
     "data": {
      "text/plain": [
       "15624"
      ]
     },
     "execution_count": 44,
     "metadata": {},
     "output_type": "execute_result"
    }
   ],
   "source": [
    "len(data[(data['parks_around3000'] == 0) | data['parks_around3000'].isna()])"
   ]
  },
  {
   "cell_type": "markdown",
   "metadata": {},
   "source": [
    "Учитывая, что данные в столбцах картографические и заполнять их вычисляемыми значениями некорректно.\n",
    "Удалить данные нельзя, тк обьем данных значительный.\n",
    "<br>Есть 2 варианта решения вопроса:\n",
    "<br>1 заполнить залушками;\n",
    "<br>2 оставить как есть. \n",
    "<br>Остановимся на втором варианте.\n",
    "<br>Изменим тип данных на Int64"
   ]
  },
  {
   "cell_type": "code",
   "execution_count": 45,
   "metadata": {
    "tags": []
   },
   "outputs": [],
   "source": [
    "for name in ['parks_nearest', 'parks_around3000']:\n",
    "    data[name] = np.floor(pd.to_numeric(data[name], errors='coerce')).astype('Int64')"
   ]
  },
  {
   "cell_type": "code",
   "execution_count": 46,
   "metadata": {
    "tags": []
   },
   "outputs": [
    {
     "data": {
      "text/plain": [
       "14589"
      ]
     },
     "execution_count": 46,
     "metadata": {},
     "output_type": "execute_result"
    }
   ],
   "source": [
    "data['ponds_nearest'].isna().sum()"
   ]
  },
  {
   "cell_type": "code",
   "execution_count": 47,
   "metadata": {
    "tags": []
   },
   "outputs": [
    {
     "data": {
      "text/plain": [
       "count    9110.000000\n",
       "mean      517.980900\n",
       "std       277.720643\n",
       "min        13.000000\n",
       "25%       294.000000\n",
       "50%       502.000000\n",
       "75%       729.000000\n",
       "max      1344.000000\n",
       "Name: ponds_nearest, dtype: float64"
      ]
     },
     "execution_count": 47,
     "metadata": {},
     "output_type": "execute_result"
    }
   ],
   "source": [
    "data['ponds_nearest'].describe()"
   ]
  },
  {
   "cell_type": "code",
   "execution_count": 48,
   "metadata": {
    "tags": []
   },
   "outputs": [
    {
     "data": {
      "text/plain": [
       "5518"
      ]
     },
     "execution_count": 48,
     "metadata": {},
     "output_type": "execute_result"
    }
   ],
   "source": [
    "data['ponds_around3000'].isna().sum()"
   ]
  },
  {
   "cell_type": "code",
   "execution_count": 49,
   "metadata": {
    "tags": []
   },
   "outputs": [
    {
     "data": {
      "text/plain": [
       "count    18181.000000\n",
       "mean         0.770255\n",
       "std          0.938346\n",
       "min          0.000000\n",
       "25%          0.000000\n",
       "50%          1.000000\n",
       "75%          1.000000\n",
       "max          3.000000\n",
       "Name: ponds_around3000, dtype: float64"
      ]
     },
     "execution_count": 49,
     "metadata": {},
     "output_type": "execute_result"
    }
   ],
   "source": [
    "data['ponds_around3000'].describe()"
   ]
  },
  {
   "cell_type": "code",
   "execution_count": 50,
   "metadata": {
    "tags": []
   },
   "outputs": [
    {
     "data": {
      "text/plain": [
       "14589"
      ]
     },
     "execution_count": 50,
     "metadata": {},
     "output_type": "execute_result"
    }
   ],
   "source": [
    "len(data[(data['ponds_around3000'] == 0) | data['ponds_around3000'].isna()])"
   ]
  },
  {
   "cell_type": "markdown",
   "metadata": {},
   "source": [
    "Учитывая, что данные в столбцах картографические и заполнять их вычисляемыми значениями некорректно.\n",
    "Удалить данные нельзя, тк обьем данных значительный.\n",
    "<br>Есть 2 варианта решения вопроса:\n",
    "<br>1 заполнить залушками;\n",
    "<br>2 оставить как есть. \n",
    "<br>Остановимся на втором варианте.\n",
    "<br>Изменим тип данных на Int64"
   ]
  },
  {
   "cell_type": "code",
   "execution_count": 51,
   "metadata": {
    "tags": []
   },
   "outputs": [],
   "source": [
    "for name in ['ponds_nearest', 'ponds_around3000']:\n",
    "    data[name] = np.floor(pd.to_numeric(data[name], errors='coerce')).astype('Int64')"
   ]
  },
  {
   "cell_type": "markdown",
   "metadata": {},
   "source": [
    "посмотрим на строки с растоянием до аэропорта"
   ]
  },
  {
   "cell_type": "code",
   "execution_count": 52,
   "metadata": {
    "tags": []
   },
   "outputs": [
    {
     "name": "stdout",
     "output_type": "stream",
     "text": [
      "Санкт-Петербург                0         54784     всего: 15721  c данными 15635  пропущено 86\n",
      "поселок Шушары                 9294      26293     всего: 440    c данными 436    пропущено 4\n",
      "поселок Парголово              44346     61748     всего: 327    c данными 327    пропущено 0\n",
      "Ломоносов                      46502     56896     всего: 133    c данными 132    пропущено 1\n",
      "Петергоф                       34626     46535     всего: 201    c данными 201    пропущено 0\n",
      "Пушкин                         12157     21055     всего: 369    c данными 369    пропущено 0\n",
      "Колпино                        23649     31691     всего: 338    c данными 337    пропущено 1\n",
      "Кронштадт                      64931     69785     всего: 96     c данными 95     пропущено 1\n",
      "поселок Металлострой           24629     26729     всего: 66     c данными 66     пропущено 0\n",
      "Павловск                       19380     24291     всего: 38     c данными 38     пропущено 0\n",
      "Сестрорецк                     50031     61872     всего: 183    c данными 183    пропущено 0\n",
      "Красное Село                   23892     38367     всего: 178    c данными 176    пропущено 2\n",
      "поселок Понтонный              28997     32141     всего: 20     c данными 20     пропущено 0\n",
      "Зеленогорск                    70016     81607     всего: 24     c данными 24     пропущено 0\n",
      "поселок Молодежное             83758     84869     всего: 5      c данными 5      пропущено 0\n",
      "поселок Стрельна               26770     28945     всего: 44     c данными 44     пропущено 0\n",
      "поселок Александровская        12781     13012     всего: 2      c данными 2      пропущено 0\n",
      "NaN                            10556     60195     всего: 49     c данными 41     пропущено 8\n",
      "поселок Песочный               52504     56095     всего: 4      c данными 4      пропущено 0\n",
      "поселок Петро-Славянка         20605     20605     всего: 1      c данными 1      пропущено 0\n",
      "поселок Репино                 61451     64127     всего: 4      c данными 4      пропущено 0\n",
      "поселок Саперный               34110     34180     всего: 6      c данными 6      пропущено 0\n",
      "поселок Лисий Нос              54068     55930     всего: 3      c данными 3      пропущено 0\n",
      "поселок Левашово               52693     52693     всего: 1      c данными 1      пропущено 0\n",
      "поселок Белоостров             57769     57769     всего: 1      c данными 1      пропущено 0\n",
      "поселок Усть-Ижора             26500     26521     всего: 2      c данными 2      пропущено 0\n"
     ]
    }
   ],
   "source": [
    "locality_nearest('airports_nearest')"
   ]
  },
  {
   "cell_type": "markdown",
   "metadata": {},
   "source": [
    "так как отсутствуют дополнительные данные для обогащения и столбцы по локализации заполнены автоматически - пустые значения заменить данными, которые будут участвовать в расчетах нежелательно, заполним заглушками"
   ]
  },
  {
   "cell_type": "markdown",
   "metadata": {},
   "source": [
    "Вопрос: \n",
    "* корректно ли будет заполнять отсутствующие значение для аэропорта и центра средним, между максимальным и минимальным значением, по группам основанным на названиях населенных пунктов или медианой?\n",
    "* для Питера и больших городов это не получится, а для мелких населенных пунктов?"
   ]
  },
  {
   "cell_type": "markdown",
   "metadata": {},
   "source": [
    "приведем данные с локализацией к целочисленному типу и заменим пропущенные значения заглушками  "
   ]
  },
  {
   "cell_type": "code",
   "execution_count": 53,
   "metadata": {
    "tags": []
   },
   "outputs": [],
   "source": [
    "for name in ['city_centers_nearest', 'airports_nearest']:\n",
    "    data[name] = np.floor(pd.to_numeric(data[name], errors='coerce')).astype('Int64')\n"
   ]
  },
  {
   "cell_type": "markdown",
   "metadata": {
    "tags": []
   },
   "source": [
    "#### рассмотрим данные о этажности здания"
   ]
  },
  {
   "cell_type": "code",
   "execution_count": 54,
   "metadata": {
    "tags": []
   },
   "outputs": [
    {
     "data": {
      "text/html": [
       "<div>\n",
       "<style scoped>\n",
       "    .dataframe tbody tr th:only-of-type {\n",
       "        vertical-align: middle;\n",
       "    }\n",
       "\n",
       "    .dataframe tbody tr th {\n",
       "        vertical-align: top;\n",
       "    }\n",
       "\n",
       "    .dataframe thead th {\n",
       "        text-align: right;\n",
       "    }\n",
       "</style>\n",
       "<table border=\"1\" class=\"dataframe\">\n",
       "  <thead>\n",
       "    <tr style=\"text-align: right;\">\n",
       "      <th></th>\n",
       "      <th>total_images</th>\n",
       "      <th>last_price</th>\n",
       "      <th>total_area</th>\n",
       "      <th>first_day_exposition</th>\n",
       "      <th>rooms</th>\n",
       "      <th>ceiling_height</th>\n",
       "      <th>floors_total</th>\n",
       "      <th>living_area</th>\n",
       "      <th>floor</th>\n",
       "      <th>is_apartment</th>\n",
       "      <th>studio</th>\n",
       "      <th>open_plan</th>\n",
       "      <th>kitchen_area</th>\n",
       "      <th>balcony</th>\n",
       "      <th>locality_name</th>\n",
       "      <th>airports_nearest</th>\n",
       "      <th>city_centers_nearest</th>\n",
       "      <th>parks_around3000</th>\n",
       "      <th>parks_nearest</th>\n",
       "      <th>ponds_around3000</th>\n",
       "      <th>ponds_nearest</th>\n",
       "      <th>days_exposition</th>\n",
       "    </tr>\n",
       "  </thead>\n",
       "  <tbody>\n",
       "    <tr>\n",
       "      <th>186</th>\n",
       "      <td>12</td>\n",
       "      <td>11640000.0</td>\n",
       "      <td>65.2</td>\n",
       "      <td>2018-10-02T00:00:00</td>\n",
       "      <td>2</td>\n",
       "      <td>2.6</td>\n",
       "      <td>NaN</td>\n",
       "      <td>30.80</td>\n",
       "      <td>4</td>\n",
       "      <td>False</td>\n",
       "      <td>False</td>\n",
       "      <td>False</td>\n",
       "      <td>12.00</td>\n",
       "      <td>0</td>\n",
       "      <td>Санкт-Петербург</td>\n",
       "      <td>39197</td>\n",
       "      <td>12373</td>\n",
       "      <td>1</td>\n",
       "      <td>123</td>\n",
       "      <td>0</td>\n",
       "      <td>&lt;NA&gt;</td>\n",
       "      <td>49.0</td>\n",
       "    </tr>\n",
       "    <tr>\n",
       "      <th>237</th>\n",
       "      <td>4</td>\n",
       "      <td>2438033.0</td>\n",
       "      <td>28.1</td>\n",
       "      <td>2016-11-23T00:00:00</td>\n",
       "      <td>1</td>\n",
       "      <td>2.6</td>\n",
       "      <td>NaN</td>\n",
       "      <td>20.75</td>\n",
       "      <td>1</td>\n",
       "      <td>False</td>\n",
       "      <td>False</td>\n",
       "      <td>False</td>\n",
       "      <td>NaN</td>\n",
       "      <td>0</td>\n",
       "      <td>Санкт-Петербург</td>\n",
       "      <td>22041</td>\n",
       "      <td>17369</td>\n",
       "      <td>0</td>\n",
       "      <td>&lt;NA&gt;</td>\n",
       "      <td>1</td>\n",
       "      <td>374</td>\n",
       "      <td>251.0</td>\n",
       "    </tr>\n",
       "    <tr>\n",
       "      <th>457</th>\n",
       "      <td>4</td>\n",
       "      <td>9788348.0</td>\n",
       "      <td>70.8</td>\n",
       "      <td>2015-08-01T00:00:00</td>\n",
       "      <td>2</td>\n",
       "      <td>2.6</td>\n",
       "      <td>NaN</td>\n",
       "      <td>38.40</td>\n",
       "      <td>12</td>\n",
       "      <td>False</td>\n",
       "      <td>False</td>\n",
       "      <td>False</td>\n",
       "      <td>10.63</td>\n",
       "      <td>0</td>\n",
       "      <td>Санкт-Петербург</td>\n",
       "      <td>37364</td>\n",
       "      <td>8322</td>\n",
       "      <td>2</td>\n",
       "      <td>309</td>\n",
       "      <td>2</td>\n",
       "      <td>706</td>\n",
       "      <td>727.0</td>\n",
       "    </tr>\n",
       "    <tr>\n",
       "      <th>671</th>\n",
       "      <td>4</td>\n",
       "      <td>6051191.0</td>\n",
       "      <td>93.6</td>\n",
       "      <td>2017-04-06T00:00:00</td>\n",
       "      <td>3</td>\n",
       "      <td>2.6</td>\n",
       "      <td>NaN</td>\n",
       "      <td>47.10</td>\n",
       "      <td>8</td>\n",
       "      <td>False</td>\n",
       "      <td>False</td>\n",
       "      <td>False</td>\n",
       "      <td>16.80</td>\n",
       "      <td>0</td>\n",
       "      <td>Санкт-Петербург</td>\n",
       "      <td>22041</td>\n",
       "      <td>17369</td>\n",
       "      <td>0</td>\n",
       "      <td>&lt;NA&gt;</td>\n",
       "      <td>1</td>\n",
       "      <td>374</td>\n",
       "      <td>123.0</td>\n",
       "    </tr>\n",
       "    <tr>\n",
       "      <th>1757</th>\n",
       "      <td>5</td>\n",
       "      <td>3600000.0</td>\n",
       "      <td>39.0</td>\n",
       "      <td>2017-04-22T00:00:00</td>\n",
       "      <td>1</td>\n",
       "      <td>2.6</td>\n",
       "      <td>NaN</td>\n",
       "      <td>NaN</td>\n",
       "      <td>9</td>\n",
       "      <td>False</td>\n",
       "      <td>False</td>\n",
       "      <td>False</td>\n",
       "      <td>NaN</td>\n",
       "      <td>0</td>\n",
       "      <td>Санкт-Петербург</td>\n",
       "      <td>22735</td>\n",
       "      <td>11618</td>\n",
       "      <td>1</td>\n",
       "      <td>835</td>\n",
       "      <td>1</td>\n",
       "      <td>652</td>\n",
       "      <td>77.0</td>\n",
       "    </tr>\n",
       "  </tbody>\n",
       "</table>\n",
       "</div>"
      ],
      "text/plain": [
       "      total_images  last_price  total_area first_day_exposition  rooms  \\\n",
       "186             12  11640000.0        65.2  2018-10-02T00:00:00      2   \n",
       "237              4   2438033.0        28.1  2016-11-23T00:00:00      1   \n",
       "457              4   9788348.0        70.8  2015-08-01T00:00:00      2   \n",
       "671              4   6051191.0        93.6  2017-04-06T00:00:00      3   \n",
       "1757             5   3600000.0        39.0  2017-04-22T00:00:00      1   \n",
       "\n",
       "      ceiling_height  floors_total  living_area  floor  is_apartment  studio  \\\n",
       "186              2.6           NaN        30.80      4         False   False   \n",
       "237              2.6           NaN        20.75      1         False   False   \n",
       "457              2.6           NaN        38.40     12         False   False   \n",
       "671              2.6           NaN        47.10      8         False   False   \n",
       "1757             2.6           NaN          NaN      9         False   False   \n",
       "\n",
       "      open_plan  kitchen_area  balcony    locality_name  airports_nearest  \\\n",
       "186       False         12.00        0  Санкт-Петербург             39197   \n",
       "237       False           NaN        0  Санкт-Петербург             22041   \n",
       "457       False         10.63        0  Санкт-Петербург             37364   \n",
       "671       False         16.80        0  Санкт-Петербург             22041   \n",
       "1757      False           NaN        0  Санкт-Петербург             22735   \n",
       "\n",
       "      city_centers_nearest  parks_around3000  parks_nearest  ponds_around3000  \\\n",
       "186                  12373                 1            123                 0   \n",
       "237                  17369                 0           <NA>                 1   \n",
       "457                   8322                 2            309                 2   \n",
       "671                  17369                 0           <NA>                 1   \n",
       "1757                 11618                 1            835                 1   \n",
       "\n",
       "      ponds_nearest  days_exposition  \n",
       "186            <NA>             49.0  \n",
       "237             374            251.0  \n",
       "457             706            727.0  \n",
       "671             374            123.0  \n",
       "1757            652             77.0  "
      ]
     },
     "execution_count": 54,
     "metadata": {},
     "output_type": "execute_result"
    }
   ],
   "source": [
    "data[data['floors_total'].isna()].head()"
   ]
  },
  {
   "cell_type": "code",
   "execution_count": 55,
   "metadata": {
    "tags": []
   },
   "outputs": [
    {
     "data": {
      "text/html": [
       "<div>\n",
       "<style scoped>\n",
       "    .dataframe tbody tr th:only-of-type {\n",
       "        vertical-align: middle;\n",
       "    }\n",
       "\n",
       "    .dataframe tbody tr th {\n",
       "        vertical-align: top;\n",
       "    }\n",
       "\n",
       "    .dataframe thead th {\n",
       "        text-align: right;\n",
       "    }\n",
       "</style>\n",
       "<table border=\"1\" class=\"dataframe\">\n",
       "  <thead>\n",
       "    <tr style=\"text-align: right;\">\n",
       "      <th></th>\n",
       "      <th></th>\n",
       "      <th>airports_nearest</th>\n",
       "      <th>city_centers_nearest</th>\n",
       "      <th>floor</th>\n",
       "    </tr>\n",
       "    <tr>\n",
       "      <th></th>\n",
       "      <th>locality_name</th>\n",
       "      <th></th>\n",
       "      <th></th>\n",
       "      <th></th>\n",
       "    </tr>\n",
       "  </thead>\n",
       "  <tbody>\n",
       "    <tr>\n",
       "      <th>186</th>\n",
       "      <th>Санкт-Петербург</th>\n",
       "      <td>39197</td>\n",
       "      <td>12373</td>\n",
       "      <td>4</td>\n",
       "    </tr>\n",
       "    <tr>\n",
       "      <th>237</th>\n",
       "      <th>Санкт-Петербург</th>\n",
       "      <td>22041</td>\n",
       "      <td>17369</td>\n",
       "      <td>1</td>\n",
       "    </tr>\n",
       "    <tr>\n",
       "      <th>457</th>\n",
       "      <th>Санкт-Петербург</th>\n",
       "      <td>37364</td>\n",
       "      <td>8322</td>\n",
       "      <td>12</td>\n",
       "    </tr>\n",
       "    <tr>\n",
       "      <th>671</th>\n",
       "      <th>Санкт-Петербург</th>\n",
       "      <td>22041</td>\n",
       "      <td>17369</td>\n",
       "      <td>8</td>\n",
       "    </tr>\n",
       "    <tr>\n",
       "      <th>1757</th>\n",
       "      <th>Санкт-Петербург</th>\n",
       "      <td>22735</td>\n",
       "      <td>11618</td>\n",
       "      <td>9</td>\n",
       "    </tr>\n",
       "    <tr>\n",
       "      <th>...</th>\n",
       "      <th>...</th>\n",
       "      <td>...</td>\n",
       "      <td>...</td>\n",
       "      <td>...</td>\n",
       "    </tr>\n",
       "    <tr>\n",
       "      <th>22542</th>\n",
       "      <th>Санкт-Петербург</th>\n",
       "      <td>51340</td>\n",
       "      <td>15363</td>\n",
       "      <td>3</td>\n",
       "    </tr>\n",
       "    <tr>\n",
       "      <th>22656</th>\n",
       "      <th>Санкт-Петербург</th>\n",
       "      <td>22041</td>\n",
       "      <td>17369</td>\n",
       "      <td>20</td>\n",
       "    </tr>\n",
       "    <tr>\n",
       "      <th>22808</th>\n",
       "      <th>Санкт-Петербург</th>\n",
       "      <td>19095</td>\n",
       "      <td>4529</td>\n",
       "      <td>6</td>\n",
       "    </tr>\n",
       "    <tr>\n",
       "      <th>23590</th>\n",
       "      <th>Санкт-Петербург</th>\n",
       "      <td>19095</td>\n",
       "      <td>4529</td>\n",
       "      <td>18</td>\n",
       "    </tr>\n",
       "    <tr>\n",
       "      <th>23658</th>\n",
       "      <th>Санкт-Петербург</th>\n",
       "      <td>8426</td>\n",
       "      <td>12082</td>\n",
       "      <td>8</td>\n",
       "    </tr>\n",
       "  </tbody>\n",
       "</table>\n",
       "<p>86 rows × 3 columns</p>\n",
       "</div>"
      ],
      "text/plain": [
       "                       airports_nearest  city_centers_nearest  floor\n",
       "      locality_name                                                 \n",
       "186   Санкт-Петербург             39197                 12373      4\n",
       "237   Санкт-Петербург             22041                 17369      1\n",
       "457   Санкт-Петербург             37364                  8322     12\n",
       "671   Санкт-Петербург             22041                 17369      8\n",
       "1757  Санкт-Петербург             22735                 11618      9\n",
       "...                                 ...                   ...    ...\n",
       "22542 Санкт-Петербург             51340                 15363      3\n",
       "22656 Санкт-Петербург             22041                 17369     20\n",
       "22808 Санкт-Петербург             19095                  4529      6\n",
       "23590 Санкт-Петербург             19095                  4529     18\n",
       "23658 Санкт-Петербург              8426                 12082      8\n",
       "\n",
       "[86 rows x 3 columns]"
      ]
     },
     "execution_count": 55,
     "metadata": {},
     "output_type": "execute_result"
    }
   ],
   "source": [
    "data[data['floors_total'].isna()].pivot_table(\n",
    "    index=[\n",
    "        data[data['floors_total'].isna()].index,'locality_name'],\n",
    "    values=['floor', 'city_centers_nearest', 'airports_nearest'],\n",
    "    aggfunc=('min'))"
   ]
  },
  {
   "cell_type": "markdown",
   "metadata": {
    "tags": []
   },
   "source": [
    "как видно из таблицы имеются разнородные данные по пропущенным значеням этажности зданий. сказать с уверенностью, что это последний этаж или в скольки этажном здании  находится квартира нельзя, но можно поискать по двум точкам местоположения (удаленность от центра, растояние от аэропорта) так как они находятся в разных местах, при этом сравнить этажность здания. однако учитывая, что пропущенных данных менее 1% их можно удалить."
   ]
  },
  {
   "cell_type": "code",
   "execution_count": 56,
   "metadata": {
    "tags": []
   },
   "outputs": [
    {
     "data": {
      "text/plain": [
       "count    23613.000000\n",
       "mean        10.673824\n",
       "std          6.597173\n",
       "min          1.000000\n",
       "25%          5.000000\n",
       "50%          9.000000\n",
       "75%         16.000000\n",
       "max         60.000000\n",
       "Name: floors_total, dtype: float64"
      ]
     },
     "execution_count": 56,
     "metadata": {},
     "output_type": "execute_result"
    }
   ],
   "source": [
    "data['floors_total'].describe()"
   ]
  },
  {
   "cell_type": "code",
   "execution_count": 57,
   "metadata": {
    "tags": []
   },
   "outputs": [
    {
     "data": {
      "text/plain": [
       "<AxesSubplot:>"
      ]
     },
     "execution_count": 57,
     "metadata": {},
     "output_type": "execute_result"
    },
    {
     "data": {
      "image/png": "[encoded data removed]",
      "text/plain": [
       "<Figure size 432x288 with 1 Axes>"
      ]
     },
     "metadata": {
      "needs_background": "light"
     },
     "output_type": "display_data"
    }
   ],
   "source": [
    "data['floors_total'].plot(kind='box', grid=True)"
   ]
  },
  {
   "cell_type": "markdown",
   "metadata": {
    "tags": []
   },
   "source": [
    "на графике присутствуют выбросы в районе 50-60 этажей и 30-40. максимальная высота зданий в Санкт-Петербурге и Ленинградской области 37 этажей. в всязи с чем два значения выбивающиеся из даных (больше 50) можно отбросить, но пока закроем заглушками"
   ]
  },
  {
   "cell_type": "code",
   "execution_count": 58,
   "metadata": {
    "tags": []
   },
   "outputs": [],
   "source": [
    "data[data['floors_total'] > 50] = -1"
   ]
  },
  {
   "cell_type": "markdown",
   "metadata": {
    "tags": []
   },
   "source": [
    "избавимся от пропусков и поменяем тип данных на int"
   ]
  },
  {
   "cell_type": "code",
   "execution_count": 59,
   "metadata": {
    "tags": []
   },
   "outputs": [],
   "source": [
    "data = data[~data['floors_total'].isna()]"
   ]
  },
  {
   "cell_type": "code",
   "execution_count": 60,
   "metadata": {
    "tags": []
   },
   "outputs": [],
   "source": [
    "data['floors_total'] = data['floors_total'].astype(int)"
   ]
  },
  {
   "cell_type": "code",
   "execution_count": 61,
   "metadata": {
    "tags": []
   },
   "outputs": [
    {
     "data": {
      "text/plain": [
       "array([-1,  1,  2,  3,  4,  5,  6,  7,  8,  9, 10, 11, 12, 13, 14, 15, 16,\n",
       "       17, 18, 19, 20, 21, 22, 23, 24, 25, 26, 27, 28, 29, 33, 34, 35, 36,\n",
       "       37])"
      ]
     },
     "execution_count": 61,
     "metadata": {},
     "output_type": "execute_result"
    }
   ],
   "source": [
    "data['floors_total'].sort_values().unique()"
   ]
  },
  {
   "cell_type": "code",
   "execution_count": 62,
   "metadata": {
    "tags": []
   },
   "outputs": [
    {
     "data": {
      "text/plain": [
       "<AxesSubplot:>"
      ]
     },
     "execution_count": 62,
     "metadata": {},
     "output_type": "execute_result"
    },
    {
     "data": {
      "image/png": "[encoded data removed]",
      "text/plain": [
       "<Figure size 432x288 with 1 Axes>"
      ]
     },
     "metadata": {
      "needs_background": "light"
     },
     "output_type": "display_data"
    }
   ],
   "source": [
    "data['floors_total'].plot(kind='box', grid=True)"
   ]
  },
  {
   "cell_type": "markdown",
   "metadata": {
    "tags": []
   },
   "source": [
    " значительных выбросов нет. данные укладываются в этажность застройки. осталось изменить тип данных на целочисленный"
   ]
  },
  {
   "cell_type": "code",
   "execution_count": 63,
   "metadata": {
    "tags": []
   },
   "outputs": [],
   "source": [
    "data['floors_total'] = data['floors_total'].astype(int)"
   ]
  },
  {
   "cell_type": "markdown",
   "metadata": {},
   "source": [
    "#### рассмотрим данные по этажам, на которых находится объект недвижимости"
   ]
  },
  {
   "cell_type": "code",
   "execution_count": 64,
   "metadata": {
    "tags": []
   },
   "outputs": [
    {
     "data": {
      "text/plain": [
       "array([-1,  1,  2,  3,  4,  5,  6,  7,  8,  9, 10, 11, 12, 13, 14, 15, 16,\n",
       "       17, 18, 19, 20, 21, 22, 23, 24, 25, 26, 27, 28, 29, 30, 31, 32, 33])"
      ]
     },
     "execution_count": 64,
     "metadata": {},
     "output_type": "execute_result"
    }
   ],
   "source": [
    "data['floor'].sort_values().unique()"
   ]
  },
  {
   "cell_type": "code",
   "execution_count": 65,
   "metadata": {
    "tags": []
   },
   "outputs": [
    {
     "data": {
      "text/plain": [
       "count    23613.000000\n",
       "mean         5.876297\n",
       "std          4.873296\n",
       "min         -1.000000\n",
       "25%          2.000000\n",
       "50%          4.000000\n",
       "75%          8.000000\n",
       "max         33.000000\n",
       "Name: floor, dtype: float64"
      ]
     },
     "execution_count": 65,
     "metadata": {},
     "output_type": "execute_result"
    }
   ],
   "source": [
    "data['floor'].describe()"
   ]
  },
  {
   "cell_type": "code",
   "execution_count": 66,
   "metadata": {
    "tags": []
   },
   "outputs": [
    {
     "data": {
      "text/plain": [
       "<AxesSubplot:>"
      ]
     },
     "execution_count": 66,
     "metadata": {},
     "output_type": "execute_result"
    },
    {
     "data": {
      "image/png": "[encoded data removed]",
      "text/plain": [
       "<Figure size 432x288 with 1 Axes>"
      ]
     },
     "metadata": {
      "needs_background": "light"
     },
     "output_type": "display_data"
    }
   ],
   "source": [
    "data['floor'].plot(kind='box', grid=True)"
   ]
  },
  {
   "cell_type": "markdown",
   "metadata": {},
   "source": [
    "тут все хорошо, данные вкладываются малоэтажность застройки Санкт-Петербурга, так как основная доля данных распределена по городу."
   ]
  },
  {
   "cell_type": "markdown",
   "metadata": {},
   "source": [
    " есть значение с отрицательным этажом, нужно избавится от этих данных, но пока оставим как есть"
   ]
  },
  {
   "cell_type": "markdown",
   "metadata": {},
   "source": [
    "меняем тип данных"
   ]
  },
  {
   "cell_type": "code",
   "execution_count": 67,
   "metadata": {
    "tags": []
   },
   "outputs": [],
   "source": [
    "data['floor'] = data['floor'].astype(int)"
   ]
  },
  {
   "cell_type": "markdown",
   "metadata": {},
   "source": [
    "#### рассмотрим данные по числу фотографий"
   ]
  },
  {
   "cell_type": "code",
   "execution_count": 68,
   "metadata": {
    "tags": []
   },
   "outputs": [
    {
     "data": {
      "text/plain": [
       "count    23613.000000\n",
       "mean         9.873544\n",
       "std          5.682403\n",
       "min         -1.000000\n",
       "25%          6.000000\n",
       "50%          9.000000\n",
       "75%         14.000000\n",
       "max         50.000000\n",
       "Name: total_images, dtype: float64"
      ]
     },
     "execution_count": 68,
     "metadata": {},
     "output_type": "execute_result"
    }
   ],
   "source": [
    "data['total_images'].describe()"
   ]
  },
  {
   "cell_type": "code",
   "execution_count": 69,
   "metadata": {
    "tags": []
   },
   "outputs": [
    {
     "data": {
      "text/plain": [
       "<AxesSubplot:>"
      ]
     },
     "execution_count": 69,
     "metadata": {},
     "output_type": "execute_result"
    },
    {
     "data": {
      "image/png": "[encoded data removed]",
      "text/plain": [
       "<Figure size 432x288 with 1 Axes>"
      ]
     },
     "metadata": {
      "needs_background": "light"
     },
     "output_type": "display_data"
    }
   ],
   "source": [
    "data['total_images'].plot(kind='box', grid=True)"
   ]
  },
  {
   "cell_type": "code",
   "execution_count": 70,
   "metadata": {
    "tags": []
   },
   "outputs": [
    {
     "data": {
      "text/plain": [
       "31"
      ]
     },
     "execution_count": 70,
     "metadata": {},
     "output_type": "execute_result"
    }
   ],
   "source": [
    "sum(data['total_images'] >= 25)"
   ]
  },
  {
   "cell_type": "markdown",
   "metadata": {},
   "source": [
    "есть странные данные с отрицательным числом фотографий. кто-то уже редактировал набор, ошибка при выгрузке или остаток тестовых данных?"
   ]
  },
  {
   "cell_type": "markdown",
   "metadata": {},
   "source": [
    "также есть выбросы в диапозоне от 25 фотографий и больше. удалим данные в конце этапа"
   ]
  },
  {
   "cell_type": "code",
   "execution_count": 71,
   "metadata": {
    "tags": []
   },
   "outputs": [
    {
     "data": {
      "text/html": [
       "<div>\n",
       "<style scoped>\n",
       "    .dataframe tbody tr th:only-of-type {\n",
       "        vertical-align: middle;\n",
       "    }\n",
       "\n",
       "    .dataframe tbody tr th {\n",
       "        vertical-align: top;\n",
       "    }\n",
       "\n",
       "    .dataframe thead th {\n",
       "        text-align: right;\n",
       "    }\n",
       "</style>\n",
       "<table border=\"1\" class=\"dataframe\">\n",
       "  <thead>\n",
       "    <tr style=\"text-align: right;\">\n",
       "      <th></th>\n",
       "      <th>total_images</th>\n",
       "      <th>last_price</th>\n",
       "      <th>total_area</th>\n",
       "      <th>first_day_exposition</th>\n",
       "      <th>rooms</th>\n",
       "      <th>ceiling_height</th>\n",
       "      <th>floors_total</th>\n",
       "      <th>living_area</th>\n",
       "      <th>floor</th>\n",
       "      <th>is_apartment</th>\n",
       "      <th>studio</th>\n",
       "      <th>open_plan</th>\n",
       "      <th>kitchen_area</th>\n",
       "      <th>balcony</th>\n",
       "      <th>locality_name</th>\n",
       "      <th>airports_nearest</th>\n",
       "      <th>city_centers_nearest</th>\n",
       "      <th>parks_around3000</th>\n",
       "      <th>parks_nearest</th>\n",
       "      <th>ponds_around3000</th>\n",
       "      <th>ponds_nearest</th>\n",
       "      <th>days_exposition</th>\n",
       "    </tr>\n",
       "  </thead>\n",
       "  <tbody>\n",
       "    <tr>\n",
       "      <th>2253</th>\n",
       "      <td>-1</td>\n",
       "      <td>-1.0</td>\n",
       "      <td>-1.0</td>\n",
       "      <td>-1</td>\n",
       "      <td>-1</td>\n",
       "      <td>-1.0</td>\n",
       "      <td>-1</td>\n",
       "      <td>-1.0</td>\n",
       "      <td>-1</td>\n",
       "      <td>-1</td>\n",
       "      <td>-1</td>\n",
       "      <td>-1</td>\n",
       "      <td>-1.0</td>\n",
       "      <td>-1</td>\n",
       "      <td>-1</td>\n",
       "      <td>-1</td>\n",
       "      <td>-1</td>\n",
       "      <td>-1</td>\n",
       "      <td>-1</td>\n",
       "      <td>-1</td>\n",
       "      <td>-1</td>\n",
       "      <td>-1.0</td>\n",
       "    </tr>\n",
       "    <tr>\n",
       "      <th>16731</th>\n",
       "      <td>-1</td>\n",
       "      <td>-1.0</td>\n",
       "      <td>-1.0</td>\n",
       "      <td>-1</td>\n",
       "      <td>-1</td>\n",
       "      <td>-1.0</td>\n",
       "      <td>-1</td>\n",
       "      <td>-1.0</td>\n",
       "      <td>-1</td>\n",
       "      <td>-1</td>\n",
       "      <td>-1</td>\n",
       "      <td>-1</td>\n",
       "      <td>-1.0</td>\n",
       "      <td>-1</td>\n",
       "      <td>-1</td>\n",
       "      <td>-1</td>\n",
       "      <td>-1</td>\n",
       "      <td>-1</td>\n",
       "      <td>-1</td>\n",
       "      <td>-1</td>\n",
       "      <td>-1</td>\n",
       "      <td>-1.0</td>\n",
       "    </tr>\n",
       "  </tbody>\n",
       "</table>\n",
       "</div>"
      ],
      "text/plain": [
       "       total_images  last_price  total_area first_day_exposition  rooms  \\\n",
       "2253             -1        -1.0        -1.0                   -1     -1   \n",
       "16731            -1        -1.0        -1.0                   -1     -1   \n",
       "\n",
       "       ceiling_height  floors_total  living_area  floor is_apartment studio  \\\n",
       "2253             -1.0            -1         -1.0     -1           -1     -1   \n",
       "16731            -1.0            -1         -1.0     -1           -1     -1   \n",
       "\n",
       "      open_plan  kitchen_area  balcony locality_name  airports_nearest  \\\n",
       "2253         -1          -1.0       -1            -1                -1   \n",
       "16731        -1          -1.0       -1            -1                -1   \n",
       "\n",
       "       city_centers_nearest  parks_around3000  parks_nearest  \\\n",
       "2253                     -1                -1             -1   \n",
       "16731                    -1                -1             -1   \n",
       "\n",
       "       ponds_around3000  ponds_nearest  days_exposition  \n",
       "2253                 -1             -1             -1.0  \n",
       "16731                -1             -1             -1.0  "
      ]
     },
     "execution_count": 71,
     "metadata": {},
     "output_type": "execute_result"
    }
   ],
   "source": [
    "data[data['total_images']==-1]"
   ]
  },
  {
   "cell_type": "markdown",
   "metadata": {},
   "source": [
    "все строки заполнены заглушками. это мусор. надо их удалить, иначе они будут постоянно вылезать и мешать при предобработке"
   ]
  },
  {
   "cell_type": "code",
   "execution_count": 72,
   "metadata": {
    "tags": []
   },
   "outputs": [],
   "source": [
    "data['total_images'] = data['total_images'].astype(int)"
   ]
  },
  {
   "cell_type": "markdown",
   "metadata": {},
   "source": [
    "#### рассмотрим данные по последней цене"
   ]
  },
  {
   "cell_type": "code",
   "execution_count": 73,
   "metadata": {
    "tags": []
   },
   "outputs": [
    {
     "data": {
      "text/plain": [
       "count        23,613.00\n",
       "mean      6,540,226.07\n",
       "std      10,901,861.58\n",
       "min              -1.00\n",
       "25%       3,400,000.00\n",
       "50%       4,650,000.00\n",
       "75%       6,799,000.00\n",
       "max     763,000,000.00\n",
       "Name: last_price, dtype: float64"
      ]
     },
     "execution_count": 73,
     "metadata": {},
     "output_type": "execute_result"
    }
   ],
   "source": [
    "pd.options.display.float_format = '{:,.2f}'.format\n",
    "data['last_price'].describe()"
   ]
  },
  {
   "cell_type": "markdown",
   "metadata": {},
   "source": [
    "посмотрим указывал ли кто-то копейки в стоимости, внести корректировку в стоимость они не смогут, просто интересно"
   ]
  },
  {
   "cell_type": "code",
   "execution_count": 74,
   "metadata": {
    "tags": []
   },
   "outputs": [
    {
     "name": "stdout",
     "output_type": "stream",
     "text": [
      "копеек нет\n"
     ]
    }
   ],
   "source": [
    "cou = 0\n",
    "for i in data['last_price']:\n",
    "    if i % 1 > 0:\n",
    "        cou += 1\n",
    "if not cou:\n",
    "    print('копеек нет')\n",
    "else: print('цен с копейками:', cou)"
   ]
  },
  {
   "cell_type": "markdown",
   "metadata": {},
   "source": [
    "интересная минимальная стоимость 12,190. посмотрим что там за данные"
   ]
  },
  {
   "cell_type": "code",
   "execution_count": 75,
   "metadata": {
    "tags": []
   },
   "outputs": [
    {
     "data": {
      "text/html": [
       "<div>\n",
       "<style scoped>\n",
       "    .dataframe tbody tr th:only-of-type {\n",
       "        vertical-align: middle;\n",
       "    }\n",
       "\n",
       "    .dataframe tbody tr th {\n",
       "        vertical-align: top;\n",
       "    }\n",
       "\n",
       "    .dataframe thead th {\n",
       "        text-align: right;\n",
       "    }\n",
       "</style>\n",
       "<table border=\"1\" class=\"dataframe\">\n",
       "  <thead>\n",
       "    <tr style=\"text-align: right;\">\n",
       "      <th></th>\n",
       "      <th>total_images</th>\n",
       "      <th>last_price</th>\n",
       "      <th>total_area</th>\n",
       "      <th>first_day_exposition</th>\n",
       "      <th>rooms</th>\n",
       "      <th>ceiling_height</th>\n",
       "      <th>floors_total</th>\n",
       "      <th>living_area</th>\n",
       "      <th>floor</th>\n",
       "      <th>is_apartment</th>\n",
       "      <th>studio</th>\n",
       "      <th>open_plan</th>\n",
       "      <th>kitchen_area</th>\n",
       "      <th>balcony</th>\n",
       "      <th>locality_name</th>\n",
       "      <th>airports_nearest</th>\n",
       "      <th>city_centers_nearest</th>\n",
       "      <th>parks_around3000</th>\n",
       "      <th>parks_nearest</th>\n",
       "      <th>ponds_around3000</th>\n",
       "      <th>ponds_nearest</th>\n",
       "      <th>days_exposition</th>\n",
       "    </tr>\n",
       "  </thead>\n",
       "  <tbody>\n",
       "    <tr>\n",
       "      <th>8793</th>\n",
       "      <td>7</td>\n",
       "      <td>12,190.00</td>\n",
       "      <td>109.00</td>\n",
       "      <td>2019-03-20T00:00:00</td>\n",
       "      <td>2</td>\n",
       "      <td>2.80</td>\n",
       "      <td>25</td>\n",
       "      <td>32.00</td>\n",
       "      <td>25</td>\n",
       "      <td>False</td>\n",
       "      <td>False</td>\n",
       "      <td>False</td>\n",
       "      <td>40.50</td>\n",
       "      <td>0</td>\n",
       "      <td>Санкт-Петербург</td>\n",
       "      <td>36421</td>\n",
       "      <td>9176</td>\n",
       "      <td>1</td>\n",
       "      <td>805</td>\n",
       "      <td>0</td>\n",
       "      <td>&lt;NA&gt;</td>\n",
       "      <td>8.00</td>\n",
       "    </tr>\n",
       "  </tbody>\n",
       "</table>\n",
       "</div>"
      ],
      "text/plain": [
       "      total_images  last_price  total_area first_day_exposition  rooms  \\\n",
       "8793             7   12,190.00      109.00  2019-03-20T00:00:00      2   \n",
       "\n",
       "      ceiling_height  floors_total  living_area  floor is_apartment studio  \\\n",
       "8793            2.80            25        32.00     25        False  False   \n",
       "\n",
       "     open_plan  kitchen_area  balcony    locality_name  airports_nearest  \\\n",
       "8793     False         40.50        0  Санкт-Петербург             36421   \n",
       "\n",
       "      city_centers_nearest  parks_around3000  parks_nearest  ponds_around3000  \\\n",
       "8793                  9176                 1            805                 0   \n",
       "\n",
       "      ponds_nearest  days_exposition  \n",
       "8793           <NA>             8.00  "
      ]
     },
     "execution_count": 75,
     "metadata": {},
     "output_type": "execute_result"
    }
   ],
   "source": [
    "data[data['last_price'] == 12190]"
   ]
  },
  {
   "cell_type": "code",
   "execution_count": 76,
   "metadata": {
    "tags": []
   },
   "outputs": [],
   "source": [
    "data['last_price'] = data['last_price'].astype(int)"
   ]
  },
  {
   "cell_type": "code",
   "execution_count": 77,
   "metadata": {
    "tags": []
   },
   "outputs": [
    {
     "data": {
      "text/plain": [
       "11750000.0"
      ]
     },
     "execution_count": 77,
     "metadata": {},
     "output_type": "execute_result"
    }
   ],
   "source": [
    "data[\n",
    "    (data['total_area'] > 90) &\n",
    "    (data['total_area'] < 120) &\n",
    "    (data['locality_name'] == 'Санкт-Петербург')\n",
    "]['last_price'].median()"
   ]
  },
  {
   "cell_type": "markdown",
   "metadata": {},
   "source": [
    "средняя стоимость квартир для Санкт-Петербурга площадью от 90 до 120 метров равна 11790000р. скорее всего кто-то ошибся с нулямию исправим"
   ]
  },
  {
   "cell_type": "code",
   "execution_count": 78,
   "metadata": {
    "tags": []
   },
   "outputs": [],
   "source": [
    "data.loc[data['last_price'] == 12190, 'last_price'] = 12190000"
   ]
  },
  {
   "cell_type": "code",
   "execution_count": 79,
   "metadata": {
    "tags": []
   },
   "outputs": [],
   "source": [
    "def sqrt_last_price(x: int):\n",
    "    while x < 10**6 and x > 0:\n",
    "        x *= 10\n",
    "    return x"
   ]
  },
  {
   "cell_type": "code",
   "execution_count": 80,
   "metadata": {
    "tags": []
   },
   "outputs": [],
   "source": [
    "data.loc[data['last_price'] < 10**6, 'last_price'] = \\\n",
    "data.loc[data['last_price'] < 10**6, 'last_price'].agg(sqrt_last_price)"
   ]
  },
  {
   "cell_type": "code",
   "execution_count": 81,
   "metadata": {
    "tags": []
   },
   "outputs": [
    {
     "data": {
      "image/png": "[encoded data removed]",
      "text/plain": [
       "<Figure size 432x288 with 1 Axes>"
      ]
     },
     "metadata": {
      "needs_background": "light"
     },
     "output_type": "display_data"
    }
   ],
   "source": [
    "matplotlib.pyplot.boxplot(data['last_price']/10**6);"
   ]
  },
  {
   "cell_type": "markdown",
   "metadata": {},
   "source": [
    "75% процентов данных располоагаются на отметке до 7 млн. рассмотрев данные, которые распределены на отметке до 20 млн\n",
    "можно предположить, что выше этой отметки еденичные предложения, которое может исказить финальные выводы.\n",
    "скорее всего верным решением будет просто не учитывать эти выбросы при анализе стоимости"
   ]
  },
  {
   "cell_type": "code",
   "execution_count": 82,
   "metadata": {
    "tags": []
   },
   "outputs": [
    {
     "data": {
      "text/plain": [
       "463"
      ]
     },
     "execution_count": 82,
     "metadata": {},
     "output_type": "execute_result"
    }
   ],
   "source": [
    "data.loc[data['last_price'] > 25*10**6, 'last_price'].count()"
   ]
  },
  {
   "cell_type": "code",
   "execution_count": 83,
   "metadata": {
    "tags": []
   },
   "outputs": [
    {
     "data": {
      "image/png": "[encoded data removed]",
      "text/plain": [
       "<Figure size 432x288 with 1 Axes>"
      ]
     },
     "metadata": {
      "needs_background": "light"
     },
     "output_type": "display_data"
    }
   ],
   "source": [
    "matplotlib.pyplot.boxplot(data.loc[data['last_price'] < 20*10**6, 'last_price']/10**6);"
   ]
  },
  {
   "cell_type": "markdown",
   "metadata": {},
   "source": [
    "#### рассмотрим данные по общей площади"
   ]
  },
  {
   "cell_type": "code",
   "execution_count": 84,
   "metadata": {
    "tags": []
   },
   "outputs": [
    {
     "data": {
      "text/plain": [
       "count   23,613.00\n",
       "mean        60.34\n",
       "std         35.65\n",
       "min         -1.00\n",
       "25%         40.00\n",
       "50%         52.00\n",
       "75%         69.80\n",
       "max        900.00\n",
       "Name: total_area, dtype: float64"
      ]
     },
     "execution_count": 84,
     "metadata": {},
     "output_type": "execute_result"
    }
   ],
   "source": [
    "data['total_area'].describe()"
   ]
  },
  {
   "cell_type": "code",
   "execution_count": 85,
   "metadata": {
    "tags": []
   },
   "outputs": [
    {
     "data": {
      "text/plain": [
       "<AxesSubplot:>"
      ]
     },
     "execution_count": 85,
     "metadata": {},
     "output_type": "execute_result"
    },
    {
     "data": {
      "image/png": "[encoded data removed]",
      "text/plain": [
       "<Figure size 432x288 with 1 Axes>"
      ]
     },
     "metadata": {
      "needs_background": "light"
     },
     "output_type": "display_data"
    }
   ],
   "source": [
    "data['total_area'].plot(kind='box')"
   ]
  },
  {
   "cell_type": "code",
   "execution_count": 86,
   "metadata": {
    "tags": []
   },
   "outputs": [
    {
     "data": {
      "text/plain": [
       "1058"
      ]
     },
     "execution_count": 86,
     "metadata": {},
     "output_type": "execute_result"
    }
   ],
   "source": [
    "data.loc[data['total_area'] > 120, 'total_area'].count()"
   ]
  },
  {
   "cell_type": "code",
   "execution_count": 87,
   "metadata": {
    "tags": []
   },
   "outputs": [
    {
     "data": {
      "image/png": "[encoded data removed]",
      "text/plain": [
       "<Figure size 432x288 with 1 Axes>"
      ]
     },
     "metadata": {
      "needs_background": "light"
     },
     "output_type": "display_data"
    }
   ],
   "source": [
    "matplotlib.pyplot.boxplot(data.loc[data['total_area'] < 120, 'total_area']);"
   ]
  },
  {
   "cell_type": "markdown",
   "metadata": {},
   "source": [
    "75% процентов данных располоагаются на отметке до 70 метров квадратных. рассмотрев данные, которые распределены на отметке свыше 120 метров квадратных можно предположить, что выше этой отметки жилье, которое не является массовым и учет его характеристик может исказить финальные выводы. верным решением будет просто не учитывать эти выбросы при анализе площади"
   ]
  },
  {
   "cell_type": "markdown",
   "metadata": {},
   "source": [
    "#### рассмотрим данные о жилой площади"
   ]
  },
  {
   "cell_type": "code",
   "execution_count": 88,
   "metadata": {},
   "outputs": [
    {
     "data": {
      "text/plain": [
       "count   21,743.00\n",
       "mean        34.46\n",
       "std         22.04\n",
       "min         -1.00\n",
       "25%         18.60\n",
       "50%         30.00\n",
       "75%         42.30\n",
       "max        409.70\n",
       "Name: living_area, dtype: float64"
      ]
     },
     "execution_count": 88,
     "metadata": {},
     "output_type": "execute_result"
    }
   ],
   "source": [
    "data['living_area'].describe()"
   ]
  },
  {
   "cell_type": "code",
   "execution_count": 89,
   "metadata": {},
   "outputs": [
    {
     "data": {
      "text/plain": [
       "1870"
      ]
     },
     "execution_count": 89,
     "metadata": {},
     "output_type": "execute_result"
    }
   ],
   "source": [
    "data['living_area'].isna().sum()"
   ]
  },
  {
   "cell_type": "markdown",
   "metadata": {},
   "source": [
    " в данных есть пропуски их можно заменить медианой, но в таком случае нужно чтобы жилая площадь не была больше общей.\n",
    " лучше оставить пропуски как есть."
   ]
  },
  {
   "cell_type": "code",
   "execution_count": 90,
   "metadata": {
    "tags": []
   },
   "outputs": [
    {
     "data": {
      "text/plain": [
       "<AxesSubplot:>"
      ]
     },
     "execution_count": 90,
     "metadata": {},
     "output_type": "execute_result"
    },
    {
     "data": {
      "image/png": "[encoded data removed]",
      "text/plain": [
       "<Figure size 432x288 with 1 Axes>"
      ]
     },
     "metadata": {
      "needs_background": "light"
     },
     "output_type": "display_data"
    }
   ],
   "source": [
    "data['living_area'].plot(kind='box')"
   ]
  },
  {
   "cell_type": "code",
   "execution_count": 91,
   "metadata": {
    "tags": []
   },
   "outputs": [
    {
     "data": {
      "image/png": "[encoded data removed]",
      "text/plain": [
       "<Figure size 432x288 with 1 Axes>"
      ]
     },
     "metadata": {
      "needs_background": "light"
     },
     "output_type": "display_data"
    }
   ],
   "source": [
    "matplotlib.pyplot.boxplot(data.loc[data['living_area'] < 66, 'living_area']);"
   ]
  },
  {
   "cell_type": "code",
   "execution_count": 92,
   "metadata": {
    "tags": []
   },
   "outputs": [
    {
     "data": {
      "text/plain": [
       "1252"
      ]
     },
     "execution_count": 92,
     "metadata": {},
     "output_type": "execute_result"
    }
   ],
   "source": [
    "data.loc[data['living_area'] >= 66, 'living_area'].count()"
   ]
  },
  {
   "cell_type": "markdown",
   "metadata": {},
   "source": [
    "75% процентов данных располоагаются на отметке до 42.3 метров квадратных. рассмотрев данные, которые распределены на отметке свыше 80 метров квадратных можно предположить, что выше этой отметки жилье, которое не является массовым и учет его характеристик может исказить финальные выводы. скорее всего верным решением будет просто не учитывать эти выбросы при анализе площади"
   ]
  },
  {
   "cell_type": "code",
   "execution_count": 93,
   "metadata": {
    "tags": []
   },
   "outputs": [
    {
     "data": {
      "text/plain": [
       "<AxesSubplot:ylabel='Frequency'>"
      ]
     },
     "execution_count": 93,
     "metadata": {},
     "output_type": "execute_result"
    },
    {
     "data": {
      "image/png": "[encoded data removed]",
      "text/plain": [
       "<Figure size 432x288 with 1 Axes>"
      ]
     },
     "metadata": {
      "needs_background": "light"
     },
     "output_type": "display_data"
    }
   ],
   "source": [
    "data['living_area'].plot(kind='hist', grid=True, bins=66, range=(0, 66))"
   ]
  },
  {
   "cell_type": "markdown",
   "metadata": {},
   "source": [
    "#### рассмотрим данные о количестве комнат"
   ]
  },
  {
   "cell_type": "code",
   "execution_count": 94,
   "metadata": {
    "tags": []
   },
   "outputs": [
    {
     "data": {
      "text/plain": [
       "count   23,613.00\n",
       "mean         2.07\n",
       "std          1.08\n",
       "min         -1.00\n",
       "25%          1.00\n",
       "50%          2.00\n",
       "75%          3.00\n",
       "max         19.00\n",
       "Name: rooms, dtype: float64"
      ]
     },
     "execution_count": 94,
     "metadata": {},
     "output_type": "execute_result"
    }
   ],
   "source": [
    "data['rooms'].describe()"
   ]
  },
  {
   "cell_type": "code",
   "execution_count": 95,
   "metadata": {
    "tags": []
   },
   "outputs": [
    {
     "data": {
      "text/plain": [
       "<AxesSubplot:>"
      ]
     },
     "execution_count": 95,
     "metadata": {},
     "output_type": "execute_result"
    },
    {
     "data": {
      "image/png": "[encoded data removed]",
      "text/plain": [
       "<Figure size 432x288 with 1 Axes>"
      ]
     },
     "metadata": {
      "needs_background": "light"
     },
     "output_type": "display_data"
    }
   ],
   "source": [
    "data['rooms'].plot(kind='box')"
   ]
  },
  {
   "cell_type": "code",
   "execution_count": 96,
   "metadata": {
    "tags": []
   },
   "outputs": [
    {
     "data": {
      "image/png": "[encoded data removed]",
      "text/plain": [
       "<Figure size 432x288 with 1 Axes>"
      ]
     },
     "metadata": {
      "needs_background": "light"
     },
     "output_type": "display_data"
    }
   ],
   "source": [
    "matplotlib.pyplot.boxplot(data.loc[data['rooms'] <= 3, 'rooms']);"
   ]
  },
  {
   "cell_type": "code",
   "execution_count": 97,
   "metadata": {
    "tags": []
   },
   "outputs": [
    {
     "data": {
      "text/plain": [
       "519"
      ]
     },
     "execution_count": 97,
     "metadata": {},
     "output_type": "execute_result"
    }
   ],
   "source": [
    "data.loc[data['rooms'] > 4, 'rooms'].count()"
   ]
  },
  {
   "cell_type": "markdown",
   "metadata": {},
   "source": [
    "75% процентов данных располоагаются на отметке 3 комнат. значения больше 4 носят единичный характер. скорее всего верным решением будет просто не учитывать эти данные при анализе площади"
   ]
  },
  {
   "cell_type": "markdown",
   "metadata": {},
   "source": [
    "#### рассмотрим данные о размере кухни"
   ]
  },
  {
   "cell_type": "code",
   "execution_count": 98,
   "metadata": {},
   "outputs": [
    {
     "data": {
      "text/plain": [
       "count   21,382.00\n",
       "mean        10.56\n",
       "std          5.91\n",
       "min         -1.00\n",
       "25%          7.00\n",
       "50%          9.10\n",
       "75%         12.00\n",
       "max        112.00\n",
       "Name: kitchen_area, dtype: float64"
      ]
     },
     "execution_count": 98,
     "metadata": {},
     "output_type": "execute_result"
    }
   ],
   "source": [
    "data['kitchen_area'].describe()"
   ]
  },
  {
   "cell_type": "markdown",
   "metadata": {},
   "source": [
    "в данных есть пропуски их можно заменить медианой, но в таком случае нужно чтобы сумма жилой площади и площадь кухни не была больше общей. лучше оставить пропуски как есть."
   ]
  },
  {
   "cell_type": "markdown",
   "metadata": {
    "tags": []
   },
   "source": [
    "#### рассмотрим данные о дате публикации"
   ]
  },
  {
   "cell_type": "markdown",
   "metadata": {},
   "source": [
    "в данных есть пропуски, заменим их медианой"
   ]
  },
  {
   "cell_type": "code",
   "execution_count": 99,
   "metadata": {
    "tags": []
   },
   "outputs": [
    {
     "data": {
      "text/plain": [
       "0    2019-03-07T00:00:00\n",
       "1    2018-12-04T00:00:00\n",
       "2    2015-08-20T00:00:00\n",
       "3    2015-07-24T00:00:00\n",
       "4    2018-06-19T00:00:00\n",
       "Name: first_day_exposition, dtype: object"
      ]
     },
     "execution_count": 99,
     "metadata": {},
     "output_type": "execute_result"
    }
   ],
   "source": [
    "data['first_day_exposition'].head()"
   ]
  },
  {
   "cell_type": "markdown",
   "metadata": {},
   "source": [
    "приведем данные к типу datetime, так как с имеющимся форматом данных работать не получится"
   ]
  },
  {
   "cell_type": "code",
   "execution_count": 100,
   "metadata": {
    "tags": []
   },
   "outputs": [],
   "source": [
    "data['first_day_exposition']=pd.to_datetime(data['first_day_exposition'], format='%Y-%m-%dT%H:%M:%S')"
   ]
  },
  {
   "cell_type": "markdown",
   "metadata": {},
   "source": [
    "#### рассмотрим данные о сроках публикации"
   ]
  },
  {
   "cell_type": "code",
   "execution_count": 101,
   "metadata": {},
   "outputs": [
    {
     "data": {
      "text/plain": [
       "count   20,441.00\n",
       "mean       180.87\n",
       "std        219.69\n",
       "min         -1.00\n",
       "25%         45.00\n",
       "50%         95.00\n",
       "75%        232.00\n",
       "max      1,580.00\n",
       "Name: days_exposition, dtype: float64"
      ]
     },
     "execution_count": 101,
     "metadata": {},
     "output_type": "execute_result"
    }
   ],
   "source": [
    "data['days_exposition'].describe()"
   ]
  },
  {
   "cell_type": "markdown",
   "metadata": {},
   "source": [
    "<s>минимальное значение в столбце - 1. предположим, что отсутствующее значение соответствует тому, что обьявление было снято до того, как пройдут сутки. и алгорритмы не успели тикнуть счетчик дней на еденицу.\n",
    "в таком случае логично заменить пропущенные значения нулем. "
   ]
  },
  {
   "cell_type": "markdown",
   "metadata": {
    "tags": []
   },
   "source": [
    "рассмотрим данные, с пропусками"
   ]
  },
  {
   "cell_type": "code",
   "execution_count": 102,
   "metadata": {
    "tags": []
   },
   "outputs": [
    {
     "data": {
      "text/plain": [
       "Timestamp('2014-11-27 00:00:00')"
      ]
     },
     "execution_count": 102,
     "metadata": {},
     "output_type": "execute_result"
    }
   ],
   "source": [
    "data[data['days_exposition'].isna()]['first_day_exposition'].min()"
   ]
  },
  {
   "cell_type": "markdown",
   "metadata": {},
   "source": [
    "минимальное значение в столбце \"дата публикации 27 ноября 2014 года, значит столбец \"days_exposition\" заполняется после снятия обьявления. корректного заполнителя для данных пропусков нет."
   ]
  },
  {
   "cell_type": "code",
   "execution_count": 103,
   "metadata": {
    "tags": []
   },
   "outputs": [
    {
     "data": {
      "text/plain": [
       "<AxesSubplot:>"
      ]
     },
     "execution_count": 103,
     "metadata": {},
     "output_type": "execute_result"
    },
    {
     "data": {
      "image/png": "[encoded data removed]",
      "text/plain": [
       "<Figure size 432x288 with 1 Axes>"
      ]
     },
     "metadata": {
      "needs_background": "light"
     },
     "output_type": "display_data"
    }
   ],
   "source": [
    "data['days_exposition'].plot(kind='box')"
   ]
  },
  {
   "cell_type": "code",
   "execution_count": 104,
   "metadata": {
    "tags": []
   },
   "outputs": [
    {
     "data": {
      "text/plain": [
       "<AxesSubplot:>"
      ]
     },
     "execution_count": 104,
     "metadata": {},
     "output_type": "execute_result"
    },
    {
     "data": {
      "image/png": "[encoded data removed]",
      "text/plain": [
       "<Figure size 432x288 with 1 Axes>"
      ]
     },
     "metadata": {
      "needs_background": "light"
     },
     "output_type": "display_data"
    }
   ],
   "source": [
    "data.loc[data['days_exposition']<250, 'days_exposition'].plot(kind='box')"
   ]
  },
  {
   "cell_type": "markdown",
   "metadata": {},
   "source": [
    "заменим тип на целочисленный"
   ]
  },
  {
   "cell_type": "code",
   "execution_count": 105,
   "metadata": {
    "tags": []
   },
   "outputs": [],
   "source": [
    "data['days_exposition'] = np.floor(pd.to_numeric(data['days_exposition'], errors='coerce')).astype('Int64')"
   ]
  },
  {
   "cell_type": "markdown",
   "metadata": {},
   "source": [
    "#### рассмотрим данные в studio и open_plan"
   ]
  },
  {
   "cell_type": "code",
   "execution_count": 106,
   "metadata": {
    "tags": []
   },
   "outputs": [
    {
     "data": {
      "text/plain": [
       "count     23613\n",
       "unique        3\n",
       "top       False\n",
       "freq      23465\n",
       "Name: studio, dtype: object"
      ]
     },
     "execution_count": 106,
     "metadata": {},
     "output_type": "execute_result"
    }
   ],
   "source": [
    "data['studio'].describe()"
   ]
  },
  {
   "cell_type": "code",
   "execution_count": 107,
   "metadata": {
    "tags": []
   },
   "outputs": [],
   "source": [
    "data['studio'] = data['studio'].astype('bool')"
   ]
  },
  {
   "cell_type": "code",
   "execution_count": 108,
   "metadata": {
    "tags": []
   },
   "outputs": [
    {
     "data": {
      "text/plain": [
       "count     23613\n",
       "unique        3\n",
       "top       False\n",
       "freq      23544\n",
       "Name: open_plan, dtype: object"
      ]
     },
     "execution_count": 108,
     "metadata": {},
     "output_type": "execute_result"
    }
   ],
   "source": [
    "data['open_plan'].describe()"
   ]
  },
  {
   "cell_type": "code",
   "execution_count": 109,
   "metadata": {
    "tags": []
   },
   "outputs": [],
   "source": [
    "data['open_plan'] = data['open_plan'].astype('bool')"
   ]
  },
  {
   "cell_type": "markdown",
   "metadata": {},
   "source": [
    "изменения в этих данных не требуются"
   ]
  },
  {
   "cell_type": "markdown",
   "metadata": {},
   "source": [
    "#### удалим мусорные данные и отмеченные, как выбросы"
   ]
  },
  {
   "cell_type": "code",
   "execution_count": 110,
   "metadata": {
    "tags": []
   },
   "outputs": [],
   "source": [
    "data_old_cou = data.shape[0]"
   ]
  },
  {
   "cell_type": "code",
   "execution_count": 111,
   "metadata": {
    "tags": []
   },
   "outputs": [],
   "source": [
    "data = data[data.locality_name != 'NaN']"
   ]
  },
  {
   "cell_type": "code",
   "execution_count": 112,
   "metadata": {
    "tags": []
   },
   "outputs": [],
   "source": [
    "data = data[(data.total_area > 0) & (data.total_area <= 120)]"
   ]
  },
  {
   "cell_type": "code",
   "execution_count": 113,
   "metadata": {
    "tags": []
   },
   "outputs": [],
   "source": [
    "data = data[(data.total_images < 25) & (data.total_images != -1)]"
   ]
  },
  {
   "cell_type": "code",
   "execution_count": 114,
   "metadata": {
    "tags": []
   },
   "outputs": [],
   "source": [
    "data = data[(data.rooms <= 3)]"
   ]
  },
  {
   "cell_type": "code",
   "execution_count": 115,
   "metadata": {
    "tags": []
   },
   "outputs": [],
   "source": [
    "data = data.loc[data['last_price'] <= 20*10**6]"
   ]
  },
  {
   "cell_type": "code",
   "execution_count": 116,
   "metadata": {
    "tags": []
   },
   "outputs": [],
   "source": [
    "data = data.drop_duplicates()"
   ]
  },
  {
   "cell_type": "code",
   "execution_count": 117,
   "metadata": {
    "tags": []
   },
   "outputs": [
    {
     "data": {
      "text/plain": [
       "'обьем удаленных данных - 9.44%'"
      ]
     },
     "execution_count": 117,
     "metadata": {},
     "output_type": "execute_result"
    }
   ],
   "source": [
    "f'обьем удаленных данных - {1 - data.shape[0] / data_old_cou:.2%}'"
   ]
  },
  {
   "cell_type": "code",
   "execution_count": 118,
   "metadata": {
    "tags": []
   },
   "outputs": [
    {
     "data": {
      "text/plain": [
       "total_images                0\n",
       "last_price                  0\n",
       "total_area                  0\n",
       "first_day_exposition        0\n",
       "rooms                       0\n",
       "ceiling_height              0\n",
       "floors_total                0\n",
       "living_area              1660\n",
       "floor                       0\n",
       "is_apartment                0\n",
       "studio                      0\n",
       "open_plan                   0\n",
       "kitchen_area             2016\n",
       "balcony                     0\n",
       "locality_name               0\n",
       "airports_nearest         5340\n",
       "city_centers_nearest     5324\n",
       "parks_around3000         5323\n",
       "parks_nearest           14555\n",
       "ponds_around3000         5323\n",
       "ponds_nearest           13609\n",
       "days_exposition          2674\n",
       "dtype: int64"
      ]
     },
     "execution_count": 118,
     "metadata": {},
     "output_type": "execute_result"
    }
   ],
   "source": [
    "data.isna().sum()"
   ]
  },
  {
   "cell_type": "code",
   "execution_count": 119,
   "metadata": {
    "tags": []
   },
   "outputs": [
    {
     "name": "stdout",
     "output_type": "stream",
     "text": [
      "<class 'pandas.core.frame.DataFrame'>\n",
      "Int64Index: 21384 entries, 0 to 23698\n",
      "Data columns (total 22 columns):\n",
      " #   Column                Non-Null Count  Dtype         \n",
      "---  ------                --------------  -----         \n",
      " 0   total_images          21384 non-null  int64         \n",
      " 1   last_price            21384 non-null  int64         \n",
      " 2   total_area            21384 non-null  float64       \n",
      " 3   first_day_exposition  21384 non-null  datetime64[ns]\n",
      " 4   rooms                 21384 non-null  int64         \n",
      " 5   ceiling_height        21384 non-null  float64       \n",
      " 6   floors_total          21384 non-null  int64         \n",
      " 7   living_area           19724 non-null  float64       \n",
      " 8   floor                 21384 non-null  int64         \n",
      " 9   is_apartment          21384 non-null  object        \n",
      " 10  studio                21384 non-null  bool          \n",
      " 11  open_plan             21384 non-null  bool          \n",
      " 12  kitchen_area          19368 non-null  float64       \n",
      " 13  balcony               21384 non-null  int64         \n",
      " 14  locality_name         21384 non-null  object        \n",
      " 15  airports_nearest      16044 non-null  Int64         \n",
      " 16  city_centers_nearest  16060 non-null  Int64         \n",
      " 17  parks_around3000      16061 non-null  Int64         \n",
      " 18  parks_nearest         6829 non-null   Int64         \n",
      " 19  ponds_around3000      16061 non-null  Int64         \n",
      " 20  ponds_nearest         7775 non-null   Int64         \n",
      " 21  days_exposition       18710 non-null  Int64         \n",
      "dtypes: Int64(7), bool(2), datetime64[ns](1), float64(4), int64(6), object(2)\n",
      "memory usage: 3.6+ MB\n"
     ]
    }
   ],
   "source": [
    "data.info()"
   ]
  },
  {
   "cell_type": "markdown",
   "metadata": {},
   "source": [
    "#### ****краткие выводы:****\n",
    "- в процессе предобработки данных были заменены пропуски (где это было возможно), исправлены некоректные названия и удалены явно мусорные данные\n",
    "- востановлены значения последней стоимости и высоты потолков\n",
    "- изменены типы данных в столбцах, где это было необходимо:\n",
    "- - airports_nearest      с float64  на  int64 в связи с тем, что точнось до сантиметра, в данном случае, будет избыточна         \n",
    "- - city_centers_nearest  с float64  на  int64 в связи с тем, что точнось до сантиметра, в данном случае, будет избыточна         \n",
    "- - parks_around3000      с float64  на  int64 в связи с тем, что точнось до сантиметра, в данном случае, будет избыточна         \n",
    "- - parks_nearest         с float64  на  int64 в связи с тем, что точнось до сантиметра, в данном случае, будет избыточна         \n",
    "- - ponds_around3000      с float64  на  int64 в связи с тем, что точнось до сантиметра, в данном случае, будет избыточна         \n",
    "- - ponds_nearest         с float64  на  int64 в связи с тем, что точнось до сантиметра, в данном случае, будет избыточна         \n",
    "- - days_exposition       с float64  на  int64 в связи с тем, что точнось до сантиметра, в данном случае, будет избыточна\n",
    "- - balcony, floors_total с float64  на  int64 в связи с тем, что число баконов и этажность здания не может быть дробной\n",
    "- - last_price            с float64  на  int64 в связи с тем, что дробных значений поле не содержит\n",
    "- - is_apartment          с строкового на bool тк там хронятся логические переменные \n",
    "- устранены неявные дубликаты в названиях населённых пунктов\n",
    "- удалены значения, которые носили еденичный характер и выбивались из общего обьема данных\n",
    "обьем удаленных данных составил - 9.44%\n",
    "- так как часть данных была введена пользователем, а картографические данные были добавлены автоматически, можно рассмотреть следующие типы пропусков:\n",
    "- - в картографических данных пропуски вероятне всего возникли из-за отсутствия адреса для обьекта недвижимости, а строительный адрес не отражен в базе данных;\n",
    "- - в данных, вводимых пользователем пропуски могли появится из-за отсутствия информации у продавца недвижимости о этажности здания, высоте потолка, виде недвижимости и др;\n",
    "- - в данных о балконах пропуски могут быть обусловлены отсутствием автоматического заполнения поля при сохранении (значение по умолчанию в БД);\n",
    "- - пропуски в days_exposition могли быть обусловлены тем, что обьявление было снято до того, как пройдут сутки. алгорритмы не успели тикнуть счетчик дней на еденицу."
   ]
  },
  {
   "cell_type": "markdown",
   "metadata": {},
   "source": [
    "### Посчитайте и добавьте в таблицу новые столбцы"
   ]
  },
  {
   "cell_type": "code",
   "execution_count": 120,
   "metadata": {
    "tags": []
   },
   "outputs": [],
   "source": [
    "def ceiling_height_func(ceiling_height_value):\n",
    "    if ceiling_height_value <= 2.7:\n",
    "        return 'стандартные'\n",
    "    if 2.7 < ceiling_height_value:\n",
    "        return 'высокие'"
   ]
  },
  {
   "cell_type": "code",
   "execution_count": 121,
   "metadata": {
    "tags": []
   },
   "outputs": [],
   "source": [
    "data['ceiling_height_categ'] = data['ceiling_height'].apply(ceiling_height_func)"
   ]
  },
  {
   "cell_type": "markdown",
   "metadata": {},
   "source": [
    "добавим в таблицу следующие столбцы:\n",
    "    \n",
    "1) цена одного квадратного метра\n",
    "2) день публикации объявления (0 - понедельник, 1 - вторник и т.д.)\n",
    "3) месяц публикации объявления\n",
    "4) год публикации объявления\n",
    "5) тип этажа квартиры (значения — «первый», «последний», «другой»)\n",
    "6) расстояние в км до центра города"
   ]
  },
  {
   "cell_type": "code",
   "execution_count": 122,
   "metadata": {},
   "outputs": [],
   "source": [
    "data['price_met_sqrt'] = data.agg(lambda x: x['last_price'] / x['total_area'], axis=1)"
   ]
  },
  {
   "cell_type": "code",
   "execution_count": 123,
   "metadata": {},
   "outputs": [],
   "source": [
    "data['week_day_exposition'] = data['first_day_exposition'].dt.weekday"
   ]
  },
  {
   "cell_type": "code",
   "execution_count": 124,
   "metadata": {},
   "outputs": [],
   "source": [
    "data['month_exposition'] = data['first_day_exposition'].dt.month"
   ]
  },
  {
   "cell_type": "code",
   "execution_count": 125,
   "metadata": {},
   "outputs": [],
   "source": [
    "data['year_exposition'] = data['first_day_exposition'].dt.year"
   ]
  },
  {
   "cell_type": "code",
   "execution_count": 126,
   "metadata": {},
   "outputs": [],
   "source": [
    "def floor_categ(frame_data: pd.DataFrame):\n",
    "    if frame_data['floor'] == frame_data['floors_total']:\n",
    "        return 'последний'\n",
    "    elif frame_data['floor'] == 1:\n",
    "        return 'первый'\n",
    "    else:\n",
    "        return 'другой'"
   ]
  },
  {
   "cell_type": "code",
   "execution_count": 127,
   "metadata": {},
   "outputs": [],
   "source": [
    "data['type_floor'] = data.agg(floor_categ, axis=1)"
   ]
  },
  {
   "cell_type": "code",
   "execution_count": 128,
   "metadata": {},
   "outputs": [],
   "source": [
    "data['centers_nearest_km'] = \\\n",
    "data['city_centers_nearest'].agg(lambda x: abs(x // 1000))\n",
    "\n",
    "data['centers_nearest_km'] = \\\n",
    "np.floor(pd.to_numeric(\n",
    "    data['centers_nearest_km'], errors='coerce')\n",
    "        ).astype('Int64')"
   ]
  },
  {
   "cell_type": "markdown",
   "metadata": {},
   "source": [
    "#### краткие выводы\n",
    "- в таблицу были добавлены следующие столбцы:\n",
    "\n",
    "* `price_met_sqrt`      -   цена одного квадратного метра\n",
    "* `week_day_exposition` -   день публикации объявления (0 - понедельник, 1 - вторник и т.д.)\n",
    "* `month_exposition`    -   месяц публикации объявления\n",
    "* `year_exposition`     -   год публикации объявления\n",
    "* `type_floor`          -   тип этажа квартиры (значения — «первый», «последний», «другой»)\n",
    "* `centers_nearest_km`  -   расстояние в км до центра города"
   ]
  },
  {
   "cell_type": "markdown",
   "metadata": {},
   "source": [
    "### Проведите исследовательский анализ данных"
   ]
  },
  {
   "cell_type": "markdown",
   "metadata": {},
   "source": [
    "#### рассмотрим, опишем и постороим гистогоаммы следующих параметров:\n",
    "  - общая площадь;\n",
    "  - жилая площадь;\n",
    "  - площадь кухни;\n",
    "  - цена объекта;\n",
    "  - количество комнат;\n",
    "  - высота потолков;\n",
    "  - этаж квартиры;\n",
    "  - тип этажа квартиры («первый», «последний», «другой»);\n",
    "  - общее количество этажей в доме;\n",
    "  - расстояние до центра города в метрах;\n",
    "  - расстояние до ближайшего аэропорта;\n",
    "  - расстояние до ближайшего парка;\n",
    "  - день и месяц публикации объявления"
   ]
  },
  {
   "cell_type": "code",
   "execution_count": 129,
   "metadata": {},
   "outputs": [
    {
     "data": {
      "text/plain": [
       "count   21,384.00\n",
       "mean        53.01\n",
       "std         18.35\n",
       "min         12.00\n",
       "25%         39.00\n",
       "50%         49.10\n",
       "75%         63.40\n",
       "max        120.00\n",
       "Name: total_area, dtype: float64"
      ]
     },
     "execution_count": 129,
     "metadata": {},
     "output_type": "execute_result"
    }
   ],
   "source": [
    "data['total_area'].describe()"
   ]
  },
  {
   "cell_type": "code",
   "execution_count": 130,
   "metadata": {},
   "outputs": [
    {
     "data": {
      "text/plain": [
       "<AxesSubplot:>"
      ]
     },
     "execution_count": 130,
     "metadata": {},
     "output_type": "execute_result"
    },
    {
     "data": {
      "image/png": "[encoded data removed]",
      "text/plain": [
       "<Figure size 432x288 with 1 Axes>"
      ]
     },
     "metadata": {
      "needs_background": "light"
     },
     "output_type": "display_data"
    }
   ],
   "source": [
    "data['total_area'].hist(range=(0, 180), bins=50, legend=True)\n",
    "data['living_area'].hist(range=(0, 100), bins=30, legend=True, alpha=0.5)"
   ]
  },
  {
   "cell_type": "markdown",
   "metadata": {
    "tags": []
   },
   "source": [
    "основная часть данных по общей площади находится в диапозоне значений от 40 до 69. резий рост предложений начинается от 30м^2 резкий спад отмечается в районе 75м^2. предложения свыше 180 носят единичный характер."
   ]
  },
  {
   "cell_type": "code",
   "execution_count": 131,
   "metadata": {},
   "outputs": [
    {
     "data": {
      "text/plain": [
       "count   19,724.00\n",
       "mean        29.98\n",
       "std         12.43\n",
       "min          2.00\n",
       "25%         18.00\n",
       "50%         29.00\n",
       "75%         39.00\n",
       "max        100.00\n",
       "Name: living_area, dtype: float64"
      ]
     },
     "execution_count": 131,
     "metadata": {},
     "output_type": "execute_result"
    }
   ],
   "source": [
    "data['living_area'].describe()"
   ]
  },
  {
   "cell_type": "markdown",
   "metadata": {},
   "source": [
    "график жилой площади повторяет график общей площади, за исключением провала в районе от 20 до 26м^2 и миеет смещение влево.  основная часть данных находится в диапозоне значений от 19 до 41м^2. "
   ]
  },
  {
   "cell_type": "code",
   "execution_count": 132,
   "metadata": {},
   "outputs": [
    {
     "data": {
      "text/plain": [
       "count   19,368.00\n",
       "mean         9.87\n",
       "std          4.33\n",
       "min          1.30\n",
       "25%          7.00\n",
       "50%          9.00\n",
       "75%         11.20\n",
       "max         64.00\n",
       "Name: kitchen_area, dtype: float64"
      ]
     },
     "execution_count": 132,
     "metadata": {},
     "output_type": "execute_result"
    }
   ],
   "source": [
    "data['kitchen_area'].describe()"
   ]
  },
  {
   "cell_type": "code",
   "execution_count": 133,
   "metadata": {},
   "outputs": [
    {
     "data": {
      "text/plain": [
       "<AxesSubplot:>"
      ]
     },
     "execution_count": 133,
     "metadata": {},
     "output_type": "execute_result"
    },
    {
     "data": {
      "image/png": "[encoded data removed]",
      "text/plain": [
       "<Figure size 432x288 with 1 Axes>"
      ]
     },
     "metadata": {
      "needs_background": "light"
     },
     "output_type": "display_data"
    }
   ],
   "source": [
    "data['kitchen_area'].hist(range=(0, 40), bins=40, legend=True, alpha=0.8 )"
   ]
  },
  {
   "cell_type": "markdown",
   "metadata": {},
   "source": [
    "гистограма площади кухонь выглядит аналогично гистограммам общей и жилой площади. смещенная влево, с явным пиком в районе медианы, половина всех значений находится в районе 7-11,5м^2 "
   ]
  },
  {
   "cell_type": "code",
   "execution_count": 134,
   "metadata": {},
   "outputs": [
    {
     "data": {
      "text/plain": [
       "count       21,384.00\n",
       "mean     5,165,873.47\n",
       "std      2,797,515.00\n",
       "min      1,000,000.00\n",
       "25%      3,390,000.00\n",
       "50%      4,500,000.00\n",
       "75%      6,200,000.00\n",
       "max     20,000,000.00\n",
       "Name: last_price, dtype: float64"
      ]
     },
     "execution_count": 134,
     "metadata": {},
     "output_type": "execute_result"
    }
   ],
   "source": [
    "data['last_price'].describe()"
   ]
  },
  {
   "cell_type": "code",
   "execution_count": 135,
   "metadata": {},
   "outputs": [
    {
     "data": {
      "text/plain": [
       "<AxesSubplot:ylabel='Frequency'>"
      ]
     },
     "execution_count": 135,
     "metadata": {},
     "output_type": "execute_result"
    },
    {
     "data": {
      "image/png": "[encoded data removed]",
      "text/plain": [
       "<Figure size 432x288 with 1 Axes>"
      ]
     },
     "metadata": {
      "needs_background": "light"
     },
     "output_type": "display_data"
    }
   ],
   "source": [
    "data['last_price_mill'] = data['last_price']/10**6\n",
    "data['last_price_mill'].plot(x=data['last_price_mill'],\n",
    "                             kind='hist', alpha=0.8,\n",
    "                             bins=40, range=(0,12.5),\n",
    "                             grid=True, legend=True)\n"
   ]
  },
  {
   "cell_type": "markdown",
   "metadata": {},
   "source": [
    "гистограмма распределения цены обьекта предстовляет из себя *почти* номальное распределение, немного смещенное влево. с плечами в районе 2,3 и 5, и пиком в районе 4 млн "
   ]
  },
  {
   "cell_type": "code",
   "execution_count": 136,
   "metadata": {},
   "outputs": [
    {
     "data": {
      "text/plain": [
       "<AxesSubplot:>"
      ]
     },
     "execution_count": 136,
     "metadata": {},
     "output_type": "execute_result"
    },
    {
     "data": {
      "image/png": "[encoded data removed]",
      "text/plain": [
       "<Figure size 432x288 with 1 Axes>"
      ]
     },
     "metadata": {
      "needs_background": "light"
     },
     "output_type": "display_data"
    }
   ],
   "source": [
    "data['rooms'].hist(range=(0, 10),bins=10, legend=True, grid=True)"
   ]
  },
  {
   "cell_type": "markdown",
   "metadata": {},
   "source": [
    "1, 2 и 3 комнатные квартиры занимают большую долю среди всех обьектов"
   ]
  },
  {
   "cell_type": "code",
   "execution_count": 137,
   "metadata": {},
   "outputs": [
    {
     "data": {
      "text/plain": [
       "<AxesSubplot:>"
      ]
     },
     "execution_count": 137,
     "metadata": {},
     "output_type": "execute_result"
    },
    {
     "data": {
      "image/png": "[encoded data removed]",
      "text/plain": [
       "<Figure size 432x288 with 1 Axes>"
      ]
     },
     "metadata": {
      "needs_background": "light"
     },
     "output_type": "display_data"
    }
   ],
   "source": [
    "data['ceiling_height'].hist(range=(2.4, 3.5), bins=11, legend=True, grid=False)"
   ]
  },
  {
   "cell_type": "markdown",
   "metadata": {},
   "source": [
    "основная часть обьектов недвижимости имеют высоту потолка в районе 2,6 метра"
   ]
  },
  {
   "cell_type": "code",
   "execution_count": 138,
   "metadata": {},
   "outputs": [
    {
     "data": {
      "text/plain": [
       "<AxesSubplot:>"
      ]
     },
     "execution_count": 138,
     "metadata": {},
     "output_type": "execute_result"
    },
    {
     "data": {
      "image/png": "[encoded data removed]",
      "text/plain": [
       "<Figure size 432x288 with 1 Axes>"
      ]
     },
     "metadata": {
      "needs_background": "light"
     },
     "output_type": "display_data"
    }
   ],
   "source": [
    "data['floor'].hist(range=(0, 33), bins=33, alpha=1, legend=True)\n",
    "data['floors_total'].hist(range=(0, 38), bins=37, alpha=0.5, legend=True)"
   ]
  },
  {
   "cell_type": "markdown",
   "metadata": {},
   "source": [
    "5-ти и  9-ти этахные дома являются самыми многочисленными на рынке, доля 12-ти и 16-ти этажных домов одинаковы"
   ]
  },
  {
   "cell_type": "code",
   "execution_count": 139,
   "metadata": {},
   "outputs": [
    {
     "data": {
      "text/plain": [
       "<AxesSubplot:>"
      ]
     },
     "execution_count": 139,
     "metadata": {},
     "output_type": "execute_result"
    },
    {
     "data": {
      "image/png": "[encoded data removed]",
      "text/plain": [
       "<Figure size 432x288 with 1 Axes>"
      ]
     },
     "metadata": {
      "needs_background": "light"
     },
     "output_type": "display_data"
    }
   ],
   "source": [
    "data['type_floor'].hist(bins=3, alpha=0.8, legend=True, grid=False)"
   ]
  },
  {
   "cell_type": "markdown",
   "metadata": {},
   "source": [
    "доля первого и последнего этажа почти оинакова, гараэдо чаще представлены \"другой\" этаж "
   ]
  },
  {
   "cell_type": "code",
   "execution_count": 140,
   "metadata": {},
   "outputs": [
    {
     "data": {
      "text/plain": [
       "<AxesSubplot:>"
      ]
     },
     "execution_count": 140,
     "metadata": {},
     "output_type": "execute_result"
    },
    {
     "data": {
      "image/png": "[encoded data removed]",
      "text/plain": [
       "<Figure size 432x288 with 1 Axes>"
      ]
     },
     "metadata": {
      "needs_background": "light"
     },
     "output_type": "display_data"
    }
   ],
   "source": [
    "data['city_centers_nearest'].hist(bins=10, legend=True)\n",
    "data['airports_nearest'].hist(bins=10, alpha=0.5, legend=True)"
   ]
  },
  {
   "cell_type": "markdown",
   "metadata": {},
   "source": [
    "основная часть обьектов недвижимости расположена на удалении до 20км от центра города до 35-40км от аэропорта"
   ]
  },
  {
   "cell_type": "code",
   "execution_count": 141,
   "metadata": {},
   "outputs": [
    {
     "data": {
      "text/plain": [
       "<AxesSubplot:>"
      ]
     },
     "execution_count": 141,
     "metadata": {},
     "output_type": "execute_result"
    },
    {
     "data": {
      "image/png": "[encoded data removed]",
      "text/plain": [
       "<Figure size 432x288 with 1 Axes>"
      ]
     },
     "metadata": {
      "needs_background": "light"
     },
     "output_type": "display_data"
    }
   ],
   "source": [
    "data['parks_nearest'].hist(range=(0, 1500), bins=10, legend=True, grid=False)"
   ]
  },
  {
   "cell_type": "markdown",
   "metadata": {},
   "source": [
    "большая часть обьектов недвижимости, для которой установлено местоположение находится на растоянии от 200 до 600 метров от парка"
   ]
  },
  {
   "cell_type": "code",
   "execution_count": 142,
   "metadata": {},
   "outputs": [
    {
     "data": {
      "text/plain": [
       "<AxesSubplot:>"
      ]
     },
     "execution_count": 142,
     "metadata": {},
     "output_type": "execute_result"
    },
    {
     "data": {
      "image/png": "[encoded data removed]",
      "text/plain": [
       "<Figure size 432x288 with 1 Axes>"
      ]
     },
     "metadata": {
      "needs_background": "light"
     },
     "output_type": "display_data"
    }
   ],
   "source": [
    "data['week_day_exposition'].hist(bins=7, legend=True)"
   ]
  },
  {
   "cell_type": "code",
   "execution_count": 143,
   "metadata": {
    "tags": []
   },
   "outputs": [
    {
     "data": {
      "text/plain": [
       "<AxesSubplot:>"
      ]
     },
     "execution_count": 143,
     "metadata": {},
     "output_type": "execute_result"
    },
    {
     "data": {
      "image/png": "[encoded data removed]",
      "text/plain": [
       "<Figure size 432x288 with 1 Axes>"
      ]
     },
     "metadata": {
      "needs_background": "light"
     },
     "output_type": "display_data"
    }
   ],
   "source": [
    "data['month_exposition'].hist(bins=12, alpha=0.5, legend=True)"
   ]
  },
  {
   "cell_type": "markdown",
   "metadata": {},
   "source": [
    "из графиков видно, что реже всего обьявления публикуют во время выходных, также имеются провалы в январе и мае. скорее всего это связано с длинными выходными"
   ]
  },
  {
   "cell_type": "markdown",
   "metadata": {},
   "source": [
    "#### рассмотрим, как быстро продавались квартиры"
   ]
  },
  {
   "cell_type": "code",
   "execution_count": 144,
   "metadata": {},
   "outputs": [
    {
     "data": {
      "text/plain": [
       "count   18,710.00\n",
       "mean       172.90\n",
       "std        211.30\n",
       "min          1.00\n",
       "25%         44.00\n",
       "50%         91.00\n",
       "75%        218.00\n",
       "max      1,580.00\n",
       "Name: days_exposition, dtype: float64"
      ]
     },
     "execution_count": 144,
     "metadata": {},
     "output_type": "execute_result"
    }
   ],
   "source": [
    "data['days_exposition'].describe()"
   ]
  },
  {
   "cell_type": "markdown",
   "metadata": {},
   "source": [
    "минимальное значение (0) отбросим. максимальное установим в районе 75% (третий квартиль)"
   ]
  },
  {
   "cell_type": "code",
   "execution_count": 145,
   "metadata": {},
   "outputs": [
    {
     "data": {
      "text/plain": [
       "<AxesSubplot:>"
      ]
     },
     "execution_count": 145,
     "metadata": {},
     "output_type": "execute_result"
    },
    {
     "data": {
      "image/png": "[encoded data removed]",
      "text/plain": [
       "<Figure size 432x288 with 1 Axes>"
      ]
     },
     "metadata": {
      "needs_background": "light"
     },
     "output_type": "display_data"
    }
   ],
   "source": [
    "data[(data['days_exposition'] > 0) & (data['days_exposition'] < 200)]['days_exposition'].hist(bins=50, legend=True)"
   ]
  },
  {
   "cell_type": "markdown",
   "metadata": {},
   "source": [
    "необычно долгими можно назвать максимальные значения от 1.580 дней примерно до года"
   ]
  },
  {
   "cell_type": "markdown",
   "metadata": {},
   "source": [
    "среднее время продажи занимает до 60 дней"
   ]
  },
  {
   "cell_type": "markdown",
   "metadata": {},
   "source": [
    "среднее время продажи занимает до 60 дней\n",
    "необычайно быстрая продажа квартир (не учитывая снятые в день постановки) это в районе 10 дней\n",
    "<p>пики в районе 45, 60 и 90 дней скорее всего это автоматическое снятие обьявления"
   ]
  },
  {
   "cell_type": "code",
   "execution_count": 146,
   "metadata": {},
   "outputs": [
    {
     "name": "stdout",
     "output_type": "stream",
     "text": [
      "среднее: 71.61510738452486\n"
     ]
    }
   ],
   "source": [
    "print('среднее:', \n",
    "   data.loc[\n",
    "       (data['days_exposition'] > 0) &\n",
    "       (data['days_exposition'] < 200),\n",
    "       'days_exposition'].mean())"
   ]
  },
  {
   "cell_type": "code",
   "execution_count": 147,
   "metadata": {},
   "outputs": [
    {
     "name": "stdout",
     "output_type": "stream",
     "text": [
      "медиана: 60.0\n"
     ]
    }
   ],
   "source": [
    "print('медиана:', \n",
    "    data.loc[\n",
    "       (data['days_exposition'] > 0) &\n",
    "       (data['days_exposition'] < 200),\n",
    "       'days_exposition'].median())"
   ]
  },
  {
   "cell_type": "markdown",
   "metadata": {},
   "source": [
    "#### Факторы больше всего влияющие на общую (полную) стоимость объекта"
   ]
  },
  {
   "cell_type": "code",
   "execution_count": 148,
   "metadata": {},
   "outputs": [
    {
     "data": {
      "text/plain": [
       "0.7182794207344373"
      ]
     },
     "execution_count": 148,
     "metadata": {},
     "output_type": "execute_result"
    }
   ],
   "source": [
    "data['last_price'].corr(data['total_area'])"
   ]
  },
  {
   "cell_type": "code",
   "execution_count": 149,
   "metadata": {},
   "outputs": [
    {
     "data": {
      "text/plain": [
       "<matplotlib.collections.PathCollection at 0x7fb245e73dc0>"
      ]
     },
     "execution_count": 149,
     "metadata": {},
     "output_type": "execute_result"
    },
    {
     "data": {
      "image/png": "[encoded data removed]",
      "text/plain": [
       "<Figure size 432x288 with 1 Axes>"
      ]
     },
     "metadata": {
      "needs_background": "light"
     },
     "output_type": "display_data"
    }
   ],
   "source": [
    "matplotlib.pyplot.scatter(y='last_price_mill', x='total_area', data=data, alpha=0.01)"
   ]
  },
  {
   "cell_type": "markdown",
   "metadata": {},
   "source": [
    "зависимость цены от общей площади - прямая положительная"
   ]
  },
  {
   "cell_type": "code",
   "execution_count": 150,
   "metadata": {},
   "outputs": [
    {
     "data": {
      "text/plain": [
       "0.5758726973766065"
      ]
     },
     "execution_count": 150,
     "metadata": {},
     "output_type": "execute_result"
    }
   ],
   "source": [
    "data['last_price'].corr(data['living_area'])"
   ]
  },
  {
   "cell_type": "code",
   "execution_count": 151,
   "metadata": {},
   "outputs": [
    {
     "data": {
      "text/plain": [
       "<seaborn.axisgrid.FacetGrid at 0x7fb245e1ec70>"
      ]
     },
     "execution_count": 151,
     "metadata": {},
     "output_type": "execute_result"
    },
    {
     "data": {
      "image/png": "[encoded data removed]",
      "text/plain": [
       "<Figure size 360x360 with 1 Axes>"
      ]
     },
     "metadata": {
      "needs_background": "light"
     },
     "output_type": "display_data"
    }
   ],
   "source": [
    "sns.lmplot(y='last_price_mill', x='living_area', data=data)"
   ]
  },
  {
   "cell_type": "markdown",
   "metadata": {},
   "source": [
    "зависимость цены от жилой площади - прямая положительная"
   ]
  },
  {
   "cell_type": "code",
   "execution_count": 152,
   "metadata": {},
   "outputs": [
    {
     "data": {
      "text/plain": [
       "0.5404150987534546"
      ]
     },
     "execution_count": 152,
     "metadata": {},
     "output_type": "execute_result"
    }
   ],
   "source": [
    "data['last_price'].corr(data['kitchen_area'])"
   ]
  },
  {
   "cell_type": "code",
   "execution_count": 153,
   "metadata": {},
   "outputs": [
    {
     "data": {
      "text/plain": [
       "<seaborn.axisgrid.FacetGrid at 0x7fb245dae6a0>"
      ]
     },
     "execution_count": 153,
     "metadata": {},
     "output_type": "execute_result"
    },
    {
     "data": {
      "image/png": "[encoded data removed]",
      "text/plain": [
       "<Figure size 360x360 with 1 Axes>"
      ]
     },
     "metadata": {
      "needs_background": "light"
     },
     "output_type": "display_data"
    }
   ],
   "source": [
    "sns.lmplot(y='last_price_mill', x='kitchen_area', data=data)"
   ]
  },
  {
   "cell_type": "markdown",
   "metadata": {},
   "source": [
    "зависимость цены от площади кухни - прямая положительная"
   ]
  },
  {
   "cell_type": "code",
   "execution_count": 154,
   "metadata": {},
   "outputs": [
    {
     "data": {
      "text/plain": [
       "0.4165914152236499"
      ]
     },
     "execution_count": 154,
     "metadata": {},
     "output_type": "execute_result"
    }
   ],
   "source": [
    "data['last_price'].corr(data['rooms'])"
   ]
  },
  {
   "cell_type": "code",
   "execution_count": 155,
   "metadata": {},
   "outputs": [
    {
     "data": {
      "text/plain": [
       "<seaborn.axisgrid.FacetGrid at 0x7fb245e2eee0>"
      ]
     },
     "execution_count": 155,
     "metadata": {},
     "output_type": "execute_result"
    },
    {
     "data": {
      "image/png": "[encoded data removed]",
      "text/plain": [
       "<Figure size 360x360 with 1 Axes>"
      ]
     },
     "metadata": {
      "needs_background": "light"
     },
     "output_type": "display_data"
    }
   ],
   "source": [
    "\n",
    "sns.lmplot(y='last_price_mill', x='rooms', data=data)"
   ]
  },
  {
   "cell_type": "markdown",
   "metadata": {},
   "source": [
    "зависимость цены от числа комнат - прямая положительная"
   ]
  },
  {
   "cell_type": "code",
   "execution_count": 156,
   "metadata": {
    "tags": []
   },
   "outputs": [
    {
     "data": {
      "text/plain": [
       "<AxesSubplot:xlabel='type_floor'>"
      ]
     },
     "execution_count": 156,
     "metadata": {},
     "output_type": "execute_result"
    },
    {
     "data": {
      "image/png": "[encoded data removed]",
      "text/plain": [
       "<Figure size 432x288 with 1 Axes>"
      ]
     },
     "metadata": {
      "needs_background": "light"
     },
     "output_type": "display_data"
    }
   ],
   "source": [
    "data.pivot_table(index='type_floor', values='last_price_mill', aggfunc='mean').plot(grid=True)"
   ]
  },
  {
   "cell_type": "markdown",
   "metadata": {},
   "source": [
    "в среднем стоимость на последних этажах выше, чем на остальных, самая низкая стоимость на первом этаже"
   ]
  },
  {
   "cell_type": "code",
   "execution_count": null,
   "metadata": {},
   "outputs": [],
   "source": []
  },
  {
   "cell_type": "code",
   "execution_count": 157,
   "metadata": {},
   "outputs": [
    {
     "data": {
      "text/plain": [
       "<AxesSubplot:xlabel='month_exposition'>"
      ]
     },
     "execution_count": 157,
     "metadata": {},
     "output_type": "execute_result"
    },
    {
     "data": {
      "image/png": "[encoded data removed]",
      "text/plain": [
       "<Figure size 432x288 with 1 Axes>"
      ]
     },
     "metadata": {
      "needs_background": "light"
     },
     "output_type": "display_data"
    },
    {
     "data": {
      "image/png": "[encoded data removed]",
      "text/plain": [
       "<Figure size 432x288 with 1 Axes>"
      ]
     },
     "metadata": {
      "needs_background": "light"
     },
     "output_type": "display_data"
    },
    {
     "data": {
      "image/png": "[encoded data removed]",
      "text/plain": [
       "<Figure size 432x288 with 1 Axes>"
      ]
     },
     "metadata": {
      "needs_background": "light"
     },
     "output_type": "display_data"
    }
   ],
   "source": [
    "data.pivot_table(index='year_exposition', values='last_price_mill', aggfunc='mean').plot(grid=True)\n",
    "data.pivot_table(index='week_day_exposition', values='last_price_mill', aggfunc='mean').plot(grid=True)\n",
    "data.pivot_table(index='month_exposition', values='last_price_mill', aggfunc='mean').plot(grid=True)"
   ]
  },
  {
   "cell_type": "markdown",
   "metadata": {},
   "source": [
    "в среднем обьявления с самой большой стоимостью появляются в мае и сентябре и занесены в базу в начале недели. с самой низкой в июне и в субботу\n",
    "с 2014 по 2018 год отмечается падение общей стоимости жилья почти в 2 раза. "
   ]
  },
  {
   "cell_type": "markdown",
   "metadata": {},
   "source": [
    "#### Посчитаем среднюю цену одного квадратного метра в 10 населённых пунктах с наибольшим числом объявлений"
   ]
  },
  {
   "cell_type": "code",
   "execution_count": 158,
   "metadata": {},
   "outputs": [
    {
     "data": {
      "text/html": [
       "<div>\n",
       "<style scoped>\n",
       "    .dataframe tbody tr th:only-of-type {\n",
       "        vertical-align: middle;\n",
       "    }\n",
       "\n",
       "    .dataframe tbody tr th {\n",
       "        vertical-align: top;\n",
       "    }\n",
       "\n",
       "    .dataframe thead th {\n",
       "        text-align: right;\n",
       "    }\n",
       "</style>\n",
       "<table border=\"1\" class=\"dataframe\">\n",
       "  <thead>\n",
       "    <tr style=\"text-align: right;\">\n",
       "      <th></th>\n",
       "      <th>price_met_sqrt</th>\n",
       "    </tr>\n",
       "    <tr>\n",
       "      <th>locality_name</th>\n",
       "      <th></th>\n",
       "    </tr>\n",
       "  </thead>\n",
       "  <tbody>\n",
       "    <tr>\n",
       "      <th>Санкт-Петербург</th>\n",
       "      <td>109,670.84</td>\n",
       "    </tr>\n",
       "    <tr>\n",
       "      <th>Пушкин</th>\n",
       "      <td>102,047.56</td>\n",
       "    </tr>\n",
       "    <tr>\n",
       "      <th>деревня Кудрово</th>\n",
       "      <td>95,153.31</td>\n",
       "    </tr>\n",
       "    <tr>\n",
       "      <th>поселок Парголово</th>\n",
       "      <td>90,494.58</td>\n",
       "    </tr>\n",
       "    <tr>\n",
       "      <th>поселок Мурино</th>\n",
       "      <td>86,231.58</td>\n",
       "    </tr>\n",
       "    <tr>\n",
       "      <th>поселок Шушары</th>\n",
       "      <td>78,625.26</td>\n",
       "    </tr>\n",
       "    <tr>\n",
       "      <th>Колпино</th>\n",
       "      <td>76,055.20</td>\n",
       "    </tr>\n",
       "    <tr>\n",
       "      <th>Гатчина</th>\n",
       "      <td>68,943.90</td>\n",
       "    </tr>\n",
       "    <tr>\n",
       "      <th>Всеволожск</th>\n",
       "      <td>68,452.88</td>\n",
       "    </tr>\n",
       "    <tr>\n",
       "      <th>Выборг</th>\n",
       "      <td>62,802.12</td>\n",
       "    </tr>\n",
       "  </tbody>\n",
       "</table>\n",
       "</div>"
      ],
      "text/plain": [
       "                   price_met_sqrt\n",
       "locality_name                    \n",
       "Санкт-Петербург        109,670.84\n",
       "Пушкин                 102,047.56\n",
       "деревня Кудрово         95,153.31\n",
       "поселок Парголово       90,494.58\n",
       "поселок Мурино          86,231.58\n",
       "поселок Шушары          78,625.26\n",
       "Колпино                 76,055.20\n",
       "Гатчина                 68,943.90\n",
       "Всеволожск              68,452.88\n",
       "Выборг                  62,802.12"
      ]
     },
     "execution_count": 158,
     "metadata": {},
     "output_type": "execute_result"
    }
   ],
   "source": [
    "(data.loc[data['locality_name']\n",
    "          .isin(data.groupby(by='locality_name')\n",
    "                .count().sort_values(by='rooms', ascending=False)\n",
    "                .head(10).index)]\n",
    " .pivot_table(index='locality_name', values='price_met_sqrt')\n",
    " .sort_values(by='price_met_sqrt', ascending=False))"
   ]
  },
  {
   "cell_type": "markdown",
   "metadata": {},
   "source": [
    "самая высокая средняя стоимость квадратного метра \"в топ-10 по числу обьявлений\" в Санкт-Петербурге, самая низкая в Выборге "
   ]
  },
  {
   "cell_type": "code",
   "execution_count": 159,
   "metadata": {
    "tags": []
   },
   "outputs": [
    {
     "data": {
      "text/html": [
       "<div>\n",
       "<style scoped>\n",
       "    .dataframe tbody tr th:only-of-type {\n",
       "        vertical-align: middle;\n",
       "    }\n",
       "\n",
       "    .dataframe tbody tr th {\n",
       "        vertical-align: top;\n",
       "    }\n",
       "\n",
       "    .dataframe thead th {\n",
       "        text-align: right;\n",
       "    }\n",
       "</style>\n",
       "<table border=\"1\" class=\"dataframe\">\n",
       "  <thead>\n",
       "    <tr style=\"text-align: right;\">\n",
       "      <th></th>\n",
       "      <th>price_met_sqrt</th>\n",
       "    </tr>\n",
       "    <tr>\n",
       "      <th>locality_name</th>\n",
       "      <th></th>\n",
       "    </tr>\n",
       "  </thead>\n",
       "  <tbody>\n",
       "    <tr>\n",
       "      <th>Санкт-Петербург</th>\n",
       "      <td>109,670.84</td>\n",
       "    </tr>\n",
       "    <tr>\n",
       "      <th>Пушкин</th>\n",
       "      <td>102,047.56</td>\n",
       "    </tr>\n",
       "    <tr>\n",
       "      <th>деревня Кудрово</th>\n",
       "      <td>95,153.31</td>\n",
       "    </tr>\n",
       "    <tr>\n",
       "      <th>поселок Парголово</th>\n",
       "      <td>90,494.58</td>\n",
       "    </tr>\n",
       "    <tr>\n",
       "      <th>поселок Мурино</th>\n",
       "      <td>86,231.58</td>\n",
       "    </tr>\n",
       "    <tr>\n",
       "      <th>поселок Шушары</th>\n",
       "      <td>78,625.26</td>\n",
       "    </tr>\n",
       "    <tr>\n",
       "      <th>Колпино</th>\n",
       "      <td>76,055.20</td>\n",
       "    </tr>\n",
       "    <tr>\n",
       "      <th>Гатчина</th>\n",
       "      <td>68,943.90</td>\n",
       "    </tr>\n",
       "    <tr>\n",
       "      <th>Всеволожск</th>\n",
       "      <td>68,452.88</td>\n",
       "    </tr>\n",
       "    <tr>\n",
       "      <th>Выборг</th>\n",
       "      <td>62,802.12</td>\n",
       "    </tr>\n",
       "  </tbody>\n",
       "</table>\n",
       "</div>"
      ],
      "text/plain": [
       "                   price_met_sqrt\n",
       "locality_name                    \n",
       "Санкт-Петербург        109,670.84\n",
       "Пушкин                 102,047.56\n",
       "деревня Кудрово         95,153.31\n",
       "поселок Парголово       90,494.58\n",
       "поселок Мурино          86,231.58\n",
       "поселок Шушары          78,625.26\n",
       "Колпино                 76,055.20\n",
       "Гатчина                 68,943.90\n",
       "Всеволожск              68,452.88\n",
       "Выборг                  62,802.12"
      ]
     },
     "execution_count": 159,
     "metadata": {},
     "output_type": "execute_result"
    }
   ],
   "source": [
    "(data.loc[data['locality_name']\n",
    "          .isin(data.groupby(by='locality_name')\n",
    "                .count().sort_values(by='rooms', ascending=False)\n",
    "                .head(10).index)]\n",
    " .pivot_table(index='locality_name', values='price_met_sqrt')\n",
    " .sort_values(by='price_met_sqrt', ascending=False))"
   ]
  },
  {
   "cell_type": "markdown",
   "metadata": {},
   "source": [
    "#### выделить квартиры в Санкт-Петербурге с помощью столбца и вычислите среднюю цену каждого километра."
   ]
  },
  {
   "cell_type": "code",
   "execution_count": 160,
   "metadata": {},
   "outputs": [
    {
     "data": {
      "text/plain": [
       "<AxesSubplot:xlabel='centers_nearest_km'>"
      ]
     },
     "execution_count": 160,
     "metadata": {},
     "output_type": "execute_result"
    },
    {
     "data": {
      "image/png": "[encoded data removed]",
      "text/plain": [
       "<Figure size 432x288 with 1 Axes>"
      ]
     },
     "metadata": {
      "needs_background": "light"
     },
     "output_type": "display_data"
    },
    {
     "data": {
      "image/png": "[encoded data removed]",
      "text/plain": [
       "<Figure size 432x288 with 1 Axes>"
      ]
     },
     "metadata": {
      "needs_background": "light"
     },
     "output_type": "display_data"
    }
   ],
   "source": [
    "(data.loc[(data['locality_name'] == 'Санкт-Петербург') &\n",
    "         (data['total_area'] <= data.total_area.quantile(0.75)) &\n",
    "         (data['total_area'] >= data.total_area.quantile(0.25))]\n",
    " .pivot_table(index='centers_nearest_km', values='last_price_mill', aggfunc='mean')\n",
    " .sort_values(by='centers_nearest_km').plot(grid=True))\n",
    "\n",
    "(data.loc[(data['locality_name'] == 'Санкт-Петербург') &\n",
    "         (data['total_area'] <= data.total_area.quantile(0.75)) &\n",
    "         (data['total_area'] >= data.total_area.quantile(0.25))]\n",
    " .pivot_table(index='centers_nearest_km', values='price_met_sqrt', aggfunc='mean')\n",
    " .sort_values(by='centers_nearest_km').plot(grid=True))"
   ]
  },
  {
   "cell_type": "code",
   "execution_count": 161,
   "metadata": {},
   "outputs": [
    {
     "data": {
      "text/plain": [
       "<AxesSubplot:xlabel='centers_nearest_km'>"
      ]
     },
     "execution_count": 161,
     "metadata": {},
     "output_type": "execute_result"
    },
    {
     "data": {
      "image/png": "[encoded data removed]",
      "text/plain": [
       "<Figure size 432x288 with 1 Axes>"
      ]
     },
     "metadata": {
      "needs_background": "light"
     },
     "output_type": "display_data"
    },
    {
     "data": {
      "image/png": "[encoded data removed]",
      "text/plain": [
       "<Figure size 432x288 with 1 Axes>"
      ]
     },
     "metadata": {
      "needs_background": "light"
     },
     "output_type": "display_data"
    }
   ],
   "source": [
    "(data.loc[(data['locality_name'] == 'Санкт-Петербург')]\n",
    " .pivot_table(index='centers_nearest_km', values='last_price_mill', aggfunc='mean')\n",
    " .sort_values(by='centers_nearest_km').plot(grid=True))\n",
    "\n",
    "(data.loc[(data['locality_name'] == 'Санкт-Петербург')]\n",
    " .pivot_table(index='centers_nearest_km', values='price_met_sqrt', aggfunc='mean')\n",
    " .sort_values(by='centers_nearest_km').plot(grid=True))"
   ]
  },
  {
   "cell_type": "markdown",
   "metadata": {},
   "source": [
    "по всем данным при удалении от центра, на расстояние около 8 км, общая стоимость и цена за м^2 резко снижается, падение составляет почти 50% от стоимости на 0 км. \n",
    "резкий рост на отметке 27км может говорить наличии \"элитного\" жилого комплекса, где цена выше. "
   ]
  },
  {
   "cell_type": "markdown",
   "metadata": {},
   "source": [
    "по данным на межквартильном размахе, при удалении от центра, на расстояние около 8 км, общая стоимость и цена за м^2 резко снижается, падение составляет почти на 35% от стоимости на 0 км."
   ]
  },
  {
   "cell_type": "markdown",
   "metadata": {},
   "source": [
    "#### краткий вывод:\n",
    "- - рассмотрены и описаны следующие параметры: - общая площадь; - жилая площадь; - площадь кухни; - цена объекта; - количество комнат; - высота потолков; - этаж квартиры; - тип этажа квартиры («первый», «последний», «другой»); - общее количество этажей в доме; - расстояние до центра города в метрах; - расстояние до ближайшего аэропорта; - расстояние до ближайшего парка; - день и месяц публикации объявления, построены гистограммы для каждого параметра\n",
    "- - рассмотрено, как быстро продавались квартиры\n",
    "- - - построины гистограммы.\n",
    "- - - посчитаны среднее и медиана.\n",
    "- - - описано, сколько обычно занимает продажа. Какие продажи можно считать быстрыми, а какие — необычно долгими.\n",
    "- - рассмотрены факторы больше всего влияющие на общую (полную) стоимость объекта.\n",
    "- - - построины графики, которые показывают зависимость цены от указанных ниже параметров:\n",
    "- - - - общей площади; \n",
    "- - - - жилой площади; \n",
    "- - - - площади кухни; \n",
    "- - - - количество комнат; \n",
    "- - - - типа этажа, на котором расположена квартира (первый, последний, другой);\n",
    "- - - -  даты размещения (день недели, месяц, год);\n",
    "- - посчитана средняя цена одного квадратного метра в 10 населённых пунктах с наибольшим числом объявлений. Выделены населённые пункты с самой высокой и низкой стоимостью квадратного метра.\n",
    "- - выделены квартиры в Санкт-Петербурге и вычислена средняя цена каждого километра. Описано, как стоимость объектов зависит от расстояния до центра города.\n"
   ]
  },
  {
   "cell_type": "markdown",
   "metadata": {},
   "source": [
    "### Общий вывод"
   ]
  },
  {
   "cell_type": "markdown",
   "metadata": {},
   "source": [
    "- в ходе изучения данных, были обнаружены пропуски в данных, рассмотрены используемые типы данных в таблице\n",
    "- в процессе предобработки данных были заменены пропуски, исправлены некоректные названия и удалены явно мусорные данные\n",
    "- - востановлены значения в некоторых полях\n",
    "- - изменены типы данных в столбцах, где это было необходимо:\n",
    "- - - airports_nearest, city_centers_nearest, parks_around3000, parks_nearest, ponds_around3000, ponds_nearest, days_exposition, balcony, floors_total, last_price, is_apartment\n",
    "- - устранены неявные дубликаты в названиях населённых пунктов\n",
    "- также было посчитано и добавлено в таблицу: цена одного квадратного метра\n",
    "- посчитано и добавлено в таблицу: день публикации объявления (0 - понедельник, 1 - вторник и т.д.)\n",
    "- посчитано и добавлено в таблицу: месяц публикации объявления\n",
    "- посчитано и добавлено в таблицу: год публикации объявления\n",
    "- посчитано и добавлено в таблицу: тип этажа квартиры (значения — «первый», «последний», «другой»)\n",
    "- посчитано и добавлено в таблицу: расстояние в км до центра города\n",
    "\n",
    "\n",
    "в ходе иссдедовательского анализа данных было выяснено, что:\n",
    "- основная часть данных по общей площади находится в диапозоне значений от 40 до 69. резий рост предложений начинается от 30м^2 резкий спад отмечается в районе 75м^2. предложения свыше 180 носят единичный характер.\n",
    "- похожее распределение демонситрирует и жилая площадь, за исключением провала в районе от 20 до 26м^2 и миеет смещение влево. основная часть данных находится в диапозоне значений от 19 до 41м^2. \n",
    "- гистограма площади кухонь выглядит аналогично гистограммам общей и жилой площади. смещенная влево, с явным пиком в районе медианы, половина всех значений находится в районе 7-11,5м^2\n",
    "- гистограмма распределения цены обьекта предстовляет из себя почти номальное распределение, немного смещенное влево. с плечами в районе 2,5 и 5 и пиком в районе 4 млн \n",
    "- 1, 2 и 3 комнатные квартиры занимают большую долю среди всех обьектов\n",
    "- основная часть обьектов недвижимости имеют высоту потолка в районе 2,6 метра\n",
    "- 5-ти и  9-ти этахные дома являются самыми многочисленными на рынке, доля 12-ти и 16-ти этажных домов одинаковы\n",
    "- основная часть обьектов недвижимости расположена на удалении до 20км от центра города до 35-40км от аэропорта\n",
    "- большая часть обьектов недвижимости, для которой установлено местоположение находится на растоянии от 200 до 600 метров от парка\n",
    "в ходе изучения времени продажи квартир обнаружено:\n",
    "- необычно долгими можно назвать максимальные значения от 1.580 дней примерно до года\n",
    "- среднее время продажи занимает до 60 дней, необычайно быстрая продажа квартир (не учитывая снятые в день постановки) это в районе 10 дней\n",
    "факторы больше всего влияющие на общую (полную) стоимость объекта:\n",
    "- зависимость цены от общей площади - прямая положительная, тут отмечается наибольшая зависимость от всей группы корреляция равна 0,71\n",
    "- зависимость цены от жилой площади - прямая положительная, корреляция равна 0,57\n",
    "- зависимость цены от площади кухни - прямая положительная, корреляция равна 0,54\n",
    "- зависимость цены от числа комнат - прямая положительная, корреляция равна 0,41\n",
    "- самая низкая стоимость на первом этаже \n",
    "- в среднем обьявления с самой большой стоимостью появляются в мае и сентябре и занесены в базу в начале недели. с самой низкой в июне и в субботу\n",
    "- с 2014 по 2018 год отмечается падение общей стоимости жилья почти в 2 раза. \n",
    "в ходе подсчета средней стоимости одного квадратного метра в 10 населённых пунктах с наибольшим числом объявлений было выяснено, что самая высокая средняя стоимость квадратного метра \"в топ-10 по числу обьявлений\" в Санкт-Петербурге, самая низкая в Выборге \n",
    "\n",
    "при выделении квартир в Санкт-Петербурге и вычисления средней стоимости каждого километра обнаружено:\n",
    "- по всем данным, при удалении от центра, на расстояние около 8 км, общая стоимость и цена за м^2 резко снижается, падение составляет почти 50% от стоимости на 0 км.\n",
    "- резкий рост на отметке 27км может говорить наличии \"элитного\" жилого комплекса, где стоимость м^2 выше.\n",
    "- по данным на межквартильном размахе, при удалении от центра, на расстояние около 8 км, общая стоимость и цена за м^2 резко снижается, падение составляет почти на 35% от стоимости на 0 км. стоимость на расстоянии примерно 27-28км резко снижается, что может говорить о том, что там могут находится обьекты недвижимости не входящие в выборку \n"
   ]
  }
 ],
 "metadata": {
  "ExecuteTimeLog": [
   {
    "duration": 453,
    "start_time": "2023-02-26T21:19:46.894Z"
   },
   {
    "duration": 200,
    "start_time": "2023-02-26T21:19:47.348Z"
   },
   {
    "duration": 31,
    "start_time": "2023-02-26T21:19:47.550Z"
   },
   {
    "duration": 23,
    "start_time": "2023-02-26T21:19:47.583Z"
   },
   {
    "duration": 40,
    "start_time": "2023-02-26T21:19:47.608Z"
   },
   {
    "duration": 12,
    "start_time": "2023-02-26T21:19:47.650Z"
   },
   {
    "duration": 1825,
    "start_time": "2023-02-26T21:19:47.663Z"
   },
   {
    "duration": 7,
    "start_time": "2023-02-26T21:19:49.490Z"
   },
   {
    "duration": 10,
    "start_time": "2023-02-26T21:19:49.499Z"
   },
   {
    "duration": 25,
    "start_time": "2023-02-26T21:19:49.512Z"
   },
   {
    "duration": 4,
    "start_time": "2023-02-26T21:19:49.539Z"
   },
   {
    "duration": 7,
    "start_time": "2023-02-26T21:19:49.545Z"
   },
   {
    "duration": 7,
    "start_time": "2023-02-26T21:19:49.554Z"
   },
   {
    "duration": 3,
    "start_time": "2023-02-26T21:19:49.562Z"
   },
   {
    "duration": 111,
    "start_time": "2023-02-26T21:19:49.567Z"
   },
   {
    "duration": 10,
    "start_time": "2023-02-26T21:19:49.680Z"
   },
   {
    "duration": 6,
    "start_time": "2023-02-26T21:19:49.692Z"
   },
   {
    "duration": 9,
    "start_time": "2023-02-26T21:19:49.699Z"
   },
   {
    "duration": 29,
    "start_time": "2023-02-26T21:19:49.709Z"
   },
   {
    "duration": 3,
    "start_time": "2023-02-26T21:19:49.740Z"
   },
   {
    "duration": 9,
    "start_time": "2023-02-26T21:19:49.745Z"
   },
   {
    "duration": 4,
    "start_time": "2023-02-26T21:19:49.756Z"
   },
   {
    "duration": 6,
    "start_time": "2023-02-26T21:19:49.762Z"
   },
   {
    "duration": 13,
    "start_time": "2023-02-26T21:19:49.770Z"
   },
   {
    "duration": 109,
    "start_time": "2023-02-26T21:19:49.784Z"
   },
   {
    "duration": 6,
    "start_time": "2023-02-26T21:19:49.895Z"
   },
   {
    "duration": 6,
    "start_time": "2023-02-26T21:19:49.903Z"
   },
   {
    "duration": 24,
    "start_time": "2023-02-26T21:19:49.913Z"
   },
   {
    "duration": 10,
    "start_time": "2023-02-26T21:19:49.939Z"
   },
   {
    "duration": 12,
    "start_time": "2023-02-26T21:19:49.950Z"
   },
   {
    "duration": 10,
    "start_time": "2023-02-26T21:19:49.963Z"
   },
   {
    "duration": 40,
    "start_time": "2023-02-26T21:19:49.974Z"
   },
   {
    "duration": 9,
    "start_time": "2023-02-26T21:19:50.036Z"
   },
   {
    "duration": 6,
    "start_time": "2023-02-26T21:19:50.047Z"
   },
   {
    "duration": 12,
    "start_time": "2023-02-26T21:19:50.054Z"
   },
   {
    "duration": 15,
    "start_time": "2023-02-26T21:19:50.068Z"
   },
   {
    "duration": 4,
    "start_time": "2023-02-26T21:19:50.085Z"
   },
   {
    "duration": 573,
    "start_time": "2023-02-26T21:19:50.091Z"
   },
   {
    "duration": 5,
    "start_time": "2023-02-26T21:19:50.665Z"
   },
   {
    "duration": 15,
    "start_time": "2023-02-26T21:19:50.672Z"
   },
   {
    "duration": 12,
    "start_time": "2023-02-26T21:19:50.689Z"
   },
   {
    "duration": 22,
    "start_time": "2023-02-26T21:19:50.703Z"
   },
   {
    "duration": 16,
    "start_time": "2023-02-26T21:19:50.727Z"
   },
   {
    "duration": 13,
    "start_time": "2023-02-26T21:19:50.745Z"
   },
   {
    "duration": 17,
    "start_time": "2023-02-26T21:19:50.760Z"
   },
   {
    "duration": 4,
    "start_time": "2023-02-26T21:19:50.779Z"
   },
   {
    "duration": 12,
    "start_time": "2023-02-26T21:19:50.786Z"
   },
   {
    "duration": 6,
    "start_time": "2023-02-26T21:19:50.800Z"
   },
   {
    "duration": 11,
    "start_time": "2023-02-26T21:19:50.808Z"
   },
   {
    "duration": 20,
    "start_time": "2023-02-26T21:19:50.821Z"
   },
   {
    "duration": 14,
    "start_time": "2023-02-26T21:19:50.842Z"
   },
   {
    "duration": 9,
    "start_time": "2023-02-26T21:19:50.858Z"
   },
   {
    "duration": 5,
    "start_time": "2023-02-26T21:19:50.869Z"
   },
   {
    "duration": 5,
    "start_time": "2023-02-26T21:19:50.876Z"
   },
   {
    "duration": 5,
    "start_time": "2023-02-26T21:19:50.883Z"
   },
   {
    "duration": 7,
    "start_time": "2023-02-26T21:19:50.889Z"
   },
   {
    "duration": 481,
    "start_time": "2023-02-26T21:19:50.897Z"
   },
   {
    "duration": 5,
    "start_time": "2023-02-26T21:19:51.380Z"
   },
   {
    "duration": 31,
    "start_time": "2023-02-26T21:19:51.386Z"
   },
   {
    "duration": 38,
    "start_time": "2023-02-26T21:19:51.419Z"
   },
   {
    "duration": 13,
    "start_time": "2023-02-26T21:19:51.460Z"
   },
   {
    "duration": 3,
    "start_time": "2023-02-26T21:19:51.475Z"
   },
   {
    "duration": 204,
    "start_time": "2023-02-26T21:19:51.480Z"
   },
   {
    "duration": 4,
    "start_time": "2023-02-26T21:19:51.686Z"
   },
   {
    "duration": 12,
    "start_time": "2023-02-26T21:19:51.692Z"
   },
   {
    "duration": 17,
    "start_time": "2023-02-26T21:19:51.705Z"
   },
   {
    "duration": 11,
    "start_time": "2023-02-26T21:19:51.724Z"
   },
   {
    "duration": 11,
    "start_time": "2023-02-26T21:19:51.737Z"
   },
   {
    "duration": 113,
    "start_time": "2023-02-26T21:19:51.750Z"
   },
   {
    "duration": 10,
    "start_time": "2023-02-26T21:19:51.865Z"
   },
   {
    "duration": 14,
    "start_time": "2023-02-26T21:19:51.877Z"
   },
   {
    "duration": 129,
    "start_time": "2023-02-26T21:19:51.893Z"
   },
   {
    "duration": 15,
    "start_time": "2023-02-26T21:19:52.023Z"
   },
   {
    "duration": 9,
    "start_time": "2023-02-26T21:19:52.039Z"
   },
   {
    "duration": 12,
    "start_time": "2023-02-26T21:19:52.049Z"
   },
   {
    "duration": 125,
    "start_time": "2023-02-26T21:19:52.063Z"
   },
   {
    "duration": 3,
    "start_time": "2023-02-26T21:19:52.190Z"
   },
   {
    "duration": 12,
    "start_time": "2023-02-26T21:19:52.194Z"
   },
   {
    "duration": 102,
    "start_time": "2023-02-26T21:19:52.208Z"
   },
   {
    "duration": 7,
    "start_time": "2023-02-26T21:19:52.312Z"
   },
   {
    "duration": 40,
    "start_time": "2023-02-26T21:19:52.321Z"
   },
   {
    "duration": 7,
    "start_time": "2023-02-26T21:19:52.454Z"
   },
   {
    "duration": 21,
    "start_time": "2023-02-26T21:19:52.463Z"
   },
   {
    "duration": 15,
    "start_time": "2023-02-26T21:19:52.489Z"
   },
   {
    "duration": 27,
    "start_time": "2023-02-26T21:19:52.506Z"
   },
   {
    "duration": 6,
    "start_time": "2023-02-26T21:19:52.536Z"
   },
   {
    "duration": 18,
    "start_time": "2023-02-26T21:19:52.544Z"
   },
   {
    "duration": 11,
    "start_time": "2023-02-26T21:19:52.564Z"
   },
   {
    "duration": 7,
    "start_time": "2023-02-26T21:19:52.577Z"
   },
   {
    "duration": 9,
    "start_time": "2023-02-26T21:19:52.586Z"
   },
   {
    "duration": 149,
    "start_time": "2023-02-26T21:19:52.597Z"
   },
   {
    "duration": 5,
    "start_time": "2023-02-26T21:19:52.747Z"
   },
   {
    "duration": 10,
    "start_time": "2023-02-26T21:19:52.753Z"
   },
   {
    "duration": 110,
    "start_time": "2023-02-26T21:19:52.764Z"
   },
   {
    "duration": 9,
    "start_time": "2023-02-26T21:19:52.876Z"
   },
   {
    "duration": 4,
    "start_time": "2023-02-26T21:19:52.887Z"
   },
   {
    "duration": 9,
    "start_time": "2023-02-26T21:19:52.893Z"
   },
   {
    "duration": 122,
    "start_time": "2023-02-26T21:19:52.903Z"
   },
   {
    "duration": 202,
    "start_time": "2023-02-26T21:19:53.027Z"
   },
   {
    "duration": 9,
    "start_time": "2023-02-26T21:19:53.237Z"
   },
   {
    "duration": 4,
    "start_time": "2023-02-26T21:19:53.247Z"
   },
   {
    "duration": 7,
    "start_time": "2023-02-26T21:19:53.253Z"
   },
   {
    "duration": 11,
    "start_time": "2023-02-26T21:19:53.261Z"
   },
   {
    "duration": 11,
    "start_time": "2023-02-26T21:19:53.274Z"
   },
   {
    "duration": 3,
    "start_time": "2023-02-26T21:19:53.287Z"
   },
   {
    "duration": 12,
    "start_time": "2023-02-26T21:19:53.291Z"
   },
   {
    "duration": 11,
    "start_time": "2023-02-26T21:19:53.304Z"
   },
   {
    "duration": 31,
    "start_time": "2023-02-26T21:19:53.316Z"
   },
   {
    "duration": 14,
    "start_time": "2023-02-26T21:19:53.349Z"
   },
   {
    "duration": 5,
    "start_time": "2023-02-26T21:19:53.365Z"
   },
   {
    "duration": 24,
    "start_time": "2023-02-26T21:19:53.371Z"
   },
   {
    "duration": 8,
    "start_time": "2023-02-26T21:19:53.396Z"
   },
   {
    "duration": 14,
    "start_time": "2023-02-26T21:19:53.405Z"
   },
   {
    "duration": 17,
    "start_time": "2023-02-26T21:19:53.421Z"
   },
   {
    "duration": 10,
    "start_time": "2023-02-26T21:19:53.439Z"
   },
   {
    "duration": 925,
    "start_time": "2023-02-26T21:19:53.450Z"
   },
   {
    "duration": 5,
    "start_time": "2023-02-26T21:19:54.377Z"
   },
   {
    "duration": 5,
    "start_time": "2023-02-26T21:19:54.384Z"
   },
   {
    "duration": 9,
    "start_time": "2023-02-26T21:19:54.391Z"
   },
   {
    "duration": 4,
    "start_time": "2023-02-26T21:19:54.402Z"
   },
   {
    "duration": 1040,
    "start_time": "2023-02-26T21:19:54.408Z"
   },
   {
    "duration": 10,
    "start_time": "2023-02-26T21:19:55.449Z"
   },
   {
    "duration": 39,
    "start_time": "2023-02-26T21:19:55.460Z"
   },
   {
    "duration": 251,
    "start_time": "2023-02-26T21:19:55.501Z"
   },
   {
    "duration": 9,
    "start_time": "2023-02-26T21:19:55.753Z"
   },
   {
    "duration": 8,
    "start_time": "2023-02-26T21:19:55.763Z"
   },
   {
    "duration": 199,
    "start_time": "2023-02-26T21:19:55.772Z"
   },
   {
    "duration": 8,
    "start_time": "2023-02-26T21:19:55.972Z"
   },
   {
    "duration": 207,
    "start_time": "2023-02-26T21:19:55.981Z"
   },
   {
    "duration": 150,
    "start_time": "2023-02-26T21:19:56.189Z"
   },
   {
    "duration": 137,
    "start_time": "2023-02-26T21:19:56.341Z"
   },
   {
    "duration": 228,
    "start_time": "2023-02-26T21:19:56.480Z"
   },
   {
    "duration": 113,
    "start_time": "2023-02-26T21:19:56.710Z"
   },
   {
    "duration": 168,
    "start_time": "2023-02-26T21:19:56.825Z"
   },
   {
    "duration": 170,
    "start_time": "2023-02-26T21:19:56.994Z"
   },
   {
    "duration": 172,
    "start_time": "2023-02-26T21:19:57.165Z"
   },
   {
    "duration": 9,
    "start_time": "2023-02-26T21:19:57.338Z"
   },
   {
    "duration": 339,
    "start_time": "2023-02-26T21:19:57.349Z"
   },
   {
    "duration": 4,
    "start_time": "2023-02-26T21:19:57.690Z"
   },
   {
    "duration": 6,
    "start_time": "2023-02-26T21:19:57.696Z"
   },
   {
    "duration": 5,
    "start_time": "2023-02-26T21:19:57.703Z"
   },
   {
    "duration": 1871,
    "start_time": "2023-02-26T21:19:57.709Z"
   },
   {
    "duration": 6,
    "start_time": "2023-02-26T21:19:59.582Z"
   },
   {
    "duration": 1466,
    "start_time": "2023-02-26T21:19:59.590Z"
   },
   {
    "duration": 5,
    "start_time": "2023-02-26T21:20:01.057Z"
   },
   {
    "duration": 1454,
    "start_time": "2023-02-26T21:20:01.064Z"
   },
   {
    "duration": 18,
    "start_time": "2023-02-26T21:20:02.521Z"
   },
   {
    "duration": 1355,
    "start_time": "2023-02-26T21:20:02.541Z"
   },
   {
    "duration": 130,
    "start_time": "2023-02-26T21:20:03.897Z"
   },
   {
    "duration": 428,
    "start_time": "2023-02-26T21:20:04.028Z"
   },
   {
    "duration": 28,
    "start_time": "2023-02-26T21:20:04.457Z"
   },
   {
    "duration": 280,
    "start_time": "2023-02-26T21:20:04.486Z"
   },
   {
    "duration": 389,
    "start_time": "2023-02-26T21:20:04.768Z"
   },
   {
    "duration": 14,
    "start_time": "2023-02-26T21:20:05.159Z"
   },
   {
    "duration": 453,
    "start_time": "2023-02-27T13:31:27.393Z"
   },
   {
    "duration": 2277,
    "start_time": "2023-02-27T13:31:28.148Z"
   },
   {
    "duration": 7,
    "start_time": "2023-02-27T13:31:30.427Z"
   },
   {
    "duration": 63,
    "start_time": "2023-02-27T13:31:30.435Z"
   },
   {
    "duration": 40,
    "start_time": "2023-02-27T13:31:30.500Z"
   },
   {
    "duration": 32,
    "start_time": "2023-02-27T13:31:30.542Z"
   },
   {
    "duration": 54,
    "start_time": "2023-02-27T13:31:30.576Z"
   },
   {
    "duration": 32,
    "start_time": "2023-02-27T13:31:30.632Z"
   },
   {
    "duration": 38,
    "start_time": "2023-02-27T13:31:30.666Z"
   },
   {
    "duration": 151,
    "start_time": "2023-02-27T13:31:30.705Z"
   },
   {
    "duration": 12,
    "start_time": "2023-02-27T13:31:30.858Z"
   },
   {
    "duration": 40,
    "start_time": "2023-02-27T13:31:30.872Z"
   },
   {
    "duration": 63,
    "start_time": "2023-02-27T13:31:30.913Z"
   },
   {
    "duration": 42,
    "start_time": "2023-02-27T13:31:30.978Z"
   },
   {
    "duration": 41,
    "start_time": "2023-02-27T13:31:31.022Z"
   },
   {
    "duration": 55,
    "start_time": "2023-02-27T13:31:31.065Z"
   },
   {
    "duration": 27,
    "start_time": "2023-02-27T13:31:31.122Z"
   },
   {
    "duration": 24,
    "start_time": "2023-02-27T13:31:31.151Z"
   },
   {
    "duration": 25,
    "start_time": "2023-02-27T13:31:31.177Z"
   },
   {
    "duration": 134,
    "start_time": "2023-02-27T13:31:31.205Z"
   },
   {
    "duration": 8,
    "start_time": "2023-02-27T13:31:31.341Z"
   },
   {
    "duration": 20,
    "start_time": "2023-02-27T13:31:31.350Z"
   },
   {
    "duration": 22,
    "start_time": "2023-02-27T13:31:31.372Z"
   },
   {
    "duration": 33,
    "start_time": "2023-02-27T13:31:31.396Z"
   },
   {
    "duration": 24,
    "start_time": "2023-02-27T13:31:31.431Z"
   },
   {
    "duration": 15,
    "start_time": "2023-02-27T13:31:31.457Z"
   },
   {
    "duration": 52,
    "start_time": "2023-02-27T13:31:31.473Z"
   },
   {
    "duration": 6,
    "start_time": "2023-02-27T13:31:31.527Z"
   },
   {
    "duration": 16,
    "start_time": "2023-02-27T13:31:31.534Z"
   },
   {
    "duration": 31,
    "start_time": "2023-02-27T13:31:31.551Z"
   },
   {
    "duration": 15,
    "start_time": "2023-02-27T13:31:31.584Z"
   },
   {
    "duration": 27,
    "start_time": "2023-02-27T13:31:31.600Z"
   },
   {
    "duration": 548,
    "start_time": "2023-02-27T13:31:31.629Z"
   },
   {
    "duration": 5,
    "start_time": "2023-02-27T13:31:32.179Z"
   },
   {
    "duration": 25,
    "start_time": "2023-02-27T13:31:32.185Z"
   },
   {
    "duration": 4,
    "start_time": "2023-02-27T13:31:32.217Z"
   },
   {
    "duration": 12,
    "start_time": "2023-02-27T13:31:32.223Z"
   },
   {
    "duration": 8,
    "start_time": "2023-02-27T13:31:32.236Z"
   },
   {
    "duration": 5,
    "start_time": "2023-02-27T13:31:32.246Z"
   },
   {
    "duration": 15,
    "start_time": "2023-02-27T13:31:32.253Z"
   },
   {
    "duration": 4,
    "start_time": "2023-02-27T13:31:32.269Z"
   },
   {
    "duration": 29,
    "start_time": "2023-02-27T13:31:32.274Z"
   },
   {
    "duration": 5,
    "start_time": "2023-02-27T13:31:32.305Z"
   },
   {
    "duration": 25,
    "start_time": "2023-02-27T13:31:32.312Z"
   },
   {
    "duration": 5,
    "start_time": "2023-02-27T13:31:32.339Z"
   },
   {
    "duration": 20,
    "start_time": "2023-02-27T13:31:32.345Z"
   },
   {
    "duration": 8,
    "start_time": "2023-02-27T13:31:32.367Z"
   },
   {
    "duration": 4,
    "start_time": "2023-02-27T13:31:32.377Z"
   },
   {
    "duration": 23,
    "start_time": "2023-02-27T13:31:32.382Z"
   },
   {
    "duration": 9,
    "start_time": "2023-02-27T13:31:32.406Z"
   },
   {
    "duration": 7,
    "start_time": "2023-02-27T13:31:32.416Z"
   },
   {
    "duration": 554,
    "start_time": "2023-02-27T13:31:32.424Z"
   },
   {
    "duration": 6,
    "start_time": "2023-02-27T13:31:32.980Z"
   },
   {
    "duration": 54,
    "start_time": "2023-02-27T13:31:32.988Z"
   },
   {
    "duration": 22,
    "start_time": "2023-02-27T13:31:33.044Z"
   },
   {
    "duration": 15,
    "start_time": "2023-02-27T13:31:33.068Z"
   },
   {
    "duration": 4,
    "start_time": "2023-02-27T13:31:33.085Z"
   },
   {
    "duration": 218,
    "start_time": "2023-02-27T13:31:33.104Z"
   },
   {
    "duration": 3,
    "start_time": "2023-02-27T13:31:33.324Z"
   },
   {
    "duration": 8,
    "start_time": "2023-02-27T13:31:33.328Z"
   },
   {
    "duration": 6,
    "start_time": "2023-02-27T13:31:33.338Z"
   },
   {
    "duration": 18,
    "start_time": "2023-02-27T13:31:33.346Z"
   },
   {
    "duration": 20,
    "start_time": "2023-02-27T13:31:33.366Z"
   },
   {
    "duration": 116,
    "start_time": "2023-02-27T13:31:33.388Z"
   },
   {
    "duration": 13,
    "start_time": "2023-02-27T13:31:33.506Z"
   },
   {
    "duration": 7,
    "start_time": "2023-02-27T13:31:33.521Z"
   },
   {
    "duration": 122,
    "start_time": "2023-02-27T13:31:33.530Z"
   },
   {
    "duration": 3,
    "start_time": "2023-02-27T13:31:33.653Z"
   },
   {
    "duration": 10,
    "start_time": "2023-02-27T13:31:33.658Z"
   },
   {
    "duration": 9,
    "start_time": "2023-02-27T13:31:33.670Z"
   },
   {
    "duration": 131,
    "start_time": "2023-02-27T13:31:33.680Z"
   },
   {
    "duration": 6,
    "start_time": "2023-02-27T13:31:33.812Z"
   },
   {
    "duration": 16,
    "start_time": "2023-02-27T13:31:33.820Z"
   },
   {
    "duration": 193,
    "start_time": "2023-02-27T13:31:33.838Z"
   },
   {
    "duration": 6,
    "start_time": "2023-02-27T13:31:34.033Z"
   },
   {
    "duration": 45,
    "start_time": "2023-02-27T13:31:34.041Z"
   },
   {
    "duration": 17,
    "start_time": "2023-02-27T13:31:34.088Z"
   },
   {
    "duration": 25,
    "start_time": "2023-02-27T13:31:34.107Z"
   },
   {
    "duration": 38,
    "start_time": "2023-02-27T13:31:34.135Z"
   },
   {
    "duration": 35,
    "start_time": "2023-02-27T13:31:34.176Z"
   },
   {
    "duration": 24,
    "start_time": "2023-02-27T13:31:34.213Z"
   },
   {
    "duration": 28,
    "start_time": "2023-02-27T13:31:34.239Z"
   },
   {
    "duration": 16,
    "start_time": "2023-02-27T13:31:34.269Z"
   },
   {
    "duration": 13,
    "start_time": "2023-02-27T13:31:34.288Z"
   },
   {
    "duration": 38,
    "start_time": "2023-02-27T13:31:34.302Z"
   },
   {
    "duration": 125,
    "start_time": "2023-02-27T13:31:34.342Z"
   },
   {
    "duration": 4,
    "start_time": "2023-02-27T13:31:34.469Z"
   },
   {
    "duration": 21,
    "start_time": "2023-02-27T13:31:34.475Z"
   },
   {
    "duration": 118,
    "start_time": "2023-02-27T13:31:34.503Z"
   },
   {
    "duration": 8,
    "start_time": "2023-02-27T13:31:34.623Z"
   },
   {
    "duration": 6,
    "start_time": "2023-02-27T13:31:34.633Z"
   },
   {
    "duration": 4,
    "start_time": "2023-02-27T13:31:34.641Z"
   },
   {
    "duration": 135,
    "start_time": "2023-02-27T13:31:34.647Z"
   },
   {
    "duration": 229,
    "start_time": "2023-02-27T13:31:34.783Z"
   },
   {
    "duration": 9,
    "start_time": "2023-02-27T13:31:35.015Z"
   },
   {
    "duration": 4,
    "start_time": "2023-02-27T13:31:35.026Z"
   },
   {
    "duration": 6,
    "start_time": "2023-02-27T13:31:35.032Z"
   },
   {
    "duration": 8,
    "start_time": "2023-02-27T13:31:35.040Z"
   },
   {
    "duration": 12,
    "start_time": "2023-02-27T13:31:35.050Z"
   },
   {
    "duration": 4,
    "start_time": "2023-02-27T13:31:35.064Z"
   },
   {
    "duration": 36,
    "start_time": "2023-02-27T13:31:35.070Z"
   },
   {
    "duration": 17,
    "start_time": "2023-02-27T13:31:35.108Z"
   },
   {
    "duration": 6,
    "start_time": "2023-02-27T13:31:35.127Z"
   },
   {
    "duration": 13,
    "start_time": "2023-02-27T13:31:35.134Z"
   },
   {
    "duration": 6,
    "start_time": "2023-02-27T13:31:35.149Z"
   },
   {
    "duration": 26,
    "start_time": "2023-02-27T13:31:35.157Z"
   },
   {
    "duration": 30,
    "start_time": "2023-02-27T13:31:35.185Z"
   },
   {
    "duration": 23,
    "start_time": "2023-02-27T13:31:35.217Z"
   },
   {
    "duration": 4,
    "start_time": "2023-02-27T13:31:35.242Z"
   },
   {
    "duration": 12,
    "start_time": "2023-02-27T13:31:35.247Z"
   },
   {
    "duration": 1130,
    "start_time": "2023-02-27T13:31:35.261Z"
   },
   {
    "duration": 10,
    "start_time": "2023-02-27T13:31:36.393Z"
   },
   {
    "duration": 23,
    "start_time": "2023-02-27T13:31:36.404Z"
   },
   {
    "duration": 110,
    "start_time": "2023-02-27T13:31:36.428Z"
   },
   {
    "duration": 3,
    "start_time": "2023-02-27T13:31:36.540Z"
   },
   {
    "duration": 1111,
    "start_time": "2023-02-27T13:31:36.544Z"
   },
   {
    "duration": 10,
    "start_time": "2023-02-27T13:31:37.662Z"
   },
   {
    "duration": 13,
    "start_time": "2023-02-27T13:31:37.674Z"
   },
   {
    "duration": 289,
    "start_time": "2023-02-27T13:31:37.689Z"
   },
   {
    "duration": 8,
    "start_time": "2023-02-27T13:31:37.979Z"
   },
   {
    "duration": 21,
    "start_time": "2023-02-27T13:31:37.989Z"
   },
   {
    "duration": 211,
    "start_time": "2023-02-27T13:31:38.011Z"
   },
   {
    "duration": 9,
    "start_time": "2023-02-27T13:31:38.223Z"
   },
   {
    "duration": 242,
    "start_time": "2023-02-27T13:31:38.233Z"
   },
   {
    "duration": 164,
    "start_time": "2023-02-27T13:31:38.477Z"
   },
   {
    "duration": 155,
    "start_time": "2023-02-27T13:31:38.643Z"
   },
   {
    "duration": 269,
    "start_time": "2023-02-27T13:31:38.800Z"
   },
   {
    "duration": 140,
    "start_time": "2023-02-27T13:31:39.070Z"
   },
   {
    "duration": 273,
    "start_time": "2023-02-27T13:31:39.212Z"
   },
   {
    "duration": 178,
    "start_time": "2023-02-27T13:31:39.486Z"
   },
   {
    "duration": 179,
    "start_time": "2023-02-27T13:31:39.666Z"
   },
   {
    "duration": 8,
    "start_time": "2023-02-27T13:31:39.847Z"
   },
   {
    "duration": 251,
    "start_time": "2023-02-27T13:31:39.856Z"
   },
   {
    "duration": 10,
    "start_time": "2023-02-27T13:31:40.109Z"
   },
   {
    "duration": 9,
    "start_time": "2023-02-27T13:31:40.121Z"
   },
   {
    "duration": 16,
    "start_time": "2023-02-27T13:31:40.132Z"
   },
   {
    "duration": 2088,
    "start_time": "2023-02-27T13:31:40.150Z"
   },
   {
    "duration": 5,
    "start_time": "2023-02-27T13:31:42.240Z"
   },
   {
    "duration": 1549,
    "start_time": "2023-02-27T13:31:42.246Z"
   },
   {
    "duration": 10,
    "start_time": "2023-02-27T13:31:43.796Z"
   },
   {
    "duration": 1633,
    "start_time": "2023-02-27T13:31:43.808Z"
   },
   {
    "duration": 5,
    "start_time": "2023-02-27T13:31:45.443Z"
   },
   {
    "duration": 1587,
    "start_time": "2023-02-27T13:31:45.450Z"
   },
   {
    "duration": 318,
    "start_time": "2023-02-27T13:31:47.038Z"
   },
   {
    "duration": 521,
    "start_time": "2023-02-27T13:31:47.358Z"
   },
   {
    "duration": 45,
    "start_time": "2023-02-27T13:31:47.881Z"
   },
   {
    "duration": 325,
    "start_time": "2023-02-27T13:31:47.928Z"
   },
   {
    "duration": 338,
    "start_time": "2023-02-27T13:31:48.255Z"
   },
   {
    "duration": 24,
    "start_time": "2023-02-27T13:31:48.595Z"
   },
   {
    "duration": 423,
    "start_time": "2023-02-27T13:32:13.432Z"
   },
   {
    "duration": 206,
    "start_time": "2023-02-27T13:32:13.857Z"
   },
   {
    "duration": 49,
    "start_time": "2023-02-27T13:32:14.065Z"
   },
   {
    "duration": 31,
    "start_time": "2023-02-27T13:32:14.116Z"
   },
   {
    "duration": 18,
    "start_time": "2023-02-27T13:32:14.150Z"
   },
   {
    "duration": 41,
    "start_time": "2023-02-27T13:32:14.170Z"
   },
   {
    "duration": 2063,
    "start_time": "2023-02-27T13:32:14.214Z"
   },
   {
    "duration": 6,
    "start_time": "2023-02-27T13:32:16.279Z"
   },
   {
    "duration": 20,
    "start_time": "2023-02-27T13:32:16.286Z"
   },
   {
    "duration": 7,
    "start_time": "2023-02-27T13:32:16.310Z"
   },
   {
    "duration": 12,
    "start_time": "2023-02-27T13:32:16.319Z"
   },
   {
    "duration": 17,
    "start_time": "2023-02-27T13:32:16.333Z"
   },
   {
    "duration": 11,
    "start_time": "2023-02-27T13:32:16.352Z"
   },
   {
    "duration": 4,
    "start_time": "2023-02-27T13:32:16.364Z"
   },
   {
    "duration": 100,
    "start_time": "2023-02-27T13:32:16.369Z"
   },
   {
    "duration": 8,
    "start_time": "2023-02-27T13:32:16.471Z"
   },
   {
    "duration": 5,
    "start_time": "2023-02-27T13:32:16.481Z"
   },
   {
    "duration": 22,
    "start_time": "2023-02-27T13:32:16.488Z"
   },
   {
    "duration": 14,
    "start_time": "2023-02-27T13:32:16.512Z"
   },
   {
    "duration": 7,
    "start_time": "2023-02-27T13:32:16.528Z"
   },
   {
    "duration": 8,
    "start_time": "2023-02-27T13:32:16.537Z"
   },
   {
    "duration": 6,
    "start_time": "2023-02-27T13:32:16.546Z"
   },
   {
    "duration": 8,
    "start_time": "2023-02-27T13:32:16.554Z"
   },
   {
    "duration": 10,
    "start_time": "2023-02-27T13:32:16.564Z"
   },
   {
    "duration": 113,
    "start_time": "2023-02-27T13:32:16.576Z"
   },
   {
    "duration": 20,
    "start_time": "2023-02-27T13:32:16.691Z"
   },
   {
    "duration": 12,
    "start_time": "2023-02-27T13:32:16.713Z"
   },
   {
    "duration": 6,
    "start_time": "2023-02-27T13:32:16.729Z"
   },
   {
    "duration": 11,
    "start_time": "2023-02-27T13:32:16.736Z"
   },
   {
    "duration": 14,
    "start_time": "2023-02-27T13:32:16.749Z"
   },
   {
    "duration": 9,
    "start_time": "2023-02-27T13:32:16.765Z"
   },
   {
    "duration": 47,
    "start_time": "2023-02-27T13:32:16.775Z"
   },
   {
    "duration": 7,
    "start_time": "2023-02-27T13:32:16.824Z"
   },
   {
    "duration": 5,
    "start_time": "2023-02-27T13:32:16.832Z"
   },
   {
    "duration": 10,
    "start_time": "2023-02-27T13:32:16.838Z"
   },
   {
    "duration": 13,
    "start_time": "2023-02-27T13:32:16.849Z"
   },
   {
    "duration": 4,
    "start_time": "2023-02-27T13:32:16.864Z"
   },
   {
    "duration": 578,
    "start_time": "2023-02-27T13:32:16.869Z"
   },
   {
    "duration": 5,
    "start_time": "2023-02-27T13:32:17.448Z"
   },
   {
    "duration": 27,
    "start_time": "2023-02-27T13:32:17.454Z"
   },
   {
    "duration": 4,
    "start_time": "2023-02-27T13:32:17.483Z"
   },
   {
    "duration": 16,
    "start_time": "2023-02-27T13:32:17.488Z"
   },
   {
    "duration": 9,
    "start_time": "2023-02-27T13:32:17.506Z"
   },
   {
    "duration": 7,
    "start_time": "2023-02-27T13:32:17.518Z"
   },
   {
    "duration": 6,
    "start_time": "2023-02-27T13:32:17.527Z"
   },
   {
    "duration": 4,
    "start_time": "2023-02-27T13:32:17.534Z"
   },
   {
    "duration": 9,
    "start_time": "2023-02-27T13:32:17.539Z"
   },
   {
    "duration": 5,
    "start_time": "2023-02-27T13:32:17.549Z"
   },
   {
    "duration": 9,
    "start_time": "2023-02-27T13:32:17.556Z"
   },
   {
    "duration": 4,
    "start_time": "2023-02-27T13:32:17.567Z"
   },
   {
    "duration": 12,
    "start_time": "2023-02-27T13:32:17.603Z"
   },
   {
    "duration": 13,
    "start_time": "2023-02-27T13:32:17.616Z"
   },
   {
    "duration": 4,
    "start_time": "2023-02-27T13:32:17.630Z"
   },
   {
    "duration": 6,
    "start_time": "2023-02-27T13:32:17.636Z"
   },
   {
    "duration": 5,
    "start_time": "2023-02-27T13:32:17.644Z"
   },
   {
    "duration": 6,
    "start_time": "2023-02-27T13:32:17.651Z"
   },
   {
    "duration": 529,
    "start_time": "2023-02-27T13:32:17.659Z"
   },
   {
    "duration": 13,
    "start_time": "2023-02-27T13:32:18.190Z"
   },
   {
    "duration": 27,
    "start_time": "2023-02-27T13:32:18.205Z"
   },
   {
    "duration": 19,
    "start_time": "2023-02-27T13:32:18.234Z"
   },
   {
    "duration": 13,
    "start_time": "2023-02-27T13:32:18.255Z"
   },
   {
    "duration": 3,
    "start_time": "2023-02-27T13:32:18.269Z"
   },
   {
    "duration": 223,
    "start_time": "2023-02-27T13:32:18.274Z"
   },
   {
    "duration": 8,
    "start_time": "2023-02-27T13:32:18.499Z"
   },
   {
    "duration": 10,
    "start_time": "2023-02-27T13:32:18.514Z"
   },
   {
    "duration": 5,
    "start_time": "2023-02-27T13:32:18.526Z"
   },
   {
    "duration": 9,
    "start_time": "2023-02-27T13:32:18.532Z"
   },
   {
    "duration": 12,
    "start_time": "2023-02-27T13:32:18.542Z"
   },
   {
    "duration": 107,
    "start_time": "2023-02-27T13:32:18.555Z"
   },
   {
    "duration": 10,
    "start_time": "2023-02-27T13:32:18.664Z"
   },
   {
    "duration": 30,
    "start_time": "2023-02-27T13:32:18.676Z"
   },
   {
    "duration": 124,
    "start_time": "2023-02-27T13:32:18.708Z"
   },
   {
    "duration": 4,
    "start_time": "2023-02-27T13:32:18.833Z"
   },
   {
    "duration": 12,
    "start_time": "2023-02-27T13:32:18.838Z"
   },
   {
    "duration": 26,
    "start_time": "2023-02-27T13:32:18.851Z"
   },
   {
    "duration": 102,
    "start_time": "2023-02-27T13:32:18.879Z"
   },
   {
    "duration": 3,
    "start_time": "2023-02-27T13:32:18.982Z"
   },
   {
    "duration": 18,
    "start_time": "2023-02-27T13:32:18.987Z"
   },
   {
    "duration": 119,
    "start_time": "2023-02-27T13:32:19.007Z"
   },
   {
    "duration": 6,
    "start_time": "2023-02-27T13:32:19.128Z"
   },
   {
    "duration": 26,
    "start_time": "2023-02-27T13:32:19.136Z"
   },
   {
    "duration": 4,
    "start_time": "2023-02-27T13:32:19.268Z"
   },
   {
    "duration": 9,
    "start_time": "2023-02-27T13:32:19.273Z"
   },
   {
    "duration": 23,
    "start_time": "2023-02-27T13:32:19.284Z"
   },
   {
    "duration": 11,
    "start_time": "2023-02-27T13:32:19.309Z"
   },
   {
    "duration": 15,
    "start_time": "2023-02-27T13:32:19.322Z"
   },
   {
    "duration": 29,
    "start_time": "2023-02-27T13:32:19.338Z"
   },
   {
    "duration": 4,
    "start_time": "2023-02-27T13:32:19.369Z"
   },
   {
    "duration": 6,
    "start_time": "2023-02-27T13:32:19.374Z"
   },
   {
    "duration": 7,
    "start_time": "2023-02-27T13:32:19.381Z"
   },
   {
    "duration": 132,
    "start_time": "2023-02-27T13:32:19.389Z"
   },
   {
    "duration": 5,
    "start_time": "2023-02-27T13:32:19.523Z"
   },
   {
    "duration": 12,
    "start_time": "2023-02-27T13:32:19.530Z"
   },
   {
    "duration": 122,
    "start_time": "2023-02-27T13:32:19.544Z"
   },
   {
    "duration": 9,
    "start_time": "2023-02-27T13:32:19.667Z"
   },
   {
    "duration": 4,
    "start_time": "2023-02-27T13:32:19.677Z"
   },
   {
    "duration": 21,
    "start_time": "2023-02-27T13:32:19.682Z"
   },
   {
    "duration": 122,
    "start_time": "2023-02-27T13:32:19.705Z"
   },
   {
    "duration": 231,
    "start_time": "2023-02-27T13:32:19.829Z"
   },
   {
    "duration": 10,
    "start_time": "2023-02-27T13:32:20.062Z"
   },
   {
    "duration": 6,
    "start_time": "2023-02-27T13:32:20.074Z"
   },
   {
    "duration": 24,
    "start_time": "2023-02-27T13:32:20.081Z"
   },
   {
    "duration": 17,
    "start_time": "2023-02-27T13:32:20.108Z"
   },
   {
    "duration": 14,
    "start_time": "2023-02-27T13:32:20.126Z"
   },
   {
    "duration": 3,
    "start_time": "2023-02-27T13:32:20.141Z"
   },
   {
    "duration": 14,
    "start_time": "2023-02-27T13:32:20.145Z"
   },
   {
    "duration": 10,
    "start_time": "2023-02-27T13:32:20.161Z"
   },
   {
    "duration": 5,
    "start_time": "2023-02-27T13:32:20.172Z"
   },
   {
    "duration": 27,
    "start_time": "2023-02-27T13:32:20.178Z"
   },
   {
    "duration": 21,
    "start_time": "2023-02-27T13:32:20.207Z"
   },
   {
    "duration": 26,
    "start_time": "2023-02-27T13:32:20.230Z"
   },
   {
    "duration": 10,
    "start_time": "2023-02-27T13:32:20.258Z"
   },
   {
    "duration": 17,
    "start_time": "2023-02-27T13:32:20.269Z"
   },
   {
    "duration": 2,
    "start_time": "2023-02-27T13:32:20.288Z"
   },
   {
    "duration": 29,
    "start_time": "2023-02-27T13:32:20.292Z"
   },
   {
    "duration": 1029,
    "start_time": "2023-02-27T13:32:20.323Z"
   },
   {
    "duration": 7,
    "start_time": "2023-02-27T13:32:21.353Z"
   },
   {
    "duration": 11,
    "start_time": "2023-02-27T13:32:21.361Z"
   },
   {
    "duration": 26,
    "start_time": "2023-02-27T13:32:21.374Z"
   },
   {
    "duration": 17,
    "start_time": "2023-02-27T13:32:21.402Z"
   },
   {
    "duration": 1151,
    "start_time": "2023-02-27T13:32:21.421Z"
   },
   {
    "duration": 9,
    "start_time": "2023-02-27T13:32:22.574Z"
   },
   {
    "duration": 20,
    "start_time": "2023-02-27T13:32:22.585Z"
   },
   {
    "duration": 282,
    "start_time": "2023-02-27T13:32:22.606Z"
   },
   {
    "duration": 18,
    "start_time": "2023-02-27T13:32:22.890Z"
   },
   {
    "duration": 25,
    "start_time": "2023-02-27T13:32:22.910Z"
   },
   {
    "duration": 220,
    "start_time": "2023-02-27T13:32:22.937Z"
   },
   {
    "duration": 8,
    "start_time": "2023-02-27T13:32:23.158Z"
   },
   {
    "duration": 238,
    "start_time": "2023-02-27T13:32:23.168Z"
   },
   {
    "duration": 168,
    "start_time": "2023-02-27T13:32:23.408Z"
   },
   {
    "duration": 165,
    "start_time": "2023-02-27T13:32:23.577Z"
   },
   {
    "duration": 277,
    "start_time": "2023-02-27T13:32:23.743Z"
   },
   {
    "duration": 154,
    "start_time": "2023-02-27T13:32:24.022Z"
   },
   {
    "duration": 225,
    "start_time": "2023-02-27T13:32:24.178Z"
   },
   {
    "duration": 192,
    "start_time": "2023-02-27T13:32:24.404Z"
   },
   {
    "duration": 181,
    "start_time": "2023-02-27T13:32:24.597Z"
   },
   {
    "duration": 9,
    "start_time": "2023-02-27T13:32:24.780Z"
   },
   {
    "duration": 348,
    "start_time": "2023-02-27T13:32:24.804Z"
   },
   {
    "duration": 6,
    "start_time": "2023-02-27T13:32:25.153Z"
   },
   {
    "duration": 13,
    "start_time": "2023-02-27T13:32:25.160Z"
   },
   {
    "duration": 12,
    "start_time": "2023-02-27T13:32:25.175Z"
   },
   {
    "duration": 1914,
    "start_time": "2023-02-27T13:32:25.189Z"
   },
   {
    "duration": 6,
    "start_time": "2023-02-27T13:32:27.104Z"
   },
   {
    "duration": 1479,
    "start_time": "2023-02-27T13:32:27.112Z"
   },
   {
    "duration": 12,
    "start_time": "2023-02-27T13:32:28.593Z"
   },
   {
    "duration": 1499,
    "start_time": "2023-02-27T13:32:28.607Z"
   },
   {
    "duration": 6,
    "start_time": "2023-02-27T13:32:30.108Z"
   },
   {
    "duration": 1503,
    "start_time": "2023-02-27T13:32:30.116Z"
   },
   {
    "duration": 152,
    "start_time": "2023-02-27T13:32:31.621Z"
   },
   {
    "duration": 495,
    "start_time": "2023-02-27T13:32:31.775Z"
   },
   {
    "duration": 38,
    "start_time": "2023-02-27T13:32:32.272Z"
   },
   {
    "duration": 312,
    "start_time": "2023-02-27T13:32:32.313Z"
   },
   {
    "duration": 465,
    "start_time": "2023-02-27T13:32:32.627Z"
   },
   {
    "duration": 26,
    "start_time": "2023-02-27T13:32:33.094Z"
   },
   {
    "duration": 6,
    "start_time": "2023-02-27T13:33:45.159Z"
   },
   {
    "duration": 7,
    "start_time": "2023-02-27T13:34:28.897Z"
   },
   {
    "duration": 16,
    "start_time": "2023-02-27T13:37:09.356Z"
   },
   {
    "duration": 79,
    "start_time": "2023-02-27T13:37:12.502Z"
   },
   {
    "duration": 7,
    "start_time": "2023-02-27T13:37:30.236Z"
   },
   {
    "duration": 6,
    "start_time": "2023-02-27T13:37:34.023Z"
   },
   {
    "duration": 1395,
    "start_time": "2023-03-10T06:38:19.525Z"
   },
   {
    "duration": 189,
    "start_time": "2023-03-10T06:38:20.922Z"
   },
   {
    "duration": 3,
    "start_time": "2023-03-10T06:38:21.113Z"
   },
   {
    "duration": 52,
    "start_time": "2023-03-10T06:38:21.118Z"
   },
   {
    "duration": 24,
    "start_time": "2023-03-10T06:38:21.173Z"
   },
   {
    "duration": 71,
    "start_time": "2023-03-10T06:38:21.199Z"
   },
   {
    "duration": 26,
    "start_time": "2023-03-10T06:38:21.272Z"
   },
   {
    "duration": 1982,
    "start_time": "2023-03-10T06:38:21.300Z"
   },
   {
    "duration": 7,
    "start_time": "2023-03-10T06:38:23.284Z"
   },
   {
    "duration": 13,
    "start_time": "2023-03-10T06:38:23.294Z"
   },
   {
    "duration": 7,
    "start_time": "2023-03-10T06:38:23.309Z"
   },
   {
    "duration": 7,
    "start_time": "2023-03-10T06:38:23.317Z"
   },
   {
    "duration": 32,
    "start_time": "2023-03-10T06:38:23.326Z"
   },
   {
    "duration": 18,
    "start_time": "2023-03-10T06:38:23.360Z"
   },
   {
    "duration": 19,
    "start_time": "2023-03-10T06:38:23.380Z"
   },
   {
    "duration": 218,
    "start_time": "2023-03-10T06:38:23.401Z"
   },
   {
    "duration": 11,
    "start_time": "2023-03-10T06:38:23.622Z"
   },
   {
    "duration": 26,
    "start_time": "2023-03-10T06:38:23.634Z"
   },
   {
    "duration": 17,
    "start_time": "2023-03-10T06:38:23.663Z"
   },
   {
    "duration": 18,
    "start_time": "2023-03-10T06:38:23.683Z"
   },
   {
    "duration": 10,
    "start_time": "2023-03-10T06:38:23.703Z"
   },
   {
    "duration": 18,
    "start_time": "2023-03-10T06:38:23.714Z"
   },
   {
    "duration": 9,
    "start_time": "2023-03-10T06:38:23.734Z"
   },
   {
    "duration": 7,
    "start_time": "2023-03-10T06:38:23.745Z"
   },
   {
    "duration": 31,
    "start_time": "2023-03-10T06:38:23.753Z"
   },
   {
    "duration": 107,
    "start_time": "2023-03-10T06:38:23.786Z"
   },
   {
    "duration": 8,
    "start_time": "2023-03-10T06:38:23.894Z"
   },
   {
    "duration": 14,
    "start_time": "2023-03-10T06:38:23.906Z"
   },
   {
    "duration": 24,
    "start_time": "2023-03-10T06:38:23.922Z"
   },
   {
    "duration": 22,
    "start_time": "2023-03-10T06:38:23.948Z"
   },
   {
    "duration": 28,
    "start_time": "2023-03-10T06:38:23.972Z"
   },
   {
    "duration": 20,
    "start_time": "2023-03-10T06:38:24.002Z"
   },
   {
    "duration": 41,
    "start_time": "2023-03-10T06:38:24.024Z"
   },
   {
    "duration": 8,
    "start_time": "2023-03-10T06:38:24.066Z"
   },
   {
    "duration": 5,
    "start_time": "2023-03-10T06:38:24.076Z"
   },
   {
    "duration": 17,
    "start_time": "2023-03-10T06:38:24.082Z"
   },
   {
    "duration": 15,
    "start_time": "2023-03-10T06:38:24.101Z"
   },
   {
    "duration": 12,
    "start_time": "2023-03-10T06:38:24.118Z"
   },
   {
    "duration": 625,
    "start_time": "2023-03-10T06:38:24.132Z"
   },
   {
    "duration": 5,
    "start_time": "2023-03-10T06:38:24.758Z"
   },
   {
    "duration": 14,
    "start_time": "2023-03-10T06:38:24.776Z"
   },
   {
    "duration": 12,
    "start_time": "2023-03-10T06:38:24.792Z"
   },
   {
    "duration": 27,
    "start_time": "2023-03-10T06:38:24.806Z"
   },
   {
    "duration": 20,
    "start_time": "2023-03-10T06:38:24.834Z"
   },
   {
    "duration": 14,
    "start_time": "2023-03-10T06:38:24.857Z"
   },
   {
    "duration": 14,
    "start_time": "2023-03-10T06:38:24.873Z"
   },
   {
    "duration": 40,
    "start_time": "2023-03-10T06:38:24.889Z"
   },
   {
    "duration": 7,
    "start_time": "2023-03-10T06:38:24.931Z"
   },
   {
    "duration": 23,
    "start_time": "2023-03-10T06:38:24.940Z"
   },
   {
    "duration": 8,
    "start_time": "2023-03-10T06:38:24.966Z"
   },
   {
    "duration": 12,
    "start_time": "2023-03-10T06:38:24.975Z"
   },
   {
    "duration": 670,
    "start_time": "2023-03-10T06:38:24.989Z"
   },
   {
    "duration": 15,
    "start_time": "2023-03-10T06:38:25.662Z"
   },
   {
    "duration": 43,
    "start_time": "2023-03-10T06:38:25.679Z"
   },
   {
    "duration": 50,
    "start_time": "2023-03-10T06:38:25.724Z"
   },
   {
    "duration": 12,
    "start_time": "2023-03-10T06:38:25.776Z"
   },
   {
    "duration": 157,
    "start_time": "2023-03-10T06:38:25.791Z"
   },
   {
    "duration": 15,
    "start_time": "2023-03-10T06:38:25.950Z"
   },
   {
    "duration": 21,
    "start_time": "2023-03-10T06:38:25.980Z"
   },
   {
    "duration": 22,
    "start_time": "2023-03-10T06:38:26.003Z"
   },
   {
    "duration": 24,
    "start_time": "2023-03-10T06:38:26.028Z"
   },
   {
    "duration": 172,
    "start_time": "2023-03-10T06:38:26.054Z"
   },
   {
    "duration": 4,
    "start_time": "2023-03-10T06:38:26.229Z"
   },
   {
    "duration": 38,
    "start_time": "2023-03-10T06:38:26.235Z"
   },
   {
    "duration": 35,
    "start_time": "2023-03-10T06:38:26.275Z"
   },
   {
    "duration": 192,
    "start_time": "2023-03-10T06:38:26.312Z"
   },
   {
    "duration": 4,
    "start_time": "2023-03-10T06:38:26.507Z"
   },
   {
    "duration": 31,
    "start_time": "2023-03-10T06:38:26.513Z"
   },
   {
    "duration": 176,
    "start_time": "2023-03-10T06:38:26.546Z"
   },
   {
    "duration": 10,
    "start_time": "2023-03-10T06:38:26.725Z"
   },
   {
    "duration": 41,
    "start_time": "2023-03-10T06:38:26.737Z"
   },
   {
    "duration": 4,
    "start_time": "2023-03-10T06:38:26.780Z"
   },
   {
    "duration": 17,
    "start_time": "2023-03-10T06:38:26.786Z"
   },
   {
    "duration": 13,
    "start_time": "2023-03-10T06:38:26.805Z"
   },
   {
    "duration": 61,
    "start_time": "2023-03-10T06:38:26.820Z"
   },
   {
    "duration": 12,
    "start_time": "2023-03-10T06:38:26.882Z"
   },
   {
    "duration": 17,
    "start_time": "2023-03-10T06:38:26.896Z"
   },
   {
    "duration": 9,
    "start_time": "2023-03-10T06:38:26.915Z"
   },
   {
    "duration": 7,
    "start_time": "2023-03-10T06:38:26.926Z"
   },
   {
    "duration": 19,
    "start_time": "2023-03-10T06:38:26.935Z"
   },
   {
    "duration": 174,
    "start_time": "2023-03-10T06:38:26.956Z"
   },
   {
    "duration": 5,
    "start_time": "2023-03-10T06:38:27.138Z"
   },
   {
    "duration": 128,
    "start_time": "2023-03-10T06:38:27.145Z"
   },
   {
    "duration": 9,
    "start_time": "2023-03-10T06:38:27.275Z"
   },
   {
    "duration": 119,
    "start_time": "2023-03-10T06:38:27.286Z"
   },
   {
    "duration": 7,
    "start_time": "2023-03-10T06:38:27.407Z"
   },
   {
    "duration": 122,
    "start_time": "2023-03-10T06:38:27.416Z"
   },
   {
    "duration": 13,
    "start_time": "2023-03-10T06:38:27.541Z"
   },
   {
    "duration": 22,
    "start_time": "2023-03-10T06:38:27.556Z"
   },
   {
    "duration": 144,
    "start_time": "2023-03-10T06:38:27.580Z"
   },
   {
    "duration": 238,
    "start_time": "2023-03-10T06:38:27.726Z"
   },
   {
    "duration": 40,
    "start_time": "2023-03-10T06:38:27.966Z"
   },
   {
    "duration": 341,
    "start_time": "2023-03-10T06:38:28.010Z"
   },
   {
    "duration": 9,
    "start_time": "2023-03-10T06:38:28.354Z"
   },
   {
    "duration": 153,
    "start_time": "2023-03-10T06:38:28.378Z"
   },
   {
    "duration": 126,
    "start_time": "2023-03-10T06:38:28.534Z"
   },
   {
    "duration": 16,
    "start_time": "2023-03-10T06:38:28.663Z"
   },
   {
    "duration": 26,
    "start_time": "2023-03-10T06:38:28.681Z"
   },
   {
    "duration": 7,
    "start_time": "2023-03-10T06:38:28.709Z"
   },
   {
    "duration": 30,
    "start_time": "2023-03-10T06:38:28.718Z"
   },
   {
    "duration": 14,
    "start_time": "2023-03-10T06:38:28.750Z"
   },
   {
    "duration": 12,
    "start_time": "2023-03-10T06:38:28.766Z"
   },
   {
    "duration": 154,
    "start_time": "2023-03-10T06:38:28.780Z"
   },
   {
    "duration": 128,
    "start_time": "2023-03-10T06:38:28.936Z"
   },
   {
    "duration": 14,
    "start_time": "2023-03-10T06:38:29.066Z"
   },
   {
    "duration": 27,
    "start_time": "2023-03-10T06:38:29.083Z"
   },
   {
    "duration": 6,
    "start_time": "2023-03-10T06:38:29.112Z"
   },
   {
    "duration": 20,
    "start_time": "2023-03-10T06:38:29.120Z"
   },
   {
    "duration": 9,
    "start_time": "2023-03-10T06:38:29.143Z"
   },
   {
    "duration": 11,
    "start_time": "2023-03-10T06:38:29.154Z"
   },
   {
    "duration": 25,
    "start_time": "2023-03-10T06:38:29.167Z"
   },
   {
    "duration": 19,
    "start_time": "2023-03-10T06:38:29.195Z"
   },
   {
    "duration": 11,
    "start_time": "2023-03-10T06:38:29.216Z"
   },
   {
    "duration": 10,
    "start_time": "2023-03-10T06:38:29.229Z"
   },
   {
    "duration": 10,
    "start_time": "2023-03-10T06:38:29.241Z"
   },
   {
    "duration": 57,
    "start_time": "2023-03-10T06:38:29.253Z"
   },
   {
    "duration": 7,
    "start_time": "2023-03-10T06:38:29.313Z"
   },
   {
    "duration": 25,
    "start_time": "2023-03-10T06:38:29.323Z"
   },
   {
    "duration": 42,
    "start_time": "2023-03-10T06:38:29.351Z"
   },
   {
    "duration": 5,
    "start_time": "2023-03-10T06:38:29.395Z"
   },
   {
    "duration": 35,
    "start_time": "2023-03-10T06:38:29.401Z"
   },
   {
    "duration": 1305,
    "start_time": "2023-03-10T06:38:29.438Z"
   },
   {
    "duration": 7,
    "start_time": "2023-03-10T06:38:30.746Z"
   },
   {
    "duration": 62,
    "start_time": "2023-03-10T06:38:30.755Z"
   },
   {
    "duration": 65,
    "start_time": "2023-03-10T06:38:30.819Z"
   },
   {
    "duration": 55,
    "start_time": "2023-03-10T06:38:30.887Z"
   },
   {
    "duration": 1184,
    "start_time": "2023-03-10T06:38:30.945Z"
   },
   {
    "duration": 29,
    "start_time": "2023-03-10T06:38:32.131Z"
   },
   {
    "duration": 31,
    "start_time": "2023-03-10T06:38:32.162Z"
   },
   {
    "duration": 451,
    "start_time": "2023-03-10T06:38:32.195Z"
   },
   {
    "duration": 20,
    "start_time": "2023-03-10T06:38:32.652Z"
   },
   {
    "duration": 63,
    "start_time": "2023-03-10T06:38:32.674Z"
   },
   {
    "duration": 419,
    "start_time": "2023-03-10T06:38:32.739Z"
   },
   {
    "duration": 18,
    "start_time": "2023-03-10T06:38:33.160Z"
   },
   {
    "duration": 275,
    "start_time": "2023-03-10T06:38:33.181Z"
   },
   {
    "duration": 182,
    "start_time": "2023-03-10T06:38:33.458Z"
   },
   {
    "duration": 179,
    "start_time": "2023-03-10T06:38:33.643Z"
   },
   {
    "duration": 323,
    "start_time": "2023-03-10T06:38:33.824Z"
   },
   {
    "duration": 229,
    "start_time": "2023-03-10T06:38:34.149Z"
   },
   {
    "duration": 220,
    "start_time": "2023-03-10T06:38:34.382Z"
   },
   {
    "duration": 330,
    "start_time": "2023-03-10T06:38:34.604Z"
   },
   {
    "duration": 242,
    "start_time": "2023-03-10T06:38:34.936Z"
   },
   {
    "duration": 186,
    "start_time": "2023-03-10T06:38:35.181Z"
   },
   {
    "duration": 29,
    "start_time": "2023-03-10T06:38:35.369Z"
   },
   {
    "duration": 291,
    "start_time": "2023-03-10T06:38:35.399Z"
   },
   {
    "duration": 7,
    "start_time": "2023-03-10T06:38:35.692Z"
   },
   {
    "duration": 45,
    "start_time": "2023-03-10T06:38:35.701Z"
   },
   {
    "duration": 24,
    "start_time": "2023-03-10T06:38:35.749Z"
   },
   {
    "duration": 287,
    "start_time": "2023-03-10T06:38:35.777Z"
   },
   {
    "duration": 7,
    "start_time": "2023-03-10T06:38:36.066Z"
   },
   {
    "duration": 1688,
    "start_time": "2023-03-10T06:38:36.077Z"
   },
   {
    "duration": 15,
    "start_time": "2023-03-10T06:38:37.767Z"
   },
   {
    "duration": 1498,
    "start_time": "2023-03-10T06:38:37.787Z"
   },
   {
    "duration": 6,
    "start_time": "2023-03-10T06:38:39.287Z"
   },
   {
    "duration": 1809,
    "start_time": "2023-03-10T06:38:39.294Z"
   },
   {
    "duration": 167,
    "start_time": "2023-03-10T06:38:41.105Z"
   },
   {
    "duration": 600,
    "start_time": "2023-03-10T06:38:41.278Z"
   },
   {
    "duration": 45,
    "start_time": "2023-03-10T06:38:41.880Z"
   },
   {
    "duration": 64,
    "start_time": "2023-03-10T06:38:41.928Z"
   },
   {
    "duration": 424,
    "start_time": "2023-03-10T06:38:41.994Z"
   },
   {
    "duration": 553,
    "start_time": "2023-03-10T06:38:42.420Z"
   },
   {
    "duration": 23,
    "start_time": "2023-03-10T06:39:16.685Z"
   },
   {
    "duration": 19,
    "start_time": "2023-03-10T06:39:35.728Z"
   },
   {
    "duration": 157,
    "start_time": "2023-03-10T06:39:38.866Z"
   },
   {
    "duration": 148,
    "start_time": "2023-03-10T06:39:50.989Z"
   }
  ],
  "kernelspec": {
   "display_name": "Python 3 (ipykernel)",
   "language": "python",
   "name": "python3"
  },
  "language_info": {
   "codemirror_mode": {
    "name": "ipython",
    "version": 3
   },
   "file_extension": ".py",
   "mimetype": "text/x-python",
   "name": "python",
   "nbconvert_exporter": "python",
   "pygments_lexer": "ipython3",
   "version": "3.10.12"
  },
  "toc": {
   "base_numbering": 1,
   "nav_menu": {},
   "number_sections": true,
   "sideBar": true,
   "skip_h1_title": true,
   "title_cell": "Table of Contents",
   "title_sidebar": "Contents",
   "toc_cell": false,
   "toc_position": {},
   "toc_section_display": true,
   "toc_window_display": false
  },
  "toc-autonumbering": true,
  "toc-showmarkdowntxt": false,
  "toc-showtags": false
 },
 "nbformat": 4,
 "nbformat_minor": 4
}
