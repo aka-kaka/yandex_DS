{
 "cells": [
  {
   "cell_type": "markdown",
   "metadata": {},
   "source": [
    "# Рекомендация тарифов"
   ]
  },
  {
   "cell_type": "markdown",
   "metadata": {},
   "source": [
    "Описание проекта\n",
    "Оператор мобильной связи «Мегалайн» выяснил: многие клиенты пользуются архивными тарифами. Они хотят построить систему, способную проанализировать поведение клиентов и предложить пользователям новый тариф: «Смарт» или «Ультра».\n",
    "\n",
    "В нашем распоряжении данные о поведении клиентов, которые уже перешли на тарифы Смарт и Ультра. Нужно построить модель для задачи классификации, которая выберет подходящий тариф.\n",
    "данные предобратоны ранее\n",
    "\n",
    "Описание данных\n",
    "Каждый объект в наборе данных — это информация о поведении одного пользователя за месяц. Известно:\n",
    "\n",
    "    сalls — количество звонков,\n",
    "    minutes — суммарная длительность звонков в минутах,\n",
    "    messages — количество sms-сообщений,\n",
    "    mb_used — израсходованный интернет-трафик в Мб,\n",
    "    is_ultra — каким тарифом пользовался в течение месяца («Ультра» — 1, «Смарт» — 0).\n",
    "    \n",
    "Задача:\n",
    "Построить модель с максимально большим значением *accuracy*, не меньше 75%.\n",
    "будем решать задачу бинарной классификации и обучения модели с учителем"
   ]
  },
  {
   "cell_type": "markdown",
   "metadata": {},
   "source": [
    "План работы:\n",
    "\n",
    "    Откроем и изучим файл\n",
    "    Разобьём данные на выборки\n",
    "    Проведем исследоввание моделей\n",
    "    Проверим лучшую модель на тестовых данных\n",
    "    Проверим модель на адекватность\n",
    "    Подведём общий итог о проделанной работе"
   ]
  },
  {
   "cell_type": "markdown",
   "metadata": {},
   "source": [
    "## Откроем и изучим файл"
   ]
  },
  {
   "cell_type": "code",
   "execution_count": 1,
   "metadata": {},
   "outputs": [],
   "source": [
    "import warnings\n",
    "import pandas as pd\n",
    "import seaborn as sns\n",
    "import matplotlib.pyplot as plt\n",
    "from sklearn.model_selection import train_test_split\n",
    "from sklearn.tree import DecisionTreeClassifier\n",
    "from sklearn.ensemble import RandomForestClassifier\n",
    "from sklearn.linear_model import LogisticRegression\n",
    "from sklearn.dummy import DummyClassifier \n",
    "from sklearn.metrics import accuracy_score, f1_score, recall_score\n",
    "#from joblib import dump, load # закомментировать"
   ]
  },
  {
   "cell_type": "code",
   "execution_count": 2,
   "metadata": {},
   "outputs": [],
   "source": [
    "warnings.filterwarnings(\"ignore\")\n",
    "pd.set_option('max_colwidth', 300)"
   ]
  },
  {
   "cell_type": "code",
   "execution_count": 3,
   "metadata": {
    "tags": []
   },
   "outputs": [],
   "source": [
    "try:\n",
    "    user_behavior = pd.read_csv('/home/oslik/Yandex_curs_DS/Project_s2_1/datasets/users_behavior.csv')\n",
    "except:\n",
    "    user_behavior = pd.read_csv('https://code.s3.yandex.net/datasets/users_behavior.csv')"
   ]
  },
  {
   "cell_type": "code",
   "execution_count": 4,
   "metadata": {},
   "outputs": [
    {
     "data": {
      "text/html": [
       "<div>\n",
       "<style scoped>\n",
       "    .dataframe tbody tr th:only-of-type {\n",
       "        vertical-align: middle;\n",
       "    }\n",
       "\n",
       "    .dataframe tbody tr th {\n",
       "        vertical-align: top;\n",
       "    }\n",
       "\n",
       "    .dataframe thead th {\n",
       "        text-align: right;\n",
       "    }\n",
       "</style>\n",
       "<table border=\"1\" class=\"dataframe\">\n",
       "  <thead>\n",
       "    <tr style=\"text-align: right;\">\n",
       "      <th></th>\n",
       "      <th>calls</th>\n",
       "      <th>minutes</th>\n",
       "      <th>messages</th>\n",
       "      <th>mb_used</th>\n",
       "      <th>is_ultra</th>\n",
       "    </tr>\n",
       "  </thead>\n",
       "  <tbody>\n",
       "    <tr>\n",
       "      <th>0</th>\n",
       "      <td>40.0</td>\n",
       "      <td>311.90</td>\n",
       "      <td>83.0</td>\n",
       "      <td>19915.42</td>\n",
       "      <td>0</td>\n",
       "    </tr>\n",
       "    <tr>\n",
       "      <th>1</th>\n",
       "      <td>85.0</td>\n",
       "      <td>516.75</td>\n",
       "      <td>56.0</td>\n",
       "      <td>22696.96</td>\n",
       "      <td>0</td>\n",
       "    </tr>\n",
       "    <tr>\n",
       "      <th>2</th>\n",
       "      <td>77.0</td>\n",
       "      <td>467.66</td>\n",
       "      <td>86.0</td>\n",
       "      <td>21060.45</td>\n",
       "      <td>0</td>\n",
       "    </tr>\n",
       "    <tr>\n",
       "      <th>3</th>\n",
       "      <td>106.0</td>\n",
       "      <td>745.53</td>\n",
       "      <td>81.0</td>\n",
       "      <td>8437.39</td>\n",
       "      <td>1</td>\n",
       "    </tr>\n",
       "    <tr>\n",
       "      <th>4</th>\n",
       "      <td>66.0</td>\n",
       "      <td>418.74</td>\n",
       "      <td>1.0</td>\n",
       "      <td>14502.75</td>\n",
       "      <td>0</td>\n",
       "    </tr>\n",
       "  </tbody>\n",
       "</table>\n",
       "</div>"
      ],
      "text/plain": [
       "   calls  minutes  messages   mb_used  is_ultra\n",
       "0   40.0   311.90      83.0  19915.42         0\n",
       "1   85.0   516.75      56.0  22696.96         0\n",
       "2   77.0   467.66      86.0  21060.45         0\n",
       "3  106.0   745.53      81.0   8437.39         1\n",
       "4   66.0   418.74       1.0  14502.75         0"
      ]
     },
     "execution_count": 4,
     "metadata": {},
     "output_type": "execute_result"
    }
   ],
   "source": [
    "user_behavior.head()"
   ]
  },
  {
   "cell_type": "code",
   "execution_count": 5,
   "metadata": {},
   "outputs": [
    {
     "data": {
      "text/html": [
       "<div>\n",
       "<style scoped>\n",
       "    .dataframe tbody tr th:only-of-type {\n",
       "        vertical-align: middle;\n",
       "    }\n",
       "\n",
       "    .dataframe tbody tr th {\n",
       "        vertical-align: top;\n",
       "    }\n",
       "\n",
       "    .dataframe thead th {\n",
       "        text-align: right;\n",
       "    }\n",
       "</style>\n",
       "<table border=\"1\" class=\"dataframe\">\n",
       "  <thead>\n",
       "    <tr style=\"text-align: right;\">\n",
       "      <th></th>\n",
       "      <th>calls</th>\n",
       "      <th>minutes</th>\n",
       "      <th>messages</th>\n",
       "      <th>mb_used</th>\n",
       "      <th>is_ultra</th>\n",
       "    </tr>\n",
       "  </thead>\n",
       "  <tbody>\n",
       "    <tr>\n",
       "      <th>count</th>\n",
       "      <td>3214.000000</td>\n",
       "      <td>3214.000000</td>\n",
       "      <td>3214.000000</td>\n",
       "      <td>3214.000000</td>\n",
       "      <td>3214.000000</td>\n",
       "    </tr>\n",
       "    <tr>\n",
       "      <th>mean</th>\n",
       "      <td>63.038892</td>\n",
       "      <td>438.208787</td>\n",
       "      <td>38.281269</td>\n",
       "      <td>17207.673836</td>\n",
       "      <td>0.306472</td>\n",
       "    </tr>\n",
       "    <tr>\n",
       "      <th>std</th>\n",
       "      <td>33.236368</td>\n",
       "      <td>234.569872</td>\n",
       "      <td>36.148326</td>\n",
       "      <td>7570.968246</td>\n",
       "      <td>0.461100</td>\n",
       "    </tr>\n",
       "    <tr>\n",
       "      <th>min</th>\n",
       "      <td>0.000000</td>\n",
       "      <td>0.000000</td>\n",
       "      <td>0.000000</td>\n",
       "      <td>0.000000</td>\n",
       "      <td>0.000000</td>\n",
       "    </tr>\n",
       "    <tr>\n",
       "      <th>25%</th>\n",
       "      <td>40.000000</td>\n",
       "      <td>274.575000</td>\n",
       "      <td>9.000000</td>\n",
       "      <td>12491.902500</td>\n",
       "      <td>0.000000</td>\n",
       "    </tr>\n",
       "    <tr>\n",
       "      <th>50%</th>\n",
       "      <td>62.000000</td>\n",
       "      <td>430.600000</td>\n",
       "      <td>30.000000</td>\n",
       "      <td>16943.235000</td>\n",
       "      <td>0.000000</td>\n",
       "    </tr>\n",
       "    <tr>\n",
       "      <th>75%</th>\n",
       "      <td>82.000000</td>\n",
       "      <td>571.927500</td>\n",
       "      <td>57.000000</td>\n",
       "      <td>21424.700000</td>\n",
       "      <td>1.000000</td>\n",
       "    </tr>\n",
       "    <tr>\n",
       "      <th>max</th>\n",
       "      <td>244.000000</td>\n",
       "      <td>1632.060000</td>\n",
       "      <td>224.000000</td>\n",
       "      <td>49745.730000</td>\n",
       "      <td>1.000000</td>\n",
       "    </tr>\n",
       "  </tbody>\n",
       "</table>\n",
       "</div>"
      ],
      "text/plain": [
       "             calls      minutes     messages       mb_used     is_ultra\n",
       "count  3214.000000  3214.000000  3214.000000   3214.000000  3214.000000\n",
       "mean     63.038892   438.208787    38.281269  17207.673836     0.306472\n",
       "std      33.236368   234.569872    36.148326   7570.968246     0.461100\n",
       "min       0.000000     0.000000     0.000000      0.000000     0.000000\n",
       "25%      40.000000   274.575000     9.000000  12491.902500     0.000000\n",
       "50%      62.000000   430.600000    30.000000  16943.235000     0.000000\n",
       "75%      82.000000   571.927500    57.000000  21424.700000     1.000000\n",
       "max     244.000000  1632.060000   224.000000  49745.730000     1.000000"
      ]
     },
     "execution_count": 5,
     "metadata": {},
     "output_type": "execute_result"
    }
   ],
   "source": [
    "user_behavior.describe()"
   ]
  },
  {
   "cell_type": "code",
   "execution_count": 6,
   "metadata": {},
   "outputs": [
    {
     "data": {
      "text/plain": [
       "calls       float64\n",
       "minutes     float64\n",
       "messages    float64\n",
       "mb_used     float64\n",
       "is_ultra      int64\n",
       "dtype: object"
      ]
     },
     "execution_count": 6,
     "metadata": {},
     "output_type": "execute_result"
    }
   ],
   "source": [
    "user_behavior.dtypes"
   ]
  },
  {
   "cell_type": "code",
   "execution_count": 7,
   "metadata": {},
   "outputs": [
    {
     "data": {
      "text/plain": [
       "calls       0\n",
       "minutes     0\n",
       "messages    0\n",
       "mb_used     0\n",
       "is_ultra    0\n",
       "dtype: int64"
      ]
     },
     "execution_count": 7,
     "metadata": {},
     "output_type": "execute_result"
    }
   ],
   "source": [
    "user_behavior.isna().sum()"
   ]
  },
  {
   "cell_type": "code",
   "execution_count": 8,
   "metadata": {},
   "outputs": [
    {
     "data": {
      "text/plain": [
       "0"
      ]
     },
     "execution_count": 8,
     "metadata": {},
     "output_type": "execute_result"
    }
   ],
   "source": [
    "user_behavior.duplicated().sum()"
   ]
  },
  {
   "cell_type": "markdown",
   "metadata": {},
   "source": [
    "столбцы 'calls', 'messages' по смыслу и содержанию должны иметь целочисленнный тип данных, а не c плавающей запятой. исправим это."
   ]
  },
  {
   "cell_type": "code",
   "execution_count": 9,
   "metadata": {},
   "outputs": [],
   "source": [
    "user_behavior[['calls', 'messages']] = user_behavior[['calls', 'messages']].astype(int)"
   ]
  },
  {
   "cell_type": "markdown",
   "metadata": {},
   "source": [
    "### Краткий вывод\n",
    "    были изучены предоставленные данные, на предмет пропусков, дубликатов, и их распределение. \n",
    "    в ходе изучения даннных было обнаружено и испправлено несоответствие типов в столбцах 'calls' и 'messages'\n"
   ]
  },
  {
   "cell_type": "markdown",
   "metadata": {},
   "source": [
    "## Разделим данные на выборки"
   ]
  },
  {
   "cell_type": "markdown",
   "metadata": {},
   "source": [
    "Тестовая выборка не предоставлена. Значит, данные нужно разбить на три части: обучающую, валидационную и тестовую. Размеры тестового и валидационного наборов сделаем равными и распределим их в соотношении 3:1:1 (данные для обучения/проверрочная выборка/тестовая выборка). \n",
    "<p>сделаем это в 2 этапа\n",
    "<ol>\n",
    "<li>отделим 60% от основной выборки для обучения моделей и 40% отведем для тестовой и валидационнной выброк </li>\n",
    "<li>разделим данные для тестовой и валидационной выборок в соотношении 50/50</li>\n",
    "</ol>\n",
    "для равномерного распределения данных по выборкам используем параметр stratify, которому передадим поле для отслеживания разделения"
   ]
  },
  {
   "cell_type": "code",
   "execution_count": 10,
   "metadata": {},
   "outputs": [],
   "source": [
    "learn_data, valid_data, learn_target, valid_target = \\\n",
    "train_test_split(\n",
    "    user_behavior.drop('is_ultra', axis=1),\n",
    "    user_behavior.is_ultra,\n",
    "    test_size=0.4,\n",
    "    random_state=12345,\n",
    "    stratify=user_behavior.is_ultra,\n",
    ")\n",
    "\n",
    "test_data, valid_data, test_target, valid_target = \\\n",
    "train_test_split(\n",
    "    valid_data,\n",
    "    valid_target,\n",
    "    test_size=0.5,\n",
    "    random_state=12345,\n",
    "    stratify=valid_target\n",
    ")"
   ]
  },
  {
   "cell_type": "markdown",
   "metadata": {},
   "source": [
    "проверим соотношение"
   ]
  },
  {
   "cell_type": "code",
   "execution_count": 11,
   "metadata": {},
   "outputs": [
    {
     "name": "stdout",
     "output_type": "stream",
     "text": [
      "доля learn_data = 59.9876%\n",
      "доля test_data = 20.0062%\n",
      "доля valid_data = 20.0062%\n"
     ]
    }
   ],
   "source": [
    "dick = {'learn_data': learn_data,\n",
    "          'test_data': test_data,\n",
    "          'valid_data': valid_data}\n",
    "for i in dick:\n",
    "    print(f'доля {i} = {dick[i].shape[0]/user_behavior.shape[0]:.4%}')"
   ]
  },
  {
   "cell_type": "markdown",
   "metadata": {},
   "source": [
    "### Краткий вывод\n",
    "    полученные данные были разделены на обучающую, тестовую, валидационную выборки в отношении 3:1:1"
   ]
  },
  {
   "cell_type": "markdown",
   "metadata": {},
   "source": [
    "## Исследоввание моделей"
   ]
  },
  {
   "cell_type": "markdown",
   "metadata": {},
   "source": [
    "для автоматизации и визуализации результатов применения моделей обучения создадим 2 функции.\n",
    "<ol>\n",
    "<li>build_graph - будет отвечать за визуализацию результатов </li>\n",
    "<li>my_model - за применение параметров к модели</li>\n",
    "</ol>\n",
    "<b> рассматривать модели будем в следующем порядке:\n",
    "<ol>\n",
    "<li>DecisionTreeClassifier (дерево) </li>\n",
    "<li>RandomForestClassifier (случайный лес)</li>\n",
    "<li>LogisticRegression (логистическая регрессия)</li>\n",
    "</ol>\n",
    "для дальнейшего использования параметров лучших моделей, создадим таблицу для их хранения"
   ]
  },
  {
   "cell_type": "code",
   "execution_count": 12,
   "metadata": {},
   "outputs": [],
   "source": [
    "data = pd.DataFrame({'name': [], 'best_result': [],\n",
    "                     'F1_score': [], 'model': [], #'model_dump':[]\n",
    "                    })\n"
   ]
  },
  {
   "cell_type": "code",
   "execution_count": 13,
   "metadata": {},
   "outputs": [],
   "source": [
    "def build_graph(res_tree:dict, best_depth:list, titles:str)->plt:\n",
    "\n",
    "    fig, ax = plt.subplots(ncols=1, figsize=(15,5))\n",
    "    sns.lineplot(ax=ax, \n",
    "                 y=res_tree['valid'].values(),\n",
    "                 x=res_tree['valid'].keys(),\n",
    "                 color='#00BFFF',\n",
    "                 legend=True,\n",
    "                 label='проверочные данные',\n",
    "                )\n",
    "    sns.lineplot(ax=ax,\n",
    "                 y=res_tree['learn'].values(),\n",
    "                 x=res_tree['learn'].keys(),\n",
    "                 color='#800000',\n",
    "                 legend=True,\n",
    "                 label='данные для обучения',\n",
    "                )\n",
    "    plt.title(titles)\n",
    "    sns.scatterplot(\n",
    "        x=[best_depth[0],],\n",
    "        y=[best_depth[1],],\n",
    "        color='#191970',\n",
    "        s=70,\n",
    "    )\n",
    "    plt.ylabel('точность модели')\n",
    "    plt.xlabel('настройки модели')\n",
    "    \n",
    "    plt.annotate(\n",
    "        f'лучшая точность {best_depth[1]:.5%}',\n",
    "        xy=(best_depth[0],\n",
    "            best_depth[1]),\n",
    "        xytext=(10, 0),\n",
    "        textcoords='offset points',\n",
    "        fontweight='bold',\n",
    "        rotation=0,\n",
    "    )\n",
    "    plt.legend ()\n",
    "    return plt"
   ]
  },
  {
   "cell_type": "code",
   "execution_count": 14,
   "metadata": {},
   "outputs": [],
   "source": [
    "def my_model(data, models, models_settings, stop=50, start=1):\n",
    "    \n",
    "    res = {'valid': dict(), 'learn': dict()}\n",
    "    best_model = None\n",
    "    best_result = 0\n",
    "    for models_setting in models_settings:\n",
    "        model = models(**models_setting)\n",
    "        model.fit(learn_data, learn_target)\n",
    "\n",
    "        dict_item = models_setting[list(models_setting.keys())[0]]\n",
    "\n",
    "        tmp_valid = accuracy_score(\n",
    "            valid_target, \n",
    "            model.predict(valid_data))\n",
    "\n",
    "        tmp_learn = accuracy_score(\n",
    "            learn_target,\n",
    "            model.predict(learn_data))\n",
    "\n",
    "        if tmp_valid > best_result:\n",
    "            best_model = model\n",
    "            best_result = tmp_valid\n",
    "            best_depth = dict_item\n",
    "        res['valid'][dict_item] = tmp_valid\n",
    "        res['learn'][dict_item] = tmp_learn\n",
    "        \n",
    "    data = data.append({\n",
    "        'name': models.__name__,\n",
    "        'best_result': best_result,\n",
    "        'F1_score': f1_score(\n",
    "            valid_target,\n",
    "            model.predict(valid_data),\n",
    "            average='micro',\n",
    "        ),\n",
    "        'model': f'{best_model=}', \n",
    "        #'model_dump': dump(best_model, models.__name__+'.joblib') для сохранения в файл\n",
    "    },\n",
    "        ignore_index=True)\n",
    "    #print(best_result)\n",
    "    try:\n",
    "        models_settings[0]['penalty']\n",
    "        titles = f'{models.__name__} (penalty: {models_settings[0][\"penalty\"]}, solver: {models_settings[0][\"solver\"]})'\n",
    "    except: titles = f'{models.__name__}'\n",
    "    build_graph(res, [best_depth, best_result], titles).show()\n",
    "    print(\"Accuracy лучшей модели:\", best_result)\n",
    "    return data"
   ]
  },
  {
   "cell_type": "markdown",
   "metadata": {},
   "source": [
    "### Исследуем данные с помошью дерева решений"
   ]
  },
  {
   "cell_type": "markdown",
   "metadata": {},
   "source": [
    "при исследовании модели будем использовать максимальную глубину дерева от 1 до 40 и random_state (для воспроизводения случайных значений) равным 12345"
   ]
  },
  {
   "cell_type": "code",
   "execution_count": 15,
   "metadata": {
    "tags": []
   },
   "outputs": [
    {
     "data": {
      "image/png": "[encoded data removed]",
      "text/plain": [
       "<Figure size 1080x360 with 1 Axes>"
      ]
     },
     "metadata": {
      "needs_background": "light"
     },
     "output_type": "display_data"
    },
    {
     "name": "stdout",
     "output_type": "stream",
     "text": [
      "Accuracy лучшей модели: 0.8118195956454122\n"
     ]
    }
   ],
   "source": [
    "data = my_model(\n",
    "    data=data,\n",
    "    models=DecisionTreeClassifier,\n",
    "    models_settings=[\n",
    "        {\n",
    "            'max_depth': i,\n",
    "            'random_state':12345,\n",
    "        }\n",
    "        for i in range(1, 40)],\n",
    ")"
   ]
  },
  {
   "cell_type": "markdown",
   "metadata": {},
   "source": [
    "### Исследуем данные с помошью случайного леса решений"
   ]
  },
  {
   "cell_type": "markdown",
   "metadata": {},
   "source": [
    "Число деревьев в лесу решений установим в диапазоне от 1 до 50 и random_state (для воспроизводения случайных значений) равным 12345"
   ]
  },
  {
   "cell_type": "code",
   "execution_count": 16,
   "metadata": {},
   "outputs": [
    {
     "data": {
      "image/png": "[encoded data removed]",
      "text/plain": [
       "<Figure size 1080x360 with 1 Axes>"
      ]
     },
     "metadata": {
      "needs_background": "light"
     },
     "output_type": "display_data"
    },
    {
     "name": "stdout",
     "output_type": "stream",
     "text": [
      "Accuracy лучшей модели: 0.80248833592535\n"
     ]
    }
   ],
   "source": [
    "data = my_model(\n",
    "    data=data,\n",
    "    models=RandomForestClassifier,\n",
    "    models_settings=[\n",
    "        {\n",
    "            'n_estimators': i,\n",
    "            'random_state':12345,\n",
    "        }\n",
    "        for i in range(1, 50)],\n",
    ")"
   ]
  },
  {
   "cell_type": "markdown",
   "metadata": {},
   "source": [
    "### Исследуем данные с помошью логистической регрессии\n"
   ]
  },
  {
   "cell_type": "markdown",
   "metadata": {},
   "source": [
    "будем использовать штрафы 'l1' и 'l2'\n",
    "<p>в качестве параметров в solver будем передовать 'lbfgs', 'liblinear'\n",
    "<p>Максимальное количество итераций, необходимых для сходимости решателей будет в диапазоне (10, 100)"
   ]
  },
  {
   "cell_type": "code",
   "execution_count": 17,
   "metadata": {},
   "outputs": [
    {
     "data": {
      "image/png": "[encoded data removed]",
      "text/plain": [
       "<Figure size 1080x360 with 1 Axes>"
      ]
     },
     "metadata": {
      "needs_background": "light"
     },
     "output_type": "display_data"
    },
    {
     "name": "stdout",
     "output_type": "stream",
     "text": [
      "Accuracy лучшей модели: 0.7480559875583204\n"
     ]
    },
    {
     "data": {
      "image/png": "[encoded data removed]",
      "text/plain": [
       "<Figure size 1080x360 with 1 Axes>"
      ]
     },
     "metadata": {
      "needs_background": "light"
     },
     "output_type": "display_data"
    },
    {
     "name": "stdout",
     "output_type": "stream",
     "text": [
      "Accuracy лучшей модели: 0.7573872472783826\n"
     ]
    },
    {
     "data": {
      "image/png": "[encoded data removed]",
      "text/plain": [
       "<Figure size 1080x360 with 1 Axes>"
      ]
     },
     "metadata": {
      "needs_background": "light"
     },
     "output_type": "display_data"
    },
    {
     "name": "stdout",
     "output_type": "stream",
     "text": [
      "Accuracy лучшей модели: 0.7107309486780715\n"
     ]
    }
   ],
   "source": [
    "dict_penalty = {'l1': ['liblinear'],\n",
    " 'l2': ['lbfgs', 'liblinear']}\n",
    "for penalty in dict_penalty:\n",
    "    for solver in dict_penalty[penalty]:\n",
    "        data = my_model(\n",
    "            data=data,\n",
    "            models=LogisticRegression,\n",
    "            models_settings=[\n",
    "                {\n",
    "                    'max_iter': i,\n",
    "                    'penalty': penalty,\n",
    "                    'solver': solver,\n",
    "                    'random_state': 12345,\n",
    "                }\n",
    "                for i in range(1, 100)],\n",
    "        )"
   ]
  },
  {
   "cell_type": "markdown",
   "metadata": {},
   "source": [
    "как видно из графиков лучшая доля правильных ответов была получена при использовании параметров penalty = 'l2' и solver ='lbfgs'"
   ]
  },
  {
   "cell_type": "markdown",
   "metadata": {},
   "source": [
    "выберем лучшую модель по показателю f1_score из всех моделей"
   ]
  },
  {
   "cell_type": "code",
   "execution_count": 18,
   "metadata": {
    "scrolled": true
   },
   "outputs": [
    {
     "data": {
      "text/html": [
       "<div>\n",
       "<style scoped>\n",
       "    .dataframe tbody tr th:only-of-type {\n",
       "        vertical-align: middle;\n",
       "    }\n",
       "\n",
       "    .dataframe tbody tr th {\n",
       "        vertical-align: top;\n",
       "    }\n",
       "\n",
       "    .dataframe thead th {\n",
       "        text-align: right;\n",
       "    }\n",
       "</style>\n",
       "<table border=\"1\" class=\"dataframe\">\n",
       "  <thead>\n",
       "    <tr style=\"text-align: right;\">\n",
       "      <th></th>\n",
       "      <th>name</th>\n",
       "      <th>best_result</th>\n",
       "      <th>F1_score</th>\n",
       "    </tr>\n",
       "  </thead>\n",
       "  <tbody>\n",
       "    <tr>\n",
       "      <th>1</th>\n",
       "      <td>RandomForestClassifier</td>\n",
       "      <td>0.802488</td>\n",
       "      <td>0.799378</td>\n",
       "    </tr>\n",
       "    <tr>\n",
       "      <th>2</th>\n",
       "      <td>LogisticRegression</td>\n",
       "      <td>0.748056</td>\n",
       "      <td>0.746501</td>\n",
       "    </tr>\n",
       "    <tr>\n",
       "      <th>3</th>\n",
       "      <td>LogisticRegression</td>\n",
       "      <td>0.757387</td>\n",
       "      <td>0.746501</td>\n",
       "    </tr>\n",
       "    <tr>\n",
       "      <th>0</th>\n",
       "      <td>DecisionTreeClassifier</td>\n",
       "      <td>0.811820</td>\n",
       "      <td>0.724728</td>\n",
       "    </tr>\n",
       "    <tr>\n",
       "      <th>4</th>\n",
       "      <td>LogisticRegression</td>\n",
       "      <td>0.710731</td>\n",
       "      <td>0.710731</td>\n",
       "    </tr>\n",
       "  </tbody>\n",
       "</table>\n",
       "</div>"
      ],
      "text/plain": [
       "                     name  best_result  F1_score\n",
       "1  RandomForestClassifier     0.802488  0.799378\n",
       "2      LogisticRegression     0.748056  0.746501\n",
       "3      LogisticRegression     0.757387  0.746501\n",
       "0  DecisionTreeClassifier     0.811820  0.724728\n",
       "4      LogisticRegression     0.710731  0.710731"
      ]
     },
     "execution_count": 18,
     "metadata": {},
     "output_type": "execute_result"
    }
   ],
   "source": [
    "data = data.sort_values(by=['F1_score'], ascending=False)[~data.drop(columns=['model']).duplicated(keep='last')]\n",
    "data.drop('model', axis=1)"
   ]
  },
  {
   "cell_type": "markdown",
   "metadata": {},
   "source": [
    "### Краткий вывод"
   ]
  },
  {
   "cell_type": "markdown",
   "metadata": {},
   "source": [
    "были рассмотрены 3 модели:\n",
    "<ol>\n",
    "    <li> RandomForestClassifier\n",
    "    <li> LogisticRegression\n",
    "    <li> DecisionTreeClassifier \t\n",
    "</ol>\n",
    "<p> лучшей из них по соотношению среднеквадратичному отклонению является первая модель, с результатом, на проверочной выборке в 80.2% и f1_score = 0.799378"
   ]
  },
  {
   "cell_type": "markdown",
   "metadata": {
    "tags": []
   },
   "source": [
    "## Проверим лучшую модель на тестовой выборке"
   ]
  },
  {
   "cell_type": "markdown",
   "metadata": {},
   "source": [
    "посмотрим, что у нас получилось в таблице с моделями"
   ]
  },
  {
   "cell_type": "code",
   "execution_count": 19,
   "metadata": {},
   "outputs": [
    {
     "data": {
      "text/html": [
       "<div>\n",
       "<style scoped>\n",
       "    .dataframe tbody tr th:only-of-type {\n",
       "        vertical-align: middle;\n",
       "    }\n",
       "\n",
       "    .dataframe tbody tr th {\n",
       "        vertical-align: top;\n",
       "    }\n",
       "\n",
       "    .dataframe thead th {\n",
       "        text-align: right;\n",
       "    }\n",
       "</style>\n",
       "<table border=\"1\" class=\"dataframe\">\n",
       "  <thead>\n",
       "    <tr style=\"text-align: right;\">\n",
       "      <th></th>\n",
       "      <th>name</th>\n",
       "      <th>best_result</th>\n",
       "      <th>F1_score</th>\n",
       "      <th>model</th>\n",
       "    </tr>\n",
       "  </thead>\n",
       "  <tbody>\n",
       "    <tr>\n",
       "      <th>1</th>\n",
       "      <td>RandomForestClassifier</td>\n",
       "      <td>0.802488</td>\n",
       "      <td>0.799378</td>\n",
       "      <td>best_model=RandomForestClassifier(n_estimators=21, random_state=12345)</td>\n",
       "    </tr>\n",
       "    <tr>\n",
       "      <th>2</th>\n",
       "      <td>LogisticRegression</td>\n",
       "      <td>0.748056</td>\n",
       "      <td>0.746501</td>\n",
       "      <td>best_model=LogisticRegression(max_iter=6, penalty='l1', random_state=12345,\\n                   solver='liblinear')</td>\n",
       "    </tr>\n",
       "    <tr>\n",
       "      <th>3</th>\n",
       "      <td>LogisticRegression</td>\n",
       "      <td>0.757387</td>\n",
       "      <td>0.746501</td>\n",
       "      <td>best_model=LogisticRegression(max_iter=77, random_state=12345)</td>\n",
       "    </tr>\n",
       "    <tr>\n",
       "      <th>0</th>\n",
       "      <td>DecisionTreeClassifier</td>\n",
       "      <td>0.811820</td>\n",
       "      <td>0.724728</td>\n",
       "      <td>best_model=DecisionTreeClassifier(max_depth=5, random_state=12345)</td>\n",
       "    </tr>\n",
       "    <tr>\n",
       "      <th>4</th>\n",
       "      <td>LogisticRegression</td>\n",
       "      <td>0.710731</td>\n",
       "      <td>0.710731</td>\n",
       "      <td>best_model=LogisticRegression(max_iter=11, random_state=12345, solver='liblinear')</td>\n",
       "    </tr>\n",
       "  </tbody>\n",
       "</table>\n",
       "</div>"
      ],
      "text/plain": [
       "                     name  best_result  F1_score  \\\n",
       "1  RandomForestClassifier     0.802488  0.799378   \n",
       "2      LogisticRegression     0.748056  0.746501   \n",
       "3      LogisticRegression     0.757387  0.746501   \n",
       "0  DecisionTreeClassifier     0.811820  0.724728   \n",
       "4      LogisticRegression     0.710731  0.710731   \n",
       "\n",
       "                                                                                                                 model  \n",
       "1                                               best_model=RandomForestClassifier(n_estimators=21, random_state=12345)  \n",
       "2  best_model=LogisticRegression(max_iter=6, penalty='l1', random_state=12345,\\n                   solver='liblinear')  \n",
       "3                                                       best_model=LogisticRegression(max_iter=77, random_state=12345)  \n",
       "0                                                   best_model=DecisionTreeClassifier(max_depth=5, random_state=12345)  \n",
       "4                                   best_model=LogisticRegression(max_iter=11, random_state=12345, solver='liblinear')  "
      ]
     },
     "execution_count": 19,
     "metadata": {},
     "output_type": "execute_result"
    }
   ],
   "source": [
    "data"
   ]
  },
  {
   "cell_type": "markdown",
   "metadata": {},
   "source": [
    "применим тестовые данные к моделям"
   ]
  },
  {
   "cell_type": "code",
   "execution_count": 20,
   "metadata": {},
   "outputs": [
    {
     "name": "stdout",
     "output_type": "stream",
     "text": [
      "RandomForestClassifier <bound method BaseEstimator.get_params of RandomForestClassifier(n_estimators=21, random_state=12345)>\n",
      "accuracy_score:   79.94%\n",
      "f1_score:   0.799378\n",
      "\n",
      " ************************************************** \n",
      "\n",
      "LogisticRegression <bound method BaseEstimator.get_params of LogisticRegression(max_iter=6, penalty='l1', random_state=12345,\n",
      "                   solver='liblinear')>\n",
      "accuracy_score:   72.94%\n",
      "f1_score:   0.729393\n",
      "\n",
      " ************************************************** \n",
      "\n",
      "LogisticRegression <bound method BaseEstimator.get_params of LogisticRegression(max_iter=77, random_state=12345)>\n",
      "accuracy_score:   74.03%\n",
      "f1_score:   0.740280\n",
      "\n",
      " ************************************************** \n",
      "\n",
      "DecisionTreeClassifier <bound method BaseEstimator.get_params of DecisionTreeClassifier(max_depth=5, random_state=12345)>\n",
      "accuracy_score:   78.54%\n",
      "f1_score:   0.785381\n",
      "\n",
      " ************************************************** \n",
      "\n",
      "LogisticRegression <bound method BaseEstimator.get_params of LogisticRegression(max_iter=11, random_state=12345, solver='liblinear')>\n",
      "accuracy_score:   71.85%\n",
      "f1_score:   0.718507\n",
      "\n",
      " ************************************************** \n",
      "\n"
     ]
    }
   ],
   "source": [
    "for numb, name in enumerate(data.name):\n",
    "    exec(data.model.iloc[numb])\n",
    "    best_model.fit(learn_data, learn_target)\n",
    "    predict = best_model.predict(test_data)\n",
    "    print(name, best_model.get_params)\n",
    "    print('accuracy_score: ', f'{accuracy_score(test_target, predict) : .2%}')\n",
    "    print('f1_score: ', f'{f1_score(test_target, predict, average=\"micro\"): .6f}')\n",
    "    print('\\n', '*' * 50, '\\n')"
   ]
  },
  {
   "cell_type": "markdown",
   "metadata": {
    "tags": []
   },
   "source": [
    "### Краткий выввод"
   ]
  },
  {
   "cell_type": "markdown",
   "metadata": {},
   "source": [
    "при проверке моделей на тестовой выборке получили следующие результаты:\n",
    "<p>лучшая модель, показавшая большую оценку F1 и лучшую точность, при проверке на тестовых данных показала схожие результаты.\n",
    "<lo>\n",
    "    <li> доля правильных ответов в районе:  <b><i>79,94%</b></i>\n",
    "    <li> оценка F1: <b><i>0.799378</b></i>\n",
    "</lo>"
   ]
  },
  {
   "cell_type": "markdown",
   "metadata": {},
   "source": [
    "## (бонус) Проверьте модели на адекватность"
   ]
  },
  {
   "cell_type": "markdown",
   "metadata": {},
   "source": [
    "для проверки модели на адекватность посмотрим что даст использование модели DummyClassifier.\n",
    "DummyClassifier в качестве предсказания возвращает самое часто встречающееся значение.  \n",
    "по факту, если наша модель возвращает значение хуже, то она не работает от слова совсем.."
   ]
  },
  {
   "cell_type": "code",
   "execution_count": 21,
   "metadata": {},
   "outputs": [
    {
     "name": "stdout",
     "output_type": "stream",
     "text": [
      "accuracy_score:   69.35%\n",
      "f1_score:   0.693528\n"
     ]
    }
   ],
   "source": [
    "dummy = DummyClassifier(strategy=\"most_frequent\")\n",
    "X = user_behavior.drop('is_ultra', axis=1)\n",
    "y = user_behavior.is_ultra\n",
    "dummy.fit(X, y)\n",
    "print('accuracy_score: ', f'{dummy.score(X, y) : .2%}')\n",
    "print('f1_score: ', f'{f1_score(y, dummy.predict(X), average=\"micro\"): .6f}')"
   ]
  },
  {
   "cell_type": "markdown",
   "metadata": {},
   "source": [
    "учитывая, что доля правильных ответов и оценка F1 нашей модели выше доли правильных ответов и оценки F1 DummyClassifier, то выбранную модель можно считать рабочей"
   ]
  },
  {
   "cell_type": "markdown",
   "metadata": {},
   "source": [
    "## Вывод:"
   ]
  },
  {
   "cell_type": "markdown",
   "metadata": {},
   "source": [
    "В ходе реализации проекта были проведены следующие работы:\n",
    "<ol>\n",
    "<li>    Открыт и изучен файл, \n",
    "<li>    Разделены данные на выборки\n",
    "<li>    Проведено исследоввание моделей <b>RandomForestClassifier, LogisticRegression, DecisionTreeClassifier </b> в ходе чего лучшей моделью из расматриваемых оказалась RandomForestClassifier запущенная с параметрами (n_estimators=21, random_state=12345)\n",
    "    <p>\n",
    "    <p>доля правильных ответов модели: 80,25% \n",
    "    <p> оценка F1: 0.799378\n",
    "<p>\n",
    "<li>    Лучшую модель была проверена на тестовых данных в ходе чего были получены результаты схожие с данными полученными при проведении иследований моделей\n",
    "    <p>\n",
    "    <p>доля правильных ответов в районе: 79,94%\n",
    "    <p>оценка F1: 0.799378 \n",
    "<p>\n",
    "<li>    Модель была проверена на адекватность с помошью метода DummyClassifier\n",
    "<li>    Подводя общий итог проделанной работе можно сказать, что модель RandomForestClassifier является наилучшей из рассмотренных\n",
    "</ol>"
   ]
  }
 ],
 "metadata": {
  "ExecuteTimeLog": [
   {
    "duration": 7305,
    "start_time": "2023-04-21T09:17:02.593Z"
   },
   {
    "duration": 95,
    "start_time": "2023-04-21T09:17:09.900Z"
   },
   {
    "duration": 415,
    "start_time": "2023-04-21T09:17:09.999Z"
   },
   {
    "duration": 78,
    "start_time": "2023-04-21T09:17:10.416Z"
   },
   {
    "duration": 212,
    "start_time": "2023-04-21T09:17:10.497Z"
   },
   {
    "duration": 84,
    "start_time": "2023-04-21T09:17:10.711Z"
   },
   {
    "duration": 8,
    "start_time": "2023-04-21T09:17:10.797Z"
   },
   {
    "duration": 7,
    "start_time": "2023-04-21T09:17:10.807Z"
   },
   {
    "duration": 104,
    "start_time": "2023-04-21T09:17:10.893Z"
   },
   {
    "duration": 116,
    "start_time": "2023-04-21T09:17:10.998Z"
   },
   {
    "duration": 4,
    "start_time": "2023-04-21T09:17:11.115Z"
   },
   {
    "duration": 73,
    "start_time": "2023-04-21T09:17:11.121Z"
   },
   {
    "duration": 110,
    "start_time": "2023-04-21T09:17:11.293Z"
   },
   {
    "duration": 22,
    "start_time": "2023-04-21T09:17:11.406Z"
   },
   {
    "duration": 4470,
    "start_time": "2023-04-21T09:17:11.430Z"
   },
   {
    "duration": 0,
    "start_time": "2023-04-21T09:17:15.902Z"
   },
   {
    "duration": 0,
    "start_time": "2023-04-21T09:17:15.903Z"
   },
   {
    "duration": 0,
    "start_time": "2023-04-21T09:17:15.904Z"
   },
   {
    "duration": 0,
    "start_time": "2023-04-21T09:17:15.904Z"
   },
   {
    "duration": 0,
    "start_time": "2023-04-21T09:17:15.905Z"
   },
   {
    "duration": 0,
    "start_time": "2023-04-21T09:17:15.905Z"
   },
   {
    "duration": 1885,
    "start_time": "2023-04-21T12:51:09.354Z"
   },
   {
    "duration": 4,
    "start_time": "2023-04-21T12:51:11.242Z"
   },
   {
    "duration": 124,
    "start_time": "2023-04-21T12:51:11.248Z"
   },
   {
    "duration": 23,
    "start_time": "2023-04-21T12:51:11.374Z"
   },
   {
    "duration": 35,
    "start_time": "2023-04-21T12:51:11.401Z"
   },
   {
    "duration": 7,
    "start_time": "2023-04-21T12:51:11.439Z"
   },
   {
    "duration": 8,
    "start_time": "2023-04-21T12:51:11.448Z"
   },
   {
    "duration": 38,
    "start_time": "2023-04-21T12:51:11.458Z"
   },
   {
    "duration": 7,
    "start_time": "2023-04-21T12:51:11.499Z"
   },
   {
    "duration": 14,
    "start_time": "2023-04-21T12:51:11.508Z"
   },
   {
    "duration": 5,
    "start_time": "2023-04-21T12:51:11.524Z"
   },
   {
    "duration": 5,
    "start_time": "2023-04-21T12:51:11.531Z"
   },
   {
    "duration": 12,
    "start_time": "2023-04-21T12:51:35.400Z"
   },
   {
    "duration": 5,
    "start_time": "2023-04-21T12:51:36.238Z"
   },
   {
    "duration": 5,
    "start_time": "2023-04-21T12:51:38.727Z"
   },
   {
    "duration": 8,
    "start_time": "2023-04-21T12:51:39.391Z"
   },
   {
    "duration": 10,
    "start_time": "2023-04-21T12:51:39.918Z"
   },
   {
    "duration": 975,
    "start_time": "2023-04-21T12:51:41.943Z"
   },
   {
    "duration": 6611,
    "start_time": "2023-04-21T12:51:57.438Z"
   },
   {
    "duration": 5610,
    "start_time": "2023-04-21T12:52:04.051Z"
   },
   {
    "duration": 15,
    "start_time": "2023-04-21T12:52:09.663Z"
   },
   {
    "duration": 22,
    "start_time": "2023-04-21T12:52:09.680Z"
   },
   {
    "duration": 192,
    "start_time": "2023-04-21T12:52:09.704Z"
   },
   {
    "duration": 9,
    "start_time": "2023-04-21T12:52:09.898Z"
   },
   {
    "duration": 45,
    "start_time": "2023-04-21T13:03:14.119Z"
   },
   {
    "duration": 63,
    "start_time": "2023-04-21T13:03:30.981Z"
   },
   {
    "duration": 58,
    "start_time": "2023-04-21T13:03:40.565Z"
   },
   {
    "duration": 62,
    "start_time": "2023-04-21T13:03:57.267Z"
   },
   {
    "duration": 4,
    "start_time": "2023-04-21T13:04:15.916Z"
   },
   {
    "duration": 4,
    "start_time": "2023-04-21T13:04:16.268Z"
   },
   {
    "duration": 45,
    "start_time": "2023-04-21T13:04:17.513Z"
   },
   {
    "duration": 14,
    "start_time": "2023-04-21T13:04:21.318Z"
   },
   {
    "duration": 4,
    "start_time": "2023-04-21T13:04:26.476Z"
   },
   {
    "duration": 3,
    "start_time": "2023-04-21T13:04:26.884Z"
   },
   {
    "duration": 46,
    "start_time": "2023-04-21T13:04:27.214Z"
   },
   {
    "duration": 11,
    "start_time": "2023-04-21T13:04:27.876Z"
   },
   {
    "duration": 40,
    "start_time": "2023-04-21T13:04:28.268Z"
   },
   {
    "duration": 17,
    "start_time": "2023-04-21T13:04:28.692Z"
   },
   {
    "duration": 7,
    "start_time": "2023-04-21T13:04:29.117Z"
   },
   {
    "duration": 7,
    "start_time": "2023-04-21T13:04:29.516Z"
   },
   {
    "duration": 7,
    "start_time": "2023-04-21T13:04:30.467Z"
   },
   {
    "duration": 832,
    "start_time": "2023-04-21T13:31:57.270Z"
   },
   {
    "duration": 1389,
    "start_time": "2023-04-21T13:33:53.932Z"
   },
   {
    "duration": 4,
    "start_time": "2023-04-21T13:40:46.145Z"
   },
   {
    "duration": 3,
    "start_time": "2023-04-21T13:40:49.079Z"
   },
   {
    "duration": 5,
    "start_time": "2023-04-21T13:40:56.078Z"
   },
   {
    "duration": 4,
    "start_time": "2023-04-21T13:41:00.176Z"
   },
   {
    "duration": 5,
    "start_time": "2023-04-21T13:41:03.776Z"
   },
   {
    "duration": 4,
    "start_time": "2023-04-21T13:41:20.841Z"
   },
   {
    "duration": 1460,
    "start_time": "2023-04-21T13:45:45.286Z"
   },
   {
    "duration": 3,
    "start_time": "2023-04-21T13:45:46.749Z"
   },
   {
    "duration": 73,
    "start_time": "2023-04-21T13:45:46.754Z"
   },
   {
    "duration": 16,
    "start_time": "2023-04-21T13:45:46.830Z"
   },
   {
    "duration": 26,
    "start_time": "2023-04-21T13:45:46.848Z"
   },
   {
    "duration": 5,
    "start_time": "2023-04-21T13:45:46.876Z"
   },
   {
    "duration": 11,
    "start_time": "2023-04-21T13:45:46.893Z"
   },
   {
    "duration": 16,
    "start_time": "2023-04-21T13:45:46.906Z"
   },
   {
    "duration": 7,
    "start_time": "2023-04-21T13:45:46.925Z"
   },
   {
    "duration": 29,
    "start_time": "2023-04-21T13:45:46.934Z"
   },
   {
    "duration": 11,
    "start_time": "2023-04-21T13:45:46.965Z"
   },
   {
    "duration": 9,
    "start_time": "2023-04-21T13:45:46.978Z"
   },
   {
    "duration": 14,
    "start_time": "2023-04-21T13:45:46.989Z"
   },
   {
    "duration": 22,
    "start_time": "2023-04-21T13:45:47.005Z"
   },
   {
    "duration": 752,
    "start_time": "2023-04-21T13:45:47.028Z"
   },
   {
    "duration": 6201,
    "start_time": "2023-04-21T13:45:47.783Z"
   },
   {
    "duration": 5666,
    "start_time": "2023-04-21T13:45:53.985Z"
   },
   {
    "duration": 20,
    "start_time": "2023-04-21T13:45:59.653Z"
   },
   {
    "duration": 12,
    "start_time": "2023-04-21T13:45:59.693Z"
   },
   {
    "duration": 196,
    "start_time": "2023-04-21T13:45:59.707Z"
   },
   {
    "duration": 8,
    "start_time": "2023-04-21T13:45:59.905Z"
   },
   {
    "duration": 2680,
    "start_time": "2023-04-21T14:23:51.152Z"
   },
   {
    "duration": 14,
    "start_time": "2023-04-21T14:23:53.840Z"
   },
   {
    "duration": 122,
    "start_time": "2023-04-21T14:23:53.861Z"
   },
   {
    "duration": 14,
    "start_time": "2023-04-21T14:23:53.984Z"
   },
   {
    "duration": 54,
    "start_time": "2023-04-21T14:23:54.000Z"
   },
   {
    "duration": 9,
    "start_time": "2023-04-21T14:23:54.062Z"
   },
   {
    "duration": 22,
    "start_time": "2023-04-21T14:23:54.074Z"
   },
   {
    "duration": 15,
    "start_time": "2023-04-21T14:23:54.098Z"
   },
   {
    "duration": 56,
    "start_time": "2023-04-21T14:23:54.115Z"
   },
   {
    "duration": 15,
    "start_time": "2023-04-21T14:23:54.173Z"
   },
   {
    "duration": 4,
    "start_time": "2023-04-21T14:23:54.190Z"
   },
   {
    "duration": 11,
    "start_time": "2023-04-21T14:23:54.195Z"
   },
   {
    "duration": 61,
    "start_time": "2023-04-21T14:23:54.208Z"
   },
   {
    "duration": 9,
    "start_time": "2023-04-21T14:23:54.272Z"
   },
   {
    "duration": 863,
    "start_time": "2023-04-21T14:23:54.283Z"
   },
   {
    "duration": 7158,
    "start_time": "2023-04-21T14:23:55.149Z"
   },
   {
    "duration": 6348,
    "start_time": "2023-04-21T14:24:02.308Z"
   },
   {
    "duration": 18,
    "start_time": "2023-04-21T14:24:08.658Z"
   },
   {
    "duration": 27,
    "start_time": "2023-04-21T14:24:08.677Z"
   },
   {
    "duration": 240,
    "start_time": "2023-04-21T14:24:08.706Z"
   },
   {
    "duration": 18,
    "start_time": "2023-04-21T14:24:08.956Z"
   },
   {
    "duration": 72,
    "start_time": "2023-04-21T19:03:44.164Z"
   },
   {
    "duration": 2022,
    "start_time": "2023-04-21T19:03:51.688Z"
   },
   {
    "duration": 4,
    "start_time": "2023-04-21T19:03:53.713Z"
   },
   {
    "duration": 206,
    "start_time": "2023-04-21T19:03:53.720Z"
   },
   {
    "duration": 21,
    "start_time": "2023-04-21T19:03:53.928Z"
   },
   {
    "duration": 40,
    "start_time": "2023-04-21T19:03:53.952Z"
   },
   {
    "duration": 8,
    "start_time": "2023-04-21T19:03:53.994Z"
   },
   {
    "duration": 8,
    "start_time": "2023-04-21T19:03:54.004Z"
   },
   {
    "duration": 25,
    "start_time": "2023-04-21T19:03:54.014Z"
   },
   {
    "duration": 5,
    "start_time": "2023-04-21T19:03:54.041Z"
   },
   {
    "duration": 20,
    "start_time": "2023-04-21T19:03:54.048Z"
   },
   {
    "duration": 6,
    "start_time": "2023-04-21T19:03:54.070Z"
   },
   {
    "duration": 13,
    "start_time": "2023-04-21T19:03:54.078Z"
   },
   {
    "duration": 8,
    "start_time": "2023-04-21T19:03:54.093Z"
   },
   {
    "duration": 11,
    "start_time": "2023-04-21T19:03:54.104Z"
   },
   {
    "duration": 880,
    "start_time": "2023-04-21T19:03:54.117Z"
   },
   {
    "duration": 6601,
    "start_time": "2023-04-21T19:03:55.000Z"
   },
   {
    "duration": 5999,
    "start_time": "2023-04-21T19:04:01.603Z"
   },
   {
    "duration": 5,
    "start_time": "2023-04-21T19:28:43.941Z"
   },
   {
    "duration": 3,
    "start_time": "2023-04-21T19:28:44.987Z"
   },
   {
    "duration": 52,
    "start_time": "2023-04-21T19:28:45.242Z"
   },
   {
    "duration": 10,
    "start_time": "2023-04-21T19:28:45.745Z"
   },
   {
    "duration": 28,
    "start_time": "2023-04-21T19:28:46.056Z"
   },
   {
    "duration": 6,
    "start_time": "2023-04-21T19:28:46.312Z"
   },
   {
    "duration": 7,
    "start_time": "2023-04-21T19:28:46.591Z"
   },
   {
    "duration": 7,
    "start_time": "2023-04-21T19:28:46.895Z"
   },
   {
    "duration": 7,
    "start_time": "2023-04-21T19:28:47.807Z"
   },
   {
    "duration": 10,
    "start_time": "2023-04-21T19:28:52.587Z"
   },
   {
    "duration": 5,
    "start_time": "2023-04-21T19:28:54.989Z"
   },
   {
    "duration": 4,
    "start_time": "2023-04-21T19:29:02.734Z"
   },
   {
    "duration": 9,
    "start_time": "2023-04-21T19:29:05.560Z"
   },
   {
    "duration": 8,
    "start_time": "2023-04-21T19:29:23.047Z"
   },
   {
    "duration": 808,
    "start_time": "2023-04-21T19:29:26.757Z"
   },
   {
    "duration": 5792,
    "start_time": "2023-04-21T19:29:36.906Z"
   },
   {
    "duration": 5400,
    "start_time": "2023-04-21T19:29:46.967Z"
   },
   {
    "duration": 15,
    "start_time": "2023-04-21T19:29:58.726Z"
   },
   {
    "duration": 17,
    "start_time": "2023-04-21T19:30:52.129Z"
   },
   {
    "duration": 97,
    "start_time": "2023-04-21T19:33:21.164Z"
   },
   {
    "duration": 17,
    "start_time": "2023-04-21T19:33:31.825Z"
   },
   {
    "duration": 53,
    "start_time": "2023-04-21T19:34:11.748Z"
   },
   {
    "duration": 15,
    "start_time": "2023-04-21T19:34:14.819Z"
   },
   {
    "duration": 52,
    "start_time": "2023-04-21T19:37:51.930Z"
   },
   {
    "duration": 7,
    "start_time": "2023-04-21T19:37:58.095Z"
   },
   {
    "duration": 412,
    "start_time": "2023-04-21T19:38:02.323Z"
   },
   {
    "duration": 5,
    "start_time": "2023-04-21T19:38:17.745Z"
   },
   {
    "duration": 650,
    "start_time": "2023-04-21T19:38:24.336Z"
   },
   {
    "duration": 5565,
    "start_time": "2023-04-21T19:38:29.169Z"
   },
   {
    "duration": 4709,
    "start_time": "2023-04-21T19:38:34.736Z"
   },
   {
    "duration": 16,
    "start_time": "2023-04-21T19:38:48.606Z"
   },
   {
    "duration": 1503,
    "start_time": "2023-04-21T19:39:13.259Z"
   },
   {
    "duration": 4,
    "start_time": "2023-04-21T19:39:14.764Z"
   },
   {
    "duration": 63,
    "start_time": "2023-04-21T19:39:14.769Z"
   },
   {
    "duration": 15,
    "start_time": "2023-04-21T19:39:14.835Z"
   },
   {
    "duration": 34,
    "start_time": "2023-04-21T19:39:14.852Z"
   },
   {
    "duration": 5,
    "start_time": "2023-04-21T19:39:14.888Z"
   },
   {
    "duration": 11,
    "start_time": "2023-04-21T19:39:14.895Z"
   },
   {
    "duration": 15,
    "start_time": "2023-04-21T19:39:14.908Z"
   },
   {
    "duration": 6,
    "start_time": "2023-04-21T19:39:14.925Z"
   },
   {
    "duration": 29,
    "start_time": "2023-04-21T19:39:14.934Z"
   },
   {
    "duration": 5,
    "start_time": "2023-04-21T19:39:14.965Z"
   },
   {
    "duration": 7,
    "start_time": "2023-04-21T19:39:14.972Z"
   },
   {
    "duration": 6,
    "start_time": "2023-04-21T19:39:14.981Z"
   },
   {
    "duration": 11,
    "start_time": "2023-04-21T19:39:14.988Z"
   },
   {
    "duration": 657,
    "start_time": "2023-04-21T19:39:15.001Z"
   },
   {
    "duration": 5337,
    "start_time": "2023-04-21T19:39:15.660Z"
   },
   {
    "duration": 5142,
    "start_time": "2023-04-21T19:39:20.999Z"
   },
   {
    "duration": 14,
    "start_time": "2023-04-21T19:39:37.921Z"
   },
   {
    "duration": 21,
    "start_time": "2023-04-21T19:39:56.244Z"
   },
   {
    "duration": 23,
    "start_time": "2023-04-21T19:40:37.567Z"
   },
   {
    "duration": 21,
    "start_time": "2023-04-21T19:40:52.412Z"
   },
   {
    "duration": 12,
    "start_time": "2023-04-21T19:49:19.351Z"
   },
   {
    "duration": 5,
    "start_time": "2023-04-21T19:49:27.098Z"
   },
   {
    "duration": 739,
    "start_time": "2023-04-21T19:49:33.983Z"
   },
   {
    "duration": 6022,
    "start_time": "2023-04-21T19:49:39.528Z"
   },
   {
    "duration": 5537,
    "start_time": "2023-04-21T19:49:50.040Z"
   },
   {
    "duration": 19,
    "start_time": "2023-04-21T19:50:00.038Z"
   },
   {
    "duration": 8,
    "start_time": "2023-04-21T19:55:22.176Z"
   },
   {
    "duration": 666,
    "start_time": "2023-04-21T19:55:23.251Z"
   },
   {
    "duration": 5,
    "start_time": "2023-04-21T19:55:29.301Z"
   },
   {
    "duration": 9,
    "start_time": "2023-04-21T19:55:31.466Z"
   },
   {
    "duration": 8,
    "start_time": "2023-04-21T19:55:31.699Z"
   },
   {
    "duration": 638,
    "start_time": "2023-04-21T19:55:32.234Z"
   },
   {
    "duration": 5818,
    "start_time": "2023-04-21T19:55:33.598Z"
   },
   {
    "duration": 5001,
    "start_time": "2023-04-21T19:55:39.419Z"
   },
   {
    "duration": 35,
    "start_time": "2023-04-21T19:55:44.423Z"
   },
   {
    "duration": 8,
    "start_time": "2023-04-21T19:57:55.204Z"
   },
   {
    "duration": 744,
    "start_time": "2023-04-21T19:57:56.505Z"
   },
   {
    "duration": 5942,
    "start_time": "2023-04-21T19:57:57.900Z"
   },
   {
    "duration": 5335,
    "start_time": "2023-04-21T19:58:03.844Z"
   },
   {
    "duration": 19,
    "start_time": "2023-04-21T19:58:09.181Z"
   },
   {
    "duration": 4,
    "start_time": "2023-04-21T19:58:18.248Z"
   },
   {
    "duration": 7,
    "start_time": "2023-04-21T19:58:18.553Z"
   },
   {
    "duration": 7,
    "start_time": "2023-04-21T19:58:18.776Z"
   },
   {
    "duration": 688,
    "start_time": "2023-04-21T19:58:19.329Z"
   },
   {
    "duration": 5895,
    "start_time": "2023-04-21T19:58:20.529Z"
   },
   {
    "duration": 4877,
    "start_time": "2023-04-21T19:58:26.426Z"
   },
   {
    "duration": 19,
    "start_time": "2023-04-21T19:58:31.305Z"
   },
   {
    "duration": 1484,
    "start_time": "2023-04-22T18:34:52.263Z"
   },
   {
    "duration": 2,
    "start_time": "2023-04-22T18:34:53.750Z"
   },
   {
    "duration": 112,
    "start_time": "2023-04-22T18:34:53.754Z"
   },
   {
    "duration": 14,
    "start_time": "2023-04-22T18:34:53.868Z"
   },
   {
    "duration": 27,
    "start_time": "2023-04-22T18:34:53.883Z"
   },
   {
    "duration": 5,
    "start_time": "2023-04-22T18:34:53.911Z"
   },
   {
    "duration": 15,
    "start_time": "2023-04-22T18:34:53.917Z"
   },
   {
    "duration": 12,
    "start_time": "2023-04-22T18:34:53.933Z"
   },
   {
    "duration": 7,
    "start_time": "2023-04-22T18:34:53.946Z"
   },
   {
    "duration": 11,
    "start_time": "2023-04-22T18:34:53.956Z"
   },
   {
    "duration": 7,
    "start_time": "2023-04-22T18:34:53.968Z"
   },
   {
    "duration": 6,
    "start_time": "2023-04-22T18:34:53.977Z"
   },
   {
    "duration": 6,
    "start_time": "2023-04-22T18:34:53.984Z"
   },
   {
    "duration": 10,
    "start_time": "2023-04-22T18:34:53.992Z"
   },
   {
    "duration": 614,
    "start_time": "2023-04-22T18:34:54.004Z"
   },
   {
    "duration": 5023,
    "start_time": "2023-04-22T18:34:54.619Z"
   },
   {
    "duration": 4295,
    "start_time": "2023-04-22T18:34:59.644Z"
   },
   {
    "duration": 11,
    "start_time": "2023-04-22T18:35:03.941Z"
   },
   {
    "duration": 16,
    "start_time": "2023-04-22T18:35:03.953Z"
   },
   {
    "duration": 200,
    "start_time": "2023-04-22T18:35:03.970Z"
   },
   {
    "duration": 0,
    "start_time": "2023-04-22T18:35:04.171Z"
   },
   {
    "duration": 8,
    "start_time": "2023-04-22T18:40:40.745Z"
   },
   {
    "duration": 103,
    "start_time": "2023-04-22T18:40:56.480Z"
   },
   {
    "duration": 9,
    "start_time": "2023-04-22T18:44:52.156Z"
   },
   {
    "duration": 131,
    "start_time": "2023-04-22T18:46:01.050Z"
   },
   {
    "duration": 8,
    "start_time": "2023-04-22T18:50:02.312Z"
   },
   {
    "duration": 134,
    "start_time": "2023-04-22T18:50:04.383Z"
   },
   {
    "duration": 6,
    "start_time": "2023-04-22T18:53:42.166Z"
   },
   {
    "duration": 664,
    "start_time": "2023-04-22T18:53:42.749Z"
   },
   {
    "duration": 5083,
    "start_time": "2023-04-22T18:53:43.917Z"
   },
   {
    "duration": 4347,
    "start_time": "2023-04-22T18:53:49.001Z"
   },
   {
    "duration": 12,
    "start_time": "2023-04-22T18:53:53.349Z"
   },
   {
    "duration": 11,
    "start_time": "2023-04-22T18:53:57.924Z"
   },
   {
    "duration": 4,
    "start_time": "2023-04-22T18:54:18.887Z"
   },
   {
    "duration": 9,
    "start_time": "2023-04-22T18:54:19.892Z"
   },
   {
    "duration": 5,
    "start_time": "2023-04-22T18:54:20.237Z"
   },
   {
    "duration": 4,
    "start_time": "2023-04-22T18:54:21.100Z"
   },
   {
    "duration": 6,
    "start_time": "2023-04-22T18:54:21.277Z"
   },
   {
    "duration": 7,
    "start_time": "2023-04-22T18:54:21.451Z"
   },
   {
    "duration": 619,
    "start_time": "2023-04-22T18:54:22.012Z"
   },
   {
    "duration": 5062,
    "start_time": "2023-04-22T18:54:23.321Z"
   },
   {
    "duration": 4400,
    "start_time": "2023-04-22T18:54:28.385Z"
   },
   {
    "duration": 13,
    "start_time": "2023-04-22T18:54:32.787Z"
   },
   {
    "duration": 16,
    "start_time": "2023-04-22T18:54:32.801Z"
   },
   {
    "duration": 157,
    "start_time": "2023-04-22T18:54:32.818Z"
   },
   {
    "duration": 3,
    "start_time": "2023-04-22T18:55:33.796Z"
   },
   {
    "duration": 6,
    "start_time": "2023-04-22T18:55:34.021Z"
   },
   {
    "duration": 6,
    "start_time": "2023-04-22T18:55:34.226Z"
   },
   {
    "duration": 585,
    "start_time": "2023-04-22T18:55:34.704Z"
   },
   {
    "duration": 5175,
    "start_time": "2023-04-22T18:55:35.711Z"
   },
   {
    "duration": 4291,
    "start_time": "2023-04-22T18:55:40.889Z"
   },
   {
    "duration": 12,
    "start_time": "2023-04-22T18:55:45.182Z"
   },
   {
    "duration": 13,
    "start_time": "2023-04-22T18:55:45.196Z"
   },
   {
    "duration": 139,
    "start_time": "2023-04-22T18:55:45.211Z"
   },
   {
    "duration": 9,
    "start_time": "2023-04-22T18:55:45.352Z"
   },
   {
    "duration": 1456,
    "start_time": "2023-04-22T19:05:50.860Z"
   },
   {
    "duration": 2,
    "start_time": "2023-04-22T19:05:52.319Z"
   },
   {
    "duration": 59,
    "start_time": "2023-04-22T19:05:52.323Z"
   },
   {
    "duration": 14,
    "start_time": "2023-04-22T19:05:52.383Z"
   },
   {
    "duration": 30,
    "start_time": "2023-04-22T19:05:52.399Z"
   },
   {
    "duration": 6,
    "start_time": "2023-04-22T19:05:52.431Z"
   },
   {
    "duration": 11,
    "start_time": "2023-04-22T19:05:52.438Z"
   },
   {
    "duration": 7,
    "start_time": "2023-04-22T19:05:52.450Z"
   },
   {
    "duration": 4,
    "start_time": "2023-04-22T19:05:52.459Z"
   },
   {
    "duration": 11,
    "start_time": "2023-04-22T19:05:52.465Z"
   },
   {
    "duration": 4,
    "start_time": "2023-04-22T19:05:52.478Z"
   },
   {
    "duration": 9,
    "start_time": "2023-04-22T19:05:52.484Z"
   },
   {
    "duration": 9,
    "start_time": "2023-04-22T19:05:52.494Z"
   },
   {
    "duration": 8,
    "start_time": "2023-04-22T19:05:52.506Z"
   },
   {
    "duration": 762,
    "start_time": "2023-04-22T19:05:52.533Z"
   },
   {
    "duration": 5826,
    "start_time": "2023-04-22T19:05:53.297Z"
   },
   {
    "duration": 5058,
    "start_time": "2023-04-22T19:05:59.125Z"
   },
   {
    "duration": 14,
    "start_time": "2023-04-22T19:06:04.184Z"
   },
   {
    "duration": 19,
    "start_time": "2023-04-22T19:06:04.200Z"
   },
   {
    "duration": 172,
    "start_time": "2023-04-22T19:06:04.221Z"
   },
   {
    "duration": 8,
    "start_time": "2023-04-22T19:06:04.395Z"
   },
   {
    "duration": 1319,
    "start_time": "2023-04-22T19:14:10.473Z"
   },
   {
    "duration": 3,
    "start_time": "2023-04-22T19:14:11.794Z"
   },
   {
    "duration": 53,
    "start_time": "2023-04-22T19:14:11.798Z"
   },
   {
    "duration": 14,
    "start_time": "2023-04-22T19:14:11.852Z"
   },
   {
    "duration": 25,
    "start_time": "2023-04-22T19:14:11.867Z"
   },
   {
    "duration": 5,
    "start_time": "2023-04-22T19:14:11.893Z"
   },
   {
    "duration": 30,
    "start_time": "2023-04-22T19:14:11.899Z"
   },
   {
    "duration": 17,
    "start_time": "2023-04-22T19:14:11.930Z"
   },
   {
    "duration": 16,
    "start_time": "2023-04-22T19:14:11.949Z"
   },
   {
    "duration": 21,
    "start_time": "2023-04-22T19:14:11.968Z"
   },
   {
    "duration": 16,
    "start_time": "2023-04-22T19:14:11.990Z"
   },
   {
    "duration": 32,
    "start_time": "2023-04-22T19:14:12.007Z"
   },
   {
    "duration": 15,
    "start_time": "2023-04-22T19:14:12.041Z"
   },
   {
    "duration": 25,
    "start_time": "2023-04-22T19:14:12.057Z"
   },
   {
    "duration": 609,
    "start_time": "2023-04-22T19:14:12.084Z"
   },
   {
    "duration": 4998,
    "start_time": "2023-04-22T19:14:12.694Z"
   },
   {
    "duration": 4159,
    "start_time": "2023-04-22T19:14:17.693Z"
   },
   {
    "duration": 12,
    "start_time": "2023-04-22T19:14:21.853Z"
   },
   {
    "duration": 26,
    "start_time": "2023-04-22T19:14:21.866Z"
   },
   {
    "duration": 140,
    "start_time": "2023-04-22T19:14:21.893Z"
   },
   {
    "duration": 9,
    "start_time": "2023-04-22T19:14:22.035Z"
   }
  ],
  "kernelspec": {
   "display_name": "Python 3 (ipykernel)",
   "language": "python",
   "name": "python3"
  },
  "language_info": {
   "codemirror_mode": {
    "name": "ipython",
    "version": 3
   },
   "file_extension": ".py",
   "mimetype": "text/x-python",
   "name": "python",
   "nbconvert_exporter": "python",
   "pygments_lexer": "ipython3",
   "version": "3.10.12"
  },
  "toc": {
   "base_numbering": 1,
   "nav_menu": {},
   "number_sections": true,
   "sideBar": true,
   "skip_h1_title": true,
   "title_cell": "Table of Contents",
   "title_sidebar": "Contents",
   "toc_cell": false,
   "toc_position": {},
   "toc_section_display": true,
   "toc_window_display": false
  }
 },
 "nbformat": 4,
 "nbformat_minor": 4
}
