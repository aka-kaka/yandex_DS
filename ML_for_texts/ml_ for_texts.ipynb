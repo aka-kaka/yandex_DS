{
 "cells": [
  {
   "cell_type": "markdown",
   "metadata": {
    "toc": true
   },
   "source": [
    "<h1>Содержание<span class=\"tocSkip\"></span></h1>\n",
    "<div class=\"toc\"><ul class=\"toc-item\"><li><span><a href=\"#Подготовка\" data-toc-modified-id=\"Подготовка-1\"><span class=\"toc-item-num\">1&nbsp;&nbsp;</span>Подготовка</a></span></li><li><span><a href=\"#Обучение\" data-toc-modified-id=\"Обучение-2\"><span class=\"toc-item-num\">2&nbsp;&nbsp;</span>Обучение</a></span></li><li><span><a href=\"#Выводы\" data-toc-modified-id=\"Выводы-3\"><span class=\"toc-item-num\">3&nbsp;&nbsp;</span>Выводы</a></span></li><li><span><a href=\"#Чек-лист-проверки\" data-toc-modified-id=\"Чек-лист-проверки-4\"><span class=\"toc-item-num\">4&nbsp;&nbsp;</span>Чек-лист проверки</a></span></li></ul></div>"
   ]
  },
  {
   "cell_type": "markdown",
   "metadata": {},
   "source": [
    "# Проект для «Викишоп»"
   ]
  },
  {
   "cell_type": "markdown",
   "metadata": {},
   "source": [
    "Интернет-магазин «Викишоп» запускает новый сервис. Теперь пользователи могут редактировать и дополнять описания товаров, как в вики-сообществах. То есть клиенты предлагают свои правки и комментируют изменения других. Магазину нужен инструмент, который будет искать токсичные комментарии и отправлять их на модерацию. \n",
    "\n",
    "Обучите модель классифицировать комментарии на позитивные и негативные. В вашем распоряжении набор данных с разметкой о токсичности правок.\n",
    "\n",
    "**Инструкция по выполнению проекта**\n",
    "\n",
    "1. Загрузите и подготовьте данные.\n",
    "2. Обучите разные модели. \n",
    "3. Сделайте выводы.\n",
    "\n",
    "\n",
    "**Описание данных**\n",
    "\n",
    "Данные находятся в файле `toxic_comments.csv`. Столбец *text* в нём содержит текст комментария, а *toxic* — целевой признак.\n",
    "\n",
    "**Задача данных**\n",
    "\n",
    "Построить модель со значением метрики качества *F1* не меньше 0.75. "
   ]
  },
  {
   "cell_type": "markdown",
   "metadata": {},
   "source": [
    "## Подготовка"
   ]
  },
  {
   "cell_type": "code",
   "execution_count": 1,
   "metadata": {
    "collapsed": true
   },
   "outputs": [
    {
     "name": "stdout",
     "output_type": "stream",
     "text": [
      "Defaulting to user installation because normal site-packages is not writeable\n",
      "Requirement already satisfied: scikit-learn in /home/oslik/.local/lib/python3.10/site-packages (1.3.0)\n",
      "\u001b[33mWARNING: Retrying (Retry(total=4, connect=None, read=None, redirect=None, status=None)) after connection broken by 'NewConnectionError('<pip._vendor.urllib3.connection.HTTPSConnection object at 0x7f18eb534c40>: Failed to establish a new connection: [Errno -2] Неизвестное имя или служба')': /simple/scikit-learn/\u001b[0m\u001b[33m\n",
      "\u001b[0m\u001b[33mWARNING: Retrying (Retry(total=3, connect=None, read=None, redirect=None, status=None)) after connection broken by 'NewConnectionError('<pip._vendor.urllib3.connection.HTTPSConnection object at 0x7f18eb534f70>: Failed to establish a new connection: [Errno -2] Неизвестное имя или служба')': /simple/scikit-learn/\u001b[0m\u001b[33m\n",
      "\u001b[0m\u001b[33mWARNING: Retrying (Retry(total=2, connect=None, read=None, redirect=None, status=None)) after connection broken by 'NewConnectionError('<pip._vendor.urllib3.connection.HTTPSConnection object at 0x7f18eb535120>: Failed to establish a new connection: [Errno -2] Неизвестное имя или служба')': /simple/scikit-learn/\u001b[0m\u001b[33m\n",
      "\u001b[0m\u001b[33mWARNING: Retrying (Retry(total=1, connect=None, read=None, redirect=None, status=None)) after connection broken by 'NewConnectionError('<pip._vendor.urllib3.connection.HTTPSConnection object at 0x7f18eb5352d0>: Failed to establish a new connection: [Errno -2] Неизвестное имя или служба')': /simple/scikit-learn/\u001b[0m\u001b[33m\n",
      "\u001b[0m\u001b[33mWARNING: Retrying (Retry(total=0, connect=None, read=None, redirect=None, status=None)) after connection broken by 'NewConnectionError('<pip._vendor.urllib3.connection.HTTPSConnection object at 0x7f18eb535480>: Failed to establish a new connection: [Errno -2] Неизвестное имя или служба')': /simple/scikit-learn/\u001b[0m\u001b[33m\n",
      "\u001b[0mRequirement already satisfied: numpy>=1.17.3 in /usr/lib/python3/dist-packages (from scikit-learn) (1.21.5)\n",
      "Requirement already satisfied: scipy>=1.5.0 in /usr/lib/python3/dist-packages (from scikit-learn) (1.8.0)\n",
      "Requirement already satisfied: joblib>=1.1.1 in /home/oslik/.local/lib/python3.10/site-packages (from scikit-learn) (1.2.0)\n",
      "Requirement already satisfied: threadpoolctl>=2.0.0 in /home/oslik/.local/lib/python3.10/site-packages (from scikit-learn) (3.1.0)\n",
      "Defaulting to user installation because normal site-packages is not writeable\n",
      "Requirement already satisfied: TextBlob in /home/oslik/.local/lib/python3.10/site-packages (0.17.1)\n",
      "Requirement already satisfied: nltk>=3.1 in /home/oslik/.local/lib/python3.10/site-packages (from TextBlob) (3.8.1)\n",
      "Requirement already satisfied: click in /usr/lib/python3/dist-packages (from nltk>=3.1->TextBlob) (8.0.3)\n",
      "Requirement already satisfied: joblib in /home/oslik/.local/lib/python3.10/site-packages (from nltk>=3.1->TextBlob) (1.2.0)\n",
      "Requirement already satisfied: regex>=2021.8.3 in /home/oslik/.local/lib/python3.10/site-packages (from nltk>=3.1->TextBlob) (2023.6.3)\n",
      "Requirement already satisfied: tqdm in /home/oslik/.local/lib/python3.10/site-packages (from nltk>=3.1->TextBlob) (4.65.0)\n",
      "Defaulting to user installation because normal site-packages is not writeable\n",
      "Requirement already satisfied: wordcloud in /home/oslik/.local/lib/python3.10/site-packages (1.9.2)\n",
      "Requirement already satisfied: numpy>=1.6.1 in /usr/lib/python3/dist-packages (from wordcloud) (1.21.5)\n",
      "Requirement already satisfied: pillow in /home/oslik/.local/lib/python3.10/site-packages (from wordcloud) (9.2.0)\n",
      "Requirement already satisfied: matplotlib in /usr/lib/python3/dist-packages (from wordcloud) (3.5.1)\n",
      "Defaulting to user installation because normal site-packages is not writeable\n",
      "Requirement already satisfied: Pillow==9.2.0 in /home/oslik/.local/lib/python3.10/site-packages (9.2.0)\n",
      "\u001b[33mWARNING: Retrying (Retry(total=4, connect=None, read=None, redirect=None, status=None)) after connection broken by 'NewConnectionError('<pip._vendor.urllib3.connection.HTTPSConnection object at 0x7f50a84c4d00>: Failed to establish a new connection: [Errno -2] Неизвестное имя или служба')': /simple/pillow/\u001b[0m\u001b[33m\n",
      "\u001b[0m\u001b[33mWARNING: Retrying (Retry(total=3, connect=None, read=None, redirect=None, status=None)) after connection broken by 'NewConnectionError('<pip._vendor.urllib3.connection.HTTPSConnection object at 0x7f50a84c5030>: Failed to establish a new connection: [Errno -2] Неизвестное имя или служба')': /simple/pillow/\u001b[0m\u001b[33m\n",
      "\u001b[0m\u001b[33mWARNING: Retrying (Retry(total=2, connect=None, read=None, redirect=None, status=None)) after connection broken by 'NewConnectionError('<pip._vendor.urllib3.connection.HTTPSConnection object at 0x7f50a84c5390>: Failed to establish a new connection: [Errno -2] Неизвестное имя или служба')': /simple/pillow/\u001b[0m\u001b[33m\n",
      "\u001b[0m\u001b[33mWARNING: Retrying (Retry(total=1, connect=None, read=None, redirect=None, status=None)) after connection broken by 'NewConnectionError('<pip._vendor.urllib3.connection.HTTPSConnection object at 0x7f50a84c5540>: Failed to establish a new connection: [Errno -2] Неизвестное имя или служба')': /simple/pillow/\u001b[0m\u001b[33m\n",
      "\u001b[0m\u001b[33mWARNING: Retrying (Retry(total=0, connect=None, read=None, redirect=None, status=None)) after connection broken by 'NewConnectionError('<pip._vendor.urllib3.connection.HTTPSConnection object at 0x7f50a84c56f0>: Failed to establish a new connection: [Errno -2] Неизвестное имя или служба')': /simple/pillow/\u001b[0m\u001b[33m\n",
      "\u001b[0mDefaulting to user installation because normal site-packages is not writeable\n",
      "Requirement already satisfied: wget in /home/oslik/.local/lib/python3.10/site-packages (3.2)\n"
     ]
    }
   ],
   "source": [
    "!python3 -m pip install --upgrade scikit-learn \n",
    "!pip install TextBlob\n",
    "!pip install wordcloud \n",
    "!pip3 install --upgrade Pillow==9.2.0\n",
    "!pip3 install wget"
   ]
  },
  {
   "cell_type": "code",
   "execution_count": 2,
   "metadata": {},
   "outputs": [],
   "source": [
    "import os\n",
    "#os._exit(00) #елси надо рестатртнуть ядро\n",
    "\n",
    "import re \n",
    "import warnings\n",
    "from datetime import datetime\n",
    "from PIL import ImageFont\n",
    "from wget import download\n",
    "\n",
    "import numpy as np\n",
    "import pandas as pd\n",
    "import matplotlib.pyplot as plt\n",
    "import seaborn as sns\n",
    "\n",
    "import nltk\n",
    "from nltk.corpus import stopwords\n",
    "from nltk.probability import FreqDist\n",
    "from textblob import TextBlob\n",
    "\n",
    "from sklearn.utils import shuffle\n",
    "from sklearn.pipeline import Pipeline\n",
    "from sklearn.model_selection import GridSearchCV\n",
    "from sklearn.metrics import make_scorer, f1_score, roc_curve\n",
    "from sklearn.model_selection import train_test_split\n",
    "from sklearn.feature_extraction.text import CountVectorizer, TfidfTransformer, TfidfVectorizer\n",
    "from sklearn.preprocessing import StandardScaler\n",
    "from sklearn.linear_model import LogisticRegression, SGDClassifier\n",
    "from sklearn.tree import DecisionTreeClassifier\n",
    "from sklearn.ensemble import RandomForestClassifier\n",
    "from sklearn.dummy import DummyClassifier\n",
    "from sklearn.compose import ColumnTransformer\n",
    "\n",
    "from catboost import CatBoostClassifier\n",
    "\n",
    "import pickle\n",
    "from wordcloud import WordCloud"
   ]
  },
  {
   "cell_type": "code",
   "execution_count": 3,
   "metadata": {},
   "outputs": [
    {
     "name": "stderr",
     "output_type": "stream",
     "text": [
      "[nltk_data] Error loading punkt: <urlopen error [Errno -2] Name or\n",
      "[nltk_data]     service not known>\n",
      "[nltk_data] Error loading averaged_perceptron_tagger: <urlopen error\n",
      "[nltk_data]     [Errno -2] Name or service not known>\n",
      "[nltk_data] Error loading stopwords: <urlopen error [Errno -2] Name or\n",
      "[nltk_data]     service not known>\n"
     ]
    },
    {
     "data": {
      "text/plain": [
       "False"
      ]
     },
     "execution_count": 3,
     "metadata": {},
     "output_type": "execute_result"
    }
   ],
   "source": [
    "warnings.filterwarnings(\"ignore\")\n",
    "\n",
    "pd.set_option('display.max_columns', 100)\n",
    "pd.set_option('max_colwidth', 300)\n",
    "\n",
    "nltk.download('punkt')\n",
    "nltk.download('averaged_perceptron_tagger')\n",
    "#обновим список стоп слов библиотеки nltk\n",
    "nltk.download('stopwords')"
   ]
  },
  {
   "cell_type": "code",
   "execution_count": 4,
   "metadata": {},
   "outputs": [],
   "source": [
    "def read_csv(index_col=[0]):\n",
    "    \"\"\"\n",
    "    Функция загружает данные из csv\n",
    "    \"\"\"\n",
    "    path_my = '/home/oslik/Yandex_curs_DS/Project_s3_4/datasets/toxic_comments.csv'\n",
    "    path_ya = '/toxic_comments.csv'\n",
    "    get_http = 'https://code.s3.yandex.net/datasets/toxic_comments.csv'\n",
    "    \n",
    "    try:\n",
    "        if os.path.exists(path_my):\n",
    "            data_read_csv = pd.read_csv(\n",
    "                path_my,\n",
    "                index_col = index_col if index_col else None \n",
    "            )\n",
    "        elif os.path.exists(path_ya):\n",
    "            data_read_csv = pd.read_csv(\n",
    "                path_ya,\n",
    "                index_col = index_col if index_col else None\n",
    "            )\n",
    "        else: \n",
    "            raise FileNotFoundError  \n",
    "    \n",
    "    except FileNotFoundError:\n",
    "        try:\n",
    "            data_read_csv = pd.read_csv(\n",
    "                get_http,\n",
    "                index_col = index_col if index_col else None\n",
    "            )\n",
    "        except:\n",
    "            print('file and url not found')\n",
    "    return data_read_csv if data_read_csv.shape[0] else None"
   ]
  },
  {
   "cell_type": "code",
   "execution_count": 5,
   "metadata": {},
   "outputs": [],
   "source": [
    "def del_stop_words(text):\n",
    "    '''функция очистки текста от стоп-слов'''\n",
    "    #words = TextBlob(text)\n",
    "    return \" \".join(set(TextBlob(text).words).difference(set(stopwords.words('english'))))\n"
   ]
  },
  {
   "cell_type": "code",
   "execution_count": 6,
   "metadata": {},
   "outputs": [],
   "source": [
    "def lemmatize_with_postag(sentence):\n",
    "    sent = TextBlob(sentence)\n",
    "    tag_dict = {\"J\": 'a', \n",
    "                \"N\": 'n', \n",
    "                \"V\": 'v', \n",
    "                \"R\": 'r'}\n",
    "    words_and_tags = [(w, tag_dict.get(pos[0], 'n')) for w, pos in sent.tags]    \n",
    "    lemmatized_list = [wd.lemmatize(tag) for wd, tag in words_and_tags]\n",
    "    return \" \".join(lemmatized_list)\n"
   ]
  },
  {
   "cell_type": "code",
   "execution_count": 7,
   "metadata": {},
   "outputs": [],
   "source": [
    "def get_text(data, col_name):\n",
    "    \"\"\"\n",
    "    Принимает на вход строку, оставляет пробелы и апостраф\n",
    "    возвращает лемматизированную строку\n",
    "    \"\"\"\n",
    "    result = del_stop_words(' '.join(\n",
    "        re.sub(\n",
    "            r'[^a-z \\n]',\n",
    "            '',\n",
    "            data[col_name].lower()\n",
    "        ).split()\n",
    "    ))\n",
    "    result = lemmatize_with_postag(result)\n",
    "    #result = lemmatize_with_postag(\n",
    "    #    ' '.join(\n",
    "    #        re.sub(\n",
    "    #            r'[\\n]',\n",
    "    #            ' ',\n",
    "    #            data[col_name].lower()\n",
    "    #        ).split()\n",
    "    #    ))\n",
    "    #\" \".join([token.lemma_ for token in result])\n",
    "    return result"
   ]
  },
  {
   "cell_type": "code",
   "execution_count": 8,
   "metadata": {},
   "outputs": [],
   "source": [
    "def get_pie_plt(data):\n",
    "    data.value_counts().plot(kind='pie', autopct='%.2f%%', figsize=(10,5));\n",
    "    plt.title('Распределение ключевых признаков');\n",
    "    plt.show()"
   ]
  },
  {
   "cell_type": "code",
   "execution_count": 9,
   "metadata": {},
   "outputs": [],
   "source": [
    "def model_func(model,\n",
    "               X: pd.DataFrame,\n",
    "               y: pd.Series,\n",
    "               param_grid:dict=dict(),\n",
    "               random_state=None,\n",
    "               name_data:str='f1_train',\n",
    "               #cv=TimeSeriesSplit(n_splits=2),\n",
    "               cv=3,):\n",
    "\n",
    "\n",
    "    model = model(**random_state) if random_state else model()\n",
    "    pipe = Pipeline([\n",
    "        #('vect', CountVectorizer(stop_words=('english'))),\n",
    "        ('vect', CountVectorizer()),\n",
    "        ('tfidf', TfidfTransformer()),\n",
    "        ('clf', model)])  \n",
    "\n",
    "    gs_ridge = GridSearchCV(\n",
    "        pipe, \n",
    "        param_grid=param_grid, \n",
    "        scoring=make_scorer(f1_score),\n",
    "        cv=cv,\n",
    "    )\n",
    "                   \n",
    "    all_time = datetime.now()\n",
    "    gs_ridge.fit(X, y)\n",
    "    all_time = (datetime.now() - all_time)\n",
    "    best_model = gs_ridge.best_estimator_\n",
    "    best_param = gs_ridge.best_params_\n",
    "    gs_ridge.verbose\n",
    "                   \n",
    "    data = {\n",
    "        'name': [model.__class__()],\n",
    "        name_data: [abs(gs_ridge.best_score_),],\n",
    "        #'best_model': [f'{best_model=}',],\n",
    "        'best_param': [f'{best_param=}',],\n",
    "        'all_time_sec': [f'{all_time.total_seconds()}',],\n",
    "        #'model': [f'model={model}',],\n",
    "        'bin_':[pickle.dumps(gs_ridge)]\n",
    "    }\n",
    "    return pd.DataFrame(data)"
   ]
  },
  {
   "cell_type": "markdown",
   "metadata": {},
   "source": [
    "Получим и посмотрим на данные"
   ]
  },
  {
   "cell_type": "code",
   "execution_count": 10,
   "metadata": {},
   "outputs": [],
   "source": [
    "data_read_csv = read_csv()"
   ]
  },
  {
   "cell_type": "markdown",
   "metadata": {},
   "source": [
    "Посмотрим на данные"
   ]
  },
  {
   "cell_type": "code",
   "execution_count": 11,
   "metadata": {},
   "outputs": [
    {
     "data": {
      "text/html": [
       "<div>\n",
       "<style scoped>\n",
       "    .dataframe tbody tr th:only-of-type {\n",
       "        vertical-align: middle;\n",
       "    }\n",
       "\n",
       "    .dataframe tbody tr th {\n",
       "        vertical-align: top;\n",
       "    }\n",
       "\n",
       "    .dataframe thead th {\n",
       "        text-align: right;\n",
       "    }\n",
       "</style>\n",
       "<table border=\"1\" class=\"dataframe\">\n",
       "  <thead>\n",
       "    <tr style=\"text-align: right;\">\n",
       "      <th></th>\n",
       "      <th>text</th>\n",
       "      <th>toxic</th>\n",
       "    </tr>\n",
       "  </thead>\n",
       "  <tbody>\n",
       "    <tr>\n",
       "      <th>0</th>\n",
       "      <td>Explanation\\nWhy the edits made under my username Hardcore Metallica Fan were reverted? They weren't vandalisms, just closure on some GAs after I voted at New York Dolls FAC. And please don't remove the template from the talk page since I'm retired now.89.205.38.27</td>\n",
       "      <td>0</td>\n",
       "    </tr>\n",
       "    <tr>\n",
       "      <th>1</th>\n",
       "      <td>D'aww! He matches this background colour I'm seemingly stuck with. Thanks.  (talk) 21:51, January 11, 2016 (UTC)</td>\n",
       "      <td>0</td>\n",
       "    </tr>\n",
       "    <tr>\n",
       "      <th>2</th>\n",
       "      <td>Hey man, I'm really not trying to edit war. It's just that this guy is constantly removing relevant information and talking to me through edits instead of my talk page. He seems to care more about the formatting than the actual info.</td>\n",
       "      <td>0</td>\n",
       "    </tr>\n",
       "    <tr>\n",
       "      <th>3</th>\n",
       "      <td>\"\\nMore\\nI can't make any real suggestions on improvement - I wondered if the section statistics should be later on, or a subsection of \"\"types of accidents\"\"  -I think the references may need tidying so that they are all in the exact same format ie date format etc. I can do that later on, if no...</td>\n",
       "      <td>0</td>\n",
       "    </tr>\n",
       "    <tr>\n",
       "      <th>4</th>\n",
       "      <td>You, sir, are my hero. Any chance you remember what page that's on?</td>\n",
       "      <td>0</td>\n",
       "    </tr>\n",
       "    <tr>\n",
       "      <th>...</th>\n",
       "      <td>...</td>\n",
       "      <td>...</td>\n",
       "    </tr>\n",
       "    <tr>\n",
       "      <th>159446</th>\n",
       "      <td>\":::::And for the second time of asking, when your view completely contradicts the coverage in reliable sources, why should anyone care what you feel? You can't even give a consistent argument - is the opening only supposed to mention significant aspects, or the \"\"most significant\"\" ones?   \\n\\n\"</td>\n",
       "      <td>0</td>\n",
       "    </tr>\n",
       "    <tr>\n",
       "      <th>159447</th>\n",
       "      <td>You should be ashamed of yourself \\n\\nThat is a horrible thing you put on my talk page.  128.61.19.93</td>\n",
       "      <td>0</td>\n",
       "    </tr>\n",
       "    <tr>\n",
       "      <th>159448</th>\n",
       "      <td>Spitzer \\n\\nUmm, theres no actual article for prostitution ring.  - Crunch Captain.</td>\n",
       "      <td>0</td>\n",
       "    </tr>\n",
       "    <tr>\n",
       "      <th>159449</th>\n",
       "      <td>And it looks like it was actually you who put on the speedy to have the first version deleted now that I look at it.</td>\n",
       "      <td>0</td>\n",
       "    </tr>\n",
       "    <tr>\n",
       "      <th>159450</th>\n",
       "      <td>\"\\nAnd ... I really don't think you understand.  I came here and my idea was bad right away.  What kind of community goes \"\"you have bad ideas\"\" go away, instead of helping rewrite them.   \"</td>\n",
       "      <td>0</td>\n",
       "    </tr>\n",
       "  </tbody>\n",
       "</table>\n",
       "<p>159292 rows × 2 columns</p>\n",
       "</div>"
      ],
      "text/plain": [
       "                                                                                                                                                                                                                                                                                                               text   \n",
       "0                                         Explanation\\nWhy the edits made under my username Hardcore Metallica Fan were reverted? They weren't vandalisms, just closure on some GAs after I voted at New York Dolls FAC. And please don't remove the template from the talk page since I'm retired now.89.205.38.27  \\\n",
       "1                                                                                                                                                                                                  D'aww! He matches this background colour I'm seemingly stuck with. Thanks.  (talk) 21:51, January 11, 2016 (UTC)   \n",
       "2                                                                         Hey man, I'm really not trying to edit war. It's just that this guy is constantly removing relevant information and talking to me through edits instead of my talk page. He seems to care more about the formatting than the actual info.   \n",
       "3       \"\\nMore\\nI can't make any real suggestions on improvement - I wondered if the section statistics should be later on, or a subsection of \"\"types of accidents\"\"  -I think the references may need tidying so that they are all in the exact same format ie date format etc. I can do that later on, if no...   \n",
       "4                                                                                                                                                                                                                                               You, sir, are my hero. Any chance you remember what page that's on?   \n",
       "...                                                                                                                                                                                                                                                                                                             ...   \n",
       "159446    \":::::And for the second time of asking, when your view completely contradicts the coverage in reliable sources, why should anyone care what you feel? You can't even give a consistent argument - is the opening only supposed to mention significant aspects, or the \"\"most significant\"\" ones?   \\n\\n\"   \n",
       "159447                                                                                                                                                                                                        You should be ashamed of yourself \\n\\nThat is a horrible thing you put on my talk page.  128.61.19.93   \n",
       "159448                                                                                                                                                                                                                          Spitzer \\n\\nUmm, theres no actual article for prostitution ring.  - Crunch Captain.   \n",
       "159449                                                                                                                                                                                         And it looks like it was actually you who put on the speedy to have the first version deleted now that I look at it.   \n",
       "159450                                                                                                               \"\\nAnd ... I really don't think you understand.  I came here and my idea was bad right away.  What kind of community goes \"\"you have bad ideas\"\" go away, instead of helping rewrite them.   \"   \n",
       "\n",
       "        toxic  \n",
       "0           0  \n",
       "1           0  \n",
       "2           0  \n",
       "3           0  \n",
       "4           0  \n",
       "...       ...  \n",
       "159446      0  \n",
       "159447      0  \n",
       "159448      0  \n",
       "159449      0  \n",
       "159450      0  \n",
       "\n",
       "[159292 rows x 2 columns]"
      ]
     },
     "execution_count": 11,
     "metadata": {},
     "output_type": "execute_result"
    }
   ],
   "source": [
    "data_read_csv"
   ]
  },
  {
   "cell_type": "code",
   "execution_count": 12,
   "metadata": {},
   "outputs": [
    {
     "data": {
      "text/plain": [
       "text     0\n",
       "toxic    0\n",
       "dtype: int64"
      ]
     },
     "execution_count": 12,
     "metadata": {},
     "output_type": "execute_result"
    }
   ],
   "source": [
    "data_read_csv.isna().sum()"
   ]
  },
  {
   "cell_type": "code",
   "execution_count": 13,
   "metadata": {},
   "outputs": [
    {
     "name": "stdout",
     "output_type": "stream",
     "text": [
      "<class 'pandas.core.frame.DataFrame'>\n",
      "Index: 159292 entries, 0 to 159450\n",
      "Data columns (total 2 columns):\n",
      " #   Column  Non-Null Count   Dtype \n",
      "---  ------  --------------   ----- \n",
      " 0   text    159292 non-null  object\n",
      " 1   toxic   159292 non-null  int64 \n",
      "dtypes: int64(1), object(1)\n",
      "memory usage: 3.6+ MB\n"
     ]
    }
   ],
   "source": [
    "data_read_csv.info()"
   ]
  },
  {
   "cell_type": "code",
   "execution_count": 14,
   "metadata": {},
   "outputs": [
    {
     "data": {
      "text/plain": [
       "0"
      ]
     },
     "execution_count": 14,
     "metadata": {},
     "output_type": "execute_result"
    }
   ],
   "source": [
    "data_read_csv[['text', 'toxic']].duplicated().sum()"
   ]
  },
  {
   "cell_type": "code",
   "execution_count": 15,
   "metadata": {},
   "outputs": [
    {
     "data": {
      "text/plain": [
       "array([0, 1])"
      ]
     },
     "execution_count": 15,
     "metadata": {},
     "output_type": "execute_result"
    }
   ],
   "source": [
    "data_read_csv.toxic.unique()"
   ]
  },
  {
   "cell_type": "code",
   "execution_count": 16,
   "metadata": {},
   "outputs": [
    {
     "data": {
      "text/plain": [
       "159292"
      ]
     },
     "execution_count": 16,
     "metadata": {},
     "output_type": "execute_result"
    }
   ],
   "source": [
    "len(data_read_csv.text.unique())"
   ]
  },
  {
   "cell_type": "markdown",
   "metadata": {},
   "source": [
    "в данных есть 2 интересующих столбца text и toxic.\n",
    "пропусков и явных дублей нет."
   ]
  },
  {
   "cell_type": "markdown",
   "metadata": {},
   "source": [
    "строк - 159292. последний индекс - 159450\n",
    "\n",
    "сбросим индексы"
   ]
  },
  {
   "cell_type": "code",
   "execution_count": 17,
   "metadata": {},
   "outputs": [],
   "source": [
    "data_read_csv.reset_index(drop=True, inplace=True)"
   ]
  },
  {
   "cell_type": "markdown",
   "metadata": {},
   "source": [
    "определим какие коментарии считаются токсичными (0 или 1)"
   ]
  },
  {
   "cell_type": "code",
   "execution_count": 18,
   "metadata": {},
   "outputs": [
    {
     "data": {
      "text/html": [
       "<div>\n",
       "<style scoped>\n",
       "    .dataframe tbody tr th:only-of-type {\n",
       "        vertical-align: middle;\n",
       "    }\n",
       "\n",
       "    .dataframe tbody tr th {\n",
       "        vertical-align: top;\n",
       "    }\n",
       "\n",
       "    .dataframe thead th {\n",
       "        text-align: right;\n",
       "    }\n",
       "</style>\n",
       "<table border=\"1\" class=\"dataframe\">\n",
       "  <thead>\n",
       "    <tr style=\"text-align: right;\">\n",
       "      <th></th>\n",
       "      <th>text</th>\n",
       "      <th>toxic</th>\n",
       "    </tr>\n",
       "  </thead>\n",
       "  <tbody>\n",
       "    <tr>\n",
       "      <th>42373</th>\n",
       "      <td>Ian Watkins==\\nIt's a realible source. It's a fansite. These people dedicates there lives for these celeberties. Sorry for som incorrect bitch. FUCK YOU. Answeare me ass quick as possible\\n\\n==</td>\n",
       "      <td>1</td>\n",
       "    </tr>\n",
       "    <tr>\n",
       "      <th>18011</th>\n",
       "      <td>My music is recorded in Salvation Army studio and google my name, is all over google, it obvious that this person here cannot read, and is a psychopath who loves to tramp on other people and their achivements\\nYou find nothing on this guy online;  YOU ARE A BLOODY LYING BASTARD...\\nGrammar, so t...</td>\n",
       "      <td>1</td>\n",
       "    </tr>\n",
       "    <tr>\n",
       "      <th>143348</th>\n",
       "      <td>Virgin\\nMy only warning? You'll block me? Well f*ck off. You probably get off from warning people on Wikipedia, don't you? I bet you're still a virgin, f*cking homo. As for your warning, shove it up your ass. and F*CK YOU!</td>\n",
       "      <td>1</td>\n",
       "    </tr>\n",
       "    <tr>\n",
       "      <th>84926</th>\n",
       "      <td>\":: Saju's right. You accused Spine-Cleaver of being me? No no my friend, ask an Admin to use an IP Checker rather than out right banning him. You've made a big mistake. This is going down in the books. Fool....hahahha.\\n\\n-Awliya  —Preceding unsigned comment added by 89.108.33.173   \\n\\n\"</td>\n",
       "      <td>1</td>\n",
       "    </tr>\n",
       "    <tr>\n",
       "      <th>55012</th>\n",
       "      <td>I want this jerk blocked for vandalism\\n (once again reverting to last good version  Beckford's claims that I am not allowed to edit are ridiculous, especially as he is here only to push POV and promote himself and his alleged expert status) \\n\\n This war will go on forever. He is simply a jerk....</td>\n",
       "      <td>1</td>\n",
       "    </tr>\n",
       "  </tbody>\n",
       "</table>\n",
       "</div>"
      ],
      "text/plain": [
       "                                                                                                                                                                                                                                                                                                               text   \n",
       "42373                                                                                                             Ian Watkins==\\nIt's a realible source. It's a fansite. These people dedicates there lives for these celeberties. Sorry for som incorrect bitch. FUCK YOU. Answeare me ass quick as possible\\n\\n==  \\\n",
       "18011   My music is recorded in Salvation Army studio and google my name, is all over google, it obvious that this person here cannot read, and is a psychopath who loves to tramp on other people and their achivements\\nYou find nothing on this guy online;  YOU ARE A BLOODY LYING BASTARD...\\nGrammar, so t...   \n",
       "143348                                                                               Virgin\\nMy only warning? You'll block me? Well f*ck off. You probably get off from warning people on Wikipedia, don't you? I bet you're still a virgin, f*cking homo. As for your warning, shove it up your ass. and F*CK YOU!   \n",
       "84926            \":: Saju's right. You accused Spine-Cleaver of being me? No no my friend, ask an Admin to use an IP Checker rather than out right banning him. You've made a big mistake. This is going down in the books. Fool....hahahha.\\n\\n-Awliya  —Preceding unsigned comment added by 89.108.33.173   \\n\\n\"   \n",
       "55012   I want this jerk blocked for vandalism\\n (once again reverting to last good version  Beckford's claims that I am not allowed to edit are ridiculous, especially as he is here only to push POV and promote himself and his alleged expert status) \\n\\n This war will go on forever. He is simply a jerk....   \n",
       "\n",
       "        toxic  \n",
       "42373       1  \n",
       "18011       1  \n",
       "143348      1  \n",
       "84926       1  \n",
       "55012       1  "
      ]
     },
     "execution_count": 18,
     "metadata": {},
     "output_type": "execute_result"
    }
   ],
   "source": [
    "data_read_csv[data_read_csv.toxic==1].sample(5)"
   ]
  },
  {
   "cell_type": "markdown",
   "metadata": {},
   "source": [
    "определенно коментарии с ключевам полем 1 - \"токсичные\""
   ]
  },
  {
   "cell_type": "markdown",
   "metadata": {},
   "source": [
    "посмотрим на распределение ключевых признаков"
   ]
  },
  {
   "cell_type": "code",
   "execution_count": 19,
   "metadata": {},
   "outputs": [
    {
     "data": {
      "image/png": "[encoded data removed]",
      "text/plain": [
       "<Figure size 720x360 with 1 Axes>"
      ]
     },
     "metadata": {},
     "output_type": "display_data"
    }
   ],
   "source": [
    "get_pie_plt(data_read_csv.toxic)"
   ]
  },
  {
   "cell_type": "code",
   "execution_count": 20,
   "metadata": {},
   "outputs": [
    {
     "data": {
      "text/plain": [
       "'отношение коментариев токсичных к нетоксичным - 11.31%'"
      ]
     },
     "execution_count": 20,
     "metadata": {},
     "output_type": "execute_result"
    }
   ],
   "source": [
    "f'отношение коментариев токсичных к нетоксичным - \\\n",
    "{(data_read_csv.toxic==1).sum()/(data_read_csv.toxic==0).sum():.2%}'"
   ]
  },
  {
   "cell_type": "markdown",
   "metadata": {},
   "source": [
    "при обучении надо будет учитывать, что есть такая разница внутри классов. "
   ]
  },
  {
   "cell_type": "markdown",
   "metadata": {},
   "source": [
    "очистим комментарии от знаков припинания, оставим только латиницу"
   ]
  },
  {
   "cell_type": "markdown",
   "metadata": {},
   "source": [
    "затем получим лемматизированные строки и сохраним их в набор.\n",
    "использовать будем библиотеку textblob"
   ]
  },
  {
   "cell_type": "code",
   "execution_count": 21,
   "metadata": {},
   "outputs": [
    {
     "name": "stdout",
     "output_type": "stream",
     "text": [
      "CPU times: user 5min 10s, sys: 2.37 s, total: 5min 12s\n",
      "Wall time: 5min 12s\n"
     ]
    }
   ],
   "source": [
    "%%time\n",
    "data_read_csv['lem_text'] = data_read_csv.agg(\n",
    "    get_text,\n",
    "    axis=1,\n",
    "    col_name='text',    \n",
    ")"
   ]
  },
  {
   "cell_type": "code",
   "execution_count": 22,
   "metadata": {},
   "outputs": [
    {
     "data": {
      "text/html": [
       "<div>\n",
       "<style scoped>\n",
       "    .dataframe tbody tr th:only-of-type {\n",
       "        vertical-align: middle;\n",
       "    }\n",
       "\n",
       "    .dataframe tbody tr th {\n",
       "        vertical-align: top;\n",
       "    }\n",
       "\n",
       "    .dataframe thead th {\n",
       "        text-align: right;\n",
       "    }\n",
       "</style>\n",
       "<table border=\"1\" class=\"dataframe\">\n",
       "  <thead>\n",
       "    <tr style=\"text-align: right;\">\n",
       "      <th></th>\n",
       "      <th>text</th>\n",
       "      <th>toxic</th>\n",
       "      <th>lem_text</th>\n",
       "    </tr>\n",
       "  </thead>\n",
       "  <tbody>\n",
       "    <tr>\n",
       "      <th>147457</th>\n",
       "      <td>That may be the case, but there is still no ambiguity over the repulsiveness of irish nationalists, who deserved to be shot dead. 79.75.141.101</td>\n",
       "      <td>1</td>\n",
       "      <td>repulsiveness still shot case deserve nationalist dead ambiguity may irish</td>\n",
       "    </tr>\n",
       "    <tr>\n",
       "      <th>40232</th>\n",
       "      <td>Merge Pillow pants \\n\\nMerge pillow pants into this article, please. It doesn't deserve a seperate article. A lot of movie jokes tend to have articles created then ultimately merge back to the movie's main article. I have redirected it three times and recommended the article's creator to merge i...</td>\n",
       "      <td>0</td>\n",
       "      <td>pant tend merge joke movie remove admin lot anything write please get back thanks ultimately time seperate movie three create tourettesguy main someone reinstate pillow talk refuse recommend agree doesnt deserve article redirect creator page article</td>\n",
       "    </tr>\n",
       "    <tr>\n",
       "      <th>47695</th>\n",
       "      <td>\"\\n\\nOh, I thought that this might have come into play:\\n\\nOthers' comments\\n\\nIt is not necessary to bring talk pages to publishing standards, so there is no need to correct typing errors, grammar, etc. It tends to irritate the users whose comments you are correcting.  \\n\\nNever edit someone's ...</td>\n",
       "      <td>0</td>\n",
       "      <td>permission add acceptable wpattackremoval bring oh long correct anything personal preceding must might contribution please etc remove contribs exception topic short edit come interruption others controversial never comment reply word cite libel although form edit format text irritate see general...</td>\n",
       "    </tr>\n",
       "    <tr>\n",
       "      <th>157411</th>\n",
       "      <td>MFI is a self-made cult, which was establish by younas (A former disciple of gohar shahi) who was kicked-out by GS in his life. He (Younas) formed this MFI to take revenge with Gohar Shahi of his exile from ASI and started preaching self-made teachings and linked them to Gohar Shahi. The truth i...</td>\n",
       "      <td>0</td>\n",
       "      <td>life asi disciple kickedout former take ie content government ban cult suggest form revenge g due picture themthis pakistan use provide follow name exile shahi would use start truth blasphyous muhammad preach edit war hopefully wwwgoharshahicom comply option also algohar view three younas refere...</td>\n",
       "    </tr>\n",
       "    <tr>\n",
       "      <th>84789</th>\n",
       "      <td>Fine whatever.  I'm finished with this shit.  Vandals and racists should feel perfectly at home here.  That's who is being protected after all.  It's all a simple matter of looking at each user's contributions and the various related discussions.  More than a few editors have tried dealing with ...</td>\n",
       "      <td>1</td>\n",
       "      <td>resolve life obvious policy various im whatever protect attempt nice dont one vandalized editor ever anything personal admins year simple racist anoshirawan perfectly revertnpovetc deal look thats another discussion shit block try finish related matter behnam home difference ethnicity feel fine ...</td>\n",
       "    </tr>\n",
       "    <tr>\n",
       "      <th>139086</th>\n",
       "      <td>\"\\n\\n Not Criticism \\n\\nThis is not criticism and doesn't belong in a titled as such\\n\\n\"\"This business model has received attention for minimizing the environmental impact of shopping.[18]\"\"\\n\\nThat's called praise.\"</td>\n",
       "      <td>0</td>\n",
       "      <td>impact environmental minimize praise belong shop criticism business doesnt title attention thats call receive model</td>\n",
       "    </tr>\n",
       "    <tr>\n",
       "      <th>9629</th>\n",
       "      <td>\"\\n\\nPlease add a paragraph where, pronunciation of \"\"Bangladesh\"\" or \"\"Bangla\"\" is done correctly by using regular, commonly used words, which can be understood by most regular foreigners / non-native speakers, very easily. \\n-\"</td>\n",
       "      <td>0</td>\n",
       "      <td>pronunciation paragraph do word nonnative foreigner easily use speaker please commonly correctly bangladesh add use bangla understood regular</td>\n",
       "    </tr>\n",
       "    <tr>\n",
       "      <th>131533</th>\n",
       "      <td>\"\\nAgain, there was no \"\"as if\"\" in GTBacchus's statement, nor any \"\"as if\"\" equivalent. GTBacchus maintains that Norton was, indeed, \"\"an emperor\"\".  If both you and he now agree that the article's previous use of the word \"\"emperor\"\" was figurative and that Norton had no authority to issue dec...</td>\n",
       "      <td>0</td>\n",
       "      <td>order statement happy anything equivalent word decree utc norton issue authority maintain else indeed emperor use figurative jan clarifies agree gtbacchus previous article gtbacchuss article</td>\n",
       "    </tr>\n",
       "    <tr>\n",
       "      <th>139027</th>\n",
       "      <td>Why do you think it should be included in this article amongst respectable, academic sources?</td>\n",
       "      <td>0</td>\n",
       "      <td>academic amongst include respectable think source article</td>\n",
       "    </tr>\n",
       "    <tr>\n",
       "      <th>118279</th>\n",
       "      <td>that was not a vandal edits can't you see !!!!!!!!!!!!!!!!!\\n\\nit was incorrect information can't you see!!!!!!!!\\n\\nthat was not a vandalism !!!!!!!!\\n\\nand stop annoying people!!!!!stop stop stoooooopppp this is the last timeeeeeeeeeeee!!!!!!!!!!!!!!!!!!!!!!!!!!!!!!!!!!!!!!\\n\\nthat was not a v...</td>\n",
       "      <td>1</td>\n",
       "      <td>timeeeeeeeeeeee editsssssssssssssss see cant vandallllllllllllllllllllllllllllllllllllllllllllllllllllllllllllllllllllllllllllllllllllllllllllllllllllllllllllllllllllllllllllllllllllllllllll peoplestop last edits stop vandal stoooooopppp vandalism annoy information incorrect</td>\n",
       "    </tr>\n",
       "  </tbody>\n",
       "</table>\n",
       "</div>"
      ],
      "text/plain": [
       "                                                                                                                                                                                                                                                                                                               text   \n",
       "147457                                                                                                                                                              That may be the case, but there is still no ambiguity over the repulsiveness of irish nationalists, who deserved to be shot dead. 79.75.141.101  \\\n",
       "40232   Merge Pillow pants \\n\\nMerge pillow pants into this article, please. It doesn't deserve a seperate article. A lot of movie jokes tend to have articles created then ultimately merge back to the movie's main article. I have redirected it three times and recommended the article's creator to merge i...   \n",
       "47695   \"\\n\\nOh, I thought that this might have come into play:\\n\\nOthers' comments\\n\\nIt is not necessary to bring talk pages to publishing standards, so there is no need to correct typing errors, grammar, etc. It tends to irritate the users whose comments you are correcting.  \\n\\nNever edit someone's ...   \n",
       "157411  MFI is a self-made cult, which was establish by younas (A former disciple of gohar shahi) who was kicked-out by GS in his life. He (Younas) formed this MFI to take revenge with Gohar Shahi of his exile from ASI and started preaching self-made teachings and linked them to Gohar Shahi. The truth i...   \n",
       "84789   Fine whatever.  I'm finished with this shit.  Vandals and racists should feel perfectly at home here.  That's who is being protected after all.  It's all a simple matter of looking at each user's contributions and the various related discussions.  More than a few editors have tried dealing with ...   \n",
       "139086                                                                                    \"\\n\\n Not Criticism \\n\\nThis is not criticism and doesn't belong in a titled as such\\n\\n\"\"This business model has received attention for minimizing the environmental impact of shopping.[18]\"\"\\n\\nThat's called praise.\"   \n",
       "9629                                                                          \"\\n\\nPlease add a paragraph where, pronunciation of \"\"Bangladesh\"\" or \"\"Bangla\"\" is done correctly by using regular, commonly used words, which can be understood by most regular foreigners / non-native speakers, very easily. \\n-\"   \n",
       "131533  \"\\nAgain, there was no \"\"as if\"\" in GTBacchus's statement, nor any \"\"as if\"\" equivalent. GTBacchus maintains that Norton was, indeed, \"\"an emperor\"\".  If both you and he now agree that the article's previous use of the word \"\"emperor\"\" was figurative and that Norton had no authority to issue dec...   \n",
       "139027                                                                                                                                                                                                                Why do you think it should be included in this article amongst respectable, academic sources?   \n",
       "118279  that was not a vandal edits can't you see !!!!!!!!!!!!!!!!!\\n\\nit was incorrect information can't you see!!!!!!!!\\n\\nthat was not a vandalism !!!!!!!!\\n\\nand stop annoying people!!!!!stop stop stoooooopppp this is the last timeeeeeeeeeeee!!!!!!!!!!!!!!!!!!!!!!!!!!!!!!!!!!!!!!\\n\\nthat was not a v...   \n",
       "\n",
       "        toxic   \n",
       "147457      1  \\\n",
       "40232       0   \n",
       "47695       0   \n",
       "157411      0   \n",
       "84789       1   \n",
       "139086      0   \n",
       "9629        0   \n",
       "131533      0   \n",
       "139027      0   \n",
       "118279      1   \n",
       "\n",
       "                                                                                                                                                                                                                                                                                                           lem_text  \n",
       "147457                                                                                                                                                                                                                                   repulsiveness still shot case deserve nationalist dead ambiguity may irish  \n",
       "40232                                                     pant tend merge joke movie remove admin lot anything write please get back thanks ultimately time seperate movie three create tourettesguy main someone reinstate pillow talk refuse recommend agree doesnt deserve article redirect creator page article  \n",
       "47695   permission add acceptable wpattackremoval bring oh long correct anything personal preceding must might contribution please etc remove contribs exception topic short edit come interruption others controversial never comment reply word cite libel although form edit format text irritate see general...  \n",
       "157411  life asi disciple kickedout former take ie content government ban cult suggest form revenge g due picture themthis pakistan use provide follow name exile shahi would use start truth blasphyous muhammad preach edit war hopefully wwwgoharshahicom comply option also algohar view three younas refere...  \n",
       "84789   resolve life obvious policy various im whatever protect attempt nice dont one vandalized editor ever anything personal admins year simple racist anoshirawan perfectly revertnpovetc deal look thats another discussion shit block try finish related matter behnam home difference ethnicity feel fine ...  \n",
       "139086                                                                                                                                                                                          impact environmental minimize praise belong shop criticism business doesnt title attention thats call receive model  \n",
       "9629                                                                                                                                                                  pronunciation paragraph do word nonnative foreigner easily use speaker please commonly correctly bangladesh add use bangla understood regular  \n",
       "131533                                                                                                               order statement happy anything equivalent word decree utc norton issue authority maintain else indeed emperor use figurative jan clarifies agree gtbacchus previous article gtbacchuss article  \n",
       "139027                                                                                                                                                                                                                                                    academic amongst include respectable think source article  \n",
       "118279                          timeeeeeeeeeeee editsssssssssssssss see cant vandallllllllllllllllllllllllllllllllllllllllllllllllllllllllllllllllllllllllllllllllllllllllllllllllllllllllllllllllllllllllllllllllllllllllllll peoplestop last edits stop vandal stoooooopppp vandalism annoy information incorrect  "
      ]
     },
     "execution_count": 22,
     "metadata": {},
     "output_type": "execute_result"
    }
   ],
   "source": [
    "data_read_csv.sample(10)"
   ]
  },
  {
   "cell_type": "markdown",
   "metadata": {},
   "source": [
    "разделим данные на выборки\n",
    "\n",
    "от первоначальной выбоки возьмем треть, с сохранением распределения по классам, а то данных очень много\n",
    "\n",
    "и дропнем индексы"
   ]
  },
  {
   "cell_type": "code",
   "execution_count": 23,
   "metadata": {},
   "outputs": [],
   "source": [
    "data_train_split, _ = train_test_split(data_read_csv,\n",
    "                            random_state=12345,\n",
    "                            stratify=data_read_csv.toxic,\n",
    "                            train_size=.33)\n",
    "#data_train_split = data_read_csv\n",
    "    \n",
    "train, valid = data_train_split.lem_text, data_train_split.toxic\n",
    " \n",
    "data_tmp = train_test_split(train, valid,\n",
    "                            random_state=12345,\n",
    "                            stratify=valid,\n",
    "                            test_size=.2)\n",
    "for i in data_tmp:\n",
    "    i.reset_index(drop=True, inplace=True)\n",
    "X_train, X_test, y_train, y_test = data_tmp"
   ]
  },
  {
   "cell_type": "markdown",
   "metadata": {},
   "source": [
    "<font size=4 color=\"red\"> Комментарий студента</font>\n",
    "\n",
    "<font size=2 color=\"red\"> убрал  функцию разделения"
   ]
  },
  {
   "cell_type": "code",
   "execution_count": 24,
   "metadata": {},
   "outputs": [
    {
     "data": {
      "text/plain": [
       "'отношение трейн и тест 25.0%'"
      ]
     },
     "execution_count": 24,
     "metadata": {},
     "output_type": "execute_result"
    }
   ],
   "source": [
    "f'отношение трейн и тест {len(X_test)/len(X_train):.1%}'"
   ]
  },
  {
   "cell_type": "code",
   "execution_count": 25,
   "metadata": {
    "scrolled": true
   },
   "outputs": [
    {
     "data": {
      "text/plain": [
       "'размерность трейн - 42052, тест - 10514'"
      ]
     },
     "execution_count": 25,
     "metadata": {},
     "output_type": "execute_result"
    }
   ],
   "source": [
    "f'размерность трейн - {len(X_train)}, тест - {len(X_test)}'"
   ]
  },
  {
   "cell_type": "markdown",
   "metadata": {},
   "source": [
    "посмотрим на облако слов"
   ]
  },
  {
   "cell_type": "code",
   "execution_count": 27,
   "metadata": {},
   "outputs": [
    {
     "name": "stdout",
     "output_type": "stream",
     "text": [
      "100% [........................................................] 275572 / 275572"
     ]
    },
    {
     "data": {
      "image/png": "[encoded data removed]",
      "text/plain": [
       "<Figure size 432x288 with 1 Axes>"
      ]
     },
     "metadata": {
      "needs_background": "light"
     },
     "output_type": "display_data"
    }
   ],
   "source": [
    "fd = '{}{}{}'.format(\n",
    "    os.path.abspath('.'),\n",
    "    os.sep,\n",
    "    'Arial.ttf')\n",
    "if not os.path.exists(fd):\n",
    "    fd = '{}{}{}'.format(\n",
    "        os.path.abspath('.'),\n",
    "        os.sep,\n",
    "        download(\n",
    "            \"https://github.com/matomo-org/travis-scripts/raw/master/fonts/\\\n",
    "Arial.ttf\"))\n",
    "\n",
    "param = {\n",
    "    'background_color':\"white\",\n",
    "    'width': 1200, 'height': 600,\n",
    "    'stopwords': ' ',\n",
    "    'max_words': 1000,\n",
    "    'font_path': fd\n",
    "}\n",
    "wc = WordCloud(**param, ).generate(''.join(data_read_csv.lem_text.values))\n",
    "plt.axis(\"off\")\n",
    "plt.imshow(wc)\n",
    "plt.show()\n",
    "os.remove(fd)"
   ]
  },
  {
   "cell_type": "markdown",
   "metadata": {},
   "source": [
    "можно приступать к обучению модeли.\n",
    "\n",
    "модели будем обучать с использованием GridSearchCv через Pipeline, которому передадим CountVectorizer, TfidfTransformer для удаления стоп слов, и векторизаци"
   ]
  },
  {
   "cell_type": "markdown",
   "metadata": {},
   "source": [
    "при работе над разделом было проведено :\n",
    "* ознакомление с данными;\n",
    "* разобраны ключевые признаки;\n",
    "* произведена очистка данных;\n",
    "* произведена лемматизация данных\n",
    "* произведена борьба с дисбалансом классов\n",
    "  \n",
    "векторизация и удаление стоп слов будет произведена на следующем этапе.  "
   ]
  },
  {
   "cell_type": "markdown",
   "metadata": {},
   "source": [
    "## Обучение"
   ]
  },
  {
   "cell_type": "markdown",
   "metadata": {},
   "source": [
    "создадим таблицу для хранения результатов"
   ]
  },
  {
   "cell_type": "code",
   "execution_count": 28,
   "metadata": {},
   "outputs": [],
   "source": [
    "data_rouger=pd.DataFrame()"
   ]
  },
  {
   "cell_type": "markdown",
   "metadata": {},
   "source": [
    "обучим модель LogisticRegression и запишем данные в таблицу"
   ]
  },
  {
   "cell_type": "code",
   "execution_count": null,
   "metadata": {},
   "outputs": [],
   "source": [
    "data_rouger = pd.concat(\n",
    "    [data_rouger, model_func(\n",
    "        X=X_train,\n",
    "        y=y_train,\n",
    "        model=LogisticRegression,\n",
    "        random_state={\n",
    "            'class_weight':'balanced',\n",
    "            'random_state': 42,\n",
    "        },\n",
    "        param_grid={\n",
    "            'tfidf__sublinear_tf': (True, False),\n",
    "            'clf__penalty': ['l2', 'l1'],   #l2\n",
    "            'clf__intercept_scaling': np.arange(.1, 5, 2),\n",
    "            'clf__C': np.arange(15, 26, 5),\n",
    "        }\n",
    "    )],\n",
    "    axis=0,\n",
    "    ignore_index=False,\n",
    ")"
   ]
  },
  {
   "cell_type": "code",
   "execution_count": 33,
   "metadata": {
    "scrolled": true
   },
   "outputs": [
    {
     "data": {
      "text/html": [
       "<style>#sk-container-id-1 {color: black;}#sk-container-id-1 pre{padding: 0;}#sk-container-id-1 div.sk-toggleable {background-color: white;}#sk-container-id-1 label.sk-toggleable__label {cursor: pointer;display: block;width: 100%;margin-bottom: 0;padding: 0.3em;box-sizing: border-box;text-align: center;}#sk-container-id-1 label.sk-toggleable__label-arrow:before {content: \"▸\";float: left;margin-right: 0.25em;color: #696969;}#sk-container-id-1 label.sk-toggleable__label-arrow:hover:before {color: black;}#sk-container-id-1 div.sk-estimator:hover label.sk-toggleable__label-arrow:before {color: black;}#sk-container-id-1 div.sk-toggleable__content {max-height: 0;max-width: 0;overflow: hidden;text-align: left;background-color: #f0f8ff;}#sk-container-id-1 div.sk-toggleable__content pre {margin: 0.2em;color: black;border-radius: 0.25em;background-color: #f0f8ff;}#sk-container-id-1 input.sk-toggleable__control:checked~div.sk-toggleable__content {max-height: 200px;max-width: 100%;overflow: auto;}#sk-container-id-1 input.sk-toggleable__control:checked~label.sk-toggleable__label-arrow:before {content: \"▾\";}#sk-container-id-1 div.sk-estimator input.sk-toggleable__control:checked~label.sk-toggleable__label {background-color: #d4ebff;}#sk-container-id-1 div.sk-label input.sk-toggleable__control:checked~label.sk-toggleable__label {background-color: #d4ebff;}#sk-container-id-1 input.sk-hidden--visually {border: 0;clip: rect(1px 1px 1px 1px);clip: rect(1px, 1px, 1px, 1px);height: 1px;margin: -1px;overflow: hidden;padding: 0;position: absolute;width: 1px;}#sk-container-id-1 div.sk-estimator {font-family: monospace;background-color: #f0f8ff;border: 1px dotted black;border-radius: 0.25em;box-sizing: border-box;margin-bottom: 0.5em;}#sk-container-id-1 div.sk-estimator:hover {background-color: #d4ebff;}#sk-container-id-1 div.sk-parallel-item::after {content: \"\";width: 100%;border-bottom: 1px solid gray;flex-grow: 1;}#sk-container-id-1 div.sk-label:hover label.sk-toggleable__label {background-color: #d4ebff;}#sk-container-id-1 div.sk-serial::before {content: \"\";position: absolute;border-left: 1px solid gray;box-sizing: border-box;top: 0;bottom: 0;left: 50%;z-index: 0;}#sk-container-id-1 div.sk-serial {display: flex;flex-direction: column;align-items: center;background-color: white;padding-right: 0.2em;padding-left: 0.2em;position: relative;}#sk-container-id-1 div.sk-item {position: relative;z-index: 1;}#sk-container-id-1 div.sk-parallel {display: flex;align-items: stretch;justify-content: center;background-color: white;position: relative;}#sk-container-id-1 div.sk-item::before, #sk-container-id-1 div.sk-parallel-item::before {content: \"\";position: absolute;border-left: 1px solid gray;box-sizing: border-box;top: 0;bottom: 0;left: 50%;z-index: -1;}#sk-container-id-1 div.sk-parallel-item {display: flex;flex-direction: column;z-index: 1;position: relative;background-color: white;}#sk-container-id-1 div.sk-parallel-item:first-child::after {align-self: flex-end;width: 50%;}#sk-container-id-1 div.sk-parallel-item:last-child::after {align-self: flex-start;width: 50%;}#sk-container-id-1 div.sk-parallel-item:only-child::after {width: 0;}#sk-container-id-1 div.sk-dashed-wrapped {border: 1px dashed gray;margin: 0 0.4em 0.5em 0.4em;box-sizing: border-box;padding-bottom: 0.4em;background-color: white;}#sk-container-id-1 div.sk-label label {font-family: monospace;font-weight: bold;display: inline-block;line-height: 1.2em;}#sk-container-id-1 div.sk-label-container {text-align: center;}#sk-container-id-1 div.sk-container {/* jupyter's `normalize.less` sets `[hidden] { display: none; }` but bootstrap.min.css set `[hidden] { display: none !important; }` so we also need the `!important` here to be able to override the default hidden behavior on the sphinx rendered scikit-learn.org. See: https://github.com/scikit-learn/scikit-learn/issues/21755 */display: inline-block !important;position: relative;}#sk-container-id-1 div.sk-text-repr-fallback {display: none;}</style><div id=\"sk-container-id-1\" class=\"sk-top-container\"><div class=\"sk-text-repr-fallback\"><pre>ColumnTransformer(transformers=[(&#x27;text_preprocess&#x27;,\n",
       "                                 TfidfVectorizer(stop_words=&lt;WordListCorpusReader in &#x27;/home/oslik/nltk_data/corpora/stopwords&#x27;&gt;),\n",
       "                                 &#x27;lemmatized_text&#x27;),\n",
       "                                (&#x27;new_features_preprocess&#x27;, StandardScaler(),\n",
       "                                 [&#x27;lengh&#x27;, &#x27;number&#x27;])])</pre><b>In a Jupyter environment, please rerun this cell to show the HTML representation or trust the notebook. <br />On GitHub, the HTML representation is unable to render, please try loading this page with nbviewer.org.</b></div><div class=\"sk-container\" hidden><div class=\"sk-item sk-dashed-wrapped\"><div class=\"sk-label-container\"><div class=\"sk-label sk-toggleable\"><input class=\"sk-toggleable__control sk-hidden--visually\" id=\"sk-estimator-id-1\" type=\"checkbox\" ><label for=\"sk-estimator-id-1\" class=\"sk-toggleable__label sk-toggleable__label-arrow\">ColumnTransformer</label><div class=\"sk-toggleable__content\"><pre>ColumnTransformer(transformers=[(&#x27;text_preprocess&#x27;,\n",
       "                                 TfidfVectorizer(stop_words=&lt;WordListCorpusReader in &#x27;/home/oslik/nltk_data/corpora/stopwords&#x27;&gt;),\n",
       "                                 &#x27;lemmatized_text&#x27;),\n",
       "                                (&#x27;new_features_preprocess&#x27;, StandardScaler(),\n",
       "                                 [&#x27;lengh&#x27;, &#x27;number&#x27;])])</pre></div></div></div><div class=\"sk-parallel\"><div class=\"sk-parallel-item\"><div class=\"sk-item\"><div class=\"sk-label-container\"><div class=\"sk-label sk-toggleable\"><input class=\"sk-toggleable__control sk-hidden--visually\" id=\"sk-estimator-id-2\" type=\"checkbox\" ><label for=\"sk-estimator-id-2\" class=\"sk-toggleable__label sk-toggleable__label-arrow\">text_preprocess</label><div class=\"sk-toggleable__content\"><pre>lemmatized_text</pre></div></div></div><div class=\"sk-serial\"><div class=\"sk-item\"><div class=\"sk-estimator sk-toggleable\"><input class=\"sk-toggleable__control sk-hidden--visually\" id=\"sk-estimator-id-3\" type=\"checkbox\" ><label for=\"sk-estimator-id-3\" class=\"sk-toggleable__label sk-toggleable__label-arrow\">TfidfVectorizer</label><div class=\"sk-toggleable__content\"><pre>TfidfVectorizer(stop_words=&lt;WordListCorpusReader in &#x27;/home/oslik/nltk_data/corpora/stopwords&#x27;&gt;)</pre></div></div></div></div></div></div><div class=\"sk-parallel-item\"><div class=\"sk-item\"><div class=\"sk-label-container\"><div class=\"sk-label sk-toggleable\"><input class=\"sk-toggleable__control sk-hidden--visually\" id=\"sk-estimator-id-4\" type=\"checkbox\" ><label for=\"sk-estimator-id-4\" class=\"sk-toggleable__label sk-toggleable__label-arrow\">new_features_preprocess</label><div class=\"sk-toggleable__content\"><pre>[&#x27;lengh&#x27;, &#x27;number&#x27;]</pre></div></div></div><div class=\"sk-serial\"><div class=\"sk-item\"><div class=\"sk-estimator sk-toggleable\"><input class=\"sk-toggleable__control sk-hidden--visually\" id=\"sk-estimator-id-5\" type=\"checkbox\" ><label for=\"sk-estimator-id-5\" class=\"sk-toggleable__label sk-toggleable__label-arrow\">StandardScaler</label><div class=\"sk-toggleable__content\"><pre>StandardScaler()</pre></div></div></div></div></div></div></div></div></div></div>"
      ],
      "text/plain": [
       "ColumnTransformer(transformers=[('text_preprocess',\n",
       "                                 TfidfVectorizer(stop_words=<WordListCorpusReader in '/home/oslik/nltk_data/corpora/stopwords'>),\n",
       "                                 'lemmatized_text'),\n",
       "                                ('new_features_preprocess', StandardScaler(),\n",
       "                                 ['lengh', 'number'])])"
      ]
     },
     "execution_count": 33,
     "metadata": {},
     "output_type": "execute_result"
    }
   ],
   "source": [
    "features"
   ]
  },
  {
   "cell_type": "markdown",
   "metadata": {},
   "source": [
    "обучим модель SGDClassifier и запишем данные в таблицу"
   ]
  },
  {
   "cell_type": "code",
   "execution_count": 34,
   "metadata": {},
   "outputs": [],
   "source": [
    "data_rouger = pd.concat(\n",
    "    [data_rouger, model_func(\n",
    "        X=X_train,\n",
    "        y=y_train,\n",
    "        model=SGDClassifier,\n",
    "        random_state={\n",
    "            'random_state': 42,\n",
    "        },\n",
    "        param_grid={\n",
    "            'tfidf__smooth_idf': (True, False),\n",
    "            'tfidf__sublinear_tf': (True, False),\n",
    "            'tfidf__norm': ['l1','l2'],\n",
    "            'clf__loss': ['squared_error','log_loss'],\n",
    "            'clf__penalty': ['l1','l2'],\n",
    "            'clf__alpha': [1e-05, 1e-04, 1e+03, 1e+04],\n",
    "            'clf__class_weight': [None, 'balanced']\n",
    "        }\n",
    "    )],\n",
    "    axis=0,\n",
    "    ignore_index=False,\n",
    ")"
   ]
  },
  {
   "cell_type": "markdown",
   "metadata": {},
   "source": [
    "обучим модель DecisionTreeClassifier и запишем данные в таблицу"
   ]
  },
  {
   "cell_type": "code",
   "execution_count": null,
   "metadata": {},
   "outputs": [],
   "source": [
    "data_rouger = pd.concat(\n",
    "    [data_rouger, model_func(\n",
    "        X=X_train,\n",
    "        y=y_train,\n",
    "        model=DecisionTreeClassifier,\n",
    "        random_state={\n",
    "            'random_state': 42,\n",
    "        },\n",
    "        param_grid={}\n",
    "    )],\n",
    "    axis=0,\n",
    "    ignore_index=False,\n",
    ")"
   ]
  },
  {
   "cell_type": "markdown",
   "metadata": {},
   "source": [
    "обучим модель CatBoostClassifier и запишем данные в таблицу"
   ]
  },
  {
   "cell_type": "code",
   "execution_count": null,
   "metadata": {},
   "outputs": [],
   "source": [
    "data_rouger = pd.concat(\n",
    "    [data_rouger, model_func(\n",
    "        X=X_train,\n",
    "        y=y_train,\n",
    "        model=CatBoostClassifier,\n",
    "        random_state={\n",
    "            'verbose': False,\n",
    "            'random_state': 42,\n",
    "        },\n",
    "        param_grid={\n",
    "            'clf__iterations':[200,]\n",
    "        }\n",
    "    )],\n",
    "    axis=0,\n",
    "    ignore_index=False,\n",
    ")"
   ]
  },
  {
   "cell_type": "code",
   "execution_count": null,
   "metadata": {},
   "outputs": [],
   "source": [
    "data_rouger = data_rouger.sort_values(by='f1_train', ascending=False).reset_index(drop=True)\n",
    "data_rouger"
   ]
  },
  {
   "cell_type": "markdown",
   "metadata": {},
   "source": [
    "протестируем полученные модели"
   ]
  },
  {
   "cell_type": "code",
   "execution_count": null,
   "metadata": {},
   "outputs": [],
   "source": [
    "dick={'name':[], 'F1':[]}\n",
    "model = pickle.loads(data_rouger.loc[0, 'bin_'])\n",
    "dick['F1'].append(f1_score(model.predict(X_test), y_test))\n",
    "dick['name'].append(data_rouger['name'].loc[0])"
   ]
  },
  {
   "cell_type": "code",
   "execution_count": null,
   "metadata": {},
   "outputs": [],
   "source": [
    "pd.DataFrame(dick).set_index('name').sort_values(by='F1', ascending=False)"
   ]
  },
  {
   "cell_type": "markdown",
   "metadata": {},
   "source": [
    "на тестовой выборке показатель F1 соответствует условиям задания"
   ]
  },
  {
   "cell_type": "code",
   "execution_count": null,
   "metadata": {},
   "outputs": [],
   "source": [
    "probabilities = model.predict_proba(X_test)\n",
    "fpr, tpr, thresholds = roc_curve(y_test, probabilities[:,1]) "
   ]
  },
  {
   "cell_type": "code",
   "execution_count": null,
   "metadata": {},
   "outputs": [],
   "source": [
    "fig, ax = plt.subplots(ncols=1, figsize=(10,10))\n",
    "ax = plt.plot(fpr, tpr)\n",
    "ax = plt.plot([0, 1], [0, 1])\n",
    "plt.ylabel('True Positive Rate')\n",
    "plt.xlabel('False Positive Rate')\n",
    "plt.title('ROC-кривая')\n",
    "plt.show()"
   ]
  },
  {
   "cell_type": "code",
   "execution_count": null,
   "metadata": {},
   "outputs": [],
   "source": [
    "model.get_feature_names_out().tolist()"
   ]
  },
  {
   "cell_type": "code",
   "execution_count": null,
   "metadata": {},
   "outputs": [],
   "source": [
    "model.coef_.tolist()[0]"
   ]
  },
  {
   "cell_type": "markdown",
   "metadata": {},
   "source": [
    "## Выводы"
   ]
  },
  {
   "cell_type": "markdown",
   "metadata": {},
   "source": [
    "В ходе работы над проектом были выполнены этапы:\n",
    "1. Подготовка, в ходе которой:\n",
    "   * загружены необходимые библиотеки, подготовлены функции\n",
    "   * загружены и изучены данные\n",
    "   * проведена преобработка текста:\n",
    "   * * очистка текста от пунктуационных символов\n",
    "     * тексты приведены к нижнему регистру\n",
    "     * произведена лемматизация текстов\n",
    "     * данные разделены на выборки\n",
    "     * выполнена работа по борьбе с дисбалансом классов\n",
    "3. Обучение моделей:\n",
    "\n",
    "   * обучены 3 модели (LogisticRegression, SGDClassifier, DecisionTreeClassifier , CatBoostClassifier) с использованием GridSearchCv через Pipeline, которому передавался CountVectorizer, TfidfTransformer для удаления стоп слов, и векторизаци\n",
    "   * получены метрики, на основании которых была определена лучшая модель\n",
    "   * проведено тестирование лучшей модели\n",
    "   * постороена матрица ошибок\n",
    "\n",
    "    В SGDClassifier при тестировании достугнут целевой уровень метрики F1.\n",
    "\n",
    "    Итоговый показатель F1 составил - 0.764278.\n"
   ]
  }
 ],
 "metadata": {
  "ExecuteTimeLog": [
   {
    "duration": 471,
    "start_time": "2023-07-09T19:21:37.146Z"
   }
  ],
  "kernelspec": {
   "display_name": "Python 3 (ipykernel)",
   "language": "python",
   "name": "python3"
  },
  "language_info": {
   "codemirror_mode": {
    "name": "ipython",
    "version": 3
   },
   "file_extension": ".py",
   "mimetype": "text/x-python",
   "name": "python",
   "nbconvert_exporter": "python",
   "pygments_lexer": "ipython3",
   "version": "3.10.12"
  },
  "toc": {
   "base_numbering": 1,
   "nav_menu": {},
   "number_sections": true,
   "sideBar": true,
   "skip_h1_title": true,
   "title_cell": "Содержание",
   "title_sidebar": "Contents",
   "toc_cell": true,
   "toc_position": {
    "height": "calc(100% - 180px)",
    "left": "10px",
    "top": "150px",
    "width": "302.391px"
   },
   "toc_section_display": true,
   "toc_window_display": false
  }
 },
 "nbformat": 4,
 "nbformat_minor": 4
}
