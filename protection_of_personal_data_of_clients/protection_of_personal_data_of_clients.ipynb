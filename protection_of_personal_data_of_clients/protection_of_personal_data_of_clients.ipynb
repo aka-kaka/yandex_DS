{
 "cells": [
  {
   "cell_type": "markdown",
   "metadata": {
    "toc": true
   },
   "source": [
    "<h1>Содержание<span class=\"tocSkip\"></span></h1>\n",
    "<div class=\"toc\"><ul class=\"toc-item\"><li><span><a href=\"#Загрузка-данных\" data-toc-modified-id=\"Загрузка-данных-1\"><span class=\"toc-item-num\">1&nbsp;&nbsp;</span>Загрузка данных</a></span><ul class=\"toc-item\"><li><span><a href=\"#Краткий-вывод\" data-toc-modified-id=\"Краткий-вывод-1.1\"><span class=\"toc-item-num\">1.1&nbsp;&nbsp;</span>Краткий вывод</a></span></li></ul></li><li><span><a href=\"#Умножение-матриц\" data-toc-modified-id=\"Умножение-матриц-2\"><span class=\"toc-item-num\">2&nbsp;&nbsp;</span>Умножение матриц</a></span><ul class=\"toc-item\"><li><span><a href=\"#Математическое-обоснование\" data-toc-modified-id=\"Математическое-обоснование-2.1\"><span class=\"toc-item-num\">2.1&nbsp;&nbsp;</span>Математическое обоснование</a></span></li><li><span><a href=\"#Проверка-расчетов\" data-toc-modified-id=\"Проверка-расчетов-2.2\"><span class=\"toc-item-num\">2.2&nbsp;&nbsp;</span>Проверка расчетов</a></span></li></ul></li><li><span><a href=\"#Проверка-алгоритма\" data-toc-modified-id=\"Проверка-алгоритма-3\"><span class=\"toc-item-num\">3&nbsp;&nbsp;</span>Проверка алгоритма</a></span></li><li><span><a href=\"#Вывод:\" data-toc-modified-id=\"Вывод:-4\"><span class=\"toc-item-num\">4&nbsp;&nbsp;</span>Вывод:</a></span></li><li><span><a href=\"#Общий-вывод-по-проекту\" data-toc-modified-id=\"Общий-вывод-по-проекту-5\"><span class=\"toc-item-num\">5&nbsp;&nbsp;</span><b>Общий вывод по проекту</b></a></span></li><li><span><a href=\"#Общий-вывод-по-проекту-В2\" data-toc-modified-id=\"Общий-вывод-по-проекту-В2-6\"><span class=\"toc-item-num\">6&nbsp;&nbsp;</span><b>Общий вывод по проекту В2</b></a></span></li></ul></div>"
   ]
  },
  {
   "cell_type": "markdown",
   "metadata": {},
   "source": [
    "# Защита персональных данных клиентов"
   ]
  },
  {
   "cell_type": "markdown",
   "metadata": {},
   "source": [
    "Вам нужно защитить данные клиентов страховой компании «Хоть потоп». Разработайте такой метод преобразования данных, чтобы по ним было сложно восстановить персональную информацию. Обоснуйте корректность его работы.\n",
    "\n",
    "Нужно защитить данные, чтобы при преобразовании качество моделей машинного обучения не ухудшилось. Подбирать наилучшую модель не требуется."
   ]
  },
  {
   "cell_type": "markdown",
   "metadata": {},
   "source": [
    "## Загрузка данных"
   ]
  },
  {
   "cell_type": "code",
   "execution_count": 1,
   "metadata": {},
   "outputs": [
    {
     "name": "stdout",
     "output_type": "stream",
     "text": [
      "Requirement already satisfied: phik in /opt/conda/lib/python3.9/site-packages (0.12.3)\n",
      "Requirement already satisfied: joblib>=0.14.1 in /opt/conda/lib/python3.9/site-packages (from phik) (1.1.0)\n",
      "Requirement already satisfied: matplotlib>=2.2.3 in /opt/conda/lib/python3.9/site-packages (from phik) (3.3.4)\n",
      "Requirement already satisfied: numpy>=1.18.0 in /opt/conda/lib/python3.9/site-packages (from phik) (1.21.1)\n",
      "Requirement already satisfied: scipy>=1.5.2 in /opt/conda/lib/python3.9/site-packages (from phik) (1.9.1)\n",
      "Requirement already satisfied: pandas>=0.25.1 in /opt/conda/lib/python3.9/site-packages (from phik) (1.2.4)\n",
      "Requirement already satisfied: cycler>=0.10 in /opt/conda/lib/python3.9/site-packages (from matplotlib>=2.2.3->phik) (0.11.0)\n",
      "Requirement already satisfied: python-dateutil>=2.1 in /opt/conda/lib/python3.9/site-packages (from matplotlib>=2.2.3->phik) (2.8.1)\n",
      "Requirement already satisfied: pyparsing!=2.0.4,!=2.1.2,!=2.1.6,>=2.0.3 in /opt/conda/lib/python3.9/site-packages (from matplotlib>=2.2.3->phik) (2.4.7)\n",
      "Requirement already satisfied: kiwisolver>=1.0.1 in /opt/conda/lib/python3.9/site-packages (from matplotlib>=2.2.3->phik) (1.4.4)\n",
      "Requirement already satisfied: pillow>=6.2.0 in /opt/conda/lib/python3.9/site-packages (from matplotlib>=2.2.3->phik) (8.4.0)\n",
      "Requirement already satisfied: pytz>=2017.3 in /opt/conda/lib/python3.9/site-packages (from pandas>=0.25.1->phik) (2021.1)\n",
      "Requirement already satisfied: six>=1.5 in /opt/conda/lib/python3.9/site-packages (from python-dateutil>=2.1->matplotlib>=2.2.3->phik) (1.16.0)\n"
     ]
    }
   ],
   "source": [
    "!pip install phik"
   ]
  },
  {
   "cell_type": "code",
   "execution_count": 2,
   "metadata": {},
   "outputs": [],
   "source": [
    "import pandas as pd\n",
    "import numpy as np\n",
    "\n",
    "from sklearn.linear_model import LinearRegression\n",
    "from sklearn.metrics import r2_score\n",
    "from sklearn.model_selection import train_test_split \n",
    "import phik"
   ]
  },
  {
   "cell_type": "code",
   "execution_count": 3,
   "metadata": {},
   "outputs": [],
   "source": [
    "try:\n",
    "    clients_data = pd.read_csv('/datasets/insurance.csv')\n",
    "except:\n",
    "    clients_data = pd.read_csv('https://code.s3.yandex.net/datasets/insurance.csv')"
   ]
  },
  {
   "cell_type": "code",
   "execution_count": 4,
   "metadata": {},
   "outputs": [
    {
     "data": {
      "text/html": [
       "<div>\n",
       "<style scoped>\n",
       "    .dataframe tbody tr th:only-of-type {\n",
       "        vertical-align: middle;\n",
       "    }\n",
       "\n",
       "    .dataframe tbody tr th {\n",
       "        vertical-align: top;\n",
       "    }\n",
       "\n",
       "    .dataframe thead th {\n",
       "        text-align: right;\n",
       "    }\n",
       "</style>\n",
       "<table border=\"1\" class=\"dataframe\">\n",
       "  <thead>\n",
       "    <tr style=\"text-align: right;\">\n",
       "      <th></th>\n",
       "      <th>Пол</th>\n",
       "      <th>Возраст</th>\n",
       "      <th>Зарплата</th>\n",
       "      <th>Члены семьи</th>\n",
       "      <th>Страховые выплаты</th>\n",
       "    </tr>\n",
       "  </thead>\n",
       "  <tbody>\n",
       "    <tr>\n",
       "      <th>0</th>\n",
       "      <td>1</td>\n",
       "      <td>41.0</td>\n",
       "      <td>49600.0</td>\n",
       "      <td>1</td>\n",
       "      <td>0</td>\n",
       "    </tr>\n",
       "    <tr>\n",
       "      <th>1</th>\n",
       "      <td>0</td>\n",
       "      <td>46.0</td>\n",
       "      <td>38000.0</td>\n",
       "      <td>1</td>\n",
       "      <td>1</td>\n",
       "    </tr>\n",
       "    <tr>\n",
       "      <th>2</th>\n",
       "      <td>0</td>\n",
       "      <td>29.0</td>\n",
       "      <td>21000.0</td>\n",
       "      <td>0</td>\n",
       "      <td>0</td>\n",
       "    </tr>\n",
       "    <tr>\n",
       "      <th>3</th>\n",
       "      <td>0</td>\n",
       "      <td>21.0</td>\n",
       "      <td>41700.0</td>\n",
       "      <td>2</td>\n",
       "      <td>0</td>\n",
       "    </tr>\n",
       "    <tr>\n",
       "      <th>4</th>\n",
       "      <td>1</td>\n",
       "      <td>28.0</td>\n",
       "      <td>26100.0</td>\n",
       "      <td>0</td>\n",
       "      <td>0</td>\n",
       "    </tr>\n",
       "    <tr>\n",
       "      <th>...</th>\n",
       "      <td>...</td>\n",
       "      <td>...</td>\n",
       "      <td>...</td>\n",
       "      <td>...</td>\n",
       "      <td>...</td>\n",
       "    </tr>\n",
       "    <tr>\n",
       "      <th>4995</th>\n",
       "      <td>0</td>\n",
       "      <td>28.0</td>\n",
       "      <td>35700.0</td>\n",
       "      <td>2</td>\n",
       "      <td>0</td>\n",
       "    </tr>\n",
       "    <tr>\n",
       "      <th>4996</th>\n",
       "      <td>0</td>\n",
       "      <td>34.0</td>\n",
       "      <td>52400.0</td>\n",
       "      <td>1</td>\n",
       "      <td>0</td>\n",
       "    </tr>\n",
       "    <tr>\n",
       "      <th>4997</th>\n",
       "      <td>0</td>\n",
       "      <td>20.0</td>\n",
       "      <td>33900.0</td>\n",
       "      <td>2</td>\n",
       "      <td>0</td>\n",
       "    </tr>\n",
       "    <tr>\n",
       "      <th>4998</th>\n",
       "      <td>1</td>\n",
       "      <td>22.0</td>\n",
       "      <td>32700.0</td>\n",
       "      <td>3</td>\n",
       "      <td>0</td>\n",
       "    </tr>\n",
       "    <tr>\n",
       "      <th>4999</th>\n",
       "      <td>1</td>\n",
       "      <td>28.0</td>\n",
       "      <td>40600.0</td>\n",
       "      <td>1</td>\n",
       "      <td>0</td>\n",
       "    </tr>\n",
       "  </tbody>\n",
       "</table>\n",
       "<p>5000 rows × 5 columns</p>\n",
       "</div>"
      ],
      "text/plain": [
       "      Пол  Возраст  Зарплата  Члены семьи  Страховые выплаты\n",
       "0       1     41.0   49600.0            1                  0\n",
       "1       0     46.0   38000.0            1                  1\n",
       "2       0     29.0   21000.0            0                  0\n",
       "3       0     21.0   41700.0            2                  0\n",
       "4       1     28.0   26100.0            0                  0\n",
       "...   ...      ...       ...          ...                ...\n",
       "4995    0     28.0   35700.0            2                  0\n",
       "4996    0     34.0   52400.0            1                  0\n",
       "4997    0     20.0   33900.0            2                  0\n",
       "4998    1     22.0   32700.0            3                  0\n",
       "4999    1     28.0   40600.0            1                  0\n",
       "\n",
       "[5000 rows x 5 columns]"
      ]
     },
     "execution_count": 4,
     "metadata": {},
     "output_type": "execute_result"
    }
   ],
   "source": [
    "clients_data"
   ]
  },
  {
   "cell_type": "code",
   "execution_count": 5,
   "metadata": {},
   "outputs": [
    {
     "data": {
      "text/html": [
       "<div>\n",
       "<style scoped>\n",
       "    .dataframe tbody tr th:only-of-type {\n",
       "        vertical-align: middle;\n",
       "    }\n",
       "\n",
       "    .dataframe tbody tr th {\n",
       "        vertical-align: top;\n",
       "    }\n",
       "\n",
       "    .dataframe thead th {\n",
       "        text-align: right;\n",
       "    }\n",
       "</style>\n",
       "<table border=\"1\" class=\"dataframe\">\n",
       "  <thead>\n",
       "    <tr style=\"text-align: right;\">\n",
       "      <th></th>\n",
       "      <th>Пол</th>\n",
       "      <th>Возраст</th>\n",
       "      <th>Зарплата</th>\n",
       "      <th>Члены семьи</th>\n",
       "      <th>Страховые выплаты</th>\n",
       "    </tr>\n",
       "  </thead>\n",
       "  <tbody>\n",
       "    <tr>\n",
       "      <th>Пол</th>\n",
       "      <td>1.000000</td>\n",
       "      <td>0.002074</td>\n",
       "      <td>0.014910</td>\n",
       "      <td>-0.008991</td>\n",
       "      <td>0.010140</td>\n",
       "    </tr>\n",
       "    <tr>\n",
       "      <th>Возраст</th>\n",
       "      <td>0.002074</td>\n",
       "      <td>1.000000</td>\n",
       "      <td>-0.019093</td>\n",
       "      <td>-0.006692</td>\n",
       "      <td>0.651030</td>\n",
       "    </tr>\n",
       "    <tr>\n",
       "      <th>Зарплата</th>\n",
       "      <td>0.014910</td>\n",
       "      <td>-0.019093</td>\n",
       "      <td>1.000000</td>\n",
       "      <td>-0.030296</td>\n",
       "      <td>-0.014963</td>\n",
       "    </tr>\n",
       "    <tr>\n",
       "      <th>Члены семьи</th>\n",
       "      <td>-0.008991</td>\n",
       "      <td>-0.006692</td>\n",
       "      <td>-0.030296</td>\n",
       "      <td>1.000000</td>\n",
       "      <td>-0.036290</td>\n",
       "    </tr>\n",
       "    <tr>\n",
       "      <th>Страховые выплаты</th>\n",
       "      <td>0.010140</td>\n",
       "      <td>0.651030</td>\n",
       "      <td>-0.014963</td>\n",
       "      <td>-0.036290</td>\n",
       "      <td>1.000000</td>\n",
       "    </tr>\n",
       "  </tbody>\n",
       "</table>\n",
       "</div>"
      ],
      "text/plain": [
       "                        Пол   Возраст  Зарплата  Члены семьи  \\\n",
       "Пол                1.000000  0.002074  0.014910    -0.008991   \n",
       "Возраст            0.002074  1.000000 -0.019093    -0.006692   \n",
       "Зарплата           0.014910 -0.019093  1.000000    -0.030296   \n",
       "Члены семьи       -0.008991 -0.006692 -0.030296     1.000000   \n",
       "Страховые выплаты  0.010140  0.651030 -0.014963    -0.036290   \n",
       "\n",
       "                   Страховые выплаты  \n",
       "Пол                         0.010140  \n",
       "Возраст                     0.651030  \n",
       "Зарплата                   -0.014963  \n",
       "Члены семьи                -0.036290  \n",
       "Страховые выплаты           1.000000  "
      ]
     },
     "execution_count": 5,
     "metadata": {},
     "output_type": "execute_result"
    }
   ],
   "source": [
    "clients_data.corr()"
   ]
  },
  {
   "cell_type": "code",
   "execution_count": 6,
   "metadata": {},
   "outputs": [
    {
     "name": "stdout",
     "output_type": "stream",
     "text": [
      "interval columns not set, guessing: ['Пол', 'Возраст', 'Зарплата', 'Члены семьи', 'Страховые выплаты']\n"
     ]
    },
    {
     "data": {
      "text/html": [
       "<div>\n",
       "<style scoped>\n",
       "    .dataframe tbody tr th:only-of-type {\n",
       "        vertical-align: middle;\n",
       "    }\n",
       "\n",
       "    .dataframe tbody tr th {\n",
       "        vertical-align: top;\n",
       "    }\n",
       "\n",
       "    .dataframe thead th {\n",
       "        text-align: right;\n",
       "    }\n",
       "</style>\n",
       "<table border=\"1\" class=\"dataframe\">\n",
       "  <thead>\n",
       "    <tr style=\"text-align: right;\">\n",
       "      <th></th>\n",
       "      <th>Пол</th>\n",
       "      <th>Возраст</th>\n",
       "      <th>Зарплата</th>\n",
       "      <th>Члены семьи</th>\n",
       "      <th>Страховые выплаты</th>\n",
       "    </tr>\n",
       "  </thead>\n",
       "  <tbody>\n",
       "    <tr>\n",
       "      <th>Пол</th>\n",
       "      <td>1.000000</td>\n",
       "      <td>0.000000</td>\n",
       "      <td>0.000000</td>\n",
       "      <td>0.0</td>\n",
       "      <td>0.032181</td>\n",
       "    </tr>\n",
       "    <tr>\n",
       "      <th>Возраст</th>\n",
       "      <td>0.000000</td>\n",
       "      <td>1.000000</td>\n",
       "      <td>0.071073</td>\n",
       "      <td>0.0</td>\n",
       "      <td>0.884865</td>\n",
       "    </tr>\n",
       "    <tr>\n",
       "      <th>Зарплата</th>\n",
       "      <td>0.000000</td>\n",
       "      <td>0.071073</td>\n",
       "      <td>1.000000</td>\n",
       "      <td>0.0</td>\n",
       "      <td>0.000000</td>\n",
       "    </tr>\n",
       "    <tr>\n",
       "      <th>Члены семьи</th>\n",
       "      <td>0.000000</td>\n",
       "      <td>0.000000</td>\n",
       "      <td>0.000000</td>\n",
       "      <td>1.0</td>\n",
       "      <td>0.000000</td>\n",
       "    </tr>\n",
       "    <tr>\n",
       "      <th>Страховые выплаты</th>\n",
       "      <td>0.032181</td>\n",
       "      <td>0.884865</td>\n",
       "      <td>0.000000</td>\n",
       "      <td>0.0</td>\n",
       "      <td>1.000000</td>\n",
       "    </tr>\n",
       "  </tbody>\n",
       "</table>\n",
       "</div>"
      ],
      "text/plain": [
       "                        Пол   Возраст  Зарплата  Члены семьи  \\\n",
       "Пол                1.000000  0.000000  0.000000          0.0   \n",
       "Возраст            0.000000  1.000000  0.071073          0.0   \n",
       "Зарплата           0.000000  0.071073  1.000000          0.0   \n",
       "Члены семьи        0.000000  0.000000  0.000000          1.0   \n",
       "Страховые выплаты  0.032181  0.884865  0.000000          0.0   \n",
       "\n",
       "                   Страховые выплаты  \n",
       "Пол                         0.032181  \n",
       "Возраст                     0.884865  \n",
       "Зарплата                    0.000000  \n",
       "Члены семьи                 0.000000  \n",
       "Страховые выплаты           1.000000  "
      ]
     },
     "execution_count": 6,
     "metadata": {},
     "output_type": "execute_result"
    }
   ],
   "source": [
    "clients_data.phik_matrix()"
   ]
  },
  {
   "cell_type": "markdown",
   "metadata": {},
   "source": [
    "у целеквого признака присутствует сильная положительная корреляция с данными в столбце Возраст, с остальными столюцами корреляция близка к нулю"
   ]
  },
  {
   "cell_type": "code",
   "execution_count": 7,
   "metadata": {},
   "outputs": [
    {
     "data": {
      "text/plain": [
       "(5000, 5)"
      ]
     },
     "execution_count": 7,
     "metadata": {},
     "output_type": "execute_result"
    }
   ],
   "source": [
    "clients_data.shape"
   ]
  },
  {
   "cell_type": "code",
   "execution_count": 8,
   "metadata": {},
   "outputs": [
    {
     "data": {
      "text/plain": [
       "153"
      ]
     },
     "execution_count": 8,
     "metadata": {},
     "output_type": "execute_result"
    }
   ],
   "source": [
    "clients_data.duplicated().sum()"
   ]
  },
  {
   "cell_type": "markdown",
   "metadata": {},
   "source": [
    "В данных присутствуют дбликаты"
   ]
  },
  {
   "cell_type": "code",
   "execution_count": 9,
   "metadata": {},
   "outputs": [
    {
     "data": {
      "image/png": "[encoded data removed]",
      "text/plain": [
       "<Figure size 720x720 with 6 Axes>"
      ]
     },
     "metadata": {
      "needs_background": "light"
     },
     "output_type": "display_data"
    }
   ],
   "source": [
    "clients_data.hist(figsize=(10, 10));"
   ]
  },
  {
   "cell_type": "code",
   "execution_count": 10,
   "metadata": {},
   "outputs": [
    {
     "data": {
      "text/plain": [
       "Пол                  0\n",
       "Возраст              0\n",
       "Зарплата             0\n",
       "Члены семьи          0\n",
       "Страховые выплаты    0\n",
       "dtype: int64"
      ]
     },
     "execution_count": 10,
     "metadata": {},
     "output_type": "execute_result"
    }
   ],
   "source": [
    "clients_data.isnull().sum()"
   ]
  },
  {
   "cell_type": "code",
   "execution_count": 11,
   "metadata": {},
   "outputs": [
    {
     "data": {
      "text/plain": [
       "Пол                    int64\n",
       "Возраст              float64\n",
       "Зарплата             float64\n",
       "Члены семьи            int64\n",
       "Страховые выплаты      int64\n",
       "dtype: object"
      ]
     },
     "execution_count": 11,
     "metadata": {},
     "output_type": "execute_result"
    }
   ],
   "source": [
    "clients_data.dtypes"
   ]
  },
  {
   "cell_type": "markdown",
   "metadata": {},
   "source": [
    "### Краткий вывод"
   ]
  },
  {
   "cell_type": "markdown",
   "metadata": {},
   "source": [
    "на данном этапе были рассмотрены представленные данные, где обнаружено, что:\n",
    "* имеется 5000 строк в 5 столбцах;\n",
    "* в двнных отсутствуют пропуски;\n",
    "* присутствуют дубликаты;\n",
    "* присутствует сильная положительная зависимость данных в столбце \"Страховые выплаты\" с столбцом \"Возраст\";\n",
    "* зависимость между другими столбцами близка к нулю.\n",
    "\n",
    "ТК в наборе отсуствуют идентификаторы клиентов, сказать с точностью, что это полные дубликаты или это полное совпадение данных клиентов нельзя. В связи с чем удалять их не будем.  "
   ]
  },
  {
   "cell_type": "markdown",
   "metadata": {},
   "source": [
    "## Умножение матриц"
   ]
  },
  {
   "cell_type": "markdown",
   "metadata": {},
   "source": [
    "напишем функцию для создания матрицы"
   ]
  },
  {
   "cell_type": "code",
   "execution_count": 12,
   "metadata": {},
   "outputs": [],
   "source": [
    "def new_matrix(row=4, col=4):\n",
    "    res = list(\n",
    "        [list(np.random.randint(1,10,col))\n",
    "         for _ in range(row)]\n",
    "    )\n",
    "    return res"
   ]
  },
  {
   "cell_type": "markdown",
   "metadata": {},
   "source": [
    "создадим функцию для расчета обратной матрицы"
   ]
  },
  {
   "cell_type": "code",
   "execution_count": 13,
   "metadata": {},
   "outputs": [],
   "source": [
    "def get_matrix_inv(len_A:int=4):\n",
    "    while True:\n",
    "        A = new_matrix()\n",
    "        det_A = np.linalg.det(A)\n",
    "        if det_A == 0:\n",
    "            continue\n",
    "        res, tmp = [], []\n",
    "        for row in range(len_A):\n",
    "            for col in range(len_A):\n",
    "                for j in (A[:row] + A[row + 1:]):\n",
    "                    tmp.append(j[:col] + j[col + 1: ])\n",
    "                res.append(\n",
    "                    ((-1) ** (row + col) * (np.linalg.det(tmp))) / det_A\n",
    "                )\n",
    "                tmp = []\n",
    "        else:\n",
    "            break\n",
    "    #print(det_A)\n",
    "        \n",
    "    return np.array(res).reshape((len_A,len_A)).T, A"
   ]
  },
  {
   "cell_type": "markdown",
   "metadata": {},
   "source": [
    "альтернативныый способ получения матрицы и ее инверсии"
   ]
  },
  {
   "cell_type": "code",
   "execution_count": 14,
   "metadata": {},
   "outputs": [],
   "source": [
    "def get_matrix_another(row:int=4, col:int=4):\n",
    "    while True:\n",
    "        matrix_A = np.random.rand(row, col)\n",
    "        try:\n",
    "            matrix_B = np.linalg.inv(matrix_A)\n",
    "            break\n",
    "        except LinAlgError:\n",
    "            pass\n",
    "    return matrix_B, matrix_A"
   ]
  },
  {
   "cell_type": "markdown",
   "metadata": {},
   "source": [
    "матрицы можно умножить друг на друга только в том случае, если количество столбцов первой матрицы равно количеству строк второй матрицы.\n",
    "при умножении заданной матрицы на обратную ей, то результатом такого действия будет еденичная матрица."
   ]
  },
  {
   "cell_type": "markdown",
   "metadata": {},
   "source": [
    "### Математическое обоснование"
   ]
  },
  {
   "cell_type": "markdown",
   "metadata": {},
   "source": [
    "Обозначения:\n",
    "\n",
    "- $X$ — матрица признаков (нулевой столбец состоит из единиц)\n",
    "\n",
    "- $y$ — вектор целевого признака\n",
    "\n",
    "- $P$ — матрица, на которую умножаются признаки\n",
    "\n",
    "- $w$ — вектор весов линейной регрессии (нулевой элемент равен сдвигу)"
   ]
  },
  {
   "cell_type": "markdown",
   "metadata": {},
   "source": [
    "Предсказания:\n",
    "\n",
    "$$\n",
    "a = Xw\n",
    "$$\n",
    "\n",
    "Задача обучения:\n",
    "\n",
    "$$\n",
    "w = \\arg\\min_w MSE(Xw, y)\n",
    "$$\n",
    "\n",
    "Формула обучения:\n",
    "\n",
    "$$\n",
    "w = (X^T X)^{-1} X^T y\n",
    "$$"
   ]
  },
  {
   "cell_type": "markdown",
   "metadata": {},
   "source": [
    "при умножении данных на случайную обратимую матрицу (Р) формула для обучения линейной регресси примет вид:\n",
    "$w' = ((XP)^T (XP))^{-1} (XP)^T y$,"
   ]
  },
  {
   "cell_type": "markdown",
   "metadata": {},
   "source": [
    "используя свойство транспонирования матриц $(AB)^T = B^T A^T$ \n",
    "\n",
    "и свойство произведения обратной матрицы где $(AB)^{-1} = B^{-1} A^{-1}$ \n",
    "\n",
    "раскроем скобки:\n",
    "\n",
    "$((XP)^T (XP))^{-1}$ =  $(XP)^{-1} ((XP)^T)^{-1}$ и равно $(XP)^{-1}(P^T X^T)^{-1} $ следовательно,\n",
    "\n",
    "$w' = (P^T X^T XP)^{-1} P^TX^T y$\n",
    "\n",
    "используя свойство роизведения обратной матрицы и представив $A = P^T X^T X$ a $B = P$ вынесем Р за скобки и получим:\n",
    "\n",
    "$w' = (P^{-1}(P^TX^T X)^{-1}) (P^TX^T) y$\n",
    "\n",
    "аналогично $A = P^T$ a $B = X^T X$ :\n",
    "\n",
    "$w' = P^{-1}(X^T X)^{-1} (P^T)^{-1} P^TX^T y$\n"
   ]
  },
  {
   "cell_type": "markdown",
   "metadata": {},
   "source": [
    "тк $(P^T)^{-1} P^T$ будет равно единичной матрице, а при умножении матрицы на единичную ролуяаем первоначальную матрицу, то формула примет вид:\n",
    "\n",
    "$w' = P^{-1}(X^T X)^{-1} X^T y$"
   ]
  },
  {
   "cell_type": "markdown",
   "metadata": {},
   "source": [
    "учитывая, что $w = (X^T X)^{-1} X^T y$ подставим это значение в формулу:\n",
    "\n",
    "$w' = P^{-1}w$"
   ]
  },
  {
   "cell_type": "markdown",
   "metadata": {},
   "source": [
    "зная, что формула предсказания равна $a = Xw$ и соответственно $a' = XPw'$, подставив значения получим:\n",
    "\n",
    "$a' = XPP^{-1}w$\n",
    "\n",
    "$a' = Xw$\n",
    "соответствено $a' = a$\n",
    "\n",
    "что и тебовалось доказать)"
   ]
  },
  {
   "cell_type": "markdown",
   "metadata": {},
   "source": [
    "**Ответ:** Качество линейной регрессии не изменится. "
   ]
  },
  {
   "cell_type": "markdown",
   "metadata": {},
   "source": [
    "**Обоснование:** Так как предсказания по признакам и предсказания по признакам умноженным на обратимую матрицу равны качество линейной регрессии не изменится. "
   ]
  },
  {
   "cell_type": "markdown",
   "metadata": {},
   "source": [
    "### Проверка расчетов"
   ]
  },
  {
   "cell_type": "markdown",
   "metadata": {},
   "source": [
    "Разделим выборку на признаки"
   ]
  },
  {
   "cell_type": "code",
   "execution_count": 15,
   "metadata": {},
   "outputs": [],
   "source": [
    "target = clients_data['Страховые выплаты'].values\n",
    "train = clients_data.drop(columns='Страховые выплаты').values"
   ]
  },
  {
   "cell_type": "code",
   "execution_count": 16,
   "metadata": {},
   "outputs": [
    {
     "name": "stdout",
     "output_type": "stream",
     "text": [
      "тип target <class 'numpy.ndarray'> \n",
      " размер (5000,)\n",
      "тип train <class 'numpy.ndarray'> \n",
      " размер (5000, 4)\n"
     ]
    }
   ],
   "source": [
    "print('тип target', type(target),'\\n', 'размер', target.shape)\n",
    "print('тип train', type(target),'\\n', 'размер', train.shape)"
   ]
  },
  {
   "cell_type": "markdown",
   "metadata": {},
   "source": [
    "в результяте разделения данных получили матрицу 4 * 5000 из признаков и вектор в 5000 значений"
   ]
  },
  {
   "cell_type": "markdown",
   "metadata": {},
   "source": [
    "ТК матрицы можно умножить друг на друга только в том случае, если количество столбцов первой матрицы равно количеству строк второй матрицы."
   ]
  },
  {
   "cell_type": "markdown",
   "metadata": {},
   "source": [
    "создадим случайную матрицу размером 4 * 4 и обратную к ней."
   ]
  },
  {
   "cell_type": "code",
   "execution_count": 17,
   "metadata": {},
   "outputs": [
    {
     "name": "stdout",
     "output_type": "stream",
     "text": [
      "умножение матрицы на обратную равно еденичной матрице\n"
     ]
    }
   ],
   "source": [
    "matrix_B, matrix_A = get_matrix_another()\n",
    "\n",
    "print(\n",
    "    'умножение матрицы на обратную ',\n",
    "    '' if (np.abs(\n",
    "        np.round_(matrix_A @ matrix_B)) == np.eye(4)).all() else 'не ',\n",
    "    'равно еденичной матрице', sep='')"
   ]
  },
  {
   "cell_type": "markdown",
   "metadata": {},
   "source": [
    "ТК из свойств матриц мы знаем, что умножение матрицы на обратную будет равно еденичной, следовательно матрица A обратная матрице B и наоборот."
   ]
  },
  {
   "cell_type": "markdown",
   "metadata": {},
   "source": [
    "для получения аналогичного результата можно воспользоватся функциями numpy"
   ]
  },
  {
   "cell_type": "code",
   "execution_count": 18,
   "metadata": {},
   "outputs": [
    {
     "name": "stdout",
     "output_type": "stream",
     "text": [
      "умножение матрицы на обратную равно еденичной матрице\n"
     ]
    },
    {
     "data": {
      "text/plain": [
       "0.9999999999999971"
      ]
     },
     "execution_count": 18,
     "metadata": {},
     "output_type": "execute_result"
    }
   ],
   "source": [
    "matrix_B, matrix_A = get_matrix_inv()\n",
    "\n",
    "print(\n",
    "    'умножение матрицы на обратную ',\n",
    "    '' if (np.abs(\n",
    "        np.round_(matrix_A @ matrix_B)) == np.eye(4)).all() else 'не ',\n",
    "    'равно еденичной матрице', sep='')\n",
    "np.linalg.det(np.array(matrix_A @ matrix_B))"
   ]
  },
  {
   "cell_type": "markdown",
   "metadata": {},
   "source": [
    "тк детерминат единичной матрицы равен 1, а учитывая, что операции с числами с плавающей точкой (из-за особенностей языка) имеют погрешность, то можно сказать, что результатом умножения полученных матриц будет еденичная матрица."
   ]
  },
  {
   "cell_type": "markdown",
   "metadata": {},
   "source": [
    "умножим случайную матрицу на матрицу полученную из признаков"
   ]
  },
  {
   "cell_type": "code",
   "execution_count": 19,
   "metadata": {},
   "outputs": [],
   "source": [
    "train_matrix = train.dot(matrix_A)"
   ]
  },
  {
   "cell_type": "markdown",
   "metadata": {},
   "source": [
    "посмотрим, что получилось\n"
   ]
  },
  {
   "cell_type": "code",
   "execution_count": 20,
   "metadata": {},
   "outputs": [
    {
     "data": {
      "text/html": [
       "<div>\n",
       "<style scoped>\n",
       "    .dataframe tbody tr th:only-of-type {\n",
       "        vertical-align: middle;\n",
       "    }\n",
       "\n",
       "    .dataframe tbody tr th {\n",
       "        vertical-align: top;\n",
       "    }\n",
       "\n",
       "    .dataframe thead th {\n",
       "        text-align: right;\n",
       "    }\n",
       "</style>\n",
       "<table border=\"1\" class=\"dataframe\">\n",
       "  <thead>\n",
       "    <tr style=\"text-align: right;\">\n",
       "      <th></th>\n",
       "      <th>Пол</th>\n",
       "      <th>Возраст</th>\n",
       "      <th>Зарплата</th>\n",
       "      <th>Члены семьи</th>\n",
       "    </tr>\n",
       "  </thead>\n",
       "  <tbody>\n",
       "    <tr>\n",
       "      <th>0</th>\n",
       "      <td>99451.0</td>\n",
       "      <td>297815.0</td>\n",
       "      <td>248297.0</td>\n",
       "      <td>347580.0</td>\n",
       "    </tr>\n",
       "    <tr>\n",
       "      <th>1</th>\n",
       "      <td>76278.0</td>\n",
       "      <td>228233.0</td>\n",
       "      <td>190328.0</td>\n",
       "      <td>266420.0</td>\n",
       "    </tr>\n",
       "    <tr>\n",
       "      <th>2</th>\n",
       "      <td>42174.0</td>\n",
       "      <td>126145.0</td>\n",
       "      <td>105203.0</td>\n",
       "      <td>147261.0</td>\n",
       "    </tr>\n",
       "    <tr>\n",
       "      <th>3</th>\n",
       "      <td>83530.0</td>\n",
       "      <td>250311.0</td>\n",
       "      <td>208659.0</td>\n",
       "      <td>292101.0</td>\n",
       "    </tr>\n",
       "    <tr>\n",
       "      <th>4</th>\n",
       "      <td>52371.0</td>\n",
       "      <td>156747.0</td>\n",
       "      <td>130700.0</td>\n",
       "      <td>182957.0</td>\n",
       "    </tr>\n",
       "  </tbody>\n",
       "</table>\n",
       "</div>"
      ],
      "text/plain": [
       "       Пол   Возраст  Зарплата  Члены семьи\n",
       "0  99451.0  297815.0  248297.0     347580.0\n",
       "1  76278.0  228233.0  190328.0     266420.0\n",
       "2  42174.0  126145.0  105203.0     147261.0\n",
       "3  83530.0  250311.0  208659.0     292101.0\n",
       "4  52371.0  156747.0  130700.0     182957.0"
      ]
     },
     "execution_count": 20,
     "metadata": {},
     "output_type": "execute_result"
    }
   ],
   "source": [
    "pd.DataFrame(train_matrix, columns=clients_data.columns[: -1]).head()"
   ]
  },
  {
   "cell_type": "markdown",
   "metadata": {},
   "source": [
    "и исходная"
   ]
  },
  {
   "cell_type": "code",
   "execution_count": 21,
   "metadata": {},
   "outputs": [
    {
     "data": {
      "text/html": [
       "<div>\n",
       "<style scoped>\n",
       "    .dataframe tbody tr th:only-of-type {\n",
       "        vertical-align: middle;\n",
       "    }\n",
       "\n",
       "    .dataframe tbody tr th {\n",
       "        vertical-align: top;\n",
       "    }\n",
       "\n",
       "    .dataframe thead th {\n",
       "        text-align: right;\n",
       "    }\n",
       "</style>\n",
       "<table border=\"1\" class=\"dataframe\">\n",
       "  <thead>\n",
       "    <tr style=\"text-align: right;\">\n",
       "      <th></th>\n",
       "      <th>Пол</th>\n",
       "      <th>Возраст</th>\n",
       "      <th>Зарплата</th>\n",
       "      <th>Члены семьи</th>\n",
       "    </tr>\n",
       "  </thead>\n",
       "  <tbody>\n",
       "    <tr>\n",
       "      <th>0</th>\n",
       "      <td>1</td>\n",
       "      <td>41.0</td>\n",
       "      <td>49600.0</td>\n",
       "      <td>1</td>\n",
       "    </tr>\n",
       "    <tr>\n",
       "      <th>1</th>\n",
       "      <td>0</td>\n",
       "      <td>46.0</td>\n",
       "      <td>38000.0</td>\n",
       "      <td>1</td>\n",
       "    </tr>\n",
       "    <tr>\n",
       "      <th>2</th>\n",
       "      <td>0</td>\n",
       "      <td>29.0</td>\n",
       "      <td>21000.0</td>\n",
       "      <td>0</td>\n",
       "    </tr>\n",
       "    <tr>\n",
       "      <th>3</th>\n",
       "      <td>0</td>\n",
       "      <td>21.0</td>\n",
       "      <td>41700.0</td>\n",
       "      <td>2</td>\n",
       "    </tr>\n",
       "    <tr>\n",
       "      <th>4</th>\n",
       "      <td>1</td>\n",
       "      <td>28.0</td>\n",
       "      <td>26100.0</td>\n",
       "      <td>0</td>\n",
       "    </tr>\n",
       "  </tbody>\n",
       "</table>\n",
       "</div>"
      ],
      "text/plain": [
       "   Пол  Возраст  Зарплата  Члены семьи\n",
       "0    1     41.0   49600.0            1\n",
       "1    0     46.0   38000.0            1\n",
       "2    0     29.0   21000.0            0\n",
       "3    0     21.0   41700.0            2\n",
       "4    1     28.0   26100.0            0"
      ]
     },
     "execution_count": 21,
     "metadata": {},
     "output_type": "execute_result"
    }
   ],
   "source": [
    "clients_data.drop(columns=['Страховые выплаты']).head()"
   ]
  },
  {
   "cell_type": "code",
   "execution_count": 22,
   "metadata": {},
   "outputs": [
    {
     "name": "stdout",
     "output_type": "stream",
     "text": [
      "наборы не равны\n"
     ]
    }
   ],
   "source": [
    "print('наборы ', \n",
    "      '' if (train == train_matrix).all() else 'не ',\n",
    "      'равны', sep='')"
   ]
  },
  {
   "cell_type": "code",
   "execution_count": 23,
   "metadata": {},
   "outputs": [
    {
     "data": {
      "text/html": [
       "<div>\n",
       "<style scoped>\n",
       "    .dataframe tbody tr th:only-of-type {\n",
       "        vertical-align: middle;\n",
       "    }\n",
       "\n",
       "    .dataframe tbody tr th {\n",
       "        vertical-align: top;\n",
       "    }\n",
       "\n",
       "    .dataframe thead th {\n",
       "        text-align: right;\n",
       "    }\n",
       "</style>\n",
       "<table border=\"1\" class=\"dataframe\">\n",
       "  <thead>\n",
       "    <tr style=\"text-align: right;\">\n",
       "      <th></th>\n",
       "      <th>Пол</th>\n",
       "      <th>Возраст</th>\n",
       "      <th>Зарплата</th>\n",
       "      <th>Члены семьи</th>\n",
       "    </tr>\n",
       "  </thead>\n",
       "  <tbody>\n",
       "    <tr>\n",
       "      <th>Пол</th>\n",
       "      <td>1.000000</td>\n",
       "      <td>0.999998</td>\n",
       "      <td>0.999999</td>\n",
       "      <td>0.999999</td>\n",
       "    </tr>\n",
       "    <tr>\n",
       "      <th>Возраст</th>\n",
       "      <td>0.999998</td>\n",
       "      <td>1.000000</td>\n",
       "      <td>1.000000</td>\n",
       "      <td>1.000000</td>\n",
       "    </tr>\n",
       "    <tr>\n",
       "      <th>Зарплата</th>\n",
       "      <td>0.999999</td>\n",
       "      <td>1.000000</td>\n",
       "      <td>1.000000</td>\n",
       "      <td>1.000000</td>\n",
       "    </tr>\n",
       "    <tr>\n",
       "      <th>Члены семьи</th>\n",
       "      <td>0.999999</td>\n",
       "      <td>1.000000</td>\n",
       "      <td>1.000000</td>\n",
       "      <td>1.000000</td>\n",
       "    </tr>\n",
       "  </tbody>\n",
       "</table>\n",
       "</div>"
      ],
      "text/plain": [
       "                  Пол   Возраст  Зарплата  Члены семьи\n",
       "Пол          1.000000  0.999998  0.999999     0.999999\n",
       "Возраст      0.999998  1.000000  1.000000     1.000000\n",
       "Зарплата     0.999999  1.000000  1.000000     1.000000\n",
       "Члены семьи  0.999999  1.000000  1.000000     1.000000"
      ]
     },
     "execution_count": 23,
     "metadata": {},
     "output_type": "execute_result"
    }
   ],
   "source": [
    "pd.DataFrame(train_matrix, columns=clients_data.columns[: -1]).corr()"
   ]
  },
  {
   "cell_type": "code",
   "execution_count": 24,
   "metadata": {},
   "outputs": [
    {
     "data": {
      "text/html": [
       "<div>\n",
       "<style scoped>\n",
       "    .dataframe tbody tr th:only-of-type {\n",
       "        vertical-align: middle;\n",
       "    }\n",
       "\n",
       "    .dataframe tbody tr th {\n",
       "        vertical-align: top;\n",
       "    }\n",
       "\n",
       "    .dataframe thead th {\n",
       "        text-align: right;\n",
       "    }\n",
       "</style>\n",
       "<table border=\"1\" class=\"dataframe\">\n",
       "  <thead>\n",
       "    <tr style=\"text-align: right;\">\n",
       "      <th></th>\n",
       "      <th>Пол</th>\n",
       "      <th>Возраст</th>\n",
       "      <th>Зарплата</th>\n",
       "      <th>Члены семьи</th>\n",
       "    </tr>\n",
       "  </thead>\n",
       "  <tbody>\n",
       "    <tr>\n",
       "      <th>Пол</th>\n",
       "      <td>1.000000</td>\n",
       "      <td>0.002074</td>\n",
       "      <td>0.014910</td>\n",
       "      <td>-0.008991</td>\n",
       "    </tr>\n",
       "    <tr>\n",
       "      <th>Возраст</th>\n",
       "      <td>0.002074</td>\n",
       "      <td>1.000000</td>\n",
       "      <td>-0.019093</td>\n",
       "      <td>-0.006692</td>\n",
       "    </tr>\n",
       "    <tr>\n",
       "      <th>Зарплата</th>\n",
       "      <td>0.014910</td>\n",
       "      <td>-0.019093</td>\n",
       "      <td>1.000000</td>\n",
       "      <td>-0.030296</td>\n",
       "    </tr>\n",
       "    <tr>\n",
       "      <th>Члены семьи</th>\n",
       "      <td>-0.008991</td>\n",
       "      <td>-0.006692</td>\n",
       "      <td>-0.030296</td>\n",
       "      <td>1.000000</td>\n",
       "    </tr>\n",
       "  </tbody>\n",
       "</table>\n",
       "</div>"
      ],
      "text/plain": [
       "                  Пол   Возраст  Зарплата  Члены семьи\n",
       "Пол          1.000000  0.002074  0.014910    -0.008991\n",
       "Возраст      0.002074  1.000000 -0.019093    -0.006692\n",
       "Зарплата     0.014910 -0.019093  1.000000    -0.030296\n",
       "Члены семьи -0.008991 -0.006692 -0.030296     1.000000"
      ]
     },
     "execution_count": 24,
     "metadata": {},
     "output_type": "execute_result"
    }
   ],
   "source": [
    "clients_data.drop(columns=['Страховые выплаты']).corr()"
   ]
  },
  {
   "cell_type": "markdown",
   "metadata": {},
   "source": [
    "как видно из тфблиц двнные сильно отличаются и не соответствуют первичному набору, также и не соответсятвуют и данные о корреляции"
   ]
  },
  {
   "cell_type": "markdown",
   "metadata": {},
   "source": [
    "востановим данные из преобразованной матрицы путем умножения на обратную матрицу для мартицы, которой были зашифрованы данные"
   ]
  },
  {
   "cell_type": "code",
   "execution_count": 25,
   "metadata": {},
   "outputs": [
    {
     "data": {
      "text/html": [
       "<div>\n",
       "<style scoped>\n",
       "    .dataframe tbody tr th:only-of-type {\n",
       "        vertical-align: middle;\n",
       "    }\n",
       "\n",
       "    .dataframe tbody tr th {\n",
       "        vertical-align: top;\n",
       "    }\n",
       "\n",
       "    .dataframe thead th {\n",
       "        text-align: right;\n",
       "    }\n",
       "</style>\n",
       "<table border=\"1\" class=\"dataframe\">\n",
       "  <thead>\n",
       "    <tr style=\"text-align: right;\">\n",
       "      <th></th>\n",
       "      <th>Пол</th>\n",
       "      <th>Возраст</th>\n",
       "      <th>Зарплата</th>\n",
       "      <th>Члены семьи</th>\n",
       "      <th>Страховые выплаты</th>\n",
       "    </tr>\n",
       "  </thead>\n",
       "  <tbody>\n",
       "    <tr>\n",
       "      <th>Пол</th>\n",
       "      <td>True</td>\n",
       "      <td>True</td>\n",
       "      <td>True</td>\n",
       "      <td>True</td>\n",
       "      <td>True</td>\n",
       "    </tr>\n",
       "    <tr>\n",
       "      <th>Возраст</th>\n",
       "      <td>True</td>\n",
       "      <td>True</td>\n",
       "      <td>True</td>\n",
       "      <td>True</td>\n",
       "      <td>True</td>\n",
       "    </tr>\n",
       "    <tr>\n",
       "      <th>Зарплата</th>\n",
       "      <td>True</td>\n",
       "      <td>True</td>\n",
       "      <td>True</td>\n",
       "      <td>True</td>\n",
       "      <td>True</td>\n",
       "    </tr>\n",
       "    <tr>\n",
       "      <th>Члены семьи</th>\n",
       "      <td>True</td>\n",
       "      <td>True</td>\n",
       "      <td>True</td>\n",
       "      <td>True</td>\n",
       "      <td>True</td>\n",
       "    </tr>\n",
       "    <tr>\n",
       "      <th>Страховые выплаты</th>\n",
       "      <td>True</td>\n",
       "      <td>True</td>\n",
       "      <td>True</td>\n",
       "      <td>True</td>\n",
       "      <td>True</td>\n",
       "    </tr>\n",
       "  </tbody>\n",
       "</table>\n",
       "</div>"
      ],
      "text/plain": [
       "                    Пол  Возраст  Зарплата  Члены семьи  Страховые выплаты\n",
       "Пол                True     True      True         True               True\n",
       "Возраст            True     True      True         True               True\n",
       "Зарплата           True     True      True         True               True\n",
       "Члены семьи        True     True      True         True               True\n",
       "Страховые выплаты  True     True      True         True               True"
      ]
     },
     "execution_count": 25,
     "metadata": {},
     "output_type": "execute_result"
    }
   ],
   "source": [
    "restored_clients_data = pd.concat(\n",
    "    [\n",
    "        pd.DataFrame(\n",
    "            np.round_(train_matrix @ matrix_B),\n",
    "            columns=clients_data.drop(\n",
    "                columns='Страховые выплаты').columns),\n",
    "        pd.DataFrame(target, columns=['Страховые выплаты']),\n",
    "    ],\n",
    "    axis=1,\n",
    ")\n",
    "restored_clients_data.corr() == clients_data.corr()"
   ]
  },
  {
   "cell_type": "code",
   "execution_count": 26,
   "metadata": {},
   "outputs": [
    {
     "data": {
      "text/html": [
       "<div>\n",
       "<style scoped>\n",
       "    .dataframe tbody tr th:only-of-type {\n",
       "        vertical-align: middle;\n",
       "    }\n",
       "\n",
       "    .dataframe tbody tr th {\n",
       "        vertical-align: top;\n",
       "    }\n",
       "\n",
       "    .dataframe thead th {\n",
       "        text-align: right;\n",
       "    }\n",
       "</style>\n",
       "<table border=\"1\" class=\"dataframe\">\n",
       "  <thead>\n",
       "    <tr style=\"text-align: right;\">\n",
       "      <th></th>\n",
       "      <th>Пол</th>\n",
       "      <th>Возраст</th>\n",
       "      <th>Зарплата</th>\n",
       "      <th>Члены семьи</th>\n",
       "      <th>Страховые выплаты</th>\n",
       "    </tr>\n",
       "  </thead>\n",
       "  <tbody>\n",
       "    <tr>\n",
       "      <th>0</th>\n",
       "      <td>True</td>\n",
       "      <td>True</td>\n",
       "      <td>True</td>\n",
       "      <td>True</td>\n",
       "      <td>True</td>\n",
       "    </tr>\n",
       "    <tr>\n",
       "      <th>1</th>\n",
       "      <td>True</td>\n",
       "      <td>True</td>\n",
       "      <td>True</td>\n",
       "      <td>True</td>\n",
       "      <td>True</td>\n",
       "    </tr>\n",
       "    <tr>\n",
       "      <th>2</th>\n",
       "      <td>True</td>\n",
       "      <td>True</td>\n",
       "      <td>True</td>\n",
       "      <td>True</td>\n",
       "      <td>True</td>\n",
       "    </tr>\n",
       "    <tr>\n",
       "      <th>3</th>\n",
       "      <td>True</td>\n",
       "      <td>True</td>\n",
       "      <td>True</td>\n",
       "      <td>True</td>\n",
       "      <td>True</td>\n",
       "    </tr>\n",
       "    <tr>\n",
       "      <th>4</th>\n",
       "      <td>True</td>\n",
       "      <td>True</td>\n",
       "      <td>True</td>\n",
       "      <td>True</td>\n",
       "      <td>True</td>\n",
       "    </tr>\n",
       "  </tbody>\n",
       "</table>\n",
       "</div>"
      ],
      "text/plain": [
       "    Пол  Возраст  Зарплата  Члены семьи  Страховые выплаты\n",
       "0  True     True      True         True               True\n",
       "1  True     True      True         True               True\n",
       "2  True     True      True         True               True\n",
       "3  True     True      True         True               True\n",
       "4  True     True      True         True               True"
      ]
     },
     "execution_count": 26,
     "metadata": {},
     "output_type": "execute_result"
    }
   ],
   "source": [
    "restored_clients_data.head() == clients_data.head()"
   ]
  },
  {
   "cell_type": "code",
   "execution_count": 27,
   "metadata": {},
   "outputs": [
    {
     "data": {
      "text/html": [
       "<div>\n",
       "<style scoped>\n",
       "    .dataframe tbody tr th:only-of-type {\n",
       "        vertical-align: middle;\n",
       "    }\n",
       "\n",
       "    .dataframe tbody tr th {\n",
       "        vertical-align: top;\n",
       "    }\n",
       "\n",
       "    .dataframe thead th {\n",
       "        text-align: right;\n",
       "    }\n",
       "</style>\n",
       "<table border=\"1\" class=\"dataframe\">\n",
       "  <thead>\n",
       "    <tr style=\"text-align: right;\">\n",
       "      <th></th>\n",
       "      <th>Пол</th>\n",
       "      <th>Возраст</th>\n",
       "      <th>Зарплата</th>\n",
       "      <th>Члены семьи</th>\n",
       "      <th>Страховые выплаты</th>\n",
       "    </tr>\n",
       "  </thead>\n",
       "  <tbody>\n",
       "    <tr>\n",
       "      <th>0</th>\n",
       "      <td>1.0</td>\n",
       "      <td>41.0</td>\n",
       "      <td>49600.0</td>\n",
       "      <td>1.0</td>\n",
       "      <td>0</td>\n",
       "    </tr>\n",
       "    <tr>\n",
       "      <th>1</th>\n",
       "      <td>-0.0</td>\n",
       "      <td>46.0</td>\n",
       "      <td>38000.0</td>\n",
       "      <td>1.0</td>\n",
       "      <td>1</td>\n",
       "    </tr>\n",
       "    <tr>\n",
       "      <th>2</th>\n",
       "      <td>-0.0</td>\n",
       "      <td>29.0</td>\n",
       "      <td>21000.0</td>\n",
       "      <td>-0.0</td>\n",
       "      <td>0</td>\n",
       "    </tr>\n",
       "    <tr>\n",
       "      <th>3</th>\n",
       "      <td>-0.0</td>\n",
       "      <td>21.0</td>\n",
       "      <td>41700.0</td>\n",
       "      <td>2.0</td>\n",
       "      <td>0</td>\n",
       "    </tr>\n",
       "    <tr>\n",
       "      <th>4</th>\n",
       "      <td>1.0</td>\n",
       "      <td>28.0</td>\n",
       "      <td>26100.0</td>\n",
       "      <td>-0.0</td>\n",
       "      <td>0</td>\n",
       "    </tr>\n",
       "  </tbody>\n",
       "</table>\n",
       "</div>"
      ],
      "text/plain": [
       "   Пол  Возраст  Зарплата  Члены семьи  Страховые выплаты\n",
       "0  1.0     41.0   49600.0          1.0                  0\n",
       "1 -0.0     46.0   38000.0          1.0                  1\n",
       "2 -0.0     29.0   21000.0         -0.0                  0\n",
       "3 -0.0     21.0   41700.0          2.0                  0\n",
       "4  1.0     28.0   26100.0         -0.0                  0"
      ]
     },
     "execution_count": 27,
     "metadata": {},
     "output_type": "execute_result"
    }
   ],
   "source": [
    "restored_clients_data.head()"
   ]
  },
  {
   "cell_type": "code",
   "execution_count": 28,
   "metadata": {},
   "outputs": [
    {
     "name": "stdout",
     "output_type": "stream",
     "text": [
      "данные клиентов равны\n"
     ]
    }
   ],
   "source": [
    "print(\n",
    "    'данные клиентов ',\n",
    "    '' if all(restored_clients_data == clients_data) else 'не ',\n",
    "    'равны', sep='')"
   ]
  },
  {
   "cell_type": "markdown",
   "metadata": {},
   "source": [
    "как видим наборы стали идентичными. "
   ]
  },
  {
   "cell_type": "markdown",
   "metadata": {},
   "source": [
    "из данных мы видим, что преобразование путем умножения данных на матрицу и востановление данных путем умножения на обраную матрицу работает. однако стоит учеть, что в данном случае сипользовались целочисленные значения. в случае с использованием дробных значений возможна погрешность из-за особенностей языка"
   ]
  },
  {
   "cell_type": "markdown",
   "metadata": {},
   "source": [
    "## Проверка алгоритма"
   ]
  },
  {
   "cell_type": "markdown",
   "metadata": {},
   "source": [
    "по условию задачи нужно выявить изменения показатели метрики R2 на линейной регресси до умножения на матрицу и после"
   ]
  },
  {
   "cell_type": "markdown",
   "metadata": {},
   "source": [
    "для этого создадим второй набор обучующих данных умноженный на матрицу А\n",
    "\n",
    "таргет трогать не будем, он будет общим для обоих наборов"
   ]
  },
  {
   "cell_type": "code",
   "execution_count": 29,
   "metadata": {},
   "outputs": [],
   "source": [
    "features_train, features_test, \\\n",
    "target_train, target_test \\\n",
    "= train_test_split(\n",
    "    train, target,\n",
    "    test_size=0.25, random_state=12345\n",
    ") \n",
    "# для обычной модели\n",
    "\n",
    "features_train_matrix, features_test_matrix, \\\n",
    "target_train_matrix, target_test_matrix \\\n",
    "= train_test_split(\n",
    "    train_matrix, target,\n",
    "    test_size=0.25, random_state=12345\n",
    ")\n",
    "# для преобразованной"
   ]
  },
  {
   "cell_type": "code",
   "execution_count": 30,
   "metadata": {},
   "outputs": [],
   "source": [
    "res_dick = dict()"
   ]
  },
  {
   "cell_type": "code",
   "execution_count": 31,
   "metadata": {},
   "outputs": [],
   "source": [
    "model = LinearRegression()\n",
    "model.fit(features_train_matrix, target_train_matrix)\n",
    "res_dick['шифрованные'] = r2_score(target_test_matrix,\n",
    "                                   model.predict(features_test_matrix))"
   ]
  },
  {
   "cell_type": "code",
   "execution_count": 32,
   "metadata": {},
   "outputs": [],
   "source": [
    "model.fit(features_train, target_train)\n",
    "res_dick['не шифрованные'] = r2_score(target_test, model.predict(features_test))"
   ]
  },
  {
   "cell_type": "code",
   "execution_count": 33,
   "metadata": {
    "scrolled": true
   },
   "outputs": [
    {
     "data": {
      "text/html": [
       "<div>\n",
       "<style scoped>\n",
       "    .dataframe tbody tr th:only-of-type {\n",
       "        vertical-align: middle;\n",
       "    }\n",
       "\n",
       "    .dataframe tbody tr th {\n",
       "        vertical-align: top;\n",
       "    }\n",
       "\n",
       "    .dataframe thead th {\n",
       "        text-align: right;\n",
       "    }\n",
       "</style>\n",
       "<table border=\"1\" class=\"dataframe\">\n",
       "  <thead>\n",
       "    <tr style=\"text-align: right;\">\n",
       "      <th></th>\n",
       "      <th>шифрованные</th>\n",
       "      <th>не шифрованные</th>\n",
       "    </tr>\n",
       "  </thead>\n",
       "  <tbody>\n",
       "    <tr>\n",
       "      <th>r2_score</th>\n",
       "      <td>0.435228</td>\n",
       "      <td>0.435228</td>\n",
       "    </tr>\n",
       "  </tbody>\n",
       "</table>\n",
       "</div>"
      ],
      "text/plain": [
       "          шифрованные  не шифрованные\n",
       "r2_score     0.435228        0.435228"
      ]
     },
     "execution_count": 33,
     "metadata": {},
     "output_type": "execute_result"
    }
   ],
   "source": [
    "pd.DataFrame(res_dick, index=['r2_score'])"
   ]
  },
  {
   "cell_type": "markdown",
   "metadata": {},
   "source": [
    "как видим из сводной таблицы даные идентичны"
   ]
  },
  {
   "cell_type": "markdown",
   "metadata": {},
   "source": [
    "обратим шифрование"
   ]
  },
  {
   "cell_type": "code",
   "execution_count": 34,
   "metadata": {},
   "outputs": [],
   "source": [
    "train_inv_matrix = train_matrix @ matrix_B"
   ]
  },
  {
   "cell_type": "code",
   "execution_count": 35,
   "metadata": {},
   "outputs": [],
   "source": [
    "features_train_inv_matrix, features_test_inv_matrix,\\\n",
    "target_train_inv_matrix, target_test_inv_matrix \\\n",
    "= train_test_split(\n",
    "    train_inv_matrix, target,\n",
    "    test_size=0.25, random_state=12345\n",
    ")\n",
    "# для востановленной"
   ]
  },
  {
   "cell_type": "code",
   "execution_count": 36,
   "metadata": {},
   "outputs": [],
   "source": [
    "model = LinearRegression()\n",
    "model.fit(features_train_inv_matrix, target_train_inv_matrix)\n",
    "res_dick['преобразованные'] = r2_score(target_test_inv_matrix, model.predict(features_test_inv_matrix))"
   ]
  },
  {
   "cell_type": "code",
   "execution_count": 37,
   "metadata": {},
   "outputs": [
    {
     "data": {
      "text/html": [
       "<div>\n",
       "<style scoped>\n",
       "    .dataframe tbody tr th:only-of-type {\n",
       "        vertical-align: middle;\n",
       "    }\n",
       "\n",
       "    .dataframe tbody tr th {\n",
       "        vertical-align: top;\n",
       "    }\n",
       "\n",
       "    .dataframe thead th {\n",
       "        text-align: right;\n",
       "    }\n",
       "</style>\n",
       "<table border=\"1\" class=\"dataframe\">\n",
       "  <thead>\n",
       "    <tr style=\"text-align: right;\">\n",
       "      <th></th>\n",
       "      <th>шифрованные</th>\n",
       "      <th>не шифрованные</th>\n",
       "      <th>преобразованные</th>\n",
       "    </tr>\n",
       "  </thead>\n",
       "  <tbody>\n",
       "    <tr>\n",
       "      <th>r2_score</th>\n",
       "      <td>0.435228</td>\n",
       "      <td>0.435228</td>\n",
       "      <td>0.435228</td>\n",
       "    </tr>\n",
       "  </tbody>\n",
       "</table>\n",
       "</div>"
      ],
      "text/plain": [
       "          шифрованные  не шифрованные  преобразованные\n",
       "r2_score     0.435228        0.435228         0.435228"
      ]
     },
     "execution_count": 37,
     "metadata": {},
     "output_type": "execute_result"
    }
   ],
   "source": [
    "pd.DataFrame(res_dick, index=['r2_score'])"
   ]
  },
  {
   "cell_type": "markdown",
   "metadata": {},
   "source": [
    "как мы видим, метрика R2 score из-за шифрования не поменялась. \n"
   ]
  },
  {
   "cell_type": "markdown",
   "metadata": {},
   "source": [
    "## Вывод:"
   ]
  },
  {
   "cell_type": "markdown",
   "metadata": {},
   "source": [
    "* на этапе загрузки даных были рассмотрены данные полученные от заказчика, где обнаружено, что:\n",
    "* * имеется 5000 строк в 5 столбцах;\n",
    "* * в двнных отсутствуют пропуски;\n",
    "* * присутствуют дубликаты;\n",
    "* * присутствует сильная положительная зависимость данных в столбце \"Страховые выплаты\" с столбцом \"Возраст\";\n",
    "* * зависимость между другими столбцами близка к нулю.\n",
    "* на этапе умножения матриц:\n",
    "* * рассмотрены варианты (написаны функции) получения случайной квадратной матрицы и обратной к ней\n",
    "  * дано математическое обоснование того, что предсказание модели не изменится при умножении данных на обратимую матрицу\n",
    "  * проведена проверка умножения данных для обучения на обратимую матрицу, для их шифрования, с последующим их восстановлением.\n",
    "* на этапе проверки работы алгоритма:\n",
    "* * расчитаны метрики R2 score для шифрованных, не шифрованных и восстановленных данных\n",
    "  * метрика  \tR2 score не изменилась:\n",
    "  * * r2_score шифрованных данных - 0.435228\n",
    "    * не шифрованных данных - 0.435228\n",
    "    * r2_score восстановленных данных - 0.435228"
   ]
  }
 ],
 "metadata": {
  "ExecuteTimeLog": [
   {
    "duration": 433,
    "start_time": "2023-05-26T01:10:52.059Z"
   },
   {
    "duration": 81,
    "start_time": "2023-05-26T01:10:54.070Z"
   },
   {
    "duration": 20,
    "start_time": "2023-05-26T01:11:06.200Z"
   },
   {
    "duration": 3,
    "start_time": "2023-05-26T01:11:51.507Z"
   },
   {
    "duration": 384,
    "start_time": "2023-05-27T21:20:13.142Z"
   },
   {
    "duration": 167,
    "start_time": "2023-05-27T21:20:13.545Z"
   },
   {
    "duration": 20,
    "start_time": "2023-05-27T21:20:15.035Z"
   },
   {
    "duration": 4,
    "start_time": "2023-05-27T21:20:20.100Z"
   },
   {
    "duration": 73,
    "start_time": "2023-05-27T21:20:40.299Z"
   },
   {
    "duration": 10,
    "start_time": "2023-05-27T21:20:50.991Z"
   },
   {
    "duration": 2,
    "start_time": "2023-05-27T21:21:11.587Z"
   },
   {
    "duration": 4,
    "start_time": "2023-05-27T21:21:18.427Z"
   },
   {
    "duration": 3,
    "start_time": "2023-05-27T21:21:29.386Z"
   },
   {
    "duration": 8,
    "start_time": "2023-05-27T21:21:31.167Z"
   },
   {
    "duration": 3,
    "start_time": "2023-05-27T21:21:42.833Z"
   },
   {
    "duration": 3,
    "start_time": "2023-05-27T21:21:43.423Z"
   },
   {
    "duration": 3,
    "start_time": "2023-05-27T21:21:53.276Z"
   },
   {
    "duration": 5,
    "start_time": "2023-05-27T21:22:04.124Z"
   },
   {
    "duration": 3,
    "start_time": "2023-05-27T21:28:26.030Z"
   },
   {
    "duration": 4,
    "start_time": "2023-05-27T21:28:27.044Z"
   },
   {
    "duration": 4,
    "start_time": "2023-05-27T21:29:17.318Z"
   },
   {
    "duration": 6,
    "start_time": "2023-05-27T21:29:18.144Z"
   },
   {
    "duration": 5,
    "start_time": "2023-05-27T21:29:42.815Z"
   },
   {
    "duration": 50,
    "start_time": "2023-05-27T21:34:58.883Z"
   },
   {
    "duration": 43,
    "start_time": "2023-05-27T21:35:11.467Z"
   },
   {
    "duration": 231,
    "start_time": "2023-05-27T21:35:36.338Z"
   },
   {
    "duration": 413,
    "start_time": "2023-05-27T21:36:01.426Z"
   },
   {
    "duration": 5,
    "start_time": "2023-05-27T21:36:22.231Z"
   },
   {
    "duration": 4,
    "start_time": "2023-05-27T21:36:24.544Z"
   },
   {
    "duration": 10,
    "start_time": "2023-05-27T21:36:28.857Z"
   },
   {
    "duration": 5,
    "start_time": "2023-05-27T21:36:29.336Z"
   },
   {
    "duration": 49,
    "start_time": "2023-05-27T21:36:42.942Z"
   },
   {
    "duration": 4,
    "start_time": "2023-05-27T21:36:47.581Z"
   },
   {
    "duration": 4,
    "start_time": "2023-05-27T21:36:48.272Z"
   },
   {
    "duration": 5,
    "start_time": "2023-05-27T21:36:52.228Z"
   },
   {
    "duration": 5,
    "start_time": "2023-05-27T21:36:52.486Z"
   },
   {
    "duration": 4,
    "start_time": "2023-05-27T21:36:58.413Z"
   },
   {
    "duration": 5,
    "start_time": "2023-05-27T21:36:58.783Z"
   },
   {
    "duration": 4,
    "start_time": "2023-05-27T21:37:03.468Z"
   },
   {
    "duration": 4,
    "start_time": "2023-05-27T21:37:03.733Z"
   },
   {
    "duration": 12,
    "start_time": "2023-05-27T21:37:11.656Z"
   },
   {
    "duration": 6,
    "start_time": "2023-05-27T21:37:12.016Z"
   },
   {
    "duration": 4,
    "start_time": "2023-05-27T21:37:21.090Z"
   },
   {
    "duration": 4,
    "start_time": "2023-05-27T21:37:21.507Z"
   },
   {
    "duration": 8,
    "start_time": "2023-05-27T22:14:36.399Z"
   },
   {
    "duration": 10,
    "start_time": "2023-05-27T22:14:40.724Z"
   },
   {
    "duration": 41,
    "start_time": "2023-05-27T22:26:36.094Z"
   },
   {
    "duration": 4,
    "start_time": "2023-05-27T22:26:36.932Z"
   },
   {
    "duration": 3,
    "start_time": "2023-05-27T22:26:48.245Z"
   },
   {
    "duration": 3,
    "start_time": "2023-05-27T22:26:52.084Z"
   },
   {
    "duration": 4,
    "start_time": "2023-05-27T22:26:52.384Z"
   },
   {
    "duration": 17,
    "start_time": "2023-05-27T22:29:28.390Z"
   },
   {
    "duration": 12,
    "start_time": "2023-05-27T22:29:37.422Z"
   },
   {
    "duration": 8,
    "start_time": "2023-05-27T22:30:00.925Z"
   },
   {
    "duration": 6,
    "start_time": "2023-05-27T22:40:21.985Z"
   },
   {
    "duration": 3,
    "start_time": "2023-05-27T22:41:16.881Z"
   },
   {
    "duration": 20,
    "start_time": "2023-05-27T22:42:05.573Z"
   },
   {
    "duration": 3,
    "start_time": "2023-05-27T22:42:45.290Z"
   },
   {
    "duration": 6,
    "start_time": "2023-05-27T22:43:16.393Z"
   },
   {
    "duration": 12,
    "start_time": "2023-05-27T22:44:00.660Z"
   },
   {
    "duration": 3,
    "start_time": "2023-05-27T22:44:09.597Z"
   },
   {
    "duration": 5,
    "start_time": "2023-05-27T22:44:15.381Z"
   },
   {
    "duration": 5,
    "start_time": "2023-05-27T22:44:21.376Z"
   },
   {
    "duration": 5,
    "start_time": "2023-05-27T22:44:24.288Z"
   },
   {
    "duration": 4,
    "start_time": "2023-05-27T22:45:06.994Z"
   },
   {
    "duration": 4,
    "start_time": "2023-05-27T22:45:19.075Z"
   },
   {
    "duration": 2,
    "start_time": "2023-05-27T22:45:34.599Z"
   },
   {
    "duration": 46,
    "start_time": "2023-05-27T22:45:40.239Z"
   },
   {
    "duration": 13,
    "start_time": "2023-05-27T22:45:44.555Z"
   },
   {
    "duration": 4,
    "start_time": "2023-05-27T22:46:00.843Z"
   },
   {
    "duration": 6,
    "start_time": "2023-05-27T22:46:22.872Z"
   },
   {
    "duration": 2,
    "start_time": "2023-05-27T22:46:39.333Z"
   },
   {
    "duration": 6,
    "start_time": "2023-05-27T22:46:40.652Z"
   },
   {
    "duration": 3,
    "start_time": "2023-05-27T22:46:46.012Z"
   },
   {
    "duration": 6,
    "start_time": "2023-05-27T22:46:51.373Z"
   },
   {
    "duration": 15,
    "start_time": "2023-05-27T22:47:51.406Z"
   },
   {
    "duration": 45,
    "start_time": "2023-05-27T22:48:43.572Z"
   },
   {
    "duration": 16,
    "start_time": "2023-05-27T22:48:53.352Z"
   },
   {
    "duration": 505,
    "start_time": "2023-06-13T08:17:12.940Z"
   },
   {
    "duration": 3943,
    "start_time": "2023-06-13T08:18:57.383Z"
   },
   {
    "duration": 2540,
    "start_time": "2023-06-13T08:19:04.674Z"
   },
   {
    "duration": 786,
    "start_time": "2023-06-13T08:19:21.933Z"
   },
   {
    "duration": 149,
    "start_time": "2023-06-13T08:21:27.942Z"
   },
   {
    "duration": 21,
    "start_time": "2023-06-13T08:21:29.044Z"
   },
   {
    "duration": 66,
    "start_time": "2023-06-13T08:21:30.015Z"
   },
   {
    "duration": 233,
    "start_time": "2023-06-13T08:21:37.110Z"
   },
   {
    "duration": 236,
    "start_time": "2023-06-13T08:21:57.936Z"
   },
   {
    "duration": 223,
    "start_time": "2023-06-13T08:23:20.355Z"
   },
   {
    "duration": 214,
    "start_time": "2023-06-13T08:25:43.882Z"
   },
   {
    "duration": 210,
    "start_time": "2023-06-13T08:26:49.855Z"
   },
   {
    "duration": 235,
    "start_time": "2023-06-13T08:27:19.570Z"
   },
   {
    "duration": 194,
    "start_time": "2023-06-13T08:28:04.150Z"
   },
   {
    "duration": 195,
    "start_time": "2023-06-13T08:28:22.142Z"
   },
   {
    "duration": 200,
    "start_time": "2023-06-13T08:28:49.570Z"
   },
   {
    "duration": 223,
    "start_time": "2023-06-13T08:29:07.472Z"
   },
   {
    "duration": 466,
    "start_time": "2023-06-13T08:29:10.943Z"
   },
   {
    "duration": 240,
    "start_time": "2023-06-13T08:29:20.715Z"
   },
   {
    "duration": 193,
    "start_time": "2023-06-13T08:29:50.770Z"
   },
   {
    "duration": 230,
    "start_time": "2023-06-13T08:32:01.435Z"
   },
   {
    "duration": 240,
    "start_time": "2023-06-13T08:32:13.070Z"
   },
   {
    "duration": 148,
    "start_time": "2023-06-13T08:33:58.111Z"
   },
   {
    "duration": 89,
    "start_time": "2023-06-13T08:34:22.274Z"
   },
   {
    "duration": 91,
    "start_time": "2023-06-13T08:34:43.183Z"
   },
   {
    "duration": 1450,
    "start_time": "2023-06-13T08:37:55.412Z"
   },
   {
    "duration": 29,
    "start_time": "2023-06-13T08:37:56.865Z"
   },
   {
    "duration": 17,
    "start_time": "2023-06-13T08:37:58.472Z"
   },
   {
    "duration": 134,
    "start_time": "2023-06-13T08:37:58.801Z"
   },
   {
    "duration": 9,
    "start_time": "2023-06-13T08:37:59.251Z"
   },
   {
    "duration": 7,
    "start_time": "2023-06-13T08:38:47.865Z"
   },
   {
    "duration": 29,
    "start_time": "2023-06-13T08:38:49.753Z"
   },
   {
    "duration": 16,
    "start_time": "2023-06-13T08:38:51.253Z"
   },
   {
    "duration": 101,
    "start_time": "2023-06-13T08:38:52.239Z"
   },
   {
    "duration": 2357,
    "start_time": "2023-06-13T08:39:27.915Z"
   },
   {
    "duration": 3,
    "start_time": "2023-06-13T08:39:30.275Z"
   },
   {
    "duration": 30,
    "start_time": "2023-06-13T08:39:33.659Z"
   },
   {
    "duration": 15,
    "start_time": "2023-06-13T08:39:35.374Z"
   },
   {
    "duration": 100,
    "start_time": "2023-06-13T08:39:36.826Z"
   },
   {
    "duration": 9,
    "start_time": "2023-06-13T08:39:37.542Z"
   },
   {
    "duration": 157,
    "start_time": "2023-06-13T08:43:03.883Z"
   },
   {
    "duration": 96,
    "start_time": "2023-06-13T08:48:04.859Z"
   },
   {
    "duration": 2225,
    "start_time": "2023-06-13T09:04:51.377Z"
   },
   {
    "duration": 1197,
    "start_time": "2023-06-13T09:04:53.604Z"
   },
   {
    "duration": 29,
    "start_time": "2023-06-13T09:04:54.803Z"
   },
   {
    "duration": 30,
    "start_time": "2023-06-13T09:04:54.835Z"
   },
   {
    "duration": 30,
    "start_time": "2023-06-13T09:04:54.867Z"
   },
   {
    "duration": 96,
    "start_time": "2023-06-13T09:04:54.899Z"
   },
   {
    "duration": 3,
    "start_time": "2023-06-13T09:04:54.996Z"
   },
   {
    "duration": 17,
    "start_time": "2023-06-13T09:04:55.000Z"
   },
   {
    "duration": 1270,
    "start_time": "2023-06-13T09:04:55.018Z"
   },
   {
    "duration": 7,
    "start_time": "2023-06-13T09:04:56.291Z"
   },
   {
    "duration": 17,
    "start_time": "2023-06-13T09:04:56.299Z"
   },
   {
    "duration": 5,
    "start_time": "2023-06-13T09:04:56.318Z"
   },
   {
    "duration": 17,
    "start_time": "2023-06-13T09:04:56.325Z"
   },
   {
    "duration": 41,
    "start_time": "2023-06-13T09:04:56.344Z"
   },
   {
    "duration": 22,
    "start_time": "2023-06-13T09:04:56.387Z"
   },
   {
    "duration": 8,
    "start_time": "2023-06-13T09:04:56.410Z"
   },
   {
    "duration": 18,
    "start_time": "2023-06-13T09:04:56.419Z"
   },
   {
    "duration": 185,
    "start_time": "2023-06-13T09:04:56.442Z"
   },
   {
    "duration": 2,
    "start_time": "2023-06-13T09:05:13.082Z"
   },
   {
    "duration": 10,
    "start_time": "2023-06-13T09:05:14.709Z"
   },
   {
    "duration": 9,
    "start_time": "2023-06-13T09:05:20.288Z"
   },
   {
    "duration": 4,
    "start_time": "2023-06-13T09:05:31.641Z"
   },
   {
    "duration": 9,
    "start_time": "2023-06-13T09:05:32.085Z"
   },
   {
    "duration": 83,
    "start_time": "2023-06-13T09:16:07.076Z"
   },
   {
    "duration": 3,
    "start_time": "2023-06-13T09:16:14.605Z"
   },
   {
    "duration": 5,
    "start_time": "2023-06-13T09:16:14.934Z"
   },
   {
    "duration": 583,
    "start_time": "2023-06-13T09:16:15.594Z"
   },
   {
    "duration": 6,
    "start_time": "2023-06-13T09:16:16.179Z"
   },
   {
    "duration": 5,
    "start_time": "2023-06-13T09:16:16.855Z"
   },
   {
    "duration": 3,
    "start_time": "2023-06-13T09:16:19.409Z"
   },
   {
    "duration": 4,
    "start_time": "2023-06-13T09:16:20.472Z"
   },
   {
    "duration": 3,
    "start_time": "2023-06-13T09:16:21.418Z"
   },
   {
    "duration": 93,
    "start_time": "2023-06-13T13:44:06.418Z"
   },
   {
    "duration": 107,
    "start_time": "2023-06-13T13:45:18.759Z"
   },
   {
    "duration": 2,
    "start_time": "2023-06-13T13:49:18.124Z"
   },
   {
    "duration": 10,
    "start_time": "2023-06-13T13:52:07.532Z"
   },
   {
    "duration": 11,
    "start_time": "2023-06-13T13:53:23.579Z"
   },
   {
    "duration": 8,
    "start_time": "2023-06-13T13:54:42.424Z"
   },
   {
    "duration": 4,
    "start_time": "2023-06-13T13:54:47.191Z"
   },
   {
    "duration": 1968,
    "start_time": "2023-06-13T13:58:53.731Z"
   },
   {
    "duration": 1077,
    "start_time": "2023-06-13T13:58:55.701Z"
   },
   {
    "duration": 41,
    "start_time": "2023-06-13T13:58:56.780Z"
   },
   {
    "duration": 19,
    "start_time": "2023-06-13T13:58:56.822Z"
   },
   {
    "duration": 17,
    "start_time": "2023-06-13T13:58:56.843Z"
   },
   {
    "duration": 85,
    "start_time": "2023-06-13T13:58:56.862Z"
   },
   {
    "duration": 4,
    "start_time": "2023-06-13T13:58:56.948Z"
   },
   {
    "duration": 7,
    "start_time": "2023-06-13T13:58:56.953Z"
   },
   {
    "duration": 698,
    "start_time": "2023-06-13T13:58:56.961Z"
   },
   {
    "duration": 5,
    "start_time": "2023-06-13T13:58:57.661Z"
   },
   {
    "duration": 32,
    "start_time": "2023-06-13T13:58:57.667Z"
   },
   {
    "duration": 4,
    "start_time": "2023-06-13T13:58:57.701Z"
   },
   {
    "duration": 9,
    "start_time": "2023-06-13T13:58:57.706Z"
   },
   {
    "duration": 6,
    "start_time": "2023-06-13T13:58:57.718Z"
   },
   {
    "duration": 11,
    "start_time": "2023-06-13T13:58:57.726Z"
   },
   {
    "duration": 19,
    "start_time": "2023-06-13T13:58:57.738Z"
   },
   {
    "duration": 9,
    "start_time": "2023-06-13T13:58:57.758Z"
   },
   {
    "duration": 11,
    "start_time": "2023-06-13T13:58:57.768Z"
   },
   {
    "duration": 3,
    "start_time": "2023-06-13T13:58:57.816Z"
   },
   {
    "duration": 96,
    "start_time": "2023-06-13T13:58:57.821Z"
   },
   {
    "duration": 11,
    "start_time": "2023-06-13T13:58:57.919Z"
   },
   {
    "duration": 28,
    "start_time": "2023-06-13T13:58:57.931Z"
   },
   {
    "duration": 19,
    "start_time": "2023-06-13T13:58:57.960Z"
   },
   {
    "duration": 8,
    "start_time": "2023-06-13T13:58:57.981Z"
   },
   {
    "duration": 13,
    "start_time": "2023-06-13T13:58:57.991Z"
   },
   {
    "duration": 8,
    "start_time": "2023-06-13T13:58:58.005Z"
   },
   {
    "duration": 24,
    "start_time": "2023-06-13T13:58:58.016Z"
   },
   {
    "duration": 63,
    "start_time": "2023-06-13T13:58:58.042Z"
   },
   {
    "duration": 38,
    "start_time": "2023-06-13T13:58:58.106Z"
   },
   {
    "duration": 24,
    "start_time": "2023-06-13T13:58:58.146Z"
   },
   {
    "duration": 120,
    "start_time": "2023-06-13T13:58:58.171Z"
   },
   {
    "duration": 6,
    "start_time": "2023-06-13T14:02:06.198Z"
   },
   {
    "duration": 4,
    "start_time": "2023-06-13T14:03:00.218Z"
   },
   {
    "duration": 7,
    "start_time": "2023-06-13T14:03:00.450Z"
   },
   {
    "duration": 3,
    "start_time": "2023-06-13T14:04:05.790Z"
   },
   {
    "duration": 3,
    "start_time": "2023-06-13T14:04:57.700Z"
   },
   {
    "duration": 4,
    "start_time": "2023-06-13T14:04:58.006Z"
   },
   {
    "duration": 5,
    "start_time": "2023-06-13T14:04:58.355Z"
   },
   {
    "duration": 7,
    "start_time": "2023-06-13T14:04:59.095Z"
   },
   {
    "duration": 2198,
    "start_time": "2023-06-13T14:10:51.212Z"
   },
   {
    "duration": 1079,
    "start_time": "2023-06-13T14:10:53.412Z"
   },
   {
    "duration": 28,
    "start_time": "2023-06-13T14:10:54.493Z"
   },
   {
    "duration": 35,
    "start_time": "2023-06-13T14:10:54.523Z"
   },
   {
    "duration": 26,
    "start_time": "2023-06-13T14:10:54.560Z"
   },
   {
    "duration": 85,
    "start_time": "2023-06-13T14:10:54.587Z"
   },
   {
    "duration": 3,
    "start_time": "2023-06-13T14:10:54.674Z"
   },
   {
    "duration": 21,
    "start_time": "2023-06-13T14:10:54.678Z"
   },
   {
    "duration": 788,
    "start_time": "2023-06-13T14:10:54.701Z"
   },
   {
    "duration": 7,
    "start_time": "2023-06-13T14:10:55.491Z"
   },
   {
    "duration": 40,
    "start_time": "2023-06-13T14:10:55.499Z"
   },
   {
    "duration": 4,
    "start_time": "2023-06-13T14:10:55.541Z"
   },
   {
    "duration": 5,
    "start_time": "2023-06-13T14:10:55.546Z"
   },
   {
    "duration": 5,
    "start_time": "2023-06-13T14:10:55.553Z"
   },
   {
    "duration": 6,
    "start_time": "2023-06-13T14:10:55.559Z"
   },
   {
    "duration": 7,
    "start_time": "2023-06-13T14:10:55.566Z"
   },
   {
    "duration": 6,
    "start_time": "2023-06-13T14:10:55.574Z"
   },
   {
    "duration": 37,
    "start_time": "2023-06-13T14:10:55.581Z"
   },
   {
    "duration": 6,
    "start_time": "2023-06-13T14:10:55.620Z"
   },
   {
    "duration": 99,
    "start_time": "2023-06-13T14:10:55.627Z"
   },
   {
    "duration": 17,
    "start_time": "2023-06-13T14:10:55.727Z"
   },
   {
    "duration": 6,
    "start_time": "2023-06-13T14:10:55.745Z"
   },
   {
    "duration": 10,
    "start_time": "2023-06-13T14:10:55.753Z"
   },
   {
    "duration": 9,
    "start_time": "2023-06-13T14:10:55.765Z"
   },
   {
    "duration": 12,
    "start_time": "2023-06-13T14:10:55.776Z"
   },
   {
    "duration": 31,
    "start_time": "2023-06-13T14:10:55.789Z"
   },
   {
    "duration": 16,
    "start_time": "2023-06-13T14:10:55.822Z"
   },
   {
    "duration": 8,
    "start_time": "2023-06-13T14:10:55.839Z"
   },
   {
    "duration": 9,
    "start_time": "2023-06-13T14:10:55.848Z"
   },
   {
    "duration": 5,
    "start_time": "2023-06-13T14:10:55.858Z"
   },
   {
    "duration": 13,
    "start_time": "2023-06-13T14:10:55.864Z"
   },
   {
    "duration": 11,
    "start_time": "2023-06-13T14:10:55.878Z"
   },
   {
    "duration": 9,
    "start_time": "2023-06-13T14:10:55.890Z"
   },
   {
    "duration": 6,
    "start_time": "2023-06-13T14:10:55.900Z"
   },
   {
    "duration": 6,
    "start_time": "2023-06-13T14:10:55.907Z"
   },
   {
    "duration": 6,
    "start_time": "2023-06-13T14:10:55.915Z"
   },
   {
    "duration": 11,
    "start_time": "2023-06-13T14:10:55.922Z"
   }
  ],
  "kernelspec": {
   "display_name": "Python 3 (ipykernel)",
   "language": "python",
   "name": "python3"
  },
  "language_info": {
   "codemirror_mode": {
    "name": "ipython",
    "version": 3
   },
   "file_extension": ".py",
   "mimetype": "text/x-python",
   "name": "python",
   "nbconvert_exporter": "python",
   "pygments_lexer": "ipython3",
   "version": "3.10.12"
  },
  "toc": {
   "base_numbering": 1,
   "nav_menu": {},
   "number_sections": true,
   "sideBar": true,
   "skip_h1_title": true,
   "title_cell": "Содержание",
   "title_sidebar": "Contents",
   "toc_cell": true,
   "toc_position": {
    "height": "calc(100% - 180px)",
    "left": "10px",
    "top": "150px",
    "width": "165px"
   },
   "toc_section_display": true,
   "toc_window_display": true
  }
 },
 "nbformat": 4,
 "nbformat_minor": 4
}
